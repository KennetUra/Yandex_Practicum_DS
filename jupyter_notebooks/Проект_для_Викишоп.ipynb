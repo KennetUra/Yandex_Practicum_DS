{
 "cells": [
  {
   "cell_type": "markdown",
   "metadata": {},
   "source": [
    "# Проект для «Викишоп»"
   ]
  },
  {
   "cell_type": "markdown",
   "metadata": {},
   "source": [
    "Интернет-магазин «Викишоп» запускает новый сервис. Теперь пользователи могут редактировать и дополнять описания товаров, как в вики-сообществах. То есть клиенты предлагают свои правки и комментируют изменения других. Магазину нужен инструмент, который будет искать токсичные комментарии и отправлять их на модерацию. \n",
    "\n",
    "Обучите модель классифицировать комментарии на позитивные и негативные. В вашем распоряжении набор данных с разметкой о токсичности правок.\n",
    "\n",
    "Постройте модель со значением метрики качества *F1* не меньше 0.75. \n",
    "\n",
    "**Инструкция по выполнению проекта**\n",
    "\n",
    "1. Загрузите и подготовьте данные.\n",
    "2. Обучите разные модели. \n",
    "3. Сделайте выводы.\n",
    "\n",
    "Для выполнения проекта применять *BERT* необязательно, но вы можете попробовать.\n",
    "\n",
    "**Описание данных**\n",
    "\n",
    "Данные находятся в файле `toxic_comments.csv`. Столбец *text* в нём содержит текст комментария, а *toxic* — целевой признак."
   ]
  },
  {
   "cell_type": "markdown",
   "metadata": {
    "jp-MarkdownHeadingCollapsed": true,
    "tags": []
   },
   "source": [
    "#### <font size=\"1\"><b> Комментарий</b></font>\n",
    "<div class=\"alert\" style=\"background-color:#ead7f7;color:#8737bf\">\n",
    "    \n",
    "- Модель CatBoostClassifier лучше всего справилась с задачей, F1 на валидационнойй выборке: 0.78, F1 на тесте 0.77.\n",
    "</div>"
   ]
  },
  {
   "cell_type": "markdown",
   "metadata": {},
   "source": [
    "## Подготовка"
   ]
  },
  {
   "cell_type": "markdown",
   "metadata": {},
   "source": [
    "### import\n",
    "<hr>"
   ]
  },
  {
   "cell_type": "code",
   "execution_count": 1,
   "metadata": {},
   "outputs": [],
   "source": [
    "# убераем предупреждения\n",
    "import warnings\n",
    "warnings.filterwarnings('ignore')"
   ]
  },
  {
   "cell_type": "code",
   "execution_count": 2,
   "metadata": {},
   "outputs": [],
   "source": [
    "# Системные библиотеки\n",
    "import time\n",
    "from tqdm.notebook import tqdm"
   ]
  },
  {
   "cell_type": "code",
   "execution_count": 1,
   "metadata": {},
   "outputs": [],
   "source": [
    "# Основные библиотеки\n",
    "import re\n",
    "import numpy as np\n",
    "import pandas as pd\n",
    "\n",
    "from pymystem3 import Mystem\n",
    "import transformers\n",
    "\n",
    "from tqdm.notebook import tqdm\n",
    "tqdm.pandas()"
   ]
  },
  {
   "cell_type": "markdown",
   "metadata": {},
   "source": [
    "#### spacy\n"
   ]
  },
  {
   "cell_type": "code",
   "execution_count": 4,
   "metadata": {
    "collapsed": true,
    "jupyter": {
     "outputs_hidden": true
    },
    "scrolled": true,
    "tags": []
   },
   "outputs": [
    {
     "name": "stdout",
     "output_type": "stream",
     "text": [
      "Requirement already satisfied: spacy in /opt/conda/lib/python3.9/site-packages (3.2.0)\n",
      "Requirement already satisfied: packaging>=20.0 in /opt/conda/lib/python3.9/site-packages (from spacy) (21.3)\n",
      "Requirement already satisfied: thinc<8.1.0,>=8.0.12 in /opt/conda/lib/python3.9/site-packages (from spacy) (8.0.17)\n",
      "Requirement already satisfied: blis<0.8.0,>=0.4.0 in /opt/conda/lib/python3.9/site-packages (from spacy) (0.7.8)\n",
      "Requirement already satisfied: langcodes<4.0.0,>=3.2.0 in /opt/conda/lib/python3.9/site-packages (from spacy) (3.3.0)\n",
      "Requirement already satisfied: numpy>=1.15.0 in /opt/conda/lib/python3.9/site-packages (from spacy) (1.21.1)\n",
      "Requirement already satisfied: typer<0.5.0,>=0.3.0 in /opt/conda/lib/python3.9/site-packages (from spacy) (0.4.2)\n",
      "Requirement already satisfied: wasabi<1.1.0,>=0.8.1 in /opt/conda/lib/python3.9/site-packages (from spacy) (0.10.1)\n",
      "Requirement already satisfied: srsly<3.0.0,>=2.4.1 in /opt/conda/lib/python3.9/site-packages (from spacy) (2.4.4)\n",
      "Requirement already satisfied: tqdm<5.0.0,>=4.38.0 in /opt/conda/lib/python3.9/site-packages (from spacy) (4.61.2)\n",
      "Requirement already satisfied: pydantic!=1.8,!=1.8.1,<1.9.0,>=1.7.4 in /opt/conda/lib/python3.9/site-packages (from spacy) (1.8.2)\n",
      "Requirement already satisfied: requests<3.0.0,>=2.13.0 in /opt/conda/lib/python3.9/site-packages (from spacy) (2.25.1)\n",
      "Requirement already satisfied: setuptools in /opt/conda/lib/python3.9/site-packages (from spacy) (49.6.0.post20210108)\n",
      "Requirement already satisfied: jinja2 in /opt/conda/lib/python3.9/site-packages (from spacy) (3.0.1)\n",
      "Requirement already satisfied: murmurhash<1.1.0,>=0.28.0 in /opt/conda/lib/python3.9/site-packages (from spacy) (1.0.8)\n",
      "Requirement already satisfied: preshed<3.1.0,>=3.0.2 in /opt/conda/lib/python3.9/site-packages (from spacy) (3.0.7)\n",
      "Requirement already satisfied: spacy-loggers<2.0.0,>=1.0.0 in /opt/conda/lib/python3.9/site-packages (from spacy) (1.0.3)\n",
      "Requirement already satisfied: pathy>=0.3.5 in /opt/conda/lib/python3.9/site-packages (from spacy) (0.6.2)\n",
      "Requirement already satisfied: cymem<2.1.0,>=2.0.2 in /opt/conda/lib/python3.9/site-packages (from spacy) (2.0.6)\n",
      "Requirement already satisfied: spacy-legacy<3.1.0,>=3.0.8 in /opt/conda/lib/python3.9/site-packages (from spacy) (3.0.10)\n",
      "Requirement already satisfied: catalogue<2.1.0,>=2.0.6 in /opt/conda/lib/python3.9/site-packages (from spacy) (2.0.8)\n",
      "Requirement already satisfied: pyparsing!=3.0.5,>=2.0.2 in /opt/conda/lib/python3.9/site-packages (from packaging>=20.0->spacy) (2.4.7)\n",
      "Requirement already satisfied: smart-open<6.0.0,>=5.2.1 in /opt/conda/lib/python3.9/site-packages (from pathy>=0.3.5->spacy) (5.2.1)\n",
      "Requirement already satisfied: typing-extensions>=3.7.4.3 in /opt/conda/lib/python3.9/site-packages (from pydantic!=1.8,!=1.8.1,<1.9.0,>=1.7.4->spacy) (4.3.0)\n",
      "Requirement already satisfied: idna<3,>=2.5 in /opt/conda/lib/python3.9/site-packages (from requests<3.0.0,>=2.13.0->spacy) (2.10)\n",
      "Requirement already satisfied: certifi>=2017.4.17 in /opt/conda/lib/python3.9/site-packages (from requests<3.0.0,>=2.13.0->spacy) (2022.6.15)\n",
      "Requirement already satisfied: chardet<5,>=3.0.2 in /opt/conda/lib/python3.9/site-packages (from requests<3.0.0,>=2.13.0->spacy) (4.0.0)\n",
      "Requirement already satisfied: urllib3<1.27,>=1.21.1 in /opt/conda/lib/python3.9/site-packages (from requests<3.0.0,>=2.13.0->spacy) (1.26.6)\n",
      "Requirement already satisfied: click<9.0.0,>=7.1.1 in /opt/conda/lib/python3.9/site-packages (from typer<0.5.0,>=0.3.0->spacy) (8.1.3)\n",
      "Requirement already satisfied: MarkupSafe>=2.0 in /opt/conda/lib/python3.9/site-packages (from jinja2->spacy) (2.1.1)\n",
      "\u001b[38;5;3m⚠ As of spaCy v3.0, shortcuts like 'en' are deprecated. Please use the\n",
      "full pipeline package name 'en_core_web_sm' instead.\u001b[0m\n",
      "Collecting en-core-web-sm==3.2.0\n",
      "  Downloading https://github.com/explosion/spacy-models/releases/download/en_core_web_sm-3.2.0/en_core_web_sm-3.2.0-py3-none-any.whl (13.9 MB)\n",
      "\u001b[K     |████████████████████████████████| 13.9 MB 1.4 MB/s eta 0:00:01    |█████████████████▋              | 7.6 MB 1.4 MB/s eta 0:00:05\n",
      "\u001b[?25hRequirement already satisfied: spacy<3.3.0,>=3.2.0 in /opt/conda/lib/python3.9/site-packages (from en-core-web-sm==3.2.0) (3.2.0)\n",
      "Requirement already satisfied: pydantic!=1.8,!=1.8.1,<1.9.0,>=1.7.4 in /opt/conda/lib/python3.9/site-packages (from spacy<3.3.0,>=3.2.0->en-core-web-sm==3.2.0) (1.8.2)\n",
      "Requirement already satisfied: setuptools in /opt/conda/lib/python3.9/site-packages (from spacy<3.3.0,>=3.2.0->en-core-web-sm==3.2.0) (49.6.0.post20210108)\n",
      "Requirement already satisfied: langcodes<4.0.0,>=3.2.0 in /opt/conda/lib/python3.9/site-packages (from spacy<3.3.0,>=3.2.0->en-core-web-sm==3.2.0) (3.3.0)\n",
      "Requirement already satisfied: blis<0.8.0,>=0.4.0 in /opt/conda/lib/python3.9/site-packages (from spacy<3.3.0,>=3.2.0->en-core-web-sm==3.2.0) (0.7.8)\n",
      "Requirement already satisfied: cymem<2.1.0,>=2.0.2 in /opt/conda/lib/python3.9/site-packages (from spacy<3.3.0,>=3.2.0->en-core-web-sm==3.2.0) (2.0.6)\n",
      "Requirement already satisfied: wasabi<1.1.0,>=0.8.1 in /opt/conda/lib/python3.9/site-packages (from spacy<3.3.0,>=3.2.0->en-core-web-sm==3.2.0) (0.10.1)\n",
      "Requirement already satisfied: thinc<8.1.0,>=8.0.12 in /opt/conda/lib/python3.9/site-packages (from spacy<3.3.0,>=3.2.0->en-core-web-sm==3.2.0) (8.0.17)\n",
      "Requirement already satisfied: catalogue<2.1.0,>=2.0.6 in /opt/conda/lib/python3.9/site-packages (from spacy<3.3.0,>=3.2.0->en-core-web-sm==3.2.0) (2.0.8)\n",
      "Requirement already satisfied: spacy-loggers<2.0.0,>=1.0.0 in /opt/conda/lib/python3.9/site-packages (from spacy<3.3.0,>=3.2.0->en-core-web-sm==3.2.0) (1.0.3)\n",
      "Requirement already satisfied: preshed<3.1.0,>=3.0.2 in /opt/conda/lib/python3.9/site-packages (from spacy<3.3.0,>=3.2.0->en-core-web-sm==3.2.0) (3.0.7)\n",
      "Requirement already satisfied: murmurhash<1.1.0,>=0.28.0 in /opt/conda/lib/python3.9/site-packages (from spacy<3.3.0,>=3.2.0->en-core-web-sm==3.2.0) (1.0.8)\n",
      "Requirement already satisfied: packaging>=20.0 in /opt/conda/lib/python3.9/site-packages (from spacy<3.3.0,>=3.2.0->en-core-web-sm==3.2.0) (21.3)\n",
      "Requirement already satisfied: numpy>=1.15.0 in /opt/conda/lib/python3.9/site-packages (from spacy<3.3.0,>=3.2.0->en-core-web-sm==3.2.0) (1.21.1)\n",
      "Requirement already satisfied: jinja2 in /opt/conda/lib/python3.9/site-packages (from spacy<3.3.0,>=3.2.0->en-core-web-sm==3.2.0) (3.0.1)\n",
      "Requirement already satisfied: typer<0.5.0,>=0.3.0 in /opt/conda/lib/python3.9/site-packages (from spacy<3.3.0,>=3.2.0->en-core-web-sm==3.2.0) (0.4.2)\n",
      "Requirement already satisfied: requests<3.0.0,>=2.13.0 in /opt/conda/lib/python3.9/site-packages (from spacy<3.3.0,>=3.2.0->en-core-web-sm==3.2.0) (2.25.1)\n",
      "Requirement already satisfied: tqdm<5.0.0,>=4.38.0 in /opt/conda/lib/python3.9/site-packages (from spacy<3.3.0,>=3.2.0->en-core-web-sm==3.2.0) (4.61.2)\n",
      "Requirement already satisfied: pathy>=0.3.5 in /opt/conda/lib/python3.9/site-packages (from spacy<3.3.0,>=3.2.0->en-core-web-sm==3.2.0) (0.6.2)\n",
      "Requirement already satisfied: spacy-legacy<3.1.0,>=3.0.8 in /opt/conda/lib/python3.9/site-packages (from spacy<3.3.0,>=3.2.0->en-core-web-sm==3.2.0) (3.0.10)\n",
      "Requirement already satisfied: srsly<3.0.0,>=2.4.1 in /opt/conda/lib/python3.9/site-packages (from spacy<3.3.0,>=3.2.0->en-core-web-sm==3.2.0) (2.4.4)\n",
      "Requirement already satisfied: pyparsing!=3.0.5,>=2.0.2 in /opt/conda/lib/python3.9/site-packages (from packaging>=20.0->spacy<3.3.0,>=3.2.0->en-core-web-sm==3.2.0) (2.4.7)\n",
      "Requirement already satisfied: smart-open<6.0.0,>=5.2.1 in /opt/conda/lib/python3.9/site-packages (from pathy>=0.3.5->spacy<3.3.0,>=3.2.0->en-core-web-sm==3.2.0) (5.2.1)\n",
      "Requirement already satisfied: typing-extensions>=3.7.4.3 in /opt/conda/lib/python3.9/site-packages (from pydantic!=1.8,!=1.8.1,<1.9.0,>=1.7.4->spacy<3.3.0,>=3.2.0->en-core-web-sm==3.2.0) (4.3.0)\n",
      "Requirement already satisfied: chardet<5,>=3.0.2 in /opt/conda/lib/python3.9/site-packages (from requests<3.0.0,>=2.13.0->spacy<3.3.0,>=3.2.0->en-core-web-sm==3.2.0) (4.0.0)\n",
      "Requirement already satisfied: certifi>=2017.4.17 in /opt/conda/lib/python3.9/site-packages (from requests<3.0.0,>=2.13.0->spacy<3.3.0,>=3.2.0->en-core-web-sm==3.2.0) (2022.6.15)\n",
      "Requirement already satisfied: idna<3,>=2.5 in /opt/conda/lib/python3.9/site-packages (from requests<3.0.0,>=2.13.0->spacy<3.3.0,>=3.2.0->en-core-web-sm==3.2.0) (2.10)\n",
      "Requirement already satisfied: urllib3<1.27,>=1.21.1 in /opt/conda/lib/python3.9/site-packages (from requests<3.0.0,>=2.13.0->spacy<3.3.0,>=3.2.0->en-core-web-sm==3.2.0) (1.26.6)\n",
      "Requirement already satisfied: click<9.0.0,>=7.1.1 in /opt/conda/lib/python3.9/site-packages (from typer<0.5.0,>=0.3.0->spacy<3.3.0,>=3.2.0->en-core-web-sm==3.2.0) (8.1.3)\n",
      "Requirement already satisfied: MarkupSafe>=2.0 in /opt/conda/lib/python3.9/site-packages (from jinja2->spacy<3.3.0,>=3.2.0->en-core-web-sm==3.2.0) (2.1.1)\n",
      "\u001b[38;5;2m✔ Download and installation successful\u001b[0m\n",
      "You can now load the package via spacy.load('en_core_web_sm')\n"
     ]
    }
   ],
   "source": [
    "# Установка и импорт spacy\n",
    "# Install spaCy (run in terminal/prompt)\n",
    "import sys\n",
    "!{sys.executable} -m pip install spacy\n",
    "# Download spaCy's  'en' Model\n",
    "!{sys.executable} -m spacy download en\n",
    "\n",
    "import spacy\n",
    "nlp = spacy.load(\"en_core_web_sm\", disable=['parser', 'ner'])"
   ]
  },
  {
   "cell_type": "markdown",
   "metadata": {},
   "source": [
    "#### sklearn"
   ]
  },
  {
   "cell_type": "code",
   "execution_count": 5,
   "metadata": {},
   "outputs": [],
   "source": [
    "from sklearn.linear_model import LogisticRegression\n",
    "\n",
    "from sklearn.model_selection import cross_val_score, train_test_split, GridSearchCV\n",
    "\n",
    "from sklearn.feature_extraction.text import TfidfVectorizer\n",
    "\n",
    "from sklearn.metrics import f1_score \n",
    "#precision_score, recall_score, accuracy_score, roc_auc_score, roc_curve\n",
    "\n",
    "from sklearn.pipeline import Pipeline #V0"
   ]
  },
  {
   "cell_type": "markdown",
   "metadata": {},
   "source": [
    "#### nltk"
   ]
  },
  {
   "cell_type": "code",
   "execution_count": 6,
   "metadata": {},
   "outputs": [
    {
     "name": "stderr",
     "output_type": "stream",
     "text": [
      "[nltk_data] Downloading package stopwords to /home/jovyan/nltk_data...\n",
      "[nltk_data]   Package stopwords is already up-to-date!\n"
     ]
    }
   ],
   "source": [
    "import nltk\n",
    "from nltk.corpus import stopwords as nltk_stopwords\n",
    "\n",
    "nltk.download('stopwords')\n",
    "stopwords = set(nltk_stopwords.words('english'))\n",
    "\n",
    "count_tf_idf = TfidfVectorizer(stop_words=stopwords)"
   ]
  },
  {
   "cell_type": "markdown",
   "metadata": {},
   "source": [
    "#### catboost"
   ]
  },
  {
   "cell_type": "code",
   "execution_count": 7,
   "metadata": {
    "collapsed": true,
    "jupyter": {
     "outputs_hidden": true
    },
    "tags": []
   },
   "outputs": [
    {
     "name": "stdout",
     "output_type": "stream",
     "text": [
      "Requirement already satisfied: catboost in /opt/conda/lib/python3.9/site-packages (1.0.3)\n",
      "Requirement already satisfied: matplotlib in /opt/conda/lib/python3.9/site-packages (from catboost) (3.3.4)\n",
      "Requirement already satisfied: plotly in /opt/conda/lib/python3.9/site-packages (from catboost) (5.4.0)\n",
      "Requirement already satisfied: scipy in /opt/conda/lib/python3.9/site-packages (from catboost) (1.9.1)\n",
      "Requirement already satisfied: pandas>=0.24.0 in /opt/conda/lib/python3.9/site-packages (from catboost) (1.2.4)\n",
      "Requirement already satisfied: graphviz in /opt/conda/lib/python3.9/site-packages (from catboost) (0.20.1)\n",
      "Requirement already satisfied: numpy>=1.16.0 in /opt/conda/lib/python3.9/site-packages (from catboost) (1.21.1)\n",
      "Requirement already satisfied: six in /opt/conda/lib/python3.9/site-packages (from catboost) (1.16.0)\n",
      "Requirement already satisfied: python-dateutil>=2.7.3 in /opt/conda/lib/python3.9/site-packages (from pandas>=0.24.0->catboost) (2.8.1)\n",
      "Requirement already satisfied: pytz>=2017.3 in /opt/conda/lib/python3.9/site-packages (from pandas>=0.24.0->catboost) (2021.1)\n",
      "Requirement already satisfied: pillow>=6.2.0 in /opt/conda/lib/python3.9/site-packages (from matplotlib->catboost) (8.4.0)\n",
      "Requirement already satisfied: cycler>=0.10 in /opt/conda/lib/python3.9/site-packages (from matplotlib->catboost) (0.11.0)\n",
      "Requirement already satisfied: kiwisolver>=1.0.1 in /opt/conda/lib/python3.9/site-packages (from matplotlib->catboost) (1.4.4)\n",
      "Requirement already satisfied: pyparsing!=2.0.4,!=2.1.2,!=2.1.6,>=2.0.3 in /opt/conda/lib/python3.9/site-packages (from matplotlib->catboost) (2.4.7)\n",
      "Requirement already satisfied: tenacity>=6.2.0 in /opt/conda/lib/python3.9/site-packages (from plotly->catboost) (8.0.1)\n"
     ]
    }
   ],
   "source": [
    "!pip install catboost"
   ]
  },
  {
   "cell_type": "code",
   "execution_count": 8,
   "metadata": {},
   "outputs": [],
   "source": [
    "from catboost import CatBoostClassifier"
   ]
  },
  {
   "cell_type": "markdown",
   "metadata": {},
   "source": [
    "### Константы"
   ]
  },
  {
   "cell_type": "code",
   "execution_count": 9,
   "metadata": {},
   "outputs": [],
   "source": [
    "DATA = ['/datasets/toxic_comments.csv', 'https://code.s3.yandex.net/datasets/toxic_comments.csv']\n",
    "\n",
    "MODEL_TOKEN_NAME = \"distilbert-base-uncased\" # Используемый словарь и токенизатор\n",
    "\n",
    "RANDOM_SEED = 12345\n",
    "RANDOM_STATE = 12345"
   ]
  },
  {
   "cell_type": "markdown",
   "metadata": {},
   "source": [
    "#### SAMPLE"
   ]
  },
  {
   "cell_type": "code",
   "execution_count": 10,
   "metadata": {},
   "outputs": [],
   "source": [
    "# Процент рассматриваемых данных\n",
    "SAMPLE = 1 # количество рассматриваемых сообщений в %"
   ]
  },
  {
   "cell_type": "markdown",
   "metadata": {},
   "source": [
    "#### DEVICE"
   ]
  },
  {
   "cell_type": "markdown",
   "metadata": {},
   "source": [
    "DEVICE = \"cuda:0\" if torch.cuda.is_available() else \"cpu\"\n",
    "DEVICE"
   ]
  },
  {
   "cell_type": "markdown",
   "metadata": {},
   "source": [
    "### Функции"
   ]
  },
  {
   "cell_type": "markdown",
   "metadata": {},
   "source": [
    "#### EDA первичный анализ данных "
   ]
  },
  {
   "cell_type": "code",
   "execution_count": 11,
   "metadata": {},
   "outputs": [],
   "source": [
    "def eda(data):\n",
    "    print(f'Общая информация:\\n{data.info()}\\n\\n\\\n",
    "shape: {data.shape}\\n\\n\\\n",
    "describe:\\n{data.describe()}\\n\\\n",
    "\\nТипы данных:\\n{data.dtypes}\\n\\\n",
    "\\nНаличие Nan:\\n{data.isna().sum()}\\n\\\n",
    "\\nНаличие дубликатов:\\n{data.duplicated().sum()}')"
   ]
  },
  {
   "cell_type": "markdown",
   "metadata": {},
   "source": [
    "#### lemmatize_clear\n",
    "\n",
    "Лемматизация и очистки сообщений\n",
    "- Очистим от лишних символов"
   ]
  },
  {
   "cell_type": "code",
   "execution_count": 12,
   "metadata": {},
   "outputs": [],
   "source": [
    "#\n",
    "def lemmatize_clear(text):\n",
    "\n",
    "    sentence = re.sub(r'[^a-zA-Z\\']', ' ', text).lower().strip() # En\n",
    "\n",
    "    # Parse the sentence using the loaded 'en' model object `nlp`\n",
    "    doc = nlp(sentence)\n",
    "    \n",
    "    return \" \".join([token.lemma_ for token in doc])"
   ]
  },
  {
   "cell_type": "code",
   "execution_count": 13,
   "metadata": {
    "scrolled": true
   },
   "outputs": [
    {
     "data": {
      "text/plain": [
       "'the stripe bat be hang on their foot for good'"
      ]
     },
     "execution_count": 13,
     "metadata": {},
     "output_type": "execute_result"
    }
   ],
   "source": [
    "# Посмотрим как отрабатывает функция\n",
    "lemmatize_clear('The striped bats are hanging on their feet for best')"
   ]
  },
  {
   "cell_type": "markdown",
   "metadata": {},
   "source": [
    "#### balance"
   ]
  },
  {
   "cell_type": "code",
   "execution_count": 14,
   "metadata": {},
   "outputs": [],
   "source": [
    "# Фукция балансировки данных по ключевому признаку\n",
    "# 0 и 1 одинаковое колличество строк\n",
    "\n",
    "def balance (data):\n",
    "    \n",
    "    one_featur = data[data['toxic'] == 1]\n",
    "    zero_featur = data[data['toxic'] == 0]\n",
    "    \n",
    "    #выберем тоже коичество учайных признаков 0 что и принака 1\n",
    "    zero_featur = zero_featur.sample(len(one_featur)).reset_index(drop=True)\n",
    "    \n",
    "    #объеденяем строки с разными признаками\n",
    "    data = pd.concat([one_featur, zero_featur], ignore_index=True)\n",
    "    \n",
    "    #возвращаем с перемешиванием\n",
    "    return data.sample(frac=1).reset_index(drop=True)"
   ]
  },
  {
   "cell_type": "markdown",
   "metadata": {},
   "source": [
    "### Загрузка данных"
   ]
  },
  {
   "cell_type": "code",
   "execution_count": 15,
   "metadata": {},
   "outputs": [],
   "source": [
    "# Загружаем данные\n",
    "try:\n",
    "    data = pd.read_csv(DATA[0], index_col=[0], parse_dates=[0])\n",
    "except:\n",
    "    data = pd.read_csv(DATA[1], index_col=[0], parse_dates=[0])"
   ]
  },
  {
   "cell_type": "code",
   "execution_count": 16,
   "metadata": {},
   "outputs": [],
   "source": [
    "#reset index\n",
    "data.reset_index(drop= True , inplace= True )"
   ]
  },
  {
   "cell_type": "markdown",
   "metadata": {},
   "source": [
    "## Анализ"
   ]
  },
  {
   "cell_type": "markdown",
   "metadata": {},
   "source": [
    "### Первичный анализ"
   ]
  },
  {
   "cell_type": "code",
   "execution_count": 17,
   "metadata": {},
   "outputs": [
    {
     "data": {
      "text/plain": [
       "(159292, 2)"
      ]
     },
     "execution_count": 17,
     "metadata": {},
     "output_type": "execute_result"
    }
   ],
   "source": [
    "data.shape"
   ]
  },
  {
   "cell_type": "code",
   "execution_count": 18,
   "metadata": {},
   "outputs": [
    {
     "data": {
      "text/html": [
       "<div>\n",
       "<style scoped>\n",
       "    .dataframe tbody tr th:only-of-type {\n",
       "        vertical-align: middle;\n",
       "    }\n",
       "\n",
       "    .dataframe tbody tr th {\n",
       "        vertical-align: top;\n",
       "    }\n",
       "\n",
       "    .dataframe thead th {\n",
       "        text-align: right;\n",
       "    }\n",
       "</style>\n",
       "<table border=\"1\" class=\"dataframe\">\n",
       "  <thead>\n",
       "    <tr style=\"text-align: right;\">\n",
       "      <th></th>\n",
       "      <th>text</th>\n",
       "      <th>toxic</th>\n",
       "    </tr>\n",
       "  </thead>\n",
       "  <tbody>\n",
       "    <tr>\n",
       "      <th>0</th>\n",
       "      <td>Explanation\\nWhy the edits made under my usern...</td>\n",
       "      <td>0</td>\n",
       "    </tr>\n",
       "    <tr>\n",
       "      <th>1</th>\n",
       "      <td>D'aww! He matches this background colour I'm s...</td>\n",
       "      <td>0</td>\n",
       "    </tr>\n",
       "    <tr>\n",
       "      <th>2</th>\n",
       "      <td>Hey man, I'm really not trying to edit war. It...</td>\n",
       "      <td>0</td>\n",
       "    </tr>\n",
       "    <tr>\n",
       "      <th>3</th>\n",
       "      <td>\"\\nMore\\nI can't make any real suggestions on ...</td>\n",
       "      <td>0</td>\n",
       "    </tr>\n",
       "    <tr>\n",
       "      <th>4</th>\n",
       "      <td>You, sir, are my hero. Any chance you remember...</td>\n",
       "      <td>0</td>\n",
       "    </tr>\n",
       "  </tbody>\n",
       "</table>\n",
       "</div>"
      ],
      "text/plain": [
       "                                                text  toxic\n",
       "0  Explanation\\nWhy the edits made under my usern...      0\n",
       "1  D'aww! He matches this background colour I'm s...      0\n",
       "2  Hey man, I'm really not trying to edit war. It...      0\n",
       "3  \"\\nMore\\nI can't make any real suggestions on ...      0\n",
       "4  You, sir, are my hero. Any chance you remember...      0"
      ]
     },
     "execution_count": 18,
     "metadata": {},
     "output_type": "execute_result"
    }
   ],
   "source": [
    "data.head()"
   ]
  },
  {
   "cell_type": "markdown",
   "metadata": {},
   "source": [
    "- Название столбца с ключевыми параметрами необходимо переименовать к общепринятому и как встречается в примерах моделей -> <b>'label'</b>"
   ]
  },
  {
   "cell_type": "code",
   "execution_count": 19,
   "metadata": {},
   "outputs": [
    {
     "data": {
      "text/plain": [
       "text     0\n",
       "toxic    0\n",
       "dtype: int64"
      ]
     },
     "execution_count": 19,
     "metadata": {},
     "output_type": "execute_result"
    }
   ],
   "source": [
    "data.isna().sum()"
   ]
  },
  {
   "cell_type": "markdown",
   "metadata": {},
   "source": [
    "- Пропущеные значения отсутствуют"
   ]
  },
  {
   "cell_type": "code",
   "execution_count": 20,
   "metadata": {},
   "outputs": [
    {
     "data": {
      "text/plain": [
       "0"
      ]
     },
     "execution_count": 20,
     "metadata": {},
     "output_type": "execute_result"
    }
   ],
   "source": [
    "# Смотрим наличие дубликатов в строках\n",
    "data['text'].duplicated().sum()"
   ]
  },
  {
   "cell_type": "code",
   "execution_count": 21,
   "metadata": {},
   "outputs": [
    {
     "data": {
      "text/plain": [
       "sum       16186.000000\n",
       "mean          0.101612\n",
       "count    159292.000000\n",
       "Name: toxic, dtype: float64"
      ]
     },
     "execution_count": 21,
     "metadata": {},
     "output_type": "execute_result"
    }
   ],
   "source": [
    "# Смотрим количество размеченых токсичных сообщений\n",
    "data['toxic'].agg(['sum', 'mean','count'])"
   ]
  },
  {
   "cell_type": "markdown",
   "metadata": {},
   "source": [
    "- Имеется дисбаланс классов, 0 значения почти в 10 раз больше"
   ]
  },
  {
   "cell_type": "markdown",
   "metadata": {},
   "source": [
    "### Продолжем анализ на сбалансированой выборки"
   ]
  },
  {
   "cell_type": "code",
   "execution_count": 22,
   "metadata": {},
   "outputs": [
    {
     "name": "stdout",
     "output_type": "stream",
     "text": [
      "Колличество символов в сообщениях:\n",
      "Минимум = 5\n",
      "Максимум = 4521\n",
      "\n"
     ]
    }
   ],
   "source": [
    "# Смотрим размер сообщений\n",
    "min_text = len(data['text'].min())     \n",
    "max_text = len(data['text'].max())\n",
    "          \n",
    "print(f'''Колличество символов в сообщениях:\n",
    "Минимум = {min_text}\n",
    "Максимум = {max_text}\n",
    "''')"
   ]
  },
  {
   "cell_type": "markdown",
   "metadata": {},
   "source": [
    "- Есть сообщения состояшие из 5 символов.\n",
    "- После балансировки изменился максимум символов, слишком длинные сообщения редки и не размечены как таксичные, но длинные сообщения всеравно могут попадаться. Ограничение в 512 токенов оставим."
   ]
  },
  {
   "cell_type": "markdown",
   "metadata": {},
   "source": [
    "### Детальное расмотрение"
   ]
  },
  {
   "cell_type": "code",
   "execution_count": 23,
   "metadata": {},
   "outputs": [
    {
     "name": "stdout",
     "output_type": "stream",
     "text": [
      "Колличество сообщений с кириллицей: 190 \n",
      "\n",
      "Колличество символов ,  473694\n",
      "\n",
      "Колличество символов .  678463\n",
      "\n",
      "Колличество символов ?  71529\n",
      "\n",
      "Колличество символов !  105396\n",
      "\n",
      "Колличество символов \"  391716\n",
      "\n",
      "Колличество символов '  218819\n",
      "\n",
      "Колличество символов \\n  401466\n",
      "\n",
      "Всего сообщений: 159292\n"
     ]
    }
   ],
   "source": [
    "# Посмотрим есть ли символы кроме латинских и сколько\n",
    "count_ru = 0 #v1\n",
    "\n",
    "count0, count1, count2, count3, count4 = 0, 0, 0, 0, 0\n",
    "count5, count6 = 0, 0\n",
    "\n",
    "for s in data['text']:\n",
    "    \n",
    "    if re.search(r'[яА-ЯёЁ]', s):\n",
    "        count_ru += 1\n",
    "\n",
    "    count0 += s.count(',')\n",
    "    count1 += s.count('.') \n",
    "    count2 += s.count('?') \n",
    "    count3 += s.count('!')\n",
    "    count4 += s.count('\"')\n",
    "    count5 += s.count(\"'\")\n",
    "    count6 += s.count(\"\\n\")\n",
    "#v0\n",
    "print(f'''Колличество сообщений с кириллицей: {count_ru} \n",
    "\\nКолличество символов ,  {count0}\n",
    "\\nКолличество символов .  {count1}\n",
    "\\nКолличество символов ?  {count2}\n",
    "\\nКолличество символов !  {count3}\n",
    "\\nКолличество символов \"  {count4}\n",
    "\\nКолличество символов '  {count5}\n",
    "\\nКолличество символов \\\\n  {count6}\n",
    "''')\n",
    "print('Всего сообщений:', len(data))"
   ]
  },
  {
   "cell_type": "code",
   "execution_count": 24,
   "metadata": {},
   "outputs": [
    {
     "name": "stdout",
     "output_type": "stream",
     "text": [
      "\n",
      "Колличество toxic сообщений с кириллицей: 11\n",
      "Всего сообщений с кириллицей: 190\n",
      "\n",
      "Соотношение: 0.06\n",
      "\n"
     ]
    }
   ],
   "source": [
    "# Посмотрим что из себя представляют сообщения с кирилическими символами\n",
    "ru = 0\n",
    "for s in range(len(data['text'])): #V1\n",
    "    \n",
    "    if re.search(r'[яА-ЯёЁ]+', data['text'][s]):\n",
    "        ru += data['toxic'][s]\n",
    "        \n",
    "print(f'''\n",
    "Колличество toxic сообщений с кириллицей: {ru.sum()}\n",
    "Всего сообщений с кириллицей: {count_ru}\n",
    "\n",
    "Соотношение: {round(ru.sum() / count_ru, 2)}\n",
    "''')\n"
   ]
  },
  {
   "cell_type": "markdown",
   "metadata": {},
   "source": [
    "<font size=\"1\"><b> v1 Комментарий студента</b></font>\n",
    "<div class=\"alert\" style=\"background-color:#ead7f7;color:#8737bf\">\n",
    "    \n",
    "- Сообщения в основном состоят из латинских символов, и знаков препинания.\n",
    "- Присутствуют незначительное колличество сообщений с кирилическими символами из них треть toxic."
   ]
  },
  {
   "cell_type": "code",
   "execution_count": 25,
   "metadata": {},
   "outputs": [],
   "source": [
    "# Считаем отношение алфавитных символов к пунктационным \n",
    "# Отношения заглавных символов к маленьким\n",
    "# Отношение пробелов ко всем символам в строке\n",
    "\n",
    "ratio_alfa, ratio_upper, ratio_lower, ratio_space = [], [], [], []\n",
    "\n",
    "lower, upper, space = 0, 0, 0 # количество нижнего регистра, верхнего, пробелы\n",
    "\n",
    "for _ in range(len(data['text'])):\n",
    "    \n",
    "    # Считаем отношения алфавитных символов к пунктуационным\n",
    "    alfa = len(re.findall('\\w', data['text'][_])) # печатные символы\n",
    "    lower = len(re.findall('[a-z]', data['text'][_]))\n",
    "    upper = len(re.findall('[A-Z]', data['text'][_]))    \n",
    "    space = len(re.findall(' ', data['text'][_]))\n",
    "    \n",
    "    # Считаем отношения букв ко всем символам\n",
    "    if alfa != 0:\n",
    "        ratio_alfa.append(round(alfa / len(data['text'][_]), 2))\n",
    "    else: \n",
    "        ratio_alfa.append(0)\n",
    "                          \n",
    "    # Считаем отношения Заглавных ко всем символам\n",
    "    if (upper != 0):\n",
    "        ratio_upper.append(round(upper / len(data['text'][_]), 2))\n",
    "    else:\n",
    "        ratio_upper.append(0)\n",
    "\n",
    "    # Считаем отношения прописных ко всем символам\n",
    "    if (lower != 0):\n",
    "        ratio_lower.append(round(lower / len(data['text'][_]), 2))\n",
    "    else:\n",
    "        ratio_lower.append(0)\n",
    "\n",
    "    # Считаем отношения пробелов ко всем символам\n",
    "    if space != 0:\n",
    "        ratio_space.append(round(space / len(data['text'][_]), 2))\n",
    "    else:\n",
    "        ratio_space.append(0)"
   ]
  },
  {
   "cell_type": "code",
   "execution_count": 26,
   "metadata": {},
   "outputs": [],
   "source": [
    "# Добавим столбец с отношение алфавитных символов ко всему сообщению\n",
    "data['ratio_alfa'] = ratio_alfa\n",
    "\n",
    "# Добавим столбец с отношение Заглавных символов ко всему сообщению\n",
    "data['ratio_upper'] = ratio_upper\n",
    "\n",
    "# Добавим столбец с отношение Заглавных символов ко всему сообщению\n",
    "data['ratio_lower'] = ratio_lower\n",
    "\n",
    "# Добавим столбец с отношение кол. пробелов ко всему сообщению\n",
    "data['ratio_space'] = ratio_space"
   ]
  },
  {
   "cell_type": "code",
   "execution_count": 27,
   "metadata": {},
   "outputs": [
    {
     "data": {
      "text/html": [
       "<div>\n",
       "<style scoped>\n",
       "    .dataframe tbody tr th:only-of-type {\n",
       "        vertical-align: middle;\n",
       "    }\n",
       "\n",
       "    .dataframe tbody tr th {\n",
       "        vertical-align: top;\n",
       "    }\n",
       "\n",
       "    .dataframe thead th {\n",
       "        text-align: right;\n",
       "    }\n",
       "</style>\n",
       "<table border=\"1\" class=\"dataframe\">\n",
       "  <thead>\n",
       "    <tr style=\"text-align: right;\">\n",
       "      <th></th>\n",
       "      <th>text</th>\n",
       "      <th>toxic</th>\n",
       "      <th>ratio_alfa</th>\n",
       "      <th>ratio_upper</th>\n",
       "      <th>ratio_lower</th>\n",
       "      <th>ratio_space</th>\n",
       "    </tr>\n",
       "  </thead>\n",
       "  <tbody>\n",
       "    <tr>\n",
       "      <th>0</th>\n",
       "      <td>Explanation\\nWhy the edits made under my usern...</td>\n",
       "      <td>0</td>\n",
       "      <td>0.80</td>\n",
       "      <td>0.06</td>\n",
       "      <td>0.70</td>\n",
       "      <td>0.16</td>\n",
       "    </tr>\n",
       "    <tr>\n",
       "      <th>1</th>\n",
       "      <td>D'aww! He matches this background colour I'm s...</td>\n",
       "      <td>0</td>\n",
       "      <td>0.74</td>\n",
       "      <td>0.07</td>\n",
       "      <td>0.58</td>\n",
       "      <td>0.15</td>\n",
       "    </tr>\n",
       "    <tr>\n",
       "      <th>2</th>\n",
       "      <td>Hey man, I'm really not trying to edit war. It...</td>\n",
       "      <td>0</td>\n",
       "      <td>0.80</td>\n",
       "      <td>0.02</td>\n",
       "      <td>0.78</td>\n",
       "      <td>0.18</td>\n",
       "    </tr>\n",
       "    <tr>\n",
       "      <th>3</th>\n",
       "      <td>\"\\nMore\\nI can't make any real suggestions on ...</td>\n",
       "      <td>0</td>\n",
       "      <td>0.78</td>\n",
       "      <td>0.02</td>\n",
       "      <td>0.76</td>\n",
       "      <td>0.18</td>\n",
       "    </tr>\n",
       "    <tr>\n",
       "      <th>4</th>\n",
       "      <td>You, sir, are my hero. Any chance you remember...</td>\n",
       "      <td>0</td>\n",
       "      <td>0.75</td>\n",
       "      <td>0.03</td>\n",
       "      <td>0.72</td>\n",
       "      <td>0.18</td>\n",
       "    </tr>\n",
       "  </tbody>\n",
       "</table>\n",
       "</div>"
      ],
      "text/plain": [
       "                                                text  toxic  ratio_alfa  \\\n",
       "0  Explanation\\nWhy the edits made under my usern...      0        0.80   \n",
       "1  D'aww! He matches this background colour I'm s...      0        0.74   \n",
       "2  Hey man, I'm really not trying to edit war. It...      0        0.80   \n",
       "3  \"\\nMore\\nI can't make any real suggestions on ...      0        0.78   \n",
       "4  You, sir, are my hero. Any chance you remember...      0        0.75   \n",
       "\n",
       "   ratio_upper  ratio_lower  ratio_space  \n",
       "0         0.06         0.70         0.16  \n",
       "1         0.07         0.58         0.15  \n",
       "2         0.02         0.78         0.18  \n",
       "3         0.02         0.76         0.18  \n",
       "4         0.03         0.72         0.18  "
      ]
     },
     "execution_count": 27,
     "metadata": {},
     "output_type": "execute_result"
    }
   ],
   "source": [
    "data.head()"
   ]
  },
  {
   "cell_type": "code",
   "execution_count": 28,
   "metadata": {},
   "outputs": [
    {
     "name": "stdout",
     "output_type": "stream",
     "text": [
      "              toxic  ratio_alfa  ratio_upper  ratio_lower  ratio_space\n",
      "toxic        1.0000     -0.0575       0.2151      -0.1917       0.0393\n",
      "ratio_alfa  -0.0575      1.0000      -0.0352       0.4766      -0.3921\n",
      "ratio_upper  0.2151     -0.0352       1.0000      -0.8282      -0.1109\n",
      "ratio_lower -0.1917      0.4766      -0.8282       1.0000      -0.0021\n",
      "ratio_space  0.0393     -0.3921      -0.1109      -0.0021       1.0000\n"
     ]
    }
   ],
   "source": [
    "# Посмотрим как новые признаки влияют на ключевой параметр\n",
    "print(round(data.corr(), 4))"
   ]
  },
  {
   "cell_type": "code",
   "execution_count": 29,
   "metadata": {
    "scrolled": true
   },
   "outputs": [
    {
     "data": {
      "text/html": [
       "<div>\n",
       "<style scoped>\n",
       "    .dataframe tbody tr th:only-of-type {\n",
       "        vertical-align: middle;\n",
       "    }\n",
       "\n",
       "    .dataframe tbody tr th {\n",
       "        vertical-align: top;\n",
       "    }\n",
       "\n",
       "    .dataframe thead th {\n",
       "        text-align: right;\n",
       "    }\n",
       "</style>\n",
       "<table border=\"1\" class=\"dataframe\">\n",
       "  <thead>\n",
       "    <tr style=\"text-align: right;\">\n",
       "      <th></th>\n",
       "      <th>text</th>\n",
       "      <th>toxic</th>\n",
       "      <th>ratio_alfa</th>\n",
       "      <th>ratio_upper</th>\n",
       "      <th>ratio_lower</th>\n",
       "      <th>ratio_space</th>\n",
       "    </tr>\n",
       "  </thead>\n",
       "  <tbody>\n",
       "    <tr>\n",
       "      <th>58</th>\n",
       "      <td>My Band Page's deletion. You thought I was gon...</td>\n",
       "      <td>1</td>\n",
       "      <td>0.77</td>\n",
       "      <td>0.03</td>\n",
       "      <td>0.75</td>\n",
       "      <td>0.18</td>\n",
       "    </tr>\n",
       "    <tr>\n",
       "      <th>641</th>\n",
       "      <td>Curse \\nWikipedia has no respect for God. \\nWi...</td>\n",
       "      <td>1</td>\n",
       "      <td>0.79</td>\n",
       "      <td>0.05</td>\n",
       "      <td>0.74</td>\n",
       "      <td>0.16</td>\n",
       "    </tr>\n",
       "    <tr>\n",
       "      <th>746</th>\n",
       "      <td>\"You know, I was thinking...\\n\\nNobody really ...</td>\n",
       "      <td>1</td>\n",
       "      <td>0.76</td>\n",
       "      <td>0.06</td>\n",
       "      <td>0.69</td>\n",
       "      <td>0.15</td>\n",
       "    </tr>\n",
       "    <tr>\n",
       "      <th>761</th>\n",
       "      <td>\"  WILL MY MOTHERFUCKING SAFETY BE GUARANTEED?...</td>\n",
       "      <td>1</td>\n",
       "      <td>0.76</td>\n",
       "      <td>0.76</td>\n",
       "      <td>0.00</td>\n",
       "      <td>0.18</td>\n",
       "    </tr>\n",
       "    <tr>\n",
       "      <th>1165</th>\n",
       "      <td>\"\\n\\nSo threatening to try to have me banned f...</td>\n",
       "      <td>1</td>\n",
       "      <td>0.79</td>\n",
       "      <td>0.02</td>\n",
       "      <td>0.77</td>\n",
       "      <td>0.17</td>\n",
       "    </tr>\n",
       "  </tbody>\n",
       "</table>\n",
       "</div>"
      ],
      "text/plain": [
       "                                                   text  toxic  ratio_alfa  \\\n",
       "58    My Band Page's deletion. You thought I was gon...      1        0.77   \n",
       "641   Curse \\nWikipedia has no respect for God. \\nWi...      1        0.79   \n",
       "746   \"You know, I was thinking...\\n\\nNobody really ...      1        0.76   \n",
       "761   \"  WILL MY MOTHERFUCKING SAFETY BE GUARANTEED?...      1        0.76   \n",
       "1165  \"\\n\\nSo threatening to try to have me banned f...      1        0.79   \n",
       "\n",
       "      ratio_upper  ratio_lower  ratio_space  \n",
       "58           0.03         0.75         0.18  \n",
       "641          0.05         0.74         0.16  \n",
       "746          0.06         0.69         0.15  \n",
       "761          0.76         0.00         0.18  \n",
       "1165         0.02         0.77         0.17  "
      ]
     },
     "execution_count": 29,
     "metadata": {},
     "output_type": "execute_result"
    }
   ],
   "source": [
    "# Посмотрим на длинные токсичные сообщения\n",
    "data[(data['text'].str.len().between(1000, len(data['text'].max())))&\n",
    "     (data['toxic']==1)].head()"
   ]
  },
  {
   "cell_type": "code",
   "execution_count": 30,
   "metadata": {},
   "outputs": [
    {
     "data": {
      "text/html": [
       "<div>\n",
       "<style scoped>\n",
       "    .dataframe tbody tr th:only-of-type {\n",
       "        vertical-align: middle;\n",
       "    }\n",
       "\n",
       "    .dataframe tbody tr th {\n",
       "        vertical-align: top;\n",
       "    }\n",
       "\n",
       "    .dataframe thead th {\n",
       "        text-align: right;\n",
       "    }\n",
       "</style>\n",
       "<table border=\"1\" class=\"dataframe\">\n",
       "  <thead>\n",
       "    <tr style=\"text-align: right;\">\n",
       "      <th></th>\n",
       "      <th>text</th>\n",
       "      <th>toxic</th>\n",
       "      <th>ratio_alfa</th>\n",
       "      <th>ratio_upper</th>\n",
       "      <th>ratio_lower</th>\n",
       "      <th>ratio_space</th>\n",
       "    </tr>\n",
       "  </thead>\n",
       "  <tbody>\n",
       "    <tr>\n",
       "      <th>10</th>\n",
       "      <td>\"\\nFair use rationale for Image:Wonju.jpg\\n\\nT...</td>\n",
       "      <td>0</td>\n",
       "      <td>0.79</td>\n",
       "      <td>0.02</td>\n",
       "      <td>0.77</td>\n",
       "      <td>0.17</td>\n",
       "    </tr>\n",
       "    <tr>\n",
       "      <th>24</th>\n",
       "      <td>\"\\n\\nRe-considering 1st paragraph edit?\\nI don...</td>\n",
       "      <td>0</td>\n",
       "      <td>0.79</td>\n",
       "      <td>0.03</td>\n",
       "      <td>0.76</td>\n",
       "      <td>0.17</td>\n",
       "    </tr>\n",
       "    <tr>\n",
       "      <th>36</th>\n",
       "      <td>\"\\n\\n \"\"Mainland Asia\"\" includes \"\"the lower b...</td>\n",
       "      <td>0</td>\n",
       "      <td>0.79</td>\n",
       "      <td>0.04</td>\n",
       "      <td>0.73</td>\n",
       "      <td>0.16</td>\n",
       "    </tr>\n",
       "    <tr>\n",
       "      <th>39</th>\n",
       "      <td>Notability of Rurika Kasuga\\nA tag has been pl...</td>\n",
       "      <td>0</td>\n",
       "      <td>0.80</td>\n",
       "      <td>0.01</td>\n",
       "      <td>0.78</td>\n",
       "      <td>0.17</td>\n",
       "    </tr>\n",
       "    <tr>\n",
       "      <th>49</th>\n",
       "      <td>\"::::Jmabel; in regards to predominant scholar...</td>\n",
       "      <td>0</td>\n",
       "      <td>0.79</td>\n",
       "      <td>0.03</td>\n",
       "      <td>0.76</td>\n",
       "      <td>0.17</td>\n",
       "    </tr>\n",
       "  </tbody>\n",
       "</table>\n",
       "</div>"
      ],
      "text/plain": [
       "                                                 text  toxic  ratio_alfa  \\\n",
       "10  \"\\nFair use rationale for Image:Wonju.jpg\\n\\nT...      0        0.79   \n",
       "24  \"\\n\\nRe-considering 1st paragraph edit?\\nI don...      0        0.79   \n",
       "36  \"\\n\\n \"\"Mainland Asia\"\" includes \"\"the lower b...      0        0.79   \n",
       "39  Notability of Rurika Kasuga\\nA tag has been pl...      0        0.80   \n",
       "49  \"::::Jmabel; in regards to predominant scholar...      0        0.79   \n",
       "\n",
       "    ratio_upper  ratio_lower  ratio_space  \n",
       "10         0.02         0.77         0.17  \n",
       "24         0.03         0.76         0.17  \n",
       "36         0.04         0.73         0.16  \n",
       "39         0.01         0.78         0.17  \n",
       "49         0.03         0.76         0.17  "
      ]
     },
     "execution_count": 30,
     "metadata": {},
     "output_type": "execute_result"
    }
   ],
   "source": [
    "# Посмотрим на длинные не токсичные сообщения\n",
    "data[(data['text'].str.len().between(1000, len(data['text'].max())))&(data['toxic']==0)].head()"
   ]
  },
  {
   "cell_type": "markdown",
   "metadata": {},
   "source": [
    "- В сообщениях много лишних символов, необходимо предобработать"
   ]
  },
  {
   "cell_type": "code",
   "execution_count": 31,
   "metadata": {
    "scrolled": true
   },
   "outputs": [
    {
     "data": {
      "text/html": [
       "<div>\n",
       "<style scoped>\n",
       "    .dataframe tbody tr th:only-of-type {\n",
       "        vertical-align: middle;\n",
       "    }\n",
       "\n",
       "    .dataframe tbody tr th {\n",
       "        vertical-align: top;\n",
       "    }\n",
       "\n",
       "    .dataframe thead th {\n",
       "        text-align: right;\n",
       "    }\n",
       "</style>\n",
       "<table border=\"1\" class=\"dataframe\">\n",
       "  <thead>\n",
       "    <tr style=\"text-align: right;\">\n",
       "      <th></th>\n",
       "      <th>text</th>\n",
       "      <th>toxic</th>\n",
       "      <th>ratio_alfa</th>\n",
       "      <th>ratio_upper</th>\n",
       "      <th>ratio_lower</th>\n",
       "      <th>ratio_space</th>\n",
       "    </tr>\n",
       "  </thead>\n",
       "  <tbody>\n",
       "    <tr>\n",
       "      <th>17942</th>\n",
       "      <td>ya mum \\n\\nfucks ya</td>\n",
       "      <td>1</td>\n",
       "      <td>0.71</td>\n",
       "      <td>0.00</td>\n",
       "      <td>0.71</td>\n",
       "      <td>0.18</td>\n",
       "    </tr>\n",
       "    <tr>\n",
       "      <th>60382</th>\n",
       "      <td>WHY YOU SO PIG??</td>\n",
       "      <td>1</td>\n",
       "      <td>0.69</td>\n",
       "      <td>0.69</td>\n",
       "      <td>0.00</td>\n",
       "      <td>0.19</td>\n",
       "    </tr>\n",
       "    <tr>\n",
       "      <th>100520</th>\n",
       "      <td>hello cow head</td>\n",
       "      <td>1</td>\n",
       "      <td>0.86</td>\n",
       "      <td>0.00</td>\n",
       "      <td>0.86</td>\n",
       "      <td>0.14</td>\n",
       "    </tr>\n",
       "    <tr>\n",
       "      <th>118650</th>\n",
       "      <td>FUCK YOU</td>\n",
       "      <td>1</td>\n",
       "      <td>0.88</td>\n",
       "      <td>0.88</td>\n",
       "      <td>0.00</td>\n",
       "      <td>0.12</td>\n",
       "    </tr>\n",
       "    <tr>\n",
       "      <th>119018</th>\n",
       "      <td>\"\"\"</td>\n",
       "      <td>1</td>\n",
       "      <td>0.00</td>\n",
       "      <td>0.00</td>\n",
       "      <td>0.00</td>\n",
       "      <td>0.40</td>\n",
       "    </tr>\n",
       "    <tr>\n",
       "      <th>120868</th>\n",
       "      <td>you suck</td>\n",
       "      <td>1</td>\n",
       "      <td>0.88</td>\n",
       "      <td>0.00</td>\n",
       "      <td>0.88</td>\n",
       "      <td>0.12</td>\n",
       "    </tr>\n",
       "    <tr>\n",
       "      <th>134053</th>\n",
       "      <td>YOU\\n\\n        CUNT</td>\n",
       "      <td>1</td>\n",
       "      <td>0.41</td>\n",
       "      <td>0.41</td>\n",
       "      <td>0.00</td>\n",
       "      <td>0.47</td>\n",
       "    </tr>\n",
       "    <tr>\n",
       "      <th>134084</th>\n",
       "      <td>you're an asshole</td>\n",
       "      <td>1</td>\n",
       "      <td>0.82</td>\n",
       "      <td>0.00</td>\n",
       "      <td>0.82</td>\n",
       "      <td>0.12</td>\n",
       "    </tr>\n",
       "    <tr>\n",
       "      <th>149599</th>\n",
       "      <td>fuck you \\n\\nWanker</td>\n",
       "      <td>1</td>\n",
       "      <td>0.76</td>\n",
       "      <td>0.06</td>\n",
       "      <td>0.71</td>\n",
       "      <td>0.12</td>\n",
       "    </tr>\n",
       "  </tbody>\n",
       "</table>\n",
       "</div>"
      ],
      "text/plain": [
       "                       text  toxic  ratio_alfa  ratio_upper  ratio_lower  \\\n",
       "17942   ya mum \\n\\nfucks ya      1        0.71         0.00         0.71   \n",
       "60382      WHY YOU SO PIG??      1        0.69         0.69         0.00   \n",
       "100520       hello cow head      1        0.86         0.00         0.86   \n",
       "118650             FUCK YOU      1        0.88         0.88         0.00   \n",
       "119018                  \"\"\"      1        0.00         0.00         0.00   \n",
       "120868             you suck      1        0.88         0.00         0.88   \n",
       "134053  YOU\\n\\n        CUNT      1        0.41         0.41         0.00   \n",
       "134084    you're an asshole      1        0.82         0.00         0.82   \n",
       "149599  fuck you \\n\\nWanker      1        0.76         0.06         0.71   \n",
       "\n",
       "        ratio_space  \n",
       "17942          0.18  \n",
       "60382          0.19  \n",
       "100520         0.14  \n",
       "118650         0.12  \n",
       "119018         0.40  \n",
       "120868         0.12  \n",
       "134053         0.47  \n",
       "134084         0.12  \n",
       "149599         0.12  "
      ]
     },
     "execution_count": 31,
     "metadata": {},
     "output_type": "execute_result"
    }
   ],
   "source": [
    "# Посмотрим на короткие токсичные сообщения\n",
    "data[(data['text'].str.len().between(0, 17))&\n",
    "     (data['toxic']==1)]"
   ]
  },
  {
   "cell_type": "markdown",
   "metadata": {},
   "source": [
    "- имеются сообщения содержащие только \"\"\", считаю это странным. В чем причина считать это сообщение токсичным? Запомним что такое имеет место быть."
   ]
  },
  {
   "cell_type": "code",
   "execution_count": 32,
   "metadata": {},
   "outputs": [
    {
     "data": {
      "text/html": [
       "<div>\n",
       "<style scoped>\n",
       "    .dataframe tbody tr th:only-of-type {\n",
       "        vertical-align: middle;\n",
       "    }\n",
       "\n",
       "    .dataframe tbody tr th {\n",
       "        vertical-align: top;\n",
       "    }\n",
       "\n",
       "    .dataframe thead th {\n",
       "        text-align: right;\n",
       "    }\n",
       "</style>\n",
       "<table border=\"1\" class=\"dataframe\">\n",
       "  <thead>\n",
       "    <tr style=\"text-align: right;\">\n",
       "      <th></th>\n",
       "      <th>text</th>\n",
       "      <th>toxic</th>\n",
       "      <th>ratio_alfa</th>\n",
       "      <th>ratio_upper</th>\n",
       "      <th>ratio_lower</th>\n",
       "      <th>ratio_space</th>\n",
       "    </tr>\n",
       "  </thead>\n",
       "  <tbody>\n",
       "    <tr>\n",
       "      <th>2499</th>\n",
       "      <td>I understand now.</td>\n",
       "      <td>0</td>\n",
       "      <td>0.82</td>\n",
       "      <td>0.06</td>\n",
       "      <td>0.76</td>\n",
       "      <td>0.12</td>\n",
       "    </tr>\n",
       "    <tr>\n",
       "      <th>3347</th>\n",
       "      <td>Agreed and done.</td>\n",
       "      <td>0</td>\n",
       "      <td>0.81</td>\n",
       "      <td>0.06</td>\n",
       "      <td>0.75</td>\n",
       "      <td>0.12</td>\n",
       "    </tr>\n",
       "    <tr>\n",
       "      <th>3631</th>\n",
       "      <td>September 2008</td>\n",
       "      <td>0</td>\n",
       "      <td>0.93</td>\n",
       "      <td>0.07</td>\n",
       "      <td>0.57</td>\n",
       "      <td>0.07</td>\n",
       "    </tr>\n",
       "    <tr>\n",
       "      <th>4417</th>\n",
       "      <td>And quote from it</td>\n",
       "      <td>0</td>\n",
       "      <td>0.82</td>\n",
       "      <td>0.06</td>\n",
       "      <td>0.76</td>\n",
       "      <td>0.18</td>\n",
       "    </tr>\n",
       "    <tr>\n",
       "      <th>8110</th>\n",
       "      <td>Achtung y'all...</td>\n",
       "      <td>0</td>\n",
       "      <td>0.69</td>\n",
       "      <td>0.06</td>\n",
       "      <td>0.62</td>\n",
       "      <td>0.06</td>\n",
       "    </tr>\n",
       "    <tr>\n",
       "      <th>10121</th>\n",
       "      <td>Thanks! I am sure</td>\n",
       "      <td>0</td>\n",
       "      <td>0.76</td>\n",
       "      <td>0.12</td>\n",
       "      <td>0.65</td>\n",
       "      <td>0.18</td>\n",
       "    </tr>\n",
       "    <tr>\n",
       "      <th>10193</th>\n",
       "      <td>64.86.141.133\"</td>\n",
       "      <td>0</td>\n",
       "      <td>0.71</td>\n",
       "      <td>0.00</td>\n",
       "      <td>0.00</td>\n",
       "      <td>0.00</td>\n",
       "    </tr>\n",
       "    <tr>\n",
       "      <th>12100</th>\n",
       "      <td>Re: Talk:Niihau</td>\n",
       "      <td>0</td>\n",
       "      <td>0.80</td>\n",
       "      <td>0.20</td>\n",
       "      <td>0.60</td>\n",
       "      <td>0.07</td>\n",
       "    </tr>\n",
       "    <tr>\n",
       "      <th>15432</th>\n",
       "      <td>Howdy!\"</td>\n",
       "      <td>0</td>\n",
       "      <td>0.71</td>\n",
       "      <td>0.14</td>\n",
       "      <td>0.57</td>\n",
       "      <td>0.00</td>\n",
       "    </tr>\n",
       "    <tr>\n",
       "      <th>15588</th>\n",
       "      <td>You've got mail</td>\n",
       "      <td>0</td>\n",
       "      <td>0.80</td>\n",
       "      <td>0.07</td>\n",
       "      <td>0.73</td>\n",
       "      <td>0.13</td>\n",
       "    </tr>\n",
       "    <tr>\n",
       "      <th>19060</th>\n",
       "      <td>11 Rockfield Park</td>\n",
       "      <td>0</td>\n",
       "      <td>0.88</td>\n",
       "      <td>0.12</td>\n",
       "      <td>0.65</td>\n",
       "      <td>0.12</td>\n",
       "    </tr>\n",
       "    <tr>\n",
       "      <th>20017</th>\n",
       "      <td>Hello Theirrulez!</td>\n",
       "      <td>0</td>\n",
       "      <td>0.88</td>\n",
       "      <td>0.12</td>\n",
       "      <td>0.76</td>\n",
       "      <td>0.06</td>\n",
       "    </tr>\n",
       "    <tr>\n",
       "      <th>20550</th>\n",
       "      <td>September 2015</td>\n",
       "      <td>0</td>\n",
       "      <td>0.93</td>\n",
       "      <td>0.07</td>\n",
       "      <td>0.57</td>\n",
       "      <td>0.07</td>\n",
       "    </tr>\n",
       "    <tr>\n",
       "      <th>38743</th>\n",
       "      <td>88.104.31.21\"</td>\n",
       "      <td>0</td>\n",
       "      <td>0.69</td>\n",
       "      <td>0.00</td>\n",
       "      <td>0.00</td>\n",
       "      <td>0.00</td>\n",
       "    </tr>\n",
       "    <tr>\n",
       "      <th>40543</th>\n",
       "      <td>fresh attempts by</td>\n",
       "      <td>0</td>\n",
       "      <td>0.88</td>\n",
       "      <td>0.00</td>\n",
       "      <td>0.88</td>\n",
       "      <td>0.12</td>\n",
       "    </tr>\n",
       "    <tr>\n",
       "      <th>42082</th>\n",
       "      <td>DYK peer review?</td>\n",
       "      <td>0</td>\n",
       "      <td>0.81</td>\n",
       "      <td>0.19</td>\n",
       "      <td>0.62</td>\n",
       "      <td>0.12</td>\n",
       "    </tr>\n",
       "    <tr>\n",
       "      <th>52336</th>\n",
       "      <td>14:53,</td>\n",
       "      <td>0</td>\n",
       "      <td>0.67</td>\n",
       "      <td>0.00</td>\n",
       "      <td>0.00</td>\n",
       "      <td>0.00</td>\n",
       "    </tr>\n",
       "    <tr>\n",
       "      <th>53139</th>\n",
       "      <td>This upload NDSD</td>\n",
       "      <td>0</td>\n",
       "      <td>0.88</td>\n",
       "      <td>0.31</td>\n",
       "      <td>0.56</td>\n",
       "      <td>0.12</td>\n",
       "    </tr>\n",
       "    <tr>\n",
       "      <th>54257</th>\n",
       "      <td>Speedy deletion</td>\n",
       "      <td>0</td>\n",
       "      <td>0.93</td>\n",
       "      <td>0.07</td>\n",
       "      <td>0.87</td>\n",
       "      <td>0.07</td>\n",
       "    </tr>\n",
       "    <tr>\n",
       "      <th>61351</th>\n",
       "      <td>31 January 2007</td>\n",
       "      <td>0</td>\n",
       "      <td>0.87</td>\n",
       "      <td>0.07</td>\n",
       "      <td>0.40</td>\n",
       "      <td>0.13</td>\n",
       "    </tr>\n",
       "    <tr>\n",
       "      <th>66378</th>\n",
       "      <td>I'll atke a look.</td>\n",
       "      <td>0</td>\n",
       "      <td>0.71</td>\n",
       "      <td>0.06</td>\n",
       "      <td>0.65</td>\n",
       "      <td>0.18</td>\n",
       "    </tr>\n",
       "    <tr>\n",
       "      <th>71594</th>\n",
       "      <td>No, they are not.</td>\n",
       "      <td>0</td>\n",
       "      <td>0.71</td>\n",
       "      <td>0.06</td>\n",
       "      <td>0.65</td>\n",
       "      <td>0.18</td>\n",
       "    </tr>\n",
       "    <tr>\n",
       "      <th>72390</th>\n",
       "      <td>Vandalism warning</td>\n",
       "      <td>0</td>\n",
       "      <td>0.94</td>\n",
       "      <td>0.06</td>\n",
       "      <td>0.88</td>\n",
       "      <td>0.06</td>\n",
       "    </tr>\n",
       "    <tr>\n",
       "      <th>80747</th>\n",
       "      <td>Please elaborate.</td>\n",
       "      <td>0</td>\n",
       "      <td>0.88</td>\n",
       "      <td>0.06</td>\n",
       "      <td>0.82</td>\n",
       "      <td>0.06</td>\n",
       "    </tr>\n",
       "    <tr>\n",
       "      <th>84788</th>\n",
       "      <td>And by the way...</td>\n",
       "      <td>0</td>\n",
       "      <td>0.65</td>\n",
       "      <td>0.06</td>\n",
       "      <td>0.59</td>\n",
       "      <td>0.18</td>\n",
       "    </tr>\n",
       "    <tr>\n",
       "      <th>89458</th>\n",
       "      <td>vandalism warning</td>\n",
       "      <td>0</td>\n",
       "      <td>0.94</td>\n",
       "      <td>0.00</td>\n",
       "      <td>0.94</td>\n",
       "      <td>0.06</td>\n",
       "    </tr>\n",
       "    <tr>\n",
       "      <th>93421</th>\n",
       "      <td>{{unblock|yo</td>\n",
       "      <td>0</td>\n",
       "      <td>0.75</td>\n",
       "      <td>0.00</td>\n",
       "      <td>0.75</td>\n",
       "      <td>0.00</td>\n",
       "    </tr>\n",
       "    <tr>\n",
       "      <th>98092</th>\n",
       "      <td>Stop edit warring</td>\n",
       "      <td>0</td>\n",
       "      <td>0.88</td>\n",
       "      <td>0.06</td>\n",
       "      <td>0.82</td>\n",
       "      <td>0.12</td>\n",
       "    </tr>\n",
       "    <tr>\n",
       "      <th>101306</th>\n",
       "      <td>GONE FISHING.</td>\n",
       "      <td>0</td>\n",
       "      <td>0.85</td>\n",
       "      <td>0.85</td>\n",
       "      <td>0.00</td>\n",
       "      <td>0.08</td>\n",
       "    </tr>\n",
       "    <tr>\n",
       "      <th>101552</th>\n",
       "      <td>Great, thank you!</td>\n",
       "      <td>0</td>\n",
       "      <td>0.76</td>\n",
       "      <td>0.06</td>\n",
       "      <td>0.71</td>\n",
       "      <td>0.12</td>\n",
       "    </tr>\n",
       "    <tr>\n",
       "      <th>101667</th>\n",
       "      <td>Have a riot sled.</td>\n",
       "      <td>0</td>\n",
       "      <td>0.76</td>\n",
       "      <td>0.06</td>\n",
       "      <td>0.71</td>\n",
       "      <td>0.18</td>\n",
       "    </tr>\n",
       "    <tr>\n",
       "      <th>109794</th>\n",
       "      <td>{{unbloc</td>\n",
       "      <td>0</td>\n",
       "      <td>0.75</td>\n",
       "      <td>0.00</td>\n",
       "      <td>0.75</td>\n",
       "      <td>0.00</td>\n",
       "    </tr>\n",
       "    <tr>\n",
       "      <th>112457</th>\n",
       "      <td>HELLO \\n\\nSee THIS.</td>\n",
       "      <td>0</td>\n",
       "      <td>0.71</td>\n",
       "      <td>0.59</td>\n",
       "      <td>0.12</td>\n",
       "      <td>0.12</td>\n",
       "    </tr>\n",
       "    <tr>\n",
       "      <th>116611</th>\n",
       "      <td>EDIT WAR!!! WOOT!</td>\n",
       "      <td>0</td>\n",
       "      <td>0.65</td>\n",
       "      <td>0.65</td>\n",
       "      <td>0.00</td>\n",
       "      <td>0.12</td>\n",
       "    </tr>\n",
       "    <tr>\n",
       "      <th>116972</th>\n",
       "      <td>Noted. Thank you.</td>\n",
       "      <td>0</td>\n",
       "      <td>0.76</td>\n",
       "      <td>0.12</td>\n",
       "      <td>0.65</td>\n",
       "      <td>0.12</td>\n",
       "    </tr>\n",
       "    <tr>\n",
       "      <th>117465</th>\n",
       "      <td>(talk)/(contribs)</td>\n",
       "      <td>0</td>\n",
       "      <td>0.71</td>\n",
       "      <td>0.00</td>\n",
       "      <td>0.71</td>\n",
       "      <td>0.00</td>\n",
       "    </tr>\n",
       "    <tr>\n",
       "      <th>119401</th>\n",
       "      <td>/* Etymology */=?</td>\n",
       "      <td>0</td>\n",
       "      <td>0.53</td>\n",
       "      <td>0.06</td>\n",
       "      <td>0.47</td>\n",
       "      <td>0.12</td>\n",
       "    </tr>\n",
       "    <tr>\n",
       "      <th>124604</th>\n",
       "      <td>Test ping \\n\\nTest.</td>\n",
       "      <td>0</td>\n",
       "      <td>0.71</td>\n",
       "      <td>0.12</td>\n",
       "      <td>0.59</td>\n",
       "      <td>0.12</td>\n",
       "    </tr>\n",
       "    <tr>\n",
       "      <th>126422</th>\n",
       "      <td>I will help, too.</td>\n",
       "      <td>0</td>\n",
       "      <td>0.71</td>\n",
       "      <td>0.06</td>\n",
       "      <td>0.65</td>\n",
       "      <td>0.18</td>\n",
       "    </tr>\n",
       "    <tr>\n",
       "      <th>127522</th>\n",
       "      <td>User:Wipeouting</td>\n",
       "      <td>0</td>\n",
       "      <td>0.93</td>\n",
       "      <td>0.13</td>\n",
       "      <td>0.80</td>\n",
       "      <td>0.00</td>\n",
       "    </tr>\n",
       "    <tr>\n",
       "      <th>131514</th>\n",
       "      <td>India quick links</td>\n",
       "      <td>0</td>\n",
       "      <td>0.88</td>\n",
       "      <td>0.06</td>\n",
       "      <td>0.82</td>\n",
       "      <td>0.12</td>\n",
       "    </tr>\n",
       "    <tr>\n",
       "      <th>135124</th>\n",
       "      <td>Albanian Military</td>\n",
       "      <td>0</td>\n",
       "      <td>0.94</td>\n",
       "      <td>0.12</td>\n",
       "      <td>0.82</td>\n",
       "      <td>0.06</td>\n",
       "    </tr>\n",
       "    <tr>\n",
       "      <th>136820</th>\n",
       "      <td>~ J.Lo</td>\n",
       "      <td>0</td>\n",
       "      <td>0.50</td>\n",
       "      <td>0.33</td>\n",
       "      <td>0.17</td>\n",
       "      <td>0.17</td>\n",
       "    </tr>\n",
       "    <tr>\n",
       "      <th>136914</th>\n",
       "      <td>warning \\n\\nwarning</td>\n",
       "      <td>0</td>\n",
       "      <td>0.82</td>\n",
       "      <td>0.00</td>\n",
       "      <td>0.82</td>\n",
       "      <td>0.06</td>\n",
       "    </tr>\n",
       "    <tr>\n",
       "      <th>137400</th>\n",
       "      <td>== \"\"\"</td>\n",
       "      <td>0</td>\n",
       "      <td>0.00</td>\n",
       "      <td>0.00</td>\n",
       "      <td>0.00</td>\n",
       "      <td>0.17</td>\n",
       "    </tr>\n",
       "    <tr>\n",
       "      <th>141644</th>\n",
       "      <td>Unblock Please</td>\n",
       "      <td>0</td>\n",
       "      <td>0.93</td>\n",
       "      <td>0.14</td>\n",
       "      <td>0.79</td>\n",
       "      <td>0.07</td>\n",
       "    </tr>\n",
       "    <tr>\n",
       "      <th>144006</th>\n",
       "      <td>Wow you're strict</td>\n",
       "      <td>0</td>\n",
       "      <td>0.82</td>\n",
       "      <td>0.06</td>\n",
       "      <td>0.76</td>\n",
       "      <td>0.12</td>\n",
       "    </tr>\n",
       "    <tr>\n",
       "      <th>146880</th>\n",
       "      <td>So make one then</td>\n",
       "      <td>0</td>\n",
       "      <td>0.81</td>\n",
       "      <td>0.06</td>\n",
       "      <td>0.75</td>\n",
       "      <td>0.19</td>\n",
       "    </tr>\n",
       "    <tr>\n",
       "      <th>150648</th>\n",
       "      <td>04:59, 22 Au</td>\n",
       "      <td>0</td>\n",
       "      <td>0.67</td>\n",
       "      <td>0.08</td>\n",
       "      <td>0.08</td>\n",
       "      <td>0.17</td>\n",
       "    </tr>\n",
       "    <tr>\n",
       "      <th>156827</th>\n",
       "      <td>Giving you notice</td>\n",
       "      <td>0</td>\n",
       "      <td>0.88</td>\n",
       "      <td>0.06</td>\n",
       "      <td>0.82</td>\n",
       "      <td>0.12</td>\n",
       "    </tr>\n",
       "    <tr>\n",
       "      <th>157899</th>\n",
       "      <td>per WP:COMMONNAME</td>\n",
       "      <td>0</td>\n",
       "      <td>0.88</td>\n",
       "      <td>0.71</td>\n",
       "      <td>0.18</td>\n",
       "      <td>0.06</td>\n",
       "    </tr>\n",
       "    <tr>\n",
       "      <th>159188</th>\n",
       "      <td>(talk • contribs)</td>\n",
       "      <td>0</td>\n",
       "      <td>0.71</td>\n",
       "      <td>0.00</td>\n",
       "      <td>0.71</td>\n",
       "      <td>0.12</td>\n",
       "    </tr>\n",
       "  </tbody>\n",
       "</table>\n",
       "</div>"
      ],
      "text/plain": [
       "                       text  toxic  ratio_alfa  ratio_upper  ratio_lower  \\\n",
       "2499      I understand now.      0        0.82         0.06         0.76   \n",
       "3347       Agreed and done.      0        0.81         0.06         0.75   \n",
       "3631         September 2008      0        0.93         0.07         0.57   \n",
       "4417      And quote from it      0        0.82         0.06         0.76   \n",
       "8110       Achtung y'all...      0        0.69         0.06         0.62   \n",
       "10121     Thanks! I am sure      0        0.76         0.12         0.65   \n",
       "10193        64.86.141.133\"      0        0.71         0.00         0.00   \n",
       "12100       Re: Talk:Niihau      0        0.80         0.20         0.60   \n",
       "15432               Howdy!\"      0        0.71         0.14         0.57   \n",
       "15588       You've got mail      0        0.80         0.07         0.73   \n",
       "19060     11 Rockfield Park      0        0.88         0.12         0.65   \n",
       "20017     Hello Theirrulez!      0        0.88         0.12         0.76   \n",
       "20550        September 2015      0        0.93         0.07         0.57   \n",
       "38743         88.104.31.21\"      0        0.69         0.00         0.00   \n",
       "40543     fresh attempts by      0        0.88         0.00         0.88   \n",
       "42082      DYK peer review?      0        0.81         0.19         0.62   \n",
       "52336                14:53,      0        0.67         0.00         0.00   \n",
       "53139      This upload NDSD      0        0.88         0.31         0.56   \n",
       "54257       Speedy deletion      0        0.93         0.07         0.87   \n",
       "61351       31 January 2007      0        0.87         0.07         0.40   \n",
       "66378     I'll atke a look.      0        0.71         0.06         0.65   \n",
       "71594     No, they are not.      0        0.71         0.06         0.65   \n",
       "72390     Vandalism warning      0        0.94         0.06         0.88   \n",
       "80747     Please elaborate.      0        0.88         0.06         0.82   \n",
       "84788     And by the way...      0        0.65         0.06         0.59   \n",
       "89458     vandalism warning      0        0.94         0.00         0.94   \n",
       "93421          {{unblock|yo      0        0.75         0.00         0.75   \n",
       "98092     Stop edit warring      0        0.88         0.06         0.82   \n",
       "101306        GONE FISHING.      0        0.85         0.85         0.00   \n",
       "101552    Great, thank you!      0        0.76         0.06         0.71   \n",
       "101667    Have a riot sled.      0        0.76         0.06         0.71   \n",
       "109794             {{unbloc      0        0.75         0.00         0.75   \n",
       "112457  HELLO \\n\\nSee THIS.      0        0.71         0.59         0.12   \n",
       "116611    EDIT WAR!!! WOOT!      0        0.65         0.65         0.00   \n",
       "116972    Noted. Thank you.      0        0.76         0.12         0.65   \n",
       "117465    (talk)/(contribs)      0        0.71         0.00         0.71   \n",
       "119401    /* Etymology */=?      0        0.53         0.06         0.47   \n",
       "124604  Test ping \\n\\nTest.      0        0.71         0.12         0.59   \n",
       "126422    I will help, too.      0        0.71         0.06         0.65   \n",
       "127522      User:Wipeouting      0        0.93         0.13         0.80   \n",
       "131514    India quick links      0        0.88         0.06         0.82   \n",
       "135124    Albanian Military      0        0.94         0.12         0.82   \n",
       "136820               ~ J.Lo      0        0.50         0.33         0.17   \n",
       "136914  warning \\n\\nwarning      0        0.82         0.00         0.82   \n",
       "137400               == \"\"\"      0        0.00         0.00         0.00   \n",
       "141644       Unblock Please      0        0.93         0.14         0.79   \n",
       "144006    Wow you're strict      0        0.82         0.06         0.76   \n",
       "146880     So make one then      0        0.81         0.06         0.75   \n",
       "150648         04:59, 22 Au      0        0.67         0.08         0.08   \n",
       "156827    Giving you notice      0        0.88         0.06         0.82   \n",
       "157899    per WP:COMMONNAME      0        0.88         0.71         0.18   \n",
       "159188    (talk • contribs)      0        0.71         0.00         0.71   \n",
       "\n",
       "        ratio_space  \n",
       "2499           0.12  \n",
       "3347           0.12  \n",
       "3631           0.07  \n",
       "4417           0.18  \n",
       "8110           0.06  \n",
       "10121          0.18  \n",
       "10193          0.00  \n",
       "12100          0.07  \n",
       "15432          0.00  \n",
       "15588          0.13  \n",
       "19060          0.12  \n",
       "20017          0.06  \n",
       "20550          0.07  \n",
       "38743          0.00  \n",
       "40543          0.12  \n",
       "42082          0.12  \n",
       "52336          0.00  \n",
       "53139          0.12  \n",
       "54257          0.07  \n",
       "61351          0.13  \n",
       "66378          0.18  \n",
       "71594          0.18  \n",
       "72390          0.06  \n",
       "80747          0.06  \n",
       "84788          0.18  \n",
       "89458          0.06  \n",
       "93421          0.00  \n",
       "98092          0.12  \n",
       "101306         0.08  \n",
       "101552         0.12  \n",
       "101667         0.18  \n",
       "109794         0.00  \n",
       "112457         0.12  \n",
       "116611         0.12  \n",
       "116972         0.12  \n",
       "117465         0.00  \n",
       "119401         0.12  \n",
       "124604         0.12  \n",
       "126422         0.18  \n",
       "127522         0.00  \n",
       "131514         0.12  \n",
       "135124         0.06  \n",
       "136820         0.17  \n",
       "136914         0.06  \n",
       "137400         0.17  \n",
       "141644         0.07  \n",
       "144006         0.12  \n",
       "146880         0.19  \n",
       "150648         0.17  \n",
       "156827         0.12  \n",
       "157899         0.06  \n",
       "159188         0.12  "
      ]
     },
     "execution_count": 32,
     "metadata": {},
     "output_type": "execute_result"
    }
   ],
   "source": [
    "# Посмотрим на короткие не токсичные сообщения\n",
    "data[(data['text'].str.len().between(0, 17))&(data['toxic']==0)]"
   ]
  },
  {
   "cell_type": "markdown",
   "metadata": {},
   "source": [
    "- Имется много непонятных сообщений содержащие только знаки препинания, возможно стоит провести <b>Пунктуационный разбор текста</b>. Оставим эту идею на случай необходимости улучшить результат.\n",
    "- Необходимо заменить все знаки препинания кроме ` и . .\n",
    "- Присутствуют команды разметки, поискать возможно есть словарь командами разметки и можно очистить от них сообщения."
   ]
  },
  {
   "cell_type": "markdown",
   "metadata": {
    "jp-MarkdownHeadingCollapsed": true,
    "tags": []
   },
   "source": [
    "### <font size=\"1\"><b> Вывод:</b></font>\n",
    "<div class=\"alert\" style=\"background-color:#ead7f7;color:#8737bf\">\n",
    "    \n",
    "1. В данных нет Nan.\n",
    "2. В длинных собщениях присутствуют непристойные слова и они правельно размечены, имеется на мой взгляд ошибочное значение разметки стока содержащая только <b>\"\"\"</b> не является Toxic.\n",
    "3. Всего около 10% токсичных сообщений.\n",
    "\n",
    "\n",
    "4. Сообщения состоят в основном из латинских символов.\n",
    "5. Присутствуют незначительное колличество сообщений с кирилическими символами.\n",
    "6. Отношение алфавитных символов к пунктационным имеет слабую корелляцию с ключевым признаком\n",
    "</div>"
   ]
  },
  {
   "cell_type": "markdown",
   "metadata": {},
   "source": [
    "## Обработка и подготовка данных к обучению"
   ]
  },
  {
   "cell_type": "code",
   "execution_count": 33,
   "metadata": {},
   "outputs": [],
   "source": [
    "# Чтобы ускорить работу берем SAMPLE случайных сообщений\n",
    "df_text = data.sample(frac=SAMPLE).reset_index(drop=True)"
   ]
  },
  {
   "cell_type": "code",
   "execution_count": 34,
   "metadata": {},
   "outputs": [],
   "source": [
    "# Разделяю на признаки и целевой признак\n",
    "X = df_text['text']  # features\n",
    "y = df_text['toxic'] # target\n",
    "\n",
    "del df_text"
   ]
  },
  {
   "cell_type": "code",
   "execution_count": 35,
   "metadata": {},
   "outputs": [
    {
     "data": {
      "application/vnd.jupyter.widget-view+json": {
       "model_id": "3729864e2d76440cb10f85643f51da03",
       "version_major": 2,
       "version_minor": 0
      },
      "text/plain": [
       "  0%|          | 0/159292 [00:00<?, ?it/s]"
      ]
     },
     "metadata": {},
     "output_type": "display_data"
    },
    {
     "name": "stdout",
     "output_type": "stream",
     "text": [
      "CPU times: user 20min 24s, sys: 14.1 s, total: 20min 38s\n",
      "Wall time: 21min 15s\n"
     ]
    }
   ],
   "source": [
    "%%time\n",
    "start = time.time()\n",
    "# Очистка и лемматизация выборки.\n",
    "# добавил .progress_apply, поправил лемматизатор\n",
    "corpus_lemma = X.progress_apply(lemmatize_clear)\n",
    "\n",
    "t_lemma = time.time() - start"
   ]
  },
  {
   "cell_type": "code",
   "execution_count": 36,
   "metadata": {},
   "outputs": [],
   "source": [
    "df_lemma = pd.DataFrame(corpus_lemma)"
   ]
  },
  {
   "cell_type": "code",
   "execution_count": 37,
   "metadata": {},
   "outputs": [
    {
     "data": {
      "text/html": [
       "<div>\n",
       "<style scoped>\n",
       "    .dataframe tbody tr th:only-of-type {\n",
       "        vertical-align: middle;\n",
       "    }\n",
       "\n",
       "    .dataframe tbody tr th {\n",
       "        vertical-align: top;\n",
       "    }\n",
       "\n",
       "    .dataframe thead th {\n",
       "        text-align: right;\n",
       "    }\n",
       "</style>\n",
       "<table border=\"1\" class=\"dataframe\">\n",
       "  <thead>\n",
       "    <tr style=\"text-align: right;\">\n",
       "      <th></th>\n",
       "      <th>text</th>\n",
       "    </tr>\n",
       "  </thead>\n",
       "  <tbody>\n",
       "    <tr>\n",
       "      <th>0</th>\n",
       "      <td>welcome    hello     and welcome to wikipedia ...</td>\n",
       "    </tr>\n",
       "    <tr>\n",
       "      <th>1</th>\n",
       "      <td>ungracious   what of it   I be not the queen  ...</td>\n",
       "    </tr>\n",
       "  </tbody>\n",
       "</table>\n",
       "</div>"
      ],
      "text/plain": [
       "                                                text\n",
       "0  welcome    hello     and welcome to wikipedia ...\n",
       "1  ungracious   what of it   I be not the queen  ..."
      ]
     },
     "execution_count": 37,
     "metadata": {},
     "output_type": "execute_result"
    }
   ],
   "source": [
    "df_lemma.head(2)"
   ]
  },
  {
   "cell_type": "markdown",
   "metadata": {},
   "source": [
    "### Делим на выборки"
   ]
  },
  {
   "cell_type": "code",
   "execution_count": 38,
   "metadata": {},
   "outputs": [
    {
     "data": {
      "text/html": [
       "<div>\n",
       "<style scoped>\n",
       "    .dataframe tbody tr th:only-of-type {\n",
       "        vertical-align: middle;\n",
       "    }\n",
       "\n",
       "    .dataframe tbody tr th {\n",
       "        vertical-align: top;\n",
       "    }\n",
       "\n",
       "    .dataframe thead th {\n",
       "        text-align: right;\n",
       "    }\n",
       "</style>\n",
       "<table border=\"1\" class=\"dataframe\">\n",
       "  <thead>\n",
       "    <tr style=\"text-align: right;\">\n",
       "      <th></th>\n",
       "      <th>text</th>\n",
       "      <th>ratio_alfa</th>\n",
       "      <th>ratio_upper</th>\n",
       "      <th>ratio_lower</th>\n",
       "      <th>ratio_space</th>\n",
       "    </tr>\n",
       "  </thead>\n",
       "  <tbody>\n",
       "    <tr>\n",
       "      <th>0</th>\n",
       "      <td>welcome    hello     and welcome to wikipedia ...</td>\n",
       "      <td>0.80</td>\n",
       "      <td>0.06</td>\n",
       "      <td>0.70</td>\n",
       "      <td>0.16</td>\n",
       "    </tr>\n",
       "    <tr>\n",
       "      <th>1</th>\n",
       "      <td>ungracious   what of it   I be not the queen  ...</td>\n",
       "      <td>0.74</td>\n",
       "      <td>0.07</td>\n",
       "      <td>0.58</td>\n",
       "      <td>0.15</td>\n",
       "    </tr>\n",
       "    <tr>\n",
       "      <th>2</th>\n",
       "      <td>b class    no      b class    no      b class ...</td>\n",
       "      <td>0.80</td>\n",
       "      <td>0.02</td>\n",
       "      <td>0.78</td>\n",
       "      <td>0.18</td>\n",
       "    </tr>\n",
       "  </tbody>\n",
       "</table>\n",
       "</div>"
      ],
      "text/plain": [
       "                                                text  ratio_alfa  ratio_upper  \\\n",
       "0  welcome    hello     and welcome to wikipedia ...        0.80         0.06   \n",
       "1  ungracious   what of it   I be not the queen  ...        0.74         0.07   \n",
       "2  b class    no      b class    no      b class ...        0.80         0.02   \n",
       "\n",
       "   ratio_lower  ratio_space  \n",
       "0         0.70         0.16  \n",
       "1         0.58         0.15  \n",
       "2         0.78         0.18  "
      ]
     },
     "execution_count": 38,
     "metadata": {},
     "output_type": "execute_result"
    }
   ],
   "source": [
    "# Добавим столбцы с новыми признаками \n",
    "df_lemma[['ratio_alfa', 'ratio_upper', 'ratio_lower', 'ratio_space']]\\\n",
    "= data[['ratio_alfa', 'ratio_upper', 'ratio_lower', 'ratio_space']]\n",
    "\n",
    "df_lemma.head(3)"
   ]
  },
  {
   "cell_type": "code",
   "execution_count": 39,
   "metadata": {},
   "outputs": [],
   "source": [
    "# Поделим на выборки, добавил valid\n",
    "X_train, X_split, y_train, y_split = train_test_split(\n",
    "    df_lemma, \n",
    "    y, \n",
    "    test_size= .2, #v2\n",
    "    random_state = RANDOM_SEED)\n",
    "\n",
    "X_test, X_valid, y_test, y_valid = train_test_split(\n",
    "    X_split, \n",
    "    y_split, \n",
    "    test_size= .5,\n",
    "    random_state = RANDOM_SEED)"
   ]
  },
  {
   "cell_type": "code",
   "execution_count": 40,
   "metadata": {},
   "outputs": [
    {
     "name": "stdout",
     "output_type": "stream",
     "text": [
      "\n",
      "train shape =  127433\n",
      "valid shape =  15930\n",
      "test shape  =  15929\n",
      "\n",
      "summ        = 159292\n",
      "\n",
      "              \n",
      "data        = 159292\n",
      "\n"
     ]
    }
   ],
   "source": [
    "# Смотрим как поделились выборки\n",
    "print(f'''\n",
    "train shape =  {X_train.shape[0]}\n",
    "valid shape =  {X_valid.shape[0]}\n",
    "test shape  =  {X_test.shape[0]}\n",
    "\n",
    "summ        = {X_train.shape[0]+\n",
    "               X_test.shape[0]+\n",
    "               X_valid.shape[0]}\n",
    "\n",
    "              \n",
    "data        = {data.shape[0]}\n",
    "''')"
   ]
  },
  {
   "cell_type": "code",
   "execution_count": 41,
   "metadata": {},
   "outputs": [],
   "source": [
    "# Вычислим TF-IDF для корпуса текстов\n",
    "count_tf_idf = TfidfVectorizer(stop_words=stopwords)\n",
    "\n",
    "tfidf_train = count_tf_idf.fit_transform(X_train['text'].values) # Обучаем TF-IDF\n",
    "\n",
    "tfidf_valid = count_tf_idf.transform(X_valid['text'].values)\n",
    "tfidf_test = count_tf_idf.transform(X_test['text'].values) # Трансформируем на обученой TF-IDF"
   ]
  },
  {
   "cell_type": "markdown",
   "metadata": {},
   "source": [
    "<hr><hr>\n",
    "\n",
    "## Обучение\n",
    "<hr><hr>"
   ]
  },
  {
   "cell_type": "markdown",
   "metadata": {},
   "source": [
    "### LogisticRegression"
   ]
  },
  {
   "cell_type": "code",
   "execution_count": 42,
   "metadata": {},
   "outputs": [
    {
     "name": "stdout",
     "output_type": "stream",
     "text": [
      "CPU times: user 293 µs, sys: 4 µs, total: 297 µs\n",
      "Wall time: 303 µs\n"
     ]
    }
   ],
   "source": [
    "%%time\n",
    "start = time.time()\n",
    "pipe = Pipeline([(\n",
    "    ('model',\n",
    "     LogisticRegression(random_state=RANDOM_STATE, \n",
    "                        solver='saga', \n",
    "                        max_iter=10000\n",
    "                        )\n",
    "    ))])\n",
    "\n",
    "param_grid = [{'model': [LogisticRegression(random_state=RANDOM_STATE, \n",
    "                                            solver='saga'\n",
    "                                           )\n",
    "                        ],\n",
    "               'model__penalty' : ['elasticnet', 'l1', 'l2'],\n",
    "               'model__C': list(range(1,10,3))\n",
    "              }]\n",
    "grid = GridSearchCV(pipe, \n",
    "                    param_grid=param_grid, \n",
    "                    scoring='f1', \n",
    "                    cv=6, \n",
    "                    verbose=True, \n",
    "                    n_jobs=-1\n",
    "                   )"
   ]
  },
  {
   "cell_type": "code",
   "execution_count": 43,
   "metadata": {},
   "outputs": [
    {
     "name": "stdout",
     "output_type": "stream",
     "text": [
      "Fitting 6 folds for each of 9 candidates, totalling 54 fits\n",
      "Лучшие параметры: {'model': LogisticRegression(C=7, penalty='l1', random_state=12345, solver='saga'), 'model__C': 7, 'model__penalty': 'l1'}\n",
      "Лучший результат: 0.7410468807837925\n",
      "CPU times: user 1min 59s, sys: 378 ms, total: 1min 59s\n",
      "Wall time: 1min 59s\n"
     ]
    }
   ],
   "source": [
    "%%time\n",
    "#V1 перенес комент\n",
    "start = time.time()\n",
    "\n",
    "best_grid = grid.fit(tfidf_valid, y_valid)\n",
    "\n",
    "print('Лучшие параметры:', grid.best_params_)\n",
    "print('Лучший результат:', grid.best_score_)\n",
    "\n",
    "t_grid_lr = time.time() - start"
   ]
  },
  {
   "cell_type": "markdown",
   "metadata": {},
   "source": [
    "### CatBoostClassifier"
   ]
  },
  {
   "cell_type": "code",
   "execution_count": 44,
   "metadata": {},
   "outputs": [],
   "source": [
    "scores = pd.DataFrame()\n",
    "\n",
    "model = CatBoostClassifier(iterations = 300, \n",
    "                           learning_rate = 0.5, \n",
    "                           eval_metric = 'F1', \n",
    "                           verbose = 30, \n",
    "                           random_state = RANDOM_STATE)"
   ]
  },
  {
   "cell_type": "code",
   "execution_count": 45,
   "metadata": {},
   "outputs": [
    {
     "name": "stdout",
     "output_type": "stream",
     "text": [
      "0:\tlearn: 0.4760469\ttotal: 3.41s\tremaining: 16m 58s\n",
      "30:\tlearn: 0.7095234\ttotal: 1m 15s\tremaining: 10m 55s\n",
      "60:\tlearn: 0.7556813\ttotal: 2m 23s\tremaining: 9m 23s\n",
      "90:\tlearn: 0.7772397\ttotal: 3m 35s\tremaining: 8m 13s\n",
      "120:\tlearn: 0.7897559\ttotal: 4m 46s\tremaining: 7m 3s\n",
      "150:\tlearn: 0.8019476\ttotal: 5m 54s\tremaining: 5m 49s\n",
      "180:\tlearn: 0.8122715\ttotal: 6m 57s\tremaining: 4m 34s\n",
      "210:\tlearn: 0.8221915\ttotal: 8m 2s\tremaining: 3m 23s\n",
      "240:\tlearn: 0.8300378\ttotal: 9m 7s\tremaining: 2m 14s\n",
      "270:\tlearn: 0.8337912\ttotal: 10m 16s\tremaining: 1m 5s\n",
      "299:\tlearn: 0.8358132\ttotal: 11m 20s\tremaining: 0us\n"
     ]
    },
    {
     "data": {
      "text/plain": [
       "<catboost.core.CatBoostClassifier at 0x7f93bc935fd0>"
      ]
     },
     "execution_count": 45,
     "metadata": {},
     "output_type": "execute_result"
    }
   ],
   "source": [
    "model.fit(tfidf_train, y_train)"
   ]
  },
  {
   "cell_type": "code",
   "execution_count": 46,
   "metadata": {},
   "outputs": [
    {
     "name": "stdout",
     "output_type": "stream",
     "text": [
      "F1 CatBoostClassifier =  0.78\n"
     ]
    }
   ],
   "source": [
    "cbc_score = f1_score(y_valid, model.predict(tfidf_valid))\n",
    "print('F1 CatBoostClassifier = ', round(cbc_score, 2))"
   ]
  },
  {
   "cell_type": "markdown",
   "metadata": {},
   "source": [
    "#### Посмотрим как CatBoost справится с новыми фичами"
   ]
  },
  {
   "cell_type": "code",
   "execution_count": 47,
   "metadata": {},
   "outputs": [],
   "source": [
    "scores = pd.DataFrame()\n",
    "\n",
    "model_n_f = CatBoostClassifier(iterations = 1000, \n",
    "                               learning_rate = 1, \n",
    "                               eval_metric = 'F1', \n",
    "                               verbose = 200, \n",
    "                               random_state = RANDOM_STATE)"
   ]
  },
  {
   "cell_type": "code",
   "execution_count": 48,
   "metadata": {},
   "outputs": [
    {
     "name": "stdout",
     "output_type": "stream",
     "text": [
      "0:\tlearn: 0.0000000\ttotal: 26.5ms\tremaining: 26.4s\n",
      "200:\tlearn: 0.0514050\ttotal: 5.88s\tremaining: 23.4s\n",
      "400:\tlearn: 0.0827810\ttotal: 11.9s\tremaining: 17.7s\n",
      "600:\tlearn: 0.1083830\ttotal: 18.1s\tremaining: 12s\n",
      "800:\tlearn: 0.1254857\ttotal: 24s\tremaining: 5.96s\n",
      "999:\tlearn: 0.1421652\ttotal: 30s\tremaining: 0us\n"
     ]
    },
    {
     "data": {
      "text/plain": [
       "<catboost.core.CatBoostClassifier at 0x7f93bc935190>"
      ]
     },
     "execution_count": 48,
     "metadata": {},
     "output_type": "execute_result"
    }
   ],
   "source": [
    "model_n_f.fit(X_train[['ratio_alfa', \n",
    "                       'ratio_upper', \n",
    "                       'ratio_lower', \n",
    "                       'ratio_space']],\n",
    "              y_train)"
   ]
  },
  {
   "cell_type": "markdown",
   "metadata": {},
   "source": [
    "- Попробовал обучить CatBoost на новых фичах, результат F1 CatBoostClassifier =  0.02377\n",
    "- Возможно стоит использовать как дообучение модели"
   ]
  },
  {
   "cell_type": "code",
   "execution_count": 49,
   "metadata": {},
   "outputs": [
    {
     "name": "stdout",
     "output_type": "stream",
     "text": [
      "F1 CatBoostClassifier =  0.01011\n"
     ]
    }
   ],
   "source": [
    "cbc_score = f1_score(y_valid, \n",
    "                     model_n_f.predict(X_valid[['ratio_alfa', \n",
    "                                                'ratio_upper', \n",
    "                                                'ratio_lower', \n",
    "                                                'ratio_space']]))\n",
    "\n",
    "print('F1 CatBoostClassifier = ', round(cbc_score, 5))"
   ]
  },
  {
   "cell_type": "markdown",
   "metadata": {},
   "source": [
    "<hr><hr>\n",
    "\n",
    "## Вывод\n",
    "<hr><hr>"
   ]
  },
  {
   "cell_type": "markdown",
   "metadata": {},
   "source": [
    "### Финальный результат\n",
    "\n",
    "Лучше всего справляется CatBoostClassifie, посмотрим на тестовых данных:"
   ]
  },
  {
   "cell_type": "code",
   "execution_count": 50,
   "metadata": {},
   "outputs": [
    {
     "name": "stdout",
     "output_type": "stream",
     "text": [
      "F1 CatBoostClassifier =  0.77\n"
     ]
    }
   ],
   "source": [
    "cbc_score_fin = f1_score(y_test, model.predict(tfidf_test))\n",
    "print('F1 CatBoostClassifier = ', round(cbc_score_fin, 2))"
   ]
  },
  {
   "cell_type": "markdown",
   "metadata": {},
   "source": [
    "- Модель CatBoostClassifier лучше всего справилась с задачей, F1 на валидационнойй выборке: 0.78, F1 на тесте 0.77."
   ]
  }
 ],
 "metadata": {
  "ExecuteTimeLog": [
   {
    "duration": 5643,
    "start_time": "2023-03-29T04:27:59.579Z"
   },
   {
    "duration": 4970,
    "start_time": "2023-03-29T04:45:47.139Z"
   },
   {
    "duration": 3,
    "start_time": "2023-03-29T08:06:19.547Z"
   },
   {
    "duration": 3,
    "start_time": "2023-03-29T08:06:37.383Z"
   },
   {
    "duration": 331,
    "start_time": "2023-03-29T08:08:51.257Z"
   },
   {
    "duration": 3,
    "start_time": "2023-03-29T08:10:05.852Z"
   },
   {
    "duration": 2,
    "start_time": "2023-03-29T08:10:23.282Z"
   },
   {
    "duration": 3,
    "start_time": "2023-03-29T08:10:24.984Z"
   },
   {
    "duration": 4,
    "start_time": "2023-03-29T08:10:26.553Z"
   },
   {
    "duration": 266,
    "start_time": "2023-03-29T08:10:28.814Z"
   },
   {
    "duration": 20488,
    "start_time": "2023-03-29T08:10:30.253Z"
   },
   {
    "duration": 275,
    "start_time": "2023-03-29T08:11:26.647Z"
   },
   {
    "duration": 64,
    "start_time": "2023-03-29T08:12:59.308Z"
   },
   {
    "duration": 3,
    "start_time": "2023-03-29T08:13:14.659Z"
   },
   {
    "duration": 58,
    "start_time": "2023-03-29T08:13:17.618Z"
   },
   {
    "duration": 282,
    "start_time": "2023-03-29T08:14:39.354Z"
   },
   {
    "duration": 1353,
    "start_time": "2023-03-29T08:15:42.467Z"
   },
   {
    "duration": 4,
    "start_time": "2023-03-29T08:17:01.847Z"
   },
   {
    "duration": 16,
    "start_time": "2023-03-29T08:17:04.033Z"
   },
   {
    "duration": 4,
    "start_time": "2023-03-29T08:17:10.462Z"
   },
   {
    "duration": 4,
    "start_time": "2023-03-29T08:26:34.310Z"
   },
   {
    "duration": 5,
    "start_time": "2023-03-29T08:31:45.695Z"
   },
   {
    "duration": 5,
    "start_time": "2023-03-29T08:32:34.248Z"
   },
   {
    "duration": 159,
    "start_time": "2023-03-29T08:35:54.365Z"
   },
   {
    "duration": 35,
    "start_time": "2023-03-29T08:36:09.767Z"
   },
   {
    "duration": 5,
    "start_time": "2023-03-29T08:36:47.840Z"
   },
   {
    "duration": 874,
    "start_time": "2023-03-29T08:36:53.044Z"
   },
   {
    "duration": 3,
    "start_time": "2023-03-29T08:37:15.085Z"
   },
   {
    "duration": 3,
    "start_time": "2023-03-29T08:37:18.940Z"
   },
   {
    "duration": 798,
    "start_time": "2023-03-29T08:37:20.221Z"
   },
   {
    "duration": 4,
    "start_time": "2023-03-29T08:38:05.419Z"
   },
   {
    "duration": 932,
    "start_time": "2023-03-29T08:38:06.646Z"
   },
   {
    "duration": 5,
    "start_time": "2023-03-29T08:38:43.585Z"
   },
   {
    "duration": 739,
    "start_time": "2023-03-29T08:38:46.386Z"
   },
   {
    "duration": 7,
    "start_time": "2023-03-29T08:42:31.311Z"
   },
   {
    "duration": 49,
    "start_time": "2023-03-29T08:42:33.899Z"
   },
   {
    "duration": 5,
    "start_time": "2023-03-29T08:43:35.199Z"
   },
   {
    "duration": 52,
    "start_time": "2023-03-29T08:43:36.930Z"
   },
   {
    "duration": 6,
    "start_time": "2023-03-29T08:43:50.918Z"
   },
   {
    "duration": 798,
    "start_time": "2023-03-29T08:43:51.692Z"
   },
   {
    "duration": 6,
    "start_time": "2023-03-29T08:44:26.151Z"
   },
   {
    "duration": 828,
    "start_time": "2023-03-29T08:44:27.686Z"
   },
   {
    "duration": 6,
    "start_time": "2023-03-29T08:45:40.438Z"
   },
   {
    "duration": 5,
    "start_time": "2023-03-29T08:45:55.997Z"
   },
   {
    "duration": 5,
    "start_time": "2023-03-29T08:46:03.903Z"
   },
   {
    "duration": 4,
    "start_time": "2023-03-29T08:46:43.310Z"
   },
   {
    "duration": 768,
    "start_time": "2023-03-29T08:46:45.258Z"
   },
   {
    "duration": 6,
    "start_time": "2023-03-29T08:47:35.050Z"
   },
   {
    "duration": 5,
    "start_time": "2023-03-29T08:47:45.811Z"
   },
   {
    "duration": 4,
    "start_time": "2023-03-29T08:48:00.426Z"
   },
   {
    "duration": 4,
    "start_time": "2023-03-29T08:48:16.105Z"
   },
   {
    "duration": 736,
    "start_time": "2023-03-29T08:48:17.193Z"
   },
   {
    "duration": 255,
    "start_time": "2023-03-29T08:49:09.921Z"
   },
   {
    "duration": 66,
    "start_time": "2023-03-29T08:49:33.450Z"
   },
   {
    "duration": 152,
    "start_time": "2023-03-29T08:49:38.921Z"
   },
   {
    "duration": 219,
    "start_time": "2023-03-29T08:49:50.160Z"
   },
   {
    "duration": 98,
    "start_time": "2023-03-29T08:50:01.216Z"
   },
   {
    "duration": 5,
    "start_time": "2023-03-29T08:50:14.818Z"
   },
   {
    "duration": 4,
    "start_time": "2023-03-29T08:50:14.951Z"
   },
   {
    "duration": 821,
    "start_time": "2023-03-29T08:50:16.802Z"
   },
   {
    "duration": 4,
    "start_time": "2023-03-29T08:50:45.352Z"
   },
   {
    "duration": 729,
    "start_time": "2023-03-29T08:50:47.095Z"
   },
   {
    "duration": 3,
    "start_time": "2023-03-29T08:50:54.890Z"
   },
   {
    "duration": 755,
    "start_time": "2023-03-29T08:50:56.604Z"
   },
   {
    "duration": 7,
    "start_time": "2023-03-29T08:51:16.689Z"
   },
   {
    "duration": 769,
    "start_time": "2023-03-29T08:51:18.001Z"
   },
   {
    "duration": 3,
    "start_time": "2023-03-29T08:51:29.112Z"
   },
   {
    "duration": 733,
    "start_time": "2023-03-29T08:51:30.994Z"
   },
   {
    "duration": 5,
    "start_time": "2023-03-29T09:57:37.928Z"
   },
   {
    "duration": 4,
    "start_time": "2023-03-29T09:57:46.808Z"
   },
   {
    "duration": 783,
    "start_time": "2023-03-29T09:57:49.896Z"
   },
   {
    "duration": 4,
    "start_time": "2023-03-29T09:58:10.345Z"
   },
   {
    "duration": 779,
    "start_time": "2023-03-29T09:58:11.664Z"
   },
   {
    "duration": 4,
    "start_time": "2023-03-29T09:58:45.785Z"
   },
   {
    "duration": 779,
    "start_time": "2023-03-29T09:58:47.039Z"
   },
   {
    "duration": 4,
    "start_time": "2023-03-29T09:59:02.385Z"
   },
   {
    "duration": 782,
    "start_time": "2023-03-29T09:59:04.207Z"
   },
   {
    "duration": 769,
    "start_time": "2023-03-29T10:00:57.185Z"
   },
   {
    "duration": 843,
    "start_time": "2023-03-29T10:01:36.502Z"
   },
   {
    "duration": 4,
    "start_time": "2023-03-29T10:03:16.308Z"
   },
   {
    "duration": 915,
    "start_time": "2023-03-29T10:03:17.770Z"
   },
   {
    "duration": 5,
    "start_time": "2023-03-29T10:04:26.547Z"
   },
   {
    "duration": 5,
    "start_time": "2023-03-29T10:04:33.010Z"
   },
   {
    "duration": 961,
    "start_time": "2023-03-29T10:04:36.873Z"
   },
   {
    "duration": 39,
    "start_time": "2023-03-29T10:06:53.916Z"
   },
   {
    "duration": 269,
    "start_time": "2023-03-29T10:07:51.807Z"
   },
   {
    "duration": 212,
    "start_time": "2023-03-29T10:09:04.078Z"
   },
   {
    "duration": 22,
    "start_time": "2023-03-29T10:09:29.549Z"
   },
   {
    "duration": 23,
    "start_time": "2023-03-29T10:09:33.989Z"
   },
   {
    "duration": 2888,
    "start_time": "2023-03-29T10:09:36.853Z"
   },
   {
    "duration": 13,
    "start_time": "2023-03-29T10:09:45.428Z"
   },
   {
    "duration": 13,
    "start_time": "2023-03-29T10:09:47.797Z"
   },
   {
    "duration": 30,
    "start_time": "2023-03-29T10:09:50.151Z"
   },
   {
    "duration": 11,
    "start_time": "2023-03-29T10:09:52.239Z"
   },
   {
    "duration": 8,
    "start_time": "2023-03-29T10:09:53.926Z"
   },
   {
    "duration": 100,
    "start_time": "2023-03-29T10:10:14.350Z"
   },
   {
    "duration": 192,
    "start_time": "2023-03-29T10:10:19.276Z"
   },
   {
    "duration": 150,
    "start_time": "2023-03-29T10:10:21.612Z"
   },
   {
    "duration": 132,
    "start_time": "2023-03-29T10:10:24.270Z"
   },
   {
    "duration": 119,
    "start_time": "2023-03-29T10:10:25.970Z"
   },
   {
    "duration": 3,
    "start_time": "2023-03-29T10:10:42.708Z"
   },
   {
    "duration": 221,
    "start_time": "2023-03-29T15:11:18.738Z"
   },
   {
    "duration": 4462,
    "start_time": "2023-03-29T15:11:18.962Z"
   },
   {
    "duration": 72,
    "start_time": "2023-03-30T09:49:34.098Z"
   },
   {
    "duration": 4,
    "start_time": "2023-03-30T09:50:22.931Z"
   },
   {
    "duration": 9,
    "start_time": "2023-03-30T09:50:25.295Z"
   },
   {
    "duration": 3,
    "start_time": "2023-03-30T09:50:49.312Z"
   },
   {
    "duration": 10,
    "start_time": "2023-03-30T09:50:49.317Z"
   },
   {
    "duration": 1266,
    "start_time": "2023-03-30T09:50:49.329Z"
   },
   {
    "duration": 554,
    "start_time": "2023-03-30T09:50:50.598Z"
   },
   {
    "duration": 414,
    "start_time": "2023-03-30T09:50:51.154Z"
   },
   {
    "duration": 3,
    "start_time": "2023-03-30T09:50:51.569Z"
   },
   {
    "duration": 16,
    "start_time": "2023-03-30T09:50:51.575Z"
   },
   {
    "duration": 14,
    "start_time": "2023-03-30T09:50:51.592Z"
   },
   {
    "duration": 6,
    "start_time": "2023-03-30T09:50:51.608Z"
   },
   {
    "duration": 679,
    "start_time": "2023-03-30T09:50:54.917Z"
   },
   {
    "duration": 698,
    "start_time": "2023-03-30T09:52:31.106Z"
   },
   {
    "duration": 3674,
    "start_time": "2023-03-30T09:52:51.816Z"
   },
   {
    "duration": 4,
    "start_time": "2023-03-30T09:52:55.493Z"
   },
   {
    "duration": 11,
    "start_time": "2023-03-30T09:52:55.499Z"
   },
   {
    "duration": 27,
    "start_time": "2023-03-30T09:53:01.293Z"
   },
   {
    "duration": 9,
    "start_time": "2023-03-30T09:53:03.433Z"
   },
   {
    "duration": 69,
    "start_time": "2023-03-30T09:53:20.089Z"
   },
   {
    "duration": 249,
    "start_time": "2023-03-30T09:53:24.144Z"
   },
   {
    "duration": 153,
    "start_time": "2023-03-30T09:53:25.704Z"
   },
   {
    "duration": 296,
    "start_time": "2023-03-30T09:56:26.004Z"
   },
   {
    "duration": 295,
    "start_time": "2023-03-30T09:56:42.213Z"
   },
   {
    "duration": 406,
    "start_time": "2023-03-30T09:57:34.197Z"
   },
   {
    "duration": 277,
    "start_time": "2023-03-30T09:57:40.812Z"
   },
   {
    "duration": 117,
    "start_time": "2023-03-30T09:58:25.596Z"
   },
   {
    "duration": 407,
    "start_time": "2023-03-30T09:58:49.061Z"
   },
   {
    "duration": 409,
    "start_time": "2023-03-30T10:00:08.035Z"
   },
   {
    "duration": 411,
    "start_time": "2023-03-30T10:00:48.130Z"
   },
   {
    "duration": 732,
    "start_time": "2023-03-30T10:01:53.040Z"
   },
   {
    "duration": 815,
    "start_time": "2023-03-30T10:02:16.048Z"
   },
   {
    "duration": 888,
    "start_time": "2023-03-30T10:02:31.873Z"
   },
   {
    "duration": 794,
    "start_time": "2023-03-30T10:02:44.390Z"
   },
   {
    "duration": 830,
    "start_time": "2023-03-30T10:03:27.777Z"
   },
   {
    "duration": 5,
    "start_time": "2023-03-30T10:04:03.647Z"
   },
   {
    "duration": 914,
    "start_time": "2023-03-30T10:04:10.696Z"
   },
   {
    "duration": 3,
    "start_time": "2023-03-30T10:07:27.702Z"
   },
   {
    "duration": 4,
    "start_time": "2023-03-30T10:07:58.619Z"
   },
   {
    "duration": 104818,
    "start_time": "2023-03-30T10:08:08.818Z"
   },
   {
    "duration": 77,
    "start_time": "2023-03-30T10:12:35.589Z"
   },
   {
    "duration": 37,
    "start_time": "2023-03-30T10:13:08.629Z"
   },
   {
    "duration": 4,
    "start_time": "2023-03-30T10:13:11.126Z"
   },
   {
    "duration": 1940,
    "start_time": "2023-03-30T10:16:19.617Z"
   },
   {
    "duration": 6,
    "start_time": "2023-03-30T10:16:27.218Z"
   },
   {
    "duration": 7,
    "start_time": "2023-03-30T10:25:18.037Z"
   },
   {
    "duration": 12,
    "start_time": "2023-03-30T10:25:28.008Z"
   },
   {
    "duration": 9,
    "start_time": "2023-03-30T10:26:49.144Z"
   },
   {
    "duration": 3,
    "start_time": "2023-03-30T10:26:51.939Z"
   },
   {
    "duration": 7259,
    "start_time": "2023-03-30T10:26:57.905Z"
   },
   {
    "duration": 5,
    "start_time": "2023-03-30T10:28:57.997Z"
   },
   {
    "duration": 98,
    "start_time": "2023-03-30T10:31:07.361Z"
   },
   {
    "duration": 18,
    "start_time": "2023-03-30T10:31:28.404Z"
   },
   {
    "duration": 4,
    "start_time": "2023-03-30T10:32:12.511Z"
   },
   {
    "duration": 830,
    "start_time": "2023-03-30T10:32:43.591Z"
   },
   {
    "duration": 2317,
    "start_time": "2023-03-30T10:32:57.709Z"
   },
   {
    "duration": 65,
    "start_time": "2023-03-30T10:35:36.424Z"
   },
   {
    "duration": 76,
    "start_time": "2023-03-30T10:38:02.053Z"
   },
   {
    "duration": 29,
    "start_time": "2023-03-30T10:39:32.805Z"
   },
   {
    "duration": 5,
    "start_time": "2023-03-30T10:39:34.709Z"
   },
   {
    "duration": 22,
    "start_time": "2023-03-30T10:42:22.300Z"
   },
   {
    "duration": 20,
    "start_time": "2023-03-30T10:43:41.336Z"
   },
   {
    "duration": 3,
    "start_time": "2023-03-30T10:43:46.303Z"
   },
   {
    "duration": 28,
    "start_time": "2023-03-30T10:43:57.594Z"
   },
   {
    "duration": 5,
    "start_time": "2023-03-30T10:44:18.244Z"
   },
   {
    "duration": 26,
    "start_time": "2023-03-30T10:44:26.416Z"
   },
   {
    "duration": 6,
    "start_time": "2023-03-30T10:45:15.910Z"
   },
   {
    "duration": 909,
    "start_time": "2023-03-30T10:45:32.318Z"
   },
   {
    "duration": 930,
    "start_time": "2023-03-30T10:48:11.066Z"
   },
   {
    "duration": 48530,
    "start_time": "2023-03-30T10:50:16.754Z"
   },
   {
    "duration": 52350,
    "start_time": "2023-03-30T10:55:14.941Z"
   },
   {
    "duration": 41078,
    "start_time": "2023-03-30T10:56:07.307Z"
   },
   {
    "duration": 5,
    "start_time": "2023-03-30T10:56:53.495Z"
   },
   {
    "duration": 8,
    "start_time": "2023-03-30T10:57:00.898Z"
   },
   {
    "duration": 4,
    "start_time": "2023-03-30T10:57:06.146Z"
   },
   {
    "duration": 6,
    "start_time": "2023-03-30T10:58:41.113Z"
   },
   {
    "duration": 21,
    "start_time": "2023-03-30T10:58:48.129Z"
   },
   {
    "duration": 92,
    "start_time": "2023-03-30T10:58:51.129Z"
   },
   {
    "duration": 8,
    "start_time": "2023-03-30T10:58:54.321Z"
   },
   {
    "duration": 4,
    "start_time": "2023-03-30T10:59:02.248Z"
   },
   {
    "duration": 26,
    "start_time": "2023-03-30T10:59:06.072Z"
   },
   {
    "duration": 29,
    "start_time": "2023-03-30T10:59:07.589Z"
   },
   {
    "duration": 5,
    "start_time": "2023-03-30T10:59:09.712Z"
   },
   {
    "duration": 9,
    "start_time": "2023-03-30T10:59:25.602Z"
   },
   {
    "duration": 20,
    "start_time": "2023-03-30T10:59:30.103Z"
   },
   {
    "duration": 11,
    "start_time": "2023-03-30T10:59:37.473Z"
   },
   {
    "duration": 3,
    "start_time": "2023-03-30T10:59:58.940Z"
   },
   {
    "duration": 4,
    "start_time": "2023-03-30T11:00:06.720Z"
   },
   {
    "duration": 252,
    "start_time": "2023-03-30T11:03:10.205Z"
   },
   {
    "duration": 83,
    "start_time": "2023-03-30T11:03:25.435Z"
   },
   {
    "duration": 21,
    "start_time": "2023-03-30T11:04:44.614Z"
   },
   {
    "duration": 5,
    "start_time": "2023-03-30T11:04:44.638Z"
   },
   {
    "duration": 24521,
    "start_time": "2023-03-30T11:04:44.645Z"
   },
   {
    "duration": 16,
    "start_time": "2023-03-30T11:05:09.169Z"
   },
   {
    "duration": 12,
    "start_time": "2023-03-30T11:05:09.191Z"
   },
   {
    "duration": 18,
    "start_time": "2023-03-30T11:05:48.591Z"
   },
   {
    "duration": 5,
    "start_time": "2023-03-30T11:05:48.620Z"
   },
   {
    "duration": 2137,
    "start_time": "2023-03-30T11:05:48.629Z"
   },
   {
    "duration": 654,
    "start_time": "2023-03-30T11:05:50.768Z"
   },
   {
    "duration": 519,
    "start_time": "2023-03-30T11:05:51.426Z"
   },
   {
    "duration": 3,
    "start_time": "2023-03-30T11:05:51.948Z"
   },
   {
    "duration": 12,
    "start_time": "2023-03-30T11:05:51.953Z"
   },
   {
    "duration": 11,
    "start_time": "2023-03-30T11:05:51.967Z"
   },
   {
    "duration": 21,
    "start_time": "2023-03-30T11:05:51.979Z"
   },
   {
    "duration": 811,
    "start_time": "2023-03-30T11:05:52.006Z"
   },
   {
    "duration": 4402,
    "start_time": "2023-03-30T11:05:52.823Z"
   },
   {
    "duration": 5,
    "start_time": "2023-03-30T11:05:57.227Z"
   },
   {
    "duration": 16,
    "start_time": "2023-03-30T11:05:57.233Z"
   },
   {
    "duration": 61,
    "start_time": "2023-03-30T11:05:57.252Z"
   },
   {
    "duration": 99,
    "start_time": "2023-03-30T11:05:57.315Z"
   },
   {
    "duration": 9,
    "start_time": "2023-03-30T11:05:57.416Z"
   },
   {
    "duration": 86,
    "start_time": "2023-03-30T11:05:57.428Z"
   },
   {
    "duration": 1061,
    "start_time": "2023-03-30T11:05:57.516Z"
   },
   {
    "duration": 232,
    "start_time": "2023-03-30T11:05:58.579Z"
   },
   {
    "duration": 158,
    "start_time": "2023-03-30T11:05:58.814Z"
   },
   {
    "duration": 136,
    "start_time": "2023-03-30T11:05:58.974Z"
   },
   {
    "duration": 123,
    "start_time": "2023-03-30T11:05:59.113Z"
   },
   {
    "duration": 13,
    "start_time": "2023-03-30T11:05:59.238Z"
   },
   {
    "duration": 8,
    "start_time": "2023-03-30T11:05:59.253Z"
   },
   {
    "duration": 23849,
    "start_time": "2023-03-30T11:05:59.278Z"
   },
   {
    "duration": 15,
    "start_time": "2023-03-30T11:06:23.133Z"
   },
   {
    "duration": 5,
    "start_time": "2023-03-30T11:06:23.150Z"
   },
   {
    "duration": 2781,
    "start_time": "2023-03-30T11:06:23.158Z"
   },
   {
    "duration": 65,
    "start_time": "2023-03-30T11:06:25.941Z"
   },
   {
    "duration": 0,
    "start_time": "2023-03-30T11:06:26.009Z"
   },
   {
    "duration": 106800,
    "start_time": "2023-03-30T11:07:30.373Z"
   },
   {
    "duration": 118,
    "start_time": "2023-03-30T11:10:59.625Z"
   },
   {
    "duration": 3,
    "start_time": "2023-03-30T11:11:35.121Z"
   },
   {
    "duration": 4,
    "start_time": "2023-03-30T11:11:53.509Z"
   },
   {
    "duration": 110115,
    "start_time": "2023-03-30T11:11:57.187Z"
   },
   {
    "duration": 5,
    "start_time": "2023-03-30T11:15:20.004Z"
   },
   {
    "duration": 4,
    "start_time": "2023-03-30T11:15:28.960Z"
   },
   {
    "duration": 3,
    "start_time": "2023-03-30T11:16:59.557Z"
   },
   {
    "duration": 3,
    "start_time": "2023-03-30T11:18:06.030Z"
   },
   {
    "duration": 8,
    "start_time": "2023-03-30T11:18:06.040Z"
   },
   {
    "duration": 5,
    "start_time": "2023-03-30T11:18:06.050Z"
   },
   {
    "duration": 6,
    "start_time": "2023-03-30T11:18:06.057Z"
   },
   {
    "duration": 16,
    "start_time": "2023-03-30T11:18:06.065Z"
   },
   {
    "duration": 10,
    "start_time": "2023-03-30T11:18:06.088Z"
   },
   {
    "duration": 6,
    "start_time": "2023-03-30T11:18:06.101Z"
   },
   {
    "duration": 13,
    "start_time": "2023-03-30T11:18:06.110Z"
   },
   {
    "duration": 9,
    "start_time": "2023-03-30T11:18:06.125Z"
   },
   {
    "duration": 35,
    "start_time": "2023-03-30T11:18:06.136Z"
   },
   {
    "duration": 857,
    "start_time": "2023-03-30T11:18:06.173Z"
   },
   {
    "duration": 1031,
    "start_time": "2023-03-30T11:18:07.032Z"
   },
   {
    "duration": 4,
    "start_time": "2023-03-30T11:18:08.065Z"
   },
   {
    "duration": 24,
    "start_time": "2023-03-30T11:18:08.083Z"
   },
   {
    "duration": 41,
    "start_time": "2023-03-30T11:18:08.111Z"
   },
   {
    "duration": 100,
    "start_time": "2023-03-30T11:18:08.154Z"
   },
   {
    "duration": 16,
    "start_time": "2023-03-30T11:18:08.257Z"
   },
   {
    "duration": 93,
    "start_time": "2023-03-30T11:18:08.275Z"
   },
   {
    "duration": 1040,
    "start_time": "2023-03-30T11:18:08.370Z"
   },
   {
    "duration": 185,
    "start_time": "2023-03-30T11:18:09.416Z"
   },
   {
    "duration": 138,
    "start_time": "2023-03-30T11:18:09.603Z"
   },
   {
    "duration": 105,
    "start_time": "2023-03-30T11:18:09.742Z"
   },
   {
    "duration": 111,
    "start_time": "2023-03-30T11:18:09.849Z"
   },
   {
    "duration": 17,
    "start_time": "2023-03-30T11:18:49.772Z"
   },
   {
    "duration": 23,
    "start_time": "2023-03-30T11:18:49.792Z"
   },
   {
    "duration": 2338,
    "start_time": "2023-03-30T11:18:49.818Z"
   },
   {
    "duration": 679,
    "start_time": "2023-03-30T11:18:52.159Z"
   },
   {
    "duration": 474,
    "start_time": "2023-03-30T11:18:52.840Z"
   },
   {
    "duration": 4,
    "start_time": "2023-03-30T11:18:53.316Z"
   },
   {
    "duration": 5,
    "start_time": "2023-03-30T11:18:53.322Z"
   },
   {
    "duration": 17,
    "start_time": "2023-03-30T11:18:53.329Z"
   },
   {
    "duration": 12,
    "start_time": "2023-03-30T11:18:53.347Z"
   },
   {
    "duration": 6,
    "start_time": "2023-03-30T11:18:53.360Z"
   },
   {
    "duration": 827,
    "start_time": "2023-03-30T11:18:53.368Z"
   },
   {
    "duration": 1092,
    "start_time": "2023-03-30T11:18:54.199Z"
   },
   {
    "duration": 19,
    "start_time": "2023-03-30T11:18:55.292Z"
   },
   {
    "duration": 33,
    "start_time": "2023-03-30T11:18:55.314Z"
   },
   {
    "duration": 43,
    "start_time": "2023-03-30T11:18:55.349Z"
   },
   {
    "duration": 108,
    "start_time": "2023-03-30T11:18:55.394Z"
   },
   {
    "duration": 11,
    "start_time": "2023-03-30T11:18:55.504Z"
   },
   {
    "duration": 91,
    "start_time": "2023-03-30T11:18:55.517Z"
   },
   {
    "duration": 988,
    "start_time": "2023-03-30T11:18:55.613Z"
   },
   {
    "duration": 185,
    "start_time": "2023-03-30T11:18:56.605Z"
   },
   {
    "duration": 126,
    "start_time": "2023-03-30T11:18:56.792Z"
   },
   {
    "duration": 113,
    "start_time": "2023-03-30T11:18:56.920Z"
   },
   {
    "duration": 110,
    "start_time": "2023-03-30T11:18:57.035Z"
   },
   {
    "duration": 17,
    "start_time": "2023-03-30T11:18:57.146Z"
   },
   {
    "duration": 14,
    "start_time": "2023-03-30T11:18:57.164Z"
   },
   {
    "duration": 40323,
    "start_time": "2023-03-30T11:18:57.181Z"
   },
   {
    "duration": 18,
    "start_time": "2023-03-30T11:19:37.507Z"
   },
   {
    "duration": 8,
    "start_time": "2023-03-30T11:19:37.527Z"
   },
   {
    "duration": 4803,
    "start_time": "2023-03-30T11:19:37.539Z"
   },
   {
    "duration": 112075,
    "start_time": "2023-03-30T11:19:42.345Z"
   },
   {
    "duration": 51,
    "start_time": "2023-03-30T11:21:34.432Z"
   },
   {
    "duration": 4,
    "start_time": "2023-03-30T12:47:03.463Z"
   },
   {
    "duration": 4,
    "start_time": "2023-03-30T12:47:08.903Z"
   },
   {
    "duration": 5,
    "start_time": "2023-03-30T12:47:16.397Z"
   },
   {
    "duration": 5,
    "start_time": "2023-03-30T12:47:27.430Z"
   },
   {
    "duration": 4,
    "start_time": "2023-03-30T12:47:37.847Z"
   },
   {
    "duration": 5,
    "start_time": "2023-03-30T12:47:59.728Z"
   },
   {
    "duration": 4,
    "start_time": "2023-03-30T12:48:12.815Z"
   },
   {
    "duration": 4,
    "start_time": "2023-03-30T12:49:44.710Z"
   },
   {
    "duration": 4,
    "start_time": "2023-03-30T12:49:55.069Z"
   },
   {
    "duration": 103184,
    "start_time": "2023-03-30T13:41:01.461Z"
   },
   {
    "duration": 3,
    "start_time": "2023-03-30T13:43:56.526Z"
   },
   {
    "duration": 4,
    "start_time": "2023-03-30T13:44:02.635Z"
   },
   {
    "duration": 3,
    "start_time": "2023-03-30T13:44:56.199Z"
   },
   {
    "duration": 3,
    "start_time": "2023-03-30T13:44:57.451Z"
   },
   {
    "duration": 4,
    "start_time": "2023-03-30T13:44:58.966Z"
   },
   {
    "duration": 6,
    "start_time": "2023-03-30T13:45:11.997Z"
   },
   {
    "duration": 3,
    "start_time": "2023-03-30T13:45:12.601Z"
   },
   {
    "duration": 3,
    "start_time": "2023-03-30T13:45:13.601Z"
   },
   {
    "duration": 7,
    "start_time": "2023-03-30T13:46:04.008Z"
   },
   {
    "duration": 4,
    "start_time": "2023-03-30T13:46:06.145Z"
   },
   {
    "duration": 4,
    "start_time": "2023-03-30T13:46:07.106Z"
   },
   {
    "duration": 3,
    "start_time": "2023-03-30T13:46:32.006Z"
   },
   {
    "duration": 3,
    "start_time": "2023-03-30T13:46:33.400Z"
   },
   {
    "duration": 3,
    "start_time": "2023-03-30T13:46:34.107Z"
   },
   {
    "duration": 5,
    "start_time": "2023-03-30T13:46:43.996Z"
   },
   {
    "duration": 3,
    "start_time": "2023-03-30T13:46:44.701Z"
   },
   {
    "duration": 3,
    "start_time": "2023-03-30T13:46:45.461Z"
   },
   {
    "duration": 3,
    "start_time": "2023-03-30T13:46:48.712Z"
   },
   {
    "duration": 3,
    "start_time": "2023-03-30T13:46:49.369Z"
   },
   {
    "duration": 4,
    "start_time": "2023-03-30T13:46:50.420Z"
   },
   {
    "duration": 3,
    "start_time": "2023-03-30T13:46:52.600Z"
   },
   {
    "duration": 4,
    "start_time": "2023-03-30T13:46:53.194Z"
   },
   {
    "duration": 4,
    "start_time": "2023-03-30T13:46:54.695Z"
   },
   {
    "duration": 106087,
    "start_time": "2023-03-30T13:47:09.500Z"
   },
   {
    "duration": 8,
    "start_time": "2023-03-30T13:48:55.595Z"
   },
   {
    "duration": 9,
    "start_time": "2023-03-30T13:48:55.675Z"
   },
   {
    "duration": 9,
    "start_time": "2023-03-30T13:48:55.690Z"
   },
   {
    "duration": 112,
    "start_time": "2023-03-30T14:00:37.424Z"
   },
   {
    "duration": 116,
    "start_time": "2023-03-30T14:00:48.903Z"
   },
   {
    "duration": 3,
    "start_time": "2023-03-30T14:02:18.195Z"
   },
   {
    "duration": 576194,
    "start_time": "2023-03-30T14:02:26.798Z"
   },
   {
    "duration": 513890,
    "start_time": "2023-03-30T14:12:29.093Z"
   },
   {
    "duration": 15,
    "start_time": "2023-03-30T14:21:02.985Z"
   },
   {
    "duration": 4,
    "start_time": "2023-03-30T14:21:55.219Z"
   },
   {
    "duration": 4,
    "start_time": "2023-03-30T14:21:59.312Z"
   },
   {
    "duration": 4,
    "start_time": "2023-03-30T14:22:01.126Z"
   },
   {
    "duration": 5,
    "start_time": "2023-03-30T14:22:24.443Z"
   },
   {
    "duration": 4,
    "start_time": "2023-03-30T14:22:38.894Z"
   },
   {
    "duration": 4,
    "start_time": "2023-03-30T14:23:12.849Z"
   },
   {
    "duration": 4,
    "start_time": "2023-03-30T14:23:14.158Z"
   },
   {
    "duration": 90,
    "start_time": "2023-03-30T14:29:05.034Z"
   },
   {
    "duration": 12785,
    "start_time": "2023-03-30T14:29:18.736Z"
   },
   {
    "duration": 11263,
    "start_time": "2023-03-30T14:30:03.664Z"
   },
   {
    "duration": 3,
    "start_time": "2023-03-30T14:31:34.712Z"
   },
   {
    "duration": 12510,
    "start_time": "2023-03-30T14:31:42.289Z"
   },
   {
    "duration": 11783,
    "start_time": "2023-03-30T14:34:56.190Z"
   },
   {
    "duration": 3,
    "start_time": "2023-03-30T14:36:16.528Z"
   },
   {
    "duration": 4,
    "start_time": "2023-03-30T14:36:25.442Z"
   },
   {
    "duration": 10,
    "start_time": "2023-03-30T14:37:32.500Z"
   },
   {
    "duration": 7,
    "start_time": "2023-03-30T14:37:32.512Z"
   },
   {
    "duration": 2032,
    "start_time": "2023-03-30T14:37:32.520Z"
   },
   {
    "duration": 579,
    "start_time": "2023-03-30T14:37:34.555Z"
   },
   {
    "duration": 471,
    "start_time": "2023-03-30T14:37:35.136Z"
   },
   {
    "duration": 3,
    "start_time": "2023-03-30T14:37:35.609Z"
   },
   {
    "duration": 10,
    "start_time": "2023-03-30T14:37:35.614Z"
   },
   {
    "duration": 13,
    "start_time": "2023-03-30T14:37:35.626Z"
   },
   {
    "duration": 3,
    "start_time": "2023-03-30T14:37:35.641Z"
   },
   {
    "duration": 4,
    "start_time": "2023-03-30T14:37:35.648Z"
   },
   {
    "duration": 768,
    "start_time": "2023-03-30T14:37:35.654Z"
   },
   {
    "duration": 964,
    "start_time": "2023-03-30T14:37:36.424Z"
   },
   {
    "duration": 5,
    "start_time": "2023-03-30T14:37:37.390Z"
   },
   {
    "duration": 10,
    "start_time": "2023-03-30T14:37:37.397Z"
   },
   {
    "duration": 27,
    "start_time": "2023-03-30T14:37:37.409Z"
   },
   {
    "duration": 100,
    "start_time": "2023-03-30T14:37:37.438Z"
   },
   {
    "duration": 10,
    "start_time": "2023-03-30T14:37:37.539Z"
   },
   {
    "duration": 90,
    "start_time": "2023-03-30T14:37:37.550Z"
   },
   {
    "duration": 869,
    "start_time": "2023-03-30T14:37:37.641Z"
   },
   {
    "duration": 181,
    "start_time": "2023-03-30T14:37:38.513Z"
   },
   {
    "duration": 130,
    "start_time": "2023-03-30T14:37:38.696Z"
   },
   {
    "duration": 126,
    "start_time": "2023-03-30T14:37:38.829Z"
   },
   {
    "duration": 100,
    "start_time": "2023-03-30T14:37:38.958Z"
   },
   {
    "duration": 48,
    "start_time": "2023-03-30T14:37:39.060Z"
   },
   {
    "duration": 3,
    "start_time": "2023-03-30T14:37:39.110Z"
   },
   {
    "duration": 107827,
    "start_time": "2023-03-30T14:37:39.114Z"
   },
   {
    "duration": 50,
    "start_time": "2023-03-30T14:39:26.943Z"
   },
   {
    "duration": 4,
    "start_time": "2023-03-30T14:39:26.996Z"
   },
   {
    "duration": 11715,
    "start_time": "2023-03-30T14:39:27.002Z"
   },
   {
    "duration": 1068468,
    "start_time": "2023-03-30T14:39:38.719Z"
   },
   {
    "duration": 6,
    "start_time": "2023-03-30T14:57:27.189Z"
   },
   {
    "duration": 4,
    "start_time": "2023-03-30T14:57:27.197Z"
   },
   {
    "duration": 10,
    "start_time": "2023-03-30T14:57:27.203Z"
   },
   {
    "duration": 5,
    "start_time": "2023-03-30T14:57:27.215Z"
   },
   {
    "duration": 47900,
    "start_time": "2023-03-30T15:53:18.009Z"
   },
   {
    "duration": 15,
    "start_time": "2023-03-30T15:54:53.122Z"
   },
   {
    "duration": 12,
    "start_time": "2023-03-31T12:34:17.432Z"
   },
   {
    "duration": 68,
    "start_time": "2023-03-31T12:37:59.223Z"
   },
   {
    "duration": 98,
    "start_time": "2023-03-31T12:38:12.080Z"
   },
   {
    "duration": 4,
    "start_time": "2023-03-31T12:38:27.071Z"
   },
   {
    "duration": 3,
    "start_time": "2023-03-31T12:38:42.575Z"
   },
   {
    "duration": 97,
    "start_time": "2023-03-31T14:30:42.166Z"
   },
   {
    "duration": 87,
    "start_time": "2023-03-31T14:31:03.660Z"
   },
   {
    "duration": 105,
    "start_time": "2023-03-31T14:31:08.862Z"
   },
   {
    "duration": 3,
    "start_time": "2023-03-31T14:31:46.085Z"
   },
   {
    "duration": 1227,
    "start_time": "2023-03-31T14:36:49.591Z"
   },
   {
    "duration": 3,
    "start_time": "2023-03-31T14:37:02.472Z"
   },
   {
    "duration": 3,
    "start_time": "2023-03-31T14:37:16.431Z"
   },
   {
    "duration": 3782,
    "start_time": "2023-03-31T14:54:33.544Z"
   },
   {
    "duration": 12492,
    "start_time": "2023-03-31T14:55:17.344Z"
   },
   {
    "duration": 10430,
    "start_time": "2023-03-31T14:55:47.598Z"
   },
   {
    "duration": 2,
    "start_time": "2023-03-31T14:56:53.334Z"
   },
   {
    "duration": 79,
    "start_time": "2023-03-31T14:56:58.750Z"
   },
   {
    "duration": 597,
    "start_time": "2023-03-31T14:57:31.053Z"
   },
   {
    "duration": 12157,
    "start_time": "2023-03-31T15:04:42.760Z"
   },
   {
    "duration": 7,
    "start_time": "2023-03-31T15:08:57.280Z"
   },
   {
    "duration": 4,
    "start_time": "2023-03-31T15:08:57.290Z"
   },
   {
    "duration": 1247,
    "start_time": "2023-03-31T15:08:57.295Z"
   },
   {
    "duration": 14876,
    "start_time": "2023-03-31T15:08:58.545Z"
   },
   {
    "duration": 459,
    "start_time": "2023-03-31T15:09:13.424Z"
   },
   {
    "duration": 397,
    "start_time": "2023-03-31T15:09:13.885Z"
   },
   {
    "duration": 4,
    "start_time": "2023-03-31T15:09:14.284Z"
   },
   {
    "duration": 13,
    "start_time": "2023-03-31T15:09:14.289Z"
   },
   {
    "duration": 14,
    "start_time": "2023-03-31T15:09:14.310Z"
   },
   {
    "duration": 18,
    "start_time": "2023-03-31T15:09:14.326Z"
   },
   {
    "duration": 22,
    "start_time": "2023-03-31T15:09:19.162Z"
   },
   {
    "duration": 4698,
    "start_time": "2023-03-31T15:15:06.734Z"
   },
   {
    "duration": 8,
    "start_time": "2023-03-31T15:15:14.219Z"
   },
   {
    "duration": 10,
    "start_time": "2023-03-31T15:15:15.388Z"
   },
   {
    "duration": 30,
    "start_time": "2023-03-31T15:15:17.590Z"
   },
   {
    "duration": 86,
    "start_time": "2023-03-31T15:15:19.736Z"
   },
   {
    "duration": 9,
    "start_time": "2023-03-31T15:15:21.085Z"
   },
   {
    "duration": 76,
    "start_time": "2023-03-31T15:15:28.321Z"
   },
   {
    "duration": 40634,
    "start_time": "2023-03-31T15:18:43.194Z"
   },
   {
    "duration": 0,
    "start_time": "2023-03-31T15:19:23.830Z"
   },
   {
    "duration": 5,
    "start_time": "2023-03-31T15:19:26.114Z"
   },
   {
    "duration": 10,
    "start_time": "2023-03-31T15:20:01.576Z"
   },
   {
    "duration": 30,
    "start_time": "2023-03-31T15:20:01.588Z"
   },
   {
    "duration": 1781,
    "start_time": "2023-03-31T15:20:01.619Z"
   },
   {
    "duration": 15570,
    "start_time": "2023-03-31T15:20:03.403Z"
   },
   {
    "duration": 471,
    "start_time": "2023-03-31T15:20:18.975Z"
   },
   {
    "duration": 369,
    "start_time": "2023-03-31T15:20:19.448Z"
   },
   {
    "duration": 4,
    "start_time": "2023-03-31T15:20:19.819Z"
   },
   {
    "duration": 7,
    "start_time": "2023-03-31T15:20:19.825Z"
   },
   {
    "duration": 7,
    "start_time": "2023-03-31T15:20:19.834Z"
   },
   {
    "duration": 8,
    "start_time": "2023-03-31T15:20:19.844Z"
   },
   {
    "duration": 18,
    "start_time": "2023-03-31T15:20:19.854Z"
   },
   {
    "duration": 1107,
    "start_time": "2023-03-31T15:20:19.874Z"
   },
   {
    "duration": 5,
    "start_time": "2023-03-31T15:20:20.983Z"
   },
   {
    "duration": 35,
    "start_time": "2023-03-31T15:20:20.991Z"
   },
   {
    "duration": 31,
    "start_time": "2023-03-31T15:20:21.028Z"
   },
   {
    "duration": 116,
    "start_time": "2023-03-31T15:20:21.061Z"
   },
   {
    "duration": 10,
    "start_time": "2023-03-31T15:20:21.179Z"
   },
   {
    "duration": 84,
    "start_time": "2023-03-31T15:20:21.191Z"
   },
   {
    "duration": 85104,
    "start_time": "2023-03-31T15:20:26.129Z"
   },
   {
    "duration": 937,
    "start_time": "2023-03-31T15:22:32.032Z"
   },
   {
    "duration": 890,
    "start_time": "2023-03-31T15:23:13.653Z"
   },
   {
    "duration": 908,
    "start_time": "2023-03-31T15:49:45.301Z"
   },
   {
    "duration": 883,
    "start_time": "2023-03-31T15:50:04.372Z"
   },
   {
    "duration": 1002,
    "start_time": "2023-03-31T15:50:09.749Z"
   },
   {
    "duration": 1056,
    "start_time": "2023-03-31T15:51:58.193Z"
   },
   {
    "duration": 1048,
    "start_time": "2023-03-31T15:52:12.497Z"
   },
   {
    "duration": 914,
    "start_time": "2023-03-31T15:52:33.424Z"
   },
   {
    "duration": 861,
    "start_time": "2023-03-31T15:52:44.264Z"
   },
   {
    "duration": 1449,
    "start_time": "2023-03-31T15:53:46.021Z"
   },
   {
    "duration": 4668,
    "start_time": "2023-03-31T15:53:53.984Z"
   },
   {
    "duration": 4602,
    "start_time": "2023-03-31T15:54:11.488Z"
   },
   {
    "duration": 1384,
    "start_time": "2023-03-31T15:59:27.627Z"
   },
   {
    "duration": 5996,
    "start_time": "2023-03-31T15:59:55.377Z"
   },
   {
    "duration": 3843,
    "start_time": "2023-03-31T16:02:12.278Z"
   },
   {
    "duration": 3804,
    "start_time": "2023-03-31T16:09:53.832Z"
   },
   {
    "duration": 77,
    "start_time": "2023-03-31T16:11:25.839Z"
   },
   {
    "duration": 37,
    "start_time": "2023-03-31T16:11:59.092Z"
   },
   {
    "duration": 30,
    "start_time": "2023-03-31T16:12:34.541Z"
   },
   {
    "duration": 676,
    "start_time": "2023-03-31T16:13:08.228Z"
   },
   {
    "duration": 444,
    "start_time": "2023-03-31T16:13:29.453Z"
   },
   {
    "duration": 165,
    "start_time": "2023-03-31T16:13:40.499Z"
   },
   {
    "duration": 1212,
    "start_time": "2023-03-31T16:13:53.470Z"
   },
   {
    "duration": 27,
    "start_time": "2023-03-31T16:15:03.834Z"
   },
   {
    "duration": 8969,
    "start_time": "2023-03-31T16:15:28.788Z"
   },
   {
    "duration": 29,
    "start_time": "2023-03-31T16:16:10.986Z"
   },
   {
    "duration": 9651,
    "start_time": "2023-03-31T16:16:52.099Z"
   },
   {
    "duration": 9634,
    "start_time": "2023-03-31T16:17:47.144Z"
   },
   {
    "duration": 29,
    "start_time": "2023-03-31T16:18:36.511Z"
   },
   {
    "duration": 198,
    "start_time": "2023-03-31T16:19:06.967Z"
   },
   {
    "duration": 2615,
    "start_time": "2023-03-31T16:19:29.678Z"
   },
   {
    "duration": 9702,
    "start_time": "2023-03-31T16:19:48.471Z"
   },
   {
    "duration": 9421,
    "start_time": "2023-03-31T16:20:12.205Z"
   },
   {
    "duration": 8701,
    "start_time": "2023-03-31T16:20:39.837Z"
   },
   {
    "duration": 1942,
    "start_time": "2023-03-31T16:21:58.187Z"
   },
   {
    "duration": 9717,
    "start_time": "2023-03-31T16:22:55.506Z"
   },
   {
    "duration": 1440,
    "start_time": "2023-03-31T16:24:27.041Z"
   },
   {
    "duration": 9037,
    "start_time": "2023-03-31T16:24:42.785Z"
   },
   {
    "duration": 9606,
    "start_time": "2023-03-31T16:24:57.457Z"
   },
   {
    "duration": 4479,
    "start_time": "2023-03-31T16:29:23.616Z"
   },
   {
    "duration": 9108,
    "start_time": "2023-03-31T16:29:51.327Z"
   },
   {
    "duration": 27,
    "start_time": "2023-03-31T16:30:06.237Z"
   },
   {
    "duration": 1496,
    "start_time": "2023-03-31T16:30:17.118Z"
   },
   {
    "duration": 27,
    "start_time": "2023-03-31T16:30:32.771Z"
   },
   {
    "duration": 9621,
    "start_time": "2023-03-31T16:31:32.684Z"
   },
   {
    "duration": 9784,
    "start_time": "2023-03-31T16:32:40.874Z"
   },
   {
    "duration": 28,
    "start_time": "2023-03-31T16:33:24.481Z"
   },
   {
    "duration": 26,
    "start_time": "2023-03-31T16:33:51.689Z"
   },
   {
    "duration": 79,
    "start_time": "2023-03-31T16:34:19.633Z"
   },
   {
    "duration": 71,
    "start_time": "2023-03-31T16:34:23.720Z"
   },
   {
    "duration": 68,
    "start_time": "2023-03-31T16:36:37.038Z"
   },
   {
    "duration": 72,
    "start_time": "2023-03-31T16:36:56.806Z"
   },
   {
    "duration": 28,
    "start_time": "2023-03-31T16:37:00.647Z"
   },
   {
    "duration": 27,
    "start_time": "2023-03-31T16:37:07.614Z"
   },
   {
    "duration": 9784,
    "start_time": "2023-03-31T16:38:16.848Z"
   },
   {
    "duration": 1369,
    "start_time": "2023-03-31T16:40:30.708Z"
   },
   {
    "duration": 29,
    "start_time": "2023-03-31T16:45:19.054Z"
   },
   {
    "duration": 9703,
    "start_time": "2023-03-31T16:46:28.239Z"
   },
   {
    "duration": 1268,
    "start_time": "2023-03-31T16:50:31.451Z"
   },
   {
    "duration": 8,
    "start_time": "2023-03-31T16:56:56.547Z"
   },
   {
    "duration": 7,
    "start_time": "2023-03-31T16:56:56.557Z"
   },
   {
    "duration": 1213,
    "start_time": "2023-03-31T16:56:56.566Z"
   },
   {
    "duration": 14527,
    "start_time": "2023-03-31T16:56:57.781Z"
   },
   {
    "duration": 468,
    "start_time": "2023-03-31T16:57:12.311Z"
   },
   {
    "duration": 312,
    "start_time": "2023-03-31T16:57:12.780Z"
   },
   {
    "duration": 3,
    "start_time": "2023-03-31T16:57:13.094Z"
   },
   {
    "duration": 5,
    "start_time": "2023-03-31T16:57:13.099Z"
   },
   {
    "duration": 4,
    "start_time": "2023-03-31T16:57:13.106Z"
   },
   {
    "duration": 6,
    "start_time": "2023-03-31T16:57:13.113Z"
   },
   {
    "duration": 23,
    "start_time": "2023-03-31T16:57:13.121Z"
   },
   {
    "duration": 980,
    "start_time": "2023-03-31T16:57:13.146Z"
   },
   {
    "duration": 5,
    "start_time": "2023-03-31T16:57:14.128Z"
   },
   {
    "duration": 19,
    "start_time": "2023-03-31T16:57:14.137Z"
   },
   {
    "duration": 34,
    "start_time": "2023-03-31T16:57:14.158Z"
   },
   {
    "duration": 83,
    "start_time": "2023-03-31T16:57:14.202Z"
   },
   {
    "duration": 21,
    "start_time": "2023-03-31T16:57:14.288Z"
   },
   {
    "duration": 93,
    "start_time": "2023-03-31T16:57:14.311Z"
   },
   {
    "duration": 9763,
    "start_time": "2023-03-31T16:57:14.406Z"
   },
   {
    "duration": 1269,
    "start_time": "2023-03-31T16:57:24.171Z"
   },
   {
    "duration": 187,
    "start_time": "2023-03-31T16:57:25.442Z"
   },
   {
    "duration": 134,
    "start_time": "2023-03-31T16:57:25.631Z"
   },
   {
    "duration": 95,
    "start_time": "2023-03-31T16:57:25.766Z"
   },
   {
    "duration": 100,
    "start_time": "2023-03-31T16:57:25.863Z"
   },
   {
    "duration": 8,
    "start_time": "2023-03-31T16:57:25.965Z"
   },
   {
    "duration": 4,
    "start_time": "2023-03-31T16:57:25.975Z"
   },
   {
    "duration": 8369,
    "start_time": "2023-03-31T16:57:25.981Z"
   },
   {
    "duration": 4,
    "start_time": "2023-03-31T17:00:20.856Z"
   },
   {
    "duration": 473,
    "start_time": "2023-03-31T17:00:43.513Z"
   },
   {
    "duration": 92,
    "start_time": "2023-03-31T17:01:06.536Z"
   },
   {
    "duration": 93,
    "start_time": "2023-03-31T17:01:43.242Z"
   },
   {
    "duration": 21,
    "start_time": "2023-03-31T17:02:35.861Z"
   },
   {
    "duration": 91,
    "start_time": "2023-03-31T17:03:47.131Z"
   },
   {
    "duration": 84,
    "start_time": "2023-03-31T17:09:29.418Z"
   },
   {
    "duration": 5,
    "start_time": "2023-03-31T17:09:38.241Z"
   },
   {
    "duration": 10050,
    "start_time": "2023-03-31T17:09:44.316Z"
   },
   {
    "duration": 7807,
    "start_time": "2023-03-31T17:10:08.734Z"
   },
   {
    "duration": 9,
    "start_time": "2023-03-31T17:11:31.779Z"
   },
   {
    "duration": 4,
    "start_time": "2023-03-31T17:11:34.704Z"
   },
   {
    "duration": 81,
    "start_time": "2023-03-31T17:11:37.864Z"
   },
   {
    "duration": 31,
    "start_time": "2023-03-31T17:11:54.316Z"
   },
   {
    "duration": 6,
    "start_time": "2023-03-31T17:12:05.077Z"
   },
   {
    "duration": 58,
    "start_time": "2023-03-31T17:12:12.606Z"
   },
   {
    "duration": 63,
    "start_time": "2023-04-01T07:55:09.707Z"
   },
   {
    "duration": 8,
    "start_time": "2023-04-01T07:55:26.572Z"
   },
   {
    "duration": 54,
    "start_time": "2023-04-01T07:55:26.581Z"
   },
   {
    "duration": 1123,
    "start_time": "2023-04-01T07:55:26.637Z"
   },
   {
    "duration": 16180,
    "start_time": "2023-04-01T07:55:27.762Z"
   },
   {
    "duration": 434,
    "start_time": "2023-04-01T07:55:43.944Z"
   },
   {
    "duration": 389,
    "start_time": "2023-04-01T07:55:44.380Z"
   },
   {
    "duration": 4,
    "start_time": "2023-04-01T07:55:44.770Z"
   },
   {
    "duration": 6,
    "start_time": "2023-04-01T07:55:44.775Z"
   },
   {
    "duration": 5,
    "start_time": "2023-04-01T07:55:44.784Z"
   },
   {
    "duration": 4,
    "start_time": "2023-04-01T07:55:44.790Z"
   },
   {
    "duration": 46,
    "start_time": "2023-04-01T07:55:44.795Z"
   },
   {
    "duration": 3504,
    "start_time": "2023-04-01T07:55:44.842Z"
   },
   {
    "duration": 4,
    "start_time": "2023-04-01T07:55:48.348Z"
   },
   {
    "duration": 16,
    "start_time": "2023-04-01T07:55:48.354Z"
   },
   {
    "duration": 24,
    "start_time": "2023-04-01T07:55:48.372Z"
   },
   {
    "duration": 92,
    "start_time": "2023-04-01T07:55:48.398Z"
   },
   {
    "duration": 22,
    "start_time": "2023-04-01T07:55:48.491Z"
   },
   {
    "duration": 78,
    "start_time": "2023-04-01T07:55:48.514Z"
   },
   {
    "duration": 9645,
    "start_time": "2023-04-01T07:55:48.594Z"
   },
   {
    "duration": 7,
    "start_time": "2023-04-01T07:57:12.368Z"
   },
   {
    "duration": 5,
    "start_time": "2023-04-01T07:57:37.450Z"
   },
   {
    "duration": 4,
    "start_time": "2023-04-01T07:59:30.065Z"
   },
   {
    "duration": 3,
    "start_time": "2023-04-01T07:59:31.296Z"
   },
   {
    "duration": 4,
    "start_time": "2023-04-01T07:59:44.486Z"
   },
   {
    "duration": 3,
    "start_time": "2023-04-01T08:00:21.447Z"
   },
   {
    "duration": 4,
    "start_time": "2023-04-01T08:00:30.271Z"
   },
   {
    "duration": 419,
    "start_time": "2023-04-01T08:00:45.021Z"
   },
   {
    "duration": 3,
    "start_time": "2023-04-01T08:00:53.386Z"
   },
   {
    "duration": 9,
    "start_time": "2023-04-01T08:01:02.821Z"
   },
   {
    "duration": 4,
    "start_time": "2023-04-01T08:01:15.407Z"
   },
   {
    "duration": 6,
    "start_time": "2023-04-01T08:01:23.420Z"
   },
   {
    "duration": 4,
    "start_time": "2023-04-01T08:01:29.972Z"
   },
   {
    "duration": 4,
    "start_time": "2023-04-01T08:03:08.571Z"
   },
   {
    "duration": 4,
    "start_time": "2023-04-01T08:03:29.202Z"
   },
   {
    "duration": 4,
    "start_time": "2023-04-01T08:03:35.714Z"
   },
   {
    "duration": 4,
    "start_time": "2023-04-01T08:03:43.364Z"
   },
   {
    "duration": 18,
    "start_time": "2023-04-01T08:03:49.340Z"
   },
   {
    "duration": 4,
    "start_time": "2023-04-01T08:03:54.258Z"
   },
   {
    "duration": 4,
    "start_time": "2023-04-01T08:04:05.407Z"
   },
   {
    "duration": 5,
    "start_time": "2023-04-01T08:04:50.410Z"
   },
   {
    "duration": 4,
    "start_time": "2023-04-01T08:05:34.936Z"
   },
   {
    "duration": 4,
    "start_time": "2023-04-01T08:06:49.607Z"
   },
   {
    "duration": 4,
    "start_time": "2023-04-01T08:06:54.772Z"
   },
   {
    "duration": 3,
    "start_time": "2023-04-01T08:07:01.005Z"
   },
   {
    "duration": 4,
    "start_time": "2023-04-01T08:07:04.599Z"
   },
   {
    "duration": 4,
    "start_time": "2023-04-01T08:07:12.869Z"
   },
   {
    "duration": 3,
    "start_time": "2023-04-01T08:07:24.503Z"
   },
   {
    "duration": 4,
    "start_time": "2023-04-01T08:08:02.036Z"
   },
   {
    "duration": 4,
    "start_time": "2023-04-01T08:08:06.936Z"
   },
   {
    "duration": 5,
    "start_time": "2023-04-01T08:09:40.358Z"
   },
   {
    "duration": 4,
    "start_time": "2023-04-01T08:09:43.091Z"
   },
   {
    "duration": 14,
    "start_time": "2023-04-01T08:09:47.821Z"
   },
   {
    "duration": 4,
    "start_time": "2023-04-01T08:09:49.637Z"
   },
   {
    "duration": 3,
    "start_time": "2023-04-01T08:10:44.612Z"
   },
   {
    "duration": 4,
    "start_time": "2023-04-01T08:10:50.437Z"
   },
   {
    "duration": 4,
    "start_time": "2023-04-01T08:11:05.936Z"
   },
   {
    "duration": 3,
    "start_time": "2023-04-01T08:11:07.515Z"
   },
   {
    "duration": 4,
    "start_time": "2023-04-01T08:11:18.204Z"
   },
   {
    "duration": 4,
    "start_time": "2023-04-01T08:11:25.940Z"
   },
   {
    "duration": 4,
    "start_time": "2023-04-01T08:11:41.114Z"
   },
   {
    "duration": 10521,
    "start_time": "2023-04-01T08:11:56.536Z"
   },
   {
    "duration": 5,
    "start_time": "2023-04-01T08:19:09.569Z"
   },
   {
    "duration": 4,
    "start_time": "2023-04-01T08:19:23.915Z"
   },
   {
    "duration": 3,
    "start_time": "2023-04-01T08:19:29.571Z"
   },
   {
    "duration": 4,
    "start_time": "2023-04-01T08:19:31.871Z"
   },
   {
    "duration": 3,
    "start_time": "2023-04-01T08:21:06.603Z"
   },
   {
    "duration": 76,
    "start_time": "2023-04-01T08:21:11.128Z"
   },
   {
    "duration": 3,
    "start_time": "2023-04-01T08:21:17.702Z"
   },
   {
    "duration": 4,
    "start_time": "2023-04-01T08:21:23.701Z"
   },
   {
    "duration": 4,
    "start_time": "2023-04-01T08:21:28.540Z"
   },
   {
    "duration": 3,
    "start_time": "2023-04-01T08:24:18.791Z"
   },
   {
    "duration": 20,
    "start_time": "2023-04-01T08:24:24.223Z"
   },
   {
    "duration": 5,
    "start_time": "2023-04-01T08:24:38.958Z"
   },
   {
    "duration": 4,
    "start_time": "2023-04-01T08:24:46.649Z"
   },
   {
    "duration": 108,
    "start_time": "2023-04-01T08:26:14.591Z"
   },
   {
    "duration": 3,
    "start_time": "2023-04-01T08:26:52.136Z"
   },
   {
    "duration": 4,
    "start_time": "2023-04-01T08:27:11.459Z"
   },
   {
    "duration": 4,
    "start_time": "2023-04-01T08:27:31.464Z"
   },
   {
    "duration": 3,
    "start_time": "2023-04-01T08:27:51.503Z"
   },
   {
    "duration": 4,
    "start_time": "2023-04-01T08:28:05.091Z"
   },
   {
    "duration": 4,
    "start_time": "2023-04-01T08:28:30.571Z"
   },
   {
    "duration": 4,
    "start_time": "2023-04-01T08:29:06.589Z"
   },
   {
    "duration": 5,
    "start_time": "2023-04-01T08:29:08.305Z"
   },
   {
    "duration": 6,
    "start_time": "2023-04-01T08:30:10.563Z"
   },
   {
    "duration": 4,
    "start_time": "2023-04-01T08:30:33.810Z"
   },
   {
    "duration": 5,
    "start_time": "2023-04-01T08:30:37.396Z"
   },
   {
    "duration": 4,
    "start_time": "2023-04-01T08:30:44.095Z"
   },
   {
    "duration": 4,
    "start_time": "2023-04-01T08:30:47.699Z"
   },
   {
    "duration": 26,
    "start_time": "2023-04-01T08:32:53.711Z"
   },
   {
    "duration": 3084,
    "start_time": "2023-04-01T08:33:24.037Z"
   },
   {
    "duration": 5,
    "start_time": "2023-04-01T08:35:39.149Z"
   },
   {
    "duration": 2107,
    "start_time": "2023-04-01T08:35:42.465Z"
   },
   {
    "duration": 1274,
    "start_time": "2023-04-01T08:36:12.736Z"
   },
   {
    "duration": 5,
    "start_time": "2023-04-01T08:36:18.714Z"
   },
   {
    "duration": 1467,
    "start_time": "2023-04-01T08:36:22.844Z"
   },
   {
    "duration": 1488,
    "start_time": "2023-04-01T08:36:36.483Z"
   },
   {
    "duration": 1482,
    "start_time": "2023-04-01T08:36:42.587Z"
   },
   {
    "duration": 7,
    "start_time": "2023-04-01T08:36:48.277Z"
   },
   {
    "duration": 5,
    "start_time": "2023-04-01T08:36:52.084Z"
   },
   {
    "duration": 4,
    "start_time": "2023-04-01T08:36:55.389Z"
   },
   {
    "duration": 9,
    "start_time": "2023-04-01T08:36:58.347Z"
   },
   {
    "duration": 1726,
    "start_time": "2023-04-01T08:37:01.864Z"
   },
   {
    "duration": 5,
    "start_time": "2023-04-01T08:40:00.417Z"
   },
   {
    "duration": 8,
    "start_time": "2023-04-01T08:40:09.519Z"
   },
   {
    "duration": 79,
    "start_time": "2023-04-01T08:41:13.406Z"
   },
   {
    "duration": 593,
    "start_time": "2023-04-01T08:41:51.655Z"
   },
   {
    "duration": 4,
    "start_time": "2023-04-01T08:41:56.894Z"
   },
   {
    "duration": 5,
    "start_time": "2023-04-01T08:42:00.103Z"
   },
   {
    "duration": 23,
    "start_time": "2023-04-01T08:42:12.552Z"
   },
   {
    "duration": 4,
    "start_time": "2023-04-01T08:42:28.488Z"
   },
   {
    "duration": 4,
    "start_time": "2023-04-01T08:48:53.368Z"
   },
   {
    "duration": 4,
    "start_time": "2023-04-01T08:49:06.089Z"
   },
   {
    "duration": 4,
    "start_time": "2023-04-01T08:49:09.083Z"
   },
   {
    "duration": 11437,
    "start_time": "2023-04-01T08:49:17.160Z"
   },
   {
    "duration": 24,
    "start_time": "2023-04-01T08:49:36.198Z"
   },
   {
    "duration": 4,
    "start_time": "2023-04-01T08:49:51.798Z"
   },
   {
    "duration": 11562,
    "start_time": "2023-04-01T08:49:59.788Z"
   },
   {
    "duration": 122,
    "start_time": "2023-04-01T08:54:18.474Z"
   },
   {
    "duration": 16208,
    "start_time": "2023-04-01T08:54:58.525Z"
   },
   {
    "duration": 16295,
    "start_time": "2023-04-01T08:55:17.596Z"
   },
   {
    "duration": 15,
    "start_time": "2023-04-01T08:55:33.893Z"
   },
   {
    "duration": 22,
    "start_time": "2023-04-01T08:56:20.300Z"
   },
   {
    "duration": 80,
    "start_time": "2023-04-01T08:57:40.972Z"
   },
   {
    "duration": 1995,
    "start_time": "2023-04-01T08:57:51.049Z"
   },
   {
    "duration": 47,
    "start_time": "2023-04-01T08:58:44.273Z"
   },
   {
    "duration": 5,
    "start_time": "2023-04-01T08:58:58.941Z"
   },
   {
    "duration": 20,
    "start_time": "2023-04-01T08:59:55.488Z"
   },
   {
    "duration": 1379,
    "start_time": "2023-04-01T09:02:51.791Z"
   },
   {
    "duration": 29,
    "start_time": "2023-04-01T09:03:27.571Z"
   },
   {
    "duration": 15674,
    "start_time": "2023-04-01T09:04:09.485Z"
   },
   {
    "duration": 48,
    "start_time": "2023-04-01T09:10:07.148Z"
   },
   {
    "duration": 27,
    "start_time": "2023-04-01T09:10:08.630Z"
   },
   {
    "duration": 223,
    "start_time": "2023-04-01T09:10:30.673Z"
   },
   {
    "duration": 84,
    "start_time": "2023-04-01T09:11:15.343Z"
   },
   {
    "duration": 97,
    "start_time": "2023-04-01T09:11:27.660Z"
   },
   {
    "duration": 9716,
    "start_time": "2023-04-01T09:11:43.740Z"
   },
   {
    "duration": 88,
    "start_time": "2023-04-01T09:11:53.672Z"
   },
   {
    "duration": 181,
    "start_time": "2023-04-01T09:12:16.072Z"
   },
   {
    "duration": 95,
    "start_time": "2023-04-01T09:12:20.010Z"
   },
   {
    "duration": 114,
    "start_time": "2023-04-01T09:12:28.807Z"
   },
   {
    "duration": 10801,
    "start_time": "2023-04-01T09:12:45.367Z"
   },
   {
    "duration": 12891,
    "start_time": "2023-04-01T09:13:13.351Z"
   },
   {
    "duration": 98,
    "start_time": "2023-04-01T09:13:44.051Z"
   },
   {
    "duration": 13159,
    "start_time": "2023-04-01T09:13:47.906Z"
   },
   {
    "duration": 11473,
    "start_time": "2023-04-01T09:14:45.284Z"
   },
   {
    "duration": 12374,
    "start_time": "2023-04-01T09:15:19.335Z"
   },
   {
    "duration": 10967,
    "start_time": "2023-04-01T09:15:41.442Z"
   },
   {
    "duration": 10495,
    "start_time": "2023-04-01T09:16:04.472Z"
   },
   {
    "duration": 9789,
    "start_time": "2023-04-01T09:16:28.837Z"
   },
   {
    "duration": 10504,
    "start_time": "2023-04-01T09:17:28.008Z"
   },
   {
    "duration": 9600,
    "start_time": "2023-04-01T09:17:45.313Z"
   },
   {
    "duration": 28,
    "start_time": "2023-04-01T09:18:45.343Z"
   },
   {
    "duration": 35,
    "start_time": "2023-04-01T09:18:54.103Z"
   },
   {
    "duration": 41,
    "start_time": "2023-04-01T09:18:56.314Z"
   },
   {
    "duration": 11266,
    "start_time": "2023-04-01T09:21:00.439Z"
   },
   {
    "duration": 11049,
    "start_time": "2023-04-01T09:21:23.772Z"
   },
   {
    "duration": 11609,
    "start_time": "2023-04-01T09:21:46.965Z"
   },
   {
    "duration": 12,
    "start_time": "2023-04-01T09:25:18.123Z"
   },
   {
    "duration": 1528,
    "start_time": "2023-04-01T09:25:54.245Z"
   },
   {
    "duration": 1650,
    "start_time": "2023-04-01T09:29:00.931Z"
   },
   {
    "duration": 27,
    "start_time": "2023-04-01T09:29:42.765Z"
   },
   {
    "duration": 32,
    "start_time": "2023-04-01T09:31:42.203Z"
   },
   {
    "duration": 49,
    "start_time": "2023-04-01T09:35:16.008Z"
   },
   {
    "duration": 38,
    "start_time": "2023-04-01T09:35:20.755Z"
   },
   {
    "duration": 34,
    "start_time": "2023-04-01T09:35:26.505Z"
   },
   {
    "duration": 97,
    "start_time": "2023-04-01T09:36:01.339Z"
   },
   {
    "duration": 38,
    "start_time": "2023-04-01T09:36:08.942Z"
   },
   {
    "duration": 28,
    "start_time": "2023-04-01T09:36:14.088Z"
   },
   {
    "duration": 37,
    "start_time": "2023-04-01T09:36:22.214Z"
   },
   {
    "duration": 19,
    "start_time": "2023-04-01T09:37:28.877Z"
   },
   {
    "duration": 24,
    "start_time": "2023-04-01T09:37:41.127Z"
   },
   {
    "duration": 20,
    "start_time": "2023-04-01T09:37:49.739Z"
   },
   {
    "duration": 21,
    "start_time": "2023-04-01T09:38:27.065Z"
   },
   {
    "duration": 6,
    "start_time": "2023-04-01T09:38:36.042Z"
   },
   {
    "duration": 5,
    "start_time": "2023-04-01T09:38:51.842Z"
   },
   {
    "duration": 5,
    "start_time": "2023-04-01T09:39:12.547Z"
   },
   {
    "duration": 4,
    "start_time": "2023-04-01T09:39:26.493Z"
   },
   {
    "duration": 4,
    "start_time": "2023-04-01T09:39:33.503Z"
   },
   {
    "duration": 5,
    "start_time": "2023-04-01T09:39:53.882Z"
   },
   {
    "duration": 5,
    "start_time": "2023-04-01T09:40:01.496Z"
   },
   {
    "duration": 5,
    "start_time": "2023-04-01T09:40:11.555Z"
   },
   {
    "duration": 4,
    "start_time": "2023-04-01T09:40:17.198Z"
   },
   {
    "duration": 9,
    "start_time": "2023-04-01T09:40:20.821Z"
   },
   {
    "duration": 4,
    "start_time": "2023-04-01T09:40:24.546Z"
   },
   {
    "duration": 5,
    "start_time": "2023-04-01T09:40:33.617Z"
   },
   {
    "duration": 84,
    "start_time": "2023-04-01T09:40:40.597Z"
   },
   {
    "duration": 10,
    "start_time": "2023-04-01T09:40:44.923Z"
   },
   {
    "duration": 5,
    "start_time": "2023-04-01T09:40:50.405Z"
   },
   {
    "duration": 1087,
    "start_time": "2023-04-01T09:43:35.212Z"
   },
   {
    "duration": 1076,
    "start_time": "2023-04-01T09:44:16.420Z"
   },
   {
    "duration": 35,
    "start_time": "2023-04-01T09:46:59.317Z"
   },
   {
    "duration": 1159,
    "start_time": "2023-04-01T09:47:15.357Z"
   },
   {
    "duration": 1514,
    "start_time": "2023-04-01T10:58:59.791Z"
   },
   {
    "duration": 1338,
    "start_time": "2023-04-01T10:59:20.978Z"
   },
   {
    "duration": 15819,
    "start_time": "2023-04-01T11:02:25.701Z"
   },
   {
    "duration": 17,
    "start_time": "2023-04-01T11:02:59.233Z"
   },
   {
    "duration": 22,
    "start_time": "2023-04-01T11:12:03.883Z"
   },
   {
    "duration": 31,
    "start_time": "2023-04-01T11:13:25.215Z"
   },
   {
    "duration": 6,
    "start_time": "2023-04-01T11:14:23.207Z"
   },
   {
    "duration": 6,
    "start_time": "2023-04-01T11:14:37.641Z"
   },
   {
    "duration": 26,
    "start_time": "2023-04-01T11:14:47.776Z"
   },
   {
    "duration": 24,
    "start_time": "2023-04-01T11:18:17.621Z"
   },
   {
    "duration": 21,
    "start_time": "2023-04-01T11:18:23.085Z"
   },
   {
    "duration": 21,
    "start_time": "2023-04-01T11:18:33.364Z"
   },
   {
    "duration": 20,
    "start_time": "2023-04-01T11:19:41.975Z"
   },
   {
    "duration": 34,
    "start_time": "2023-04-01T11:20:00.516Z"
   },
   {
    "duration": 18,
    "start_time": "2023-04-01T11:20:25.027Z"
   },
   {
    "duration": 62,
    "start_time": "2023-04-01T11:20:41.975Z"
   },
   {
    "duration": 960,
    "start_time": "2023-04-01T11:21:30.132Z"
   },
   {
    "duration": 5,
    "start_time": "2023-04-01T11:22:39.474Z"
   },
   {
    "duration": 4,
    "start_time": "2023-04-01T11:22:44.641Z"
   },
   {
    "duration": 5,
    "start_time": "2023-04-01T11:22:50.375Z"
   },
   {
    "duration": 70,
    "start_time": "2023-04-01T11:26:38.672Z"
   },
   {
    "duration": 2870,
    "start_time": "2023-04-01T11:26:51.294Z"
   },
   {
    "duration": 2983,
    "start_time": "2023-04-01T11:27:48.664Z"
   },
   {
    "duration": 14,
    "start_time": "2023-04-01T11:27:57.005Z"
   },
   {
    "duration": 4,
    "start_time": "2023-04-01T11:28:12.493Z"
   },
   {
    "duration": 32,
    "start_time": "2023-04-01T11:32:07.211Z"
   },
   {
    "duration": 90,
    "start_time": "2023-04-01T11:36:11.808Z"
   },
   {
    "duration": 96,
    "start_time": "2023-04-01T11:36:18.390Z"
   },
   {
    "duration": 74,
    "start_time": "2023-04-01T11:36:20.991Z"
   },
   {
    "duration": 69,
    "start_time": "2023-04-01T11:36:23.372Z"
   },
   {
    "duration": 23,
    "start_time": "2023-04-01T11:36:28.638Z"
   },
   {
    "duration": 95,
    "start_time": "2023-04-01T11:38:37.421Z"
   },
   {
    "duration": 29,
    "start_time": "2023-04-01T11:42:29.859Z"
   },
   {
    "duration": 29,
    "start_time": "2023-04-01T11:43:25.591Z"
   },
   {
    "duration": 33,
    "start_time": "2023-04-01T11:46:12.872Z"
   },
   {
    "duration": 30711,
    "start_time": "2023-04-01T11:47:16.065Z"
   },
   {
    "duration": 58,
    "start_time": "2023-04-01T11:49:11.789Z"
   },
   {
    "duration": 8,
    "start_time": "2023-04-01T11:49:17.419Z"
   },
   {
    "duration": 874,
    "start_time": "2023-04-01T11:49:38.567Z"
   },
   {
    "duration": 11,
    "start_time": "2023-04-01T11:49:52.770Z"
   },
   {
    "duration": 1289,
    "start_time": "2023-04-01T11:50:34.353Z"
   },
   {
    "duration": 17,
    "start_time": "2023-04-01T11:50:56.279Z"
   },
   {
    "duration": 9,
    "start_time": "2023-04-01T11:51:25.388Z"
   },
   {
    "duration": 8,
    "start_time": "2023-04-01T11:51:39.399Z"
   },
   {
    "duration": 9,
    "start_time": "2023-04-01T11:51:47.307Z"
   },
   {
    "duration": 7,
    "start_time": "2023-04-01T11:51:51.967Z"
   },
   {
    "duration": 9,
    "start_time": "2023-04-01T11:52:32.823Z"
   },
   {
    "duration": 8,
    "start_time": "2023-04-01T11:52:41.589Z"
   },
   {
    "duration": 8,
    "start_time": "2023-04-01T11:52:42.676Z"
   },
   {
    "duration": 11,
    "start_time": "2023-04-01T11:52:45.165Z"
   },
   {
    "duration": 12,
    "start_time": "2023-04-01T11:52:49.960Z"
   },
   {
    "duration": 10,
    "start_time": "2023-04-01T11:52:54.639Z"
   },
   {
    "duration": 9,
    "start_time": "2023-04-01T11:52:58.052Z"
   },
   {
    "duration": 8,
    "start_time": "2023-04-01T11:53:05.268Z"
   },
   {
    "duration": 9,
    "start_time": "2023-04-01T11:53:09.074Z"
   },
   {
    "duration": 12,
    "start_time": "2023-04-01T11:53:27.668Z"
   },
   {
    "duration": 9,
    "start_time": "2023-04-01T11:53:36.692Z"
   },
   {
    "duration": 10,
    "start_time": "2023-04-01T11:53:39.895Z"
   },
   {
    "duration": 9,
    "start_time": "2023-04-01T11:53:42.868Z"
   },
   {
    "duration": 2173,
    "start_time": "2023-04-01T11:53:58.063Z"
   },
   {
    "duration": 109,
    "start_time": "2023-04-01T12:00:31.401Z"
   },
   {
    "duration": 28792,
    "start_time": "2023-04-01T12:00:43.151Z"
   },
   {
    "duration": 24486,
    "start_time": "2023-04-01T12:03:52.772Z"
   },
   {
    "duration": 99,
    "start_time": "2023-04-01T12:04:40.224Z"
   },
   {
    "duration": 8,
    "start_time": "2023-04-01T12:04:48.032Z"
   },
   {
    "duration": 15,
    "start_time": "2023-04-01T12:05:14.252Z"
   },
   {
    "duration": 11,
    "start_time": "2023-04-01T12:05:45.017Z"
   },
   {
    "duration": 51,
    "start_time": "2023-04-01T12:05:45.031Z"
   },
   {
    "duration": 1227,
    "start_time": "2023-04-01T12:05:45.083Z"
   },
   {
    "duration": 14815,
    "start_time": "2023-04-01T12:05:46.312Z"
   },
   {
    "duration": 482,
    "start_time": "2023-04-01T12:06:01.131Z"
   },
   {
    "duration": 395,
    "start_time": "2023-04-01T12:06:01.616Z"
   },
   {
    "duration": 4,
    "start_time": "2023-04-01T12:06:02.013Z"
   },
   {
    "duration": 77,
    "start_time": "2023-04-01T12:06:02.019Z"
   },
   {
    "duration": 66,
    "start_time": "2023-04-01T12:06:02.099Z"
   },
   {
    "duration": 39,
    "start_time": "2023-04-01T12:06:02.168Z"
   },
   {
    "duration": 165,
    "start_time": "2023-04-01T12:06:02.209Z"
   },
   {
    "duration": 1202,
    "start_time": "2023-04-01T12:06:02.376Z"
   },
   {
    "duration": 3,
    "start_time": "2023-04-01T12:06:03.581Z"
   },
   {
    "duration": 5,
    "start_time": "2023-04-01T12:06:03.588Z"
   },
   {
    "duration": 30,
    "start_time": "2023-04-01T12:06:03.595Z"
   },
   {
    "duration": 29,
    "start_time": "2023-04-01T12:06:03.627Z"
   },
   {
    "duration": 99,
    "start_time": "2023-04-01T12:06:03.657Z"
   },
   {
    "duration": 9,
    "start_time": "2023-04-01T12:06:03.759Z"
   },
   {
    "duration": 119,
    "start_time": "2023-04-01T12:06:03.770Z"
   },
   {
    "duration": 1193,
    "start_time": "2023-04-01T12:06:03.892Z"
   },
   {
    "duration": 24938,
    "start_time": "2023-04-01T12:06:05.087Z"
   },
   {
    "duration": 61,
    "start_time": "2023-04-01T12:06:30.027Z"
   },
   {
    "duration": 9,
    "start_time": "2023-04-01T12:06:30.090Z"
   },
   {
    "duration": 29,
    "start_time": "2023-04-01T13:52:04.152Z"
   },
   {
    "duration": 33,
    "start_time": "2023-04-01T13:53:12.035Z"
   },
   {
    "duration": 39,
    "start_time": "2023-04-01T13:53:25.148Z"
   },
   {
    "duration": 11,
    "start_time": "2023-04-01T13:56:23.392Z"
   },
   {
    "duration": 16,
    "start_time": "2023-04-01T14:01:23.764Z"
   },
   {
    "duration": 5,
    "start_time": "2023-04-01T14:02:07.885Z"
   },
   {
    "duration": 10325,
    "start_time": "2023-04-01T14:02:53.363Z"
   },
   {
    "duration": 11,
    "start_time": "2023-04-01T14:06:51.481Z"
   },
   {
    "duration": 5,
    "start_time": "2023-04-01T14:06:55.345Z"
   },
   {
    "duration": 108,
    "start_time": "2023-04-01T14:07:09.259Z"
   },
   {
    "duration": 1953,
    "start_time": "2023-04-01T14:07:13.624Z"
   },
   {
    "duration": 3,
    "start_time": "2023-04-01T14:27:23.904Z"
   },
   {
    "duration": 356,
    "start_time": "2023-04-01T14:27:24.985Z"
   },
   {
    "duration": 26,
    "start_time": "2023-04-01T14:27:37.488Z"
   },
   {
    "duration": 25,
    "start_time": "2023-04-01T14:28:05.760Z"
   },
   {
    "duration": 12,
    "start_time": "2023-04-01T14:30:03.703Z"
   },
   {
    "duration": 50,
    "start_time": "2023-04-01T14:30:03.717Z"
   },
   {
    "duration": 1121,
    "start_time": "2023-04-01T14:30:03.769Z"
   },
   {
    "duration": 14504,
    "start_time": "2023-04-01T14:30:04.893Z"
   },
   {
    "duration": 517,
    "start_time": "2023-04-01T14:30:19.399Z"
   },
   {
    "duration": 439,
    "start_time": "2023-04-01T14:30:19.918Z"
   },
   {
    "duration": 4,
    "start_time": "2023-04-01T14:30:20.360Z"
   },
   {
    "duration": 10,
    "start_time": "2023-04-01T14:30:20.366Z"
   },
   {
    "duration": 15,
    "start_time": "2023-04-01T14:30:20.378Z"
   },
   {
    "duration": 9,
    "start_time": "2023-04-01T14:30:20.395Z"
   },
   {
    "duration": 25,
    "start_time": "2023-04-01T14:30:20.407Z"
   },
   {
    "duration": 1077,
    "start_time": "2023-04-01T14:30:20.434Z"
   },
   {
    "duration": 3,
    "start_time": "2023-04-01T14:30:21.515Z"
   },
   {
    "duration": 6,
    "start_time": "2023-04-01T14:30:21.523Z"
   },
   {
    "duration": 21,
    "start_time": "2023-04-01T14:30:21.531Z"
   },
   {
    "duration": 29,
    "start_time": "2023-04-01T14:30:21.554Z"
   },
   {
    "duration": 105,
    "start_time": "2023-04-01T14:30:21.584Z"
   },
   {
    "duration": 10,
    "start_time": "2023-04-01T14:30:21.691Z"
   },
   {
    "duration": 95,
    "start_time": "2023-04-01T14:30:21.702Z"
   },
   {
    "duration": 1234,
    "start_time": "2023-04-01T14:30:21.799Z"
   },
   {
    "duration": 1426,
    "start_time": "2023-04-01T14:30:23.035Z"
   },
   {
    "duration": 23349,
    "start_time": "2023-04-01T14:30:24.463Z"
   },
   {
    "duration": 87,
    "start_time": "2023-04-01T14:30:47.814Z"
   },
   {
    "duration": 10,
    "start_time": "2023-04-01T14:30:47.903Z"
   },
   {
    "duration": 53,
    "start_time": "2023-04-01T14:30:47.914Z"
   },
   {
    "duration": 178,
    "start_time": "2023-04-01T14:30:47.969Z"
   },
   {
    "duration": 196,
    "start_time": "2023-04-01T14:30:48.149Z"
   },
   {
    "duration": 103,
    "start_time": "2023-04-01T14:30:48.347Z"
   },
   {
    "duration": 119,
    "start_time": "2023-04-01T14:30:48.452Z"
   },
   {
    "duration": 11,
    "start_time": "2023-04-01T14:30:48.573Z"
   },
   {
    "duration": 8,
    "start_time": "2023-04-01T14:30:48.588Z"
   },
   {
    "duration": 9619,
    "start_time": "2023-04-01T14:30:48.598Z"
   },
   {
    "duration": 5,
    "start_time": "2023-04-01T14:30:58.224Z"
   },
   {
    "duration": 12,
    "start_time": "2023-04-01T14:30:58.231Z"
   },
   {
    "duration": 19,
    "start_time": "2023-04-01T14:30:58.245Z"
   },
   {
    "duration": 67,
    "start_time": "2023-04-01T14:30:58.267Z"
   },
   {
    "duration": 473,
    "start_time": "2023-04-01T14:42:06.687Z"
   },
   {
    "duration": 5,
    "start_time": "2023-04-01T14:42:25.535Z"
   },
   {
    "duration": 7,
    "start_time": "2023-04-01T14:42:53.620Z"
   },
   {
    "duration": 8781,
    "start_time": "2023-04-01T14:44:28.014Z"
   },
   {
    "duration": 25,
    "start_time": "2023-04-01T14:44:48.964Z"
   },
   {
    "duration": 11,
    "start_time": "2023-04-01T14:45:24.899Z"
   },
   {
    "duration": 54,
    "start_time": "2023-04-01T14:45:24.912Z"
   },
   {
    "duration": 1145,
    "start_time": "2023-04-01T14:45:24.969Z"
   },
   {
    "duration": 15950,
    "start_time": "2023-04-01T14:45:26.117Z"
   },
   {
    "duration": 486,
    "start_time": "2023-04-01T14:45:42.070Z"
   },
   {
    "duration": 394,
    "start_time": "2023-04-01T14:45:42.558Z"
   },
   {
    "duration": 4,
    "start_time": "2023-04-01T14:45:42.955Z"
   },
   {
    "duration": 18,
    "start_time": "2023-04-01T14:45:42.962Z"
   },
   {
    "duration": 19,
    "start_time": "2023-04-01T14:45:42.983Z"
   },
   {
    "duration": 18,
    "start_time": "2023-04-01T14:45:43.004Z"
   },
   {
    "duration": 37,
    "start_time": "2023-04-01T14:45:43.026Z"
   },
   {
    "duration": 1324,
    "start_time": "2023-04-01T14:45:43.066Z"
   },
   {
    "duration": 4,
    "start_time": "2023-04-01T14:45:44.392Z"
   },
   {
    "duration": 6,
    "start_time": "2023-04-01T14:45:44.400Z"
   },
   {
    "duration": 32,
    "start_time": "2023-04-01T14:45:44.408Z"
   },
   {
    "duration": 37,
    "start_time": "2023-04-01T14:45:44.442Z"
   },
   {
    "duration": 143,
    "start_time": "2023-04-01T14:45:44.481Z"
   },
   {
    "duration": 21,
    "start_time": "2023-04-01T14:45:44.626Z"
   },
   {
    "duration": 119,
    "start_time": "2023-04-01T14:45:44.650Z"
   },
   {
    "duration": 1953,
    "start_time": "2023-04-01T14:45:44.772Z"
   },
   {
    "duration": 2272,
    "start_time": "2023-04-01T14:45:46.729Z"
   },
   {
    "duration": 25812,
    "start_time": "2023-04-01T14:45:49.004Z"
   },
   {
    "duration": 66,
    "start_time": "2023-04-01T14:46:14.818Z"
   },
   {
    "duration": 11,
    "start_time": "2023-04-01T14:46:14.886Z"
   },
   {
    "duration": 53,
    "start_time": "2023-04-01T14:46:14.899Z"
   },
   {
    "duration": 184,
    "start_time": "2023-04-01T14:46:14.954Z"
   },
   {
    "duration": 179,
    "start_time": "2023-04-01T14:46:15.141Z"
   },
   {
    "duration": 103,
    "start_time": "2023-04-01T14:46:15.321Z"
   },
   {
    "duration": 127,
    "start_time": "2023-04-01T14:46:15.426Z"
   },
   {
    "duration": 9,
    "start_time": "2023-04-01T14:46:15.554Z"
   },
   {
    "duration": 5,
    "start_time": "2023-04-01T14:46:15.565Z"
   },
   {
    "duration": 9671,
    "start_time": "2023-04-01T14:46:15.572Z"
   },
   {
    "duration": 407,
    "start_time": "2023-04-01T14:46:30.672Z"
   },
   {
    "duration": 6,
    "start_time": "2023-04-01T14:47:11.051Z"
   },
   {
    "duration": 12,
    "start_time": "2023-04-01T14:47:26.343Z"
   },
   {
    "duration": 44,
    "start_time": "2023-04-01T14:47:26.357Z"
   },
   {
    "duration": 1145,
    "start_time": "2023-04-01T14:47:26.403Z"
   },
   {
    "duration": 14719,
    "start_time": "2023-04-01T14:47:27.549Z"
   },
   {
    "duration": 542,
    "start_time": "2023-04-01T14:47:42.272Z"
   },
   {
    "duration": 422,
    "start_time": "2023-04-01T14:47:42.817Z"
   },
   {
    "duration": 4,
    "start_time": "2023-04-01T14:47:43.242Z"
   },
   {
    "duration": 7,
    "start_time": "2023-04-01T14:47:43.248Z"
   },
   {
    "duration": 7,
    "start_time": "2023-04-01T14:47:43.258Z"
   },
   {
    "duration": 14,
    "start_time": "2023-04-01T14:47:43.267Z"
   },
   {
    "duration": 36,
    "start_time": "2023-04-01T14:47:43.284Z"
   },
   {
    "duration": 967,
    "start_time": "2023-04-01T14:47:43.321Z"
   },
   {
    "duration": 4,
    "start_time": "2023-04-01T14:47:44.290Z"
   },
   {
    "duration": 5,
    "start_time": "2023-04-01T14:47:44.297Z"
   },
   {
    "duration": 31,
    "start_time": "2023-04-01T14:47:44.304Z"
   },
   {
    "duration": 32,
    "start_time": "2023-04-01T14:47:44.337Z"
   },
   {
    "duration": 126,
    "start_time": "2023-04-01T14:47:44.371Z"
   },
   {
    "duration": 10,
    "start_time": "2023-04-01T14:47:44.498Z"
   },
   {
    "duration": 87,
    "start_time": "2023-04-01T14:47:44.510Z"
   },
   {
    "duration": 1116,
    "start_time": "2023-04-01T14:47:44.599Z"
   },
   {
    "duration": 1605,
    "start_time": "2023-04-01T14:47:45.718Z"
   },
   {
    "duration": 26716,
    "start_time": "2023-04-01T14:47:47.326Z"
   },
   {
    "duration": 67,
    "start_time": "2023-04-01T14:48:14.044Z"
   },
   {
    "duration": 11,
    "start_time": "2023-04-01T14:48:14.123Z"
   },
   {
    "duration": 30,
    "start_time": "2023-04-01T14:48:14.136Z"
   },
   {
    "duration": 220,
    "start_time": "2023-04-01T14:48:14.168Z"
   },
   {
    "duration": 176,
    "start_time": "2023-04-01T14:48:14.390Z"
   },
   {
    "duration": 125,
    "start_time": "2023-04-01T14:48:14.569Z"
   },
   {
    "duration": 177,
    "start_time": "2023-04-01T14:48:14.696Z"
   },
   {
    "duration": 15,
    "start_time": "2023-04-01T14:48:14.875Z"
   },
   {
    "duration": 6,
    "start_time": "2023-04-01T14:48:14.893Z"
   },
   {
    "duration": 93262,
    "start_time": "2023-04-01T14:48:14.901Z"
   },
   {
    "duration": 393,
    "start_time": "2023-04-01T14:52:39.108Z"
   },
   {
    "duration": 8,
    "start_time": "2023-04-01T14:53:06.706Z"
   },
   {
    "duration": 8,
    "start_time": "2023-04-01T14:58:15.016Z"
   },
   {
    "duration": 45,
    "start_time": "2023-04-01T14:58:15.027Z"
   },
   {
    "duration": 1076,
    "start_time": "2023-04-01T14:58:15.074Z"
   },
   {
    "duration": 14426,
    "start_time": "2023-04-01T14:58:16.152Z"
   },
   {
    "duration": 481,
    "start_time": "2023-04-01T14:58:30.581Z"
   },
   {
    "duration": 370,
    "start_time": "2023-04-01T14:58:31.064Z"
   },
   {
    "duration": 3,
    "start_time": "2023-04-01T14:58:31.436Z"
   },
   {
    "duration": 30,
    "start_time": "2023-04-01T14:58:31.440Z"
   },
   {
    "duration": 14,
    "start_time": "2023-04-01T14:58:31.472Z"
   },
   {
    "duration": 19,
    "start_time": "2023-04-01T14:58:31.488Z"
   },
   {
    "duration": 22,
    "start_time": "2023-04-01T14:58:31.509Z"
   },
   {
    "duration": 967,
    "start_time": "2023-04-01T14:58:31.533Z"
   },
   {
    "duration": 3,
    "start_time": "2023-04-01T14:58:32.502Z"
   },
   {
    "duration": 10,
    "start_time": "2023-04-01T14:58:32.506Z"
   },
   {
    "duration": 15,
    "start_time": "2023-04-01T14:58:32.523Z"
   },
   {
    "duration": 28,
    "start_time": "2023-04-01T14:58:32.540Z"
   },
   {
    "duration": 106,
    "start_time": "2023-04-01T14:58:32.570Z"
   },
   {
    "duration": 10,
    "start_time": "2023-04-01T14:58:32.678Z"
   },
   {
    "duration": 105,
    "start_time": "2023-04-01T14:58:32.691Z"
   },
   {
    "duration": 1121,
    "start_time": "2023-04-01T14:58:32.798Z"
   },
   {
    "duration": 1446,
    "start_time": "2023-04-01T14:58:33.923Z"
   },
   {
    "duration": 24498,
    "start_time": "2023-04-01T14:58:35.371Z"
   },
   {
    "duration": 71,
    "start_time": "2023-04-01T14:58:59.872Z"
   },
   {
    "duration": 14,
    "start_time": "2023-04-01T14:58:59.945Z"
   },
   {
    "duration": 113,
    "start_time": "2023-04-01T14:58:59.961Z"
   },
   {
    "duration": 199,
    "start_time": "2023-04-01T14:59:00.076Z"
   },
   {
    "duration": 218,
    "start_time": "2023-04-01T14:59:00.277Z"
   },
   {
    "duration": 131,
    "start_time": "2023-04-01T14:59:00.498Z"
   },
   {
    "duration": 267,
    "start_time": "2023-04-01T14:59:00.631Z"
   },
   {
    "duration": 12,
    "start_time": "2023-04-01T14:59:00.900Z"
   },
   {
    "duration": 29,
    "start_time": "2023-04-01T14:59:00.914Z"
   },
   {
    "duration": 11026,
    "start_time": "2023-04-01T14:59:00.946Z"
   },
   {
    "duration": 8402,
    "start_time": "2023-04-01T14:59:27.459Z"
   },
   {
    "duration": 8,
    "start_time": "2023-04-01T14:59:51.662Z"
   },
   {
    "duration": 4,
    "start_time": "2023-04-01T15:02:24.363Z"
   },
   {
    "duration": 9,
    "start_time": "2023-04-01T15:02:37.853Z"
   },
   {
    "duration": 51,
    "start_time": "2023-04-01T15:02:37.865Z"
   },
   {
    "duration": 1063,
    "start_time": "2023-04-01T15:02:37.919Z"
   },
   {
    "duration": 14642,
    "start_time": "2023-04-01T15:02:38.984Z"
   },
   {
    "duration": 470,
    "start_time": "2023-04-01T15:02:53.628Z"
   },
   {
    "duration": 399,
    "start_time": "2023-04-01T15:02:54.100Z"
   },
   {
    "duration": 4,
    "start_time": "2023-04-01T15:02:54.502Z"
   },
   {
    "duration": 5,
    "start_time": "2023-04-01T15:02:54.507Z"
   },
   {
    "duration": 9,
    "start_time": "2023-04-01T15:02:54.513Z"
   },
   {
    "duration": 5,
    "start_time": "2023-04-01T15:02:54.525Z"
   },
   {
    "duration": 23,
    "start_time": "2023-04-01T15:02:54.532Z"
   },
   {
    "duration": 1003,
    "start_time": "2023-04-01T15:02:54.557Z"
   },
   {
    "duration": 3,
    "start_time": "2023-04-01T15:02:55.563Z"
   },
   {
    "duration": 14,
    "start_time": "2023-04-01T15:02:55.567Z"
   },
   {
    "duration": 27,
    "start_time": "2023-04-01T15:02:55.582Z"
   },
   {
    "duration": 44,
    "start_time": "2023-04-01T15:02:55.611Z"
   },
   {
    "duration": 150,
    "start_time": "2023-04-01T15:02:55.657Z"
   },
   {
    "duration": 24,
    "start_time": "2023-04-01T15:02:55.809Z"
   },
   {
    "duration": 85,
    "start_time": "2023-04-01T15:02:55.835Z"
   },
   {
    "duration": 1070,
    "start_time": "2023-04-01T15:02:55.922Z"
   },
   {
    "duration": 1306,
    "start_time": "2023-04-01T15:02:56.995Z"
   },
   {
    "duration": 24664,
    "start_time": "2023-04-01T15:02:58.304Z"
   },
   {
    "duration": 80,
    "start_time": "2023-04-01T15:03:22.970Z"
   },
   {
    "duration": 15,
    "start_time": "2023-04-01T15:03:23.053Z"
   },
   {
    "duration": 52,
    "start_time": "2023-04-01T15:03:23.071Z"
   },
   {
    "duration": 179,
    "start_time": "2023-04-01T15:03:23.125Z"
   },
   {
    "duration": 218,
    "start_time": "2023-04-01T15:03:23.306Z"
   },
   {
    "duration": 99,
    "start_time": "2023-04-01T15:03:23.528Z"
   },
   {
    "duration": 105,
    "start_time": "2023-04-01T15:03:23.630Z"
   },
   {
    "duration": 9,
    "start_time": "2023-04-01T15:03:23.737Z"
   },
   {
    "duration": 6,
    "start_time": "2023-04-01T15:03:23.749Z"
   },
   {
    "duration": 3851,
    "start_time": "2023-04-01T15:03:23.757Z"
   },
   {
    "duration": 17,
    "start_time": "2023-04-01T15:03:27.611Z"
   },
   {
    "duration": 373,
    "start_time": "2023-04-01T15:03:27.630Z"
   },
   {
    "duration": 0,
    "start_time": "2023-04-01T15:03:28.006Z"
   },
   {
    "duration": 0,
    "start_time": "2023-04-01T15:03:28.008Z"
   },
   {
    "duration": 0,
    "start_time": "2023-04-01T15:03:28.010Z"
   },
   {
    "duration": 0,
    "start_time": "2023-04-01T15:03:28.024Z"
   },
   {
    "duration": 0,
    "start_time": "2023-04-01T15:03:28.026Z"
   },
   {
    "duration": 0,
    "start_time": "2023-04-01T15:03:28.028Z"
   },
   {
    "duration": 0,
    "start_time": "2023-04-01T15:03:28.030Z"
   },
   {
    "duration": 0,
    "start_time": "2023-04-01T15:03:28.031Z"
   },
   {
    "duration": 0,
    "start_time": "2023-04-01T15:03:28.033Z"
   },
   {
    "duration": 0,
    "start_time": "2023-04-01T15:03:28.035Z"
   },
   {
    "duration": 0,
    "start_time": "2023-04-01T15:03:28.036Z"
   },
   {
    "duration": 0,
    "start_time": "2023-04-01T15:03:28.037Z"
   },
   {
    "duration": 4,
    "start_time": "2023-04-01T15:05:59.968Z"
   },
   {
    "duration": 13,
    "start_time": "2023-04-01T15:06:10.647Z"
   },
   {
    "duration": 4,
    "start_time": "2023-04-01T15:08:20.676Z"
   },
   {
    "duration": 21,
    "start_time": "2023-04-01T15:08:30.661Z"
   },
   {
    "duration": 10,
    "start_time": "2023-04-01T15:08:41.572Z"
   },
   {
    "duration": 20,
    "start_time": "2023-04-01T15:08:51.349Z"
   },
   {
    "duration": 24,
    "start_time": "2023-04-01T15:09:10.284Z"
   },
   {
    "duration": 21,
    "start_time": "2023-04-01T15:09:28.764Z"
   },
   {
    "duration": 21,
    "start_time": "2023-04-01T15:09:41.444Z"
   },
   {
    "duration": 10,
    "start_time": "2023-04-01T15:10:02.901Z"
   },
   {
    "duration": 4,
    "start_time": "2023-04-01T15:13:01.170Z"
   },
   {
    "duration": 3,
    "start_time": "2023-04-01T15:13:03.739Z"
   },
   {
    "duration": 15,
    "start_time": "2023-04-01T15:13:11.722Z"
   },
   {
    "duration": 52,
    "start_time": "2023-04-01T15:13:40.024Z"
   },
   {
    "duration": 3,
    "start_time": "2023-04-01T15:15:09.471Z"
   },
   {
    "duration": 44,
    "start_time": "2023-04-01T15:15:09.476Z"
   },
   {
    "duration": 1138,
    "start_time": "2023-04-01T15:15:09.522Z"
   },
   {
    "duration": 14505,
    "start_time": "2023-04-01T15:15:10.662Z"
   },
   {
    "duration": 427,
    "start_time": "2023-04-01T15:15:25.169Z"
   },
   {
    "duration": 360,
    "start_time": "2023-04-01T15:15:25.597Z"
   },
   {
    "duration": 3,
    "start_time": "2023-04-01T15:15:25.959Z"
   },
   {
    "duration": 6,
    "start_time": "2023-04-01T15:15:25.964Z"
   },
   {
    "duration": 5,
    "start_time": "2023-04-01T15:15:25.971Z"
   },
   {
    "duration": 7,
    "start_time": "2023-04-01T15:15:25.977Z"
   },
   {
    "duration": 19,
    "start_time": "2023-04-01T15:15:25.987Z"
   },
   {
    "duration": 920,
    "start_time": "2023-04-01T15:15:26.008Z"
   },
   {
    "duration": 3,
    "start_time": "2023-04-01T15:15:26.930Z"
   },
   {
    "duration": 6,
    "start_time": "2023-04-01T15:15:26.935Z"
   },
   {
    "duration": 12,
    "start_time": "2023-04-01T15:15:26.943Z"
   },
   {
    "duration": 27,
    "start_time": "2023-04-01T15:15:26.957Z"
   },
   {
    "duration": 98,
    "start_time": "2023-04-01T15:15:26.986Z"
   },
   {
    "duration": 9,
    "start_time": "2023-04-01T15:15:27.086Z"
   },
   {
    "duration": 91,
    "start_time": "2023-04-01T15:15:27.096Z"
   },
   {
    "duration": 1091,
    "start_time": "2023-04-01T15:15:27.189Z"
   },
   {
    "duration": 1349,
    "start_time": "2023-04-01T15:15:28.282Z"
   },
   {
    "duration": 24162,
    "start_time": "2023-04-01T15:15:29.634Z"
   },
   {
    "duration": 68,
    "start_time": "2023-04-01T15:15:53.798Z"
   },
   {
    "duration": 11,
    "start_time": "2023-04-01T15:15:53.868Z"
   },
   {
    "duration": 43,
    "start_time": "2023-04-01T15:15:53.880Z"
   },
   {
    "duration": 213,
    "start_time": "2023-04-01T15:15:53.925Z"
   },
   {
    "duration": 173,
    "start_time": "2023-04-01T15:15:54.141Z"
   },
   {
    "duration": 130,
    "start_time": "2023-04-01T15:15:54.316Z"
   },
   {
    "duration": 102,
    "start_time": "2023-04-01T15:15:54.451Z"
   },
   {
    "duration": 8,
    "start_time": "2023-04-01T15:15:54.555Z"
   },
   {
    "duration": 44,
    "start_time": "2023-04-01T15:15:54.565Z"
   },
   {
    "duration": 9576,
    "start_time": "2023-04-01T15:15:54.611Z"
   },
   {
    "duration": 3,
    "start_time": "2023-04-01T15:16:04.190Z"
   },
   {
    "duration": 8,
    "start_time": "2023-04-01T15:16:04.195Z"
   },
   {
    "duration": 35,
    "start_time": "2023-04-01T15:16:04.205Z"
   },
   {
    "duration": 5,
    "start_time": "2023-04-01T15:16:35.959Z"
   },
   {
    "duration": 6,
    "start_time": "2023-04-01T15:17:18.334Z"
   },
   {
    "duration": 3,
    "start_time": "2023-04-01T15:17:22.111Z"
   },
   {
    "duration": 6,
    "start_time": "2023-04-01T15:17:31.299Z"
   },
   {
    "duration": 66,
    "start_time": "2023-04-01T15:17:47.001Z"
   },
   {
    "duration": 4,
    "start_time": "2023-04-01T15:18:39.165Z"
   },
   {
    "duration": 7,
    "start_time": "2023-04-01T15:19:18.445Z"
   },
   {
    "duration": 5,
    "start_time": "2023-04-01T15:19:46.044Z"
   },
   {
    "duration": 3,
    "start_time": "2023-04-01T15:19:49.508Z"
   },
   {
    "duration": 12,
    "start_time": "2023-04-01T15:19:54.576Z"
   },
   {
    "duration": 59,
    "start_time": "2023-04-01T15:20:22.476Z"
   },
   {
    "duration": 4,
    "start_time": "2023-04-01T15:20:40.027Z"
   },
   {
    "duration": 82,
    "start_time": "2023-04-01T15:21:29.292Z"
   },
   {
    "duration": 5,
    "start_time": "2023-04-01T15:21:35.594Z"
   },
   {
    "duration": 4,
    "start_time": "2023-04-01T15:22:14.625Z"
   },
   {
    "duration": 4,
    "start_time": "2023-04-01T15:22:40.153Z"
   },
   {
    "duration": 320,
    "start_time": "2023-04-01T15:24:37.767Z"
   },
   {
    "duration": 153,
    "start_time": "2023-04-01T15:40:02.043Z"
   },
   {
    "duration": 4,
    "start_time": "2023-04-01T15:43:46.503Z"
   },
   {
    "duration": 7,
    "start_time": "2023-04-01T15:44:05.703Z"
   },
   {
    "duration": 441,
    "start_time": "2023-04-01T15:44:13.403Z"
   },
   {
    "duration": 5,
    "start_time": "2023-04-01T15:44:49.020Z"
   },
   {
    "duration": 6,
    "start_time": "2023-04-01T15:48:54.405Z"
   },
   {
    "duration": 1219,
    "start_time": "2023-04-01T15:48:57.370Z"
   },
   {
    "duration": 5,
    "start_time": "2023-04-01T15:49:08.480Z"
   },
   {
    "duration": 1303,
    "start_time": "2023-04-01T15:49:10.068Z"
   },
   {
    "duration": 6,
    "start_time": "2023-04-01T15:49:19.321Z"
   },
   {
    "duration": 1253,
    "start_time": "2023-04-01T15:49:21.848Z"
   },
   {
    "duration": 6,
    "start_time": "2023-04-01T15:49:48.664Z"
   },
   {
    "duration": 1313,
    "start_time": "2023-04-01T15:49:51.306Z"
   },
   {
    "duration": 6,
    "start_time": "2023-04-01T15:50:01.248Z"
   },
   {
    "duration": 6,
    "start_time": "2023-04-01T15:50:09.704Z"
   },
   {
    "duration": 1206,
    "start_time": "2023-04-01T15:50:11.740Z"
   },
   {
    "duration": 5,
    "start_time": "2023-04-01T15:51:35.713Z"
   },
   {
    "duration": 1198,
    "start_time": "2023-04-01T15:51:37.631Z"
   },
   {
    "duration": 6,
    "start_time": "2023-04-01T15:52:06.777Z"
   },
   {
    "duration": 1955,
    "start_time": "2023-04-01T15:52:09.238Z"
   },
   {
    "duration": 6,
    "start_time": "2023-04-01T15:53:01.511Z"
   },
   {
    "duration": 1166,
    "start_time": "2023-04-01T15:53:07.013Z"
   },
   {
    "duration": 5,
    "start_time": "2023-04-01T15:53:21.314Z"
   },
   {
    "duration": 153,
    "start_time": "2023-04-01T15:53:22.310Z"
   },
   {
    "duration": 6,
    "start_time": "2023-04-01T15:53:49.709Z"
   },
   {
    "duration": 1143,
    "start_time": "2023-04-01T15:53:51.357Z"
   },
   {
    "duration": 5,
    "start_time": "2023-04-01T15:54:02.560Z"
   },
   {
    "duration": 786,
    "start_time": "2023-04-01T15:54:03.908Z"
   },
   {
    "duration": 5,
    "start_time": "2023-04-01T15:54:13.961Z"
   },
   {
    "duration": 5116,
    "start_time": "2023-04-01T15:54:15.716Z"
   },
   {
    "duration": 4,
    "start_time": "2023-04-01T15:54:33.332Z"
   },
   {
    "duration": 6,
    "start_time": "2023-04-01T15:55:54.588Z"
   },
   {
    "duration": 5175,
    "start_time": "2023-04-01T15:55:57.114Z"
   },
   {
    "duration": 5,
    "start_time": "2023-04-01T15:56:23.886Z"
   },
   {
    "duration": 11380,
    "start_time": "2023-04-01T15:56:25.585Z"
   },
   {
    "duration": 5,
    "start_time": "2023-04-01T15:56:55.264Z"
   },
   {
    "duration": 6,
    "start_time": "2023-04-01T15:57:11.658Z"
   },
   {
    "duration": 2783,
    "start_time": "2023-04-01T15:57:13.117Z"
   },
   {
    "duration": 7,
    "start_time": "2023-04-01T15:57:25.066Z"
   },
   {
    "duration": 5291,
    "start_time": "2023-04-01T15:57:27.218Z"
   },
   {
    "duration": 5,
    "start_time": "2023-04-01T15:57:41.434Z"
   },
   {
    "duration": 7650,
    "start_time": "2023-04-01T15:57:42.641Z"
   },
   {
    "duration": 6,
    "start_time": "2023-04-01T15:57:56.487Z"
   },
   {
    "duration": 6522,
    "start_time": "2023-04-01T15:57:57.969Z"
   },
   {
    "duration": 6,
    "start_time": "2023-04-01T15:58:24.766Z"
   },
   {
    "duration": 6,
    "start_time": "2023-04-01T15:58:44.825Z"
   },
   {
    "duration": 9886,
    "start_time": "2023-04-01T15:58:46.135Z"
   },
   {
    "duration": 7,
    "start_time": "2023-04-01T15:59:08.027Z"
   },
   {
    "duration": 2793,
    "start_time": "2023-04-01T15:59:09.841Z"
   },
   {
    "duration": 7,
    "start_time": "2023-04-01T15:59:19.335Z"
   },
   {
    "duration": 12840,
    "start_time": "2023-04-01T15:59:21.265Z"
   },
   {
    "duration": 4,
    "start_time": "2023-04-01T15:59:42.680Z"
   },
   {
    "duration": 4560,
    "start_time": "2023-04-01T15:59:44.367Z"
   },
   {
    "duration": 5,
    "start_time": "2023-04-01T15:59:58.151Z"
   },
   {
    "duration": 4160,
    "start_time": "2023-04-01T15:59:59.834Z"
   },
   {
    "duration": 6,
    "start_time": "2023-04-01T16:00:24.078Z"
   },
   {
    "duration": 6,
    "start_time": "2023-04-01T16:00:40.728Z"
   },
   {
    "duration": 4550,
    "start_time": "2023-04-01T16:00:42.942Z"
   },
   {
    "duration": 4,
    "start_time": "2023-04-01T16:03:55.059Z"
   },
   {
    "duration": 8,
    "start_time": "2023-04-01T16:06:17.741Z"
   },
   {
    "duration": 41,
    "start_time": "2023-04-01T16:06:17.756Z"
   },
   {
    "duration": 1113,
    "start_time": "2023-04-01T16:06:17.800Z"
   },
   {
    "duration": 15204,
    "start_time": "2023-04-01T16:06:18.915Z"
   },
   {
    "duration": 439,
    "start_time": "2023-04-01T16:06:34.121Z"
   },
   {
    "duration": 401,
    "start_time": "2023-04-01T16:06:34.563Z"
   },
   {
    "duration": 3,
    "start_time": "2023-04-01T16:06:34.966Z"
   },
   {
    "duration": 15,
    "start_time": "2023-04-01T16:06:34.971Z"
   },
   {
    "duration": 20,
    "start_time": "2023-04-01T16:06:34.988Z"
   },
   {
    "duration": 21,
    "start_time": "2023-04-01T16:06:35.010Z"
   },
   {
    "duration": 19,
    "start_time": "2023-04-01T16:06:35.033Z"
   },
   {
    "duration": 964,
    "start_time": "2023-04-01T16:06:35.054Z"
   },
   {
    "duration": 4,
    "start_time": "2023-04-01T16:06:36.019Z"
   },
   {
    "duration": 11,
    "start_time": "2023-04-01T16:06:36.025Z"
   },
   {
    "duration": 15,
    "start_time": "2023-04-01T16:06:36.039Z"
   },
   {
    "duration": 28,
    "start_time": "2023-04-01T16:06:36.055Z"
   },
   {
    "duration": 97,
    "start_time": "2023-04-01T16:06:36.085Z"
   },
   {
    "duration": 9,
    "start_time": "2023-04-01T16:06:36.183Z"
   },
   {
    "duration": 85,
    "start_time": "2023-04-01T16:06:36.194Z"
   },
   {
    "duration": 1080,
    "start_time": "2023-04-01T16:06:36.282Z"
   },
   {
    "duration": 1390,
    "start_time": "2023-04-01T16:06:37.364Z"
   },
   {
    "duration": 23177,
    "start_time": "2023-04-01T16:06:38.757Z"
   },
   {
    "duration": 69,
    "start_time": "2023-04-01T16:07:01.935Z"
   },
   {
    "duration": 20,
    "start_time": "2023-04-01T16:07:02.007Z"
   },
   {
    "duration": 60,
    "start_time": "2023-04-01T16:07:02.029Z"
   },
   {
    "duration": 180,
    "start_time": "2023-04-01T16:07:02.092Z"
   },
   {
    "duration": 165,
    "start_time": "2023-04-01T16:07:02.274Z"
   },
   {
    "duration": 102,
    "start_time": "2023-04-01T16:07:02.440Z"
   },
   {
    "duration": 105,
    "start_time": "2023-04-01T16:07:02.544Z"
   },
   {
    "duration": 39,
    "start_time": "2023-04-01T16:07:02.650Z"
   },
   {
    "duration": 32,
    "start_time": "2023-04-01T16:07:02.692Z"
   },
   {
    "duration": 1272975,
    "start_time": "2023-04-01T16:07:02.726Z"
   },
   {
    "duration": 7,
    "start_time": "2023-04-01T16:28:15.703Z"
   },
   {
    "duration": 3,
    "start_time": "2023-04-01T16:28:15.724Z"
   },
   {
    "duration": 12,
    "start_time": "2023-04-01T16:28:15.729Z"
   },
   {
    "duration": 30,
    "start_time": "2023-04-01T16:28:15.743Z"
   },
   {
    "duration": 3,
    "start_time": "2023-04-01T16:28:15.775Z"
   },
   {
    "duration": 7571,
    "start_time": "2023-04-01T16:28:15.780Z"
   },
   {
    "duration": 4,
    "start_time": "2023-04-01T16:28:23.353Z"
   },
   {
    "duration": 11,
    "start_time": "2023-04-01T16:28:23.358Z"
   },
   {
    "duration": 7,
    "start_time": "2023-04-02T04:06:10.038Z"
   },
   {
    "duration": 3,
    "start_time": "2023-04-02T04:06:11.364Z"
   },
   {
    "duration": 2,
    "start_time": "2023-04-02T04:20:00.035Z"
   },
   {
    "duration": 8,
    "start_time": "2023-04-02T04:20:37.290Z"
   },
   {
    "duration": 44,
    "start_time": "2023-04-02T04:20:37.325Z"
   },
   {
    "duration": 951,
    "start_time": "2023-04-02T04:20:37.371Z"
   },
   {
    "duration": 12813,
    "start_time": "2023-04-02T04:20:38.324Z"
   },
   {
    "duration": 385,
    "start_time": "2023-04-02T04:20:51.139Z"
   },
   {
    "duration": 334,
    "start_time": "2023-04-02T04:20:51.526Z"
   },
   {
    "duration": 3,
    "start_time": "2023-04-02T04:20:51.861Z"
   },
   {
    "duration": 29,
    "start_time": "2023-04-02T04:20:51.866Z"
   },
   {
    "duration": 20,
    "start_time": "2023-04-02T04:20:51.896Z"
   },
   {
    "duration": 9,
    "start_time": "2023-04-02T04:20:51.917Z"
   },
   {
    "duration": 56,
    "start_time": "2023-04-02T04:20:51.928Z"
   },
   {
    "duration": 2,
    "start_time": "2023-04-02T04:20:51.986Z"
   },
   {
    "duration": 2496,
    "start_time": "2023-04-02T04:20:51.990Z"
   },
   {
    "duration": 3,
    "start_time": "2023-04-02T04:20:54.488Z"
   },
   {
    "duration": 32,
    "start_time": "2023-04-02T04:20:54.494Z"
   },
   {
    "duration": 35,
    "start_time": "2023-04-02T04:20:54.527Z"
   },
   {
    "duration": 45,
    "start_time": "2023-04-02T04:20:54.564Z"
   },
   {
    "duration": 116,
    "start_time": "2023-04-02T04:20:54.611Z"
   },
   {
    "duration": 28,
    "start_time": "2023-04-02T04:20:54.729Z"
   },
   {
    "duration": 4,
    "start_time": "2023-04-02T04:40:45.885Z"
   },
   {
    "duration": 12,
    "start_time": "2023-04-02T04:44:24.811Z"
   },
   {
    "duration": 17,
    "start_time": "2023-04-02T04:45:24.347Z"
   },
   {
    "duration": 19,
    "start_time": "2023-04-02T04:45:32.576Z"
   },
   {
    "duration": 12,
    "start_time": "2023-04-02T04:45:47.222Z"
   },
   {
    "duration": 313,
    "start_time": "2023-04-02T04:46:00.530Z"
   },
   {
    "duration": 22,
    "start_time": "2023-04-02T04:46:24.696Z"
   },
   {
    "duration": 31,
    "start_time": "2023-04-02T04:50:59.843Z"
   },
   {
    "duration": 47,
    "start_time": "2023-04-02T04:51:40.422Z"
   },
   {
    "duration": 51,
    "start_time": "2023-04-02T04:51:48.901Z"
   },
   {
    "duration": 23,
    "start_time": "2023-04-02T04:51:56.998Z"
   },
   {
    "duration": 23,
    "start_time": "2023-04-02T04:52:39.926Z"
   },
   {
    "duration": 4,
    "start_time": "2023-04-02T04:59:37.271Z"
   },
   {
    "duration": 54,
    "start_time": "2023-04-02T05:00:02.078Z"
   },
   {
    "duration": 7,
    "start_time": "2023-04-02T05:00:26.717Z"
   },
   {
    "duration": 64,
    "start_time": "2023-04-02T05:00:48.733Z"
   },
   {
    "duration": 7,
    "start_time": "2023-04-02T05:00:57.757Z"
   },
   {
    "duration": 60,
    "start_time": "2023-04-02T05:01:18.197Z"
   },
   {
    "duration": 6,
    "start_time": "2023-04-02T05:01:24.958Z"
   },
   {
    "duration": 4,
    "start_time": "2023-04-02T05:02:54.357Z"
   },
   {
    "duration": 65,
    "start_time": "2023-04-02T05:03:27.987Z"
   },
   {
    "duration": 59,
    "start_time": "2023-04-02T05:03:40.468Z"
   },
   {
    "duration": 28,
    "start_time": "2023-04-02T05:03:43.555Z"
   },
   {
    "duration": 17,
    "start_time": "2023-04-02T05:04:16.611Z"
   },
   {
    "duration": 4,
    "start_time": "2023-04-02T05:04:41.665Z"
   },
   {
    "duration": 7,
    "start_time": "2023-04-02T05:05:01.867Z"
   },
   {
    "duration": 52,
    "start_time": "2023-04-02T05:05:01.876Z"
   },
   {
    "duration": 1861,
    "start_time": "2023-04-02T05:05:01.930Z"
   },
   {
    "duration": 13178,
    "start_time": "2023-04-02T05:05:03.793Z"
   },
   {
    "duration": 403,
    "start_time": "2023-04-02T05:05:16.973Z"
   },
   {
    "duration": 351,
    "start_time": "2023-04-02T05:05:17.378Z"
   },
   {
    "duration": 3,
    "start_time": "2023-04-02T05:05:17.730Z"
   },
   {
    "duration": 6,
    "start_time": "2023-04-02T05:05:17.735Z"
   },
   {
    "duration": 10,
    "start_time": "2023-04-02T05:05:17.743Z"
   },
   {
    "duration": 11,
    "start_time": "2023-04-02T05:05:17.755Z"
   },
   {
    "duration": 26,
    "start_time": "2023-04-02T05:05:17.768Z"
   },
   {
    "duration": 331,
    "start_time": "2023-04-02T05:05:17.796Z"
   },
   {
    "duration": 0,
    "start_time": "2023-04-02T05:05:18.129Z"
   },
   {
    "duration": 0,
    "start_time": "2023-04-02T05:05:18.134Z"
   },
   {
    "duration": 0,
    "start_time": "2023-04-02T05:05:18.135Z"
   },
   {
    "duration": 0,
    "start_time": "2023-04-02T05:05:18.136Z"
   },
   {
    "duration": 0,
    "start_time": "2023-04-02T05:05:18.137Z"
   },
   {
    "duration": 0,
    "start_time": "2023-04-02T05:05:18.138Z"
   },
   {
    "duration": 0,
    "start_time": "2023-04-02T05:05:18.139Z"
   },
   {
    "duration": 0,
    "start_time": "2023-04-02T05:05:18.140Z"
   },
   {
    "duration": 0,
    "start_time": "2023-04-02T05:05:18.141Z"
   },
   {
    "duration": 17,
    "start_time": "2023-04-02T05:05:22.331Z"
   },
   {
    "duration": 15,
    "start_time": "2023-04-02T05:05:32.668Z"
   },
   {
    "duration": 3,
    "start_time": "2023-04-02T05:06:25.198Z"
   },
   {
    "duration": 9,
    "start_time": "2023-04-02T05:06:25.202Z"
   },
   {
    "duration": 7,
    "start_time": "2023-04-02T05:06:25.213Z"
   },
   {
    "duration": 9970,
    "start_time": "2023-04-02T05:06:25.222Z"
   },
   {
    "duration": 4,
    "start_time": "2023-04-02T05:06:35.195Z"
   },
   {
    "duration": 13,
    "start_time": "2023-04-02T05:06:35.200Z"
   },
   {
    "duration": 9,
    "start_time": "2023-04-02T05:06:35.214Z"
   },
   {
    "duration": 12,
    "start_time": "2023-04-02T05:06:35.225Z"
   },
   {
    "duration": 10,
    "start_time": "2023-04-02T05:06:35.239Z"
   },
   {
    "duration": 23,
    "start_time": "2023-04-02T05:06:35.251Z"
   },
   {
    "duration": 24,
    "start_time": "2023-04-02T05:06:35.275Z"
   },
   {
    "duration": 8,
    "start_time": "2023-04-02T05:06:35.301Z"
   },
   {
    "duration": 938,
    "start_time": "2023-04-02T05:06:35.312Z"
   },
   {
    "duration": 3,
    "start_time": "2023-04-02T05:06:36.251Z"
   },
   {
    "duration": 7,
    "start_time": "2023-04-02T05:06:36.256Z"
   },
   {
    "duration": 13,
    "start_time": "2023-04-02T05:06:36.265Z"
   },
   {
    "duration": 24,
    "start_time": "2023-04-02T05:06:36.280Z"
   },
   {
    "duration": 89,
    "start_time": "2023-04-02T05:06:36.306Z"
   },
   {
    "duration": 26,
    "start_time": "2023-04-02T05:06:36.396Z"
   },
   {
    "duration": 59,
    "start_time": "2023-04-02T05:06:36.424Z"
   },
   {
    "duration": 5,
    "start_time": "2023-04-02T05:08:21.792Z"
   },
   {
    "duration": 3,
    "start_time": "2023-04-02T05:09:45.664Z"
   },
   {
    "duration": 9,
    "start_time": "2023-04-02T05:10:16.189Z"
   },
   {
    "duration": 50,
    "start_time": "2023-04-02T05:10:16.200Z"
   },
   {
    "duration": 947,
    "start_time": "2023-04-02T05:10:16.251Z"
   },
   {
    "duration": 13880,
    "start_time": "2023-04-02T05:10:17.199Z"
   },
   {
    "duration": 410,
    "start_time": "2023-04-02T05:10:31.081Z"
   },
   {
    "duration": 266,
    "start_time": "2023-04-02T05:10:31.493Z"
   },
   {
    "duration": 3,
    "start_time": "2023-04-02T05:10:31.760Z"
   },
   {
    "duration": 46,
    "start_time": "2023-04-02T05:10:31.764Z"
   },
   {
    "duration": 26,
    "start_time": "2023-04-02T05:10:31.811Z"
   },
   {
    "duration": 12,
    "start_time": "2023-04-02T05:10:31.839Z"
   },
   {
    "duration": 36,
    "start_time": "2023-04-02T05:10:31.852Z"
   },
   {
    "duration": 3,
    "start_time": "2023-04-02T05:10:31.890Z"
   },
   {
    "duration": 914,
    "start_time": "2023-04-02T05:10:31.895Z"
   },
   {
    "duration": 3,
    "start_time": "2023-04-02T05:10:32.811Z"
   },
   {
    "duration": 11,
    "start_time": "2023-04-02T05:10:32.815Z"
   },
   {
    "duration": 9,
    "start_time": "2023-04-02T05:10:32.835Z"
   },
   {
    "duration": 25,
    "start_time": "2023-04-02T05:10:32.846Z"
   },
   {
    "duration": 91,
    "start_time": "2023-04-02T05:10:32.873Z"
   },
   {
    "duration": 9,
    "start_time": "2023-04-02T05:10:32.966Z"
   },
   {
    "duration": 31,
    "start_time": "2023-04-02T05:10:34.734Z"
   },
   {
    "duration": 7,
    "start_time": "2023-04-02T05:10:36.525Z"
   },
   {
    "duration": 28,
    "start_time": "2023-04-02T05:10:59.230Z"
   },
   {
    "duration": 319,
    "start_time": "2023-04-02T05:11:01.055Z"
   },
   {
    "duration": 65,
    "start_time": "2023-04-02T05:11:31.200Z"
   },
   {
    "duration": 4,
    "start_time": "2023-04-02T05:11:40.607Z"
   },
   {
    "duration": 3,
    "start_time": "2023-04-02T05:11:48.965Z"
   },
   {
    "duration": 13,
    "start_time": "2023-04-02T05:11:48.970Z"
   },
   {
    "duration": 7,
    "start_time": "2023-04-02T05:11:48.985Z"
   },
   {
    "duration": 9519,
    "start_time": "2023-04-02T05:11:48.995Z"
   },
   {
    "duration": 3,
    "start_time": "2023-04-02T05:11:58.516Z"
   },
   {
    "duration": 18,
    "start_time": "2023-04-02T05:11:58.521Z"
   },
   {
    "duration": 5,
    "start_time": "2023-04-02T05:11:58.541Z"
   },
   {
    "duration": 9,
    "start_time": "2023-04-02T05:11:58.547Z"
   },
   {
    "duration": 10,
    "start_time": "2023-04-02T05:11:58.558Z"
   },
   {
    "duration": 5,
    "start_time": "2023-04-02T05:11:58.569Z"
   },
   {
    "duration": 17,
    "start_time": "2023-04-02T05:11:58.575Z"
   },
   {
    "duration": 4,
    "start_time": "2023-04-02T05:11:58.593Z"
   },
   {
    "duration": 906,
    "start_time": "2023-04-02T05:11:58.599Z"
   },
   {
    "duration": 3,
    "start_time": "2023-04-02T05:11:59.507Z"
   },
   {
    "duration": 7,
    "start_time": "2023-04-02T05:11:59.511Z"
   },
   {
    "duration": 17,
    "start_time": "2023-04-02T05:11:59.520Z"
   },
   {
    "duration": 28,
    "start_time": "2023-04-02T05:11:59.539Z"
   },
   {
    "duration": 104,
    "start_time": "2023-04-02T05:11:59.569Z"
   },
   {
    "duration": 13,
    "start_time": "2023-04-02T05:11:59.675Z"
   },
   {
    "duration": 32,
    "start_time": "2023-04-02T05:11:59.690Z"
   },
   {
    "duration": 6,
    "start_time": "2023-04-02T05:12:01.557Z"
   },
   {
    "duration": 17,
    "start_time": "2023-04-02T05:13:22.203Z"
   },
   {
    "duration": 24,
    "start_time": "2023-04-02T05:14:43.899Z"
   },
   {
    "duration": 17,
    "start_time": "2023-04-02T05:15:00.770Z"
   },
   {
    "duration": 20,
    "start_time": "2023-04-02T05:15:03.911Z"
   },
   {
    "duration": 20,
    "start_time": "2023-04-02T05:15:06.649Z"
   },
   {
    "duration": 24,
    "start_time": "2023-04-02T05:15:10.274Z"
   },
   {
    "duration": 3,
    "start_time": "2023-04-02T05:15:16.239Z"
   },
   {
    "duration": 6,
    "start_time": "2023-04-02T05:15:16.244Z"
   },
   {
    "duration": 5,
    "start_time": "2023-04-02T05:15:16.252Z"
   },
   {
    "duration": 10534,
    "start_time": "2023-04-02T05:15:16.260Z"
   },
   {
    "duration": 4,
    "start_time": "2023-04-02T05:15:26.795Z"
   },
   {
    "duration": 12,
    "start_time": "2023-04-02T05:15:26.800Z"
   },
   {
    "duration": 4,
    "start_time": "2023-04-02T05:15:26.814Z"
   },
   {
    "duration": 14,
    "start_time": "2023-04-02T05:15:26.820Z"
   },
   {
    "duration": 8,
    "start_time": "2023-04-02T05:15:26.837Z"
   },
   {
    "duration": 7,
    "start_time": "2023-04-02T05:15:26.847Z"
   },
   {
    "duration": 15,
    "start_time": "2023-04-02T05:15:26.855Z"
   },
   {
    "duration": 4,
    "start_time": "2023-04-02T05:15:26.871Z"
   },
   {
    "duration": 939,
    "start_time": "2023-04-02T05:15:26.877Z"
   },
   {
    "duration": 3,
    "start_time": "2023-04-02T05:15:27.818Z"
   },
   {
    "duration": 11,
    "start_time": "2023-04-02T05:15:27.823Z"
   },
   {
    "duration": 16,
    "start_time": "2023-04-02T05:15:27.835Z"
   },
   {
    "duration": 32,
    "start_time": "2023-04-02T05:15:27.853Z"
   },
   {
    "duration": 77,
    "start_time": "2023-04-02T05:15:27.887Z"
   },
   {
    "duration": 8,
    "start_time": "2023-04-02T05:15:27.966Z"
   },
   {
    "duration": 27,
    "start_time": "2023-04-02T05:15:27.975Z"
   },
   {
    "duration": 6,
    "start_time": "2023-04-02T05:15:28.004Z"
   },
   {
    "duration": 189,
    "start_time": "2023-04-02T05:19:33.871Z"
   },
   {
    "duration": 270,
    "start_time": "2023-04-02T05:21:59.516Z"
   },
   {
    "duration": 391,
    "start_time": "2023-04-02T05:26:11.000Z"
   },
   {
    "duration": 837,
    "start_time": "2023-04-02T05:26:25.099Z"
   },
   {
    "duration": 3,
    "start_time": "2023-04-02T05:26:31.361Z"
   },
   {
    "duration": 59,
    "start_time": "2023-04-02T05:26:33.096Z"
   },
   {
    "duration": 23,
    "start_time": "2023-04-02T05:26:38.289Z"
   },
   {
    "duration": 21,
    "start_time": "2023-04-02T05:27:06.186Z"
   },
   {
    "duration": 369,
    "start_time": "2023-04-02T05:27:22.673Z"
   },
   {
    "duration": 427,
    "start_time": "2023-04-02T05:28:51.231Z"
   },
   {
    "duration": 350,
    "start_time": "2023-04-02T05:31:35.644Z"
   },
   {
    "duration": 417,
    "start_time": "2023-04-02T05:32:54.604Z"
   },
   {
    "duration": 378,
    "start_time": "2023-04-02T05:33:16.468Z"
   },
   {
    "duration": 53,
    "start_time": "2023-04-02T05:35:43.302Z"
   },
   {
    "duration": 22,
    "start_time": "2023-04-02T05:35:49.373Z"
   },
   {
    "duration": 330,
    "start_time": "2023-04-02T05:36:06.845Z"
   },
   {
    "duration": 352,
    "start_time": "2023-04-02T05:37:02.011Z"
   },
   {
    "duration": 190,
    "start_time": "2023-04-02T05:37:32.179Z"
   },
   {
    "duration": 233,
    "start_time": "2023-04-02T05:37:51.994Z"
   },
   {
    "duration": 218,
    "start_time": "2023-04-02T05:38:39.711Z"
   },
   {
    "duration": 193,
    "start_time": "2023-04-02T05:38:53.447Z"
   },
   {
    "duration": 195,
    "start_time": "2023-04-02T05:39:47.070Z"
   },
   {
    "duration": 202,
    "start_time": "2023-04-02T05:40:21.566Z"
   },
   {
    "duration": 352,
    "start_time": "2023-04-02T05:42:02.161Z"
   },
   {
    "duration": 544,
    "start_time": "2023-04-02T05:42:20.433Z"
   },
   {
    "duration": 3719,
    "start_time": "2023-04-02T05:44:01.839Z"
   },
   {
    "duration": 21,
    "start_time": "2023-04-02T05:44:11.887Z"
   },
   {
    "duration": 10,
    "start_time": "2023-04-02T05:44:14.221Z"
   },
   {
    "duration": 12,
    "start_time": "2023-04-02T05:44:22.933Z"
   },
   {
    "duration": 40,
    "start_time": "2023-04-02T05:45:04.140Z"
   },
   {
    "duration": 43,
    "start_time": "2023-04-02T05:45:13.213Z"
   },
   {
    "duration": 29,
    "start_time": "2023-04-02T05:45:24.437Z"
   },
   {
    "duration": 28,
    "start_time": "2023-04-02T05:45:52.771Z"
   },
   {
    "duration": 228,
    "start_time": "2023-04-02T05:46:46.252Z"
   },
   {
    "duration": 2,
    "start_time": "2023-04-02T05:47:53.377Z"
   },
   {
    "duration": 3,
    "start_time": "2023-04-02T05:48:45.445Z"
   },
   {
    "duration": 23,
    "start_time": "2023-04-02T05:49:06.404Z"
   },
   {
    "duration": 7,
    "start_time": "2023-04-02T05:49:13.807Z"
   },
   {
    "duration": 5,
    "start_time": "2023-04-02T05:49:16.518Z"
   },
   {
    "duration": 47,
    "start_time": "2023-04-02T05:49:46.085Z"
   },
   {
    "duration": 16,
    "start_time": "2023-04-02T05:49:50.214Z"
   },
   {
    "duration": 6,
    "start_time": "2023-04-02T05:49:58.944Z"
   },
   {
    "duration": 4,
    "start_time": "2023-04-02T05:49:59.711Z"
   },
   {
    "duration": 94,
    "start_time": "2023-04-02T05:50:07.245Z"
   },
   {
    "duration": 8,
    "start_time": "2023-04-02T05:50:22.357Z"
   },
   {
    "duration": 4,
    "start_time": "2023-04-02T05:50:23.261Z"
   },
   {
    "duration": 41028,
    "start_time": "2023-04-02T05:50:31.092Z"
   },
   {
    "duration": 38472,
    "start_time": "2023-04-02T05:51:57.692Z"
   },
   {
    "duration": 39712,
    "start_time": "2023-04-02T05:53:42.081Z"
   },
   {
    "duration": 3,
    "start_time": "2023-04-02T05:54:29.080Z"
   },
   {
    "duration": 6,
    "start_time": "2023-04-02T05:54:30.495Z"
   },
   {
    "duration": 5,
    "start_time": "2023-04-02T05:54:51.559Z"
   },
   {
    "duration": 3,
    "start_time": "2023-04-02T05:54:53.967Z"
   },
   {
    "duration": 227,
    "start_time": "2023-04-02T05:55:28.551Z"
   },
   {
    "duration": 3,
    "start_time": "2023-04-02T05:55:30.790Z"
   },
   {
    "duration": 5,
    "start_time": "2023-04-02T05:55:51.188Z"
   },
   {
    "duration": 75494,
    "start_time": "2023-04-02T05:56:01.182Z"
   },
   {
    "duration": 56,
    "start_time": "2023-04-02T05:58:17.523Z"
   },
   {
    "duration": 94,
    "start_time": "2023-04-02T05:58:30.283Z"
   },
   {
    "duration": 74,
    "start_time": "2023-04-02T05:58:40.579Z"
   },
   {
    "duration": 74057,
    "start_time": "2023-04-02T05:58:48.548Z"
   },
   {
    "duration": 20,
    "start_time": "2023-04-02T08:47:49.722Z"
   },
   {
    "duration": 5,
    "start_time": "2023-04-02T08:59:55.823Z"
   },
   {
    "duration": 21,
    "start_time": "2023-04-02T08:59:59.542Z"
   },
   {
    "duration": 2192,
    "start_time": "2023-04-02T09:01:47.549Z"
   },
   {
    "duration": 29,
    "start_time": "2023-04-02T09:01:52.302Z"
   },
   {
    "duration": 3,
    "start_time": "2023-04-02T09:02:22.541Z"
   },
   {
    "duration": 34,
    "start_time": "2023-04-02T09:02:34.341Z"
   },
   {
    "duration": 33,
    "start_time": "2023-04-02T09:08:44.955Z"
   },
   {
    "duration": 5,
    "start_time": "2023-04-02T09:09:19.469Z"
   },
   {
    "duration": 26,
    "start_time": "2023-04-02T09:09:21.605Z"
   },
   {
    "duration": 25,
    "start_time": "2023-04-02T09:09:32.622Z"
   },
   {
    "duration": 48663,
    "start_time": "2023-04-02T09:12:23.963Z"
   },
   {
    "duration": 59,
    "start_time": "2023-04-02T09:15:08.351Z"
   },
   {
    "duration": 26,
    "start_time": "2023-04-02T09:15:20.496Z"
   },
   {
    "duration": 22,
    "start_time": "2023-04-02T09:18:34.998Z"
   },
   {
    "duration": 7,
    "start_time": "2023-04-02T09:18:51.315Z"
   },
   {
    "duration": 3,
    "start_time": "2023-04-02T09:19:08.180Z"
   },
   {
    "duration": 4,
    "start_time": "2023-04-02T09:19:18.712Z"
   },
   {
    "duration": 7,
    "start_time": "2023-04-02T09:21:01.484Z"
   },
   {
    "duration": 5,
    "start_time": "2023-04-02T09:32:34.008Z"
   },
   {
    "duration": 16,
    "start_time": "2023-04-02T09:33:36.430Z"
   },
   {
    "duration": 6,
    "start_time": "2023-04-02T09:35:07.172Z"
   },
   {
    "duration": 8,
    "start_time": "2023-04-02T09:35:24.597Z"
   },
   {
    "duration": 28,
    "start_time": "2023-04-02T09:36:45.315Z"
   },
   {
    "duration": 23,
    "start_time": "2023-04-02T09:37:00.372Z"
   },
   {
    "duration": 4,
    "start_time": "2023-04-02T09:39:52.081Z"
   },
   {
    "duration": 12,
    "start_time": "2023-04-02T17:23:24.111Z"
   },
   {
    "duration": 42,
    "start_time": "2023-04-02T17:23:24.126Z"
   },
   {
    "duration": 7095,
    "start_time": "2023-04-02T17:23:24.170Z"
   },
   {
    "duration": 17002,
    "start_time": "2023-04-02T17:23:31.269Z"
   },
   {
    "duration": 443,
    "start_time": "2023-04-02T17:23:48.273Z"
   },
   {
    "duration": 389,
    "start_time": "2023-04-02T17:23:48.718Z"
   },
   {
    "duration": 2080,
    "start_time": "2023-04-02T17:23:49.109Z"
   },
   {
    "duration": 23,
    "start_time": "2023-04-02T17:23:51.191Z"
   },
   {
    "duration": 2,
    "start_time": "2023-04-02T17:23:51.216Z"
   },
   {
    "duration": 6,
    "start_time": "2023-04-02T17:23:51.221Z"
   },
   {
    "duration": 17,
    "start_time": "2023-04-02T17:23:51.228Z"
   },
   {
    "duration": 7,
    "start_time": "2023-04-02T17:23:51.246Z"
   },
   {
    "duration": 31,
    "start_time": "2023-04-02T17:23:51.255Z"
   },
   {
    "duration": 3,
    "start_time": "2023-04-02T17:23:51.288Z"
   },
   {
    "duration": 911,
    "start_time": "2023-04-02T17:23:51.293Z"
   },
   {
    "duration": 4,
    "start_time": "2023-04-02T17:23:52.205Z"
   },
   {
    "duration": 29,
    "start_time": "2023-04-02T17:23:52.210Z"
   },
   {
    "duration": 12,
    "start_time": "2023-04-02T17:23:52.241Z"
   },
   {
    "duration": 27,
    "start_time": "2023-04-02T17:23:52.255Z"
   },
   {
    "duration": 75,
    "start_time": "2023-04-02T17:23:52.284Z"
   },
   {
    "duration": 23,
    "start_time": "2023-04-02T17:23:52.361Z"
   },
   {
    "duration": 48,
    "start_time": "2023-04-02T17:23:52.386Z"
   },
   {
    "duration": 7,
    "start_time": "2023-04-02T17:23:52.435Z"
   },
   {
    "duration": 49,
    "start_time": "2023-04-02T17:23:52.444Z"
   },
   {
    "duration": 212,
    "start_time": "2023-04-02T17:23:52.495Z"
   },
   {
    "duration": 371,
    "start_time": "2023-04-02T17:23:52.708Z"
   },
   {
    "duration": 3976,
    "start_time": "2023-04-02T17:23:53.081Z"
   },
   {
    "duration": 16,
    "start_time": "2023-04-02T17:23:57.060Z"
   },
   {
    "duration": 15,
    "start_time": "2023-04-02T17:23:57.078Z"
   },
   {
    "duration": 33,
    "start_time": "2023-04-02T17:23:57.095Z"
   },
   {
    "duration": 47,
    "start_time": "2023-04-02T17:23:57.130Z"
   },
   {
    "duration": 44,
    "start_time": "2023-04-02T17:23:57.179Z"
   },
   {
    "duration": 28,
    "start_time": "2023-04-02T17:23:57.225Z"
   },
   {
    "duration": 47,
    "start_time": "2023-04-02T17:23:57.255Z"
   },
   {
    "duration": 9,
    "start_time": "2023-04-02T17:23:57.303Z"
   },
   {
    "duration": 3,
    "start_time": "2023-04-02T17:23:57.314Z"
   },
   {
    "duration": 49938,
    "start_time": "2023-04-02T17:23:57.319Z"
   },
   {
    "duration": 31,
    "start_time": "2023-04-02T17:24:47.259Z"
   },
   {
    "duration": 7,
    "start_time": "2023-04-02T17:24:47.294Z"
   },
   {
    "duration": 17,
    "start_time": "2023-04-02T17:24:47.303Z"
   },
   {
    "duration": 10,
    "start_time": "2023-04-02T17:24:47.321Z"
   },
   {
    "duration": 300,
    "start_time": "2023-04-02T17:24:47.332Z"
   },
   {
    "duration": 3,
    "start_time": "2023-04-02T17:24:47.634Z"
   },
   {
    "duration": 19,
    "start_time": "2023-04-02T17:24:47.639Z"
   },
   {
    "duration": 7,
    "start_time": "2023-04-02T17:24:47.661Z"
   },
   {
    "duration": 0,
    "start_time": "2023-04-02T17:24:47.675Z"
   },
   {
    "duration": 0,
    "start_time": "2023-04-02T17:24:47.685Z"
   },
   {
    "duration": 0,
    "start_time": "2023-04-02T17:24:47.688Z"
   },
   {
    "duration": 0,
    "start_time": "2023-04-02T17:24:47.689Z"
   },
   {
    "duration": 0,
    "start_time": "2023-04-02T17:24:47.689Z"
   },
   {
    "duration": 13869,
    "start_time": "2023-04-03T02:33:16.669Z"
   },
   {
    "duration": 2,
    "start_time": "2023-04-03T02:34:40.066Z"
   },
   {
    "duration": 7,
    "start_time": "2023-04-03T06:46:08.622Z"
   },
   {
    "duration": 37,
    "start_time": "2023-04-03T06:46:08.630Z"
   },
   {
    "duration": 1021,
    "start_time": "2023-04-03T06:46:08.669Z"
   },
   {
    "duration": 13468,
    "start_time": "2023-04-03T06:46:09.691Z"
   },
   {
    "duration": 380,
    "start_time": "2023-04-03T06:46:23.161Z"
   },
   {
    "duration": 296,
    "start_time": "2023-04-03T06:46:23.542Z"
   },
   {
    "duration": 2028,
    "start_time": "2023-04-03T06:46:23.840Z"
   },
   {
    "duration": 21,
    "start_time": "2023-04-03T06:46:25.870Z"
   },
   {
    "duration": 3,
    "start_time": "2023-04-03T06:46:25.892Z"
   },
   {
    "duration": 9,
    "start_time": "2023-04-03T06:46:25.897Z"
   },
   {
    "duration": 5,
    "start_time": "2023-04-03T06:46:25.909Z"
   },
   {
    "duration": 8,
    "start_time": "2023-04-03T06:46:25.916Z"
   },
   {
    "duration": 25,
    "start_time": "2023-04-03T06:46:25.926Z"
   },
   {
    "duration": 5,
    "start_time": "2023-04-03T06:46:25.953Z"
   },
   {
    "duration": 3494,
    "start_time": "2023-04-03T06:46:25.959Z"
   },
   {
    "duration": 3,
    "start_time": "2023-04-03T06:46:29.455Z"
   },
   {
    "duration": 4,
    "start_time": "2023-04-03T06:46:29.460Z"
   },
   {
    "duration": 11,
    "start_time": "2023-04-03T06:46:29.466Z"
   },
   {
    "duration": 22,
    "start_time": "2023-04-03T06:46:29.479Z"
   },
   {
    "duration": 100,
    "start_time": "2023-04-03T06:46:29.503Z"
   },
   {
    "duration": 9,
    "start_time": "2023-04-03T06:46:29.605Z"
   },
   {
    "duration": 74,
    "start_time": "2023-04-03T06:46:29.616Z"
   },
   {
    "duration": 1002,
    "start_time": "2023-04-03T06:46:29.691Z"
   },
   {
    "duration": 1702,
    "start_time": "2023-04-03T06:46:30.694Z"
   },
   {
    "duration": 18930,
    "start_time": "2023-04-03T06:49:05.183Z"
   },
   {
    "duration": 57,
    "start_time": "2023-04-03T06:49:24.116Z"
   },
   {
    "duration": 9,
    "start_time": "2023-04-03T06:49:24.174Z"
   },
   {
    "duration": 40,
    "start_time": "2023-04-03T06:49:24.184Z"
   },
   {
    "duration": 118,
    "start_time": "2023-04-03T06:49:50.756Z"
   },
   {
    "duration": 128,
    "start_time": "2023-04-03T06:50:05.214Z"
   },
   {
    "duration": 19020,
    "start_time": "2023-04-03T06:52:27.942Z"
   },
   {
    "duration": 47,
    "start_time": "2023-04-03T06:52:49.173Z"
   },
   {
    "duration": 9,
    "start_time": "2023-04-03T06:52:51.433Z"
   },
   {
    "duration": 17,
    "start_time": "2023-04-03T06:52:53.418Z"
   },
   {
    "duration": 139,
    "start_time": "2023-04-03T06:52:56.684Z"
   },
   {
    "duration": 73,
    "start_time": "2023-04-03T07:01:22.525Z"
   },
   {
    "duration": 46,
    "start_time": "2023-04-03T07:01:25.233Z"
   },
   {
    "duration": 9,
    "start_time": "2023-04-03T07:01:27.523Z"
   },
   {
    "duration": 17,
    "start_time": "2023-04-03T07:01:32.747Z"
   },
   {
    "duration": 120,
    "start_time": "2023-04-03T07:01:35.169Z"
   },
   {
    "duration": 90,
    "start_time": "2023-04-03T07:03:45.944Z"
   },
   {
    "duration": 18531,
    "start_time": "2023-04-03T07:03:59.025Z"
   },
   {
    "duration": 47,
    "start_time": "2023-04-03T07:04:17.558Z"
   },
   {
    "duration": 8,
    "start_time": "2023-04-03T07:04:18.891Z"
   },
   {
    "duration": 18893,
    "start_time": "2023-04-03T07:06:36.159Z"
   },
   {
    "duration": 48,
    "start_time": "2023-04-03T07:06:55.054Z"
   },
   {
    "duration": 8,
    "start_time": "2023-04-03T07:06:55.104Z"
   },
   {
    "duration": 44,
    "start_time": "2023-04-03T07:07:35.250Z"
   },
   {
    "duration": 8,
    "start_time": "2023-04-03T07:07:37.125Z"
   },
   {
    "duration": 17,
    "start_time": "2023-04-03T07:07:43.467Z"
   },
   {
    "duration": 111,
    "start_time": "2023-04-03T07:09:06.843Z"
   },
   {
    "duration": 18981,
    "start_time": "2023-04-03T07:10:20.586Z"
   },
   {
    "duration": 72,
    "start_time": "2023-04-03T07:10:39.569Z"
   },
   {
    "duration": 9,
    "start_time": "2023-04-03T07:10:46.177Z"
   },
   {
    "duration": 16,
    "start_time": "2023-04-03T07:10:49.054Z"
   },
   {
    "duration": 136,
    "start_time": "2023-04-03T07:10:54.929Z"
   },
   {
    "duration": 85,
    "start_time": "2023-04-03T07:11:38.241Z"
   },
   {
    "duration": 3,
    "start_time": "2023-04-03T07:11:43.529Z"
   },
   {
    "duration": 4,
    "start_time": "2023-04-03T07:11:47.064Z"
   },
   {
    "duration": 70,
    "start_time": "2023-04-03T07:12:19.009Z"
   },
   {
    "duration": 75,
    "start_time": "2023-04-03T07:12:22.122Z"
   },
   {
    "duration": 4,
    "start_time": "2023-04-03T07:12:26.983Z"
   },
   {
    "duration": 17,
    "start_time": "2023-04-03T07:12:42.482Z"
   },
   {
    "duration": 17036,
    "start_time": "2023-04-03T07:12:55.863Z"
   },
   {
    "duration": 56,
    "start_time": "2023-04-03T07:13:12.902Z"
   },
   {
    "duration": 9,
    "start_time": "2023-04-03T07:13:12.960Z"
   },
   {
    "duration": 20,
    "start_time": "2023-04-03T07:13:12.971Z"
   },
   {
    "duration": 96,
    "start_time": "2023-04-03T07:13:13.430Z"
   },
   {
    "duration": 94,
    "start_time": "2023-04-03T07:20:26.269Z"
   },
   {
    "duration": 0,
    "start_time": "2023-04-03T07:25:07.048Z"
   },
   {
    "duration": 51,
    "start_time": "2023-04-03T07:25:17.363Z"
   },
   {
    "duration": 8,
    "start_time": "2023-04-03T07:25:18.259Z"
   },
   {
    "duration": 18,
    "start_time": "2023-04-03T07:25:24.338Z"
   },
   {
    "duration": 106,
    "start_time": "2023-04-03T07:25:27.794Z"
   },
   {
    "duration": 90,
    "start_time": "2023-04-03T07:26:10.475Z"
   },
   {
    "duration": 71,
    "start_time": "2023-04-03T07:26:39.250Z"
   },
   {
    "duration": 77,
    "start_time": "2023-04-03T07:26:54.523Z"
   },
   {
    "duration": 88,
    "start_time": "2023-04-03T07:27:08.386Z"
   },
   {
    "duration": 17417,
    "start_time": "2023-04-03T07:27:16.970Z"
   },
   {
    "duration": 42,
    "start_time": "2023-04-03T07:27:34.389Z"
   },
   {
    "duration": 8,
    "start_time": "2023-04-03T07:27:34.439Z"
   },
   {
    "duration": 16,
    "start_time": "2023-04-03T07:27:34.449Z"
   },
   {
    "duration": 115,
    "start_time": "2023-04-03T07:27:34.467Z"
   },
   {
    "duration": 17732,
    "start_time": "2023-04-03T07:28:22.946Z"
   },
   {
    "duration": 49,
    "start_time": "2023-04-03T07:29:30.969Z"
   },
   {
    "duration": 9,
    "start_time": "2023-04-03T07:29:33.578Z"
   },
   {
    "duration": 17,
    "start_time": "2023-04-03T07:29:40.193Z"
   },
   {
    "duration": 98,
    "start_time": "2023-04-03T07:29:43.061Z"
   },
   {
    "duration": 17811,
    "start_time": "2023-04-03T07:31:34.554Z"
   },
   {
    "duration": 45,
    "start_time": "2023-04-03T07:31:54.184Z"
   },
   {
    "duration": 9,
    "start_time": "2023-04-03T07:31:55.488Z"
   },
   {
    "duration": 17,
    "start_time": "2023-04-03T07:32:10.240Z"
   },
   {
    "duration": 115,
    "start_time": "2023-04-03T07:32:16.145Z"
   },
   {
    "duration": 93,
    "start_time": "2023-04-03T07:32:28.095Z"
   },
   {
    "duration": 393,
    "start_time": "2023-04-03T07:36:20.726Z"
   },
   {
    "duration": 16984,
    "start_time": "2023-04-03T07:36:57.470Z"
   },
   {
    "duration": 56,
    "start_time": "2023-04-03T07:37:18.822Z"
   },
   {
    "duration": 9,
    "start_time": "2023-04-03T07:37:20.095Z"
   },
   {
    "duration": 69,
    "start_time": "2023-04-03T07:38:21.574Z"
   },
   {
    "duration": 7,
    "start_time": "2023-04-03T07:38:23.942Z"
   },
   {
    "duration": 68,
    "start_time": "2023-04-03T07:38:51.681Z"
   },
   {
    "duration": 10,
    "start_time": "2023-04-03T07:38:53.518Z"
   },
   {
    "duration": 26,
    "start_time": "2023-04-03T07:38:59.906Z"
   },
   {
    "duration": 115,
    "start_time": "2023-04-03T07:39:34.636Z"
   },
   {
    "duration": 104,
    "start_time": "2023-04-03T07:39:40.654Z"
   },
   {
    "duration": 22554,
    "start_time": "2023-04-03T07:41:35.299Z"
   },
   {
    "duration": 74,
    "start_time": "2023-04-03T07:42:07.985Z"
   },
   {
    "duration": 8,
    "start_time": "2023-04-03T07:42:09.673Z"
   },
   {
    "duration": 22,
    "start_time": "2023-04-03T07:42:14.814Z"
   },
   {
    "duration": 115,
    "start_time": "2023-04-03T07:42:53.065Z"
   },
   {
    "duration": 107,
    "start_time": "2023-04-03T07:43:25.713Z"
   },
   {
    "duration": 78,
    "start_time": "2023-04-03T07:44:19.800Z"
   },
   {
    "duration": 3,
    "start_time": "2023-04-03T07:45:49.119Z"
   },
   {
    "duration": 5,
    "start_time": "2023-04-03T07:45:56.726Z"
   },
   {
    "duration": 3,
    "start_time": "2023-04-03T07:48:02.862Z"
   },
   {
    "duration": 3,
    "start_time": "2023-04-03T07:58:51.540Z"
   },
   {
    "duration": 22069,
    "start_time": "2023-04-03T07:59:47.259Z"
   },
   {
    "duration": 76,
    "start_time": "2023-04-03T08:00:09.329Z"
   },
   {
    "duration": 9,
    "start_time": "2023-04-03T08:00:09.407Z"
   },
   {
    "duration": 35,
    "start_time": "2023-04-03T08:00:09.417Z"
   },
   {
    "duration": 118,
    "start_time": "2023-04-03T08:01:25.288Z"
   },
   {
    "duration": 104,
    "start_time": "2023-04-03T08:01:44.459Z"
   },
   {
    "duration": 71,
    "start_time": "2023-04-03T08:01:55.018Z"
   },
   {
    "duration": 14249,
    "start_time": "2023-04-03T08:12:15.686Z"
   },
   {
    "duration": 0,
    "start_time": "2023-04-03T08:12:29.936Z"
   },
   {
    "duration": 0,
    "start_time": "2023-04-03T08:12:29.940Z"
   },
   {
    "duration": 0,
    "start_time": "2023-04-03T08:12:29.941Z"
   },
   {
    "duration": 29,
    "start_time": "2023-04-03T08:15:02.633Z"
   },
   {
    "duration": 18271,
    "start_time": "2023-04-03T08:17:27.406Z"
   },
   {
    "duration": 46,
    "start_time": "2023-04-03T08:17:45.679Z"
   },
   {
    "duration": 0,
    "start_time": "2023-04-03T08:17:45.727Z"
   },
   {
    "duration": 0,
    "start_time": "2023-04-03T08:17:45.727Z"
   },
   {
    "duration": 48,
    "start_time": "2023-04-03T08:18:21.994Z"
   },
   {
    "duration": 21002,
    "start_time": "2023-04-03T08:18:45.454Z"
   },
   {
    "duration": 53,
    "start_time": "2023-04-03T08:19:06.459Z"
   },
   {
    "duration": 0,
    "start_time": "2023-04-03T08:19:06.514Z"
   },
   {
    "duration": 0,
    "start_time": "2023-04-03T08:19:06.516Z"
   },
   {
    "duration": 20242,
    "start_time": "2023-04-03T08:19:37.886Z"
   },
   {
    "duration": 51,
    "start_time": "2023-04-03T08:20:01.706Z"
   },
   {
    "duration": 18109,
    "start_time": "2023-04-03T08:21:30.602Z"
   },
   {
    "duration": 50,
    "start_time": "2023-04-03T08:21:48.712Z"
   },
   {
    "duration": 0,
    "start_time": "2023-04-03T08:21:48.764Z"
   },
   {
    "duration": 0,
    "start_time": "2023-04-03T08:21:48.766Z"
   },
   {
    "duration": 56,
    "start_time": "2023-04-03T08:22:39.866Z"
   },
   {
    "duration": 9,
    "start_time": "2023-04-03T08:22:41.600Z"
   },
   {
    "duration": 25,
    "start_time": "2023-04-03T08:22:45.009Z"
   },
   {
    "duration": 22506,
    "start_time": "2023-04-03T08:27:06.003Z"
   },
   {
    "duration": 55,
    "start_time": "2023-04-03T08:27:31.957Z"
   },
   {
    "duration": 11,
    "start_time": "2023-04-03T08:27:34.351Z"
   },
   {
    "duration": 26,
    "start_time": "2023-04-03T08:27:43.908Z"
   },
   {
    "duration": 128,
    "start_time": "2023-04-03T08:28:05.909Z"
   },
   {
    "duration": 79,
    "start_time": "2023-04-03T08:31:48.851Z"
   },
   {
    "duration": 9,
    "start_time": "2023-04-03T08:31:51.114Z"
   },
   {
    "duration": 27,
    "start_time": "2023-04-03T08:31:57.634Z"
   },
   {
    "duration": 122,
    "start_time": "2023-04-03T08:32:11.692Z"
   },
   {
    "duration": 107,
    "start_time": "2023-04-03T08:32:39.397Z"
   },
   {
    "duration": 16,
    "start_time": "2023-04-03T08:44:42.773Z"
   },
   {
    "duration": 108,
    "start_time": "2023-04-03T08:44:46.494Z"
   },
   {
    "duration": 83,
    "start_time": "2023-04-03T08:45:01.790Z"
   },
   {
    "duration": 86,
    "start_time": "2023-04-03T08:45:43.741Z"
   },
   {
    "duration": 79,
    "start_time": "2023-04-03T08:46:42.876Z"
   },
   {
    "duration": 75,
    "start_time": "2023-04-03T08:47:06.087Z"
   },
   {
    "duration": 125,
    "start_time": "2023-04-03T08:47:41.338Z"
   },
   {
    "duration": 188,
    "start_time": "2023-04-03T08:47:50.332Z"
   },
   {
    "duration": 168,
    "start_time": "2023-04-03T08:48:23.630Z"
   },
   {
    "duration": 8,
    "start_time": "2023-04-03T08:49:04.065Z"
   },
   {
    "duration": 22114,
    "start_time": "2023-04-03T08:49:10.932Z"
   },
   {
    "duration": 129,
    "start_time": "2023-04-03T08:49:33.048Z"
   },
   {
    "duration": 12,
    "start_time": "2023-04-03T08:49:33.178Z"
   },
   {
    "duration": 58,
    "start_time": "2023-04-03T08:49:33.191Z"
   },
   {
    "duration": 20,
    "start_time": "2023-04-03T08:50:43.141Z"
   },
   {
    "duration": 142,
    "start_time": "2023-04-03T08:50:46.183Z"
   },
   {
    "duration": 12,
    "start_time": "2023-04-03T08:50:51.489Z"
   },
   {
    "duration": 107,
    "start_time": "2023-04-03T08:50:52.599Z"
   },
   {
    "duration": 42,
    "start_time": "2023-04-03T08:50:54.127Z"
   },
   {
    "duration": 24241,
    "start_time": "2023-04-03T08:51:02.317Z"
   },
   {
    "duration": 144,
    "start_time": "2023-04-03T08:51:55.301Z"
   },
   {
    "duration": 10,
    "start_time": "2023-04-03T08:51:57.462Z"
   },
   {
    "duration": 48,
    "start_time": "2023-04-03T08:52:00.421Z"
   },
   {
    "duration": 7,
    "start_time": "2023-04-03T08:52:31.159Z"
   },
   {
    "duration": 56,
    "start_time": "2023-04-03T08:52:31.168Z"
   },
   {
    "duration": 1186,
    "start_time": "2023-04-03T08:52:31.226Z"
   },
   {
    "duration": 13547,
    "start_time": "2023-04-03T08:52:32.413Z"
   },
   {
    "duration": 419,
    "start_time": "2023-04-03T08:52:45.962Z"
   },
   {
    "duration": 297,
    "start_time": "2023-04-03T08:52:46.382Z"
   },
   {
    "duration": 2229,
    "start_time": "2023-04-03T08:52:46.680Z"
   },
   {
    "duration": 23,
    "start_time": "2023-04-03T08:52:48.911Z"
   },
   {
    "duration": 4,
    "start_time": "2023-04-03T08:52:48.935Z"
   },
   {
    "duration": 4,
    "start_time": "2023-04-03T08:52:48.952Z"
   },
   {
    "duration": 4,
    "start_time": "2023-04-03T08:52:48.958Z"
   },
   {
    "duration": 4,
    "start_time": "2023-04-03T08:52:48.964Z"
   },
   {
    "duration": 17,
    "start_time": "2023-04-03T08:52:48.970Z"
   },
   {
    "duration": 5,
    "start_time": "2023-04-03T08:52:48.990Z"
   },
   {
    "duration": 995,
    "start_time": "2023-04-03T08:52:48.996Z"
   },
   {
    "duration": 3,
    "start_time": "2023-04-03T08:52:49.992Z"
   },
   {
    "duration": 15,
    "start_time": "2023-04-03T08:52:49.996Z"
   },
   {
    "duration": 15,
    "start_time": "2023-04-03T08:52:50.013Z"
   },
   {
    "duration": 29,
    "start_time": "2023-04-03T08:52:50.029Z"
   },
   {
    "duration": 97,
    "start_time": "2023-04-03T08:52:50.060Z"
   },
   {
    "duration": 8,
    "start_time": "2023-04-03T08:52:50.159Z"
   },
   {
    "duration": 54,
    "start_time": "2023-04-03T08:52:50.168Z"
   },
   {
    "duration": 1074,
    "start_time": "2023-04-03T08:52:50.224Z"
   },
   {
    "duration": 1840,
    "start_time": "2023-04-03T08:52:51.300Z"
   },
   {
    "duration": 20921,
    "start_time": "2023-04-03T08:52:53.141Z"
   },
   {
    "duration": 89,
    "start_time": "2023-04-03T08:53:14.064Z"
   },
   {
    "duration": 9,
    "start_time": "2023-04-03T08:53:14.156Z"
   },
   {
    "duration": 29,
    "start_time": "2023-04-03T08:53:14.166Z"
   },
   {
    "duration": 126,
    "start_time": "2023-04-03T08:54:53.375Z"
   },
   {
    "duration": 128,
    "start_time": "2023-04-03T08:54:56.302Z"
   },
   {
    "duration": 78,
    "start_time": "2023-04-03T08:55:15.510Z"
   },
   {
    "duration": 4,
    "start_time": "2023-04-03T08:55:33.893Z"
   },
   {
    "duration": 90,
    "start_time": "2023-04-03T08:55:46.302Z"
   },
   {
    "duration": 12,
    "start_time": "2023-04-03T08:56:28.461Z"
   },
   {
    "duration": 3,
    "start_time": "2023-04-03T08:56:30.285Z"
   },
   {
    "duration": 215421,
    "start_time": "2023-04-03T08:56:34.107Z"
   },
   {
    "duration": 24,
    "start_time": "2023-04-03T09:00:09.529Z"
   },
   {
    "duration": 7,
    "start_time": "2023-04-03T09:00:09.555Z"
   },
   {
    "duration": 11,
    "start_time": "2023-04-03T09:00:09.564Z"
   },
   {
    "duration": 15,
    "start_time": "2023-04-03T09:00:09.576Z"
   },
   {
    "duration": 1414,
    "start_time": "2023-04-03T09:00:09.592Z"
   },
   {
    "duration": 4,
    "start_time": "2023-04-03T09:00:11.007Z"
   },
   {
    "duration": 87,
    "start_time": "2023-04-03T09:04:18.528Z"
   },
   {
    "duration": 1832,
    "start_time": "2023-04-03T09:04:38.389Z"
   },
   {
    "duration": 6,
    "start_time": "2023-04-03T09:06:22.895Z"
   },
   {
    "duration": 1310,
    "start_time": "2023-04-03T09:07:12.274Z"
   },
   {
    "duration": 49,
    "start_time": "2023-04-03T09:07:58.259Z"
   },
   {
    "duration": 359,
    "start_time": "2023-04-03T09:08:09.923Z"
   },
   {
    "duration": 18,
    "start_time": "2023-04-03T09:09:15.418Z"
   },
   {
    "duration": 730115,
    "start_time": "2023-04-03T09:09:26.862Z"
   },
   {
    "duration": 5,
    "start_time": "2023-04-03T09:21:36.978Z"
   },
   {
    "duration": 14,
    "start_time": "2023-04-03T09:33:17.684Z"
   },
   {
    "duration": 7,
    "start_time": "2023-04-03T09:33:45.785Z"
   },
   {
    "duration": 10,
    "start_time": "2023-04-03T09:38:59.916Z"
   },
   {
    "duration": 15,
    "start_time": "2023-04-03T09:39:44.069Z"
   },
   {
    "duration": 25,
    "start_time": "2023-04-03T09:40:40.468Z"
   },
   {
    "duration": 19,
    "start_time": "2023-04-03T09:42:40.098Z"
   },
   {
    "duration": 15,
    "start_time": "2023-04-03T09:42:49.686Z"
   },
   {
    "duration": 11,
    "start_time": "2023-04-03T09:43:02.971Z"
   },
   {
    "duration": 5,
    "start_time": "2023-04-03T09:43:06.374Z"
   },
   {
    "duration": 1464,
    "start_time": "2023-04-03T09:44:10.311Z"
   },
   {
    "duration": 5,
    "start_time": "2023-04-03T09:44:22.527Z"
   },
   {
    "duration": 724347,
    "start_time": "2023-04-03T09:44:27.718Z"
   },
   {
    "duration": 6,
    "start_time": "2023-04-03T09:56:32.067Z"
   },
   {
    "duration": 175449,
    "start_time": "2023-04-03T09:56:32.075Z"
   },
   {
    "duration": 72,
    "start_time": "2023-04-03T09:59:27.526Z"
   },
   {
    "duration": 73,
    "start_time": "2023-04-03T10:01:24.914Z"
   },
   {
    "duration": 1550,
    "start_time": "2023-04-03T10:03:25.136Z"
   },
   {
    "duration": 12,
    "start_time": "2023-04-03T10:04:34.600Z"
   },
   {
    "duration": 38,
    "start_time": "2023-04-03T10:05:15.134Z"
   },
   {
    "duration": 1405,
    "start_time": "2023-04-03T10:05:36.389Z"
   },
   {
    "duration": 6,
    "start_time": "2023-04-03T10:09:10.291Z"
   },
   {
    "duration": 5,
    "start_time": "2023-04-03T10:09:20.796Z"
   },
   {
    "duration": 3,
    "start_time": "2023-04-03T10:09:27.116Z"
   },
   {
    "duration": 9,
    "start_time": "2023-04-03T10:10:49.489Z"
   },
   {
    "duration": 28,
    "start_time": "2023-04-03T10:15:10.239Z"
   },
   {
    "duration": 14,
    "start_time": "2023-04-03T10:15:59.167Z"
   },
   {
    "duration": 150,
    "start_time": "2023-04-03T10:16:38.448Z"
   },
   {
    "duration": 4,
    "start_time": "2023-04-03T10:16:49.098Z"
   },
   {
    "duration": 9,
    "start_time": "2023-04-03T10:17:24.357Z"
   },
   {
    "duration": 3,
    "start_time": "2023-04-03T10:17:39.679Z"
   },
   {
    "duration": 1562,
    "start_time": "2023-04-03T10:18:21.813Z"
   },
   {
    "duration": 5,
    "start_time": "2023-04-03T10:18:37.203Z"
   },
   {
    "duration": 107,
    "start_time": "2023-04-03T10:19:15.993Z"
   },
   {
    "duration": 109,
    "start_time": "2023-04-03T10:19:22.689Z"
   },
   {
    "duration": 1448,
    "start_time": "2023-04-03T10:19:50.024Z"
   },
   {
    "duration": 5,
    "start_time": "2023-04-03T10:19:53.304Z"
   },
   {
    "duration": 21472,
    "start_time": "2023-04-03T10:19:55.692Z"
   },
   {
    "duration": 13,
    "start_time": "2023-04-03T10:37:06.267Z"
   },
   {
    "duration": 63,
    "start_time": "2023-04-03T10:37:06.282Z"
   },
   {
    "duration": 1190,
    "start_time": "2023-04-03T10:37:06.346Z"
   },
   {
    "duration": 13950,
    "start_time": "2023-04-03T10:37:07.539Z"
   },
   {
    "duration": 396,
    "start_time": "2023-04-03T10:37:21.491Z"
   },
   {
    "duration": 387,
    "start_time": "2023-04-03T10:37:21.888Z"
   },
   {
    "duration": 2124,
    "start_time": "2023-04-03T10:37:22.276Z"
   },
   {
    "duration": 22,
    "start_time": "2023-04-03T10:37:24.402Z"
   },
   {
    "duration": 2,
    "start_time": "2023-04-03T10:37:24.426Z"
   },
   {
    "duration": 3,
    "start_time": "2023-04-03T10:37:24.431Z"
   },
   {
    "duration": 3,
    "start_time": "2023-04-03T10:37:24.435Z"
   },
   {
    "duration": 19,
    "start_time": "2023-04-03T10:37:24.449Z"
   },
   {
    "duration": 19,
    "start_time": "2023-04-03T10:37:24.470Z"
   },
   {
    "duration": 3,
    "start_time": "2023-04-03T10:37:24.490Z"
   },
   {
    "duration": 991,
    "start_time": "2023-04-03T10:37:24.494Z"
   },
   {
    "duration": 2,
    "start_time": "2023-04-03T10:37:25.487Z"
   },
   {
    "duration": 5,
    "start_time": "2023-04-03T10:37:25.491Z"
   },
   {
    "duration": 12,
    "start_time": "2023-04-03T10:37:25.498Z"
   },
   {
    "duration": 46,
    "start_time": "2023-04-03T10:37:25.511Z"
   },
   {
    "duration": 80,
    "start_time": "2023-04-03T10:37:25.558Z"
   },
   {
    "duration": 28,
    "start_time": "2023-04-03T10:37:25.639Z"
   },
   {
    "duration": 49,
    "start_time": "2023-04-03T10:37:25.668Z"
   },
   {
    "duration": 1137,
    "start_time": "2023-04-03T10:37:25.719Z"
   },
   {
    "duration": 2003,
    "start_time": "2023-04-03T10:37:26.857Z"
   },
   {
    "duration": 20731,
    "start_time": "2023-04-03T10:37:28.864Z"
   },
   {
    "duration": 81,
    "start_time": "2023-04-03T10:37:49.597Z"
   },
   {
    "duration": 8,
    "start_time": "2023-04-03T10:37:49.680Z"
   },
   {
    "duration": 26,
    "start_time": "2023-04-03T10:37:49.691Z"
   },
   {
    "duration": 153,
    "start_time": "2023-04-03T10:37:49.718Z"
   },
   {
    "duration": 129,
    "start_time": "2023-04-03T10:37:49.872Z"
   },
   {
    "duration": 86,
    "start_time": "2023-04-03T10:37:50.003Z"
   },
   {
    "duration": 104,
    "start_time": "2023-04-03T10:37:50.090Z"
   },
   {
    "duration": 28,
    "start_time": "2023-04-03T10:37:50.196Z"
   },
   {
    "duration": 3,
    "start_time": "2023-04-03T10:37:50.225Z"
   },
   {
    "duration": 1048974,
    "start_time": "2023-04-03T10:37:50.229Z"
   },
   {
    "duration": 8,
    "start_time": "2023-04-03T10:55:19.205Z"
   },
   {
    "duration": 16,
    "start_time": "2023-04-03T10:55:19.215Z"
   },
   {
    "duration": 30,
    "start_time": "2023-04-03T10:55:19.239Z"
   },
   {
    "duration": 29,
    "start_time": "2023-04-03T10:55:19.271Z"
   },
   {
    "duration": 4,
    "start_time": "2023-04-03T10:55:19.302Z"
   },
   {
    "duration": 7604,
    "start_time": "2023-04-03T10:55:19.307Z"
   },
   {
    "duration": 6,
    "start_time": "2023-04-03T10:55:26.914Z"
   },
   {
    "duration": 263842,
    "start_time": "2023-04-03T10:55:26.922Z"
   },
   {
    "duration": 4,
    "start_time": "2023-04-03T10:59:50.767Z"
   },
   {
    "duration": 483190,
    "start_time": "2023-04-03T10:59:50.772Z"
   },
   {
    "duration": 243,
    "start_time": "2023-04-03T11:07:53.964Z"
   },
   {
    "duration": 13,
    "start_time": "2023-04-03T11:07:54.209Z"
   },
   {
    "duration": 485,
    "start_time": "2023-04-03T11:36:04.586Z"
   },
   {
    "duration": 17,
    "start_time": "2023-04-03T11:38:48.771Z"
   },
   {
    "duration": 6,
    "start_time": "2023-04-03T11:39:50.659Z"
   },
   {
    "duration": 25,
    "start_time": "2023-04-03T11:40:07.977Z"
   },
   {
    "duration": 17,
    "start_time": "2023-04-03T11:40:25.594Z"
   },
   {
    "duration": 16,
    "start_time": "2023-04-03T11:40:41.368Z"
   },
   {
    "duration": 244,
    "start_time": "2023-04-03T11:42:46.413Z"
   },
   {
    "duration": 4,
    "start_time": "2023-04-03T11:43:49.133Z"
   },
   {
    "duration": 679708,
    "start_time": "2023-04-03T11:43:51.316Z"
   },
   {
    "duration": 264,
    "start_time": "2023-04-03T11:55:11.026Z"
   },
   {
    "duration": 11,
    "start_time": "2023-04-03T11:59:21.158Z"
   },
   {
    "duration": 704613,
    "start_time": "2023-04-03T11:59:46.296Z"
   },
   {
    "duration": 283,
    "start_time": "2023-04-03T12:11:30.911Z"
   },
   {
    "duration": 13,
    "start_time": "2023-04-03T12:14:35.798Z"
   },
   {
    "duration": 3385,
    "start_time": "2023-04-03T12:15:35.900Z"
   },
   {
    "duration": 51,
    "start_time": "2023-04-03T12:16:03.365Z"
   },
   {
    "duration": 52491,
    "start_time": "2023-04-03T12:16:34.220Z"
   },
   {
    "duration": 0,
    "start_time": "2023-04-03T12:17:26.713Z"
   },
   {
    "duration": 3361,
    "start_time": "2023-04-03T12:17:39.114Z"
   },
   {
    "duration": 13,
    "start_time": "2023-04-03T12:17:51.465Z"
   },
   {
    "duration": 33,
    "start_time": "2023-04-03T12:18:03.158Z"
   },
   {
    "duration": 16,
    "start_time": "2023-04-03T12:18:05.682Z"
   },
   {
    "duration": 19,
    "start_time": "2023-04-03T12:18:10.870Z"
   },
   {
    "duration": 4,
    "start_time": "2023-04-03T12:18:12.529Z"
   },
   {
    "duration": 4,
    "start_time": "2023-04-03T12:19:32.760Z"
   },
   {
    "duration": 1400,
    "start_time": "2023-04-03T12:19:33.728Z"
   },
   {
    "duration": 21,
    "start_time": "2023-04-03T12:19:50.163Z"
   },
   {
    "duration": 45,
    "start_time": "2023-04-03T12:20:01.400Z"
   },
   {
    "duration": 1599,
    "start_time": "2023-04-03T12:20:04.728Z"
   },
   {
    "duration": 1558,
    "start_time": "2023-04-03T12:20:23.638Z"
   },
   {
    "duration": 1479,
    "start_time": "2023-04-03T12:20:35.313Z"
   },
   {
    "duration": 12,
    "start_time": "2023-04-03T12:20:42.792Z"
   },
   {
    "duration": 23,
    "start_time": "2023-04-03T12:21:01.862Z"
   },
   {
    "duration": 2123,
    "start_time": "2023-04-03T12:21:06.974Z"
   },
   {
    "duration": 4,
    "start_time": "2023-04-03T12:21:20.368Z"
   },
   {
    "duration": 21,
    "start_time": "2023-04-03T12:21:22.168Z"
   },
   {
    "duration": 4,
    "start_time": "2023-04-03T12:21:28.162Z"
   },
   {
    "duration": 21,
    "start_time": "2023-04-03T12:21:28.759Z"
   },
   {
    "duration": 12,
    "start_time": "2023-04-03T12:21:49.407Z"
   },
   {
    "duration": 9248,
    "start_time": "2023-04-03T12:22:10.318Z"
   },
   {
    "duration": 3761,
    "start_time": "2023-04-03T12:22:26.908Z"
   },
   {
    "duration": 17,
    "start_time": "2023-04-03T12:23:03.461Z"
   },
   {
    "duration": 18,
    "start_time": "2023-04-03T12:23:17.498Z"
   },
   {
    "duration": 4,
    "start_time": "2023-04-03T12:24:11.263Z"
   },
   {
    "duration": 6558,
    "start_time": "2023-04-03T12:24:13.978Z"
   },
   {
    "duration": 16,
    "start_time": "2023-04-03T12:24:27.914Z"
   },
   {
    "duration": 16,
    "start_time": "2023-04-03T12:24:31.962Z"
   },
   {
    "duration": 3,
    "start_time": "2023-04-03T12:25:13.328Z"
   },
   {
    "duration": 29700,
    "start_time": "2023-04-03T12:25:16.465Z"
   },
   {
    "duration": 3,
    "start_time": "2023-04-03T12:25:50.875Z"
   },
   {
    "duration": 41968,
    "start_time": "2023-04-03T12:25:52.323Z"
   },
   {
    "duration": 14,
    "start_time": "2023-04-03T12:26:36.667Z"
   },
   {
    "duration": 3,
    "start_time": "2023-04-03T12:26:43.385Z"
   },
   {
    "duration": 1316547,
    "start_time": "2023-04-03T12:26:44.477Z"
   },
   {
    "duration": 876,
    "start_time": "2023-04-03T12:48:41.026Z"
   },
   {
    "duration": 87372,
    "start_time": "2023-04-03T12:48:51.342Z"
   },
   {
    "duration": 3,
    "start_time": "2023-04-03T12:51:05.996Z"
   },
   {
    "duration": 0,
    "start_time": "2023-04-03T12:55:58.999Z"
   },
   {
    "duration": 0,
    "start_time": "2023-04-03T12:55:59.000Z"
   },
   {
    "duration": 4,
    "start_time": "2023-04-03T12:56:01.982Z"
   },
   {
    "duration": 2073301,
    "start_time": "2023-04-03T12:56:04.116Z"
   },
   {
    "duration": 410,
    "start_time": "2023-04-03T13:37:47.238Z"
   },
   {
    "duration": 18,
    "start_time": "2023-04-03T13:38:20.996Z"
   },
   {
    "duration": 375,
    "start_time": "2023-04-03T13:44:44.143Z"
   },
   {
    "duration": 8,
    "start_time": "2023-04-04T01:59:47.129Z"
   },
   {
    "duration": 52,
    "start_time": "2023-04-04T01:59:47.139Z"
   },
   {
    "duration": 989,
    "start_time": "2023-04-04T01:59:47.193Z"
   },
   {
    "duration": 14006,
    "start_time": "2023-04-04T01:59:48.184Z"
   },
   {
    "duration": 439,
    "start_time": "2023-04-04T02:00:02.192Z"
   },
   {
    "duration": 366,
    "start_time": "2023-04-04T02:00:02.633Z"
   },
   {
    "duration": 2349,
    "start_time": "2023-04-04T02:00:03.001Z"
   },
   {
    "duration": 23,
    "start_time": "2023-04-04T02:00:05.352Z"
   },
   {
    "duration": 3,
    "start_time": "2023-04-04T02:00:05.377Z"
   },
   {
    "duration": 6,
    "start_time": "2023-04-04T02:00:05.382Z"
   },
   {
    "duration": 10,
    "start_time": "2023-04-04T02:00:05.389Z"
   },
   {
    "duration": 8,
    "start_time": "2023-04-04T02:00:05.400Z"
   },
   {
    "duration": 20,
    "start_time": "2023-04-04T02:00:05.410Z"
   },
   {
    "duration": 4,
    "start_time": "2023-04-04T02:00:05.432Z"
   },
   {
    "duration": 2605,
    "start_time": "2023-04-04T02:00:05.437Z"
   },
   {
    "duration": 3,
    "start_time": "2023-04-04T02:00:08.044Z"
   },
   {
    "duration": 17,
    "start_time": "2023-04-04T02:00:08.049Z"
   },
   {
    "duration": 19,
    "start_time": "2023-04-04T02:00:08.068Z"
   },
   {
    "duration": 37,
    "start_time": "2023-04-04T02:00:08.090Z"
   },
   {
    "duration": 87,
    "start_time": "2023-04-04T02:00:08.129Z"
   },
   {
    "duration": 13,
    "start_time": "2023-04-04T02:00:08.218Z"
   },
   {
    "duration": 86,
    "start_time": "2023-04-04T02:00:08.233Z"
   },
   {
    "duration": 1061,
    "start_time": "2023-04-04T02:00:08.321Z"
   },
   {
    "duration": 1924,
    "start_time": "2023-04-04T02:00:09.387Z"
   },
   {
    "duration": 21032,
    "start_time": "2023-04-04T02:00:11.313Z"
   },
   {
    "duration": 98,
    "start_time": "2023-04-04T02:00:32.347Z"
   },
   {
    "duration": 12,
    "start_time": "2023-04-04T02:00:32.446Z"
   },
   {
    "duration": 45,
    "start_time": "2023-04-04T02:00:32.461Z"
   },
   {
    "duration": 167,
    "start_time": "2023-04-04T02:00:32.508Z"
   },
   {
    "duration": 177,
    "start_time": "2023-04-04T02:00:32.677Z"
   },
   {
    "duration": 111,
    "start_time": "2023-04-04T02:00:32.855Z"
   },
   {
    "duration": 103,
    "start_time": "2023-04-04T02:00:32.968Z"
   },
   {
    "duration": 46,
    "start_time": "2023-04-04T02:00:33.073Z"
   },
   {
    "duration": 3,
    "start_time": "2023-04-04T02:00:33.121Z"
   },
   {
    "duration": 1129581,
    "start_time": "2023-04-04T02:00:33.126Z"
   },
   {
    "duration": 10,
    "start_time": "2023-04-04T02:19:22.709Z"
   },
   {
    "duration": 10,
    "start_time": "2023-04-04T02:19:22.721Z"
   },
   {
    "duration": 16,
    "start_time": "2023-04-04T02:19:22.733Z"
   },
   {
    "duration": 91,
    "start_time": "2023-04-04T02:19:22.751Z"
   },
   {
    "duration": 4,
    "start_time": "2023-04-04T02:19:22.844Z"
   },
   {
    "duration": 7899,
    "start_time": "2023-04-04T02:19:22.850Z"
   },
   {
    "duration": 8,
    "start_time": "2023-04-04T02:19:30.752Z"
   },
   {
    "duration": 105328,
    "start_time": "2023-04-04T02:19:30.762Z"
   },
   {
    "duration": 4,
    "start_time": "2023-04-04T02:21:16.091Z"
   },
   {
    "duration": 671778,
    "start_time": "2023-04-04T02:21:16.097Z"
   },
   {
    "duration": 300,
    "start_time": "2023-04-04T02:32:27.877Z"
   },
   {
    "duration": 10,
    "start_time": "2023-04-04T02:32:28.179Z"
   },
   {
    "duration": 372,
    "start_time": "2023-04-04T02:32:28.191Z"
   },
   {
    "duration": 0,
    "start_time": "2023-04-04T02:32:28.565Z"
   },
   {
    "duration": 0,
    "start_time": "2023-04-04T02:32:28.566Z"
   },
   {
    "duration": 0,
    "start_time": "2023-04-04T02:32:28.571Z"
   },
   {
    "duration": 26,
    "start_time": "2023-04-04T02:51:24.053Z"
   },
   {
    "duration": 5,
    "start_time": "2023-04-04T02:51:27.357Z"
   },
   {
    "duration": 19582,
    "start_time": "2023-04-04T02:51:30.357Z"
   },
   {
    "duration": 11,
    "start_time": "2023-04-04T03:00:38.615Z"
   },
   {
    "duration": 50,
    "start_time": "2023-04-04T03:00:38.629Z"
   },
   {
    "duration": 1169,
    "start_time": "2023-04-04T03:00:38.681Z"
   },
   {
    "duration": 15303,
    "start_time": "2023-04-04T03:00:39.852Z"
   },
   {
    "duration": 524,
    "start_time": "2023-04-04T03:00:55.158Z"
   },
   {
    "duration": 368,
    "start_time": "2023-04-04T03:00:55.684Z"
   },
   {
    "duration": 2458,
    "start_time": "2023-04-04T03:00:56.054Z"
   },
   {
    "duration": 35,
    "start_time": "2023-04-04T03:00:58.514Z"
   },
   {
    "duration": 4,
    "start_time": "2023-04-04T03:00:58.551Z"
   },
   {
    "duration": 12,
    "start_time": "2023-04-04T03:00:58.557Z"
   },
   {
    "duration": 7,
    "start_time": "2023-04-04T03:00:58.571Z"
   },
   {
    "duration": 13,
    "start_time": "2023-04-04T03:00:58.580Z"
   },
   {
    "duration": 21,
    "start_time": "2023-04-04T03:00:58.595Z"
   },
   {
    "duration": 4,
    "start_time": "2023-04-04T03:00:58.621Z"
   },
   {
    "duration": 1176,
    "start_time": "2023-04-04T03:00:58.627Z"
   },
   {
    "duration": 2,
    "start_time": "2023-04-04T03:00:59.805Z"
   },
   {
    "duration": 12,
    "start_time": "2023-04-04T03:00:59.809Z"
   },
   {
    "duration": 13,
    "start_time": "2023-04-04T03:00:59.823Z"
   },
   {
    "duration": 44,
    "start_time": "2023-04-04T03:00:59.838Z"
   },
   {
    "duration": 105,
    "start_time": "2023-04-04T03:00:59.884Z"
   },
   {
    "duration": 15,
    "start_time": "2023-04-04T03:00:59.991Z"
   },
   {
    "duration": 90,
    "start_time": "2023-04-04T03:01:00.008Z"
   },
   {
    "duration": 1208,
    "start_time": "2023-04-04T03:01:00.100Z"
   },
   {
    "duration": 2040,
    "start_time": "2023-04-04T03:01:01.310Z"
   },
   {
    "duration": 23407,
    "start_time": "2023-04-04T03:01:03.351Z"
   },
   {
    "duration": 113,
    "start_time": "2023-04-04T03:01:26.760Z"
   },
   {
    "duration": 19,
    "start_time": "2023-04-04T03:01:26.875Z"
   },
   {
    "duration": 47,
    "start_time": "2023-04-04T03:01:26.896Z"
   },
   {
    "duration": 273,
    "start_time": "2023-04-04T03:01:26.945Z"
   },
   {
    "duration": 213,
    "start_time": "2023-04-04T03:01:27.221Z"
   },
   {
    "duration": 112,
    "start_time": "2023-04-04T03:01:27.436Z"
   },
   {
    "duration": 122,
    "start_time": "2023-04-04T03:01:27.550Z"
   },
   {
    "duration": 66,
    "start_time": "2023-04-04T03:01:27.674Z"
   },
   {
    "duration": 4,
    "start_time": "2023-04-04T03:01:27.741Z"
   },
   {
    "duration": 1275862,
    "start_time": "2023-04-04T03:01:27.746Z"
   },
   {
    "duration": 15,
    "start_time": "2023-04-04T03:22:43.610Z"
   },
   {
    "duration": 39,
    "start_time": "2023-04-04T03:22:43.627Z"
   },
   {
    "duration": 30,
    "start_time": "2023-04-04T03:22:43.669Z"
   },
   {
    "duration": 74,
    "start_time": "2023-04-04T03:22:43.701Z"
   },
   {
    "duration": 5,
    "start_time": "2023-04-04T03:22:43.777Z"
   },
   {
    "duration": 7739,
    "start_time": "2023-04-04T03:22:43.787Z"
   },
   {
    "duration": 7,
    "start_time": "2023-04-04T03:22:51.528Z"
   },
   {
    "duration": 119729,
    "start_time": "2023-04-04T03:22:51.538Z"
   },
   {
    "duration": 4,
    "start_time": "2023-04-04T03:24:51.271Z"
   },
   {
    "duration": 720895,
    "start_time": "2023-04-04T03:24:51.277Z"
   },
   {
    "duration": 301,
    "start_time": "2023-04-04T03:36:52.174Z"
   },
   {
    "duration": 12,
    "start_time": "2023-04-04T03:36:52.477Z"
   },
   {
    "duration": 31159,
    "start_time": "2023-04-04T03:36:52.491Z"
   },
   {
    "duration": 44,
    "start_time": "2023-04-04T03:37:23.653Z"
   },
   {
    "duration": 313,
    "start_time": "2023-04-04T03:37:23.700Z"
   }
  ],
  "kernelspec": {
   "display_name": "Python 3 (ipykernel)",
   "language": "python",
   "name": "python3"
  },
  "language_info": {
   "codemirror_mode": {
    "name": "ipython",
    "version": 3
   },
   "file_extension": ".py",
   "mimetype": "text/x-python",
   "name": "python",
   "nbconvert_exporter": "python",
   "pygments_lexer": "ipython3",
   "version": "3.9.12"
  },
  "toc": {
   "base_numbering": 1,
   "nav_menu": {},
   "number_sections": true,
   "sideBar": true,
   "skip_h1_title": true,
   "title_cell": "Содержание",
   "title_sidebar": "Contents",
   "toc_cell": true,
   "toc_position": {
    "height": "calc(100% - 180px)",
    "left": "10px",
    "top": "150px",
    "width": "329.2px"
   },
   "toc_section_display": true,
   "toc_window_display": true
  }
 },
 "nbformat": 4,
 "nbformat_minor": 4
}
