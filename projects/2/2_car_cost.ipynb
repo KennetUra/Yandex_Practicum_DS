{
 "cells": [
  {
   "cell_type": "markdown",
   "metadata": {},
   "source": [
    "<big>Основной вывод:</big> V1\n",
    "\n",
    "- Качество: Модель обучения <b>LightGBM</b> показала метрику <b>RSME = 1118.75</b> что на <b>1118.75 лучше</b> необходимого.\n",
    "- Время обучения: Модель <b>LightGBM</b> самая требовательная по времени из расмотренных, и отличается в разы.\n",
    "- Скорость предсказания: У модели <b>LightGBM</b> дольше всего происходит предсказание.\n",
    "\n",
    "- Другие модели тоже справляются, резултат около 2000 хуже чем у <b>LightGBM</b>, но гораздо быстрее."
   ]
  },
  {
   "cell_type": "markdown",
   "metadata": {},
   "source": [
    "▀▀▀▀▀▀▀▀▀▀▀▀▀▀▀▀▀▀▀▀▀▀▀▀▀▀▀▀▀▀▀▀▀▀▀▀▀▀▀▀▀▀▀▀▀▀▀▀▀▀▀▀▀▀▀▀▀▀▀▀▀▀▀▀▀▀▀▀▀▀\n",
    "## Загрузка библиотек, объявление функций и установка констант\n",
    "▀▀▀▀▀▀▀▀▀▀▀▀▀▀▀▀▀▀▀▀▀▀▀▀▀▀▀▀▀▀▀▀▀▀▀▀▀▀▀▀▀▀▀▀▀▀▀▀▀▀▀▀▀▀▀▀▀▀▀▀▀▀▀▀▀▀▀▀▀▀"
   ]
  },
  {
   "cell_type": "raw",
   "metadata": {},
   "source": [
    "!pip install lightgbm"
   ]
  },
  {
   "cell_type": "code",
   "execution_count": 2,
   "metadata": {
    "scrolled": true
   },
   "outputs": [
    {
     "name": "stdout",
     "output_type": "stream",
     "text": [
      "Requirement already satisfied: scikit-learn in /opt/conda/lib/python3.9/site-packages (1.2.2)\n",
      "Requirement already satisfied: scipy>=1.3.2 in /opt/conda/lib/python3.9/site-packages (from scikit-learn) (1.9.1)\n",
      "Requirement already satisfied: joblib>=1.1.1 in /opt/conda/lib/python3.9/site-packages (from scikit-learn) (1.2.0)\n",
      "Requirement already satisfied: numpy>=1.17.3 in /opt/conda/lib/python3.9/site-packages (from scikit-learn) (1.21.1)\n",
      "Requirement already satisfied: threadpoolctl>=2.0.0 in /opt/conda/lib/python3.9/site-packages (from scikit-learn) (3.1.0)\n"
     ]
    }
   ],
   "source": [
    "!pip install -U scikit-learn # Обновим библиотеку, т.к. возникала ошибка"
   ]
  },
  {
   "cell_type": "code",
   "execution_count": 3,
   "metadata": {
    "tags": [
     "Импорт"
    ]
   },
   "outputs": [],
   "source": [
    "import time\n",
    "\n",
    "import pandas as pd\n",
    "import numpy as np\n",
    "\n",
    "import seaborn as sns\n",
    "\n",
    "import matplotlib.pyplot as plt\n",
    "# ▼ графики встраиваются в блокнот\n",
    "%matplotlib inline\n",
    "# ▼ векторный формат отображения\n",
    "%config InlineBackend.figure_format = 'svg'\n",
    "\n",
    "import lightgbm\n",
    "\n",
    "# ▼ sklearn\n",
    "from sklearn.metrics import mean_squared_error, make_scorer, accuracy_score\n",
    "from sklearn.model_selection import train_test_split, cross_val_score, GridSearchCV\n",
    "\n",
    "from sklearn.tree import DecisionTreeClassifier # классификации деревом решений\n",
    "from sklearn.ensemble import RandomForestClassifier # случайный лес\n",
    "from sklearn.linear_model import LogisticRegression # логистическая регрессия\n",
    "from sklearn.linear_model import LinearRegression # линейная регрессия\n",
    "from sklearn.linear_model import Ridge\n",
    "\n",
    "from sklearn.metrics import r2_score\n",
    "\n",
    "from sklearn.compose import make_column_transformer"
   ]
  },
  {
   "cell_type": "code",
   "execution_count": 4,
   "metadata": {},
   "outputs": [],
   "source": [
    "from sklearn.preprocessing import (\n",
    "    OneHotEncoder,\n",
    "    OrdinalEncoder,\n",
    "    StandardScaler\n",
    ")"
   ]
  },
  {
   "cell_type": "code",
   "execution_count": 5,
   "metadata": {},
   "outputs": [
    {
     "name": "stdout",
     "output_type": "stream",
     "text": [
      "2023/12/16-16:52\n"
     ]
    }
   ],
   "source": [
    "# Время и дата выполнения ячейки\n",
    "t = time.localtime(time.time())\n",
    "a = str(f'{t[0]}/{t[2]}/{t[3]}-{t[3]}:{t[4]}')\n",
    "print(a)"
   ]
  },
  {
   "cell_type": "markdown",
   "metadata": {},
   "source": [
    "### Константы"
   ]
  },
  {
   "cell_type": "code",
   "execution_count": 6,
   "metadata": {
    "tags": []
   },
   "outputs": [],
   "source": [
    "# Константы проекта\n",
    "DATA = ['/datasets/autos.csv', 'https://code.s3.yandex.net/datasets/autos.csv']\n",
    "\n",
    "COUNT = 1000 # Константа количества записей менее которого не рассматриваются\n",
    "\n",
    "AGREGATE_AUTO = ['Brand', 'Model'] # характеристики обьедененого столбца\n",
    "\n",
    "RESULT = 2500 # Верхняя граница RSME, чем лучше тем ниже значение\n",
    "\n",
    "RANDOM_STATE = 42"
   ]
  },
  {
   "cell_type": "markdown",
   "metadata": {},
   "source": [
    "### Функции"
   ]
  },
  {
   "cell_type": "markdown",
   "metadata": {},
   "source": [
    "#### Напишем функцию Расчета процентиля"
   ]
  },
  {
   "cell_type": "code",
   "execution_count": 7,
   "metadata": {},
   "outputs": [],
   "source": [
    "def percen(d, left, right): \n",
    "    # d - Данные, left - левая граница процентиля, right - правая граница процентиля\n",
    "\n",
    "    percen = d[d > 0].dropna() # отбросим 0 и Nan\n",
    "    percen_lim = [np.percentile(percen, left), np.percentile(percen, 100 - right)]\n",
    "\n",
    "    data_percen_lim = percen[(percen > percen_lim[0])&(percen < percen_lim[1])]\n",
    "\n",
    "    print('Процентиль', left + right,'%')\n",
    "    print('Диапозон', int(percen_lim[0]),'->', int(percen_lim[1]))\n",
    "    print(data_percen_lim.count(),'-->', round(data_percen_lim.dropna().count() / (percen.count()/100), 1),'%')\n",
    "    print('--------------------------')"
   ]
  },
  {
   "cell_type": "markdown",
   "metadata": {},
   "source": [
    "#### Напишем функцию Градиентного спуска"
   ]
  },
  {
   "cell_type": "code",
   "execution_count": 8,
   "metadata": {},
   "outputs": [],
   "source": [
    "class SGDLinearRegression:\n",
    "    \n",
    "    def __init__(self, step_size, epochs, batch_size):\n",
    "        self.step_size = step_size\n",
    "        self.epochs = epochs\n",
    "        self.batch_size = batch_size\n",
    "        \n",
    "    def fit(self, train_features, train_target):\n",
    "        X =np.concatenate((np.ones((train_features.shape[0],1)),train_features),axis=1)\n",
    "        y = train_target\n",
    "        w = np.zeros(X.shape[1])        \n",
    "        for _ in range(self.epochs):\n",
    "            batches_count = X.shape[0] // self.batch_size\n",
    "            for i in range(batches_count):\n",
    "                begin = i * self.batch_size\n",
    "                end = (i + 1) * self.batch_size\n",
    "                X_batch = X[begin:end, :]\n",
    "                y_batch = y[begin:end]\n",
    "                gradient = 2*X_batch.T.dot(X_batch.dot(w)-y_batch)/X_batch.shape[0]\n",
    "                w -= self.step_size * gradient\n",
    "        self.w = w[1:]\n",
    "        self.w0 = w[0]\n",
    "        \n",
    "    def predict(self, test_features):\n",
    "        return test_features.dot(self.w) + self.w0"
   ]
  },
  {
   "cell_type": "markdown",
   "metadata": {},
   "source": [
    "#### Напишем функцию Гребневая регрессия"
   ]
  },
  {
   "cell_type": "code",
   "execution_count": 9,
   "metadata": {},
   "outputs": [],
   "source": [
    "class RidgeRegression:\n",
    "    \n",
    "    def __init__(self, step_size, epochs, batch_size, reg_weight):\n",
    "        self.step_size = step_size\n",
    "        self.epochs = epochs\n",
    "        self.batch_size = batch_size\n",
    "        self.reg_weight = reg_weight\n",
    "        \n",
    "    def fit(self, train_features, train_target):\n",
    "        X =np.concatenate((np.ones((train_features.shape[0],1)),train_features),axis=1)\n",
    "        y = train_target\n",
    "        w = np.zeros(X.shape[1])\n",
    "        for _ in range(self.epochs):\n",
    "            batches_count = X.shape[0] // self.batch_size\n",
    "            for i in range(batches_count):\n",
    "                begin = i * self.batch_size\n",
    "                end = (i + 1) * self.batch_size\n",
    "                X_batch = X[begin:end, :]\n",
    "                y_batch = y[begin:end]\n",
    "                gradient = 2*X_batch.T.dot(X_batch.dot(w)-y_batch)/X_batch.shape[0]\n",
    "                reg = 2 * w.copy()\n",
    "                reg[0] = 0\n",
    "                gradient += self.reg_weight * reg\n",
    "                w -= self.step_size * gradient\n",
    "        self.w = w[1:]\n",
    "        self.w0 = w[0]\n",
    "        \n",
    "    def predict(self, test_features):\n",
    "        return test_features.dot(self.w) + self.w0"
   ]
  },
  {
   "cell_type": "markdown",
   "metadata": {},
   "source": [
    "▀▀▀▀▀▀▀▀▀▀▀▀▀▀▀▀▀▀▀▀▀▀▀▀▀▀▀▀▀▀▀▀▀▀▀▀▀▀▀▀▀▀▀▀▀▀▀▀▀▀▀▀▀▀▀▀▀▀▀▀▀▀▀▀▀▀▀▀▀▀\n",
    "## Подготовка данных\n",
    "▀▀▀▀▀▀▀▀▀▀▀▀▀▀▀▀▀▀▀▀▀▀▀▀▀▀▀▀▀▀▀▀▀▀▀▀▀▀▀▀▀▀▀▀▀▀▀▀▀▀▀▀▀▀▀▀▀▀▀▀▀▀▀▀▀▀▀▀▀▀"
   ]
  },
  {
   "cell_type": "markdown",
   "metadata": {},
   "source": [
    "### Загрузка данных"
   ]
  },
  {
   "cell_type": "code",
   "execution_count": 10,
   "metadata": {},
   "outputs": [],
   "source": [
    "# Загружаем данные\n",
    "try:\n",
    "    data = pd.read_csv(DATA[0])\n",
    "except:\n",
    "    data = pd.read_csv(DATA[1])"
   ]
  },
  {
   "cell_type": "markdown",
   "metadata": {},
   "source": [
    "### Общая информация exploratory data analysis, EDA"
   ]
  },
  {
   "cell_type": "code",
   "execution_count": 11,
   "metadata": {},
   "outputs": [
    {
     "data": {
      "text/plain": [
       "(354369, 16)"
      ]
     },
     "execution_count": 11,
     "metadata": {},
     "output_type": "execute_result"
    }
   ],
   "source": [
    "data.shape"
   ]
  },
  {
   "cell_type": "code",
   "execution_count": 12,
   "metadata": {},
   "outputs": [
    {
     "name": "stdout",
     "output_type": "stream",
     "text": [
      "<class 'pandas.core.frame.DataFrame'>\n",
      "RangeIndex: 354369 entries, 0 to 354368\n",
      "Data columns (total 16 columns):\n",
      " #   Column             Non-Null Count   Dtype \n",
      "---  ------             --------------   ----- \n",
      " 0   DateCrawled        354369 non-null  object\n",
      " 1   Price              354369 non-null  int64 \n",
      " 2   VehicleType        316879 non-null  object\n",
      " 3   RegistrationYear   354369 non-null  int64 \n",
      " 4   Gearbox            334536 non-null  object\n",
      " 5   Power              354369 non-null  int64 \n",
      " 6   Model              334664 non-null  object\n",
      " 7   Kilometer          354369 non-null  int64 \n",
      " 8   RegistrationMonth  354369 non-null  int64 \n",
      " 9   FuelType           321474 non-null  object\n",
      " 10  Brand              354369 non-null  object\n",
      " 11  Repaired           283215 non-null  object\n",
      " 12  DateCreated        354369 non-null  object\n",
      " 13  NumberOfPictures   354369 non-null  int64 \n",
      " 14  PostalCode         354369 non-null  int64 \n",
      " 15  LastSeen           354369 non-null  object\n",
      "dtypes: int64(7), object(9)\n",
      "memory usage: 43.3+ MB\n"
     ]
    }
   ],
   "source": [
    "data.info()"
   ]
  },
  {
   "cell_type": "markdown",
   "metadata": {},
   "source": [
    "- Необходимо изменить тип данных в некоторых столбцах, с <b>object</b> на <b>int</b>, или <b>float</b> в зависимости от содержания\n",
    "- Необходимо изменить тип данных в столбцах c информацией о дате с <b>object</b>, <b>int</b> на <b>datatype</b> при этом необходимо объеденить <b>RegistrationYear</b> и <b>RegistrationMonth</b>"
   ]
  },
  {
   "cell_type": "code",
   "execution_count": 13,
   "metadata": {},
   "outputs": [
    {
     "data": {
      "text/html": [
       "<div>\n",
       "<style scoped>\n",
       "    .dataframe tbody tr th:only-of-type {\n",
       "        vertical-align: middle;\n",
       "    }\n",
       "\n",
       "    .dataframe tbody tr th {\n",
       "        vertical-align: top;\n",
       "    }\n",
       "\n",
       "    .dataframe thead th {\n",
       "        text-align: right;\n",
       "    }\n",
       "</style>\n",
       "<table border=\"1\" class=\"dataframe\">\n",
       "  <thead>\n",
       "    <tr style=\"text-align: right;\">\n",
       "      <th></th>\n",
       "      <th>DateCrawled</th>\n",
       "      <th>Price</th>\n",
       "      <th>VehicleType</th>\n",
       "      <th>RegistrationYear</th>\n",
       "      <th>Gearbox</th>\n",
       "      <th>Power</th>\n",
       "      <th>Model</th>\n",
       "      <th>Kilometer</th>\n",
       "      <th>RegistrationMonth</th>\n",
       "      <th>FuelType</th>\n",
       "      <th>Brand</th>\n",
       "      <th>Repaired</th>\n",
       "      <th>DateCreated</th>\n",
       "      <th>NumberOfPictures</th>\n",
       "      <th>PostalCode</th>\n",
       "      <th>LastSeen</th>\n",
       "    </tr>\n",
       "  </thead>\n",
       "  <tbody>\n",
       "    <tr>\n",
       "      <th>0</th>\n",
       "      <td>2016-03-24 11:52:17</td>\n",
       "      <td>480</td>\n",
       "      <td>NaN</td>\n",
       "      <td>1993</td>\n",
       "      <td>manual</td>\n",
       "      <td>0</td>\n",
       "      <td>golf</td>\n",
       "      <td>150000</td>\n",
       "      <td>0</td>\n",
       "      <td>petrol</td>\n",
       "      <td>volkswagen</td>\n",
       "      <td>NaN</td>\n",
       "      <td>2016-03-24 00:00:00</td>\n",
       "      <td>0</td>\n",
       "      <td>70435</td>\n",
       "      <td>2016-04-07 03:16:57</td>\n",
       "    </tr>\n",
       "    <tr>\n",
       "      <th>1</th>\n",
       "      <td>2016-03-24 10:58:45</td>\n",
       "      <td>18300</td>\n",
       "      <td>coupe</td>\n",
       "      <td>2011</td>\n",
       "      <td>manual</td>\n",
       "      <td>190</td>\n",
       "      <td>NaN</td>\n",
       "      <td>125000</td>\n",
       "      <td>5</td>\n",
       "      <td>gasoline</td>\n",
       "      <td>audi</td>\n",
       "      <td>yes</td>\n",
       "      <td>2016-03-24 00:00:00</td>\n",
       "      <td>0</td>\n",
       "      <td>66954</td>\n",
       "      <td>2016-04-07 01:46:50</td>\n",
       "    </tr>\n",
       "    <tr>\n",
       "      <th>2</th>\n",
       "      <td>2016-03-14 12:52:21</td>\n",
       "      <td>9800</td>\n",
       "      <td>suv</td>\n",
       "      <td>2004</td>\n",
       "      <td>auto</td>\n",
       "      <td>163</td>\n",
       "      <td>grand</td>\n",
       "      <td>125000</td>\n",
       "      <td>8</td>\n",
       "      <td>gasoline</td>\n",
       "      <td>jeep</td>\n",
       "      <td>NaN</td>\n",
       "      <td>2016-03-14 00:00:00</td>\n",
       "      <td>0</td>\n",
       "      <td>90480</td>\n",
       "      <td>2016-04-05 12:47:46</td>\n",
       "    </tr>\n",
       "    <tr>\n",
       "      <th>3</th>\n",
       "      <td>2016-03-17 16:54:04</td>\n",
       "      <td>1500</td>\n",
       "      <td>small</td>\n",
       "      <td>2001</td>\n",
       "      <td>manual</td>\n",
       "      <td>75</td>\n",
       "      <td>golf</td>\n",
       "      <td>150000</td>\n",
       "      <td>6</td>\n",
       "      <td>petrol</td>\n",
       "      <td>volkswagen</td>\n",
       "      <td>no</td>\n",
       "      <td>2016-03-17 00:00:00</td>\n",
       "      <td>0</td>\n",
       "      <td>91074</td>\n",
       "      <td>2016-03-17 17:40:17</td>\n",
       "    </tr>\n",
       "    <tr>\n",
       "      <th>4</th>\n",
       "      <td>2016-03-31 17:25:20</td>\n",
       "      <td>3600</td>\n",
       "      <td>small</td>\n",
       "      <td>2008</td>\n",
       "      <td>manual</td>\n",
       "      <td>69</td>\n",
       "      <td>fabia</td>\n",
       "      <td>90000</td>\n",
       "      <td>7</td>\n",
       "      <td>gasoline</td>\n",
       "      <td>skoda</td>\n",
       "      <td>no</td>\n",
       "      <td>2016-03-31 00:00:00</td>\n",
       "      <td>0</td>\n",
       "      <td>60437</td>\n",
       "      <td>2016-04-06 10:17:21</td>\n",
       "    </tr>\n",
       "  </tbody>\n",
       "</table>\n",
       "</div>"
      ],
      "text/plain": [
       "           DateCrawled  Price VehicleType  RegistrationYear Gearbox  Power  \\\n",
       "0  2016-03-24 11:52:17    480         NaN              1993  manual      0   \n",
       "1  2016-03-24 10:58:45  18300       coupe              2011  manual    190   \n",
       "2  2016-03-14 12:52:21   9800         suv              2004    auto    163   \n",
       "3  2016-03-17 16:54:04   1500       small              2001  manual     75   \n",
       "4  2016-03-31 17:25:20   3600       small              2008  manual     69   \n",
       "\n",
       "   Model  Kilometer  RegistrationMonth  FuelType       Brand Repaired  \\\n",
       "0   golf     150000                  0    petrol  volkswagen      NaN   \n",
       "1    NaN     125000                  5  gasoline        audi      yes   \n",
       "2  grand     125000                  8  gasoline        jeep      NaN   \n",
       "3   golf     150000                  6    petrol  volkswagen       no   \n",
       "4  fabia      90000                  7  gasoline       skoda       no   \n",
       "\n",
       "           DateCreated  NumberOfPictures  PostalCode             LastSeen  \n",
       "0  2016-03-24 00:00:00                 0       70435  2016-04-07 03:16:57  \n",
       "1  2016-03-24 00:00:00                 0       66954  2016-04-07 01:46:50  \n",
       "2  2016-03-14 00:00:00                 0       90480  2016-04-05 12:47:46  \n",
       "3  2016-03-17 00:00:00                 0       91074  2016-03-17 17:40:17  \n",
       "4  2016-03-31 00:00:00                 0       60437  2016-04-06 10:17:21  "
      ]
     },
     "execution_count": 13,
     "metadata": {},
     "output_type": "execute_result"
    }
   ],
   "source": [
    "data.head(5)"
   ]
  },
  {
   "cell_type": "markdown",
   "metadata": {},
   "source": [
    "- в данных присутствуют недопустимые значения, например в столбце <b>RegistrationMonth</b> есть 0 месяц, необходимо предобработать данные и отбросить анномалии по всей таблице."
   ]
  },
  {
   "cell_type": "code",
   "execution_count": 14,
   "metadata": {},
   "outputs": [
    {
     "data": {
      "text/plain": [
       "Index(['DateCrawled', 'Price', 'VehicleType', 'RegistrationYear', 'Gearbox',\n",
       "       'Power', 'Model', 'Kilometer', 'RegistrationMonth', 'FuelType', 'Brand',\n",
       "       'Repaired', 'DateCreated', 'NumberOfPictures', 'PostalCode',\n",
       "       'LastSeen'],\n",
       "      dtype='object')"
      ]
     },
     "execution_count": 14,
     "metadata": {},
     "output_type": "execute_result"
    }
   ],
   "source": [
    "data.columns"
   ]
  },
  {
   "cell_type": "markdown",
   "metadata": {},
   "source": [
    "- Наименование столбцов в Camel стиле (приемлемо), написание правильное."
   ]
  },
  {
   "cell_type": "code",
   "execution_count": 15,
   "metadata": {},
   "outputs": [
    {
     "data": {
      "text/html": [
       "<div>\n",
       "<style scoped>\n",
       "    .dataframe tbody tr th:only-of-type {\n",
       "        vertical-align: middle;\n",
       "    }\n",
       "\n",
       "    .dataframe tbody tr th {\n",
       "        vertical-align: top;\n",
       "    }\n",
       "\n",
       "    .dataframe thead th {\n",
       "        text-align: right;\n",
       "    }\n",
       "</style>\n",
       "<table border=\"1\" class=\"dataframe\">\n",
       "  <thead>\n",
       "    <tr style=\"text-align: right;\">\n",
       "      <th></th>\n",
       "      <th>Price</th>\n",
       "      <th>RegistrationYear</th>\n",
       "      <th>Power</th>\n",
       "      <th>Kilometer</th>\n",
       "      <th>RegistrationMonth</th>\n",
       "      <th>NumberOfPictures</th>\n",
       "      <th>PostalCode</th>\n",
       "    </tr>\n",
       "  </thead>\n",
       "  <tbody>\n",
       "    <tr>\n",
       "      <th>count</th>\n",
       "      <td>354369.000000</td>\n",
       "      <td>354369.000000</td>\n",
       "      <td>354369.000000</td>\n",
       "      <td>354369.000000</td>\n",
       "      <td>354369.000000</td>\n",
       "      <td>354369.0</td>\n",
       "      <td>354369.000000</td>\n",
       "    </tr>\n",
       "    <tr>\n",
       "      <th>mean</th>\n",
       "      <td>4416.656776</td>\n",
       "      <td>2004.234448</td>\n",
       "      <td>110.094337</td>\n",
       "      <td>128211.172535</td>\n",
       "      <td>5.714645</td>\n",
       "      <td>0.0</td>\n",
       "      <td>50508.689087</td>\n",
       "    </tr>\n",
       "    <tr>\n",
       "      <th>std</th>\n",
       "      <td>4514.158514</td>\n",
       "      <td>90.227958</td>\n",
       "      <td>189.850405</td>\n",
       "      <td>37905.341530</td>\n",
       "      <td>3.726421</td>\n",
       "      <td>0.0</td>\n",
       "      <td>25783.096248</td>\n",
       "    </tr>\n",
       "    <tr>\n",
       "      <th>min</th>\n",
       "      <td>0.000000</td>\n",
       "      <td>1000.000000</td>\n",
       "      <td>0.000000</td>\n",
       "      <td>5000.000000</td>\n",
       "      <td>0.000000</td>\n",
       "      <td>0.0</td>\n",
       "      <td>1067.000000</td>\n",
       "    </tr>\n",
       "    <tr>\n",
       "      <th>25%</th>\n",
       "      <td>1050.000000</td>\n",
       "      <td>1999.000000</td>\n",
       "      <td>69.000000</td>\n",
       "      <td>125000.000000</td>\n",
       "      <td>3.000000</td>\n",
       "      <td>0.0</td>\n",
       "      <td>30165.000000</td>\n",
       "    </tr>\n",
       "    <tr>\n",
       "      <th>50%</th>\n",
       "      <td>2700.000000</td>\n",
       "      <td>2003.000000</td>\n",
       "      <td>105.000000</td>\n",
       "      <td>150000.000000</td>\n",
       "      <td>6.000000</td>\n",
       "      <td>0.0</td>\n",
       "      <td>49413.000000</td>\n",
       "    </tr>\n",
       "    <tr>\n",
       "      <th>75%</th>\n",
       "      <td>6400.000000</td>\n",
       "      <td>2008.000000</td>\n",
       "      <td>143.000000</td>\n",
       "      <td>150000.000000</td>\n",
       "      <td>9.000000</td>\n",
       "      <td>0.0</td>\n",
       "      <td>71083.000000</td>\n",
       "    </tr>\n",
       "    <tr>\n",
       "      <th>max</th>\n",
       "      <td>20000.000000</td>\n",
       "      <td>9999.000000</td>\n",
       "      <td>20000.000000</td>\n",
       "      <td>150000.000000</td>\n",
       "      <td>12.000000</td>\n",
       "      <td>0.0</td>\n",
       "      <td>99998.000000</td>\n",
       "    </tr>\n",
       "  </tbody>\n",
       "</table>\n",
       "</div>"
      ],
      "text/plain": [
       "               Price  RegistrationYear          Power      Kilometer  \\\n",
       "count  354369.000000     354369.000000  354369.000000  354369.000000   \n",
       "mean     4416.656776       2004.234448     110.094337  128211.172535   \n",
       "std      4514.158514         90.227958     189.850405   37905.341530   \n",
       "min         0.000000       1000.000000       0.000000    5000.000000   \n",
       "25%      1050.000000       1999.000000      69.000000  125000.000000   \n",
       "50%      2700.000000       2003.000000     105.000000  150000.000000   \n",
       "75%      6400.000000       2008.000000     143.000000  150000.000000   \n",
       "max     20000.000000       9999.000000   20000.000000  150000.000000   \n",
       "\n",
       "       RegistrationMonth  NumberOfPictures     PostalCode  \n",
       "count      354369.000000          354369.0  354369.000000  \n",
       "mean            5.714645               0.0   50508.689087  \n",
       "std             3.726421               0.0   25783.096248  \n",
       "min             0.000000               0.0    1067.000000  \n",
       "25%             3.000000               0.0   30165.000000  \n",
       "50%             6.000000               0.0   49413.000000  \n",
       "75%             9.000000               0.0   71083.000000  \n",
       "max            12.000000               0.0   99998.000000  "
      ]
     },
     "execution_count": 15,
     "metadata": {},
     "output_type": "execute_result"
    }
   ],
   "source": [
    "# смотрим discribe числовых данных\n",
    "data.select_dtypes(include=['float64', 'int64']).describe(include='all')"
   ]
  },
  {
   "cell_type": "markdown",
   "metadata": {},
   "source": [
    "Замечания:\n",
    "- <b>Price</b> Необходимо посмотреть на выбросы, присутствуют нереальное значение.\n",
    "- <b>RegistrationYear</b> Присутствуют нереальное значение, необходимо предобработать.\n",
    "- <b>Power</b> мощность (л. с.) Необходимо посмотреть на выбросы, 20_000 л. с. нереальное значение.\n",
    "- <b>Kilometer</b> Выбросов нет, 150_000 это реалная цифра, но нужно проверить осуществлялся ремонт или нет. Производители закладывают что срок службы истекает после 150_000 км. если ремонта небыло то он явно скоро будет. \n",
    "- <b>RegistrationMonth</b> В основном машины покупают во 2-й половине года\n",
    "- <b>NumberOfPictures</b> В столбце нет данных, отбросим"
   ]
  },
  {
   "cell_type": "markdown",
   "metadata": {},
   "source": [
    "### Детальное расмотрение данных"
   ]
  },
  {
   "cell_type": "markdown",
   "metadata": {},
   "source": [
    "#### Значения Nan в данных"
   ]
  },
  {
   "cell_type": "code",
   "execution_count": 16,
   "metadata": {
    "scrolled": true,
    "tags": []
   },
   "outputs": [
    {
     "name": "stdout",
     "output_type": "stream",
     "text": [
      "VehicleType --> 37490 --> 10 %\n",
      "Gearbox --> 19833 --> 5 %\n",
      "Model --> 19705 --> 5 %\n",
      "FuelType --> 32895 --> 8 %\n",
      "Repaired --> 71154 --> 17 %\n"
     ]
    }
   ],
   "source": [
    "# Смотрим сколько значений Nan в данных и в каких столбцах\n",
    "columns_name = data.columns\n",
    "for i in range(len(columns_name)):\n",
    "    isna = data[columns_name[i]].isna().sum()\n",
    "    if isna != 0:\n",
    "        print(columns_name[i], '-->', isna, '-->',round((isna / (data.shape[0]+isna))*100), '%')"
   ]
  },
  {
   "cell_type": "markdown",
   "metadata": {
    "tags": []
   },
   "source": [
    "Вывод:\n",
    "- <b>VehicleType</b> — Можно попробовать востановить по другим значениям, если неполучится заполнить 'uncknow'\n",
    "- <b>Gearbox</b> — Можно попробовать востановить по другим значениям, если неполучится заполнить 'uncknow'\n",
    "- <b>Model</b> — Можно попробовать востановить по другим значениям, если неполучится заполнить 'uncknow'\n",
    "- <b>FuelType</b> — Можно попробовать востановить по другим значениям, если неполучится заполнить 'uncknow' \n",
    "- <b>Repaired</b> — Востановить нет возможности заполним 'uncknow'\n",
    "\n",
    "Примечание:\n",
    "- Можно попробовать написать код для поиска и заполнения отсутствующих данных, но думаю это не цель задачи и можно оставить на будующее как идею.\n",
    "- Заполним отсутствующие данные как 'unknow' возможно это отдельная категория и поможет определять целевой признак более точно."
   ]
  },
  {
   "cell_type": "code",
   "execution_count": 17,
   "metadata": {},
   "outputs": [
    {
     "name": "stdout",
     "output_type": "stream",
     "text": [
      "10772  -->  3.0 %\n"
     ]
    }
   ],
   "source": [
    "# Сколько целевые данные имеют значений 0?\n",
    "print(data['Price'][data['Price'] == 0].count(),' --> ',\\\n",
    "      round(data['Price'][data['Price'] == 0].count() / (data.shape[0]/100),1), '%')"
   ]
  },
  {
   "cell_type": "markdown",
   "metadata": {},
   "source": [
    "Вывод:\n",
    "- Цены 0 несуществует, нужно отбросить\n",
    "- Целевые данные с экстремальными значениями отбросим, возьмем процентиль 5%"
   ]
  },
  {
   "cell_type": "code",
   "execution_count": 18,
   "metadata": {},
   "outputs": [
    {
     "name": "stdout",
     "output_type": "stream",
     "text": [
      "DateCrawled 271174\n",
      "Price 3731\n",
      "VehicleType 9\n",
      "RegistrationYear 151\n",
      "Gearbox 3\n",
      "Power 712\n",
      "Model 251\n",
      "Kilometer 13\n",
      "RegistrationMonth 13\n",
      "FuelType 8\n",
      "Brand 40\n",
      "Repaired 3\n",
      "DateCreated 109\n",
      "NumberOfPictures 1\n",
      "PostalCode 8143\n",
      "LastSeen 179150\n"
     ]
    }
   ],
   "source": [
    "# Смотрим сколько уникальных значений в столбцах\n",
    "columns_name = data.columns\n",
    "for i in range(len(columns_name)):\n",
    "    unique = len(data[columns_name[i]].unique())\n",
    "    print(columns_name[i], unique)"
   ]
  },
  {
   "cell_type": "markdown",
   "metadata": {},
   "source": [
    "#### Посмотрим на процентили в данных"
   ]
  },
  {
   "cell_type": "code",
   "execution_count": 19,
   "metadata": {},
   "outputs": [
    {
     "name": "stdout",
     "output_type": "stream",
     "text": [
      "Столбец | Price |\n",
      "Процентиль 5.0 %\n",
      "Диапозон 200 -> 16950\n",
      "326318 --> 95.0 %\n",
      "--------------------------\n",
      "Столбец | Power |\n",
      "Процентиль 5.0 %\n",
      "Диапозон 50 -> 250\n",
      "295337 --> 94.0 %\n",
      "--------------------------\n"
     ]
    }
   ],
   "source": [
    "percen_colum = ['Price','Power']\n",
    "\n",
    "for i in range(len(percen_colum)):\n",
    "    print('Столбец','|', percen_colum[i],'|')\n",
    "    percen(data[percen_colum[i]], 2.5, 2.5)"
   ]
  },
  {
   "cell_type": "code",
   "execution_count": 20,
   "metadata": {
    "scrolled": true
   },
   "outputs": [
    {
     "name": "stdout",
     "output_type": "stream",
     "text": [
      "Процентиль 5 %\n",
      "Диапозон 16 -> 29232\n",
      "236 --> 94.4 %\n",
      "--------------------------\n"
     ]
    }
   ],
   "source": [
    "# Посчитаем процентиль 5% редких моделей авто\n",
    "percen(data['Model'].value_counts(), 5, 0)"
   ]
  },
  {
   "cell_type": "markdown",
   "metadata": {},
   "source": [
    "- Считаю что можно убрать записи которых меньше 15, слишком мало для анализа"
   ]
  },
  {
   "cell_type": "code",
   "execution_count": 21,
   "metadata": {},
   "outputs": [
    {
     "data": {
      "text/plain": [
       "petrol      216352\n",
       "gasoline     98720\n",
       "lpg           5310\n",
       "cng            565\n",
       "hybrid         233\n",
       "other          204\n",
       "electric        90\n",
       "Name: FuelType, dtype: int64"
      ]
     },
     "execution_count": 21,
     "metadata": {},
     "output_type": "execute_result"
    }
   ],
   "source": [
    "data['FuelType'].value_counts()"
   ]
  },
  {
   "cell_type": "code",
   "execution_count": 22,
   "metadata": {},
   "outputs": [
    {
     "data": {
      "text/plain": [
       "32895"
      ]
     },
     "execution_count": 22,
     "metadata": {},
     "output_type": "execute_result"
    }
   ],
   "source": [
    "data['FuelType'].isna().sum()"
   ]
  },
  {
   "cell_type": "markdown",
   "metadata": {},
   "source": [
    "- Заполним Nan на 'unknow'"
   ]
  },
  {
   "cell_type": "code",
   "execution_count": 23,
   "metadata": {},
   "outputs": [
    {
     "data": {
      "text/plain": [
       "150000    238209\n",
       "125000     36454\n",
       "100000     14882\n",
       "90000      11567\n",
       "80000      10047\n",
       "70000       8593\n",
       "60000       7444\n",
       "5000        6397\n",
       "50000       6232\n",
       "40000       4911\n",
       "30000       4436\n",
       "20000       3975\n",
       "10000       1222\n",
       "Name: Kilometer, dtype: int64"
      ]
     },
     "execution_count": 23,
     "metadata": {},
     "output_type": "execute_result"
    }
   ],
   "source": [
    "data['Kilometer'].value_counts()"
   ]
  },
  {
   "cell_type": "code",
   "execution_count": 24,
   "metadata": {},
   "outputs": [
    {
     "data": {
      "text/plain": [
       "0"
      ]
     },
     "execution_count": 24,
     "metadata": {},
     "output_type": "execute_result"
    }
   ],
   "source": [
    "data['Kilometer'].isna().sum()"
   ]
  },
  {
   "cell_type": "markdown",
   "metadata": {},
   "source": [
    "- в основном размещают машины с большим пробегом (на гране окончания гарантии)"
   ]
  },
  {
   "cell_type": "code",
   "execution_count": 25,
   "metadata": {},
   "outputs": [
    {
     "data": {
      "text/plain": [
       "manual    268251\n",
       "auto       66285\n",
       "Name: Gearbox, dtype: int64"
      ]
     },
     "execution_count": 25,
     "metadata": {},
     "output_type": "execute_result"
    }
   ],
   "source": [
    "data['Gearbox'].value_counts()"
   ]
  },
  {
   "cell_type": "code",
   "execution_count": 26,
   "metadata": {},
   "outputs": [
    {
     "data": {
      "text/plain": [
       "19833"
      ]
     },
     "execution_count": 26,
     "metadata": {},
     "output_type": "execute_result"
    }
   ],
   "source": [
    "data['Gearbox'].isna().sum()"
   ]
  },
  {
   "cell_type": "markdown",
   "metadata": {},
   "source": [
    "- Преобладают машины с ручной коробкой передачи\n",
    "- Заполним Nan на 'unknow'"
   ]
  },
  {
   "cell_type": "code",
   "execution_count": 27,
   "metadata": {},
   "outputs": [
    {
     "data": {
      "text/plain": [
       "0     37352\n",
       "3     34373\n",
       "6     31508\n",
       "4     29270\n",
       "5     29153\n",
       "7     27213\n",
       "10    26099\n",
       "12    24289\n",
       "11    24186\n",
       "9     23813\n",
       "1     23219\n",
       "8     22627\n",
       "2     21267\n",
       "Name: RegistrationMonth, dtype: int64"
      ]
     },
     "execution_count": 27,
     "metadata": {},
     "output_type": "execute_result"
    }
   ],
   "source": [
    "data['RegistrationMonth'].value_counts()"
   ]
  },
  {
   "cell_type": "code",
   "execution_count": 28,
   "metadata": {},
   "outputs": [
    {
     "data": {
      "text/plain": [
       "volkswagen        77013\n",
       "opel              39931\n",
       "bmw               36914\n",
       "mercedes_benz     32046\n",
       "audi              29456\n",
       "ford              25179\n",
       "renault           17927\n",
       "peugeot           10998\n",
       "fiat               9643\n",
       "seat               6907\n",
       "mazda              5615\n",
       "skoda              5500\n",
       "smart              5246\n",
       "citroen            5148\n",
       "nissan             4941\n",
       "toyota             4606\n",
       "hyundai            3587\n",
       "sonstige_autos     3374\n",
       "volvo              3210\n",
       "mini               3202\n",
       "mitsubishi         3022\n",
       "honda              2817\n",
       "kia                2465\n",
       "suzuki             2323\n",
       "alfa_romeo         2314\n",
       "chevrolet          1754\n",
       "chrysler           1439\n",
       "dacia               900\n",
       "daihatsu            806\n",
       "subaru              762\n",
       "porsche             758\n",
       "jeep                677\n",
       "trabant             589\n",
       "land_rover          545\n",
       "daewoo              542\n",
       "saab                526\n",
       "jaguar              505\n",
       "rover               486\n",
       "lancia              471\n",
       "lada                225\n",
       "Name: Brand, dtype: int64"
      ]
     },
     "execution_count": 28,
     "metadata": {},
     "output_type": "execute_result"
    }
   ],
   "source": [
    "data['Brand'].value_counts()"
   ]
  },
  {
   "cell_type": "code",
   "execution_count": 29,
   "metadata": {},
   "outputs": [
    {
     "data": {
      "text/plain": [
       "0"
      ]
     },
     "execution_count": 29,
     "metadata": {},
     "output_type": "execute_result"
    }
   ],
   "source": [
    "data['Brand'].isna().sum()"
   ]
  },
  {
   "cell_type": "markdown",
   "metadata": {},
   "source": [
    "- Есть мысл создать словари с существующими наименованиями моделей и характеристик (двигатель, коробка, кузов и т.д.) для проверки заполнения данных и отсечения ошибок, но думаю это выходит за рамки данного проекта."
   ]
  },
  {
   "cell_type": "code",
   "execution_count": 30,
   "metadata": {},
   "outputs": [
    {
     "name": "stdout",
     "output_type": "stream",
     "text": [
      "1983 < < 2023\n",
      "4619 < < 105\n"
     ]
    }
   ],
   "source": [
    "# Смотрим сколько имеется значений в 'RegistrationYear' которые не входят в 40 летний диапозон\n",
    "# их стоит отбросить\n",
    "year1 = 1983\n",
    "year2 = 2023\n",
    "print(year1,'< <', year2)\n",
    "print((data[columns_name[3]] < year1).sum(),'< <',\\\n",
    "      (data[columns_name[3]] > year2).sum())"
   ]
  },
  {
   "cell_type": "markdown",
   "metadata": {},
   "source": [
    "- Стоит отбросить значения которые не входя в 40 летний диапозон"
   ]
  },
  {
   "cell_type": "code",
   "execution_count": 31,
   "metadata": {},
   "outputs": [
    {
     "name": "stdout",
     "output_type": "stream",
     "text": [
      "0    2016-03-24 11:52:17\n",
      "1    2016-03-24 10:58:45\n",
      "2    2016-03-14 12:52:21\n",
      "Name: DateCrawled, dtype: object\n",
      "0    1993\n",
      "1    2011\n",
      "2    2004\n",
      "Name: RegistrationYear, dtype: int64\n"
     ]
    }
   ],
   "source": [
    "print(data['DateCrawled'].head(3))\n",
    "print(data['RegistrationYear'].head(3))"
   ]
  },
  {
   "cell_type": "markdown",
   "metadata": {},
   "source": [
    "#### Дубликаты"
   ]
  },
  {
   "cell_type": "code",
   "execution_count": 32,
   "metadata": {},
   "outputs": [
    {
     "data": {
      "text/plain": [
       "4"
      ]
     },
     "execution_count": 32,
     "metadata": {},
     "output_type": "execute_result"
    }
   ],
   "source": [
    "# Смотрим наличие дубликатов в строках\n",
    "data.duplicated().sum()"
   ]
  },
  {
   "cell_type": "markdown",
   "metadata": {},
   "source": [
    "- Присутствую дубликатов отбросим"
   ]
  },
  {
   "cell_type": "markdown",
   "metadata": {},
   "source": [
    "####  Общие замечание по данным:\n",
    "\n",
    "- Наименование столбцов без ошибок, не требуются правки.\n",
    "- Имеются значения <b>Nan</b> в категориалных данных, заполним их значением <b>'unknown'</b>.\n",
    "- В данных имеются 4 строки дубликатов, отбросим.\n",
    "- Данные имеют неподходящие типы, предобработаем.\n",
    "- В столбце с целевым признаком имеются выбросы которые могут затруднить обучение, отбросим\n",
    "- Имеются нереальные выбросы в столбце <b>'RegistrationYear'</b>, отбросим\n",
    "- В столбце <b>PostalCode</b> много значений, в данном виде мы не можем их перевести в категориальный вид. Отбросим.\n",
    "- После расмотрения типа данных пришел к выводу что необходимо сократить кол. категориальных данных и сагрегировать столбцы: 'Brand', 'Model', 'Gearbox', 'FuelType'. И из новых данных посмотреть сколько категорий получилось. Для более удобного изменения создадим константу."
   ]
  },
  {
   "cell_type": "code",
   "execution_count": 33,
   "metadata": {},
   "outputs": [
    {
     "data": {
      "text/plain": [
       "Index(['DateCrawled', 'Price', 'VehicleType', 'RegistrationYear', 'Gearbox',\n",
       "       'Power', 'Model', 'Kilometer', 'RegistrationMonth', 'FuelType', 'Brand',\n",
       "       'Repaired', 'DateCreated', 'NumberOfPictures', 'PostalCode',\n",
       "       'LastSeen'],\n",
       "      dtype='object')"
      ]
     },
     "execution_count": 33,
     "metadata": {},
     "output_type": "execute_result"
    }
   ],
   "source": [
    "data.columns"
   ]
  },
  {
   "cell_type": "markdown",
   "metadata": {},
   "source": [
    "#### <b>Замечания по столбцам:</b>\n",
    "\n",
    "- 0   <b>DateCrawled</b> — дата скачивания анкеты из базы\n",
    "    - | object |\n",
    "    - Отбросим столбец. Совпадает с данными DateCreated, но в DateCrawled есть время. Время для нашей работы неимеет значение, важнее знать когда объявление создано. Дата скачивания анкеты нас не интересует.\n",
    "\n",
    "\n",
    "- 1   <b>Price</b> — цена (евро) <b>Целевой признак</b>\n",
    "    - | int64  |\n",
    "    - Имеются выбросы и 0 значения. Возьмем процентиль.\n",
    "    - Возьмем строки со значением согласно процентилю 200 -> 16950\n",
    "    \n",
    "\n",
    "- 2   <b>VehicleType</b> — тип автомобильного кузова \n",
    "    - | object |\n",
    "    - Имеются значения Nan, заполним их значением 'unknow'.\n",
    "\n",
    "\n",
    "- 3   <b>RegistrationYear</b> — год регистрации автомобиля\n",
    "    - | int64 | перевести тип в Data.\n",
    "    - Имеются нереальные выбросы в столбце, отбросим.\n",
    "    \n",
    "    \n",
    "- 4   <b>Gearbox</b> — тип коробки передач\n",
    "    - | object |\n",
    "    - есть бесмысленные значения (например '0') заменим их на <b>'unknow'</b>.\n",
    "    - Присутствуют Nan заменим их на <b>'unknown'</b>.\n",
    "\n",
    "\n",
    "- 5   <b>Power</b> — мощность (л. с.)\n",
    "    - | int64 |\n",
    "    - Имеются выбросы и нереальные значения. Возьмем процентиль.\n",
    "    - Возьмем строки со значением согласно процентилю 50 -> 250.\n",
    "    \n",
    "    \n",
    "- 6   <b>Model</b> — модель автомобиля\n",
    "    - | object |\n",
    "    - Считаю стоит убрать редких модели авто, возьмем процентиль 5% и уберем редкие авто.\n",
    "\n",
    "\n",
    "- 7   <b>Kilometer</b> — пробег (км)\n",
    "    - | int64 | \n",
    "    - С данными все впорядке.\n",
    "    \n",
    "    \n",
    "- 8   <b>RegistrationMonth</b> — месяц регистрации автомобиля\n",
    "    - | int64 | перевести тип в Data\n",
    "    - Объяденить с данными в колонке <b>RegistrationYear</b> — год регистрации автомобиля.\n",
    "    - Присутствуют значение '0' нужно заменить на Nan, скорей всего месяц неуказали.\n",
    "    - Объядененные данные сохраним в новом столбце <b>RegistrationDate</b>.\n",
    "   \n",
    "   \n",
    "- 9   <b>FuelType</b> — тип топлива\n",
    "    - | object |\n",
    "    - Присутствуют Nan заменим их на <b>'unknown'</b>.\n",
    "\n",
    "\n",
    "- 10  <b>Brand</b> — марка автомобиля\n",
    "    - | object |\n",
    "    - Отбросим редкие марки авто.\n",
    "\n",
    "\n",
    "- 11  <b>Repaired</b> — была машина в ремонте или нет\n",
    "    - | object | Необходимо перевести тип в int и преобразовать в бинарный 1-да 0-нет.\n",
    "    - Создать еще один столбец <b>InfoRepaired</b> бинарный типом данных (1 - Есть информация, 0 - Нет информации).\n",
    "\n",
    "\n",
    "- 12  <b>DateCreated</b>\n",
    "    - | object | перевести тип в Data.\n",
    "    - Данные округлить до дня.\n",
    "\n",
    "\n",
    "- 13  <b>NumberOfPictures</b> — количество фотографий автомобиля\n",
    "    - | int64 | \n",
    "    - Отбросим столбец так как в нем нет информации.\n",
    "\n",
    "\n",
    "- 14  <b>PostalCode</b> почтовый индекс владельца анкеты (пользователя)\n",
    "    - | int64 |\n",
    "    - Следует расчитывать как категориальные данные, и перевести их в object.\n",
    "    - По почтовому индексу можно предположить место дислокации, возможно от этого зависит цена.\n",
    "    - Значений оцень много, для работы с этими данными необходимо сгрупировать индексы хотябы по странам или регионам. Отбросим их и оставим на будущую работу по улучшению.\n",
    "    \n",
    "    \n",
    "- 15  <b>LastSeen</b> дата последней активности пользователя\n",
    "    - | object | перевести тип в Data.\n",
    "    - Влияет на достоверность объявления (если давно неактивен то либо автомобиль продан либо могло измениться характеристика авто).\n",
    "    - Можно перевести в бинарное значение (1 был активен в течение 6 месяцов или 0 если нет) промежуток активности нужно подобрать и уточнить, создадим константу."
   ]
  },
  {
   "cell_type": "markdown",
   "metadata": {},
   "source": [
    "### Обработка данных"
   ]
  },
  {
   "cell_type": "markdown",
   "metadata": {},
   "source": [
    "Изменения будем проводить в скопированных данных df"
   ]
  },
  {
   "cell_type": "code",
   "execution_count": 34,
   "metadata": {},
   "outputs": [],
   "source": [
    "data['LastSeen'] = pd.to_datetime(data['LastSeen'])\n",
    "data['DateCrawled'] = pd.to_datetime(data['DateCrawled'])"
   ]
  },
  {
   "cell_type": "code",
   "execution_count": 35,
   "metadata": {},
   "outputs": [
    {
     "data": {
      "text/html": [
       "<div>\n",
       "<style scoped>\n",
       "    .dataframe tbody tr th:only-of-type {\n",
       "        vertical-align: middle;\n",
       "    }\n",
       "\n",
       "    .dataframe tbody tr th {\n",
       "        vertical-align: top;\n",
       "    }\n",
       "\n",
       "    .dataframe thead th {\n",
       "        text-align: right;\n",
       "    }\n",
       "</style>\n",
       "<table border=\"1\" class=\"dataframe\">\n",
       "  <thead>\n",
       "    <tr style=\"text-align: right;\">\n",
       "      <th></th>\n",
       "      <th>DateCrawled</th>\n",
       "      <th>Price</th>\n",
       "      <th>VehicleType</th>\n",
       "      <th>RegistrationYear</th>\n",
       "      <th>Gearbox</th>\n",
       "      <th>Power</th>\n",
       "      <th>Model</th>\n",
       "      <th>Kilometer</th>\n",
       "      <th>RegistrationMonth</th>\n",
       "      <th>FuelType</th>\n",
       "      <th>Brand</th>\n",
       "      <th>Repaired</th>\n",
       "      <th>DateCreated</th>\n",
       "      <th>NumberOfPictures</th>\n",
       "      <th>PostalCode</th>\n",
       "      <th>LastSeen</th>\n",
       "    </tr>\n",
       "  </thead>\n",
       "  <tbody>\n",
       "    <tr>\n",
       "      <th>0</th>\n",
       "      <td>2016-03-24 11:52:17</td>\n",
       "      <td>480</td>\n",
       "      <td>NaN</td>\n",
       "      <td>1993</td>\n",
       "      <td>manual</td>\n",
       "      <td>0</td>\n",
       "      <td>golf</td>\n",
       "      <td>150000</td>\n",
       "      <td>0</td>\n",
       "      <td>petrol</td>\n",
       "      <td>volkswagen</td>\n",
       "      <td>NaN</td>\n",
       "      <td>2016-03-24 00:00:00</td>\n",
       "      <td>0</td>\n",
       "      <td>70435</td>\n",
       "      <td>2016-04-07 03:16:57</td>\n",
       "    </tr>\n",
       "    <tr>\n",
       "      <th>1</th>\n",
       "      <td>2016-03-24 10:58:45</td>\n",
       "      <td>18300</td>\n",
       "      <td>coupe</td>\n",
       "      <td>2011</td>\n",
       "      <td>manual</td>\n",
       "      <td>190</td>\n",
       "      <td>NaN</td>\n",
       "      <td>125000</td>\n",
       "      <td>5</td>\n",
       "      <td>gasoline</td>\n",
       "      <td>audi</td>\n",
       "      <td>yes</td>\n",
       "      <td>2016-03-24 00:00:00</td>\n",
       "      <td>0</td>\n",
       "      <td>66954</td>\n",
       "      <td>2016-04-07 01:46:50</td>\n",
       "    </tr>\n",
       "    <tr>\n",
       "      <th>2</th>\n",
       "      <td>2016-03-14 12:52:21</td>\n",
       "      <td>9800</td>\n",
       "      <td>suv</td>\n",
       "      <td>2004</td>\n",
       "      <td>auto</td>\n",
       "      <td>163</td>\n",
       "      <td>grand</td>\n",
       "      <td>125000</td>\n",
       "      <td>8</td>\n",
       "      <td>gasoline</td>\n",
       "      <td>jeep</td>\n",
       "      <td>NaN</td>\n",
       "      <td>2016-03-14 00:00:00</td>\n",
       "      <td>0</td>\n",
       "      <td>90480</td>\n",
       "      <td>2016-04-05 12:47:46</td>\n",
       "    </tr>\n",
       "  </tbody>\n",
       "</table>\n",
       "</div>"
      ],
      "text/plain": [
       "          DateCrawled  Price VehicleType  RegistrationYear Gearbox  Power  \\\n",
       "0 2016-03-24 11:52:17    480         NaN              1993  manual      0   \n",
       "1 2016-03-24 10:58:45  18300       coupe              2011  manual    190   \n",
       "2 2016-03-14 12:52:21   9800         suv              2004    auto    163   \n",
       "\n",
       "   Model  Kilometer  RegistrationMonth  FuelType       Brand Repaired  \\\n",
       "0   golf     150000                  0    petrol  volkswagen      NaN   \n",
       "1    NaN     125000                  5  gasoline        audi      yes   \n",
       "2  grand     125000                  8  gasoline        jeep      NaN   \n",
       "\n",
       "           DateCreated  NumberOfPictures  PostalCode            LastSeen  \n",
       "0  2016-03-24 00:00:00                 0       70435 2016-04-07 03:16:57  \n",
       "1  2016-03-24 00:00:00                 0       66954 2016-04-07 01:46:50  \n",
       "2  2016-03-14 00:00:00                 0       90480 2016-04-05 12:47:46  "
      ]
     },
     "execution_count": 35,
     "metadata": {},
     "output_type": "execute_result"
    }
   ],
   "source": [
    "data.head(3)"
   ]
  },
  {
   "cell_type": "code",
   "execution_count": 36,
   "metadata": {},
   "outputs": [
    {
     "data": {
      "text/html": [
       "<div>\n",
       "<style scoped>\n",
       "    .dataframe tbody tr th:only-of-type {\n",
       "        vertical-align: middle;\n",
       "    }\n",
       "\n",
       "    .dataframe tbody tr th {\n",
       "        vertical-align: top;\n",
       "    }\n",
       "\n",
       "    .dataframe thead th {\n",
       "        text-align: right;\n",
       "    }\n",
       "</style>\n",
       "<table border=\"1\" class=\"dataframe\">\n",
       "  <thead>\n",
       "    <tr style=\"text-align: right;\">\n",
       "      <th></th>\n",
       "      <th>Price</th>\n",
       "      <th>VehicleType</th>\n",
       "      <th>Gearbox</th>\n",
       "      <th>Power</th>\n",
       "      <th>Model</th>\n",
       "      <th>Kilometer</th>\n",
       "      <th>FuelType</th>\n",
       "      <th>Brand</th>\n",
       "      <th>Repaired</th>\n",
       "      <th>PostalCode</th>\n",
       "    </tr>\n",
       "  </thead>\n",
       "  <tbody>\n",
       "    <tr>\n",
       "      <th>0</th>\n",
       "      <td>480</td>\n",
       "      <td>NaN</td>\n",
       "      <td>manual</td>\n",
       "      <td>0</td>\n",
       "      <td>golf</td>\n",
       "      <td>150000</td>\n",
       "      <td>petrol</td>\n",
       "      <td>volkswagen</td>\n",
       "      <td>NaN</td>\n",
       "      <td>70435</td>\n",
       "    </tr>\n",
       "    <tr>\n",
       "      <th>1</th>\n",
       "      <td>18300</td>\n",
       "      <td>coupe</td>\n",
       "      <td>manual</td>\n",
       "      <td>190</td>\n",
       "      <td>NaN</td>\n",
       "      <td>125000</td>\n",
       "      <td>gasoline</td>\n",
       "      <td>audi</td>\n",
       "      <td>yes</td>\n",
       "      <td>66954</td>\n",
       "    </tr>\n",
       "    <tr>\n",
       "      <th>2</th>\n",
       "      <td>9800</td>\n",
       "      <td>suv</td>\n",
       "      <td>auto</td>\n",
       "      <td>163</td>\n",
       "      <td>grand</td>\n",
       "      <td>125000</td>\n",
       "      <td>gasoline</td>\n",
       "      <td>jeep</td>\n",
       "      <td>NaN</td>\n",
       "      <td>90480</td>\n",
       "    </tr>\n",
       "  </tbody>\n",
       "</table>\n",
       "</div>"
      ],
      "text/plain": [
       "   Price VehicleType Gearbox  Power  Model  Kilometer  FuelType       Brand  \\\n",
       "0    480         NaN  manual      0   golf     150000    petrol  volkswagen   \n",
       "1  18300       coupe  manual    190    NaN     125000  gasoline        audi   \n",
       "2   9800         suv    auto    163  grand     125000  gasoline        jeep   \n",
       "\n",
       "  Repaired  PostalCode  \n",
       "0      NaN       70435  \n",
       "1      yes       66954  \n",
       "2      NaN       90480  "
      ]
     },
     "execution_count": 36,
     "metadata": {},
     "output_type": "execute_result"
    }
   ],
   "source": [
    "# скопируем в df нужные данные, столбцы с датами добавим после обработки\n",
    "df = data[['Price', 'VehicleType', 'Gearbox', 'Power', \n",
    "          'Model', 'Kilometer', 'FuelType', 'Brand',\n",
    "          'Repaired', 'PostalCode'\n",
    "         ]].copy()\n",
    "df.head(3)"
   ]
  },
  {
   "cell_type": "code",
   "execution_count": 37,
   "metadata": {},
   "outputs": [
    {
     "data": {
      "text/plain": [
       "Index(['DateCrawled', 'Price', 'VehicleType', 'RegistrationYear', 'Gearbox',\n",
       "       'Power', 'Model', 'Kilometer', 'RegistrationMonth', 'FuelType', 'Brand',\n",
       "       'Repaired', 'DateCreated', 'NumberOfPictures', 'PostalCode',\n",
       "       'LastSeen'],\n",
       "      dtype='object')"
      ]
     },
     "execution_count": 37,
     "metadata": {},
     "output_type": "execute_result"
    }
   ],
   "source": [
    "columns_name"
   ]
  },
  {
   "cell_type": "code",
   "execution_count": 38,
   "metadata": {},
   "outputs": [
    {
     "data": {
      "text/plain": [
       "Index(['Price', 'VehicleType', 'Gearbox', 'Power', 'Model', 'Kilometer',\n",
       "       'FuelType', 'Brand', 'Repaired', 'PostalCode'],\n",
       "      dtype='object')"
      ]
     },
     "execution_count": 38,
     "metadata": {},
     "output_type": "execute_result"
    }
   ],
   "source": [
    "df.columns"
   ]
  },
  {
   "cell_type": "markdown",
   "metadata": {
    "tags": []
   },
   "source": [
    "#### Обработаем столбцы с датами"
   ]
  },
  {
   "cell_type": "markdown",
   "metadata": {},
   "source": [
    "##### ● 3 <b>RegistrationYear</b> — год регистрации автомобиля\n",
    "    - | int64 | перевести тип в Data.\n",
    "    - Имеются нереальные выбросы в столбце, отбросим."
   ]
  },
  {
   "cell_type": "code",
   "execution_count": 39,
   "metadata": {},
   "outputs": [
    {
     "data": {
      "text/plain": [
       "0"
      ]
     },
     "execution_count": 39,
     "metadata": {},
     "output_type": "execute_result"
    }
   ],
   "source": [
    "data['RegistrationYear'].isna().sum()"
   ]
  },
  {
   "cell_type": "code",
   "execution_count": 40,
   "metadata": {},
   "outputs": [
    {
     "data": {
      "text/plain": [
       "9999"
      ]
     },
     "execution_count": 40,
     "metadata": {},
     "output_type": "execute_result"
    }
   ],
   "source": [
    "data['RegistrationYear'].max()"
   ]
  },
  {
   "cell_type": "code",
   "execution_count": 41,
   "metadata": {},
   "outputs": [
    {
     "data": {
      "text/plain": [
       "1000"
      ]
     },
     "execution_count": 41,
     "metadata": {},
     "output_type": "execute_result"
    }
   ],
   "source": [
    "data['RegistrationYear'].min()"
   ]
  },
  {
   "cell_type": "code",
   "execution_count": 42,
   "metadata": {},
   "outputs": [
    {
     "data": {
      "text/plain": [
       "0         1993\n",
       "1         2011\n",
       "2         2004\n",
       "3         2001\n",
       "4         2008\n",
       "          ... \n",
       "354364    2005\n",
       "354365    2005\n",
       "354366    2000\n",
       "354367    1996\n",
       "354368    2002\n",
       "Name: RegistrationYear, Length: 354369, dtype: int64"
      ]
     },
     "execution_count": 42,
     "metadata": {},
     "output_type": "execute_result"
    }
   ],
   "source": [
    "data['RegistrationYear'].astype('int')"
   ]
  },
  {
   "cell_type": "code",
   "execution_count": 43,
   "metadata": {},
   "outputs": [],
   "source": [
    "# Возьмем только те данные которые не старше 40 лет давности\n",
    "year2 = 2023\n",
    "year1 = year2 - 40\n",
    "df = data[['Price', 'VehicleType', 'Gearbox', 'Power', \n",
    "          'Model', 'Kilometer', 'FuelType', 'Brand',\n",
    "          'Repaired', 'PostalCode', 'RegistrationYear',\n",
    "          'RegistrationMonth', 'LastSeen', 'DateCreated'\n",
    "         ]][(data[columns_name[3]] > year1) & (data[columns_name[3]] < year2)]"
   ]
  },
  {
   "cell_type": "code",
   "execution_count": 44,
   "metadata": {},
   "outputs": [
    {
     "data": {
      "text/html": [
       "<div>\n",
       "<style scoped>\n",
       "    .dataframe tbody tr th:only-of-type {\n",
       "        vertical-align: middle;\n",
       "    }\n",
       "\n",
       "    .dataframe tbody tr th {\n",
       "        vertical-align: top;\n",
       "    }\n",
       "\n",
       "    .dataframe thead th {\n",
       "        text-align: right;\n",
       "    }\n",
       "</style>\n",
       "<table border=\"1\" class=\"dataframe\">\n",
       "  <thead>\n",
       "    <tr style=\"text-align: right;\">\n",
       "      <th></th>\n",
       "      <th>Price</th>\n",
       "      <th>VehicleType</th>\n",
       "      <th>Gearbox</th>\n",
       "      <th>Power</th>\n",
       "      <th>Model</th>\n",
       "      <th>Kilometer</th>\n",
       "      <th>FuelType</th>\n",
       "      <th>Brand</th>\n",
       "      <th>Repaired</th>\n",
       "      <th>PostalCode</th>\n",
       "      <th>RegistrationYear</th>\n",
       "      <th>RegistrationMonth</th>\n",
       "      <th>LastSeen</th>\n",
       "      <th>DateCreated</th>\n",
       "    </tr>\n",
       "  </thead>\n",
       "  <tbody>\n",
       "    <tr>\n",
       "      <th>0</th>\n",
       "      <td>480</td>\n",
       "      <td>NaN</td>\n",
       "      <td>manual</td>\n",
       "      <td>0</td>\n",
       "      <td>golf</td>\n",
       "      <td>150000</td>\n",
       "      <td>petrol</td>\n",
       "      <td>volkswagen</td>\n",
       "      <td>NaN</td>\n",
       "      <td>70435</td>\n",
       "      <td>1993</td>\n",
       "      <td>0</td>\n",
       "      <td>2016-04-07 03:16:57</td>\n",
       "      <td>2016-03-24 00:00:00</td>\n",
       "    </tr>\n",
       "    <tr>\n",
       "      <th>1</th>\n",
       "      <td>18300</td>\n",
       "      <td>coupe</td>\n",
       "      <td>manual</td>\n",
       "      <td>190</td>\n",
       "      <td>NaN</td>\n",
       "      <td>125000</td>\n",
       "      <td>gasoline</td>\n",
       "      <td>audi</td>\n",
       "      <td>yes</td>\n",
       "      <td>66954</td>\n",
       "      <td>2011</td>\n",
       "      <td>5</td>\n",
       "      <td>2016-04-07 01:46:50</td>\n",
       "      <td>2016-03-24 00:00:00</td>\n",
       "    </tr>\n",
       "    <tr>\n",
       "      <th>2</th>\n",
       "      <td>9800</td>\n",
       "      <td>suv</td>\n",
       "      <td>auto</td>\n",
       "      <td>163</td>\n",
       "      <td>grand</td>\n",
       "      <td>125000</td>\n",
       "      <td>gasoline</td>\n",
       "      <td>jeep</td>\n",
       "      <td>NaN</td>\n",
       "      <td>90480</td>\n",
       "      <td>2004</td>\n",
       "      <td>8</td>\n",
       "      <td>2016-04-05 12:47:46</td>\n",
       "      <td>2016-03-14 00:00:00</td>\n",
       "    </tr>\n",
       "  </tbody>\n",
       "</table>\n",
       "</div>"
      ],
      "text/plain": [
       "   Price VehicleType Gearbox  Power  Model  Kilometer  FuelType       Brand  \\\n",
       "0    480         NaN  manual      0   golf     150000    petrol  volkswagen   \n",
       "1  18300       coupe  manual    190    NaN     125000  gasoline        audi   \n",
       "2   9800         suv    auto    163  grand     125000  gasoline        jeep   \n",
       "\n",
       "  Repaired  PostalCode  RegistrationYear  RegistrationMonth  \\\n",
       "0      NaN       70435              1993                  0   \n",
       "1      yes       66954              2011                  5   \n",
       "2      NaN       90480              2004                  8   \n",
       "\n",
       "             LastSeen          DateCreated  \n",
       "0 2016-04-07 03:16:57  2016-03-24 00:00:00  \n",
       "1 2016-04-07 01:46:50  2016-03-24 00:00:00  \n",
       "2 2016-04-05 12:47:46  2016-03-14 00:00:00  "
      ]
     },
     "execution_count": 44,
     "metadata": {},
     "output_type": "execute_result"
    }
   ],
   "source": [
    "df.head(3)"
   ]
  },
  {
   "cell_type": "code",
   "execution_count": 45,
   "metadata": {},
   "outputs": [],
   "source": [
    "#V1 Отбросим столбец 'RegistrationMonth'\n",
    "df = df.drop('RegistrationMonth', axis=1);"
   ]
  },
  {
   "cell_type": "code",
   "execution_count": 46,
   "metadata": {},
   "outputs": [
    {
     "data": {
      "text/html": [
       "<div>\n",
       "<style scoped>\n",
       "    .dataframe tbody tr th:only-of-type {\n",
       "        vertical-align: middle;\n",
       "    }\n",
       "\n",
       "    .dataframe tbody tr th {\n",
       "        vertical-align: top;\n",
       "    }\n",
       "\n",
       "    .dataframe thead th {\n",
       "        text-align: right;\n",
       "    }\n",
       "</style>\n",
       "<table border=\"1\" class=\"dataframe\">\n",
       "  <thead>\n",
       "    <tr style=\"text-align: right;\">\n",
       "      <th></th>\n",
       "      <th>Price</th>\n",
       "      <th>VehicleType</th>\n",
       "      <th>Gearbox</th>\n",
       "      <th>Power</th>\n",
       "      <th>Model</th>\n",
       "      <th>Kilometer</th>\n",
       "      <th>FuelType</th>\n",
       "      <th>Brand</th>\n",
       "      <th>Repaired</th>\n",
       "      <th>PostalCode</th>\n",
       "      <th>RegistrationYear</th>\n",
       "      <th>LastSeen</th>\n",
       "      <th>DateCreated</th>\n",
       "    </tr>\n",
       "  </thead>\n",
       "  <tbody>\n",
       "    <tr>\n",
       "      <th>0</th>\n",
       "      <td>480</td>\n",
       "      <td>NaN</td>\n",
       "      <td>manual</td>\n",
       "      <td>0</td>\n",
       "      <td>golf</td>\n",
       "      <td>150000</td>\n",
       "      <td>petrol</td>\n",
       "      <td>volkswagen</td>\n",
       "      <td>NaN</td>\n",
       "      <td>70435</td>\n",
       "      <td>1993</td>\n",
       "      <td>2016-04-07 03:16:57</td>\n",
       "      <td>2016-03-24 00:00:00</td>\n",
       "    </tr>\n",
       "    <tr>\n",
       "      <th>1</th>\n",
       "      <td>18300</td>\n",
       "      <td>coupe</td>\n",
       "      <td>manual</td>\n",
       "      <td>190</td>\n",
       "      <td>NaN</td>\n",
       "      <td>125000</td>\n",
       "      <td>gasoline</td>\n",
       "      <td>audi</td>\n",
       "      <td>yes</td>\n",
       "      <td>66954</td>\n",
       "      <td>2011</td>\n",
       "      <td>2016-04-07 01:46:50</td>\n",
       "      <td>2016-03-24 00:00:00</td>\n",
       "    </tr>\n",
       "    <tr>\n",
       "      <th>2</th>\n",
       "      <td>9800</td>\n",
       "      <td>suv</td>\n",
       "      <td>auto</td>\n",
       "      <td>163</td>\n",
       "      <td>grand</td>\n",
       "      <td>125000</td>\n",
       "      <td>gasoline</td>\n",
       "      <td>jeep</td>\n",
       "      <td>NaN</td>\n",
       "      <td>90480</td>\n",
       "      <td>2004</td>\n",
       "      <td>2016-04-05 12:47:46</td>\n",
       "      <td>2016-03-14 00:00:00</td>\n",
       "    </tr>\n",
       "  </tbody>\n",
       "</table>\n",
       "</div>"
      ],
      "text/plain": [
       "   Price VehicleType Gearbox  Power  Model  Kilometer  FuelType       Brand  \\\n",
       "0    480         NaN  manual      0   golf     150000    petrol  volkswagen   \n",
       "1  18300       coupe  manual    190    NaN     125000  gasoline        audi   \n",
       "2   9800         suv    auto    163  grand     125000  gasoline        jeep   \n",
       "\n",
       "  Repaired  PostalCode  RegistrationYear            LastSeen  \\\n",
       "0      NaN       70435              1993 2016-04-07 03:16:57   \n",
       "1      yes       66954              2011 2016-04-07 01:46:50   \n",
       "2      NaN       90480              2004 2016-04-05 12:47:46   \n",
       "\n",
       "           DateCreated  \n",
       "0  2016-03-24 00:00:00  \n",
       "1  2016-03-24 00:00:00  \n",
       "2  2016-03-14 00:00:00  "
      ]
     },
     "execution_count": 46,
     "metadata": {},
     "output_type": "execute_result"
    }
   ],
   "source": [
    "df.head(3)"
   ]
  },
  {
   "cell_type": "code",
   "execution_count": 47,
   "metadata": {},
   "outputs": [],
   "source": [
    "# Сколько дне прошло с момента регистрации авто до размещения объявления\n",
    "# в 'auto_old' запишем разницу от момента регистрации до момента размещения объявления\n",
    "base_date = df[columns_name[12]].min()\n",
    "df['auto_old'] = (pd.to_datetime(df['DateCreated']) - pd.to_datetime(df['RegistrationYear'])).dt.days"
   ]
  },
  {
   "cell_type": "markdown",
   "metadata": {
    "tags": []
   },
   "source": [
    "##### ● 12  <b>DateCreated</b> дата создания\n",
    "    - | object | перевести тип в Data.\n",
    "    - Данные округлить до дня."
   ]
  },
  {
   "cell_type": "code",
   "execution_count": 48,
   "metadata": {},
   "outputs": [
    {
     "data": {
      "text/plain": [
       "Timedelta('759 days 00:00:00')"
      ]
     },
     "execution_count": 48,
     "metadata": {},
     "output_type": "execute_result"
    }
   ],
   "source": [
    "pd.to_datetime(data[columns_name[12]]).max()-pd.to_datetime(data[columns_name[12]]).min()"
   ]
  },
  {
   "cell_type": "code",
   "execution_count": 49,
   "metadata": {},
   "outputs": [
    {
     "name": "stdout",
     "output_type": "stream",
     "text": [
      "2\n"
     ]
    }
   ],
   "source": [
    "print(round(759/365))"
   ]
  },
  {
   "cell_type": "markdown",
   "metadata": {},
   "source": [
    "- В <b>DateCreated</b> присутствует информация о 2-х годах"
   ]
  },
  {
   "cell_type": "code",
   "execution_count": 50,
   "metadata": {},
   "outputs": [
    {
     "data": {
      "text/plain": [
       "'2014-03-10 00:00:00'"
      ]
     },
     "execution_count": 50,
     "metadata": {},
     "output_type": "execute_result"
    }
   ],
   "source": [
    "data[columns_name[12]].min()"
   ]
  },
  {
   "cell_type": "code",
   "execution_count": 51,
   "metadata": {},
   "outputs": [
    {
     "data": {
      "text/plain": [
       "'2016-04-07 00:00:00'"
      ]
     },
     "execution_count": 51,
     "metadata": {},
     "output_type": "execute_result"
    }
   ],
   "source": [
    "data[columns_name[12]].max()"
   ]
  },
  {
   "cell_type": "code",
   "execution_count": 52,
   "metadata": {},
   "outputs": [],
   "source": [
    "# приведем данные к типу data\n",
    "df[columns_name[12]] = pd.to_datetime(data[columns_name[12]])"
   ]
  },
  {
   "cell_type": "code",
   "execution_count": 53,
   "metadata": {},
   "outputs": [],
   "source": [
    "# В 'DateCreated' запишем количество дней сколько прошло с момента размещения объявления days_was_posted\n",
    "df['days_was_posted'] = (pd.to_datetime(df['DateCreated']) - df['DateCreated'].min()).dt.days"
   ]
  },
  {
   "cell_type": "markdown",
   "metadata": {},
   "source": [
    "#####  ● 15  <b>LastSeen</b> дата последней активности пользователя\n",
    "    - | object |\n",
    "    - пока просто поменяем тип данных, переведем в data type\n",
    "    - Влияет на достоверность объявления (если давно неактивен то либо автомобиль продан либо могло измениться характеристика авто)."
   ]
  },
  {
   "cell_type": "code",
   "execution_count": 54,
   "metadata": {},
   "outputs": [],
   "source": [
    "# приведем данные к типу data\n",
    "df[columns_name[15]] = pd.to_datetime(data[columns_name[15]])"
   ]
  },
  {
   "cell_type": "code",
   "execution_count": 55,
   "metadata": {},
   "outputs": [],
   "source": [
    "# Сколько дней прошло с момента публикации до последнего посещения\n",
    "df['days_was_seen'] = (pd.to_datetime(df['LastSeen']) - df['DateCreated'].min()).dt.days\n",
    "\n",
    "# Отбросим старый столбец с датой\n",
    "df = df.drop('LastSeen', axis=1);\n",
    "df = df.drop('DateCreated', axis=1);"
   ]
  },
  {
   "cell_type": "code",
   "execution_count": 56,
   "metadata": {},
   "outputs": [
    {
     "data": {
      "text/html": [
       "<div>\n",
       "<style scoped>\n",
       "    .dataframe tbody tr th:only-of-type {\n",
       "        vertical-align: middle;\n",
       "    }\n",
       "\n",
       "    .dataframe tbody tr th {\n",
       "        vertical-align: top;\n",
       "    }\n",
       "\n",
       "    .dataframe thead th {\n",
       "        text-align: right;\n",
       "    }\n",
       "</style>\n",
       "<table border=\"1\" class=\"dataframe\">\n",
       "  <thead>\n",
       "    <tr style=\"text-align: right;\">\n",
       "      <th></th>\n",
       "      <th>Price</th>\n",
       "      <th>VehicleType</th>\n",
       "      <th>Gearbox</th>\n",
       "      <th>Power</th>\n",
       "      <th>Model</th>\n",
       "      <th>Kilometer</th>\n",
       "      <th>FuelType</th>\n",
       "      <th>Brand</th>\n",
       "      <th>Repaired</th>\n",
       "      <th>PostalCode</th>\n",
       "      <th>RegistrationYear</th>\n",
       "      <th>auto_old</th>\n",
       "      <th>days_was_posted</th>\n",
       "      <th>days_was_seen</th>\n",
       "    </tr>\n",
       "  </thead>\n",
       "  <tbody>\n",
       "    <tr>\n",
       "      <th>0</th>\n",
       "      <td>480</td>\n",
       "      <td>NaN</td>\n",
       "      <td>manual</td>\n",
       "      <td>0</td>\n",
       "      <td>golf</td>\n",
       "      <td>150000</td>\n",
       "      <td>petrol</td>\n",
       "      <td>volkswagen</td>\n",
       "      <td>NaN</td>\n",
       "      <td>70435</td>\n",
       "      <td>1993</td>\n",
       "      <td>16883</td>\n",
       "      <td>745</td>\n",
       "      <td>759</td>\n",
       "    </tr>\n",
       "    <tr>\n",
       "      <th>1</th>\n",
       "      <td>18300</td>\n",
       "      <td>coupe</td>\n",
       "      <td>manual</td>\n",
       "      <td>190</td>\n",
       "      <td>NaN</td>\n",
       "      <td>125000</td>\n",
       "      <td>gasoline</td>\n",
       "      <td>audi</td>\n",
       "      <td>yes</td>\n",
       "      <td>66954</td>\n",
       "      <td>2011</td>\n",
       "      <td>16883</td>\n",
       "      <td>745</td>\n",
       "      <td>759</td>\n",
       "    </tr>\n",
       "    <tr>\n",
       "      <th>2</th>\n",
       "      <td>9800</td>\n",
       "      <td>suv</td>\n",
       "      <td>auto</td>\n",
       "      <td>163</td>\n",
       "      <td>grand</td>\n",
       "      <td>125000</td>\n",
       "      <td>gasoline</td>\n",
       "      <td>jeep</td>\n",
       "      <td>NaN</td>\n",
       "      <td>90480</td>\n",
       "      <td>2004</td>\n",
       "      <td>16873</td>\n",
       "      <td>735</td>\n",
       "      <td>757</td>\n",
       "    </tr>\n",
       "  </tbody>\n",
       "</table>\n",
       "</div>"
      ],
      "text/plain": [
       "   Price VehicleType Gearbox  Power  Model  Kilometer  FuelType       Brand  \\\n",
       "0    480         NaN  manual      0   golf     150000    petrol  volkswagen   \n",
       "1  18300       coupe  manual    190    NaN     125000  gasoline        audi   \n",
       "2   9800         suv    auto    163  grand     125000  gasoline        jeep   \n",
       "\n",
       "  Repaired  PostalCode  RegistrationYear  auto_old  days_was_posted  \\\n",
       "0      NaN       70435              1993     16883              745   \n",
       "1      yes       66954              2011     16883              745   \n",
       "2      NaN       90480              2004     16873              735   \n",
       "\n",
       "   days_was_seen  \n",
       "0            759  \n",
       "1            759  \n",
       "2            757  "
      ]
     },
     "execution_count": 56,
     "metadata": {},
     "output_type": "execute_result"
    }
   ],
   "source": [
    "df.head(3)"
   ]
  },
  {
   "cell_type": "markdown",
   "metadata": {
    "tags": []
   },
   "source": [
    "#### Обработка данных по столбцам"
   ]
  },
  {
   "cell_type": "markdown",
   "metadata": {},
   "source": [
    "##### ● 1 <b>Price</b>. Цена целевой признак.\n",
    "- | int64  |\n",
    "- Имеются выбросы и 0 значения. Возьмем процентиль.\n",
    "- Возьмем строки со значением согласно процентилю 200 -> 16950"
   ]
  },
  {
   "cell_type": "code",
   "execution_count": 57,
   "metadata": {},
   "outputs": [
    {
     "name": "stdout",
     "output_type": "stream",
     "text": [
      "0        10312\n",
      "500       5621\n",
      "1500      5319\n",
      "1000      4607\n",
      "1200      4561\n",
      "         ...  \n",
      "13885        1\n",
      "934          1\n",
      "4516         1\n",
      "2215         1\n",
      "8188         1\n",
      "Name: Price, Length: 3706, dtype: int64\n"
     ]
    }
   ],
   "source": [
    "# Смотрим уникальные значения в столбце\n",
    "print(df[columns_name[1]].value_counts())"
   ]
  },
  {
   "cell_type": "code",
   "execution_count": 58,
   "metadata": {},
   "outputs": [],
   "source": [
    "# Возьмем строки со значением согласно процентилю 200 -> 16950\n",
    "df = df[(df['Price'] > 200) & (df['Price'] < 16950)]\n",
    "\n",
    "# df = df.loc[(df[columns_name[1]]!=0)] # Отбросим 0 значения (пример кода, для себя)"
   ]
  },
  {
   "cell_type": "code",
   "execution_count": 59,
   "metadata": {},
   "outputs": [
    {
     "data": {
      "image/svg+xml": [
       "<?xml version=\"1.0\" encoding=\"utf-8\" standalone=\"no\"?>\n",
       "<!DOCTYPE svg PUBLIC \"-//W3C//DTD SVG 1.1//EN\"\n",
       "  \"http://www.w3.org/Graphics/SVG/1.1/DTD/svg11.dtd\">\n",
       "<!-- Created with matplotlib (https://matplotlib.org/) -->\n",
       "<svg height=\"263.731814pt\" version=\"1.1\" viewBox=\"0 0 412.561728 263.731814\" width=\"412.561728pt\" xmlns=\"http://www.w3.org/2000/svg\" xmlns:xlink=\"http://www.w3.org/1999/xlink\">\n",
       " <metadata>\n",
       "  <rdf:RDF xmlns:cc=\"http://creativecommons.org/ns#\" xmlns:dc=\"http://purl.org/dc/elements/1.1/\" xmlns:rdf=\"http://www.w3.org/1999/02/22-rdf-syntax-ns#\">\n",
       "   <cc:Work>\n",
       "    <dc:type rdf:resource=\"http://purl.org/dc/dcmitype/StillImage\"/>\n",
       "    <dc:date>2023-03-12T16:52:06.522555</dc:date>\n",
       "    <dc:format>image/svg+xml</dc:format>\n",
       "    <dc:creator>\n",
       "     <cc:Agent>\n",
       "      <dc:title>Matplotlib v3.3.4, https://matplotlib.org/</dc:title>\n",
       "     </cc:Agent>\n",
       "    </dc:creator>\n",
       "   </cc:Work>\n",
       "  </rdf:RDF>\n",
       " </metadata>\n",
       " <defs>\n",
       "  <style type=\"text/css\">*{stroke-linecap:butt;stroke-linejoin:round;}</style>\n",
       " </defs>\n",
       " <g id=\"figure_1\">\n",
       "  <g id=\"patch_1\">\n",
       "   <path d=\"M 0 263.731814 \n",
       "L 412.561728 263.731814 \n",
       "L 412.561728 0 \n",
       "L 0 0 \n",
       "z\n",
       "\" style=\"fill:none;\"/>\n",
       "  </g>\n",
       "  <g id=\"axes_1\">\n",
       "   <g id=\"patch_2\">\n",
       "    <path d=\"M 59.690625 226.175564 \n",
       "L 394.490625 226.175564 \n",
       "L 394.490625 8.735564 \n",
       "L 59.690625 8.735564 \n",
       "z\n",
       "\" style=\"fill:#ffffff;\"/>\n",
       "   </g>\n",
       "   <g id=\"patch_3\">\n",
       "    <path clip-path=\"url(#pfe4523ebe4)\" d=\"M 74.908807 226.175564 \n",
       "L 80.99608 226.175564 \n",
       "L 80.99608 66.44299 \n",
       "L 74.908807 66.44299 \n",
       "z\n",
       "\" style=\"fill:#1f77b4;fill-opacity:0.75;stroke:#000000;stroke-linejoin:miter;stroke-width:0.608727;\"/>\n",
       "   </g>\n",
       "   <g id=\"patch_4\">\n",
       "    <path clip-path=\"url(#pfe4523ebe4)\" d=\"M 80.99608 226.175564 \n",
       "L 87.083352 226.175564 \n",
       "L 87.083352 20.108351 \n",
       "L 80.99608 20.108351 \n",
       "z\n",
       "\" style=\"fill:#1f77b4;fill-opacity:0.75;stroke:#000000;stroke-linejoin:miter;stroke-width:0.608727;\"/>\n",
       "   </g>\n",
       "   <g id=\"patch_5\">\n",
       "    <path clip-path=\"url(#pfe4523ebe4)\" d=\"M 87.083352 226.175564 \n",
       "L 93.170625 226.175564 \n",
       "L 93.170625 19.089849 \n",
       "L 87.083352 19.089849 \n",
       "z\n",
       "\" style=\"fill:#1f77b4;fill-opacity:0.75;stroke:#000000;stroke-linejoin:miter;stroke-width:0.608727;\"/>\n",
       "   </g>\n",
       "   <g id=\"patch_6\">\n",
       "    <path clip-path=\"url(#pfe4523ebe4)\" d=\"M 93.170625 226.175564 \n",
       "L 99.257898 226.175564 \n",
       "L 99.257898 69.792569 \n",
       "L 93.170625 69.792569 \n",
       "z\n",
       "\" style=\"fill:#1f77b4;fill-opacity:0.75;stroke:#000000;stroke-linejoin:miter;stroke-width:0.608727;\"/>\n",
       "   </g>\n",
       "   <g id=\"patch_7\">\n",
       "    <path clip-path=\"url(#pfe4523ebe4)\" d=\"M 99.257898 226.175564 \n",
       "L 105.34517 226.175564 \n",
       "L 105.34517 102.133573 \n",
       "L 99.257898 102.133573 \n",
       "z\n",
       "\" style=\"fill:#1f77b4;fill-opacity:0.75;stroke:#000000;stroke-linejoin:miter;stroke-width:0.608727;\"/>\n",
       "   </g>\n",
       "   <g id=\"patch_8\">\n",
       "    <path clip-path=\"url(#pfe4523ebe4)\" d=\"M 105.34517 226.175564 \n",
       "L 111.432443 226.175564 \n",
       "L 111.432443 99.537112 \n",
       "L 105.34517 99.537112 \n",
       "z\n",
       "\" style=\"fill:#1f77b4;fill-opacity:0.75;stroke:#000000;stroke-linejoin:miter;stroke-width:0.608727;\"/>\n",
       "   </g>\n",
       "   <g id=\"patch_9\">\n",
       "    <path clip-path=\"url(#pfe4523ebe4)\" d=\"M 111.432443 226.175564 \n",
       "L 117.519716 226.175564 \n",
       "L 117.519716 123.500584 \n",
       "L 111.432443 123.500584 \n",
       "z\n",
       "\" style=\"fill:#1f77b4;fill-opacity:0.75;stroke:#000000;stroke-linejoin:miter;stroke-width:0.608727;\"/>\n",
       "   </g>\n",
       "   <g id=\"patch_10\">\n",
       "    <path clip-path=\"url(#pfe4523ebe4)\" d=\"M 117.519716 226.175564 \n",
       "L 123.606989 226.175564 \n",
       "L 123.606989 148.210001 \n",
       "L 117.519716 148.210001 \n",
       "z\n",
       "\" style=\"fill:#1f77b4;fill-opacity:0.75;stroke:#000000;stroke-linejoin:miter;stroke-width:0.608727;\"/>\n",
       "   </g>\n",
       "   <g id=\"patch_11\">\n",
       "    <path clip-path=\"url(#pfe4523ebe4)\" d=\"M 123.606989 226.175564 \n",
       "L 129.694261 226.175564 \n",
       "L 129.694261 130.500988 \n",
       "L 123.606989 130.500988 \n",
       "z\n",
       "\" style=\"fill:#1f77b4;fill-opacity:0.75;stroke:#000000;stroke-linejoin:miter;stroke-width:0.608727;\"/>\n",
       "   </g>\n",
       "   <g id=\"patch_12\">\n",
       "    <path clip-path=\"url(#pfe4523ebe4)\" d=\"M 129.694261 226.175564 \n",
       "L 135.781534 226.175564 \n",
       "L 135.781534 150.419145 \n",
       "L 129.694261 150.419145 \n",
       "z\n",
       "\" style=\"fill:#1f77b4;fill-opacity:0.75;stroke:#000000;stroke-linejoin:miter;stroke-width:0.608727;\"/>\n",
       "   </g>\n",
       "   <g id=\"patch_13\">\n",
       "    <path clip-path=\"url(#pfe4523ebe4)\" d=\"M 135.781534 226.175564 \n",
       "L 141.868807 226.175564 \n",
       "L 141.868807 171.169317 \n",
       "L 135.781534 171.169317 \n",
       "z\n",
       "\" style=\"fill:#1f77b4;fill-opacity:0.75;stroke:#000000;stroke-linejoin:miter;stroke-width:0.608727;\"/>\n",
       "   </g>\n",
       "   <g id=\"patch_14\">\n",
       "    <path clip-path=\"url(#pfe4523ebe4)\" d=\"M 141.868807 226.175564 \n",
       "L 147.95608 226.175564 \n",
       "L 147.95608 151.731721 \n",
       "L 141.868807 151.731721 \n",
       "z\n",
       "\" style=\"fill:#1f77b4;fill-opacity:0.75;stroke:#000000;stroke-linejoin:miter;stroke-width:0.608727;\"/>\n",
       "   </g>\n",
       "   <g id=\"patch_15\">\n",
       "    <path clip-path=\"url(#pfe4523ebe4)\" d=\"M 147.95608 226.175564 \n",
       "L 154.043352 226.175564 \n",
       "L 154.043352 168.257264 \n",
       "L 147.95608 168.257264 \n",
       "z\n",
       "\" style=\"fill:#1f77b4;fill-opacity:0.75;stroke:#000000;stroke-linejoin:miter;stroke-width:0.608727;\"/>\n",
       "   </g>\n",
       "   <g id=\"patch_16\">\n",
       "    <path clip-path=\"url(#pfe4523ebe4)\" d=\"M 154.043352 226.175564 \n",
       "L 160.130625 226.175564 \n",
       "L 160.130625 191.58238 \n",
       "L 154.043352 191.58238 \n",
       "z\n",
       "\" style=\"fill:#1f77b4;fill-opacity:0.75;stroke:#000000;stroke-linejoin:miter;stroke-width:0.608727;\"/>\n",
       "   </g>\n",
       "   <g id=\"patch_17\">\n",
       "    <path clip-path=\"url(#pfe4523ebe4)\" d=\"M 160.130625 226.175564 \n",
       "L 166.217898 226.175564 \n",
       "L 166.217898 167.238763 \n",
       "L 160.130625 167.238763 \n",
       "z\n",
       "\" style=\"fill:#1f77b4;fill-opacity:0.75;stroke:#000000;stroke-linejoin:miter;stroke-width:0.608727;\"/>\n",
       "   </g>\n",
       "   <g id=\"patch_18\">\n",
       "    <path clip-path=\"url(#pfe4523ebe4)\" d=\"M 166.217898 226.175564 \n",
       "L 172.30517 226.175564 \n",
       "L 172.30517 180.680112 \n",
       "L 166.217898 180.680112 \n",
       "z\n",
       "\" style=\"fill:#1f77b4;fill-opacity:0.75;stroke:#000000;stroke-linejoin:miter;stroke-width:0.608727;\"/>\n",
       "   </g>\n",
       "   <g id=\"patch_19\">\n",
       "    <path clip-path=\"url(#pfe4523ebe4)\" d=\"M 172.30517 226.175564 \n",
       "L 178.392443 226.175564 \n",
       "L 178.392443 198.747752 \n",
       "L 172.30517 198.747752 \n",
       "z\n",
       "\" style=\"fill:#1f77b4;fill-opacity:0.75;stroke:#000000;stroke-linejoin:miter;stroke-width:0.608727;\"/>\n",
       "   </g>\n",
       "   <g id=\"patch_20\">\n",
       "    <path clip-path=\"url(#pfe4523ebe4)\" d=\"M 178.392443 226.175564 \n",
       "L 184.479716 226.175564 \n",
       "L 184.479716 176.606106 \n",
       "L 178.392443 176.606106 \n",
       "z\n",
       "\" style=\"fill:#1f77b4;fill-opacity:0.75;stroke:#000000;stroke-linejoin:miter;stroke-width:0.608727;\"/>\n",
       "   </g>\n",
       "   <g id=\"patch_21\">\n",
       "    <path clip-path=\"url(#pfe4523ebe4)\" d=\"M 184.479716 226.175564 \n",
       "L 190.566989 226.175564 \n",
       "L 190.566989 185.994967 \n",
       "L 184.479716 185.994967 \n",
       "z\n",
       "\" style=\"fill:#1f77b4;fill-opacity:0.75;stroke:#000000;stroke-linejoin:miter;stroke-width:0.608727;\"/>\n",
       "   </g>\n",
       "   <g id=\"patch_22\">\n",
       "    <path clip-path=\"url(#pfe4523ebe4)\" d=\"M 190.566989 226.175564 \n",
       "L 196.654261 226.175564 \n",
       "L 196.654261 202.212091 \n",
       "L 190.566989 202.212091 \n",
       "z\n",
       "\" style=\"fill:#1f77b4;fill-opacity:0.75;stroke:#000000;stroke-linejoin:miter;stroke-width:0.608727;\"/>\n",
       "   </g>\n",
       "   <g id=\"patch_23\">\n",
       "    <path clip-path=\"url(#pfe4523ebe4)\" d=\"M 196.654261 226.175564 \n",
       "L 202.741534 226.175564 \n",
       "L 202.741534 183.21202 \n",
       "L 196.654261 183.21202 \n",
       "z\n",
       "\" style=\"fill:#1f77b4;fill-opacity:0.75;stroke:#000000;stroke-linejoin:miter;stroke-width:0.608727;\"/>\n",
       "   </g>\n",
       "   <g id=\"patch_24\">\n",
       "    <path clip-path=\"url(#pfe4523ebe4)\" d=\"M 202.741534 226.175564 \n",
       "L 208.828807 226.175564 \n",
       "L 208.828807 192.945163 \n",
       "L 202.741534 192.945163 \n",
       "z\n",
       "\" style=\"fill:#1f77b4;fill-opacity:0.75;stroke:#000000;stroke-linejoin:miter;stroke-width:0.608727;\"/>\n",
       "   </g>\n",
       "   <g id=\"patch_25\">\n",
       "    <path clip-path=\"url(#pfe4523ebe4)\" d=\"M 208.828807 226.175564 \n",
       "L 214.91608 226.175564 \n",
       "L 214.91608 199.077689 \n",
       "L 208.828807 199.077689 \n",
       "z\n",
       "\" style=\"fill:#1f77b4;fill-opacity:0.75;stroke:#000000;stroke-linejoin:miter;stroke-width:0.608727;\"/>\n",
       "   </g>\n",
       "   <g id=\"patch_26\">\n",
       "    <path clip-path=\"url(#pfe4523ebe4)\" d=\"M 214.91608 226.175564 \n",
       "L 221.003352 226.175564 \n",
       "L 221.003352 198.625819 \n",
       "L 214.91608 198.625819 \n",
       "z\n",
       "\" style=\"fill:#1f77b4;fill-opacity:0.75;stroke:#000000;stroke-linejoin:miter;stroke-width:0.608727;\"/>\n",
       "   </g>\n",
       "   <g id=\"patch_27\">\n",
       "    <path clip-path=\"url(#pfe4523ebe4)\" d=\"M 221.003352 226.175564 \n",
       "L 227.090625 226.175564 \n",
       "L 227.090625 197.270208 \n",
       "L 221.003352 197.270208 \n",
       "z\n",
       "\" style=\"fill:#1f77b4;fill-opacity:0.75;stroke:#000000;stroke-linejoin:miter;stroke-width:0.608727;\"/>\n",
       "   </g>\n",
       "   <g id=\"patch_28\">\n",
       "    <path clip-path=\"url(#pfe4523ebe4)\" d=\"M 227.090625 226.175564 \n",
       "L 233.177898 226.175564 \n",
       "L 233.177898 202.190574 \n",
       "L 227.090625 202.190574 \n",
       "z\n",
       "\" style=\"fill:#1f77b4;fill-opacity:0.75;stroke:#000000;stroke-linejoin:miter;stroke-width:0.608727;\"/>\n",
       "   </g>\n",
       "   <g id=\"patch_29\">\n",
       "    <path clip-path=\"url(#pfe4523ebe4)\" d=\"M 233.177898 226.175564 \n",
       "L 239.26517 226.175564 \n",
       "L 239.26517 203.510322 \n",
       "L 233.177898 203.510322 \n",
       "z\n",
       "\" style=\"fill:#1f77b4;fill-opacity:0.75;stroke:#000000;stroke-linejoin:miter;stroke-width:0.608727;\"/>\n",
       "   </g>\n",
       "   <g id=\"patch_30\">\n",
       "    <path clip-path=\"url(#pfe4523ebe4)\" d=\"M 239.26517 226.175564 \n",
       "L 245.352443 226.175564 \n",
       "L 245.352443 203.610738 \n",
       "L 239.26517 203.610738 \n",
       "z\n",
       "\" style=\"fill:#1f77b4;fill-opacity:0.75;stroke:#000000;stroke-linejoin:miter;stroke-width:0.608727;\"/>\n",
       "   </g>\n",
       "   <g id=\"patch_31\">\n",
       "    <path clip-path=\"url(#pfe4523ebe4)\" d=\"M 245.352443 226.175564 \n",
       "L 251.439716 226.175564 \n",
       "L 251.439716 207.405014 \n",
       "L 245.352443 207.405014 \n",
       "z\n",
       "\" style=\"fill:#1f77b4;fill-opacity:0.75;stroke:#000000;stroke-linejoin:miter;stroke-width:0.608727;\"/>\n",
       "   </g>\n",
       "   <g id=\"patch_32\">\n",
       "    <path clip-path=\"url(#pfe4523ebe4)\" d=\"M 251.439716 226.175564 \n",
       "L 257.526989 226.175564 \n",
       "L 257.526989 203.366871 \n",
       "L 251.439716 203.366871 \n",
       "z\n",
       "\" style=\"fill:#1f77b4;fill-opacity:0.75;stroke:#000000;stroke-linejoin:miter;stroke-width:0.608727;\"/>\n",
       "   </g>\n",
       "   <g id=\"patch_33\">\n",
       "    <path clip-path=\"url(#pfe4523ebe4)\" d=\"M 257.526989 226.175564 \n",
       "L 263.614261 226.175564 \n",
       "L 263.614261 208.430688 \n",
       "L 257.526989 208.430688 \n",
       "z\n",
       "\" style=\"fill:#1f77b4;fill-opacity:0.75;stroke:#000000;stroke-linejoin:miter;stroke-width:0.608727;\"/>\n",
       "   </g>\n",
       "   <g id=\"patch_34\">\n",
       "    <path clip-path=\"url(#pfe4523ebe4)\" d=\"M 263.614261 226.175564 \n",
       "L 269.701534 226.175564 \n",
       "L 269.701534 211.737231 \n",
       "L 263.614261 211.737231 \n",
       "z\n",
       "\" style=\"fill:#1f77b4;fill-opacity:0.75;stroke:#000000;stroke-linejoin:miter;stroke-width:0.608727;\"/>\n",
       "   </g>\n",
       "   <g id=\"patch_35\">\n",
       "    <path clip-path=\"url(#pfe4523ebe4)\" d=\"M 269.701534 226.175564 \n",
       "L 275.788807 226.175564 \n",
       "L 275.788807 210.35293 \n",
       "L 269.701534 210.35293 \n",
       "z\n",
       "\" style=\"fill:#1f77b4;fill-opacity:0.75;stroke:#000000;stroke-linejoin:miter;stroke-width:0.608727;\"/>\n",
       "   </g>\n",
       "   <g id=\"patch_36\">\n",
       "    <path clip-path=\"url(#pfe4523ebe4)\" d=\"M 275.788807 226.175564 \n",
       "L 281.87608 226.175564 \n",
       "L 281.87608 211.292533 \n",
       "L 275.788807 211.292533 \n",
       "z\n",
       "\" style=\"fill:#1f77b4;fill-opacity:0.75;stroke:#000000;stroke-linejoin:miter;stroke-width:0.608727;\"/>\n",
       "   </g>\n",
       "   <g id=\"patch_37\">\n",
       "    <path clip-path=\"url(#pfe4523ebe4)\" d=\"M 281.87608 226.175564 \n",
       "L 287.963352 226.175564 \n",
       "L 287.963352 213.93203 \n",
       "L 281.87608 213.93203 \n",
       "z\n",
       "\" style=\"fill:#1f77b4;fill-opacity:0.75;stroke:#000000;stroke-linejoin:miter;stroke-width:0.608727;\"/>\n",
       "   </g>\n",
       "   <g id=\"patch_38\">\n",
       "    <path clip-path=\"url(#pfe4523ebe4)\" d=\"M 287.963352 226.175564 \n",
       "L 294.050625 226.175564 \n",
       "L 294.050625 211.428811 \n",
       "L 287.963352 211.428811 \n",
       "z\n",
       "\" style=\"fill:#1f77b4;fill-opacity:0.75;stroke:#000000;stroke-linejoin:miter;stroke-width:0.608727;\"/>\n",
       "   </g>\n",
       "   <g id=\"patch_39\">\n",
       "    <path clip-path=\"url(#pfe4523ebe4)\" d=\"M 294.050625 226.175564 \n",
       "L 300.137898 226.175564 \n",
       "L 300.137898 211.177772 \n",
       "L 294.050625 211.177772 \n",
       "z\n",
       "\" style=\"fill:#1f77b4;fill-opacity:0.75;stroke:#000000;stroke-linejoin:miter;stroke-width:0.608727;\"/>\n",
       "   </g>\n",
       "   <g id=\"patch_40\">\n",
       "    <path clip-path=\"url(#pfe4523ebe4)\" d=\"M 300.137898 226.175564 \n",
       "L 306.22517 226.175564 \n",
       "L 306.22517 213.752716 \n",
       "L 300.137898 213.752716 \n",
       "z\n",
       "\" style=\"fill:#1f77b4;fill-opacity:0.75;stroke:#000000;stroke-linejoin:miter;stroke-width:0.608727;\"/>\n",
       "   </g>\n",
       "   <g id=\"patch_41\">\n",
       "    <path clip-path=\"url(#pfe4523ebe4)\" d=\"M 306.22517 226.175564 \n",
       "L 312.312443 226.175564 \n",
       "L 312.312443 212.827458 \n",
       "L 306.22517 212.827458 \n",
       "z\n",
       "\" style=\"fill:#1f77b4;fill-opacity:0.75;stroke:#000000;stroke-linejoin:miter;stroke-width:0.608727;\"/>\n",
       "   </g>\n",
       "   <g id=\"patch_42\">\n",
       "    <path clip-path=\"url(#pfe4523ebe4)\" d=\"M 312.312443 226.175564 \n",
       "L 318.399716 226.175564 \n",
       "L 318.399716 214.111343 \n",
       "L 312.312443 214.111343 \n",
       "z\n",
       "\" style=\"fill:#1f77b4;fill-opacity:0.75;stroke:#000000;stroke-linejoin:miter;stroke-width:0.608727;\"/>\n",
       "   </g>\n",
       "   <g id=\"patch_43\">\n",
       "    <path clip-path=\"url(#pfe4523ebe4)\" d=\"M 318.399716 226.175564 \n",
       "L 324.486989 226.175564 \n",
       "L 324.486989 215.266123 \n",
       "L 318.399716 215.266123 \n",
       "z\n",
       "\" style=\"fill:#1f77b4;fill-opacity:0.75;stroke:#000000;stroke-linejoin:miter;stroke-width:0.608727;\"/>\n",
       "   </g>\n",
       "   <g id=\"patch_44\">\n",
       "    <path clip-path=\"url(#pfe4523ebe4)\" d=\"M 324.486989 226.175564 \n",
       "L 330.574261 226.175564 \n",
       "L 330.574261 214.039618 \n",
       "L 324.486989 214.039618 \n",
       "z\n",
       "\" style=\"fill:#1f77b4;fill-opacity:0.75;stroke:#000000;stroke-linejoin:miter;stroke-width:0.608727;\"/>\n",
       "   </g>\n",
       "   <g id=\"patch_45\">\n",
       "    <path clip-path=\"url(#pfe4523ebe4)\" d=\"M 330.574261 226.175564 \n",
       "L 336.661534 226.175564 \n",
       "L 336.661534 215.474127 \n",
       "L 330.574261 215.474127 \n",
       "z\n",
       "\" style=\"fill:#1f77b4;fill-opacity:0.75;stroke:#000000;stroke-linejoin:miter;stroke-width:0.608727;\"/>\n",
       "   </g>\n",
       "   <g id=\"patch_46\">\n",
       "    <path clip-path=\"url(#pfe4523ebe4)\" d=\"M 336.661534 226.175564 \n",
       "L 342.748807 226.175564 \n",
       "L 342.748807 216.255934 \n",
       "L 336.661534 216.255934 \n",
       "z\n",
       "\" style=\"fill:#1f77b4;fill-opacity:0.75;stroke:#000000;stroke-linejoin:miter;stroke-width:0.608727;\"/>\n",
       "   </g>\n",
       "   <g id=\"patch_47\">\n",
       "    <path clip-path=\"url(#pfe4523ebe4)\" d=\"M 342.748807 226.175564 \n",
       "L 348.83608 226.175564 \n",
       "L 348.83608 214.505833 \n",
       "L 342.748807 214.505833 \n",
       "z\n",
       "\" style=\"fill:#1f77b4;fill-opacity:0.75;stroke:#000000;stroke-linejoin:miter;stroke-width:0.608727;\"/>\n",
       "   </g>\n",
       "   <g id=\"patch_48\">\n",
       "    <path clip-path=\"url(#pfe4523ebe4)\" d=\"M 348.83608 226.175564 \n",
       "L 354.923352 226.175564 \n",
       "L 354.923352 216.313314 \n",
       "L 348.83608 216.313314 \n",
       "z\n",
       "\" style=\"fill:#1f77b4;fill-opacity:0.75;stroke:#000000;stroke-linejoin:miter;stroke-width:0.608727;\"/>\n",
       "   </g>\n",
       "   <g id=\"patch_49\">\n",
       "    <path clip-path=\"url(#pfe4523ebe4)\" d=\"M 354.923352 226.175564 \n",
       "L 361.010625 226.175564 \n",
       "L 361.010625 218.766325 \n",
       "L 354.923352 218.766325 \n",
       "z\n",
       "\" style=\"fill:#1f77b4;fill-opacity:0.75;stroke:#000000;stroke-linejoin:miter;stroke-width:0.608727;\"/>\n",
       "   </g>\n",
       "   <g id=\"patch_50\">\n",
       "    <path clip-path=\"url(#pfe4523ebe4)\" d=\"M 361.010625 226.175564 \n",
       "L 367.097898 226.175564 \n",
       "L 367.097898 217.604373 \n",
       "L 361.010625 217.604373 \n",
       "z\n",
       "\" style=\"fill:#1f77b4;fill-opacity:0.75;stroke:#000000;stroke-linejoin:miter;stroke-width:0.608727;\"/>\n",
       "   </g>\n",
       "   <g id=\"patch_51\">\n",
       "    <path clip-path=\"url(#pfe4523ebe4)\" d=\"M 367.097898 226.175564 \n",
       "L 373.18517 226.175564 \n",
       "L 373.18517 217.2314 \n",
       "L 367.097898 217.2314 \n",
       "z\n",
       "\" style=\"fill:#1f77b4;fill-opacity:0.75;stroke:#000000;stroke-linejoin:miter;stroke-width:0.608727;\"/>\n",
       "   </g>\n",
       "   <g id=\"patch_52\">\n",
       "    <path clip-path=\"url(#pfe4523ebe4)\" d=\"M 373.18517 226.175564 \n",
       "L 379.272443 226.175564 \n",
       "L 379.272443 218.730462 \n",
       "L 373.18517 218.730462 \n",
       "z\n",
       "\" style=\"fill:#1f77b4;fill-opacity:0.75;stroke:#000000;stroke-linejoin:miter;stroke-width:0.608727;\"/>\n",
       "   </g>\n",
       "   <g id=\"matplotlib.axis_1\">\n",
       "    <g id=\"xtick_1\">\n",
       "     <g id=\"line2d_1\">\n",
       "      <defs>\n",
       "       <path d=\"M 0 0 \n",
       "L 0 3.5 \n",
       "\" id=\"m380517b597\" style=\"stroke:#000000;stroke-width:0.8;\"/>\n",
       "      </defs>\n",
       "      <g>\n",
       "       <use style=\"stroke:#000000;stroke-width:0.8;\" x=\"71.235641\" xlink:href=\"#m380517b597\" y=\"226.175564\"/>\n",
       "      </g>\n",
       "     </g>\n",
       "     <g id=\"text_1\">\n",
       "      <!-- 0 -->\n",
       "      <g transform=\"translate(68.054391 240.774001)scale(0.1 -0.1)\">\n",
       "       <defs>\n",
       "        <path d=\"M 31.78125 66.40625 \n",
       "Q 24.171875 66.40625 20.328125 58.90625 \n",
       "Q 16.5 51.421875 16.5 36.375 \n",
       "Q 16.5 21.390625 20.328125 13.890625 \n",
       "Q 24.171875 6.390625 31.78125 6.390625 \n",
       "Q 39.453125 6.390625 43.28125 13.890625 \n",
       "Q 47.125 21.390625 47.125 36.375 \n",
       "Q 47.125 51.421875 43.28125 58.90625 \n",
       "Q 39.453125 66.40625 31.78125 66.40625 \n",
       "z\n",
       "M 31.78125 74.21875 \n",
       "Q 44.046875 74.21875 50.515625 64.515625 \n",
       "Q 56.984375 54.828125 56.984375 36.375 \n",
       "Q 56.984375 17.96875 50.515625 8.265625 \n",
       "Q 44.046875 -1.421875 31.78125 -1.421875 \n",
       "Q 19.53125 -1.421875 13.0625 8.265625 \n",
       "Q 6.59375 17.96875 6.59375 36.375 \n",
       "Q 6.59375 54.828125 13.0625 64.515625 \n",
       "Q 19.53125 74.21875 31.78125 74.21875 \n",
       "z\n",
       "\" id=\"DejaVuSans-48\"/>\n",
       "       </defs>\n",
       "       <use xlink:href=\"#DejaVuSans-48\"/>\n",
       "      </g>\n",
       "     </g>\n",
       "    </g>\n",
       "    <g id=\"xtick_2\">\n",
       "     <g id=\"line2d_2\">\n",
       "      <g>\n",
       "       <use style=\"stroke:#000000;stroke-width:0.8;\" x=\"116.695617\" xlink:href=\"#m380517b597\" y=\"226.175564\"/>\n",
       "      </g>\n",
       "     </g>\n",
       "     <g id=\"text_2\">\n",
       "      <!-- 2500 -->\n",
       "      <g transform=\"translate(103.970617 240.774001)scale(0.1 -0.1)\">\n",
       "       <defs>\n",
       "        <path d=\"M 19.1875 8.296875 \n",
       "L 53.609375 8.296875 \n",
       "L 53.609375 0 \n",
       "L 7.328125 0 \n",
       "L 7.328125 8.296875 \n",
       "Q 12.9375 14.109375 22.625 23.890625 \n",
       "Q 32.328125 33.6875 34.8125 36.53125 \n",
       "Q 39.546875 41.84375 41.421875 45.53125 \n",
       "Q 43.3125 49.21875 43.3125 52.78125 \n",
       "Q 43.3125 58.59375 39.234375 62.25 \n",
       "Q 35.15625 65.921875 28.609375 65.921875 \n",
       "Q 23.96875 65.921875 18.8125 64.3125 \n",
       "Q 13.671875 62.703125 7.8125 59.421875 \n",
       "L 7.8125 69.390625 \n",
       "Q 13.765625 71.78125 18.9375 73 \n",
       "Q 24.125 74.21875 28.421875 74.21875 \n",
       "Q 39.75 74.21875 46.484375 68.546875 \n",
       "Q 53.21875 62.890625 53.21875 53.421875 \n",
       "Q 53.21875 48.921875 51.53125 44.890625 \n",
       "Q 49.859375 40.875 45.40625 35.40625 \n",
       "Q 44.1875 33.984375 37.640625 27.21875 \n",
       "Q 31.109375 20.453125 19.1875 8.296875 \n",
       "z\n",
       "\" id=\"DejaVuSans-50\"/>\n",
       "        <path d=\"M 10.796875 72.90625 \n",
       "L 49.515625 72.90625 \n",
       "L 49.515625 64.59375 \n",
       "L 19.828125 64.59375 \n",
       "L 19.828125 46.734375 \n",
       "Q 21.96875 47.46875 24.109375 47.828125 \n",
       "Q 26.265625 48.1875 28.421875 48.1875 \n",
       "Q 40.625 48.1875 47.75 41.5 \n",
       "Q 54.890625 34.8125 54.890625 23.390625 \n",
       "Q 54.890625 11.625 47.5625 5.09375 \n",
       "Q 40.234375 -1.421875 26.90625 -1.421875 \n",
       "Q 22.3125 -1.421875 17.546875 -0.640625 \n",
       "Q 12.796875 0.140625 7.71875 1.703125 \n",
       "L 7.71875 11.625 \n",
       "Q 12.109375 9.234375 16.796875 8.0625 \n",
       "Q 21.484375 6.890625 26.703125 6.890625 \n",
       "Q 35.15625 6.890625 40.078125 11.328125 \n",
       "Q 45.015625 15.765625 45.015625 23.390625 \n",
       "Q 45.015625 31 40.078125 35.4375 \n",
       "Q 35.15625 39.890625 26.703125 39.890625 \n",
       "Q 22.75 39.890625 18.8125 39.015625 \n",
       "Q 14.890625 38.140625 10.796875 36.28125 \n",
       "z\n",
       "\" id=\"DejaVuSans-53\"/>\n",
       "       </defs>\n",
       "       <use xlink:href=\"#DejaVuSans-50\"/>\n",
       "       <use x=\"63.623047\" xlink:href=\"#DejaVuSans-53\"/>\n",
       "       <use x=\"127.246094\" xlink:href=\"#DejaVuSans-48\"/>\n",
       "       <use x=\"190.869141\" xlink:href=\"#DejaVuSans-48\"/>\n",
       "      </g>\n",
       "     </g>\n",
       "    </g>\n",
       "    <g id=\"xtick_3\">\n",
       "     <g id=\"line2d_3\">\n",
       "      <g>\n",
       "       <use style=\"stroke:#000000;stroke-width:0.8;\" x=\"162.155594\" xlink:href=\"#m380517b597\" y=\"226.175564\"/>\n",
       "      </g>\n",
       "     </g>\n",
       "     <g id=\"text_3\">\n",
       "      <!-- 5000 -->\n",
       "      <g transform=\"translate(149.430594 240.774001)scale(0.1 -0.1)\">\n",
       "       <use xlink:href=\"#DejaVuSans-53\"/>\n",
       "       <use x=\"63.623047\" xlink:href=\"#DejaVuSans-48\"/>\n",
       "       <use x=\"127.246094\" xlink:href=\"#DejaVuSans-48\"/>\n",
       "       <use x=\"190.869141\" xlink:href=\"#DejaVuSans-48\"/>\n",
       "      </g>\n",
       "     </g>\n",
       "    </g>\n",
       "    <g id=\"xtick_4\">\n",
       "     <g id=\"line2d_4\">\n",
       "      <g>\n",
       "       <use style=\"stroke:#000000;stroke-width:0.8;\" x=\"207.615571\" xlink:href=\"#m380517b597\" y=\"226.175564\"/>\n",
       "      </g>\n",
       "     </g>\n",
       "     <g id=\"text_4\">\n",
       "      <!-- 7500 -->\n",
       "      <g transform=\"translate(194.890571 240.774001)scale(0.1 -0.1)\">\n",
       "       <defs>\n",
       "        <path d=\"M 8.203125 72.90625 \n",
       "L 55.078125 72.90625 \n",
       "L 55.078125 68.703125 \n",
       "L 28.609375 0 \n",
       "L 18.3125 0 \n",
       "L 43.21875 64.59375 \n",
       "L 8.203125 64.59375 \n",
       "z\n",
       "\" id=\"DejaVuSans-55\"/>\n",
       "       </defs>\n",
       "       <use xlink:href=\"#DejaVuSans-55\"/>\n",
       "       <use x=\"63.623047\" xlink:href=\"#DejaVuSans-53\"/>\n",
       "       <use x=\"127.246094\" xlink:href=\"#DejaVuSans-48\"/>\n",
       "       <use x=\"190.869141\" xlink:href=\"#DejaVuSans-48\"/>\n",
       "      </g>\n",
       "     </g>\n",
       "    </g>\n",
       "    <g id=\"xtick_5\">\n",
       "     <g id=\"line2d_5\">\n",
       "      <g>\n",
       "       <use style=\"stroke:#000000;stroke-width:0.8;\" x=\"253.075548\" xlink:href=\"#m380517b597\" y=\"226.175564\"/>\n",
       "      </g>\n",
       "     </g>\n",
       "     <g id=\"text_5\">\n",
       "      <!-- 10000 -->\n",
       "      <g transform=\"translate(237.169298 240.774001)scale(0.1 -0.1)\">\n",
       "       <defs>\n",
       "        <path d=\"M 12.40625 8.296875 \n",
       "L 28.515625 8.296875 \n",
       "L 28.515625 63.921875 \n",
       "L 10.984375 60.40625 \n",
       "L 10.984375 69.390625 \n",
       "L 28.421875 72.90625 \n",
       "L 38.28125 72.90625 \n",
       "L 38.28125 8.296875 \n",
       "L 54.390625 8.296875 \n",
       "L 54.390625 0 \n",
       "L 12.40625 0 \n",
       "z\n",
       "\" id=\"DejaVuSans-49\"/>\n",
       "       </defs>\n",
       "       <use xlink:href=\"#DejaVuSans-49\"/>\n",
       "       <use x=\"63.623047\" xlink:href=\"#DejaVuSans-48\"/>\n",
       "       <use x=\"127.246094\" xlink:href=\"#DejaVuSans-48\"/>\n",
       "       <use x=\"190.869141\" xlink:href=\"#DejaVuSans-48\"/>\n",
       "       <use x=\"254.492188\" xlink:href=\"#DejaVuSans-48\"/>\n",
       "      </g>\n",
       "     </g>\n",
       "    </g>\n",
       "    <g id=\"xtick_6\">\n",
       "     <g id=\"line2d_6\">\n",
       "      <g>\n",
       "       <use style=\"stroke:#000000;stroke-width:0.8;\" x=\"298.535524\" xlink:href=\"#m380517b597\" y=\"226.175564\"/>\n",
       "      </g>\n",
       "     </g>\n",
       "     <g id=\"text_6\">\n",
       "      <!-- 12500 -->\n",
       "      <g transform=\"translate(282.629274 240.774001)scale(0.1 -0.1)\">\n",
       "       <use xlink:href=\"#DejaVuSans-49\"/>\n",
       "       <use x=\"63.623047\" xlink:href=\"#DejaVuSans-50\"/>\n",
       "       <use x=\"127.246094\" xlink:href=\"#DejaVuSans-53\"/>\n",
       "       <use x=\"190.869141\" xlink:href=\"#DejaVuSans-48\"/>\n",
       "       <use x=\"254.492188\" xlink:href=\"#DejaVuSans-48\"/>\n",
       "      </g>\n",
       "     </g>\n",
       "    </g>\n",
       "    <g id=\"xtick_7\">\n",
       "     <g id=\"line2d_7\">\n",
       "      <g>\n",
       "       <use style=\"stroke:#000000;stroke-width:0.8;\" x=\"343.995501\" xlink:href=\"#m380517b597\" y=\"226.175564\"/>\n",
       "      </g>\n",
       "     </g>\n",
       "     <g id=\"text_7\">\n",
       "      <!-- 15000 -->\n",
       "      <g transform=\"translate(328.089251 240.774001)scale(0.1 -0.1)\">\n",
       "       <use xlink:href=\"#DejaVuSans-49\"/>\n",
       "       <use x=\"63.623047\" xlink:href=\"#DejaVuSans-53\"/>\n",
       "       <use x=\"127.246094\" xlink:href=\"#DejaVuSans-48\"/>\n",
       "       <use x=\"190.869141\" xlink:href=\"#DejaVuSans-48\"/>\n",
       "       <use x=\"254.492188\" xlink:href=\"#DejaVuSans-48\"/>\n",
       "      </g>\n",
       "     </g>\n",
       "    </g>\n",
       "    <g id=\"xtick_8\">\n",
       "     <g id=\"line2d_8\">\n",
       "      <g>\n",
       "       <use style=\"stroke:#000000;stroke-width:0.8;\" x=\"389.455478\" xlink:href=\"#m380517b597\" y=\"226.175564\"/>\n",
       "      </g>\n",
       "     </g>\n",
       "     <g id=\"text_8\">\n",
       "      <!-- 17500 -->\n",
       "      <g transform=\"translate(373.549228 240.774001)scale(0.1 -0.1)\">\n",
       "       <use xlink:href=\"#DejaVuSans-49\"/>\n",
       "       <use x=\"63.623047\" xlink:href=\"#DejaVuSans-55\"/>\n",
       "       <use x=\"127.246094\" xlink:href=\"#DejaVuSans-53\"/>\n",
       "       <use x=\"190.869141\" xlink:href=\"#DejaVuSans-48\"/>\n",
       "       <use x=\"254.492188\" xlink:href=\"#DejaVuSans-48\"/>\n",
       "      </g>\n",
       "     </g>\n",
       "    </g>\n",
       "    <g id=\"text_9\">\n",
       "     <!-- Price -->\n",
       "     <g transform=\"translate(214.892969 254.452126)scale(0.1 -0.1)\">\n",
       "      <defs>\n",
       "       <path d=\"M 19.671875 64.796875 \n",
       "L 19.671875 37.40625 \n",
       "L 32.078125 37.40625 \n",
       "Q 38.96875 37.40625 42.71875 40.96875 \n",
       "Q 46.484375 44.53125 46.484375 51.125 \n",
       "Q 46.484375 57.671875 42.71875 61.234375 \n",
       "Q 38.96875 64.796875 32.078125 64.796875 \n",
       "z\n",
       "M 9.8125 72.90625 \n",
       "L 32.078125 72.90625 \n",
       "Q 44.34375 72.90625 50.609375 67.359375 \n",
       "Q 56.890625 61.8125 56.890625 51.125 \n",
       "Q 56.890625 40.328125 50.609375 34.8125 \n",
       "Q 44.34375 29.296875 32.078125 29.296875 \n",
       "L 19.671875 29.296875 \n",
       "L 19.671875 0 \n",
       "L 9.8125 0 \n",
       "z\n",
       "\" id=\"DejaVuSans-80\"/>\n",
       "       <path d=\"M 41.109375 46.296875 \n",
       "Q 39.59375 47.171875 37.8125 47.578125 \n",
       "Q 36.03125 48 33.890625 48 \n",
       "Q 26.265625 48 22.1875 43.046875 \n",
       "Q 18.109375 38.09375 18.109375 28.8125 \n",
       "L 18.109375 0 \n",
       "L 9.078125 0 \n",
       "L 9.078125 54.6875 \n",
       "L 18.109375 54.6875 \n",
       "L 18.109375 46.1875 \n",
       "Q 20.953125 51.171875 25.484375 53.578125 \n",
       "Q 30.03125 56 36.53125 56 \n",
       "Q 37.453125 56 38.578125 55.875 \n",
       "Q 39.703125 55.765625 41.0625 55.515625 \n",
       "z\n",
       "\" id=\"DejaVuSans-114\"/>\n",
       "       <path d=\"M 9.421875 54.6875 \n",
       "L 18.40625 54.6875 \n",
       "L 18.40625 0 \n",
       "L 9.421875 0 \n",
       "z\n",
       "M 9.421875 75.984375 \n",
       "L 18.40625 75.984375 \n",
       "L 18.40625 64.59375 \n",
       "L 9.421875 64.59375 \n",
       "z\n",
       "\" id=\"DejaVuSans-105\"/>\n",
       "       <path d=\"M 48.78125 52.59375 \n",
       "L 48.78125 44.1875 \n",
       "Q 44.96875 46.296875 41.140625 47.34375 \n",
       "Q 37.3125 48.390625 33.40625 48.390625 \n",
       "Q 24.65625 48.390625 19.8125 42.84375 \n",
       "Q 14.984375 37.3125 14.984375 27.296875 \n",
       "Q 14.984375 17.28125 19.8125 11.734375 \n",
       "Q 24.65625 6.203125 33.40625 6.203125 \n",
       "Q 37.3125 6.203125 41.140625 7.25 \n",
       "Q 44.96875 8.296875 48.78125 10.40625 \n",
       "L 48.78125 2.09375 \n",
       "Q 45.015625 0.34375 40.984375 -0.53125 \n",
       "Q 36.96875 -1.421875 32.421875 -1.421875 \n",
       "Q 20.0625 -1.421875 12.78125 6.34375 \n",
       "Q 5.515625 14.109375 5.515625 27.296875 \n",
       "Q 5.515625 40.671875 12.859375 48.328125 \n",
       "Q 20.21875 56 33.015625 56 \n",
       "Q 37.15625 56 41.109375 55.140625 \n",
       "Q 45.0625 54.296875 48.78125 52.59375 \n",
       "z\n",
       "\" id=\"DejaVuSans-99\"/>\n",
       "       <path d=\"M 56.203125 29.59375 \n",
       "L 56.203125 25.203125 \n",
       "L 14.890625 25.203125 \n",
       "Q 15.484375 15.921875 20.484375 11.0625 \n",
       "Q 25.484375 6.203125 34.421875 6.203125 \n",
       "Q 39.59375 6.203125 44.453125 7.46875 \n",
       "Q 49.3125 8.734375 54.109375 11.28125 \n",
       "L 54.109375 2.78125 \n",
       "Q 49.265625 0.734375 44.1875 -0.34375 \n",
       "Q 39.109375 -1.421875 33.890625 -1.421875 \n",
       "Q 20.796875 -1.421875 13.15625 6.1875 \n",
       "Q 5.515625 13.8125 5.515625 26.8125 \n",
       "Q 5.515625 40.234375 12.765625 48.109375 \n",
       "Q 20.015625 56 32.328125 56 \n",
       "Q 43.359375 56 49.78125 48.890625 \n",
       "Q 56.203125 41.796875 56.203125 29.59375 \n",
       "z\n",
       "M 47.21875 32.234375 \n",
       "Q 47.125 39.59375 43.09375 43.984375 \n",
       "Q 39.0625 48.390625 32.421875 48.390625 \n",
       "Q 24.90625 48.390625 20.390625 44.140625 \n",
       "Q 15.875 39.890625 15.1875 32.171875 \n",
       "z\n",
       "\" id=\"DejaVuSans-101\"/>\n",
       "      </defs>\n",
       "      <use xlink:href=\"#DejaVuSans-80\"/>\n",
       "      <use x=\"58.552734\" xlink:href=\"#DejaVuSans-114\"/>\n",
       "      <use x=\"99.666016\" xlink:href=\"#DejaVuSans-105\"/>\n",
       "      <use x=\"127.449219\" xlink:href=\"#DejaVuSans-99\"/>\n",
       "      <use x=\"182.429688\" xlink:href=\"#DejaVuSans-101\"/>\n",
       "     </g>\n",
       "    </g>\n",
       "   </g>\n",
       "   <g id=\"matplotlib.axis_2\">\n",
       "    <g id=\"ytick_1\">\n",
       "     <g id=\"line2d_9\">\n",
       "      <defs>\n",
       "       <path d=\"M 0 0 \n",
       "L -3.5 0 \n",
       "\" id=\"md02e33f8f8\" style=\"stroke:#000000;stroke-width:0.8;\"/>\n",
       "      </defs>\n",
       "      <g>\n",
       "       <use style=\"stroke:#000000;stroke-width:0.8;\" x=\"59.690625\" xlink:href=\"#md02e33f8f8\" y=\"226.175564\"/>\n",
       "      </g>\n",
       "     </g>\n",
       "     <g id=\"text_10\">\n",
       "      <!-- 0 -->\n",
       "      <g transform=\"translate(46.328125 229.974782)scale(0.1 -0.1)\">\n",
       "       <use xlink:href=\"#DejaVuSans-48\"/>\n",
       "      </g>\n",
       "     </g>\n",
       "    </g>\n",
       "    <g id=\"ytick_2\">\n",
       "     <g id=\"line2d_10\">\n",
       "      <g>\n",
       "       <use style=\"stroke:#000000;stroke-width:0.8;\" x=\"59.690625\" xlink:href=\"#md02e33f8f8\" y=\"190.312839\"/>\n",
       "      </g>\n",
       "     </g>\n",
       "     <g id=\"text_11\">\n",
       "      <!-- 5000 -->\n",
       "      <g transform=\"translate(27.240625 194.112058)scale(0.1 -0.1)\">\n",
       "       <use xlink:href=\"#DejaVuSans-53\"/>\n",
       "       <use x=\"63.623047\" xlink:href=\"#DejaVuSans-48\"/>\n",
       "       <use x=\"127.246094\" xlink:href=\"#DejaVuSans-48\"/>\n",
       "       <use x=\"190.869141\" xlink:href=\"#DejaVuSans-48\"/>\n",
       "      </g>\n",
       "     </g>\n",
       "    </g>\n",
       "    <g id=\"ytick_3\">\n",
       "     <g id=\"line2d_11\">\n",
       "      <g>\n",
       "       <use style=\"stroke:#000000;stroke-width:0.8;\" x=\"59.690625\" xlink:href=\"#md02e33f8f8\" y=\"154.450115\"/>\n",
       "      </g>\n",
       "     </g>\n",
       "     <g id=\"text_12\">\n",
       "      <!-- 10000 -->\n",
       "      <g transform=\"translate(20.878125 158.249334)scale(0.1 -0.1)\">\n",
       "       <use xlink:href=\"#DejaVuSans-49\"/>\n",
       "       <use x=\"63.623047\" xlink:href=\"#DejaVuSans-48\"/>\n",
       "       <use x=\"127.246094\" xlink:href=\"#DejaVuSans-48\"/>\n",
       "       <use x=\"190.869141\" xlink:href=\"#DejaVuSans-48\"/>\n",
       "       <use x=\"254.492188\" xlink:href=\"#DejaVuSans-48\"/>\n",
       "      </g>\n",
       "     </g>\n",
       "    </g>\n",
       "    <g id=\"ytick_4\">\n",
       "     <g id=\"line2d_12\">\n",
       "      <g>\n",
       "       <use style=\"stroke:#000000;stroke-width:0.8;\" x=\"59.690625\" xlink:href=\"#md02e33f8f8\" y=\"118.587391\"/>\n",
       "      </g>\n",
       "     </g>\n",
       "     <g id=\"text_13\">\n",
       "      <!-- 15000 -->\n",
       "      <g transform=\"translate(20.878125 122.38661)scale(0.1 -0.1)\">\n",
       "       <use xlink:href=\"#DejaVuSans-49\"/>\n",
       "       <use x=\"63.623047\" xlink:href=\"#DejaVuSans-53\"/>\n",
       "       <use x=\"127.246094\" xlink:href=\"#DejaVuSans-48\"/>\n",
       "       <use x=\"190.869141\" xlink:href=\"#DejaVuSans-48\"/>\n",
       "       <use x=\"254.492188\" xlink:href=\"#DejaVuSans-48\"/>\n",
       "      </g>\n",
       "     </g>\n",
       "    </g>\n",
       "    <g id=\"ytick_5\">\n",
       "     <g id=\"line2d_13\">\n",
       "      <g>\n",
       "       <use style=\"stroke:#000000;stroke-width:0.8;\" x=\"59.690625\" xlink:href=\"#md02e33f8f8\" y=\"82.724667\"/>\n",
       "      </g>\n",
       "     </g>\n",
       "     <g id=\"text_14\">\n",
       "      <!-- 20000 -->\n",
       "      <g transform=\"translate(20.878125 86.523886)scale(0.1 -0.1)\">\n",
       "       <use xlink:href=\"#DejaVuSans-50\"/>\n",
       "       <use x=\"63.623047\" xlink:href=\"#DejaVuSans-48\"/>\n",
       "       <use x=\"127.246094\" xlink:href=\"#DejaVuSans-48\"/>\n",
       "       <use x=\"190.869141\" xlink:href=\"#DejaVuSans-48\"/>\n",
       "       <use x=\"254.492188\" xlink:href=\"#DejaVuSans-48\"/>\n",
       "      </g>\n",
       "     </g>\n",
       "    </g>\n",
       "    <g id=\"ytick_6\">\n",
       "     <g id=\"line2d_14\">\n",
       "      <g>\n",
       "       <use style=\"stroke:#000000;stroke-width:0.8;\" x=\"59.690625\" xlink:href=\"#md02e33f8f8\" y=\"46.861943\"/>\n",
       "      </g>\n",
       "     </g>\n",
       "     <g id=\"text_15\">\n",
       "      <!-- 25000 -->\n",
       "      <g transform=\"translate(20.878125 50.661162)scale(0.1 -0.1)\">\n",
       "       <use xlink:href=\"#DejaVuSans-50\"/>\n",
       "       <use x=\"63.623047\" xlink:href=\"#DejaVuSans-53\"/>\n",
       "       <use x=\"127.246094\" xlink:href=\"#DejaVuSans-48\"/>\n",
       "       <use x=\"190.869141\" xlink:href=\"#DejaVuSans-48\"/>\n",
       "       <use x=\"254.492188\" xlink:href=\"#DejaVuSans-48\"/>\n",
       "      </g>\n",
       "     </g>\n",
       "    </g>\n",
       "    <g id=\"ytick_7\">\n",
       "     <g id=\"line2d_15\">\n",
       "      <g>\n",
       "       <use style=\"stroke:#000000;stroke-width:0.8;\" x=\"59.690625\" xlink:href=\"#md02e33f8f8\" y=\"10.999219\"/>\n",
       "      </g>\n",
       "     </g>\n",
       "     <g id=\"text_16\">\n",
       "      <!-- 30000 -->\n",
       "      <g transform=\"translate(20.878125 14.798437)scale(0.1 -0.1)\">\n",
       "       <defs>\n",
       "        <path d=\"M 40.578125 39.3125 \n",
       "Q 47.65625 37.796875 51.625 33 \n",
       "Q 55.609375 28.21875 55.609375 21.1875 \n",
       "Q 55.609375 10.40625 48.1875 4.484375 \n",
       "Q 40.765625 -1.421875 27.09375 -1.421875 \n",
       "Q 22.515625 -1.421875 17.65625 -0.515625 \n",
       "Q 12.796875 0.390625 7.625 2.203125 \n",
       "L 7.625 11.71875 \n",
       "Q 11.71875 9.328125 16.59375 8.109375 \n",
       "Q 21.484375 6.890625 26.8125 6.890625 \n",
       "Q 36.078125 6.890625 40.9375 10.546875 \n",
       "Q 45.796875 14.203125 45.796875 21.1875 \n",
       "Q 45.796875 27.640625 41.28125 31.265625 \n",
       "Q 36.765625 34.90625 28.71875 34.90625 \n",
       "L 20.21875 34.90625 \n",
       "L 20.21875 43.015625 \n",
       "L 29.109375 43.015625 \n",
       "Q 36.375 43.015625 40.234375 45.921875 \n",
       "Q 44.09375 48.828125 44.09375 54.296875 \n",
       "Q 44.09375 59.90625 40.109375 62.90625 \n",
       "Q 36.140625 65.921875 28.71875 65.921875 \n",
       "Q 24.65625 65.921875 20.015625 65.03125 \n",
       "Q 15.375 64.15625 9.8125 62.3125 \n",
       "L 9.8125 71.09375 \n",
       "Q 15.4375 72.65625 20.34375 73.4375 \n",
       "Q 25.25 74.21875 29.59375 74.21875 \n",
       "Q 40.828125 74.21875 47.359375 69.109375 \n",
       "Q 53.90625 64.015625 53.90625 55.328125 \n",
       "Q 53.90625 49.265625 50.4375 45.09375 \n",
       "Q 46.96875 40.921875 40.578125 39.3125 \n",
       "z\n",
       "\" id=\"DejaVuSans-51\"/>\n",
       "       </defs>\n",
       "       <use xlink:href=\"#DejaVuSans-51\"/>\n",
       "       <use x=\"63.623047\" xlink:href=\"#DejaVuSans-48\"/>\n",
       "       <use x=\"127.246094\" xlink:href=\"#DejaVuSans-48\"/>\n",
       "       <use x=\"190.869141\" xlink:href=\"#DejaVuSans-48\"/>\n",
       "       <use x=\"254.492188\" xlink:href=\"#DejaVuSans-48\"/>\n",
       "      </g>\n",
       "     </g>\n",
       "    </g>\n",
       "    <g id=\"text_17\">\n",
       "     <!-- Count -->\n",
       "     <g transform=\"translate(14.798438 132.304001)rotate(-90)scale(0.1 -0.1)\">\n",
       "      <defs>\n",
       "       <path d=\"M 64.40625 67.28125 \n",
       "L 64.40625 56.890625 \n",
       "Q 59.421875 61.53125 53.78125 63.8125 \n",
       "Q 48.140625 66.109375 41.796875 66.109375 \n",
       "Q 29.296875 66.109375 22.65625 58.46875 \n",
       "Q 16.015625 50.828125 16.015625 36.375 \n",
       "Q 16.015625 21.96875 22.65625 14.328125 \n",
       "Q 29.296875 6.6875 41.796875 6.6875 \n",
       "Q 48.140625 6.6875 53.78125 8.984375 \n",
       "Q 59.421875 11.28125 64.40625 15.921875 \n",
       "L 64.40625 5.609375 \n",
       "Q 59.234375 2.09375 53.4375 0.328125 \n",
       "Q 47.65625 -1.421875 41.21875 -1.421875 \n",
       "Q 24.65625 -1.421875 15.125 8.703125 \n",
       "Q 5.609375 18.84375 5.609375 36.375 \n",
       "Q 5.609375 53.953125 15.125 64.078125 \n",
       "Q 24.65625 74.21875 41.21875 74.21875 \n",
       "Q 47.75 74.21875 53.53125 72.484375 \n",
       "Q 59.328125 70.75 64.40625 67.28125 \n",
       "z\n",
       "\" id=\"DejaVuSans-67\"/>\n",
       "       <path d=\"M 30.609375 48.390625 \n",
       "Q 23.390625 48.390625 19.1875 42.75 \n",
       "Q 14.984375 37.109375 14.984375 27.296875 \n",
       "Q 14.984375 17.484375 19.15625 11.84375 \n",
       "Q 23.34375 6.203125 30.609375 6.203125 \n",
       "Q 37.796875 6.203125 41.984375 11.859375 \n",
       "Q 46.1875 17.53125 46.1875 27.296875 \n",
       "Q 46.1875 37.015625 41.984375 42.703125 \n",
       "Q 37.796875 48.390625 30.609375 48.390625 \n",
       "z\n",
       "M 30.609375 56 \n",
       "Q 42.328125 56 49.015625 48.375 \n",
       "Q 55.71875 40.765625 55.71875 27.296875 \n",
       "Q 55.71875 13.875 49.015625 6.21875 \n",
       "Q 42.328125 -1.421875 30.609375 -1.421875 \n",
       "Q 18.84375 -1.421875 12.171875 6.21875 \n",
       "Q 5.515625 13.875 5.515625 27.296875 \n",
       "Q 5.515625 40.765625 12.171875 48.375 \n",
       "Q 18.84375 56 30.609375 56 \n",
       "z\n",
       "\" id=\"DejaVuSans-111\"/>\n",
       "       <path d=\"M 8.5 21.578125 \n",
       "L 8.5 54.6875 \n",
       "L 17.484375 54.6875 \n",
       "L 17.484375 21.921875 \n",
       "Q 17.484375 14.15625 20.5 10.265625 \n",
       "Q 23.53125 6.390625 29.59375 6.390625 \n",
       "Q 36.859375 6.390625 41.078125 11.03125 \n",
       "Q 45.3125 15.671875 45.3125 23.6875 \n",
       "L 45.3125 54.6875 \n",
       "L 54.296875 54.6875 \n",
       "L 54.296875 0 \n",
       "L 45.3125 0 \n",
       "L 45.3125 8.40625 \n",
       "Q 42.046875 3.421875 37.71875 1 \n",
       "Q 33.40625 -1.421875 27.6875 -1.421875 \n",
       "Q 18.265625 -1.421875 13.375 4.4375 \n",
       "Q 8.5 10.296875 8.5 21.578125 \n",
       "z\n",
       "M 31.109375 56 \n",
       "z\n",
       "\" id=\"DejaVuSans-117\"/>\n",
       "       <path d=\"M 54.890625 33.015625 \n",
       "L 54.890625 0 \n",
       "L 45.90625 0 \n",
       "L 45.90625 32.71875 \n",
       "Q 45.90625 40.484375 42.875 44.328125 \n",
       "Q 39.84375 48.1875 33.796875 48.1875 \n",
       "Q 26.515625 48.1875 22.3125 43.546875 \n",
       "Q 18.109375 38.921875 18.109375 30.90625 \n",
       "L 18.109375 0 \n",
       "L 9.078125 0 \n",
       "L 9.078125 54.6875 \n",
       "L 18.109375 54.6875 \n",
       "L 18.109375 46.1875 \n",
       "Q 21.34375 51.125 25.703125 53.5625 \n",
       "Q 30.078125 56 35.796875 56 \n",
       "Q 45.21875 56 50.046875 50.171875 \n",
       "Q 54.890625 44.34375 54.890625 33.015625 \n",
       "z\n",
       "\" id=\"DejaVuSans-110\"/>\n",
       "       <path d=\"M 18.3125 70.21875 \n",
       "L 18.3125 54.6875 \n",
       "L 36.8125 54.6875 \n",
       "L 36.8125 47.703125 \n",
       "L 18.3125 47.703125 \n",
       "L 18.3125 18.015625 \n",
       "Q 18.3125 11.328125 20.140625 9.421875 \n",
       "Q 21.96875 7.515625 27.59375 7.515625 \n",
       "L 36.8125 7.515625 \n",
       "L 36.8125 0 \n",
       "L 27.59375 0 \n",
       "Q 17.1875 0 13.234375 3.875 \n",
       "Q 9.28125 7.765625 9.28125 18.015625 \n",
       "L 9.28125 47.703125 \n",
       "L 2.6875 47.703125 \n",
       "L 2.6875 54.6875 \n",
       "L 9.28125 54.6875 \n",
       "L 9.28125 70.21875 \n",
       "z\n",
       "\" id=\"DejaVuSans-116\"/>\n",
       "      </defs>\n",
       "      <use xlink:href=\"#DejaVuSans-67\"/>\n",
       "      <use x=\"69.824219\" xlink:href=\"#DejaVuSans-111\"/>\n",
       "      <use x=\"131.005859\" xlink:href=\"#DejaVuSans-117\"/>\n",
       "      <use x=\"194.384766\" xlink:href=\"#DejaVuSans-110\"/>\n",
       "      <use x=\"257.763672\" xlink:href=\"#DejaVuSans-116\"/>\n",
       "     </g>\n",
       "    </g>\n",
       "   </g>\n",
       "   <g id=\"patch_53\">\n",
       "    <path d=\"M 59.690625 226.175564 \n",
       "L 59.690625 8.735564 \n",
       "\" style=\"fill:none;stroke:#000000;stroke-linecap:square;stroke-linejoin:miter;stroke-width:0.8;\"/>\n",
       "   </g>\n",
       "   <g id=\"patch_54\">\n",
       "    <path d=\"M 394.490625 226.175564 \n",
       "L 394.490625 8.735564 \n",
       "\" style=\"fill:none;stroke:#000000;stroke-linecap:square;stroke-linejoin:miter;stroke-width:0.8;\"/>\n",
       "   </g>\n",
       "   <g id=\"patch_55\">\n",
       "    <path d=\"M 59.690625 226.175564 \n",
       "L 394.490625 226.175564 \n",
       "\" style=\"fill:none;stroke:#000000;stroke-linecap:square;stroke-linejoin:miter;stroke-width:0.8;\"/>\n",
       "   </g>\n",
       "   <g id=\"patch_56\">\n",
       "    <path d=\"M 59.690625 8.735564 \n",
       "L 394.490625 8.735564 \n",
       "\" style=\"fill:none;stroke:#000000;stroke-linecap:square;stroke-linejoin:miter;stroke-width:0.8;\"/>\n",
       "   </g>\n",
       "  </g>\n",
       " </g>\n",
       " <defs>\n",
       "  <clipPath id=\"pfe4523ebe4\">\n",
       "   <rect height=\"217.44\" width=\"334.8\" x=\"59.690625\" y=\"8.735564\"/>\n",
       "  </clipPath>\n",
       " </defs>\n",
       "</svg>\n"
      ],
      "text/plain": [
       "<Figure size 432x288 with 1 Axes>"
      ]
     },
     "metadata": {
      "needs_background": "light"
     },
     "output_type": "display_data"
    }
   ],
   "source": [
    "sns.histplot(df['Price'], bins=50);"
   ]
  },
  {
   "cell_type": "markdown",
   "metadata": {},
   "source": [
    "##### ● 2   <b>VehicleType</b> — тип автомобильного кузова \n",
    "    - | object |\n",
    "    - Имеются значения Nan, заполним их значением 'unknow'."
   ]
  },
  {
   "cell_type": "code",
   "execution_count": 60,
   "metadata": {},
   "outputs": [
    {
     "name": "stdout",
     "output_type": "stream",
     "text": [
      "VehicleType [nan 'suv' 'small' 'sedan' 'convertible' 'bus' 'wagon' 'coupe' 'other']\n"
     ]
    }
   ],
   "source": [
    "# Смотрим уникальные значения в столбце\n",
    "print(columns_name[2], df[columns_name[2]].unique())"
   ]
  },
  {
   "cell_type": "markdown",
   "metadata": {},
   "source": [
    "- Заполним Nan на 'unknow'"
   ]
  },
  {
   "cell_type": "code",
   "execution_count": 61,
   "metadata": {},
   "outputs": [],
   "source": [
    "df[columns_name[2]] = df[columns_name[2]].fillna('unknown')"
   ]
  },
  {
   "cell_type": "code",
   "execution_count": 62,
   "metadata": {},
   "outputs": [
    {
     "name": "stdout",
     "output_type": "stream",
     "text": [
      "VehicleType ['unknown' 'suv' 'small' 'sedan' 'convertible' 'bus' 'wagon' 'coupe'\n",
      " 'other']\n"
     ]
    }
   ],
   "source": [
    "# Проверим изменения\n",
    "print(columns_name[2], df[columns_name[2]].unique())"
   ]
  },
  {
   "cell_type": "code",
   "execution_count": 63,
   "metadata": {},
   "outputs": [
    {
     "data": {
      "image/svg+xml": [
       "<?xml version=\"1.0\" encoding=\"utf-8\" standalone=\"no\"?>\n",
       "<!DOCTYPE svg PUBLIC \"-//W3C//DTD SVG 1.1//EN\"\n",
       "  \"http://www.w3.org/Graphics/SVG/1.1/DTD/svg11.dtd\">\n",
       "<!-- Created with matplotlib (https://matplotlib.org/) -->\n",
       "<svg height=\"262.19625pt\" version=\"1.1\" viewBox=\"0 0 401.690625 262.19625\" width=\"401.690625pt\" xmlns=\"http://www.w3.org/2000/svg\" xmlns:xlink=\"http://www.w3.org/1999/xlink\">\n",
       " <metadata>\n",
       "  <rdf:RDF xmlns:cc=\"http://creativecommons.org/ns#\" xmlns:dc=\"http://purl.org/dc/elements/1.1/\" xmlns:rdf=\"http://www.w3.org/1999/02/22-rdf-syntax-ns#\">\n",
       "   <cc:Work>\n",
       "    <dc:type rdf:resource=\"http://purl.org/dc/dcmitype/StillImage\"/>\n",
       "    <dc:date>2023-03-12T16:52:07.040318</dc:date>\n",
       "    <dc:format>image/svg+xml</dc:format>\n",
       "    <dc:creator>\n",
       "     <cc:Agent>\n",
       "      <dc:title>Matplotlib v3.3.4, https://matplotlib.org/</dc:title>\n",
       "     </cc:Agent>\n",
       "    </dc:creator>\n",
       "   </cc:Work>\n",
       "  </rdf:RDF>\n",
       " </metadata>\n",
       " <defs>\n",
       "  <style type=\"text/css\">*{stroke-linecap:butt;stroke-linejoin:round;}</style>\n",
       " </defs>\n",
       " <g id=\"figure_1\">\n",
       "  <g id=\"patch_1\">\n",
       "   <path d=\"M 0 262.19625 \n",
       "L 401.690625 262.19625 \n",
       "L 401.690625 0 \n",
       "L 0 0 \n",
       "z\n",
       "\" style=\"fill:none;\"/>\n",
       "  </g>\n",
       "  <g id=\"axes_1\">\n",
       "   <g id=\"patch_2\">\n",
       "    <path d=\"M 59.690625 224.64 \n",
       "L 394.490625 224.64 \n",
       "L 394.490625 7.2 \n",
       "L 59.690625 7.2 \n",
       "z\n",
       "\" style=\"fill:#ffffff;\"/>\n",
       "   </g>\n",
       "   <g id=\"patch_3\">\n",
       "    <path clip-path=\"url(#p8717de1fbe)\" d=\"M 74.908807 224.64 \n",
       "L 108.726989 224.64 \n",
       "L 108.726989 150.770943 \n",
       "L 74.908807 150.770943 \n",
       "z\n",
       "\" style=\"fill:#1f77b4;fill-opacity:0.75;stroke:#000000;stroke-linejoin:miter;\"/>\n",
       "   </g>\n",
       "   <g id=\"patch_4\">\n",
       "    <path clip-path=\"url(#p8717de1fbe)\" d=\"M 108.726989 224.64 \n",
       "L 142.54517 224.64 \n",
       "L 142.54517 199.237865 \n",
       "L 108.726989 199.237865 \n",
       "z\n",
       "\" style=\"fill:#1f77b4;fill-opacity:0.75;stroke:#000000;stroke-linejoin:miter;\"/>\n",
       "   </g>\n",
       "   <g id=\"patch_5\">\n",
       "    <path clip-path=\"url(#p8717de1fbe)\" d=\"M 142.54517 224.64 \n",
       "L 176.363352 224.64 \n",
       "L 176.363352 42.953971 \n",
       "L 142.54517 42.953971 \n",
       "z\n",
       "\" style=\"fill:#1f77b4;fill-opacity:0.75;stroke:#000000;stroke-linejoin:miter;\"/>\n",
       "   </g>\n",
       "   <g id=\"patch_6\">\n",
       "    <path clip-path=\"url(#p8717de1fbe)\" d=\"M 176.363352 224.64 \n",
       "L 210.181534 224.64 \n",
       "L 210.181534 17.554286 \n",
       "L 176.363352 17.554286 \n",
       "z\n",
       "\" style=\"fill:#1f77b4;fill-opacity:0.75;stroke:#000000;stroke-linejoin:miter;\"/>\n",
       "   </g>\n",
       "   <g id=\"patch_7\">\n",
       "    <path clip-path=\"url(#p8717de1fbe)\" d=\"M 210.181534 224.64 \n",
       "L 243.999716 224.64 \n",
       "L 243.999716 180.147062 \n",
       "L 210.181534 180.147062 \n",
       "z\n",
       "\" style=\"fill:#1f77b4;fill-opacity:0.75;stroke:#000000;stroke-linejoin:miter;\"/>\n",
       "   </g>\n",
       "   <g id=\"patch_8\">\n",
       "    <path clip-path=\"url(#p8717de1fbe)\" d=\"M 243.999716 224.64 \n",
       "L 277.817898 224.64 \n",
       "L 277.817898 157.998596 \n",
       "L 243.999716 157.998596 \n",
       "z\n",
       "\" style=\"fill:#1f77b4;fill-opacity:0.75;stroke:#000000;stroke-linejoin:miter;\"/>\n",
       "   </g>\n",
       "   <g id=\"patch_9\">\n",
       "    <path clip-path=\"url(#p8717de1fbe)\" d=\"M 277.817898 224.64 \n",
       "L 311.63608 224.64 \n",
       "L 311.63608 74.816893 \n",
       "L 277.817898 74.816893 \n",
       "z\n",
       "\" style=\"fill:#1f77b4;fill-opacity:0.75;stroke:#000000;stroke-linejoin:miter;\"/>\n",
       "   </g>\n",
       "   <g id=\"patch_10\">\n",
       "    <path clip-path=\"url(#p8717de1fbe)\" d=\"M 311.63608 224.64 \n",
       "L 345.454261 224.64 \n",
       "L 345.454261 191.196795 \n",
       "L 311.63608 191.196795 \n",
       "z\n",
       "\" style=\"fill:#1f77b4;fill-opacity:0.75;stroke:#000000;stroke-linejoin:miter;\"/>\n",
       "   </g>\n",
       "   <g id=\"patch_11\">\n",
       "    <path clip-path=\"url(#p8717de1fbe)\" d=\"M 345.454261 224.64 \n",
       "L 379.272443 224.64 \n",
       "L 379.272443 217.887658 \n",
       "L 345.454261 217.887658 \n",
       "z\n",
       "\" style=\"fill:#1f77b4;fill-opacity:0.75;stroke:#000000;stroke-linejoin:miter;\"/>\n",
       "   </g>\n",
       "   <g id=\"matplotlib.axis_1\">\n",
       "    <g id=\"xtick_1\">\n",
       "     <g id=\"line2d_1\">\n",
       "      <defs>\n",
       "       <path d=\"M 0 0 \n",
       "L 0 3.5 \n",
       "\" id=\"m9022e46bea\" style=\"stroke:#000000;stroke-width:0.8;\"/>\n",
       "      </defs>\n",
       "      <g>\n",
       "       <use style=\"stroke:#000000;stroke-width:0.8;\" x=\"91.817898\" xlink:href=\"#m9022e46bea\" y=\"224.64\"/>\n",
       "      </g>\n",
       "     </g>\n",
       "     <g id=\"text_1\">\n",
       "      <!-- unknown -->\n",
       "      <g transform=\"translate(69.099148 239.238437)scale(0.1 -0.1)\">\n",
       "       <defs>\n",
       "        <path d=\"M 8.5 21.578125 \n",
       "L 8.5 54.6875 \n",
       "L 17.484375 54.6875 \n",
       "L 17.484375 21.921875 \n",
       "Q 17.484375 14.15625 20.5 10.265625 \n",
       "Q 23.53125 6.390625 29.59375 6.390625 \n",
       "Q 36.859375 6.390625 41.078125 11.03125 \n",
       "Q 45.3125 15.671875 45.3125 23.6875 \n",
       "L 45.3125 54.6875 \n",
       "L 54.296875 54.6875 \n",
       "L 54.296875 0 \n",
       "L 45.3125 0 \n",
       "L 45.3125 8.40625 \n",
       "Q 42.046875 3.421875 37.71875 1 \n",
       "Q 33.40625 -1.421875 27.6875 -1.421875 \n",
       "Q 18.265625 -1.421875 13.375 4.4375 \n",
       "Q 8.5 10.296875 8.5 21.578125 \n",
       "z\n",
       "M 31.109375 56 \n",
       "z\n",
       "\" id=\"DejaVuSans-117\"/>\n",
       "        <path d=\"M 54.890625 33.015625 \n",
       "L 54.890625 0 \n",
       "L 45.90625 0 \n",
       "L 45.90625 32.71875 \n",
       "Q 45.90625 40.484375 42.875 44.328125 \n",
       "Q 39.84375 48.1875 33.796875 48.1875 \n",
       "Q 26.515625 48.1875 22.3125 43.546875 \n",
       "Q 18.109375 38.921875 18.109375 30.90625 \n",
       "L 18.109375 0 \n",
       "L 9.078125 0 \n",
       "L 9.078125 54.6875 \n",
       "L 18.109375 54.6875 \n",
       "L 18.109375 46.1875 \n",
       "Q 21.34375 51.125 25.703125 53.5625 \n",
       "Q 30.078125 56 35.796875 56 \n",
       "Q 45.21875 56 50.046875 50.171875 \n",
       "Q 54.890625 44.34375 54.890625 33.015625 \n",
       "z\n",
       "\" id=\"DejaVuSans-110\"/>\n",
       "        <path d=\"M 9.078125 75.984375 \n",
       "L 18.109375 75.984375 \n",
       "L 18.109375 31.109375 \n",
       "L 44.921875 54.6875 \n",
       "L 56.390625 54.6875 \n",
       "L 27.390625 29.109375 \n",
       "L 57.625 0 \n",
       "L 45.90625 0 \n",
       "L 18.109375 26.703125 \n",
       "L 18.109375 0 \n",
       "L 9.078125 0 \n",
       "z\n",
       "\" id=\"DejaVuSans-107\"/>\n",
       "        <path d=\"M 30.609375 48.390625 \n",
       "Q 23.390625 48.390625 19.1875 42.75 \n",
       "Q 14.984375 37.109375 14.984375 27.296875 \n",
       "Q 14.984375 17.484375 19.15625 11.84375 \n",
       "Q 23.34375 6.203125 30.609375 6.203125 \n",
       "Q 37.796875 6.203125 41.984375 11.859375 \n",
       "Q 46.1875 17.53125 46.1875 27.296875 \n",
       "Q 46.1875 37.015625 41.984375 42.703125 \n",
       "Q 37.796875 48.390625 30.609375 48.390625 \n",
       "z\n",
       "M 30.609375 56 \n",
       "Q 42.328125 56 49.015625 48.375 \n",
       "Q 55.71875 40.765625 55.71875 27.296875 \n",
       "Q 55.71875 13.875 49.015625 6.21875 \n",
       "Q 42.328125 -1.421875 30.609375 -1.421875 \n",
       "Q 18.84375 -1.421875 12.171875 6.21875 \n",
       "Q 5.515625 13.875 5.515625 27.296875 \n",
       "Q 5.515625 40.765625 12.171875 48.375 \n",
       "Q 18.84375 56 30.609375 56 \n",
       "z\n",
       "\" id=\"DejaVuSans-111\"/>\n",
       "        <path d=\"M 4.203125 54.6875 \n",
       "L 13.1875 54.6875 \n",
       "L 24.421875 12.015625 \n",
       "L 35.59375 54.6875 \n",
       "L 46.1875 54.6875 \n",
       "L 57.421875 12.015625 \n",
       "L 68.609375 54.6875 \n",
       "L 77.59375 54.6875 \n",
       "L 63.28125 0 \n",
       "L 52.6875 0 \n",
       "L 40.921875 44.828125 \n",
       "L 29.109375 0 \n",
       "L 18.5 0 \n",
       "z\n",
       "\" id=\"DejaVuSans-119\"/>\n",
       "       </defs>\n",
       "       <use xlink:href=\"#DejaVuSans-117\"/>\n",
       "       <use x=\"63.378906\" xlink:href=\"#DejaVuSans-110\"/>\n",
       "       <use x=\"126.757812\" xlink:href=\"#DejaVuSans-107\"/>\n",
       "       <use x=\"184.667969\" xlink:href=\"#DejaVuSans-110\"/>\n",
       "       <use x=\"248.046875\" xlink:href=\"#DejaVuSans-111\"/>\n",
       "       <use x=\"309.228516\" xlink:href=\"#DejaVuSans-119\"/>\n",
       "       <use x=\"391.015625\" xlink:href=\"#DejaVuSans-110\"/>\n",
       "      </g>\n",
       "     </g>\n",
       "    </g>\n",
       "    <g id=\"xtick_2\">\n",
       "     <g id=\"line2d_2\">\n",
       "      <g>\n",
       "       <use style=\"stroke:#000000;stroke-width:0.8;\" x=\"125.63608\" xlink:href=\"#m9022e46bea\" y=\"224.64\"/>\n",
       "      </g>\n",
       "     </g>\n",
       "     <g id=\"text_2\">\n",
       "      <!-- suv -->\n",
       "      <g transform=\"translate(116.903267 239.238437)scale(0.1 -0.1)\">\n",
       "       <defs>\n",
       "        <path d=\"M 44.28125 53.078125 \n",
       "L 44.28125 44.578125 \n",
       "Q 40.484375 46.53125 36.375 47.5 \n",
       "Q 32.28125 48.484375 27.875 48.484375 \n",
       "Q 21.1875 48.484375 17.84375 46.4375 \n",
       "Q 14.5 44.390625 14.5 40.28125 \n",
       "Q 14.5 37.15625 16.890625 35.375 \n",
       "Q 19.28125 33.59375 26.515625 31.984375 \n",
       "L 29.59375 31.296875 \n",
       "Q 39.15625 29.25 43.1875 25.515625 \n",
       "Q 47.21875 21.78125 47.21875 15.09375 \n",
       "Q 47.21875 7.46875 41.1875 3.015625 \n",
       "Q 35.15625 -1.421875 24.609375 -1.421875 \n",
       "Q 20.21875 -1.421875 15.453125 -0.5625 \n",
       "Q 10.6875 0.296875 5.421875 2 \n",
       "L 5.421875 11.28125 \n",
       "Q 10.40625 8.6875 15.234375 7.390625 \n",
       "Q 20.0625 6.109375 24.8125 6.109375 \n",
       "Q 31.15625 6.109375 34.5625 8.28125 \n",
       "Q 37.984375 10.453125 37.984375 14.40625 \n",
       "Q 37.984375 18.0625 35.515625 20.015625 \n",
       "Q 33.0625 21.96875 24.703125 23.78125 \n",
       "L 21.578125 24.515625 \n",
       "Q 13.234375 26.265625 9.515625 29.90625 \n",
       "Q 5.8125 33.546875 5.8125 39.890625 \n",
       "Q 5.8125 47.609375 11.28125 51.796875 \n",
       "Q 16.75 56 26.8125 56 \n",
       "Q 31.78125 56 36.171875 55.265625 \n",
       "Q 40.578125 54.546875 44.28125 53.078125 \n",
       "z\n",
       "\" id=\"DejaVuSans-115\"/>\n",
       "        <path d=\"M 2.984375 54.6875 \n",
       "L 12.5 54.6875 \n",
       "L 29.59375 8.796875 \n",
       "L 46.6875 54.6875 \n",
       "L 56.203125 54.6875 \n",
       "L 35.6875 0 \n",
       "L 23.484375 0 \n",
       "z\n",
       "\" id=\"DejaVuSans-118\"/>\n",
       "       </defs>\n",
       "       <use xlink:href=\"#DejaVuSans-115\"/>\n",
       "       <use x=\"52.099609\" xlink:href=\"#DejaVuSans-117\"/>\n",
       "       <use x=\"115.478516\" xlink:href=\"#DejaVuSans-118\"/>\n",
       "      </g>\n",
       "     </g>\n",
       "    </g>\n",
       "    <g id=\"xtick_3\">\n",
       "     <g id=\"line2d_3\">\n",
       "      <g>\n",
       "       <use style=\"stroke:#000000;stroke-width:0.8;\" x=\"159.454261\" xlink:href=\"#m9022e46bea\" y=\"224.64\"/>\n",
       "      </g>\n",
       "     </g>\n",
       "     <g id=\"text_3\">\n",
       "      <!-- small -->\n",
       "      <g transform=\"translate(146.137074 239.238437)scale(0.1 -0.1)\">\n",
       "       <defs>\n",
       "        <path d=\"M 52 44.1875 \n",
       "Q 55.375 50.25 60.0625 53.125 \n",
       "Q 64.75 56 71.09375 56 \n",
       "Q 79.640625 56 84.28125 50.015625 \n",
       "Q 88.921875 44.046875 88.921875 33.015625 \n",
       "L 88.921875 0 \n",
       "L 79.890625 0 \n",
       "L 79.890625 32.71875 \n",
       "Q 79.890625 40.578125 77.09375 44.375 \n",
       "Q 74.3125 48.1875 68.609375 48.1875 \n",
       "Q 61.625 48.1875 57.5625 43.546875 \n",
       "Q 53.515625 38.921875 53.515625 30.90625 \n",
       "L 53.515625 0 \n",
       "L 44.484375 0 \n",
       "L 44.484375 32.71875 \n",
       "Q 44.484375 40.625 41.703125 44.40625 \n",
       "Q 38.921875 48.1875 33.109375 48.1875 \n",
       "Q 26.21875 48.1875 22.15625 43.53125 \n",
       "Q 18.109375 38.875 18.109375 30.90625 \n",
       "L 18.109375 0 \n",
       "L 9.078125 0 \n",
       "L 9.078125 54.6875 \n",
       "L 18.109375 54.6875 \n",
       "L 18.109375 46.1875 \n",
       "Q 21.1875 51.21875 25.484375 53.609375 \n",
       "Q 29.78125 56 35.6875 56 \n",
       "Q 41.65625 56 45.828125 52.96875 \n",
       "Q 50 49.953125 52 44.1875 \n",
       "z\n",
       "\" id=\"DejaVuSans-109\"/>\n",
       "        <path d=\"M 34.28125 27.484375 \n",
       "Q 23.390625 27.484375 19.1875 25 \n",
       "Q 14.984375 22.515625 14.984375 16.5 \n",
       "Q 14.984375 11.71875 18.140625 8.90625 \n",
       "Q 21.296875 6.109375 26.703125 6.109375 \n",
       "Q 34.1875 6.109375 38.703125 11.40625 \n",
       "Q 43.21875 16.703125 43.21875 25.484375 \n",
       "L 43.21875 27.484375 \n",
       "z\n",
       "M 52.203125 31.203125 \n",
       "L 52.203125 0 \n",
       "L 43.21875 0 \n",
       "L 43.21875 8.296875 \n",
       "Q 40.140625 3.328125 35.546875 0.953125 \n",
       "Q 30.953125 -1.421875 24.3125 -1.421875 \n",
       "Q 15.921875 -1.421875 10.953125 3.296875 \n",
       "Q 6 8.015625 6 15.921875 \n",
       "Q 6 25.140625 12.171875 29.828125 \n",
       "Q 18.359375 34.515625 30.609375 34.515625 \n",
       "L 43.21875 34.515625 \n",
       "L 43.21875 35.40625 \n",
       "Q 43.21875 41.609375 39.140625 45 \n",
       "Q 35.0625 48.390625 27.6875 48.390625 \n",
       "Q 23 48.390625 18.546875 47.265625 \n",
       "Q 14.109375 46.140625 10.015625 43.890625 \n",
       "L 10.015625 52.203125 \n",
       "Q 14.9375 54.109375 19.578125 55.046875 \n",
       "Q 24.21875 56 28.609375 56 \n",
       "Q 40.484375 56 46.34375 49.84375 \n",
       "Q 52.203125 43.703125 52.203125 31.203125 \n",
       "z\n",
       "\" id=\"DejaVuSans-97\"/>\n",
       "        <path d=\"M 9.421875 75.984375 \n",
       "L 18.40625 75.984375 \n",
       "L 18.40625 0 \n",
       "L 9.421875 0 \n",
       "z\n",
       "\" id=\"DejaVuSans-108\"/>\n",
       "       </defs>\n",
       "       <use xlink:href=\"#DejaVuSans-115\"/>\n",
       "       <use x=\"52.099609\" xlink:href=\"#DejaVuSans-109\"/>\n",
       "       <use x=\"149.511719\" xlink:href=\"#DejaVuSans-97\"/>\n",
       "       <use x=\"210.791016\" xlink:href=\"#DejaVuSans-108\"/>\n",
       "       <use x=\"238.574219\" xlink:href=\"#DejaVuSans-108\"/>\n",
       "      </g>\n",
       "     </g>\n",
       "    </g>\n",
       "    <g id=\"xtick_4\">\n",
       "     <g id=\"line2d_4\">\n",
       "      <g>\n",
       "       <use style=\"stroke:#000000;stroke-width:0.8;\" x=\"193.272443\" xlink:href=\"#m9022e46bea\" y=\"224.64\"/>\n",
       "      </g>\n",
       "     </g>\n",
       "     <g id=\"text_4\">\n",
       "      <!-- sedan -->\n",
       "      <g transform=\"translate(178.184162 239.238437)scale(0.1 -0.1)\">\n",
       "       <defs>\n",
       "        <path d=\"M 56.203125 29.59375 \n",
       "L 56.203125 25.203125 \n",
       "L 14.890625 25.203125 \n",
       "Q 15.484375 15.921875 20.484375 11.0625 \n",
       "Q 25.484375 6.203125 34.421875 6.203125 \n",
       "Q 39.59375 6.203125 44.453125 7.46875 \n",
       "Q 49.3125 8.734375 54.109375 11.28125 \n",
       "L 54.109375 2.78125 \n",
       "Q 49.265625 0.734375 44.1875 -0.34375 \n",
       "Q 39.109375 -1.421875 33.890625 -1.421875 \n",
       "Q 20.796875 -1.421875 13.15625 6.1875 \n",
       "Q 5.515625 13.8125 5.515625 26.8125 \n",
       "Q 5.515625 40.234375 12.765625 48.109375 \n",
       "Q 20.015625 56 32.328125 56 \n",
       "Q 43.359375 56 49.78125 48.890625 \n",
       "Q 56.203125 41.796875 56.203125 29.59375 \n",
       "z\n",
       "M 47.21875 32.234375 \n",
       "Q 47.125 39.59375 43.09375 43.984375 \n",
       "Q 39.0625 48.390625 32.421875 48.390625 \n",
       "Q 24.90625 48.390625 20.390625 44.140625 \n",
       "Q 15.875 39.890625 15.1875 32.171875 \n",
       "z\n",
       "\" id=\"DejaVuSans-101\"/>\n",
       "        <path d=\"M 45.40625 46.390625 \n",
       "L 45.40625 75.984375 \n",
       "L 54.390625 75.984375 \n",
       "L 54.390625 0 \n",
       "L 45.40625 0 \n",
       "L 45.40625 8.203125 \n",
       "Q 42.578125 3.328125 38.25 0.953125 \n",
       "Q 33.9375 -1.421875 27.875 -1.421875 \n",
       "Q 17.96875 -1.421875 11.734375 6.484375 \n",
       "Q 5.515625 14.40625 5.515625 27.296875 \n",
       "Q 5.515625 40.1875 11.734375 48.09375 \n",
       "Q 17.96875 56 27.875 56 \n",
       "Q 33.9375 56 38.25 53.625 \n",
       "Q 42.578125 51.265625 45.40625 46.390625 \n",
       "z\n",
       "M 14.796875 27.296875 \n",
       "Q 14.796875 17.390625 18.875 11.75 \n",
       "Q 22.953125 6.109375 30.078125 6.109375 \n",
       "Q 37.203125 6.109375 41.296875 11.75 \n",
       "Q 45.40625 17.390625 45.40625 27.296875 \n",
       "Q 45.40625 37.203125 41.296875 42.84375 \n",
       "Q 37.203125 48.484375 30.078125 48.484375 \n",
       "Q 22.953125 48.484375 18.875 42.84375 \n",
       "Q 14.796875 37.203125 14.796875 27.296875 \n",
       "z\n",
       "\" id=\"DejaVuSans-100\"/>\n",
       "       </defs>\n",
       "       <use xlink:href=\"#DejaVuSans-115\"/>\n",
       "       <use x=\"52.099609\" xlink:href=\"#DejaVuSans-101\"/>\n",
       "       <use x=\"113.623047\" xlink:href=\"#DejaVuSans-100\"/>\n",
       "       <use x=\"177.099609\" xlink:href=\"#DejaVuSans-97\"/>\n",
       "       <use x=\"238.378906\" xlink:href=\"#DejaVuSans-110\"/>\n",
       "      </g>\n",
       "     </g>\n",
       "    </g>\n",
       "    <g id=\"xtick_5\">\n",
       "     <g id=\"line2d_5\">\n",
       "      <g>\n",
       "       <use style=\"stroke:#000000;stroke-width:0.8;\" x=\"227.090625\" xlink:href=\"#m9022e46bea\" y=\"224.64\"/>\n",
       "      </g>\n",
       "     </g>\n",
       "     <g id=\"text_5\">\n",
       "      <!-- convertible -->\n",
       "      <g transform=\"translate(199.032813 239.238437)scale(0.1 -0.1)\">\n",
       "       <defs>\n",
       "        <path d=\"M 48.78125 52.59375 \n",
       "L 48.78125 44.1875 \n",
       "Q 44.96875 46.296875 41.140625 47.34375 \n",
       "Q 37.3125 48.390625 33.40625 48.390625 \n",
       "Q 24.65625 48.390625 19.8125 42.84375 \n",
       "Q 14.984375 37.3125 14.984375 27.296875 \n",
       "Q 14.984375 17.28125 19.8125 11.734375 \n",
       "Q 24.65625 6.203125 33.40625 6.203125 \n",
       "Q 37.3125 6.203125 41.140625 7.25 \n",
       "Q 44.96875 8.296875 48.78125 10.40625 \n",
       "L 48.78125 2.09375 \n",
       "Q 45.015625 0.34375 40.984375 -0.53125 \n",
       "Q 36.96875 -1.421875 32.421875 -1.421875 \n",
       "Q 20.0625 -1.421875 12.78125 6.34375 \n",
       "Q 5.515625 14.109375 5.515625 27.296875 \n",
       "Q 5.515625 40.671875 12.859375 48.328125 \n",
       "Q 20.21875 56 33.015625 56 \n",
       "Q 37.15625 56 41.109375 55.140625 \n",
       "Q 45.0625 54.296875 48.78125 52.59375 \n",
       "z\n",
       "\" id=\"DejaVuSans-99\"/>\n",
       "        <path d=\"M 41.109375 46.296875 \n",
       "Q 39.59375 47.171875 37.8125 47.578125 \n",
       "Q 36.03125 48 33.890625 48 \n",
       "Q 26.265625 48 22.1875 43.046875 \n",
       "Q 18.109375 38.09375 18.109375 28.8125 \n",
       "L 18.109375 0 \n",
       "L 9.078125 0 \n",
       "L 9.078125 54.6875 \n",
       "L 18.109375 54.6875 \n",
       "L 18.109375 46.1875 \n",
       "Q 20.953125 51.171875 25.484375 53.578125 \n",
       "Q 30.03125 56 36.53125 56 \n",
       "Q 37.453125 56 38.578125 55.875 \n",
       "Q 39.703125 55.765625 41.0625 55.515625 \n",
       "z\n",
       "\" id=\"DejaVuSans-114\"/>\n",
       "        <path d=\"M 18.3125 70.21875 \n",
       "L 18.3125 54.6875 \n",
       "L 36.8125 54.6875 \n",
       "L 36.8125 47.703125 \n",
       "L 18.3125 47.703125 \n",
       "L 18.3125 18.015625 \n",
       "Q 18.3125 11.328125 20.140625 9.421875 \n",
       "Q 21.96875 7.515625 27.59375 7.515625 \n",
       "L 36.8125 7.515625 \n",
       "L 36.8125 0 \n",
       "L 27.59375 0 \n",
       "Q 17.1875 0 13.234375 3.875 \n",
       "Q 9.28125 7.765625 9.28125 18.015625 \n",
       "L 9.28125 47.703125 \n",
       "L 2.6875 47.703125 \n",
       "L 2.6875 54.6875 \n",
       "L 9.28125 54.6875 \n",
       "L 9.28125 70.21875 \n",
       "z\n",
       "\" id=\"DejaVuSans-116\"/>\n",
       "        <path d=\"M 9.421875 54.6875 \n",
       "L 18.40625 54.6875 \n",
       "L 18.40625 0 \n",
       "L 9.421875 0 \n",
       "z\n",
       "M 9.421875 75.984375 \n",
       "L 18.40625 75.984375 \n",
       "L 18.40625 64.59375 \n",
       "L 9.421875 64.59375 \n",
       "z\n",
       "\" id=\"DejaVuSans-105\"/>\n",
       "        <path d=\"M 48.6875 27.296875 \n",
       "Q 48.6875 37.203125 44.609375 42.84375 \n",
       "Q 40.53125 48.484375 33.40625 48.484375 \n",
       "Q 26.265625 48.484375 22.1875 42.84375 \n",
       "Q 18.109375 37.203125 18.109375 27.296875 \n",
       "Q 18.109375 17.390625 22.1875 11.75 \n",
       "Q 26.265625 6.109375 33.40625 6.109375 \n",
       "Q 40.53125 6.109375 44.609375 11.75 \n",
       "Q 48.6875 17.390625 48.6875 27.296875 \n",
       "z\n",
       "M 18.109375 46.390625 \n",
       "Q 20.953125 51.265625 25.265625 53.625 \n",
       "Q 29.59375 56 35.59375 56 \n",
       "Q 45.5625 56 51.78125 48.09375 \n",
       "Q 58.015625 40.1875 58.015625 27.296875 \n",
       "Q 58.015625 14.40625 51.78125 6.484375 \n",
       "Q 45.5625 -1.421875 35.59375 -1.421875 \n",
       "Q 29.59375 -1.421875 25.265625 0.953125 \n",
       "Q 20.953125 3.328125 18.109375 8.203125 \n",
       "L 18.109375 0 \n",
       "L 9.078125 0 \n",
       "L 9.078125 75.984375 \n",
       "L 18.109375 75.984375 \n",
       "z\n",
       "\" id=\"DejaVuSans-98\"/>\n",
       "       </defs>\n",
       "       <use xlink:href=\"#DejaVuSans-99\"/>\n",
       "       <use x=\"54.980469\" xlink:href=\"#DejaVuSans-111\"/>\n",
       "       <use x=\"116.162109\" xlink:href=\"#DejaVuSans-110\"/>\n",
       "       <use x=\"179.541016\" xlink:href=\"#DejaVuSans-118\"/>\n",
       "       <use x=\"238.720703\" xlink:href=\"#DejaVuSans-101\"/>\n",
       "       <use x=\"300.244141\" xlink:href=\"#DejaVuSans-114\"/>\n",
       "       <use x=\"341.357422\" xlink:href=\"#DejaVuSans-116\"/>\n",
       "       <use x=\"380.566406\" xlink:href=\"#DejaVuSans-105\"/>\n",
       "       <use x=\"408.349609\" xlink:href=\"#DejaVuSans-98\"/>\n",
       "       <use x=\"471.826172\" xlink:href=\"#DejaVuSans-108\"/>\n",
       "       <use x=\"499.609375\" xlink:href=\"#DejaVuSans-101\"/>\n",
       "      </g>\n",
       "     </g>\n",
       "    </g>\n",
       "    <g id=\"xtick_6\">\n",
       "     <g id=\"line2d_6\">\n",
       "      <g>\n",
       "       <use style=\"stroke:#000000;stroke-width:0.8;\" x=\"260.908807\" xlink:href=\"#m9022e46bea\" y=\"224.64\"/>\n",
       "      </g>\n",
       "     </g>\n",
       "     <g id=\"text_6\">\n",
       "      <!-- bus -->\n",
       "      <g transform=\"translate(251.961151 239.238437)scale(0.1 -0.1)\">\n",
       "       <use xlink:href=\"#DejaVuSans-98\"/>\n",
       "       <use x=\"63.476562\" xlink:href=\"#DejaVuSans-117\"/>\n",
       "       <use x=\"126.855469\" xlink:href=\"#DejaVuSans-115\"/>\n",
       "      </g>\n",
       "     </g>\n",
       "    </g>\n",
       "    <g id=\"xtick_7\">\n",
       "     <g id=\"line2d_7\">\n",
       "      <g>\n",
       "       <use style=\"stroke:#000000;stroke-width:0.8;\" x=\"294.726989\" xlink:href=\"#m9022e46bea\" y=\"224.64\"/>\n",
       "      </g>\n",
       "     </g>\n",
       "     <g id=\"text_7\">\n",
       "      <!-- wagon -->\n",
       "      <g transform=\"translate(278.17152 239.238437)scale(0.1 -0.1)\">\n",
       "       <defs>\n",
       "        <path d=\"M 45.40625 27.984375 \n",
       "Q 45.40625 37.75 41.375 43.109375 \n",
       "Q 37.359375 48.484375 30.078125 48.484375 \n",
       "Q 22.859375 48.484375 18.828125 43.109375 \n",
       "Q 14.796875 37.75 14.796875 27.984375 \n",
       "Q 14.796875 18.265625 18.828125 12.890625 \n",
       "Q 22.859375 7.515625 30.078125 7.515625 \n",
       "Q 37.359375 7.515625 41.375 12.890625 \n",
       "Q 45.40625 18.265625 45.40625 27.984375 \n",
       "z\n",
       "M 54.390625 6.78125 \n",
       "Q 54.390625 -7.171875 48.1875 -13.984375 \n",
       "Q 42 -20.796875 29.203125 -20.796875 \n",
       "Q 24.46875 -20.796875 20.265625 -20.09375 \n",
       "Q 16.0625 -19.390625 12.109375 -17.921875 \n",
       "L 12.109375 -9.1875 \n",
       "Q 16.0625 -11.328125 19.921875 -12.34375 \n",
       "Q 23.78125 -13.375 27.78125 -13.375 \n",
       "Q 36.625 -13.375 41.015625 -8.765625 \n",
       "Q 45.40625 -4.15625 45.40625 5.171875 \n",
       "L 45.40625 9.625 \n",
       "Q 42.625 4.78125 38.28125 2.390625 \n",
       "Q 33.9375 0 27.875 0 \n",
       "Q 17.828125 0 11.671875 7.65625 \n",
       "Q 5.515625 15.328125 5.515625 27.984375 \n",
       "Q 5.515625 40.671875 11.671875 48.328125 \n",
       "Q 17.828125 56 27.875 56 \n",
       "Q 33.9375 56 38.28125 53.609375 \n",
       "Q 42.625 51.21875 45.40625 46.390625 \n",
       "L 45.40625 54.6875 \n",
       "L 54.390625 54.6875 \n",
       "z\n",
       "\" id=\"DejaVuSans-103\"/>\n",
       "       </defs>\n",
       "       <use xlink:href=\"#DejaVuSans-119\"/>\n",
       "       <use x=\"81.787109\" xlink:href=\"#DejaVuSans-97\"/>\n",
       "       <use x=\"143.066406\" xlink:href=\"#DejaVuSans-103\"/>\n",
       "       <use x=\"206.542969\" xlink:href=\"#DejaVuSans-111\"/>\n",
       "       <use x=\"267.724609\" xlink:href=\"#DejaVuSans-110\"/>\n",
       "      </g>\n",
       "     </g>\n",
       "    </g>\n",
       "    <g id=\"xtick_8\">\n",
       "     <g id=\"line2d_8\">\n",
       "      <g>\n",
       "       <use style=\"stroke:#000000;stroke-width:0.8;\" x=\"328.54517\" xlink:href=\"#m9022e46bea\" y=\"224.64\"/>\n",
       "      </g>\n",
       "     </g>\n",
       "     <g id=\"text_8\">\n",
       "      <!-- coupe -->\n",
       "      <g transform=\"translate(313.317045 239.238437)scale(0.1 -0.1)\">\n",
       "       <defs>\n",
       "        <path d=\"M 18.109375 8.203125 \n",
       "L 18.109375 -20.796875 \n",
       "L 9.078125 -20.796875 \n",
       "L 9.078125 54.6875 \n",
       "L 18.109375 54.6875 \n",
       "L 18.109375 46.390625 \n",
       "Q 20.953125 51.265625 25.265625 53.625 \n",
       "Q 29.59375 56 35.59375 56 \n",
       "Q 45.5625 56 51.78125 48.09375 \n",
       "Q 58.015625 40.1875 58.015625 27.296875 \n",
       "Q 58.015625 14.40625 51.78125 6.484375 \n",
       "Q 45.5625 -1.421875 35.59375 -1.421875 \n",
       "Q 29.59375 -1.421875 25.265625 0.953125 \n",
       "Q 20.953125 3.328125 18.109375 8.203125 \n",
       "z\n",
       "M 48.6875 27.296875 \n",
       "Q 48.6875 37.203125 44.609375 42.84375 \n",
       "Q 40.53125 48.484375 33.40625 48.484375 \n",
       "Q 26.265625 48.484375 22.1875 42.84375 \n",
       "Q 18.109375 37.203125 18.109375 27.296875 \n",
       "Q 18.109375 17.390625 22.1875 11.75 \n",
       "Q 26.265625 6.109375 33.40625 6.109375 \n",
       "Q 40.53125 6.109375 44.609375 11.75 \n",
       "Q 48.6875 17.390625 48.6875 27.296875 \n",
       "z\n",
       "\" id=\"DejaVuSans-112\"/>\n",
       "       </defs>\n",
       "       <use xlink:href=\"#DejaVuSans-99\"/>\n",
       "       <use x=\"54.980469\" xlink:href=\"#DejaVuSans-111\"/>\n",
       "       <use x=\"116.162109\" xlink:href=\"#DejaVuSans-117\"/>\n",
       "       <use x=\"179.541016\" xlink:href=\"#DejaVuSans-112\"/>\n",
       "       <use x=\"243.017578\" xlink:href=\"#DejaVuSans-101\"/>\n",
       "      </g>\n",
       "     </g>\n",
       "    </g>\n",
       "    <g id=\"xtick_9\">\n",
       "     <g id=\"line2d_9\">\n",
       "      <g>\n",
       "       <use style=\"stroke:#000000;stroke-width:0.8;\" x=\"362.363352\" xlink:href=\"#m9022e46bea\" y=\"224.64\"/>\n",
       "      </g>\n",
       "     </g>\n",
       "     <g id=\"text_9\">\n",
       "      <!-- other -->\n",
       "      <g transform=\"translate(349.04304 239.238437)scale(0.1 -0.1)\">\n",
       "       <defs>\n",
       "        <path d=\"M 54.890625 33.015625 \n",
       "L 54.890625 0 \n",
       "L 45.90625 0 \n",
       "L 45.90625 32.71875 \n",
       "Q 45.90625 40.484375 42.875 44.328125 \n",
       "Q 39.84375 48.1875 33.796875 48.1875 \n",
       "Q 26.515625 48.1875 22.3125 43.546875 \n",
       "Q 18.109375 38.921875 18.109375 30.90625 \n",
       "L 18.109375 0 \n",
       "L 9.078125 0 \n",
       "L 9.078125 75.984375 \n",
       "L 18.109375 75.984375 \n",
       "L 18.109375 46.1875 \n",
       "Q 21.34375 51.125 25.703125 53.5625 \n",
       "Q 30.078125 56 35.796875 56 \n",
       "Q 45.21875 56 50.046875 50.171875 \n",
       "Q 54.890625 44.34375 54.890625 33.015625 \n",
       "z\n",
       "\" id=\"DejaVuSans-104\"/>\n",
       "       </defs>\n",
       "       <use xlink:href=\"#DejaVuSans-111\"/>\n",
       "       <use x=\"61.181641\" xlink:href=\"#DejaVuSans-116\"/>\n",
       "       <use x=\"100.390625\" xlink:href=\"#DejaVuSans-104\"/>\n",
       "       <use x=\"163.769531\" xlink:href=\"#DejaVuSans-101\"/>\n",
       "       <use x=\"225.292969\" xlink:href=\"#DejaVuSans-114\"/>\n",
       "      </g>\n",
       "     </g>\n",
       "    </g>\n",
       "    <g id=\"text_10\">\n",
       "     <!-- VehicleType -->\n",
       "     <g transform=\"translate(197.725781 252.916562)scale(0.1 -0.1)\">\n",
       "      <defs>\n",
       "       <path d=\"M 28.609375 0 \n",
       "L 0.78125 72.90625 \n",
       "L 11.078125 72.90625 \n",
       "L 34.1875 11.53125 \n",
       "L 57.328125 72.90625 \n",
       "L 67.578125 72.90625 \n",
       "L 39.796875 0 \n",
       "z\n",
       "\" id=\"DejaVuSans-86\"/>\n",
       "       <path d=\"M -0.296875 72.90625 \n",
       "L 61.375 72.90625 \n",
       "L 61.375 64.59375 \n",
       "L 35.5 64.59375 \n",
       "L 35.5 0 \n",
       "L 25.59375 0 \n",
       "L 25.59375 64.59375 \n",
       "L -0.296875 64.59375 \n",
       "z\n",
       "\" id=\"DejaVuSans-84\"/>\n",
       "       <path d=\"M 32.171875 -5.078125 \n",
       "Q 28.375 -14.84375 24.75 -17.8125 \n",
       "Q 21.140625 -20.796875 15.09375 -20.796875 \n",
       "L 7.90625 -20.796875 \n",
       "L 7.90625 -13.28125 \n",
       "L 13.1875 -13.28125 \n",
       "Q 16.890625 -13.28125 18.9375 -11.515625 \n",
       "Q 21 -9.765625 23.484375 -3.21875 \n",
       "L 25.09375 0.875 \n",
       "L 2.984375 54.6875 \n",
       "L 12.5 54.6875 \n",
       "L 29.59375 11.921875 \n",
       "L 46.6875 54.6875 \n",
       "L 56.203125 54.6875 \n",
       "z\n",
       "\" id=\"DejaVuSans-121\"/>\n",
       "      </defs>\n",
       "      <use xlink:href=\"#DejaVuSans-86\"/>\n",
       "      <use x=\"60.658203\" xlink:href=\"#DejaVuSans-101\"/>\n",
       "      <use x=\"122.181641\" xlink:href=\"#DejaVuSans-104\"/>\n",
       "      <use x=\"185.560547\" xlink:href=\"#DejaVuSans-105\"/>\n",
       "      <use x=\"213.34375\" xlink:href=\"#DejaVuSans-99\"/>\n",
       "      <use x=\"268.324219\" xlink:href=\"#DejaVuSans-108\"/>\n",
       "      <use x=\"296.107422\" xlink:href=\"#DejaVuSans-101\"/>\n",
       "      <use x=\"357.630859\" xlink:href=\"#DejaVuSans-84\"/>\n",
       "      <use x=\"403.089844\" xlink:href=\"#DejaVuSans-121\"/>\n",
       "      <use x=\"462.269531\" xlink:href=\"#DejaVuSans-112\"/>\n",
       "      <use x=\"525.746094\" xlink:href=\"#DejaVuSans-101\"/>\n",
       "     </g>\n",
       "    </g>\n",
       "   </g>\n",
       "   <g id=\"matplotlib.axis_2\">\n",
       "    <g id=\"ytick_1\">\n",
       "     <g id=\"line2d_10\">\n",
       "      <defs>\n",
       "       <path d=\"M 0 0 \n",
       "L -3.5 0 \n",
       "\" id=\"m82546bcceb\" style=\"stroke:#000000;stroke-width:0.8;\"/>\n",
       "      </defs>\n",
       "      <g>\n",
       "       <use style=\"stroke:#000000;stroke-width:0.8;\" x=\"59.690625\" xlink:href=\"#m82546bcceb\" y=\"224.64\"/>\n",
       "      </g>\n",
       "     </g>\n",
       "     <g id=\"text_11\">\n",
       "      <!-- 0 -->\n",
       "      <g transform=\"translate(46.328125 228.439219)scale(0.1 -0.1)\">\n",
       "       <defs>\n",
       "        <path d=\"M 31.78125 66.40625 \n",
       "Q 24.171875 66.40625 20.328125 58.90625 \n",
       "Q 16.5 51.421875 16.5 36.375 \n",
       "Q 16.5 21.390625 20.328125 13.890625 \n",
       "Q 24.171875 6.390625 31.78125 6.390625 \n",
       "Q 39.453125 6.390625 43.28125 13.890625 \n",
       "Q 47.125 21.390625 47.125 36.375 \n",
       "Q 47.125 51.421875 43.28125 58.90625 \n",
       "Q 39.453125 66.40625 31.78125 66.40625 \n",
       "z\n",
       "M 31.78125 74.21875 \n",
       "Q 44.046875 74.21875 50.515625 64.515625 \n",
       "Q 56.984375 54.828125 56.984375 36.375 \n",
       "Q 56.984375 17.96875 50.515625 8.265625 \n",
       "Q 44.046875 -1.421875 31.78125 -1.421875 \n",
       "Q 19.53125 -1.421875 13.0625 8.265625 \n",
       "Q 6.59375 17.96875 6.59375 36.375 \n",
       "Q 6.59375 54.828125 13.0625 64.515625 \n",
       "Q 19.53125 74.21875 31.78125 74.21875 \n",
       "z\n",
       "\" id=\"DejaVuSans-48\"/>\n",
       "       </defs>\n",
       "       <use xlink:href=\"#DejaVuSans-48\"/>\n",
       "      </g>\n",
       "     </g>\n",
       "    </g>\n",
       "    <g id=\"ytick_2\">\n",
       "     <g id=\"line2d_11\">\n",
       "      <g>\n",
       "       <use style=\"stroke:#000000;stroke-width:0.8;\" x=\"59.690625\" xlink:href=\"#m82546bcceb\" y=\"200.139484\"/>\n",
       "      </g>\n",
       "     </g>\n",
       "     <g id=\"text_12\">\n",
       "      <!-- 10000 -->\n",
       "      <g transform=\"translate(20.878125 203.938702)scale(0.1 -0.1)\">\n",
       "       <defs>\n",
       "        <path d=\"M 12.40625 8.296875 \n",
       "L 28.515625 8.296875 \n",
       "L 28.515625 63.921875 \n",
       "L 10.984375 60.40625 \n",
       "L 10.984375 69.390625 \n",
       "L 28.421875 72.90625 \n",
       "L 38.28125 72.90625 \n",
       "L 38.28125 8.296875 \n",
       "L 54.390625 8.296875 \n",
       "L 54.390625 0 \n",
       "L 12.40625 0 \n",
       "z\n",
       "\" id=\"DejaVuSans-49\"/>\n",
       "       </defs>\n",
       "       <use xlink:href=\"#DejaVuSans-49\"/>\n",
       "       <use x=\"63.623047\" xlink:href=\"#DejaVuSans-48\"/>\n",
       "       <use x=\"127.246094\" xlink:href=\"#DejaVuSans-48\"/>\n",
       "       <use x=\"190.869141\" xlink:href=\"#DejaVuSans-48\"/>\n",
       "       <use x=\"254.492188\" xlink:href=\"#DejaVuSans-48\"/>\n",
       "      </g>\n",
       "     </g>\n",
       "    </g>\n",
       "    <g id=\"ytick_3\">\n",
       "     <g id=\"line2d_12\">\n",
       "      <g>\n",
       "       <use style=\"stroke:#000000;stroke-width:0.8;\" x=\"59.690625\" xlink:href=\"#m82546bcceb\" y=\"175.638967\"/>\n",
       "      </g>\n",
       "     </g>\n",
       "     <g id=\"text_13\">\n",
       "      <!-- 20000 -->\n",
       "      <g transform=\"translate(20.878125 179.438186)scale(0.1 -0.1)\">\n",
       "       <defs>\n",
       "        <path d=\"M 19.1875 8.296875 \n",
       "L 53.609375 8.296875 \n",
       "L 53.609375 0 \n",
       "L 7.328125 0 \n",
       "L 7.328125 8.296875 \n",
       "Q 12.9375 14.109375 22.625 23.890625 \n",
       "Q 32.328125 33.6875 34.8125 36.53125 \n",
       "Q 39.546875 41.84375 41.421875 45.53125 \n",
       "Q 43.3125 49.21875 43.3125 52.78125 \n",
       "Q 43.3125 58.59375 39.234375 62.25 \n",
       "Q 35.15625 65.921875 28.609375 65.921875 \n",
       "Q 23.96875 65.921875 18.8125 64.3125 \n",
       "Q 13.671875 62.703125 7.8125 59.421875 \n",
       "L 7.8125 69.390625 \n",
       "Q 13.765625 71.78125 18.9375 73 \n",
       "Q 24.125 74.21875 28.421875 74.21875 \n",
       "Q 39.75 74.21875 46.484375 68.546875 \n",
       "Q 53.21875 62.890625 53.21875 53.421875 \n",
       "Q 53.21875 48.921875 51.53125 44.890625 \n",
       "Q 49.859375 40.875 45.40625 35.40625 \n",
       "Q 44.1875 33.984375 37.640625 27.21875 \n",
       "Q 31.109375 20.453125 19.1875 8.296875 \n",
       "z\n",
       "\" id=\"DejaVuSans-50\"/>\n",
       "       </defs>\n",
       "       <use xlink:href=\"#DejaVuSans-50\"/>\n",
       "       <use x=\"63.623047\" xlink:href=\"#DejaVuSans-48\"/>\n",
       "       <use x=\"127.246094\" xlink:href=\"#DejaVuSans-48\"/>\n",
       "       <use x=\"190.869141\" xlink:href=\"#DejaVuSans-48\"/>\n",
       "       <use x=\"254.492188\" xlink:href=\"#DejaVuSans-48\"/>\n",
       "      </g>\n",
       "     </g>\n",
       "    </g>\n",
       "    <g id=\"ytick_4\">\n",
       "     <g id=\"line2d_13\">\n",
       "      <g>\n",
       "       <use style=\"stroke:#000000;stroke-width:0.8;\" x=\"59.690625\" xlink:href=\"#m82546bcceb\" y=\"151.138451\"/>\n",
       "      </g>\n",
       "     </g>\n",
       "     <g id=\"text_14\">\n",
       "      <!-- 30000 -->\n",
       "      <g transform=\"translate(20.878125 154.93767)scale(0.1 -0.1)\">\n",
       "       <defs>\n",
       "        <path d=\"M 40.578125 39.3125 \n",
       "Q 47.65625 37.796875 51.625 33 \n",
       "Q 55.609375 28.21875 55.609375 21.1875 \n",
       "Q 55.609375 10.40625 48.1875 4.484375 \n",
       "Q 40.765625 -1.421875 27.09375 -1.421875 \n",
       "Q 22.515625 -1.421875 17.65625 -0.515625 \n",
       "Q 12.796875 0.390625 7.625 2.203125 \n",
       "L 7.625 11.71875 \n",
       "Q 11.71875 9.328125 16.59375 8.109375 \n",
       "Q 21.484375 6.890625 26.8125 6.890625 \n",
       "Q 36.078125 6.890625 40.9375 10.546875 \n",
       "Q 45.796875 14.203125 45.796875 21.1875 \n",
       "Q 45.796875 27.640625 41.28125 31.265625 \n",
       "Q 36.765625 34.90625 28.71875 34.90625 \n",
       "L 20.21875 34.90625 \n",
       "L 20.21875 43.015625 \n",
       "L 29.109375 43.015625 \n",
       "Q 36.375 43.015625 40.234375 45.921875 \n",
       "Q 44.09375 48.828125 44.09375 54.296875 \n",
       "Q 44.09375 59.90625 40.109375 62.90625 \n",
       "Q 36.140625 65.921875 28.71875 65.921875 \n",
       "Q 24.65625 65.921875 20.015625 65.03125 \n",
       "Q 15.375 64.15625 9.8125 62.3125 \n",
       "L 9.8125 71.09375 \n",
       "Q 15.4375 72.65625 20.34375 73.4375 \n",
       "Q 25.25 74.21875 29.59375 74.21875 \n",
       "Q 40.828125 74.21875 47.359375 69.109375 \n",
       "Q 53.90625 64.015625 53.90625 55.328125 \n",
       "Q 53.90625 49.265625 50.4375 45.09375 \n",
       "Q 46.96875 40.921875 40.578125 39.3125 \n",
       "z\n",
       "\" id=\"DejaVuSans-51\"/>\n",
       "       </defs>\n",
       "       <use xlink:href=\"#DejaVuSans-51\"/>\n",
       "       <use x=\"63.623047\" xlink:href=\"#DejaVuSans-48\"/>\n",
       "       <use x=\"127.246094\" xlink:href=\"#DejaVuSans-48\"/>\n",
       "       <use x=\"190.869141\" xlink:href=\"#DejaVuSans-48\"/>\n",
       "       <use x=\"254.492188\" xlink:href=\"#DejaVuSans-48\"/>\n",
       "      </g>\n",
       "     </g>\n",
       "    </g>\n",
       "    <g id=\"ytick_5\">\n",
       "     <g id=\"line2d_14\">\n",
       "      <g>\n",
       "       <use style=\"stroke:#000000;stroke-width:0.8;\" x=\"59.690625\" xlink:href=\"#m82546bcceb\" y=\"126.637935\"/>\n",
       "      </g>\n",
       "     </g>\n",
       "     <g id=\"text_15\">\n",
       "      <!-- 40000 -->\n",
       "      <g transform=\"translate(20.878125 130.437153)scale(0.1 -0.1)\">\n",
       "       <defs>\n",
       "        <path d=\"M 37.796875 64.3125 \n",
       "L 12.890625 25.390625 \n",
       "L 37.796875 25.390625 \n",
       "z\n",
       "M 35.203125 72.90625 \n",
       "L 47.609375 72.90625 \n",
       "L 47.609375 25.390625 \n",
       "L 58.015625 25.390625 \n",
       "L 58.015625 17.1875 \n",
       "L 47.609375 17.1875 \n",
       "L 47.609375 0 \n",
       "L 37.796875 0 \n",
       "L 37.796875 17.1875 \n",
       "L 4.890625 17.1875 \n",
       "L 4.890625 26.703125 \n",
       "z\n",
       "\" id=\"DejaVuSans-52\"/>\n",
       "       </defs>\n",
       "       <use xlink:href=\"#DejaVuSans-52\"/>\n",
       "       <use x=\"63.623047\" xlink:href=\"#DejaVuSans-48\"/>\n",
       "       <use x=\"127.246094\" xlink:href=\"#DejaVuSans-48\"/>\n",
       "       <use x=\"190.869141\" xlink:href=\"#DejaVuSans-48\"/>\n",
       "       <use x=\"254.492188\" xlink:href=\"#DejaVuSans-48\"/>\n",
       "      </g>\n",
       "     </g>\n",
       "    </g>\n",
       "    <g id=\"ytick_6\">\n",
       "     <g id=\"line2d_15\">\n",
       "      <g>\n",
       "       <use style=\"stroke:#000000;stroke-width:0.8;\" x=\"59.690625\" xlink:href=\"#m82546bcceb\" y=\"102.137418\"/>\n",
       "      </g>\n",
       "     </g>\n",
       "     <g id=\"text_16\">\n",
       "      <!-- 50000 -->\n",
       "      <g transform=\"translate(20.878125 105.936637)scale(0.1 -0.1)\">\n",
       "       <defs>\n",
       "        <path d=\"M 10.796875 72.90625 \n",
       "L 49.515625 72.90625 \n",
       "L 49.515625 64.59375 \n",
       "L 19.828125 64.59375 \n",
       "L 19.828125 46.734375 \n",
       "Q 21.96875 47.46875 24.109375 47.828125 \n",
       "Q 26.265625 48.1875 28.421875 48.1875 \n",
       "Q 40.625 48.1875 47.75 41.5 \n",
       "Q 54.890625 34.8125 54.890625 23.390625 \n",
       "Q 54.890625 11.625 47.5625 5.09375 \n",
       "Q 40.234375 -1.421875 26.90625 -1.421875 \n",
       "Q 22.3125 -1.421875 17.546875 -0.640625 \n",
       "Q 12.796875 0.140625 7.71875 1.703125 \n",
       "L 7.71875 11.625 \n",
       "Q 12.109375 9.234375 16.796875 8.0625 \n",
       "Q 21.484375 6.890625 26.703125 6.890625 \n",
       "Q 35.15625 6.890625 40.078125 11.328125 \n",
       "Q 45.015625 15.765625 45.015625 23.390625 \n",
       "Q 45.015625 31 40.078125 35.4375 \n",
       "Q 35.15625 39.890625 26.703125 39.890625 \n",
       "Q 22.75 39.890625 18.8125 39.015625 \n",
       "Q 14.890625 38.140625 10.796875 36.28125 \n",
       "z\n",
       "\" id=\"DejaVuSans-53\"/>\n",
       "       </defs>\n",
       "       <use xlink:href=\"#DejaVuSans-53\"/>\n",
       "       <use x=\"63.623047\" xlink:href=\"#DejaVuSans-48\"/>\n",
       "       <use x=\"127.246094\" xlink:href=\"#DejaVuSans-48\"/>\n",
       "       <use x=\"190.869141\" xlink:href=\"#DejaVuSans-48\"/>\n",
       "       <use x=\"254.492188\" xlink:href=\"#DejaVuSans-48\"/>\n",
       "      </g>\n",
       "     </g>\n",
       "    </g>\n",
       "    <g id=\"ytick_7\">\n",
       "     <g id=\"line2d_16\">\n",
       "      <g>\n",
       "       <use style=\"stroke:#000000;stroke-width:0.8;\" x=\"59.690625\" xlink:href=\"#m82546bcceb\" y=\"77.636902\"/>\n",
       "      </g>\n",
       "     </g>\n",
       "     <g id=\"text_17\">\n",
       "      <!-- 60000 -->\n",
       "      <g transform=\"translate(20.878125 81.436121)scale(0.1 -0.1)\">\n",
       "       <defs>\n",
       "        <path d=\"M 33.015625 40.375 \n",
       "Q 26.375 40.375 22.484375 35.828125 \n",
       "Q 18.609375 31.296875 18.609375 23.390625 \n",
       "Q 18.609375 15.53125 22.484375 10.953125 \n",
       "Q 26.375 6.390625 33.015625 6.390625 \n",
       "Q 39.65625 6.390625 43.53125 10.953125 \n",
       "Q 47.40625 15.53125 47.40625 23.390625 \n",
       "Q 47.40625 31.296875 43.53125 35.828125 \n",
       "Q 39.65625 40.375 33.015625 40.375 \n",
       "z\n",
       "M 52.59375 71.296875 \n",
       "L 52.59375 62.3125 \n",
       "Q 48.875 64.0625 45.09375 64.984375 \n",
       "Q 41.3125 65.921875 37.59375 65.921875 \n",
       "Q 27.828125 65.921875 22.671875 59.328125 \n",
       "Q 17.53125 52.734375 16.796875 39.40625 \n",
       "Q 19.671875 43.65625 24.015625 45.921875 \n",
       "Q 28.375 48.1875 33.59375 48.1875 \n",
       "Q 44.578125 48.1875 50.953125 41.515625 \n",
       "Q 57.328125 34.859375 57.328125 23.390625 \n",
       "Q 57.328125 12.15625 50.6875 5.359375 \n",
       "Q 44.046875 -1.421875 33.015625 -1.421875 \n",
       "Q 20.359375 -1.421875 13.671875 8.265625 \n",
       "Q 6.984375 17.96875 6.984375 36.375 \n",
       "Q 6.984375 53.65625 15.1875 63.9375 \n",
       "Q 23.390625 74.21875 37.203125 74.21875 \n",
       "Q 40.921875 74.21875 44.703125 73.484375 \n",
       "Q 48.484375 72.75 52.59375 71.296875 \n",
       "z\n",
       "\" id=\"DejaVuSans-54\"/>\n",
       "       </defs>\n",
       "       <use xlink:href=\"#DejaVuSans-54\"/>\n",
       "       <use x=\"63.623047\" xlink:href=\"#DejaVuSans-48\"/>\n",
       "       <use x=\"127.246094\" xlink:href=\"#DejaVuSans-48\"/>\n",
       "       <use x=\"190.869141\" xlink:href=\"#DejaVuSans-48\"/>\n",
       "       <use x=\"254.492188\" xlink:href=\"#DejaVuSans-48\"/>\n",
       "      </g>\n",
       "     </g>\n",
       "    </g>\n",
       "    <g id=\"ytick_8\">\n",
       "     <g id=\"line2d_17\">\n",
       "      <g>\n",
       "       <use style=\"stroke:#000000;stroke-width:0.8;\" x=\"59.690625\" xlink:href=\"#m82546bcceb\" y=\"53.136386\"/>\n",
       "      </g>\n",
       "     </g>\n",
       "     <g id=\"text_18\">\n",
       "      <!-- 70000 -->\n",
       "      <g transform=\"translate(20.878125 56.935604)scale(0.1 -0.1)\">\n",
       "       <defs>\n",
       "        <path d=\"M 8.203125 72.90625 \n",
       "L 55.078125 72.90625 \n",
       "L 55.078125 68.703125 \n",
       "L 28.609375 0 \n",
       "L 18.3125 0 \n",
       "L 43.21875 64.59375 \n",
       "L 8.203125 64.59375 \n",
       "z\n",
       "\" id=\"DejaVuSans-55\"/>\n",
       "       </defs>\n",
       "       <use xlink:href=\"#DejaVuSans-55\"/>\n",
       "       <use x=\"63.623047\" xlink:href=\"#DejaVuSans-48\"/>\n",
       "       <use x=\"127.246094\" xlink:href=\"#DejaVuSans-48\"/>\n",
       "       <use x=\"190.869141\" xlink:href=\"#DejaVuSans-48\"/>\n",
       "       <use x=\"254.492188\" xlink:href=\"#DejaVuSans-48\"/>\n",
       "      </g>\n",
       "     </g>\n",
       "    </g>\n",
       "    <g id=\"ytick_9\">\n",
       "     <g id=\"line2d_18\">\n",
       "      <g>\n",
       "       <use style=\"stroke:#000000;stroke-width:0.8;\" x=\"59.690625\" xlink:href=\"#m82546bcceb\" y=\"28.635869\"/>\n",
       "      </g>\n",
       "     </g>\n",
       "     <g id=\"text_19\">\n",
       "      <!-- 80000 -->\n",
       "      <g transform=\"translate(20.878125 32.435088)scale(0.1 -0.1)\">\n",
       "       <defs>\n",
       "        <path d=\"M 31.78125 34.625 \n",
       "Q 24.75 34.625 20.71875 30.859375 \n",
       "Q 16.703125 27.09375 16.703125 20.515625 \n",
       "Q 16.703125 13.921875 20.71875 10.15625 \n",
       "Q 24.75 6.390625 31.78125 6.390625 \n",
       "Q 38.8125 6.390625 42.859375 10.171875 \n",
       "Q 46.921875 13.96875 46.921875 20.515625 \n",
       "Q 46.921875 27.09375 42.890625 30.859375 \n",
       "Q 38.875 34.625 31.78125 34.625 \n",
       "z\n",
       "M 21.921875 38.8125 \n",
       "Q 15.578125 40.375 12.03125 44.71875 \n",
       "Q 8.5 49.078125 8.5 55.328125 \n",
       "Q 8.5 64.0625 14.71875 69.140625 \n",
       "Q 20.953125 74.21875 31.78125 74.21875 \n",
       "Q 42.671875 74.21875 48.875 69.140625 \n",
       "Q 55.078125 64.0625 55.078125 55.328125 \n",
       "Q 55.078125 49.078125 51.53125 44.71875 \n",
       "Q 48 40.375 41.703125 38.8125 \n",
       "Q 48.828125 37.15625 52.796875 32.3125 \n",
       "Q 56.78125 27.484375 56.78125 20.515625 \n",
       "Q 56.78125 9.90625 50.3125 4.234375 \n",
       "Q 43.84375 -1.421875 31.78125 -1.421875 \n",
       "Q 19.734375 -1.421875 13.25 4.234375 \n",
       "Q 6.78125 9.90625 6.78125 20.515625 \n",
       "Q 6.78125 27.484375 10.78125 32.3125 \n",
       "Q 14.796875 37.15625 21.921875 38.8125 \n",
       "z\n",
       "M 18.3125 54.390625 \n",
       "Q 18.3125 48.734375 21.84375 45.5625 \n",
       "Q 25.390625 42.390625 31.78125 42.390625 \n",
       "Q 38.140625 42.390625 41.71875 45.5625 \n",
       "Q 45.3125 48.734375 45.3125 54.390625 \n",
       "Q 45.3125 60.0625 41.71875 63.234375 \n",
       "Q 38.140625 66.40625 31.78125 66.40625 \n",
       "Q 25.390625 66.40625 21.84375 63.234375 \n",
       "Q 18.3125 60.0625 18.3125 54.390625 \n",
       "z\n",
       "\" id=\"DejaVuSans-56\"/>\n",
       "       </defs>\n",
       "       <use xlink:href=\"#DejaVuSans-56\"/>\n",
       "       <use x=\"63.623047\" xlink:href=\"#DejaVuSans-48\"/>\n",
       "       <use x=\"127.246094\" xlink:href=\"#DejaVuSans-48\"/>\n",
       "       <use x=\"190.869141\" xlink:href=\"#DejaVuSans-48\"/>\n",
       "       <use x=\"254.492188\" xlink:href=\"#DejaVuSans-48\"/>\n",
       "      </g>\n",
       "     </g>\n",
       "    </g>\n",
       "    <g id=\"text_20\">\n",
       "     <!-- Count -->\n",
       "     <g transform=\"translate(14.798438 130.768437)rotate(-90)scale(0.1 -0.1)\">\n",
       "      <defs>\n",
       "       <path d=\"M 64.40625 67.28125 \n",
       "L 64.40625 56.890625 \n",
       "Q 59.421875 61.53125 53.78125 63.8125 \n",
       "Q 48.140625 66.109375 41.796875 66.109375 \n",
       "Q 29.296875 66.109375 22.65625 58.46875 \n",
       "Q 16.015625 50.828125 16.015625 36.375 \n",
       "Q 16.015625 21.96875 22.65625 14.328125 \n",
       "Q 29.296875 6.6875 41.796875 6.6875 \n",
       "Q 48.140625 6.6875 53.78125 8.984375 \n",
       "Q 59.421875 11.28125 64.40625 15.921875 \n",
       "L 64.40625 5.609375 \n",
       "Q 59.234375 2.09375 53.4375 0.328125 \n",
       "Q 47.65625 -1.421875 41.21875 -1.421875 \n",
       "Q 24.65625 -1.421875 15.125 8.703125 \n",
       "Q 5.609375 18.84375 5.609375 36.375 \n",
       "Q 5.609375 53.953125 15.125 64.078125 \n",
       "Q 24.65625 74.21875 41.21875 74.21875 \n",
       "Q 47.75 74.21875 53.53125 72.484375 \n",
       "Q 59.328125 70.75 64.40625 67.28125 \n",
       "z\n",
       "\" id=\"DejaVuSans-67\"/>\n",
       "      </defs>\n",
       "      <use xlink:href=\"#DejaVuSans-67\"/>\n",
       "      <use x=\"69.824219\" xlink:href=\"#DejaVuSans-111\"/>\n",
       "      <use x=\"131.005859\" xlink:href=\"#DejaVuSans-117\"/>\n",
       "      <use x=\"194.384766\" xlink:href=\"#DejaVuSans-110\"/>\n",
       "      <use x=\"257.763672\" xlink:href=\"#DejaVuSans-116\"/>\n",
       "     </g>\n",
       "    </g>\n",
       "   </g>\n",
       "   <g id=\"patch_12\">\n",
       "    <path d=\"M 59.690625 224.64 \n",
       "L 59.690625 7.2 \n",
       "\" style=\"fill:none;stroke:#000000;stroke-linecap:square;stroke-linejoin:miter;stroke-width:0.8;\"/>\n",
       "   </g>\n",
       "   <g id=\"patch_13\">\n",
       "    <path d=\"M 394.490625 224.64 \n",
       "L 394.490625 7.2 \n",
       "\" style=\"fill:none;stroke:#000000;stroke-linecap:square;stroke-linejoin:miter;stroke-width:0.8;\"/>\n",
       "   </g>\n",
       "   <g id=\"patch_14\">\n",
       "    <path d=\"M 59.690625 224.64 \n",
       "L 394.490625 224.64 \n",
       "\" style=\"fill:none;stroke:#000000;stroke-linecap:square;stroke-linejoin:miter;stroke-width:0.8;\"/>\n",
       "   </g>\n",
       "   <g id=\"patch_15\">\n",
       "    <path d=\"M 59.690625 7.2 \n",
       "L 394.490625 7.2 \n",
       "\" style=\"fill:none;stroke:#000000;stroke-linecap:square;stroke-linejoin:miter;stroke-width:0.8;\"/>\n",
       "   </g>\n",
       "  </g>\n",
       " </g>\n",
       " <defs>\n",
       "  <clipPath id=\"p8717de1fbe\">\n",
       "   <rect height=\"217.44\" width=\"334.8\" x=\"59.690625\" y=\"7.2\"/>\n",
       "  </clipPath>\n",
       " </defs>\n",
       "</svg>\n"
      ],
      "text/plain": [
       "<Figure size 432x288 with 1 Axes>"
      ]
     },
     "metadata": {
      "needs_background": "light"
     },
     "output_type": "display_data"
    }
   ],
   "source": [
    "# Посмотрим Тип автомобильного кузова\n",
    "sns.histplot(df[columns_name[2]], bins=9);"
   ]
  },
  {
   "cell_type": "markdown",
   "metadata": {},
   "source": [
    "- Топ 3 автомобильных кузовов Sedan, Small, Wagon"
   ]
  },
  {
   "cell_type": "markdown",
   "metadata": {},
   "source": [
    "##### ● 4 <b>Gearbox</b> — тип коробки передач\n",
    "    - | object |\n",
    "    - Присутствуют Nan заменим их на unknown."
   ]
  },
  {
   "cell_type": "code",
   "execution_count": 64,
   "metadata": {},
   "outputs": [],
   "source": [
    "# Заменим Nan на 'unknown'\n",
    "df[columns_name[4]] = df[columns_name[4]].fillna('unknown')"
   ]
  },
  {
   "cell_type": "code",
   "execution_count": 65,
   "metadata": {},
   "outputs": [
    {
     "data": {
      "text/plain": [
       "manual     248219\n",
       "auto        59456\n",
       "unknown     14439\n",
       "Name: Gearbox, dtype: int64"
      ]
     },
     "execution_count": 65,
     "metadata": {},
     "output_type": "execute_result"
    }
   ],
   "source": [
    "df[columns_name[4]].value_counts()"
   ]
  },
  {
   "cell_type": "markdown",
   "metadata": {},
   "source": [
    "- В основном размещают машины с ручной коробко передачи"
   ]
  },
  {
   "cell_type": "markdown",
   "metadata": {},
   "source": [
    "##### ● 5 <b>Power</b> — мощность (л. с.)\n",
    "    - | int64 |\n",
    "    - Имеются выбросы и нереальные значения. Возьмем процентиль.\n",
    "    - Возьмем строки со значением согласно процентилю 50 -> 250."
   ]
  },
  {
   "cell_type": "code",
   "execution_count": 66,
   "metadata": {},
   "outputs": [],
   "source": [
    "df = df[(df['Power'] > 50) & (df['Power'] < 250)]"
   ]
  },
  {
   "cell_type": "code",
   "execution_count": 67,
   "metadata": {},
   "outputs": [
    {
     "data": {
      "image/svg+xml": [
       "<?xml version=\"1.0\" encoding=\"utf-8\" standalone=\"no\"?>\n",
       "<!DOCTYPE svg PUBLIC \"-//W3C//DTD SVG 1.1//EN\"\n",
       "  \"http://www.w3.org/Graphics/SVG/1.1/DTD/svg11.dtd\">\n",
       "<!-- Created with matplotlib (https://matplotlib.org/) -->\n",
       "<svg height=\"262.19625pt\" version=\"1.1\" viewBox=\"0 0 401.690625 262.19625\" width=\"401.690625pt\" xmlns=\"http://www.w3.org/2000/svg\" xmlns:xlink=\"http://www.w3.org/1999/xlink\">\n",
       " <metadata>\n",
       "  <rdf:RDF xmlns:cc=\"http://creativecommons.org/ns#\" xmlns:dc=\"http://purl.org/dc/elements/1.1/\" xmlns:rdf=\"http://www.w3.org/1999/02/22-rdf-syntax-ns#\">\n",
       "   <cc:Work>\n",
       "    <dc:type rdf:resource=\"http://purl.org/dc/dcmitype/StillImage\"/>\n",
       "    <dc:date>2023-03-12T16:52:07.399514</dc:date>\n",
       "    <dc:format>image/svg+xml</dc:format>\n",
       "    <dc:creator>\n",
       "     <cc:Agent>\n",
       "      <dc:title>Matplotlib v3.3.4, https://matplotlib.org/</dc:title>\n",
       "     </cc:Agent>\n",
       "    </dc:creator>\n",
       "   </cc:Work>\n",
       "  </rdf:RDF>\n",
       " </metadata>\n",
       " <defs>\n",
       "  <style type=\"text/css\">*{stroke-linecap:butt;stroke-linejoin:round;}</style>\n",
       " </defs>\n",
       " <g id=\"figure_1\">\n",
       "  <g id=\"patch_1\">\n",
       "   <path d=\"M 0 262.19625 \n",
       "L 401.690625 262.19625 \n",
       "L 401.690625 0 \n",
       "L 0 0 \n",
       "z\n",
       "\" style=\"fill:none;\"/>\n",
       "  </g>\n",
       "  <g id=\"axes_1\">\n",
       "   <g id=\"patch_2\">\n",
       "    <path d=\"M 59.690625 224.64 \n",
       "L 394.490625 224.64 \n",
       "L 394.490625 7.2 \n",
       "L 59.690625 7.2 \n",
       "z\n",
       "\" style=\"fill:#ffffff;\"/>\n",
       "   </g>\n",
       "   <g id=\"patch_3\">\n",
       "    <path clip-path=\"url(#p0176796882)\" d=\"M 74.908807 224.64 \n",
       "L 108.726989 224.64 \n",
       "L 108.726989 92.945175 \n",
       "L 74.908807 92.945175 \n",
       "z\n",
       "\" style=\"fill:#1f77b4;fill-opacity:0.75;stroke:#000000;stroke-linejoin:miter;\"/>\n",
       "   </g>\n",
       "   <g id=\"patch_4\">\n",
       "    <path clip-path=\"url(#p0176796882)\" d=\"M 108.726989 224.64 \n",
       "L 142.54517 224.64 \n",
       "L 142.54517 61.263538 \n",
       "L 108.726989 61.263538 \n",
       "z\n",
       "\" style=\"fill:#1f77b4;fill-opacity:0.75;stroke:#000000;stroke-linejoin:miter;\"/>\n",
       "   </g>\n",
       "   <g id=\"patch_5\">\n",
       "    <path clip-path=\"url(#p0176796882)\" d=\"M 142.54517 224.64 \n",
       "L 176.363352 224.64 \n",
       "L 176.363352 17.554286 \n",
       "L 142.54517 17.554286 \n",
       "z\n",
       "\" style=\"fill:#1f77b4;fill-opacity:0.75;stroke:#000000;stroke-linejoin:miter;\"/>\n",
       "   </g>\n",
       "   <g id=\"patch_6\">\n",
       "    <path clip-path=\"url(#p0176796882)\" d=\"M 176.363352 224.64 \n",
       "L 210.181534 224.64 \n",
       "L 210.181534 117.138952 \n",
       "L 176.363352 117.138952 \n",
       "z\n",
       "\" style=\"fill:#1f77b4;fill-opacity:0.75;stroke:#000000;stroke-linejoin:miter;\"/>\n",
       "   </g>\n",
       "   <g id=\"patch_7\">\n",
       "    <path clip-path=\"url(#p0176796882)\" d=\"M 210.181534 224.64 \n",
       "L 243.999716 224.64 \n",
       "L 243.999716 98.712502 \n",
       "L 210.181534 98.712502 \n",
       "z\n",
       "\" style=\"fill:#1f77b4;fill-opacity:0.75;stroke:#000000;stroke-linejoin:miter;\"/>\n",
       "   </g>\n",
       "   <g id=\"patch_8\">\n",
       "    <path clip-path=\"url(#p0176796882)\" d=\"M 243.999716 224.64 \n",
       "L 277.817898 224.64 \n",
       "L 277.817898 146.494326 \n",
       "L 243.999716 146.494326 \n",
       "z\n",
       "\" style=\"fill:#1f77b4;fill-opacity:0.75;stroke:#000000;stroke-linejoin:miter;\"/>\n",
       "   </g>\n",
       "   <g id=\"patch_9\">\n",
       "    <path clip-path=\"url(#p0176796882)\" d=\"M 277.817898 224.64 \n",
       "L 311.63608 224.64 \n",
       "L 311.63608 186.459649 \n",
       "L 277.817898 186.459649 \n",
       "z\n",
       "\" style=\"fill:#1f77b4;fill-opacity:0.75;stroke:#000000;stroke-linejoin:miter;\"/>\n",
       "   </g>\n",
       "   <g id=\"patch_10\">\n",
       "    <path clip-path=\"url(#p0176796882)\" d=\"M 311.63608 224.64 \n",
       "L 345.454261 224.64 \n",
       "L 345.454261 203.819626 \n",
       "L 311.63608 203.819626 \n",
       "z\n",
       "\" style=\"fill:#1f77b4;fill-opacity:0.75;stroke:#000000;stroke-linejoin:miter;\"/>\n",
       "   </g>\n",
       "   <g id=\"patch_11\">\n",
       "    <path clip-path=\"url(#p0176796882)\" d=\"M 345.454261 224.64 \n",
       "L 379.272443 224.64 \n",
       "L 379.272443 210.025142 \n",
       "L 345.454261 210.025142 \n",
       "z\n",
       "\" style=\"fill:#1f77b4;fill-opacity:0.75;stroke:#000000;stroke-linejoin:miter;\"/>\n",
       "   </g>\n",
       "   <g id=\"matplotlib.axis_1\">\n",
       "    <g id=\"xtick_1\">\n",
       "     <g id=\"line2d_1\">\n",
       "      <defs>\n",
       "       <path d=\"M 0 0 \n",
       "L 0 3.5 \n",
       "\" id=\"m1be2e61611\" style=\"stroke:#000000;stroke-width:0.8;\"/>\n",
       "      </defs>\n",
       "      <g>\n",
       "       <use style=\"stroke:#000000;stroke-width:0.8;\" x=\"73.371617\" xlink:href=\"#m1be2e61611\" y=\"224.64\"/>\n",
       "      </g>\n",
       "     </g>\n",
       "     <g id=\"text_1\">\n",
       "      <!-- 50 -->\n",
       "      <g transform=\"translate(67.009117 239.238437)scale(0.1 -0.1)\">\n",
       "       <defs>\n",
       "        <path d=\"M 10.796875 72.90625 \n",
       "L 49.515625 72.90625 \n",
       "L 49.515625 64.59375 \n",
       "L 19.828125 64.59375 \n",
       "L 19.828125 46.734375 \n",
       "Q 21.96875 47.46875 24.109375 47.828125 \n",
       "Q 26.265625 48.1875 28.421875 48.1875 \n",
       "Q 40.625 48.1875 47.75 41.5 \n",
       "Q 54.890625 34.8125 54.890625 23.390625 \n",
       "Q 54.890625 11.625 47.5625 5.09375 \n",
       "Q 40.234375 -1.421875 26.90625 -1.421875 \n",
       "Q 22.3125 -1.421875 17.546875 -0.640625 \n",
       "Q 12.796875 0.140625 7.71875 1.703125 \n",
       "L 7.71875 11.625 \n",
       "Q 12.109375 9.234375 16.796875 8.0625 \n",
       "Q 21.484375 6.890625 26.703125 6.890625 \n",
       "Q 35.15625 6.890625 40.078125 11.328125 \n",
       "Q 45.015625 15.765625 45.015625 23.390625 \n",
       "Q 45.015625 31 40.078125 35.4375 \n",
       "Q 35.15625 39.890625 26.703125 39.890625 \n",
       "Q 22.75 39.890625 18.8125 39.015625 \n",
       "Q 14.890625 38.140625 10.796875 36.28125 \n",
       "z\n",
       "\" id=\"DejaVuSans-53\"/>\n",
       "        <path d=\"M 31.78125 66.40625 \n",
       "Q 24.171875 66.40625 20.328125 58.90625 \n",
       "Q 16.5 51.421875 16.5 36.375 \n",
       "Q 16.5 21.390625 20.328125 13.890625 \n",
       "Q 24.171875 6.390625 31.78125 6.390625 \n",
       "Q 39.453125 6.390625 43.28125 13.890625 \n",
       "Q 47.125 21.390625 47.125 36.375 \n",
       "Q 47.125 51.421875 43.28125 58.90625 \n",
       "Q 39.453125 66.40625 31.78125 66.40625 \n",
       "z\n",
       "M 31.78125 74.21875 \n",
       "Q 44.046875 74.21875 50.515625 64.515625 \n",
       "Q 56.984375 54.828125 56.984375 36.375 \n",
       "Q 56.984375 17.96875 50.515625 8.265625 \n",
       "Q 44.046875 -1.421875 31.78125 -1.421875 \n",
       "Q 19.53125 -1.421875 13.0625 8.265625 \n",
       "Q 6.59375 17.96875 6.59375 36.375 \n",
       "Q 6.59375 54.828125 13.0625 64.515625 \n",
       "Q 19.53125 74.21875 31.78125 74.21875 \n",
       "z\n",
       "\" id=\"DejaVuSans-48\"/>\n",
       "       </defs>\n",
       "       <use xlink:href=\"#DejaVuSans-53\"/>\n",
       "       <use x=\"63.623047\" xlink:href=\"#DejaVuSans-48\"/>\n",
       "      </g>\n",
       "     </g>\n",
       "    </g>\n",
       "    <g id=\"xtick_2\">\n",
       "     <g id=\"line2d_2\">\n",
       "      <g>\n",
       "       <use style=\"stroke:#000000;stroke-width:0.8;\" x=\"111.801369\" xlink:href=\"#m1be2e61611\" y=\"224.64\"/>\n",
       "      </g>\n",
       "     </g>\n",
       "     <g id=\"text_2\">\n",
       "      <!-- 75 -->\n",
       "      <g transform=\"translate(105.438869 239.238437)scale(0.1 -0.1)\">\n",
       "       <defs>\n",
       "        <path d=\"M 8.203125 72.90625 \n",
       "L 55.078125 72.90625 \n",
       "L 55.078125 68.703125 \n",
       "L 28.609375 0 \n",
       "L 18.3125 0 \n",
       "L 43.21875 64.59375 \n",
       "L 8.203125 64.59375 \n",
       "z\n",
       "\" id=\"DejaVuSans-55\"/>\n",
       "       </defs>\n",
       "       <use xlink:href=\"#DejaVuSans-55\"/>\n",
       "       <use x=\"63.623047\" xlink:href=\"#DejaVuSans-53\"/>\n",
       "      </g>\n",
       "     </g>\n",
       "    </g>\n",
       "    <g id=\"xtick_3\">\n",
       "     <g id=\"line2d_3\">\n",
       "      <g>\n",
       "       <use style=\"stroke:#000000;stroke-width:0.8;\" x=\"150.231121\" xlink:href=\"#m1be2e61611\" y=\"224.64\"/>\n",
       "      </g>\n",
       "     </g>\n",
       "     <g id=\"text_3\">\n",
       "      <!-- 100 -->\n",
       "      <g transform=\"translate(140.687371 239.238437)scale(0.1 -0.1)\">\n",
       "       <defs>\n",
       "        <path d=\"M 12.40625 8.296875 \n",
       "L 28.515625 8.296875 \n",
       "L 28.515625 63.921875 \n",
       "L 10.984375 60.40625 \n",
       "L 10.984375 69.390625 \n",
       "L 28.421875 72.90625 \n",
       "L 38.28125 72.90625 \n",
       "L 38.28125 8.296875 \n",
       "L 54.390625 8.296875 \n",
       "L 54.390625 0 \n",
       "L 12.40625 0 \n",
       "z\n",
       "\" id=\"DejaVuSans-49\"/>\n",
       "       </defs>\n",
       "       <use xlink:href=\"#DejaVuSans-49\"/>\n",
       "       <use x=\"63.623047\" xlink:href=\"#DejaVuSans-48\"/>\n",
       "       <use x=\"127.246094\" xlink:href=\"#DejaVuSans-48\"/>\n",
       "      </g>\n",
       "     </g>\n",
       "    </g>\n",
       "    <g id=\"xtick_4\">\n",
       "     <g id=\"line2d_4\">\n",
       "      <g>\n",
       "       <use style=\"stroke:#000000;stroke-width:0.8;\" x=\"188.660873\" xlink:href=\"#m1be2e61611\" y=\"224.64\"/>\n",
       "      </g>\n",
       "     </g>\n",
       "     <g id=\"text_4\">\n",
       "      <!-- 125 -->\n",
       "      <g transform=\"translate(179.117123 239.238437)scale(0.1 -0.1)\">\n",
       "       <defs>\n",
       "        <path d=\"M 19.1875 8.296875 \n",
       "L 53.609375 8.296875 \n",
       "L 53.609375 0 \n",
       "L 7.328125 0 \n",
       "L 7.328125 8.296875 \n",
       "Q 12.9375 14.109375 22.625 23.890625 \n",
       "Q 32.328125 33.6875 34.8125 36.53125 \n",
       "Q 39.546875 41.84375 41.421875 45.53125 \n",
       "Q 43.3125 49.21875 43.3125 52.78125 \n",
       "Q 43.3125 58.59375 39.234375 62.25 \n",
       "Q 35.15625 65.921875 28.609375 65.921875 \n",
       "Q 23.96875 65.921875 18.8125 64.3125 \n",
       "Q 13.671875 62.703125 7.8125 59.421875 \n",
       "L 7.8125 69.390625 \n",
       "Q 13.765625 71.78125 18.9375 73 \n",
       "Q 24.125 74.21875 28.421875 74.21875 \n",
       "Q 39.75 74.21875 46.484375 68.546875 \n",
       "Q 53.21875 62.890625 53.21875 53.421875 \n",
       "Q 53.21875 48.921875 51.53125 44.890625 \n",
       "Q 49.859375 40.875 45.40625 35.40625 \n",
       "Q 44.1875 33.984375 37.640625 27.21875 \n",
       "Q 31.109375 20.453125 19.1875 8.296875 \n",
       "z\n",
       "\" id=\"DejaVuSans-50\"/>\n",
       "       </defs>\n",
       "       <use xlink:href=\"#DejaVuSans-49\"/>\n",
       "       <use x=\"63.623047\" xlink:href=\"#DejaVuSans-50\"/>\n",
       "       <use x=\"127.246094\" xlink:href=\"#DejaVuSans-53\"/>\n",
       "      </g>\n",
       "     </g>\n",
       "    </g>\n",
       "    <g id=\"xtick_5\">\n",
       "     <g id=\"line2d_5\">\n",
       "      <g>\n",
       "       <use style=\"stroke:#000000;stroke-width:0.8;\" x=\"227.090625\" xlink:href=\"#m1be2e61611\" y=\"224.64\"/>\n",
       "      </g>\n",
       "     </g>\n",
       "     <g id=\"text_5\">\n",
       "      <!-- 150 -->\n",
       "      <g transform=\"translate(217.546875 239.238437)scale(0.1 -0.1)\">\n",
       "       <use xlink:href=\"#DejaVuSans-49\"/>\n",
       "       <use x=\"63.623047\" xlink:href=\"#DejaVuSans-53\"/>\n",
       "       <use x=\"127.246094\" xlink:href=\"#DejaVuSans-48\"/>\n",
       "      </g>\n",
       "     </g>\n",
       "    </g>\n",
       "    <g id=\"xtick_6\">\n",
       "     <g id=\"line2d_6\">\n",
       "      <g>\n",
       "       <use style=\"stroke:#000000;stroke-width:0.8;\" x=\"265.520377\" xlink:href=\"#m1be2e61611\" y=\"224.64\"/>\n",
       "      </g>\n",
       "     </g>\n",
       "     <g id=\"text_6\">\n",
       "      <!-- 175 -->\n",
       "      <g transform=\"translate(255.976627 239.238437)scale(0.1 -0.1)\">\n",
       "       <use xlink:href=\"#DejaVuSans-49\"/>\n",
       "       <use x=\"63.623047\" xlink:href=\"#DejaVuSans-55\"/>\n",
       "       <use x=\"127.246094\" xlink:href=\"#DejaVuSans-53\"/>\n",
       "      </g>\n",
       "     </g>\n",
       "    </g>\n",
       "    <g id=\"xtick_7\">\n",
       "     <g id=\"line2d_7\">\n",
       "      <g>\n",
       "       <use style=\"stroke:#000000;stroke-width:0.8;\" x=\"303.950129\" xlink:href=\"#m1be2e61611\" y=\"224.64\"/>\n",
       "      </g>\n",
       "     </g>\n",
       "     <g id=\"text_7\">\n",
       "      <!-- 200 -->\n",
       "      <g transform=\"translate(294.406379 239.238437)scale(0.1 -0.1)\">\n",
       "       <use xlink:href=\"#DejaVuSans-50\"/>\n",
       "       <use x=\"63.623047\" xlink:href=\"#DejaVuSans-48\"/>\n",
       "       <use x=\"127.246094\" xlink:href=\"#DejaVuSans-48\"/>\n",
       "      </g>\n",
       "     </g>\n",
       "    </g>\n",
       "    <g id=\"xtick_8\">\n",
       "     <g id=\"line2d_8\">\n",
       "      <g>\n",
       "       <use style=\"stroke:#000000;stroke-width:0.8;\" x=\"342.379881\" xlink:href=\"#m1be2e61611\" y=\"224.64\"/>\n",
       "      </g>\n",
       "     </g>\n",
       "     <g id=\"text_8\">\n",
       "      <!-- 225 -->\n",
       "      <g transform=\"translate(332.836131 239.238437)scale(0.1 -0.1)\">\n",
       "       <use xlink:href=\"#DejaVuSans-50\"/>\n",
       "       <use x=\"63.623047\" xlink:href=\"#DejaVuSans-50\"/>\n",
       "       <use x=\"127.246094\" xlink:href=\"#DejaVuSans-53\"/>\n",
       "      </g>\n",
       "     </g>\n",
       "    </g>\n",
       "    <g id=\"xtick_9\">\n",
       "     <g id=\"line2d_9\">\n",
       "      <g>\n",
       "       <use style=\"stroke:#000000;stroke-width:0.8;\" x=\"380.809633\" xlink:href=\"#m1be2e61611\" y=\"224.64\"/>\n",
       "      </g>\n",
       "     </g>\n",
       "     <g id=\"text_9\">\n",
       "      <!-- 250 -->\n",
       "      <g transform=\"translate(371.265883 239.238437)scale(0.1 -0.1)\">\n",
       "       <use xlink:href=\"#DejaVuSans-50\"/>\n",
       "       <use x=\"63.623047\" xlink:href=\"#DejaVuSans-53\"/>\n",
       "       <use x=\"127.246094\" xlink:href=\"#DejaVuSans-48\"/>\n",
       "      </g>\n",
       "     </g>\n",
       "    </g>\n",
       "    <g id=\"text_10\">\n",
       "     <!-- Power -->\n",
       "     <g transform=\"translate(211.976563 252.916562)scale(0.1 -0.1)\">\n",
       "      <defs>\n",
       "       <path d=\"M 19.671875 64.796875 \n",
       "L 19.671875 37.40625 \n",
       "L 32.078125 37.40625 \n",
       "Q 38.96875 37.40625 42.71875 40.96875 \n",
       "Q 46.484375 44.53125 46.484375 51.125 \n",
       "Q 46.484375 57.671875 42.71875 61.234375 \n",
       "Q 38.96875 64.796875 32.078125 64.796875 \n",
       "z\n",
       "M 9.8125 72.90625 \n",
       "L 32.078125 72.90625 \n",
       "Q 44.34375 72.90625 50.609375 67.359375 \n",
       "Q 56.890625 61.8125 56.890625 51.125 \n",
       "Q 56.890625 40.328125 50.609375 34.8125 \n",
       "Q 44.34375 29.296875 32.078125 29.296875 \n",
       "L 19.671875 29.296875 \n",
       "L 19.671875 0 \n",
       "L 9.8125 0 \n",
       "z\n",
       "\" id=\"DejaVuSans-80\"/>\n",
       "       <path d=\"M 30.609375 48.390625 \n",
       "Q 23.390625 48.390625 19.1875 42.75 \n",
       "Q 14.984375 37.109375 14.984375 27.296875 \n",
       "Q 14.984375 17.484375 19.15625 11.84375 \n",
       "Q 23.34375 6.203125 30.609375 6.203125 \n",
       "Q 37.796875 6.203125 41.984375 11.859375 \n",
       "Q 46.1875 17.53125 46.1875 27.296875 \n",
       "Q 46.1875 37.015625 41.984375 42.703125 \n",
       "Q 37.796875 48.390625 30.609375 48.390625 \n",
       "z\n",
       "M 30.609375 56 \n",
       "Q 42.328125 56 49.015625 48.375 \n",
       "Q 55.71875 40.765625 55.71875 27.296875 \n",
       "Q 55.71875 13.875 49.015625 6.21875 \n",
       "Q 42.328125 -1.421875 30.609375 -1.421875 \n",
       "Q 18.84375 -1.421875 12.171875 6.21875 \n",
       "Q 5.515625 13.875 5.515625 27.296875 \n",
       "Q 5.515625 40.765625 12.171875 48.375 \n",
       "Q 18.84375 56 30.609375 56 \n",
       "z\n",
       "\" id=\"DejaVuSans-111\"/>\n",
       "       <path d=\"M 4.203125 54.6875 \n",
       "L 13.1875 54.6875 \n",
       "L 24.421875 12.015625 \n",
       "L 35.59375 54.6875 \n",
       "L 46.1875 54.6875 \n",
       "L 57.421875 12.015625 \n",
       "L 68.609375 54.6875 \n",
       "L 77.59375 54.6875 \n",
       "L 63.28125 0 \n",
       "L 52.6875 0 \n",
       "L 40.921875 44.828125 \n",
       "L 29.109375 0 \n",
       "L 18.5 0 \n",
       "z\n",
       "\" id=\"DejaVuSans-119\"/>\n",
       "       <path d=\"M 56.203125 29.59375 \n",
       "L 56.203125 25.203125 \n",
       "L 14.890625 25.203125 \n",
       "Q 15.484375 15.921875 20.484375 11.0625 \n",
       "Q 25.484375 6.203125 34.421875 6.203125 \n",
       "Q 39.59375 6.203125 44.453125 7.46875 \n",
       "Q 49.3125 8.734375 54.109375 11.28125 \n",
       "L 54.109375 2.78125 \n",
       "Q 49.265625 0.734375 44.1875 -0.34375 \n",
       "Q 39.109375 -1.421875 33.890625 -1.421875 \n",
       "Q 20.796875 -1.421875 13.15625 6.1875 \n",
       "Q 5.515625 13.8125 5.515625 26.8125 \n",
       "Q 5.515625 40.234375 12.765625 48.109375 \n",
       "Q 20.015625 56 32.328125 56 \n",
       "Q 43.359375 56 49.78125 48.890625 \n",
       "Q 56.203125 41.796875 56.203125 29.59375 \n",
       "z\n",
       "M 47.21875 32.234375 \n",
       "Q 47.125 39.59375 43.09375 43.984375 \n",
       "Q 39.0625 48.390625 32.421875 48.390625 \n",
       "Q 24.90625 48.390625 20.390625 44.140625 \n",
       "Q 15.875 39.890625 15.1875 32.171875 \n",
       "z\n",
       "\" id=\"DejaVuSans-101\"/>\n",
       "       <path d=\"M 41.109375 46.296875 \n",
       "Q 39.59375 47.171875 37.8125 47.578125 \n",
       "Q 36.03125 48 33.890625 48 \n",
       "Q 26.265625 48 22.1875 43.046875 \n",
       "Q 18.109375 38.09375 18.109375 28.8125 \n",
       "L 18.109375 0 \n",
       "L 9.078125 0 \n",
       "L 9.078125 54.6875 \n",
       "L 18.109375 54.6875 \n",
       "L 18.109375 46.1875 \n",
       "Q 20.953125 51.171875 25.484375 53.578125 \n",
       "Q 30.03125 56 36.53125 56 \n",
       "Q 37.453125 56 38.578125 55.875 \n",
       "Q 39.703125 55.765625 41.0625 55.515625 \n",
       "z\n",
       "\" id=\"DejaVuSans-114\"/>\n",
       "      </defs>\n",
       "      <use xlink:href=\"#DejaVuSans-80\"/>\n",
       "      <use x=\"56.677734\" xlink:href=\"#DejaVuSans-111\"/>\n",
       "      <use x=\"117.859375\" xlink:href=\"#DejaVuSans-119\"/>\n",
       "      <use x=\"199.646484\" xlink:href=\"#DejaVuSans-101\"/>\n",
       "      <use x=\"261.169922\" xlink:href=\"#DejaVuSans-114\"/>\n",
       "     </g>\n",
       "    </g>\n",
       "   </g>\n",
       "   <g id=\"matplotlib.axis_2\">\n",
       "    <g id=\"ytick_1\">\n",
       "     <g id=\"line2d_10\">\n",
       "      <defs>\n",
       "       <path d=\"M 0 0 \n",
       "L -3.5 0 \n",
       "\" id=\"mcd6ed22afe\" style=\"stroke:#000000;stroke-width:0.8;\"/>\n",
       "      </defs>\n",
       "      <g>\n",
       "       <use style=\"stroke:#000000;stroke-width:0.8;\" x=\"59.690625\" xlink:href=\"#mcd6ed22afe\" y=\"224.64\"/>\n",
       "      </g>\n",
       "     </g>\n",
       "     <g id=\"text_11\">\n",
       "      <!-- 0 -->\n",
       "      <g transform=\"translate(46.328125 228.439219)scale(0.1 -0.1)\">\n",
       "       <use xlink:href=\"#DejaVuSans-48\"/>\n",
       "      </g>\n",
       "     </g>\n",
       "    </g>\n",
       "    <g id=\"ytick_2\">\n",
       "     <g id=\"line2d_11\">\n",
       "      <g>\n",
       "       <use style=\"stroke:#000000;stroke-width:0.8;\" x=\"59.690625\" xlink:href=\"#mcd6ed22afe\" y=\"192.420294\"/>\n",
       "      </g>\n",
       "     </g>\n",
       "     <g id=\"text_12\">\n",
       "      <!-- 10000 -->\n",
       "      <g transform=\"translate(20.878125 196.219513)scale(0.1 -0.1)\">\n",
       "       <use xlink:href=\"#DejaVuSans-49\"/>\n",
       "       <use x=\"63.623047\" xlink:href=\"#DejaVuSans-48\"/>\n",
       "       <use x=\"127.246094\" xlink:href=\"#DejaVuSans-48\"/>\n",
       "       <use x=\"190.869141\" xlink:href=\"#DejaVuSans-48\"/>\n",
       "       <use x=\"254.492188\" xlink:href=\"#DejaVuSans-48\"/>\n",
       "      </g>\n",
       "     </g>\n",
       "    </g>\n",
       "    <g id=\"ytick_3\">\n",
       "     <g id=\"line2d_12\">\n",
       "      <g>\n",
       "       <use style=\"stroke:#000000;stroke-width:0.8;\" x=\"59.690625\" xlink:href=\"#mcd6ed22afe\" y=\"160.200589\"/>\n",
       "      </g>\n",
       "     </g>\n",
       "     <g id=\"text_13\">\n",
       "      <!-- 20000 -->\n",
       "      <g transform=\"translate(20.878125 163.999807)scale(0.1 -0.1)\">\n",
       "       <use xlink:href=\"#DejaVuSans-50\"/>\n",
       "       <use x=\"63.623047\" xlink:href=\"#DejaVuSans-48\"/>\n",
       "       <use x=\"127.246094\" xlink:href=\"#DejaVuSans-48\"/>\n",
       "       <use x=\"190.869141\" xlink:href=\"#DejaVuSans-48\"/>\n",
       "       <use x=\"254.492188\" xlink:href=\"#DejaVuSans-48\"/>\n",
       "      </g>\n",
       "     </g>\n",
       "    </g>\n",
       "    <g id=\"ytick_4\">\n",
       "     <g id=\"line2d_13\">\n",
       "      <g>\n",
       "       <use style=\"stroke:#000000;stroke-width:0.8;\" x=\"59.690625\" xlink:href=\"#mcd6ed22afe\" y=\"127.980883\"/>\n",
       "      </g>\n",
       "     </g>\n",
       "     <g id=\"text_14\">\n",
       "      <!-- 30000 -->\n",
       "      <g transform=\"translate(20.878125 131.780102)scale(0.1 -0.1)\">\n",
       "       <defs>\n",
       "        <path d=\"M 40.578125 39.3125 \n",
       "Q 47.65625 37.796875 51.625 33 \n",
       "Q 55.609375 28.21875 55.609375 21.1875 \n",
       "Q 55.609375 10.40625 48.1875 4.484375 \n",
       "Q 40.765625 -1.421875 27.09375 -1.421875 \n",
       "Q 22.515625 -1.421875 17.65625 -0.515625 \n",
       "Q 12.796875 0.390625 7.625 2.203125 \n",
       "L 7.625 11.71875 \n",
       "Q 11.71875 9.328125 16.59375 8.109375 \n",
       "Q 21.484375 6.890625 26.8125 6.890625 \n",
       "Q 36.078125 6.890625 40.9375 10.546875 \n",
       "Q 45.796875 14.203125 45.796875 21.1875 \n",
       "Q 45.796875 27.640625 41.28125 31.265625 \n",
       "Q 36.765625 34.90625 28.71875 34.90625 \n",
       "L 20.21875 34.90625 \n",
       "L 20.21875 43.015625 \n",
       "L 29.109375 43.015625 \n",
       "Q 36.375 43.015625 40.234375 45.921875 \n",
       "Q 44.09375 48.828125 44.09375 54.296875 \n",
       "Q 44.09375 59.90625 40.109375 62.90625 \n",
       "Q 36.140625 65.921875 28.71875 65.921875 \n",
       "Q 24.65625 65.921875 20.015625 65.03125 \n",
       "Q 15.375 64.15625 9.8125 62.3125 \n",
       "L 9.8125 71.09375 \n",
       "Q 15.4375 72.65625 20.34375 73.4375 \n",
       "Q 25.25 74.21875 29.59375 74.21875 \n",
       "Q 40.828125 74.21875 47.359375 69.109375 \n",
       "Q 53.90625 64.015625 53.90625 55.328125 \n",
       "Q 53.90625 49.265625 50.4375 45.09375 \n",
       "Q 46.96875 40.921875 40.578125 39.3125 \n",
       "z\n",
       "\" id=\"DejaVuSans-51\"/>\n",
       "       </defs>\n",
       "       <use xlink:href=\"#DejaVuSans-51\"/>\n",
       "       <use x=\"63.623047\" xlink:href=\"#DejaVuSans-48\"/>\n",
       "       <use x=\"127.246094\" xlink:href=\"#DejaVuSans-48\"/>\n",
       "       <use x=\"190.869141\" xlink:href=\"#DejaVuSans-48\"/>\n",
       "       <use x=\"254.492188\" xlink:href=\"#DejaVuSans-48\"/>\n",
       "      </g>\n",
       "     </g>\n",
       "    </g>\n",
       "    <g id=\"ytick_5\">\n",
       "     <g id=\"line2d_14\">\n",
       "      <g>\n",
       "       <use style=\"stroke:#000000;stroke-width:0.8;\" x=\"59.690625\" xlink:href=\"#mcd6ed22afe\" y=\"95.761177\"/>\n",
       "      </g>\n",
       "     </g>\n",
       "     <g id=\"text_15\">\n",
       "      <!-- 40000 -->\n",
       "      <g transform=\"translate(20.878125 99.560396)scale(0.1 -0.1)\">\n",
       "       <defs>\n",
       "        <path d=\"M 37.796875 64.3125 \n",
       "L 12.890625 25.390625 \n",
       "L 37.796875 25.390625 \n",
       "z\n",
       "M 35.203125 72.90625 \n",
       "L 47.609375 72.90625 \n",
       "L 47.609375 25.390625 \n",
       "L 58.015625 25.390625 \n",
       "L 58.015625 17.1875 \n",
       "L 47.609375 17.1875 \n",
       "L 47.609375 0 \n",
       "L 37.796875 0 \n",
       "L 37.796875 17.1875 \n",
       "L 4.890625 17.1875 \n",
       "L 4.890625 26.703125 \n",
       "z\n",
       "\" id=\"DejaVuSans-52\"/>\n",
       "       </defs>\n",
       "       <use xlink:href=\"#DejaVuSans-52\"/>\n",
       "       <use x=\"63.623047\" xlink:href=\"#DejaVuSans-48\"/>\n",
       "       <use x=\"127.246094\" xlink:href=\"#DejaVuSans-48\"/>\n",
       "       <use x=\"190.869141\" xlink:href=\"#DejaVuSans-48\"/>\n",
       "       <use x=\"254.492188\" xlink:href=\"#DejaVuSans-48\"/>\n",
       "      </g>\n",
       "     </g>\n",
       "    </g>\n",
       "    <g id=\"ytick_6\">\n",
       "     <g id=\"line2d_15\">\n",
       "      <g>\n",
       "       <use style=\"stroke:#000000;stroke-width:0.8;\" x=\"59.690625\" xlink:href=\"#mcd6ed22afe\" y=\"63.541472\"/>\n",
       "      </g>\n",
       "     </g>\n",
       "     <g id=\"text_16\">\n",
       "      <!-- 50000 -->\n",
       "      <g transform=\"translate(20.878125 67.34069)scale(0.1 -0.1)\">\n",
       "       <use xlink:href=\"#DejaVuSans-53\"/>\n",
       "       <use x=\"63.623047\" xlink:href=\"#DejaVuSans-48\"/>\n",
       "       <use x=\"127.246094\" xlink:href=\"#DejaVuSans-48\"/>\n",
       "       <use x=\"190.869141\" xlink:href=\"#DejaVuSans-48\"/>\n",
       "       <use x=\"254.492188\" xlink:href=\"#DejaVuSans-48\"/>\n",
       "      </g>\n",
       "     </g>\n",
       "    </g>\n",
       "    <g id=\"ytick_7\">\n",
       "     <g id=\"line2d_16\">\n",
       "      <g>\n",
       "       <use style=\"stroke:#000000;stroke-width:0.8;\" x=\"59.690625\" xlink:href=\"#mcd6ed22afe\" y=\"31.321766\"/>\n",
       "      </g>\n",
       "     </g>\n",
       "     <g id=\"text_17\">\n",
       "      <!-- 60000 -->\n",
       "      <g transform=\"translate(20.878125 35.120985)scale(0.1 -0.1)\">\n",
       "       <defs>\n",
       "        <path d=\"M 33.015625 40.375 \n",
       "Q 26.375 40.375 22.484375 35.828125 \n",
       "Q 18.609375 31.296875 18.609375 23.390625 \n",
       "Q 18.609375 15.53125 22.484375 10.953125 \n",
       "Q 26.375 6.390625 33.015625 6.390625 \n",
       "Q 39.65625 6.390625 43.53125 10.953125 \n",
       "Q 47.40625 15.53125 47.40625 23.390625 \n",
       "Q 47.40625 31.296875 43.53125 35.828125 \n",
       "Q 39.65625 40.375 33.015625 40.375 \n",
       "z\n",
       "M 52.59375 71.296875 \n",
       "L 52.59375 62.3125 \n",
       "Q 48.875 64.0625 45.09375 64.984375 \n",
       "Q 41.3125 65.921875 37.59375 65.921875 \n",
       "Q 27.828125 65.921875 22.671875 59.328125 \n",
       "Q 17.53125 52.734375 16.796875 39.40625 \n",
       "Q 19.671875 43.65625 24.015625 45.921875 \n",
       "Q 28.375 48.1875 33.59375 48.1875 \n",
       "Q 44.578125 48.1875 50.953125 41.515625 \n",
       "Q 57.328125 34.859375 57.328125 23.390625 \n",
       "Q 57.328125 12.15625 50.6875 5.359375 \n",
       "Q 44.046875 -1.421875 33.015625 -1.421875 \n",
       "Q 20.359375 -1.421875 13.671875 8.265625 \n",
       "Q 6.984375 17.96875 6.984375 36.375 \n",
       "Q 6.984375 53.65625 15.1875 63.9375 \n",
       "Q 23.390625 74.21875 37.203125 74.21875 \n",
       "Q 40.921875 74.21875 44.703125 73.484375 \n",
       "Q 48.484375 72.75 52.59375 71.296875 \n",
       "z\n",
       "\" id=\"DejaVuSans-54\"/>\n",
       "       </defs>\n",
       "       <use xlink:href=\"#DejaVuSans-54\"/>\n",
       "       <use x=\"63.623047\" xlink:href=\"#DejaVuSans-48\"/>\n",
       "       <use x=\"127.246094\" xlink:href=\"#DejaVuSans-48\"/>\n",
       "       <use x=\"190.869141\" xlink:href=\"#DejaVuSans-48\"/>\n",
       "       <use x=\"254.492188\" xlink:href=\"#DejaVuSans-48\"/>\n",
       "      </g>\n",
       "     </g>\n",
       "    </g>\n",
       "    <g id=\"text_18\">\n",
       "     <!-- Count -->\n",
       "     <g transform=\"translate(14.798438 130.768437)rotate(-90)scale(0.1 -0.1)\">\n",
       "      <defs>\n",
       "       <path d=\"M 64.40625 67.28125 \n",
       "L 64.40625 56.890625 \n",
       "Q 59.421875 61.53125 53.78125 63.8125 \n",
       "Q 48.140625 66.109375 41.796875 66.109375 \n",
       "Q 29.296875 66.109375 22.65625 58.46875 \n",
       "Q 16.015625 50.828125 16.015625 36.375 \n",
       "Q 16.015625 21.96875 22.65625 14.328125 \n",
       "Q 29.296875 6.6875 41.796875 6.6875 \n",
       "Q 48.140625 6.6875 53.78125 8.984375 \n",
       "Q 59.421875 11.28125 64.40625 15.921875 \n",
       "L 64.40625 5.609375 \n",
       "Q 59.234375 2.09375 53.4375 0.328125 \n",
       "Q 47.65625 -1.421875 41.21875 -1.421875 \n",
       "Q 24.65625 -1.421875 15.125 8.703125 \n",
       "Q 5.609375 18.84375 5.609375 36.375 \n",
       "Q 5.609375 53.953125 15.125 64.078125 \n",
       "Q 24.65625 74.21875 41.21875 74.21875 \n",
       "Q 47.75 74.21875 53.53125 72.484375 \n",
       "Q 59.328125 70.75 64.40625 67.28125 \n",
       "z\n",
       "\" id=\"DejaVuSans-67\"/>\n",
       "       <path d=\"M 8.5 21.578125 \n",
       "L 8.5 54.6875 \n",
       "L 17.484375 54.6875 \n",
       "L 17.484375 21.921875 \n",
       "Q 17.484375 14.15625 20.5 10.265625 \n",
       "Q 23.53125 6.390625 29.59375 6.390625 \n",
       "Q 36.859375 6.390625 41.078125 11.03125 \n",
       "Q 45.3125 15.671875 45.3125 23.6875 \n",
       "L 45.3125 54.6875 \n",
       "L 54.296875 54.6875 \n",
       "L 54.296875 0 \n",
       "L 45.3125 0 \n",
       "L 45.3125 8.40625 \n",
       "Q 42.046875 3.421875 37.71875 1 \n",
       "Q 33.40625 -1.421875 27.6875 -1.421875 \n",
       "Q 18.265625 -1.421875 13.375 4.4375 \n",
       "Q 8.5 10.296875 8.5 21.578125 \n",
       "z\n",
       "M 31.109375 56 \n",
       "z\n",
       "\" id=\"DejaVuSans-117\"/>\n",
       "       <path d=\"M 54.890625 33.015625 \n",
       "L 54.890625 0 \n",
       "L 45.90625 0 \n",
       "L 45.90625 32.71875 \n",
       "Q 45.90625 40.484375 42.875 44.328125 \n",
       "Q 39.84375 48.1875 33.796875 48.1875 \n",
       "Q 26.515625 48.1875 22.3125 43.546875 \n",
       "Q 18.109375 38.921875 18.109375 30.90625 \n",
       "L 18.109375 0 \n",
       "L 9.078125 0 \n",
       "L 9.078125 54.6875 \n",
       "L 18.109375 54.6875 \n",
       "L 18.109375 46.1875 \n",
       "Q 21.34375 51.125 25.703125 53.5625 \n",
       "Q 30.078125 56 35.796875 56 \n",
       "Q 45.21875 56 50.046875 50.171875 \n",
       "Q 54.890625 44.34375 54.890625 33.015625 \n",
       "z\n",
       "\" id=\"DejaVuSans-110\"/>\n",
       "       <path d=\"M 18.3125 70.21875 \n",
       "L 18.3125 54.6875 \n",
       "L 36.8125 54.6875 \n",
       "L 36.8125 47.703125 \n",
       "L 18.3125 47.703125 \n",
       "L 18.3125 18.015625 \n",
       "Q 18.3125 11.328125 20.140625 9.421875 \n",
       "Q 21.96875 7.515625 27.59375 7.515625 \n",
       "L 36.8125 7.515625 \n",
       "L 36.8125 0 \n",
       "L 27.59375 0 \n",
       "Q 17.1875 0 13.234375 3.875 \n",
       "Q 9.28125 7.765625 9.28125 18.015625 \n",
       "L 9.28125 47.703125 \n",
       "L 2.6875 47.703125 \n",
       "L 2.6875 54.6875 \n",
       "L 9.28125 54.6875 \n",
       "L 9.28125 70.21875 \n",
       "z\n",
       "\" id=\"DejaVuSans-116\"/>\n",
       "      </defs>\n",
       "      <use xlink:href=\"#DejaVuSans-67\"/>\n",
       "      <use x=\"69.824219\" xlink:href=\"#DejaVuSans-111\"/>\n",
       "      <use x=\"131.005859\" xlink:href=\"#DejaVuSans-117\"/>\n",
       "      <use x=\"194.384766\" xlink:href=\"#DejaVuSans-110\"/>\n",
       "      <use x=\"257.763672\" xlink:href=\"#DejaVuSans-116\"/>\n",
       "     </g>\n",
       "    </g>\n",
       "   </g>\n",
       "   <g id=\"patch_12\">\n",
       "    <path d=\"M 59.690625 224.64 \n",
       "L 59.690625 7.2 \n",
       "\" style=\"fill:none;stroke:#000000;stroke-linecap:square;stroke-linejoin:miter;stroke-width:0.8;\"/>\n",
       "   </g>\n",
       "   <g id=\"patch_13\">\n",
       "    <path d=\"M 394.490625 224.64 \n",
       "L 394.490625 7.2 \n",
       "\" style=\"fill:none;stroke:#000000;stroke-linecap:square;stroke-linejoin:miter;stroke-width:0.8;\"/>\n",
       "   </g>\n",
       "   <g id=\"patch_14\">\n",
       "    <path d=\"M 59.690625 224.64 \n",
       "L 394.490625 224.64 \n",
       "\" style=\"fill:none;stroke:#000000;stroke-linecap:square;stroke-linejoin:miter;stroke-width:0.8;\"/>\n",
       "   </g>\n",
       "   <g id=\"patch_15\">\n",
       "    <path d=\"M 59.690625 7.2 \n",
       "L 394.490625 7.2 \n",
       "\" style=\"fill:none;stroke:#000000;stroke-linecap:square;stroke-linejoin:miter;stroke-width:0.8;\"/>\n",
       "   </g>\n",
       "  </g>\n",
       " </g>\n",
       " <defs>\n",
       "  <clipPath id=\"p0176796882\">\n",
       "   <rect height=\"217.44\" width=\"334.8\" x=\"59.690625\" y=\"7.2\"/>\n",
       "  </clipPath>\n",
       " </defs>\n",
       "</svg>\n"
      ],
      "text/plain": [
       "<Figure size 432x288 with 1 Axes>"
      ]
     },
     "metadata": {
      "needs_background": "light"
     },
     "output_type": "display_data"
    }
   ],
   "source": [
    "sns.histplot(df[columns_name[5]], bins=9);"
   ]
  },
  {
   "cell_type": "markdown",
   "metadata": {},
   "source": [
    "##### ● 6 <b>Model</b> — модель автомобиля\n",
    "    - | object |\n",
    "    - Модель автомобиля это один из главных показателей, избавимся от Nan"
   ]
  },
  {
   "cell_type": "code",
   "execution_count": 68,
   "metadata": {},
   "outputs": [
    {
     "name": "stdout",
     "output_type": "stream",
     "text": [
      "Количество Nan в колонке Model : 10156\n"
     ]
    }
   ],
   "source": [
    "print('Количество Nan в колонке', columns_name[6],':', df[columns_name[6]].isna().sum())"
   ]
  },
  {
   "cell_type": "code",
   "execution_count": 69,
   "metadata": {},
   "outputs": [
    {
     "name": "stdout",
     "output_type": "stream",
     "text": [
      "Количнство Nan в колонке Model : 0\n"
     ]
    }
   ],
   "source": [
    "# отюросим Nan в колонке 'Model'\n",
    "df = df.dropna(subset=['Model'])\n",
    "# Проверим изменения\n",
    "print('Количнство Nan в колонке', columns_name[6],':', df[columns_name[6]].isna().sum())"
   ]
  },
  {
   "cell_type": "code",
   "execution_count": 70,
   "metadata": {},
   "outputs": [
    {
     "data": {
      "text/html": [
       "<div>\n",
       "<style scoped>\n",
       "    .dataframe tbody tr th:only-of-type {\n",
       "        vertical-align: middle;\n",
       "    }\n",
       "\n",
       "    .dataframe tbody tr th {\n",
       "        vertical-align: top;\n",
       "    }\n",
       "\n",
       "    .dataframe thead th {\n",
       "        text-align: right;\n",
       "    }\n",
       "</style>\n",
       "<table border=\"1\" class=\"dataframe\">\n",
       "  <thead>\n",
       "    <tr style=\"text-align: right;\">\n",
       "      <th></th>\n",
       "      <th>Model</th>\n",
       "    </tr>\n",
       "  </thead>\n",
       "  <tbody>\n",
       "    <tr>\n",
       "      <th>golf</th>\n",
       "      <td>24534</td>\n",
       "    </tr>\n",
       "    <tr>\n",
       "      <th>other</th>\n",
       "      <td>17145</td>\n",
       "    </tr>\n",
       "    <tr>\n",
       "      <th>3er</th>\n",
       "      <td>16880</td>\n",
       "    </tr>\n",
       "    <tr>\n",
       "      <th>astra</th>\n",
       "      <td>9149</td>\n",
       "    </tr>\n",
       "    <tr>\n",
       "      <th>corsa</th>\n",
       "      <td>8824</td>\n",
       "    </tr>\n",
       "    <tr>\n",
       "      <th>polo</th>\n",
       "      <td>8762</td>\n",
       "    </tr>\n",
       "    <tr>\n",
       "      <th>passat</th>\n",
       "      <td>8690</td>\n",
       "    </tr>\n",
       "    <tr>\n",
       "      <th>a4</th>\n",
       "      <td>8485</td>\n",
       "    </tr>\n",
       "    <tr>\n",
       "      <th>c_klasse</th>\n",
       "      <td>7008</td>\n",
       "    </tr>\n",
       "    <tr>\n",
       "      <th>5er</th>\n",
       "      <td>6356</td>\n",
       "    </tr>\n",
       "    <tr>\n",
       "      <th>e_klasse</th>\n",
       "      <td>5325</td>\n",
       "    </tr>\n",
       "    <tr>\n",
       "      <th>a3</th>\n",
       "      <td>5215</td>\n",
       "    </tr>\n",
       "    <tr>\n",
       "      <th>focus</th>\n",
       "      <td>5113</td>\n",
       "    </tr>\n",
       "  </tbody>\n",
       "</table>\n",
       "</div>"
      ],
      "text/plain": [
       "          Model\n",
       "golf      24534\n",
       "other     17145\n",
       "3er       16880\n",
       "astra      9149\n",
       "corsa      8824\n",
       "polo       8762\n",
       "passat     8690\n",
       "a4         8485\n",
       "c_klasse   7008\n",
       "5er        6356\n",
       "e_klasse   5325\n",
       "a3         5215\n",
       "focus      5113"
      ]
     },
     "execution_count": 70,
     "metadata": {},
     "output_type": "execute_result"
    }
   ],
   "source": [
    "# Посмотрим какие самые распространенные модели авто\n",
    "df[columns_name[6]].value_counts().loc[lambda x : x > 5000].to_frame()"
   ]
  },
  {
   "cell_type": "markdown",
   "metadata": {
    "tags": []
   },
   "source": [
    "##### ● 7   <b>Kilometer</b> — пробег (км)\n",
    "    - | int64 | \n",
    "    - С данными все впорядке."
   ]
  },
  {
   "cell_type": "code",
   "execution_count": 71,
   "metadata": {},
   "outputs": [
    {
     "data": {
      "text/plain": [
       "0"
      ]
     },
     "execution_count": 71,
     "metadata": {},
     "output_type": "execute_result"
    }
   ],
   "source": [
    "df[columns_name[7]].isna().sum()"
   ]
  },
  {
   "cell_type": "code",
   "execution_count": 72,
   "metadata": {},
   "outputs": [
    {
     "data": {
      "text/plain": [
       "150000    178817\n",
       "125000     28729\n",
       "100000     11287\n",
       "90000       9116\n",
       "80000       7902\n",
       "70000       6734\n",
       "60000       5828\n",
       "50000       4766\n",
       "40000       3707\n",
       "30000       3145\n",
       "20000       2516\n",
       "5000        2060\n",
       "10000        642\n",
       "Name: Kilometer, dtype: int64"
      ]
     },
     "execution_count": 72,
     "metadata": {},
     "output_type": "execute_result"
    }
   ],
   "source": [
    "df[columns_name[7]].value_counts()"
   ]
  },
  {
   "cell_type": "markdown",
   "metadata": {},
   "source": [
    "##### ● 9 <b>FuelType</b> — тип топлива\n",
    "    - | object |\n",
    "    - Присутствуют Nan заменим их на 'unknown'."
   ]
  },
  {
   "cell_type": "code",
   "execution_count": 73,
   "metadata": {},
   "outputs": [
    {
     "data": {
      "text/plain": [
       "14220"
      ]
     },
     "execution_count": 73,
     "metadata": {},
     "output_type": "execute_result"
    }
   ],
   "source": [
    "df[columns_name[9]].isna().sum()"
   ]
  },
  {
   "cell_type": "markdown",
   "metadata": {},
   "source": [
    "- Заполним Nan на 'unknow'"
   ]
  },
  {
   "cell_type": "code",
   "execution_count": 74,
   "metadata": {},
   "outputs": [],
   "source": [
    "df[columns_name[9]] = df[columns_name[9]].fillna('unknown')"
   ]
  },
  {
   "cell_type": "code",
   "execution_count": 75,
   "metadata": {},
   "outputs": [
    {
     "data": {
      "text/html": [
       "<div>\n",
       "<style scoped>\n",
       "    .dataframe tbody tr th:only-of-type {\n",
       "        vertical-align: middle;\n",
       "    }\n",
       "\n",
       "    .dataframe tbody tr th {\n",
       "        vertical-align: top;\n",
       "    }\n",
       "\n",
       "    .dataframe thead th {\n",
       "        text-align: right;\n",
       "    }\n",
       "</style>\n",
       "<table border=\"1\" class=\"dataframe\">\n",
       "  <thead>\n",
       "    <tr style=\"text-align: right;\">\n",
       "      <th></th>\n",
       "      <th>FuelType</th>\n",
       "    </tr>\n",
       "  </thead>\n",
       "  <tbody>\n",
       "    <tr>\n",
       "      <th>petrol</th>\n",
       "      <td>165296</td>\n",
       "    </tr>\n",
       "    <tr>\n",
       "      <th>gasoline</th>\n",
       "      <td>81050</td>\n",
       "    </tr>\n",
       "    <tr>\n",
       "      <th>unknown</th>\n",
       "      <td>14220</td>\n",
       "    </tr>\n",
       "    <tr>\n",
       "      <th>lpg</th>\n",
       "      <td>3976</td>\n",
       "    </tr>\n",
       "    <tr>\n",
       "      <th>cng</th>\n",
       "      <td>473</td>\n",
       "    </tr>\n",
       "    <tr>\n",
       "      <th>hybrid</th>\n",
       "      <td>166</td>\n",
       "    </tr>\n",
       "    <tr>\n",
       "      <th>other</th>\n",
       "      <td>39</td>\n",
       "    </tr>\n",
       "    <tr>\n",
       "      <th>electric</th>\n",
       "      <td>29</td>\n",
       "    </tr>\n",
       "  </tbody>\n",
       "</table>\n",
       "</div>"
      ],
      "text/plain": [
       "          FuelType\n",
       "petrol      165296\n",
       "gasoline     81050\n",
       "unknown      14220\n",
       "lpg           3976\n",
       "cng            473\n",
       "hybrid         166\n",
       "other           39\n",
       "electric        29"
      ]
     },
     "execution_count": 75,
     "metadata": {},
     "output_type": "execute_result"
    }
   ],
   "source": [
    "df[columns_name[9]].value_counts().to_frame()"
   ]
  },
  {
   "cell_type": "markdown",
   "metadata": {},
   "source": [
    "##### ● 10  <b>Brand</b> — марка автомобиля\n",
    "    - | object |\n",
    "    - Отбросим редкие марки авто."
   ]
  },
  {
   "cell_type": "code",
   "execution_count": 76,
   "metadata": {},
   "outputs": [
    {
     "data": {
      "text/plain": [
       "volkswagen       57568\n",
       "opel             29868\n",
       "bmw              28499\n",
       "mercedes_benz    23765\n",
       "audi             22717\n",
       "ford             18824\n",
       "renault          13381\n",
       "peugeot           8626\n",
       "fiat              6980\n",
       "seat              5115\n",
       "skoda             4752\n",
       "mazda             4441\n",
       "citroen           4006\n",
       "toyota            3905\n",
       "nissan            3704\n",
       "smart             3486\n",
       "hyundai           2928\n",
       "mini              2738\n",
       "volvo             2575\n",
       "mitsubishi        2335\n",
       "honda             2307\n",
       "kia               1977\n",
       "alfa_romeo        1833\n",
       "suzuki            1818\n",
       "chevrolet         1237\n",
       "chrysler          1040\n",
       "dacia              804\n",
       "subaru             552\n",
       "daihatsu           522\n",
       "jeep               495\n",
       "saab               427\n",
       "daewoo             375\n",
       "land_rover         366\n",
       "lancia             340\n",
       "rover              315\n",
       "jaguar             288\n",
       "porsche            200\n",
       "lada               137\n",
       "trabant              3\n",
       "Name: Brand, dtype: int64"
      ]
     },
     "execution_count": 76,
     "metadata": {},
     "output_type": "execute_result"
    }
   ],
   "source": [
    "df[columns_name[10]].value_counts()"
   ]
  },
  {
   "cell_type": "code",
   "execution_count": 77,
   "metadata": {},
   "outputs": [],
   "source": [
    "# Удалим редкие марки авто.\n",
    "df = df[df[columns_name[10]] != 'trabant'] # Захарткодил, не смог найти гибкое решение, рад буду за подсказку как?"
   ]
  },
  {
   "cell_type": "markdown",
   "metadata": {},
   "source": [
    "##### ● 11  <b>Repaired</b> — была машина в ремонте или нет\n",
    "\n",
    "    - | object | Необходимо перевести тип в int и преобразовать в бинарный 1-да 0-нет.\n",
    "    - Создадим еще один столбец Repaired_info с бинарным типом данных (1 - Есть информация, 0 - Нет информации)."
   ]
  },
  {
   "cell_type": "code",
   "execution_count": 78,
   "metadata": {},
   "outputs": [
    {
     "data": {
      "text/html": [
       "<div>\n",
       "<style scoped>\n",
       "    .dataframe tbody tr th:only-of-type {\n",
       "        vertical-align: middle;\n",
       "    }\n",
       "\n",
       "    .dataframe tbody tr th {\n",
       "        vertical-align: top;\n",
       "    }\n",
       "\n",
       "    .dataframe thead th {\n",
       "        text-align: right;\n",
       "    }\n",
       "</style>\n",
       "<table border=\"1\" class=\"dataframe\">\n",
       "  <thead>\n",
       "    <tr style=\"text-align: right;\">\n",
       "      <th></th>\n",
       "      <th>Repaired</th>\n",
       "    </tr>\n",
       "  </thead>\n",
       "  <tbody>\n",
       "    <tr>\n",
       "      <th>no</th>\n",
       "      <td>203099</td>\n",
       "    </tr>\n",
       "    <tr>\n",
       "      <th>yes</th>\n",
       "      <td>24475</td>\n",
       "    </tr>\n",
       "  </tbody>\n",
       "</table>\n",
       "</div>"
      ],
      "text/plain": [
       "     Repaired\n",
       "no     203099\n",
       "yes     24475"
      ]
     },
     "execution_count": 78,
     "metadata": {},
     "output_type": "execute_result"
    }
   ],
   "source": [
    "df[columns_name[11]].value_counts().to_frame()"
   ]
  },
  {
   "cell_type": "code",
   "execution_count": 79,
   "metadata": {},
   "outputs": [],
   "source": [
    "# Добавим столбец есть информация о ремонте или нет\n",
    "bool_val = df[columns_name[11]].isna() == False\n",
    "df['repaired_info'] = np.multiply(bool_val, 1)"
   ]
  },
  {
   "cell_type": "markdown",
   "metadata": {},
   "source": [
    "- поменяем значения 'Repaired' на битовые и переведем тип данных в int, NaN запишем как 0. Информация об отсутствие данных 'Repaired' записали в новый столбец 'Repaired_info'"
   ]
  },
  {
   "cell_type": "code",
   "execution_count": 80,
   "metadata": {},
   "outputs": [
    {
     "data": {
      "text/plain": [
       "0    240771\n",
       "1     24475\n",
       "Name: Repaired, dtype: int64"
      ]
     },
     "execution_count": 80,
     "metadata": {},
     "output_type": "execute_result"
    }
   ],
   "source": [
    "# Меняем значения на int 1 0\n",
    "df.loc[df[columns_name[11]] == 'yes', columns_name[11]] = 1\n",
    "df.loc[df[columns_name[11]] == 'no', columns_name[11]] = 0\n",
    "df[columns_name[11]] = df[columns_name[11]].fillna(0)\n",
    "df[columns_name[11]].value_counts()"
   ]
  },
  {
   "cell_type": "markdown",
   "metadata": {},
   "source": [
    "##### ● 14  <b>PostalCode</b> почтовый индекс владельца анкеты (пользователя)\n",
    "    - | int64 |\n",
    "    - По почтовому индексу можно предположить место дислокации, возможно от этого зависит цена."
   ]
  },
  {
   "cell_type": "code",
   "execution_count": 81,
   "metadata": {},
   "outputs": [
    {
     "data": {
      "text/plain": [
       "10115    694\n",
       "65428    483\n",
       "66333    244\n",
       "52525    233\n",
       "48249    227\n",
       "        ... \n",
       "75337      1\n",
       "99102      1\n",
       "72369      1\n",
       "7950       1\n",
       "79685      1\n",
       "Name: PostalCode, Length: 8082, dtype: int64"
      ]
     },
     "execution_count": 81,
     "metadata": {},
     "output_type": "execute_result"
    }
   ],
   "source": [
    "df[columns_name[14]].value_counts()"
   ]
  },
  {
   "cell_type": "code",
   "execution_count": 82,
   "metadata": {},
   "outputs": [
    {
     "data": {
      "image/svg+xml": [
       "<?xml version=\"1.0\" encoding=\"utf-8\" standalone=\"no\"?>\n",
       "<!DOCTYPE svg PUBLIC \"-//W3C//DTD SVG 1.1//EN\"\n",
       "  \"http://www.w3.org/Graphics/SVG/1.1/DTD/svg11.dtd\">\n",
       "<!-- Created with matplotlib (https://matplotlib.org/) -->\n",
       "<svg height=\"252.1761pt\" version=\"1.1\" viewBox=\"0 0 381.65 252.1761\" width=\"381.65pt\" xmlns=\"http://www.w3.org/2000/svg\" xmlns:xlink=\"http://www.w3.org/1999/xlink\">\n",
       " <metadata>\n",
       "  <rdf:RDF xmlns:cc=\"http://creativecommons.org/ns#\" xmlns:dc=\"http://purl.org/dc/elements/1.1/\" xmlns:rdf=\"http://www.w3.org/1999/02/22-rdf-syntax-ns#\">\n",
       "   <cc:Work>\n",
       "    <dc:type rdf:resource=\"http://purl.org/dc/dcmitype/StillImage\"/>\n",
       "    <dc:date>2023-03-12T16:52:08.149829</dc:date>\n",
       "    <dc:format>image/svg+xml</dc:format>\n",
       "    <dc:creator>\n",
       "     <cc:Agent>\n",
       "      <dc:title>Matplotlib v3.3.4, https://matplotlib.org/</dc:title>\n",
       "     </cc:Agent>\n",
       "    </dc:creator>\n",
       "   </cc:Work>\n",
       "  </rdf:RDF>\n",
       " </metadata>\n",
       " <defs>\n",
       "  <style type=\"text/css\">*{stroke-linecap:butt;stroke-linejoin:round;}</style>\n",
       " </defs>\n",
       " <g id=\"figure_1\">\n",
       "  <g id=\"patch_1\">\n",
       "   <path d=\"M -0 252.1761 \n",
       "L 381.65 252.1761 \n",
       "L 381.65 0 \n",
       "L -0 0 \n",
       "z\n",
       "\" style=\"fill:none;\"/>\n",
       "  </g>\n",
       "  <g id=\"axes_1\">\n",
       "   <g id=\"patch_2\">\n",
       "    <path d=\"M 39.65 228.297975 \n",
       "L 374.45 228.297975 \n",
       "L 374.45 10.857975 \n",
       "L 39.65 10.857975 \n",
       "z\n",
       "\" style=\"fill:#ffffff;\"/>\n",
       "   </g>\n",
       "   <g id=\"patch_3\">\n",
       "    <path clip-path=\"url(#p6c90921698)\" d=\"M 54.868182 228.297975 \n",
       "L 57.911818 228.297975 \n",
       "L 57.911818 21.21226 \n",
       "L 54.868182 21.21226 \n",
       "z\n",
       "\" style=\"fill:#1f77b4;\"/>\n",
       "   </g>\n",
       "   <g id=\"patch_4\">\n",
       "    <path clip-path=\"url(#p6c90921698)\" d=\"M 57.911818 228.297975 \n",
       "L 60.955455 228.297975 \n",
       "L 60.955455 71.082325 \n",
       "L 57.911818 71.082325 \n",
       "z\n",
       "\" style=\"fill:#1f77b4;\"/>\n",
       "   </g>\n",
       "   <g id=\"patch_5\">\n",
       "    <path clip-path=\"url(#p6c90921698)\" d=\"M 60.955455 228.297975 \n",
       "L 63.999091 228.297975 \n",
       "L 63.999091 125.407014 \n",
       "L 60.955455 125.407014 \n",
       "z\n",
       "\" style=\"fill:#1f77b4;\"/>\n",
       "   </g>\n",
       "   <g id=\"patch_6\">\n",
       "    <path clip-path=\"url(#p6c90921698)\" d=\"M 63.999091 228.297975 \n",
       "L 67.042727 228.297975 \n",
       "L 67.042727 160.826711 \n",
       "L 63.999091 160.826711 \n",
       "z\n",
       "\" style=\"fill:#1f77b4;\"/>\n",
       "   </g>\n",
       "   <g id=\"patch_7\">\n",
       "    <path clip-path=\"url(#p6c90921698)\" d=\"M 67.042727 228.297975 \n",
       "L 70.086364 228.297975 \n",
       "L 70.086364 173.538688 \n",
       "L 67.042727 173.538688 \n",
       "z\n",
       "\" style=\"fill:#1f77b4;\"/>\n",
       "   </g>\n",
       "   <g id=\"patch_8\">\n",
       "    <path clip-path=\"url(#p6c90921698)\" d=\"M 70.086364 228.297975 \n",
       "L 73.13 228.297975 \n",
       "L 73.13 183.64308 \n",
       "L 70.086364 183.64308 \n",
       "z\n",
       "\" style=\"fill:#1f77b4;\"/>\n",
       "   </g>\n",
       "   <g id=\"patch_9\">\n",
       "    <path clip-path=\"url(#p6c90921698)\" d=\"M 73.13 228.297975 \n",
       "L 76.173636 228.297975 \n",
       "L 76.173636 187.880406 \n",
       "L 73.13 187.880406 \n",
       "z\n",
       "\" style=\"fill:#1f77b4;\"/>\n",
       "   </g>\n",
       "   <g id=\"patch_10\">\n",
       "    <path clip-path=\"url(#p6c90921698)\" d=\"M 76.173636 228.297975 \n",
       "L 79.217273 228.297975 \n",
       "L 79.217273 195.377213 \n",
       "L 76.173636 195.377213 \n",
       "z\n",
       "\" style=\"fill:#1f77b4;\"/>\n",
       "   </g>\n",
       "   <g id=\"patch_11\">\n",
       "    <path clip-path=\"url(#p6c90921698)\" d=\"M 79.217273 228.297975 \n",
       "L 82.260909 228.297975 \n",
       "L 82.260909 198.528045 \n",
       "L 79.217273 198.528045 \n",
       "z\n",
       "\" style=\"fill:#1f77b4;\"/>\n",
       "   </g>\n",
       "   <g id=\"patch_12\">\n",
       "    <path clip-path=\"url(#p6c90921698)\" d=\"M 82.260909 228.297975 \n",
       "L 85.304545 228.297975 \n",
       "L 85.304545 203.851865 \n",
       "L 82.260909 203.851865 \n",
       "z\n",
       "\" style=\"fill:#1f77b4;\"/>\n",
       "   </g>\n",
       "   <g id=\"patch_13\">\n",
       "    <path clip-path=\"url(#p6c90921698)\" d=\"M 85.304545 228.297975 \n",
       "L 88.348182 228.297975 \n",
       "L 88.348182 206.785398 \n",
       "L 85.304545 206.785398 \n",
       "z\n",
       "\" style=\"fill:#1f77b4;\"/>\n",
       "   </g>\n",
       "   <g id=\"patch_14\">\n",
       "    <path clip-path=\"url(#p6c90921698)\" d=\"M 88.348182 228.297975 \n",
       "L 91.391818 228.297975 \n",
       "L 91.391818 213.521659 \n",
       "L 88.348182 213.521659 \n",
       "z\n",
       "\" style=\"fill:#1f77b4;\"/>\n",
       "   </g>\n",
       "   <g id=\"patch_15\">\n",
       "    <path clip-path=\"url(#p6c90921698)\" d=\"M 91.391818 228.297975 \n",
       "L 94.435455 228.297975 \n",
       "L 94.435455 214.282205 \n",
       "L 91.391818 214.282205 \n",
       "z\n",
       "\" style=\"fill:#1f77b4;\"/>\n",
       "   </g>\n",
       "   <g id=\"patch_16\">\n",
       "    <path clip-path=\"url(#p6c90921698)\" d=\"M 94.435455 228.297975 \n",
       "L 97.479091 228.297975 \n",
       "L 97.479091 216.020595 \n",
       "L 94.435455 216.020595 \n",
       "z\n",
       "\" style=\"fill:#1f77b4;\"/>\n",
       "   </g>\n",
       "   <g id=\"patch_17\">\n",
       "    <path clip-path=\"url(#p6c90921698)\" d=\"M 97.479091 228.297975 \n",
       "L 100.522727 228.297975 \n",
       "L 100.522727 218.519531 \n",
       "L 97.479091 218.519531 \n",
       "z\n",
       "\" style=\"fill:#1f77b4;\"/>\n",
       "   </g>\n",
       "   <g id=\"patch_18\">\n",
       "    <path clip-path=\"url(#p6c90921698)\" d=\"M 100.522727 228.297975 \n",
       "L 103.566364 228.297975 \n",
       "L 103.566364 220.257921 \n",
       "L 100.522727 220.257921 \n",
       "z\n",
       "\" style=\"fill:#1f77b4;\"/>\n",
       "   </g>\n",
       "   <g id=\"patch_19\">\n",
       "    <path clip-path=\"url(#p6c90921698)\" d=\"M 103.566364 228.297975 \n",
       "L 106.61 228.297975 \n",
       "L 106.61 222.756856 \n",
       "L 103.566364 222.756856 \n",
       "z\n",
       "\" style=\"fill:#1f77b4;\"/>\n",
       "   </g>\n",
       "   <g id=\"patch_20\">\n",
       "    <path clip-path=\"url(#p6c90921698)\" d=\"M 106.61 228.297975 \n",
       "L 109.653636 228.297975 \n",
       "L 109.653636 222.10496 \n",
       "L 106.61 222.10496 \n",
       "z\n",
       "\" style=\"fill:#1f77b4;\"/>\n",
       "   </g>\n",
       "   <g id=\"patch_21\">\n",
       "    <path clip-path=\"url(#p6c90921698)\" d=\"M 109.653636 228.297975 \n",
       "L 112.697273 228.297975 \n",
       "L 112.697273 223.300103 \n",
       "L 109.653636 223.300103 \n",
       "z\n",
       "\" style=\"fill:#1f77b4;\"/>\n",
       "   </g>\n",
       "   <g id=\"patch_22\">\n",
       "    <path clip-path=\"url(#p6c90921698)\" d=\"M 112.697273 228.297975 \n",
       "L 115.740909 228.297975 \n",
       "L 115.740909 224.169298 \n",
       "L 112.697273 224.169298 \n",
       "z\n",
       "\" style=\"fill:#1f77b4;\"/>\n",
       "   </g>\n",
       "   <g id=\"patch_23\">\n",
       "    <path clip-path=\"url(#p6c90921698)\" d=\"M 115.740909 228.297975 \n",
       "L 118.784545 228.297975 \n",
       "L 118.784545 224.603896 \n",
       "L 115.740909 224.603896 \n",
       "z\n",
       "\" style=\"fill:#1f77b4;\"/>\n",
       "   </g>\n",
       "   <g id=\"patch_24\">\n",
       "    <path clip-path=\"url(#p6c90921698)\" d=\"M 118.784545 228.297975 \n",
       "L 121.828182 228.297975 \n",
       "L 121.828182 225.799039 \n",
       "L 118.784545 225.799039 \n",
       "z\n",
       "\" style=\"fill:#1f77b4;\"/>\n",
       "   </g>\n",
       "   <g id=\"patch_25\">\n",
       "    <path clip-path=\"url(#p6c90921698)\" d=\"M 121.828182 228.297975 \n",
       "L 124.871818 228.297975 \n",
       "L 124.871818 226.776883 \n",
       "L 121.828182 226.776883 \n",
       "z\n",
       "\" style=\"fill:#1f77b4;\"/>\n",
       "   </g>\n",
       "   <g id=\"patch_26\">\n",
       "    <path clip-path=\"url(#p6c90921698)\" d=\"M 124.871818 228.297975 \n",
       "L 127.915455 228.297975 \n",
       "L 127.915455 226.233636 \n",
       "L 124.871818 226.233636 \n",
       "z\n",
       "\" style=\"fill:#1f77b4;\"/>\n",
       "   </g>\n",
       "   <g id=\"patch_27\">\n",
       "    <path clip-path=\"url(#p6c90921698)\" d=\"M 127.915455 228.297975 \n",
       "L 130.959091 228.297975 \n",
       "L 130.959091 227.537429 \n",
       "L 127.915455 227.537429 \n",
       "z\n",
       "\" style=\"fill:#1f77b4;\"/>\n",
       "   </g>\n",
       "   <g id=\"patch_28\">\n",
       "    <path clip-path=\"url(#p6c90921698)\" d=\"M 130.959091 228.297975 \n",
       "L 134.002727 228.297975 \n",
       "L 134.002727 227.537429 \n",
       "L 130.959091 227.537429 \n",
       "z\n",
       "\" style=\"fill:#1f77b4;\"/>\n",
       "   </g>\n",
       "   <g id=\"patch_29\">\n",
       "    <path clip-path=\"url(#p6c90921698)\" d=\"M 134.002727 228.297975 \n",
       "L 137.046364 228.297975 \n",
       "L 137.046364 227.102831 \n",
       "L 134.002727 227.102831 \n",
       "z\n",
       "\" style=\"fill:#1f77b4;\"/>\n",
       "   </g>\n",
       "   <g id=\"patch_30\">\n",
       "    <path clip-path=\"url(#p6c90921698)\" d=\"M 137.046364 228.297975 \n",
       "L 140.09 228.297975 \n",
       "L 140.09 227.537429 \n",
       "L 137.046364 227.537429 \n",
       "z\n",
       "\" style=\"fill:#1f77b4;\"/>\n",
       "   </g>\n",
       "   <g id=\"patch_31\">\n",
       "    <path clip-path=\"url(#p6c90921698)\" d=\"M 140.09 228.297975 \n",
       "L 143.133636 228.297975 \n",
       "L 143.133636 227.863377 \n",
       "L 140.09 227.863377 \n",
       "z\n",
       "\" style=\"fill:#1f77b4;\"/>\n",
       "   </g>\n",
       "   <g id=\"patch_32\">\n",
       "    <path clip-path=\"url(#p6c90921698)\" d=\"M 143.133636 228.297975 \n",
       "L 146.177273 228.297975 \n",
       "L 146.177273 228.080676 \n",
       "L 143.133636 228.080676 \n",
       "z\n",
       "\" style=\"fill:#1f77b4;\"/>\n",
       "   </g>\n",
       "   <g id=\"patch_33\">\n",
       "    <path clip-path=\"url(#p6c90921698)\" d=\"M 146.177273 228.297975 \n",
       "L 149.220909 228.297975 \n",
       "L 149.220909 227.863377 \n",
       "L 146.177273 227.863377 \n",
       "z\n",
       "\" style=\"fill:#1f77b4;\"/>\n",
       "   </g>\n",
       "   <g id=\"patch_34\">\n",
       "    <path clip-path=\"url(#p6c90921698)\" d=\"M 149.220909 228.297975 \n",
       "L 152.264545 228.297975 \n",
       "L 152.264545 228.080676 \n",
       "L 149.220909 228.080676 \n",
       "z\n",
       "\" style=\"fill:#1f77b4;\"/>\n",
       "   </g>\n",
       "   <g id=\"patch_35\">\n",
       "    <path clip-path=\"url(#p6c90921698)\" d=\"M 152.264545 228.297975 \n",
       "L 155.308182 228.297975 \n",
       "L 155.308182 228.080676 \n",
       "L 152.264545 228.080676 \n",
       "z\n",
       "\" style=\"fill:#1f77b4;\"/>\n",
       "   </g>\n",
       "   <g id=\"patch_36\">\n",
       "    <path clip-path=\"url(#p6c90921698)\" d=\"M 155.308182 228.297975 \n",
       "L 158.351818 228.297975 \n",
       "L 158.351818 228.189325 \n",
       "L 155.308182 228.189325 \n",
       "z\n",
       "\" style=\"fill:#1f77b4;\"/>\n",
       "   </g>\n",
       "   <g id=\"patch_37\">\n",
       "    <path clip-path=\"url(#p6c90921698)\" d=\"M 158.351818 228.297975 \n",
       "L 161.395455 228.297975 \n",
       "L 161.395455 228.297975 \n",
       "L 158.351818 228.297975 \n",
       "z\n",
       "\" style=\"fill:#1f77b4;\"/>\n",
       "   </g>\n",
       "   <g id=\"patch_38\">\n",
       "    <path clip-path=\"url(#p6c90921698)\" d=\"M 161.395455 228.297975 \n",
       "L 164.439091 228.297975 \n",
       "L 164.439091 228.189325 \n",
       "L 161.395455 228.189325 \n",
       "z\n",
       "\" style=\"fill:#1f77b4;\"/>\n",
       "   </g>\n",
       "   <g id=\"patch_39\">\n",
       "    <path clip-path=\"url(#p6c90921698)\" d=\"M 164.439091 228.297975 \n",
       "L 167.482727 228.297975 \n",
       "L 167.482727 228.297975 \n",
       "L 164.439091 228.297975 \n",
       "z\n",
       "\" style=\"fill:#1f77b4;\"/>\n",
       "   </g>\n",
       "   <g id=\"patch_40\">\n",
       "    <path clip-path=\"url(#p6c90921698)\" d=\"M 167.482727 228.297975 \n",
       "L 170.526364 228.297975 \n",
       "L 170.526364 228.297975 \n",
       "L 167.482727 228.297975 \n",
       "z\n",
       "\" style=\"fill:#1f77b4;\"/>\n",
       "   </g>\n",
       "   <g id=\"patch_41\">\n",
       "    <path clip-path=\"url(#p6c90921698)\" d=\"M 170.526364 228.297975 \n",
       "L 173.57 228.297975 \n",
       "L 173.57 228.297975 \n",
       "L 170.526364 228.297975 \n",
       "z\n",
       "\" style=\"fill:#1f77b4;\"/>\n",
       "   </g>\n",
       "   <g id=\"patch_42\">\n",
       "    <path clip-path=\"url(#p6c90921698)\" d=\"M 173.57 228.297975 \n",
       "L 176.613636 228.297975 \n",
       "L 176.613636 228.297975 \n",
       "L 173.57 228.297975 \n",
       "z\n",
       "\" style=\"fill:#1f77b4;\"/>\n",
       "   </g>\n",
       "   <g id=\"patch_43\">\n",
       "    <path clip-path=\"url(#p6c90921698)\" d=\"M 176.613636 228.297975 \n",
       "L 179.657273 228.297975 \n",
       "L 179.657273 228.297975 \n",
       "L 176.613636 228.297975 \n",
       "z\n",
       "\" style=\"fill:#1f77b4;\"/>\n",
       "   </g>\n",
       "   <g id=\"patch_44\">\n",
       "    <path clip-path=\"url(#p6c90921698)\" d=\"M 179.657273 228.297975 \n",
       "L 182.700909 228.297975 \n",
       "L 182.700909 228.297975 \n",
       "L 179.657273 228.297975 \n",
       "z\n",
       "\" style=\"fill:#1f77b4;\"/>\n",
       "   </g>\n",
       "   <g id=\"patch_45\">\n",
       "    <path clip-path=\"url(#p6c90921698)\" d=\"M 182.700909 228.297975 \n",
       "L 185.744545 228.297975 \n",
       "L 185.744545 228.297975 \n",
       "L 182.700909 228.297975 \n",
       "z\n",
       "\" style=\"fill:#1f77b4;\"/>\n",
       "   </g>\n",
       "   <g id=\"patch_46\">\n",
       "    <path clip-path=\"url(#p6c90921698)\" d=\"M 185.744545 228.297975 \n",
       "L 188.788182 228.297975 \n",
       "L 188.788182 228.297975 \n",
       "L 185.744545 228.297975 \n",
       "z\n",
       "\" style=\"fill:#1f77b4;\"/>\n",
       "   </g>\n",
       "   <g id=\"patch_47\">\n",
       "    <path clip-path=\"url(#p6c90921698)\" d=\"M 188.788182 228.297975 \n",
       "L 191.831818 228.297975 \n",
       "L 191.831818 228.297975 \n",
       "L 188.788182 228.297975 \n",
       "z\n",
       "\" style=\"fill:#1f77b4;\"/>\n",
       "   </g>\n",
       "   <g id=\"patch_48\">\n",
       "    <path clip-path=\"url(#p6c90921698)\" d=\"M 191.831818 228.297975 \n",
       "L 194.875455 228.297975 \n",
       "L 194.875455 228.297975 \n",
       "L 191.831818 228.297975 \n",
       "z\n",
       "\" style=\"fill:#1f77b4;\"/>\n",
       "   </g>\n",
       "   <g id=\"patch_49\">\n",
       "    <path clip-path=\"url(#p6c90921698)\" d=\"M 194.875455 228.297975 \n",
       "L 197.919091 228.297975 \n",
       "L 197.919091 228.297975 \n",
       "L 194.875455 228.297975 \n",
       "z\n",
       "\" style=\"fill:#1f77b4;\"/>\n",
       "   </g>\n",
       "   <g id=\"patch_50\">\n",
       "    <path clip-path=\"url(#p6c90921698)\" d=\"M 197.919091 228.297975 \n",
       "L 200.962727 228.297975 \n",
       "L 200.962727 228.297975 \n",
       "L 197.919091 228.297975 \n",
       "z\n",
       "\" style=\"fill:#1f77b4;\"/>\n",
       "   </g>\n",
       "   <g id=\"patch_51\">\n",
       "    <path clip-path=\"url(#p6c90921698)\" d=\"M 200.962727 228.297975 \n",
       "L 204.006364 228.297975 \n",
       "L 204.006364 228.297975 \n",
       "L 200.962727 228.297975 \n",
       "z\n",
       "\" style=\"fill:#1f77b4;\"/>\n",
       "   </g>\n",
       "   <g id=\"patch_52\">\n",
       "    <path clip-path=\"url(#p6c90921698)\" d=\"M 204.006364 228.297975 \n",
       "L 207.05 228.297975 \n",
       "L 207.05 228.297975 \n",
       "L 204.006364 228.297975 \n",
       "z\n",
       "\" style=\"fill:#1f77b4;\"/>\n",
       "   </g>\n",
       "   <g id=\"patch_53\">\n",
       "    <path clip-path=\"url(#p6c90921698)\" d=\"M 207.05 228.297975 \n",
       "L 210.093636 228.297975 \n",
       "L 210.093636 228.297975 \n",
       "L 207.05 228.297975 \n",
       "z\n",
       "\" style=\"fill:#1f77b4;\"/>\n",
       "   </g>\n",
       "   <g id=\"patch_54\">\n",
       "    <path clip-path=\"url(#p6c90921698)\" d=\"M 210.093636 228.297975 \n",
       "L 213.137273 228.297975 \n",
       "L 213.137273 228.297975 \n",
       "L 210.093636 228.297975 \n",
       "z\n",
       "\" style=\"fill:#1f77b4;\"/>\n",
       "   </g>\n",
       "   <g id=\"patch_55\">\n",
       "    <path clip-path=\"url(#p6c90921698)\" d=\"M 213.137273 228.297975 \n",
       "L 216.180909 228.297975 \n",
       "L 216.180909 228.297975 \n",
       "L 213.137273 228.297975 \n",
       "z\n",
       "\" style=\"fill:#1f77b4;\"/>\n",
       "   </g>\n",
       "   <g id=\"patch_56\">\n",
       "    <path clip-path=\"url(#p6c90921698)\" d=\"M 216.180909 228.297975 \n",
       "L 219.224545 228.297975 \n",
       "L 219.224545 228.297975 \n",
       "L 216.180909 228.297975 \n",
       "z\n",
       "\" style=\"fill:#1f77b4;\"/>\n",
       "   </g>\n",
       "   <g id=\"patch_57\">\n",
       "    <path clip-path=\"url(#p6c90921698)\" d=\"M 219.224545 228.297975 \n",
       "L 222.268182 228.297975 \n",
       "L 222.268182 228.297975 \n",
       "L 219.224545 228.297975 \n",
       "z\n",
       "\" style=\"fill:#1f77b4;\"/>\n",
       "   </g>\n",
       "   <g id=\"patch_58\">\n",
       "    <path clip-path=\"url(#p6c90921698)\" d=\"M 222.268182 228.297975 \n",
       "L 225.311818 228.297975 \n",
       "L 225.311818 228.297975 \n",
       "L 222.268182 228.297975 \n",
       "z\n",
       "\" style=\"fill:#1f77b4;\"/>\n",
       "   </g>\n",
       "   <g id=\"patch_59\">\n",
       "    <path clip-path=\"url(#p6c90921698)\" d=\"M 225.311818 228.297975 \n",
       "L 228.355455 228.297975 \n",
       "L 228.355455 228.297975 \n",
       "L 225.311818 228.297975 \n",
       "z\n",
       "\" style=\"fill:#1f77b4;\"/>\n",
       "   </g>\n",
       "   <g id=\"patch_60\">\n",
       "    <path clip-path=\"url(#p6c90921698)\" d=\"M 228.355455 228.297975 \n",
       "L 231.399091 228.297975 \n",
       "L 231.399091 228.297975 \n",
       "L 228.355455 228.297975 \n",
       "z\n",
       "\" style=\"fill:#1f77b4;\"/>\n",
       "   </g>\n",
       "   <g id=\"patch_61\">\n",
       "    <path clip-path=\"url(#p6c90921698)\" d=\"M 231.399091 228.297975 \n",
       "L 234.442727 228.297975 \n",
       "L 234.442727 228.297975 \n",
       "L 231.399091 228.297975 \n",
       "z\n",
       "\" style=\"fill:#1f77b4;\"/>\n",
       "   </g>\n",
       "   <g id=\"patch_62\">\n",
       "    <path clip-path=\"url(#p6c90921698)\" d=\"M 234.442727 228.297975 \n",
       "L 237.486364 228.297975 \n",
       "L 237.486364 228.297975 \n",
       "L 234.442727 228.297975 \n",
       "z\n",
       "\" style=\"fill:#1f77b4;\"/>\n",
       "   </g>\n",
       "   <g id=\"patch_63\">\n",
       "    <path clip-path=\"url(#p6c90921698)\" d=\"M 237.486364 228.297975 \n",
       "L 240.53 228.297975 \n",
       "L 240.53 228.297975 \n",
       "L 237.486364 228.297975 \n",
       "z\n",
       "\" style=\"fill:#1f77b4;\"/>\n",
       "   </g>\n",
       "   <g id=\"patch_64\">\n",
       "    <path clip-path=\"url(#p6c90921698)\" d=\"M 240.53 228.297975 \n",
       "L 243.573636 228.297975 \n",
       "L 243.573636 228.297975 \n",
       "L 240.53 228.297975 \n",
       "z\n",
       "\" style=\"fill:#1f77b4;\"/>\n",
       "   </g>\n",
       "   <g id=\"patch_65\">\n",
       "    <path clip-path=\"url(#p6c90921698)\" d=\"M 243.573636 228.297975 \n",
       "L 246.617273 228.297975 \n",
       "L 246.617273 228.297975 \n",
       "L 243.573636 228.297975 \n",
       "z\n",
       "\" style=\"fill:#1f77b4;\"/>\n",
       "   </g>\n",
       "   <g id=\"patch_66\">\n",
       "    <path clip-path=\"url(#p6c90921698)\" d=\"M 246.617273 228.297975 \n",
       "L 249.660909 228.297975 \n",
       "L 249.660909 228.297975 \n",
       "L 246.617273 228.297975 \n",
       "z\n",
       "\" style=\"fill:#1f77b4;\"/>\n",
       "   </g>\n",
       "   <g id=\"patch_67\">\n",
       "    <path clip-path=\"url(#p6c90921698)\" d=\"M 249.660909 228.297975 \n",
       "L 252.704545 228.297975 \n",
       "L 252.704545 228.297975 \n",
       "L 249.660909 228.297975 \n",
       "z\n",
       "\" style=\"fill:#1f77b4;\"/>\n",
       "   </g>\n",
       "   <g id=\"patch_68\">\n",
       "    <path clip-path=\"url(#p6c90921698)\" d=\"M 252.704545 228.297975 \n",
       "L 255.748182 228.297975 \n",
       "L 255.748182 228.297975 \n",
       "L 252.704545 228.297975 \n",
       "z\n",
       "\" style=\"fill:#1f77b4;\"/>\n",
       "   </g>\n",
       "   <g id=\"patch_69\">\n",
       "    <path clip-path=\"url(#p6c90921698)\" d=\"M 255.748182 228.297975 \n",
       "L 258.791818 228.297975 \n",
       "L 258.791818 228.297975 \n",
       "L 255.748182 228.297975 \n",
       "z\n",
       "\" style=\"fill:#1f77b4;\"/>\n",
       "   </g>\n",
       "   <g id=\"patch_70\">\n",
       "    <path clip-path=\"url(#p6c90921698)\" d=\"M 258.791818 228.297975 \n",
       "L 261.835455 228.297975 \n",
       "L 261.835455 228.297975 \n",
       "L 258.791818 228.297975 \n",
       "z\n",
       "\" style=\"fill:#1f77b4;\"/>\n",
       "   </g>\n",
       "   <g id=\"patch_71\">\n",
       "    <path clip-path=\"url(#p6c90921698)\" d=\"M 261.835455 228.297975 \n",
       "L 264.879091 228.297975 \n",
       "L 264.879091 228.297975 \n",
       "L 261.835455 228.297975 \n",
       "z\n",
       "\" style=\"fill:#1f77b4;\"/>\n",
       "   </g>\n",
       "   <g id=\"patch_72\">\n",
       "    <path clip-path=\"url(#p6c90921698)\" d=\"M 264.879091 228.297975 \n",
       "L 267.922727 228.297975 \n",
       "L 267.922727 228.189325 \n",
       "L 264.879091 228.189325 \n",
       "z\n",
       "\" style=\"fill:#1f77b4;\"/>\n",
       "   </g>\n",
       "   <g id=\"patch_73\">\n",
       "    <path clip-path=\"url(#p6c90921698)\" d=\"M 267.922727 228.297975 \n",
       "L 270.966364 228.297975 \n",
       "L 270.966364 228.297975 \n",
       "L 267.922727 228.297975 \n",
       "z\n",
       "\" style=\"fill:#1f77b4;\"/>\n",
       "   </g>\n",
       "   <g id=\"patch_74\">\n",
       "    <path clip-path=\"url(#p6c90921698)\" d=\"M 270.966364 228.297975 \n",
       "L 274.01 228.297975 \n",
       "L 274.01 228.297975 \n",
       "L 270.966364 228.297975 \n",
       "z\n",
       "\" style=\"fill:#1f77b4;\"/>\n",
       "   </g>\n",
       "   <g id=\"patch_75\">\n",
       "    <path clip-path=\"url(#p6c90921698)\" d=\"M 274.01 228.297975 \n",
       "L 277.053636 228.297975 \n",
       "L 277.053636 228.297975 \n",
       "L 274.01 228.297975 \n",
       "z\n",
       "\" style=\"fill:#1f77b4;\"/>\n",
       "   </g>\n",
       "   <g id=\"patch_76\">\n",
       "    <path clip-path=\"url(#p6c90921698)\" d=\"M 277.053636 228.297975 \n",
       "L 280.097273 228.297975 \n",
       "L 280.097273 228.297975 \n",
       "L 277.053636 228.297975 \n",
       "z\n",
       "\" style=\"fill:#1f77b4;\"/>\n",
       "   </g>\n",
       "   <g id=\"patch_77\">\n",
       "    <path clip-path=\"url(#p6c90921698)\" d=\"M 280.097273 228.297975 \n",
       "L 283.140909 228.297975 \n",
       "L 283.140909 228.297975 \n",
       "L 280.097273 228.297975 \n",
       "z\n",
       "\" style=\"fill:#1f77b4;\"/>\n",
       "   </g>\n",
       "   <g id=\"patch_78\">\n",
       "    <path clip-path=\"url(#p6c90921698)\" d=\"M 283.140909 228.297975 \n",
       "L 286.184545 228.297975 \n",
       "L 286.184545 228.297975 \n",
       "L 283.140909 228.297975 \n",
       "z\n",
       "\" style=\"fill:#1f77b4;\"/>\n",
       "   </g>\n",
       "   <g id=\"patch_79\">\n",
       "    <path clip-path=\"url(#p6c90921698)\" d=\"M 286.184545 228.297975 \n",
       "L 289.228182 228.297975 \n",
       "L 289.228182 228.297975 \n",
       "L 286.184545 228.297975 \n",
       "z\n",
       "\" style=\"fill:#1f77b4;\"/>\n",
       "   </g>\n",
       "   <g id=\"patch_80\">\n",
       "    <path clip-path=\"url(#p6c90921698)\" d=\"M 289.228182 228.297975 \n",
       "L 292.271818 228.297975 \n",
       "L 292.271818 228.297975 \n",
       "L 289.228182 228.297975 \n",
       "z\n",
       "\" style=\"fill:#1f77b4;\"/>\n",
       "   </g>\n",
       "   <g id=\"patch_81\">\n",
       "    <path clip-path=\"url(#p6c90921698)\" d=\"M 292.271818 228.297975 \n",
       "L 295.315455 228.297975 \n",
       "L 295.315455 228.297975 \n",
       "L 292.271818 228.297975 \n",
       "z\n",
       "\" style=\"fill:#1f77b4;\"/>\n",
       "   </g>\n",
       "   <g id=\"patch_82\">\n",
       "    <path clip-path=\"url(#p6c90921698)\" d=\"M 295.315455 228.297975 \n",
       "L 298.359091 228.297975 \n",
       "L 298.359091 228.297975 \n",
       "L 295.315455 228.297975 \n",
       "z\n",
       "\" style=\"fill:#1f77b4;\"/>\n",
       "   </g>\n",
       "   <g id=\"patch_83\">\n",
       "    <path clip-path=\"url(#p6c90921698)\" d=\"M 298.359091 228.297975 \n",
       "L 301.402727 228.297975 \n",
       "L 301.402727 228.297975 \n",
       "L 298.359091 228.297975 \n",
       "z\n",
       "\" style=\"fill:#1f77b4;\"/>\n",
       "   </g>\n",
       "   <g id=\"patch_84\">\n",
       "    <path clip-path=\"url(#p6c90921698)\" d=\"M 301.402727 228.297975 \n",
       "L 304.446364 228.297975 \n",
       "L 304.446364 228.297975 \n",
       "L 301.402727 228.297975 \n",
       "z\n",
       "\" style=\"fill:#1f77b4;\"/>\n",
       "   </g>\n",
       "   <g id=\"patch_85\">\n",
       "    <path clip-path=\"url(#p6c90921698)\" d=\"M 304.446364 228.297975 \n",
       "L 307.49 228.297975 \n",
       "L 307.49 228.297975 \n",
       "L 304.446364 228.297975 \n",
       "z\n",
       "\" style=\"fill:#1f77b4;\"/>\n",
       "   </g>\n",
       "   <g id=\"patch_86\">\n",
       "    <path clip-path=\"url(#p6c90921698)\" d=\"M 307.49 228.297975 \n",
       "L 310.533636 228.297975 \n",
       "L 310.533636 228.297975 \n",
       "L 307.49 228.297975 \n",
       "z\n",
       "\" style=\"fill:#1f77b4;\"/>\n",
       "   </g>\n",
       "   <g id=\"patch_87\">\n",
       "    <path clip-path=\"url(#p6c90921698)\" d=\"M 310.533636 228.297975 \n",
       "L 313.577273 228.297975 \n",
       "L 313.577273 228.297975 \n",
       "L 310.533636 228.297975 \n",
       "z\n",
       "\" style=\"fill:#1f77b4;\"/>\n",
       "   </g>\n",
       "   <g id=\"patch_88\">\n",
       "    <path clip-path=\"url(#p6c90921698)\" d=\"M 313.577273 228.297975 \n",
       "L 316.620909 228.297975 \n",
       "L 316.620909 228.297975 \n",
       "L 313.577273 228.297975 \n",
       "z\n",
       "\" style=\"fill:#1f77b4;\"/>\n",
       "   </g>\n",
       "   <g id=\"patch_89\">\n",
       "    <path clip-path=\"url(#p6c90921698)\" d=\"M 316.620909 228.297975 \n",
       "L 319.664545 228.297975 \n",
       "L 319.664545 228.297975 \n",
       "L 316.620909 228.297975 \n",
       "z\n",
       "\" style=\"fill:#1f77b4;\"/>\n",
       "   </g>\n",
       "   <g id=\"patch_90\">\n",
       "    <path clip-path=\"url(#p6c90921698)\" d=\"M 319.664545 228.297975 \n",
       "L 322.708182 228.297975 \n",
       "L 322.708182 228.297975 \n",
       "L 319.664545 228.297975 \n",
       "z\n",
       "\" style=\"fill:#1f77b4;\"/>\n",
       "   </g>\n",
       "   <g id=\"patch_91\">\n",
       "    <path clip-path=\"url(#p6c90921698)\" d=\"M 322.708182 228.297975 \n",
       "L 325.751818 228.297975 \n",
       "L 325.751818 228.297975 \n",
       "L 322.708182 228.297975 \n",
       "z\n",
       "\" style=\"fill:#1f77b4;\"/>\n",
       "   </g>\n",
       "   <g id=\"patch_92\">\n",
       "    <path clip-path=\"url(#p6c90921698)\" d=\"M 325.751818 228.297975 \n",
       "L 328.795455 228.297975 \n",
       "L 328.795455 228.297975 \n",
       "L 325.751818 228.297975 \n",
       "z\n",
       "\" style=\"fill:#1f77b4;\"/>\n",
       "   </g>\n",
       "   <g id=\"patch_93\">\n",
       "    <path clip-path=\"url(#p6c90921698)\" d=\"M 328.795455 228.297975 \n",
       "L 331.839091 228.297975 \n",
       "L 331.839091 228.297975 \n",
       "L 328.795455 228.297975 \n",
       "z\n",
       "\" style=\"fill:#1f77b4;\"/>\n",
       "   </g>\n",
       "   <g id=\"patch_94\">\n",
       "    <path clip-path=\"url(#p6c90921698)\" d=\"M 331.839091 228.297975 \n",
       "L 334.882727 228.297975 \n",
       "L 334.882727 228.297975 \n",
       "L 331.839091 228.297975 \n",
       "z\n",
       "\" style=\"fill:#1f77b4;\"/>\n",
       "   </g>\n",
       "   <g id=\"patch_95\">\n",
       "    <path clip-path=\"url(#p6c90921698)\" d=\"M 334.882727 228.297975 \n",
       "L 337.926364 228.297975 \n",
       "L 337.926364 228.297975 \n",
       "L 334.882727 228.297975 \n",
       "z\n",
       "\" style=\"fill:#1f77b4;\"/>\n",
       "   </g>\n",
       "   <g id=\"patch_96\">\n",
       "    <path clip-path=\"url(#p6c90921698)\" d=\"M 337.926364 228.297975 \n",
       "L 340.97 228.297975 \n",
       "L 340.97 228.297975 \n",
       "L 337.926364 228.297975 \n",
       "z\n",
       "\" style=\"fill:#1f77b4;\"/>\n",
       "   </g>\n",
       "   <g id=\"patch_97\">\n",
       "    <path clip-path=\"url(#p6c90921698)\" d=\"M 340.97 228.297975 \n",
       "L 344.013636 228.297975 \n",
       "L 344.013636 228.297975 \n",
       "L 340.97 228.297975 \n",
       "z\n",
       "\" style=\"fill:#1f77b4;\"/>\n",
       "   </g>\n",
       "   <g id=\"patch_98\">\n",
       "    <path clip-path=\"url(#p6c90921698)\" d=\"M 344.013636 228.297975 \n",
       "L 347.057273 228.297975 \n",
       "L 347.057273 228.297975 \n",
       "L 344.013636 228.297975 \n",
       "z\n",
       "\" style=\"fill:#1f77b4;\"/>\n",
       "   </g>\n",
       "   <g id=\"patch_99\">\n",
       "    <path clip-path=\"url(#p6c90921698)\" d=\"M 347.057273 228.297975 \n",
       "L 350.100909 228.297975 \n",
       "L 350.100909 228.297975 \n",
       "L 347.057273 228.297975 \n",
       "z\n",
       "\" style=\"fill:#1f77b4;\"/>\n",
       "   </g>\n",
       "   <g id=\"patch_100\">\n",
       "    <path clip-path=\"url(#p6c90921698)\" d=\"M 350.100909 228.297975 \n",
       "L 353.144545 228.297975 \n",
       "L 353.144545 228.297975 \n",
       "L 350.100909 228.297975 \n",
       "z\n",
       "\" style=\"fill:#1f77b4;\"/>\n",
       "   </g>\n",
       "   <g id=\"patch_101\">\n",
       "    <path clip-path=\"url(#p6c90921698)\" d=\"M 353.144545 228.297975 \n",
       "L 356.188182 228.297975 \n",
       "L 356.188182 228.297975 \n",
       "L 353.144545 228.297975 \n",
       "z\n",
       "\" style=\"fill:#1f77b4;\"/>\n",
       "   </g>\n",
       "   <g id=\"patch_102\">\n",
       "    <path clip-path=\"url(#p6c90921698)\" d=\"M 356.188182 228.297975 \n",
       "L 359.231818 228.297975 \n",
       "L 359.231818 228.189325 \n",
       "L 356.188182 228.189325 \n",
       "z\n",
       "\" style=\"fill:#1f77b4;\"/>\n",
       "   </g>\n",
       "   <g id=\"matplotlib.axis_1\">\n",
       "    <g id=\"xtick_1\">\n",
       "     <g id=\"line2d_1\">\n",
       "      <path clip-path=\"url(#p6c90921698)\" d=\"M 54.428985 228.297975 \n",
       "L 54.428985 10.857975 \n",
       "\" style=\"fill:none;stroke:#b0b0b0;stroke-linecap:square;stroke-width:0.8;\"/>\n",
       "     </g>\n",
       "     <g id=\"line2d_2\">\n",
       "      <defs>\n",
       "       <path d=\"M 0 0 \n",
       "L 0 3.5 \n",
       "\" id=\"m0efc6645d1\" style=\"stroke:#000000;stroke-width:0.8;\"/>\n",
       "      </defs>\n",
       "      <g>\n",
       "       <use style=\"stroke:#000000;stroke-width:0.8;\" x=\"54.428985\" xlink:href=\"#m0efc6645d1\" y=\"228.297975\"/>\n",
       "      </g>\n",
       "     </g>\n",
       "     <g id=\"text_1\">\n",
       "      <!-- 0 -->\n",
       "      <g transform=\"translate(51.247735 242.896412)scale(0.1 -0.1)\">\n",
       "       <defs>\n",
       "        <path d=\"M 31.78125 66.40625 \n",
       "Q 24.171875 66.40625 20.328125 58.90625 \n",
       "Q 16.5 51.421875 16.5 36.375 \n",
       "Q 16.5 21.390625 20.328125 13.890625 \n",
       "Q 24.171875 6.390625 31.78125 6.390625 \n",
       "Q 39.453125 6.390625 43.28125 13.890625 \n",
       "Q 47.125 21.390625 47.125 36.375 \n",
       "Q 47.125 51.421875 43.28125 58.90625 \n",
       "Q 39.453125 66.40625 31.78125 66.40625 \n",
       "z\n",
       "M 31.78125 74.21875 \n",
       "Q 44.046875 74.21875 50.515625 64.515625 \n",
       "Q 56.984375 54.828125 56.984375 36.375 \n",
       "Q 56.984375 17.96875 50.515625 8.265625 \n",
       "Q 44.046875 -1.421875 31.78125 -1.421875 \n",
       "Q 19.53125 -1.421875 13.0625 8.265625 \n",
       "Q 6.59375 17.96875 6.59375 36.375 \n",
       "Q 6.59375 54.828125 13.0625 64.515625 \n",
       "Q 19.53125 74.21875 31.78125 74.21875 \n",
       "z\n",
       "\" id=\"DejaVuSans-48\"/>\n",
       "       </defs>\n",
       "       <use xlink:href=\"#DejaVuSans-48\"/>\n",
       "      </g>\n",
       "     </g>\n",
       "    </g>\n",
       "    <g id=\"xtick_2\">\n",
       "     <g id=\"line2d_3\">\n",
       "      <path clip-path=\"url(#p6c90921698)\" d=\"M 98.348701 228.297975 \n",
       "L 98.348701 10.857975 \n",
       "\" style=\"fill:none;stroke:#b0b0b0;stroke-linecap:square;stroke-width:0.8;\"/>\n",
       "     </g>\n",
       "     <g id=\"line2d_4\">\n",
       "      <g>\n",
       "       <use style=\"stroke:#000000;stroke-width:0.8;\" x=\"98.348701\" xlink:href=\"#m0efc6645d1\" y=\"228.297975\"/>\n",
       "      </g>\n",
       "     </g>\n",
       "     <g id=\"text_2\">\n",
       "      <!-- 100 -->\n",
       "      <g transform=\"translate(88.804951 242.896412)scale(0.1 -0.1)\">\n",
       "       <defs>\n",
       "        <path d=\"M 12.40625 8.296875 \n",
       "L 28.515625 8.296875 \n",
       "L 28.515625 63.921875 \n",
       "L 10.984375 60.40625 \n",
       "L 10.984375 69.390625 \n",
       "L 28.421875 72.90625 \n",
       "L 38.28125 72.90625 \n",
       "L 38.28125 8.296875 \n",
       "L 54.390625 8.296875 \n",
       "L 54.390625 0 \n",
       "L 12.40625 0 \n",
       "z\n",
       "\" id=\"DejaVuSans-49\"/>\n",
       "       </defs>\n",
       "       <use xlink:href=\"#DejaVuSans-49\"/>\n",
       "       <use x=\"63.623047\" xlink:href=\"#DejaVuSans-48\"/>\n",
       "       <use x=\"127.246094\" xlink:href=\"#DejaVuSans-48\"/>\n",
       "      </g>\n",
       "     </g>\n",
       "    </g>\n",
       "    <g id=\"xtick_3\">\n",
       "     <g id=\"line2d_5\">\n",
       "      <path clip-path=\"url(#p6c90921698)\" d=\"M 142.268418 228.297975 \n",
       "L 142.268418 10.857975 \n",
       "\" style=\"fill:none;stroke:#b0b0b0;stroke-linecap:square;stroke-width:0.8;\"/>\n",
       "     </g>\n",
       "     <g id=\"line2d_6\">\n",
       "      <g>\n",
       "       <use style=\"stroke:#000000;stroke-width:0.8;\" x=\"142.268418\" xlink:href=\"#m0efc6645d1\" y=\"228.297975\"/>\n",
       "      </g>\n",
       "     </g>\n",
       "     <g id=\"text_3\">\n",
       "      <!-- 200 -->\n",
       "      <g transform=\"translate(132.724668 242.896412)scale(0.1 -0.1)\">\n",
       "       <defs>\n",
       "        <path d=\"M 19.1875 8.296875 \n",
       "L 53.609375 8.296875 \n",
       "L 53.609375 0 \n",
       "L 7.328125 0 \n",
       "L 7.328125 8.296875 \n",
       "Q 12.9375 14.109375 22.625 23.890625 \n",
       "Q 32.328125 33.6875 34.8125 36.53125 \n",
       "Q 39.546875 41.84375 41.421875 45.53125 \n",
       "Q 43.3125 49.21875 43.3125 52.78125 \n",
       "Q 43.3125 58.59375 39.234375 62.25 \n",
       "Q 35.15625 65.921875 28.609375 65.921875 \n",
       "Q 23.96875 65.921875 18.8125 64.3125 \n",
       "Q 13.671875 62.703125 7.8125 59.421875 \n",
       "L 7.8125 69.390625 \n",
       "Q 13.765625 71.78125 18.9375 73 \n",
       "Q 24.125 74.21875 28.421875 74.21875 \n",
       "Q 39.75 74.21875 46.484375 68.546875 \n",
       "Q 53.21875 62.890625 53.21875 53.421875 \n",
       "Q 53.21875 48.921875 51.53125 44.890625 \n",
       "Q 49.859375 40.875 45.40625 35.40625 \n",
       "Q 44.1875 33.984375 37.640625 27.21875 \n",
       "Q 31.109375 20.453125 19.1875 8.296875 \n",
       "z\n",
       "\" id=\"DejaVuSans-50\"/>\n",
       "       </defs>\n",
       "       <use xlink:href=\"#DejaVuSans-50\"/>\n",
       "       <use x=\"63.623047\" xlink:href=\"#DejaVuSans-48\"/>\n",
       "       <use x=\"127.246094\" xlink:href=\"#DejaVuSans-48\"/>\n",
       "      </g>\n",
       "     </g>\n",
       "    </g>\n",
       "    <g id=\"xtick_4\">\n",
       "     <g id=\"line2d_7\">\n",
       "      <path clip-path=\"url(#p6c90921698)\" d=\"M 186.188135 228.297975 \n",
       "L 186.188135 10.857975 \n",
       "\" style=\"fill:none;stroke:#b0b0b0;stroke-linecap:square;stroke-width:0.8;\"/>\n",
       "     </g>\n",
       "     <g id=\"line2d_8\">\n",
       "      <g>\n",
       "       <use style=\"stroke:#000000;stroke-width:0.8;\" x=\"186.188135\" xlink:href=\"#m0efc6645d1\" y=\"228.297975\"/>\n",
       "      </g>\n",
       "     </g>\n",
       "     <g id=\"text_4\">\n",
       "      <!-- 300 -->\n",
       "      <g transform=\"translate(176.644385 242.896412)scale(0.1 -0.1)\">\n",
       "       <defs>\n",
       "        <path d=\"M 40.578125 39.3125 \n",
       "Q 47.65625 37.796875 51.625 33 \n",
       "Q 55.609375 28.21875 55.609375 21.1875 \n",
       "Q 55.609375 10.40625 48.1875 4.484375 \n",
       "Q 40.765625 -1.421875 27.09375 -1.421875 \n",
       "Q 22.515625 -1.421875 17.65625 -0.515625 \n",
       "Q 12.796875 0.390625 7.625 2.203125 \n",
       "L 7.625 11.71875 \n",
       "Q 11.71875 9.328125 16.59375 8.109375 \n",
       "Q 21.484375 6.890625 26.8125 6.890625 \n",
       "Q 36.078125 6.890625 40.9375 10.546875 \n",
       "Q 45.796875 14.203125 45.796875 21.1875 \n",
       "Q 45.796875 27.640625 41.28125 31.265625 \n",
       "Q 36.765625 34.90625 28.71875 34.90625 \n",
       "L 20.21875 34.90625 \n",
       "L 20.21875 43.015625 \n",
       "L 29.109375 43.015625 \n",
       "Q 36.375 43.015625 40.234375 45.921875 \n",
       "Q 44.09375 48.828125 44.09375 54.296875 \n",
       "Q 44.09375 59.90625 40.109375 62.90625 \n",
       "Q 36.140625 65.921875 28.71875 65.921875 \n",
       "Q 24.65625 65.921875 20.015625 65.03125 \n",
       "Q 15.375 64.15625 9.8125 62.3125 \n",
       "L 9.8125 71.09375 \n",
       "Q 15.4375 72.65625 20.34375 73.4375 \n",
       "Q 25.25 74.21875 29.59375 74.21875 \n",
       "Q 40.828125 74.21875 47.359375 69.109375 \n",
       "Q 53.90625 64.015625 53.90625 55.328125 \n",
       "Q 53.90625 49.265625 50.4375 45.09375 \n",
       "Q 46.96875 40.921875 40.578125 39.3125 \n",
       "z\n",
       "\" id=\"DejaVuSans-51\"/>\n",
       "       </defs>\n",
       "       <use xlink:href=\"#DejaVuSans-51\"/>\n",
       "       <use x=\"63.623047\" xlink:href=\"#DejaVuSans-48\"/>\n",
       "       <use x=\"127.246094\" xlink:href=\"#DejaVuSans-48\"/>\n",
       "      </g>\n",
       "     </g>\n",
       "    </g>\n",
       "    <g id=\"xtick_5\">\n",
       "     <g id=\"line2d_9\">\n",
       "      <path clip-path=\"url(#p6c90921698)\" d=\"M 230.107851 228.297975 \n",
       "L 230.107851 10.857975 \n",
       "\" style=\"fill:none;stroke:#b0b0b0;stroke-linecap:square;stroke-width:0.8;\"/>\n",
       "     </g>\n",
       "     <g id=\"line2d_10\">\n",
       "      <g>\n",
       "       <use style=\"stroke:#000000;stroke-width:0.8;\" x=\"230.107851\" xlink:href=\"#m0efc6645d1\" y=\"228.297975\"/>\n",
       "      </g>\n",
       "     </g>\n",
       "     <g id=\"text_5\">\n",
       "      <!-- 400 -->\n",
       "      <g transform=\"translate(220.564101 242.896412)scale(0.1 -0.1)\">\n",
       "       <defs>\n",
       "        <path d=\"M 37.796875 64.3125 \n",
       "L 12.890625 25.390625 \n",
       "L 37.796875 25.390625 \n",
       "z\n",
       "M 35.203125 72.90625 \n",
       "L 47.609375 72.90625 \n",
       "L 47.609375 25.390625 \n",
       "L 58.015625 25.390625 \n",
       "L 58.015625 17.1875 \n",
       "L 47.609375 17.1875 \n",
       "L 47.609375 0 \n",
       "L 37.796875 0 \n",
       "L 37.796875 17.1875 \n",
       "L 4.890625 17.1875 \n",
       "L 4.890625 26.703125 \n",
       "z\n",
       "\" id=\"DejaVuSans-52\"/>\n",
       "       </defs>\n",
       "       <use xlink:href=\"#DejaVuSans-52\"/>\n",
       "       <use x=\"63.623047\" xlink:href=\"#DejaVuSans-48\"/>\n",
       "       <use x=\"127.246094\" xlink:href=\"#DejaVuSans-48\"/>\n",
       "      </g>\n",
       "     </g>\n",
       "    </g>\n",
       "    <g id=\"xtick_6\">\n",
       "     <g id=\"line2d_11\">\n",
       "      <path clip-path=\"url(#p6c90921698)\" d=\"M 274.027568 228.297975 \n",
       "L 274.027568 10.857975 \n",
       "\" style=\"fill:none;stroke:#b0b0b0;stroke-linecap:square;stroke-width:0.8;\"/>\n",
       "     </g>\n",
       "     <g id=\"line2d_12\">\n",
       "      <g>\n",
       "       <use style=\"stroke:#000000;stroke-width:0.8;\" x=\"274.027568\" xlink:href=\"#m0efc6645d1\" y=\"228.297975\"/>\n",
       "      </g>\n",
       "     </g>\n",
       "     <g id=\"text_6\">\n",
       "      <!-- 500 -->\n",
       "      <g transform=\"translate(264.483818 242.896412)scale(0.1 -0.1)\">\n",
       "       <defs>\n",
       "        <path d=\"M 10.796875 72.90625 \n",
       "L 49.515625 72.90625 \n",
       "L 49.515625 64.59375 \n",
       "L 19.828125 64.59375 \n",
       "L 19.828125 46.734375 \n",
       "Q 21.96875 47.46875 24.109375 47.828125 \n",
       "Q 26.265625 48.1875 28.421875 48.1875 \n",
       "Q 40.625 48.1875 47.75 41.5 \n",
       "Q 54.890625 34.8125 54.890625 23.390625 \n",
       "Q 54.890625 11.625 47.5625 5.09375 \n",
       "Q 40.234375 -1.421875 26.90625 -1.421875 \n",
       "Q 22.3125 -1.421875 17.546875 -0.640625 \n",
       "Q 12.796875 0.140625 7.71875 1.703125 \n",
       "L 7.71875 11.625 \n",
       "Q 12.109375 9.234375 16.796875 8.0625 \n",
       "Q 21.484375 6.890625 26.703125 6.890625 \n",
       "Q 35.15625 6.890625 40.078125 11.328125 \n",
       "Q 45.015625 15.765625 45.015625 23.390625 \n",
       "Q 45.015625 31 40.078125 35.4375 \n",
       "Q 35.15625 39.890625 26.703125 39.890625 \n",
       "Q 22.75 39.890625 18.8125 39.015625 \n",
       "Q 14.890625 38.140625 10.796875 36.28125 \n",
       "z\n",
       "\" id=\"DejaVuSans-53\"/>\n",
       "       </defs>\n",
       "       <use xlink:href=\"#DejaVuSans-53\"/>\n",
       "       <use x=\"63.623047\" xlink:href=\"#DejaVuSans-48\"/>\n",
       "       <use x=\"127.246094\" xlink:href=\"#DejaVuSans-48\"/>\n",
       "      </g>\n",
       "     </g>\n",
       "    </g>\n",
       "    <g id=\"xtick_7\">\n",
       "     <g id=\"line2d_13\">\n",
       "      <path clip-path=\"url(#p6c90921698)\" d=\"M 317.947285 228.297975 \n",
       "L 317.947285 10.857975 \n",
       "\" style=\"fill:none;stroke:#b0b0b0;stroke-linecap:square;stroke-width:0.8;\"/>\n",
       "     </g>\n",
       "     <g id=\"line2d_14\">\n",
       "      <g>\n",
       "       <use style=\"stroke:#000000;stroke-width:0.8;\" x=\"317.947285\" xlink:href=\"#m0efc6645d1\" y=\"228.297975\"/>\n",
       "      </g>\n",
       "     </g>\n",
       "     <g id=\"text_7\">\n",
       "      <!-- 600 -->\n",
       "      <g transform=\"translate(308.403535 242.896412)scale(0.1 -0.1)\">\n",
       "       <defs>\n",
       "        <path d=\"M 33.015625 40.375 \n",
       "Q 26.375 40.375 22.484375 35.828125 \n",
       "Q 18.609375 31.296875 18.609375 23.390625 \n",
       "Q 18.609375 15.53125 22.484375 10.953125 \n",
       "Q 26.375 6.390625 33.015625 6.390625 \n",
       "Q 39.65625 6.390625 43.53125 10.953125 \n",
       "Q 47.40625 15.53125 47.40625 23.390625 \n",
       "Q 47.40625 31.296875 43.53125 35.828125 \n",
       "Q 39.65625 40.375 33.015625 40.375 \n",
       "z\n",
       "M 52.59375 71.296875 \n",
       "L 52.59375 62.3125 \n",
       "Q 48.875 64.0625 45.09375 64.984375 \n",
       "Q 41.3125 65.921875 37.59375 65.921875 \n",
       "Q 27.828125 65.921875 22.671875 59.328125 \n",
       "Q 17.53125 52.734375 16.796875 39.40625 \n",
       "Q 19.671875 43.65625 24.015625 45.921875 \n",
       "Q 28.375 48.1875 33.59375 48.1875 \n",
       "Q 44.578125 48.1875 50.953125 41.515625 \n",
       "Q 57.328125 34.859375 57.328125 23.390625 \n",
       "Q 57.328125 12.15625 50.6875 5.359375 \n",
       "Q 44.046875 -1.421875 33.015625 -1.421875 \n",
       "Q 20.359375 -1.421875 13.671875 8.265625 \n",
       "Q 6.984375 17.96875 6.984375 36.375 \n",
       "Q 6.984375 53.65625 15.1875 63.9375 \n",
       "Q 23.390625 74.21875 37.203125 74.21875 \n",
       "Q 40.921875 74.21875 44.703125 73.484375 \n",
       "Q 48.484375 72.75 52.59375 71.296875 \n",
       "z\n",
       "\" id=\"DejaVuSans-54\"/>\n",
       "       </defs>\n",
       "       <use xlink:href=\"#DejaVuSans-54\"/>\n",
       "       <use x=\"63.623047\" xlink:href=\"#DejaVuSans-48\"/>\n",
       "       <use x=\"127.246094\" xlink:href=\"#DejaVuSans-48\"/>\n",
       "      </g>\n",
       "     </g>\n",
       "    </g>\n",
       "    <g id=\"xtick_8\">\n",
       "     <g id=\"line2d_15\">\n",
       "      <path clip-path=\"url(#p6c90921698)\" d=\"M 361.867001 228.297975 \n",
       "L 361.867001 10.857975 \n",
       "\" style=\"fill:none;stroke:#b0b0b0;stroke-linecap:square;stroke-width:0.8;\"/>\n",
       "     </g>\n",
       "     <g id=\"line2d_16\">\n",
       "      <g>\n",
       "       <use style=\"stroke:#000000;stroke-width:0.8;\" x=\"361.867001\" xlink:href=\"#m0efc6645d1\" y=\"228.297975\"/>\n",
       "      </g>\n",
       "     </g>\n",
       "     <g id=\"text_8\">\n",
       "      <!-- 700 -->\n",
       "      <g transform=\"translate(352.323251 242.896412)scale(0.1 -0.1)\">\n",
       "       <defs>\n",
       "        <path d=\"M 8.203125 72.90625 \n",
       "L 55.078125 72.90625 \n",
       "L 55.078125 68.703125 \n",
       "L 28.609375 0 \n",
       "L 18.3125 0 \n",
       "L 43.21875 64.59375 \n",
       "L 8.203125 64.59375 \n",
       "z\n",
       "\" id=\"DejaVuSans-55\"/>\n",
       "       </defs>\n",
       "       <use xlink:href=\"#DejaVuSans-55\"/>\n",
       "       <use x=\"63.623047\" xlink:href=\"#DejaVuSans-48\"/>\n",
       "       <use x=\"127.246094\" xlink:href=\"#DejaVuSans-48\"/>\n",
       "      </g>\n",
       "     </g>\n",
       "    </g>\n",
       "   </g>\n",
       "   <g id=\"matplotlib.axis_2\">\n",
       "    <g id=\"ytick_1\">\n",
       "     <g id=\"line2d_17\">\n",
       "      <path clip-path=\"url(#p6c90921698)\" d=\"M 39.65 228.297975 \n",
       "L 374.45 228.297975 \n",
       "\" style=\"fill:none;stroke:#b0b0b0;stroke-linecap:square;stroke-width:0.8;\"/>\n",
       "     </g>\n",
       "     <g id=\"line2d_18\">\n",
       "      <defs>\n",
       "       <path d=\"M 0 0 \n",
       "L -3.5 0 \n",
       "\" id=\"m0d3c778481\" style=\"stroke:#000000;stroke-width:0.8;\"/>\n",
       "      </defs>\n",
       "      <g>\n",
       "       <use style=\"stroke:#000000;stroke-width:0.8;\" x=\"39.65\" xlink:href=\"#m0d3c778481\" y=\"228.297975\"/>\n",
       "      </g>\n",
       "     </g>\n",
       "     <g id=\"text_9\">\n",
       "      <!-- 0 -->\n",
       "      <g transform=\"translate(26.2875 232.097193)scale(0.1 -0.1)\">\n",
       "       <use xlink:href=\"#DejaVuSans-48\"/>\n",
       "      </g>\n",
       "     </g>\n",
       "    </g>\n",
       "    <g id=\"ytick_2\">\n",
       "     <g id=\"line2d_19\">\n",
       "      <path clip-path=\"url(#p6c90921698)\" d=\"M 39.65 201.13563 \n",
       "L 374.45 201.13563 \n",
       "\" style=\"fill:none;stroke:#b0b0b0;stroke-linecap:square;stroke-width:0.8;\"/>\n",
       "     </g>\n",
       "     <g id=\"line2d_20\">\n",
       "      <g>\n",
       "       <use style=\"stroke:#000000;stroke-width:0.8;\" x=\"39.65\" xlink:href=\"#m0d3c778481\" y=\"201.13563\"/>\n",
       "      </g>\n",
       "     </g>\n",
       "     <g id=\"text_10\">\n",
       "      <!-- 250 -->\n",
       "      <g transform=\"translate(13.5625 204.934849)scale(0.1 -0.1)\">\n",
       "       <use xlink:href=\"#DejaVuSans-50\"/>\n",
       "       <use x=\"63.623047\" xlink:href=\"#DejaVuSans-53\"/>\n",
       "       <use x=\"127.246094\" xlink:href=\"#DejaVuSans-48\"/>\n",
       "      </g>\n",
       "     </g>\n",
       "    </g>\n",
       "    <g id=\"ytick_3\">\n",
       "     <g id=\"line2d_21\">\n",
       "      <path clip-path=\"url(#p6c90921698)\" d=\"M 39.65 173.973286 \n",
       "L 374.45 173.973286 \n",
       "\" style=\"fill:none;stroke:#b0b0b0;stroke-linecap:square;stroke-width:0.8;\"/>\n",
       "     </g>\n",
       "     <g id=\"line2d_22\">\n",
       "      <g>\n",
       "       <use style=\"stroke:#000000;stroke-width:0.8;\" x=\"39.65\" xlink:href=\"#m0d3c778481\" y=\"173.973286\"/>\n",
       "      </g>\n",
       "     </g>\n",
       "     <g id=\"text_11\">\n",
       "      <!-- 500 -->\n",
       "      <g transform=\"translate(13.5625 177.772504)scale(0.1 -0.1)\">\n",
       "       <use xlink:href=\"#DejaVuSans-53\"/>\n",
       "       <use x=\"63.623047\" xlink:href=\"#DejaVuSans-48\"/>\n",
       "       <use x=\"127.246094\" xlink:href=\"#DejaVuSans-48\"/>\n",
       "      </g>\n",
       "     </g>\n",
       "    </g>\n",
       "    <g id=\"ytick_4\">\n",
       "     <g id=\"line2d_23\">\n",
       "      <path clip-path=\"url(#p6c90921698)\" d=\"M 39.65 146.810941 \n",
       "L 374.45 146.810941 \n",
       "\" style=\"fill:none;stroke:#b0b0b0;stroke-linecap:square;stroke-width:0.8;\"/>\n",
       "     </g>\n",
       "     <g id=\"line2d_24\">\n",
       "      <g>\n",
       "       <use style=\"stroke:#000000;stroke-width:0.8;\" x=\"39.65\" xlink:href=\"#m0d3c778481\" y=\"146.810941\"/>\n",
       "      </g>\n",
       "     </g>\n",
       "     <g id=\"text_12\">\n",
       "      <!-- 750 -->\n",
       "      <g transform=\"translate(13.5625 150.61016)scale(0.1 -0.1)\">\n",
       "       <use xlink:href=\"#DejaVuSans-55\"/>\n",
       "       <use x=\"63.623047\" xlink:href=\"#DejaVuSans-53\"/>\n",
       "       <use x=\"127.246094\" xlink:href=\"#DejaVuSans-48\"/>\n",
       "      </g>\n",
       "     </g>\n",
       "    </g>\n",
       "    <g id=\"ytick_5\">\n",
       "     <g id=\"line2d_25\">\n",
       "      <path clip-path=\"url(#p6c90921698)\" d=\"M 39.65 119.648597 \n",
       "L 374.45 119.648597 \n",
       "\" style=\"fill:none;stroke:#b0b0b0;stroke-linecap:square;stroke-width:0.8;\"/>\n",
       "     </g>\n",
       "     <g id=\"line2d_26\">\n",
       "      <g>\n",
       "       <use style=\"stroke:#000000;stroke-width:0.8;\" x=\"39.65\" xlink:href=\"#m0d3c778481\" y=\"119.648597\"/>\n",
       "      </g>\n",
       "     </g>\n",
       "     <g id=\"text_13\">\n",
       "      <!-- 1000 -->\n",
       "      <g transform=\"translate(7.2 123.447815)scale(0.1 -0.1)\">\n",
       "       <use xlink:href=\"#DejaVuSans-49\"/>\n",
       "       <use x=\"63.623047\" xlink:href=\"#DejaVuSans-48\"/>\n",
       "       <use x=\"127.246094\" xlink:href=\"#DejaVuSans-48\"/>\n",
       "       <use x=\"190.869141\" xlink:href=\"#DejaVuSans-48\"/>\n",
       "      </g>\n",
       "     </g>\n",
       "    </g>\n",
       "    <g id=\"ytick_6\">\n",
       "     <g id=\"line2d_27\">\n",
       "      <path clip-path=\"url(#p6c90921698)\" d=\"M 39.65 92.486252 \n",
       "L 374.45 92.486252 \n",
       "\" style=\"fill:none;stroke:#b0b0b0;stroke-linecap:square;stroke-width:0.8;\"/>\n",
       "     </g>\n",
       "     <g id=\"line2d_28\">\n",
       "      <g>\n",
       "       <use style=\"stroke:#000000;stroke-width:0.8;\" x=\"39.65\" xlink:href=\"#m0d3c778481\" y=\"92.486252\"/>\n",
       "      </g>\n",
       "     </g>\n",
       "     <g id=\"text_14\">\n",
       "      <!-- 1250 -->\n",
       "      <g transform=\"translate(7.2 96.285471)scale(0.1 -0.1)\">\n",
       "       <use xlink:href=\"#DejaVuSans-49\"/>\n",
       "       <use x=\"63.623047\" xlink:href=\"#DejaVuSans-50\"/>\n",
       "       <use x=\"127.246094\" xlink:href=\"#DejaVuSans-53\"/>\n",
       "       <use x=\"190.869141\" xlink:href=\"#DejaVuSans-48\"/>\n",
       "      </g>\n",
       "     </g>\n",
       "    </g>\n",
       "    <g id=\"ytick_7\">\n",
       "     <g id=\"line2d_29\">\n",
       "      <path clip-path=\"url(#p6c90921698)\" d=\"M 39.65 65.323908 \n",
       "L 374.45 65.323908 \n",
       "\" style=\"fill:none;stroke:#b0b0b0;stroke-linecap:square;stroke-width:0.8;\"/>\n",
       "     </g>\n",
       "     <g id=\"line2d_30\">\n",
       "      <g>\n",
       "       <use style=\"stroke:#000000;stroke-width:0.8;\" x=\"39.65\" xlink:href=\"#m0d3c778481\" y=\"65.323908\"/>\n",
       "      </g>\n",
       "     </g>\n",
       "     <g id=\"text_15\">\n",
       "      <!-- 1500 -->\n",
       "      <g transform=\"translate(7.2 69.123126)scale(0.1 -0.1)\">\n",
       "       <use xlink:href=\"#DejaVuSans-49\"/>\n",
       "       <use x=\"63.623047\" xlink:href=\"#DejaVuSans-53\"/>\n",
       "       <use x=\"127.246094\" xlink:href=\"#DejaVuSans-48\"/>\n",
       "       <use x=\"190.869141\" xlink:href=\"#DejaVuSans-48\"/>\n",
       "      </g>\n",
       "     </g>\n",
       "    </g>\n",
       "    <g id=\"ytick_8\">\n",
       "     <g id=\"line2d_31\">\n",
       "      <path clip-path=\"url(#p6c90921698)\" d=\"M 39.65 38.161563 \n",
       "L 374.45 38.161563 \n",
       "\" style=\"fill:none;stroke:#b0b0b0;stroke-linecap:square;stroke-width:0.8;\"/>\n",
       "     </g>\n",
       "     <g id=\"line2d_32\">\n",
       "      <g>\n",
       "       <use style=\"stroke:#000000;stroke-width:0.8;\" x=\"39.65\" xlink:href=\"#m0d3c778481\" y=\"38.161563\"/>\n",
       "      </g>\n",
       "     </g>\n",
       "     <g id=\"text_16\">\n",
       "      <!-- 1750 -->\n",
       "      <g transform=\"translate(7.2 41.960782)scale(0.1 -0.1)\">\n",
       "       <use xlink:href=\"#DejaVuSans-49\"/>\n",
       "       <use x=\"63.623047\" xlink:href=\"#DejaVuSans-55\"/>\n",
       "       <use x=\"127.246094\" xlink:href=\"#DejaVuSans-53\"/>\n",
       "       <use x=\"190.869141\" xlink:href=\"#DejaVuSans-48\"/>\n",
       "      </g>\n",
       "     </g>\n",
       "    </g>\n",
       "    <g id=\"ytick_9\">\n",
       "     <g id=\"line2d_33\">\n",
       "      <path clip-path=\"url(#p6c90921698)\" d=\"M 39.65 10.999219 \n",
       "L 374.45 10.999219 \n",
       "\" style=\"fill:none;stroke:#b0b0b0;stroke-linecap:square;stroke-width:0.8;\"/>\n",
       "     </g>\n",
       "     <g id=\"line2d_34\">\n",
       "      <g>\n",
       "       <use style=\"stroke:#000000;stroke-width:0.8;\" x=\"39.65\" xlink:href=\"#m0d3c778481\" y=\"10.999219\"/>\n",
       "      </g>\n",
       "     </g>\n",
       "     <g id=\"text_17\">\n",
       "      <!-- 2000 -->\n",
       "      <g transform=\"translate(7.2 14.798437)scale(0.1 -0.1)\">\n",
       "       <use xlink:href=\"#DejaVuSans-50\"/>\n",
       "       <use x=\"63.623047\" xlink:href=\"#DejaVuSans-48\"/>\n",
       "       <use x=\"127.246094\" xlink:href=\"#DejaVuSans-48\"/>\n",
       "       <use x=\"190.869141\" xlink:href=\"#DejaVuSans-48\"/>\n",
       "      </g>\n",
       "     </g>\n",
       "    </g>\n",
       "   </g>\n",
       "   <g id=\"patch_103\">\n",
       "    <path d=\"M 39.65 228.297975 \n",
       "L 39.65 10.857975 \n",
       "\" style=\"fill:none;stroke:#000000;stroke-linecap:square;stroke-linejoin:miter;stroke-width:0.8;\"/>\n",
       "   </g>\n",
       "   <g id=\"patch_104\">\n",
       "    <path d=\"M 374.45 228.297975 \n",
       "L 374.45 10.857975 \n",
       "\" style=\"fill:none;stroke:#000000;stroke-linecap:square;stroke-linejoin:miter;stroke-width:0.8;\"/>\n",
       "   </g>\n",
       "   <g id=\"patch_105\">\n",
       "    <path d=\"M 39.65 228.297975 \n",
       "L 374.45 228.297975 \n",
       "\" style=\"fill:none;stroke:#000000;stroke-linecap:square;stroke-linejoin:miter;stroke-width:0.8;\"/>\n",
       "   </g>\n",
       "   <g id=\"patch_106\">\n",
       "    <path d=\"M 39.65 10.857975 \n",
       "L 374.45 10.857975 \n",
       "\" style=\"fill:none;stroke:#000000;stroke-linecap:square;stroke-linejoin:miter;stroke-width:0.8;\"/>\n",
       "   </g>\n",
       "  </g>\n",
       " </g>\n",
       " <defs>\n",
       "  <clipPath id=\"p6c90921698\">\n",
       "   <rect height=\"217.44\" width=\"334.8\" x=\"39.65\" y=\"10.857975\"/>\n",
       "  </clipPath>\n",
       " </defs>\n",
       "</svg>\n"
      ],
      "text/plain": [
       "<Figure size 432x288 with 1 Axes>"
      ]
     },
     "metadata": {
      "needs_background": "light"
     },
     "output_type": "display_data"
    }
   ],
   "source": [
    "df[columns_name[14]].value_counts().hist(bins=100);"
   ]
  },
  {
   "cell_type": "markdown",
   "metadata": {},
   "source": [
    "- Очень много индивидуалных значений, стои попробовать их сагрегировать по городам или регионам или хотябы по странам. Думаю стоит эту задачу оставить на случай необходимости улучшения обучения модели."
   ]
  },
  {
   "cell_type": "markdown",
   "metadata": {
    "jp-MarkdownHeadingCollapsed": true,
    "tags": []
   },
   "source": [
    "#### Удаляем дубликаты"
   ]
  },
  {
   "cell_type": "code",
   "execution_count": 83,
   "metadata": {
    "scrolled": true
   },
   "outputs": [
    {
     "data": {
      "text/plain": [
       "0"
      ]
     },
     "execution_count": 83,
     "metadata": {},
     "output_type": "execute_result"
    }
   ],
   "source": [
    "# Удаляем дубликаты оставляя последнюю запись\n",
    "data.drop_duplicates(inplace=True, keep='last')\n",
    "data.duplicated().sum()"
   ]
  },
  {
   "cell_type": "code",
   "execution_count": 84,
   "metadata": {},
   "outputs": [
    {
     "data": {
      "text/html": [
       "<div>\n",
       "<style scoped>\n",
       "    .dataframe tbody tr th:only-of-type {\n",
       "        vertical-align: middle;\n",
       "    }\n",
       "\n",
       "    .dataframe tbody tr th {\n",
       "        vertical-align: top;\n",
       "    }\n",
       "\n",
       "    .dataframe thead th {\n",
       "        text-align: right;\n",
       "    }\n",
       "</style>\n",
       "<table border=\"1\" class=\"dataframe\">\n",
       "  <thead>\n",
       "    <tr style=\"text-align: right;\">\n",
       "      <th></th>\n",
       "      <th>Price</th>\n",
       "      <th>VehicleType</th>\n",
       "      <th>Gearbox</th>\n",
       "      <th>Power</th>\n",
       "      <th>Model</th>\n",
       "      <th>Kilometer</th>\n",
       "      <th>FuelType</th>\n",
       "      <th>Brand</th>\n",
       "      <th>Repaired</th>\n",
       "      <th>PostalCode</th>\n",
       "      <th>RegistrationYear</th>\n",
       "      <th>auto_old</th>\n",
       "      <th>days_was_posted</th>\n",
       "      <th>days_was_seen</th>\n",
       "      <th>repaired_info</th>\n",
       "    </tr>\n",
       "  </thead>\n",
       "  <tbody>\n",
       "    <tr>\n",
       "      <th>2</th>\n",
       "      <td>9800</td>\n",
       "      <td>suv</td>\n",
       "      <td>auto</td>\n",
       "      <td>163</td>\n",
       "      <td>grand</td>\n",
       "      <td>125000</td>\n",
       "      <td>gasoline</td>\n",
       "      <td>jeep</td>\n",
       "      <td>0</td>\n",
       "      <td>90480</td>\n",
       "      <td>2004</td>\n",
       "      <td>16873</td>\n",
       "      <td>735</td>\n",
       "      <td>757</td>\n",
       "      <td>0</td>\n",
       "    </tr>\n",
       "    <tr>\n",
       "      <th>3</th>\n",
       "      <td>1500</td>\n",
       "      <td>small</td>\n",
       "      <td>manual</td>\n",
       "      <td>75</td>\n",
       "      <td>golf</td>\n",
       "      <td>150000</td>\n",
       "      <td>petrol</td>\n",
       "      <td>volkswagen</td>\n",
       "      <td>0</td>\n",
       "      <td>91074</td>\n",
       "      <td>2001</td>\n",
       "      <td>16876</td>\n",
       "      <td>738</td>\n",
       "      <td>738</td>\n",
       "      <td>1</td>\n",
       "    </tr>\n",
       "    <tr>\n",
       "      <th>4</th>\n",
       "      <td>3600</td>\n",
       "      <td>small</td>\n",
       "      <td>manual</td>\n",
       "      <td>69</td>\n",
       "      <td>fabia</td>\n",
       "      <td>90000</td>\n",
       "      <td>gasoline</td>\n",
       "      <td>skoda</td>\n",
       "      <td>0</td>\n",
       "      <td>60437</td>\n",
       "      <td>2008</td>\n",
       "      <td>16890</td>\n",
       "      <td>752</td>\n",
       "      <td>758</td>\n",
       "      <td>1</td>\n",
       "    </tr>\n",
       "    <tr>\n",
       "      <th>5</th>\n",
       "      <td>650</td>\n",
       "      <td>sedan</td>\n",
       "      <td>manual</td>\n",
       "      <td>102</td>\n",
       "      <td>3er</td>\n",
       "      <td>150000</td>\n",
       "      <td>petrol</td>\n",
       "      <td>bmw</td>\n",
       "      <td>1</td>\n",
       "      <td>33775</td>\n",
       "      <td>1995</td>\n",
       "      <td>16894</td>\n",
       "      <td>756</td>\n",
       "      <td>758</td>\n",
       "      <td>1</td>\n",
       "    </tr>\n",
       "    <tr>\n",
       "      <th>6</th>\n",
       "      <td>2200</td>\n",
       "      <td>convertible</td>\n",
       "      <td>manual</td>\n",
       "      <td>109</td>\n",
       "      <td>2_reihe</td>\n",
       "      <td>150000</td>\n",
       "      <td>petrol</td>\n",
       "      <td>peugeot</td>\n",
       "      <td>0</td>\n",
       "      <td>67112</td>\n",
       "      <td>2004</td>\n",
       "      <td>16891</td>\n",
       "      <td>753</td>\n",
       "      <td>757</td>\n",
       "      <td>1</td>\n",
       "    </tr>\n",
       "  </tbody>\n",
       "</table>\n",
       "</div>"
      ],
      "text/plain": [
       "   Price  VehicleType Gearbox  Power    Model  Kilometer  FuelType  \\\n",
       "2   9800          suv    auto    163    grand     125000  gasoline   \n",
       "3   1500        small  manual     75     golf     150000    petrol   \n",
       "4   3600        small  manual     69    fabia      90000  gasoline   \n",
       "5    650        sedan  manual    102      3er     150000    petrol   \n",
       "6   2200  convertible  manual    109  2_reihe     150000    petrol   \n",
       "\n",
       "        Brand  Repaired  PostalCode  RegistrationYear  auto_old  \\\n",
       "2        jeep         0       90480              2004     16873   \n",
       "3  volkswagen         0       91074              2001     16876   \n",
       "4       skoda         0       60437              2008     16890   \n",
       "5         bmw         1       33775              1995     16894   \n",
       "6     peugeot         0       67112              2004     16891   \n",
       "\n",
       "   days_was_posted  days_was_seen  repaired_info  \n",
       "2              735            757              0  \n",
       "3              738            738              1  \n",
       "4              752            758              1  \n",
       "5              756            758              1  \n",
       "6              753            757              1  "
      ]
     },
     "execution_count": 84,
     "metadata": {},
     "output_type": "execute_result"
    }
   ],
   "source": [
    "df.head(5)"
   ]
  },
  {
   "cell_type": "code",
   "execution_count": 85,
   "metadata": {
    "scrolled": false
   },
   "outputs": [
    {
     "name": "stdout",
     "output_type": "stream",
     "text": [
      "<class 'pandas.core.frame.DataFrame'>\n",
      "Int64Index: 265246 entries, 2 to 354368\n",
      "Data columns (total 15 columns):\n",
      " #   Column            Non-Null Count   Dtype \n",
      "---  ------            --------------   ----- \n",
      " 0   Price             265246 non-null  int64 \n",
      " 1   VehicleType       265246 non-null  object\n",
      " 2   Gearbox           265246 non-null  object\n",
      " 3   Power             265246 non-null  int64 \n",
      " 4   Model             265246 non-null  object\n",
      " 5   Kilometer         265246 non-null  int64 \n",
      " 6   FuelType          265246 non-null  object\n",
      " 7   Brand             265246 non-null  object\n",
      " 8   Repaired          265246 non-null  int64 \n",
      " 9   PostalCode        265246 non-null  int64 \n",
      " 10  RegistrationYear  265246 non-null  int64 \n",
      " 11  auto_old          265246 non-null  int64 \n",
      " 12  days_was_posted   265246 non-null  int64 \n",
      " 13  days_was_seen     265246 non-null  int64 \n",
      " 14  repaired_info     265246 non-null  int64 \n",
      "dtypes: int64(10), object(5)\n",
      "memory usage: 32.4+ MB\n"
     ]
    }
   ],
   "source": [
    "df.info()"
   ]
  },
  {
   "cell_type": "code",
   "execution_count": 86,
   "metadata": {},
   "outputs": [
    {
     "name": "stdout",
     "output_type": "stream",
     "text": [
      "В процессе обработки\n",
      "потеряли следующие данные:\n",
      "\n",
      " 89119 - строк\n",
      " 1 - столбца\n",
      "\n"
     ]
    }
   ],
   "source": [
    "data_s = data.shape\n",
    "df_s = df.shape\n",
    "\n",
    "print('В процессе обработки\\nпотеряли следующие данные:\\n\\n',\n",
    "      data_s[0]-df_s[0], '- строк\\n',\n",
    "      data_s[1]-df_s[1], '- столбца\\n')"
   ]
  },
  {
   "cell_type": "code",
   "execution_count": 87,
   "metadata": {},
   "outputs": [
    {
     "data": {
      "text/plain": [
       "(265246, 15)"
      ]
     },
     "execution_count": 87,
     "metadata": {},
     "output_type": "execute_result"
    }
   ],
   "source": [
    "# Размерность обработанных данных\n",
    "df.shape"
   ]
  },
  {
   "cell_type": "markdown",
   "metadata": {},
   "source": [
    "#### Удаляем переменную data\n",
    "\n",
    "- В дальнейшем нам не пригодится переменная, считаю следует освободить память"
   ]
  },
  {
   "cell_type": "code",
   "execution_count": 88,
   "metadata": {},
   "outputs": [],
   "source": [
    "# удаляем переменную из памяти\n",
    "del data"
   ]
  },
  {
   "cell_type": "markdown",
   "metadata": {},
   "source": [
    "#### Обработаем категориалные данные"
   ]
  },
  {
   "cell_type": "code",
   "execution_count": 89,
   "metadata": {},
   "outputs": [
    {
     "data": {
      "text/plain": [
       "['Brand', 'Model']"
      ]
     },
     "execution_count": 89,
     "metadata": {},
     "output_type": "execute_result"
    }
   ],
   "source": [
    "AGREGATE_AUTO"
   ]
  },
  {
   "cell_type": "code",
   "execution_count": 90,
   "metadata": {},
   "outputs": [
    {
     "name": "stdout",
     "output_type": "stream",
     "text": [
      "Brand 38\n",
      "Model 245\n"
     ]
    }
   ],
   "source": [
    "# смотрим количество признаков в столбцах об авто\n",
    "for i in range(len(AGREGATE_AUTO)) : print(AGREGATE_AUTO[i], len(df[AGREGATE_AUTO[i]].value_counts()))"
   ]
  },
  {
   "cell_type": "code",
   "execution_count": 91,
   "metadata": {},
   "outputs": [
    {
     "data": {
      "text/plain": [
       "volkswagen-golf     24534\n",
       "bmw-3er             16880\n",
       "opel-astra           9149\n",
       "opel-corsa           8824\n",
       "volkswagen-polo      8762\n",
       "                    ...  \n",
       "porsche-cayenne         2\n",
       "rover-discovery         2\n",
       "porsche-911             1\n",
       "rover-defender          1\n",
       "rover-freelander        1\n",
       "Name: agregate_auto, Length: 291, dtype: int64"
      ]
     },
     "execution_count": 91,
     "metadata": {},
     "output_type": "execute_result"
    }
   ],
   "source": [
    "#V1\n",
    "df['agregate_auto'] = df[AGREGATE_AUTO[0]].astype(str) + \\\n",
    "                      '-' + df[AGREGATE_AUTO[1]].astype(str)\n",
    "df['agregate_auto'].value_counts()"
   ]
  },
  {
   "cell_type": "code",
   "execution_count": 92,
   "metadata": {},
   "outputs": [
    {
     "data": {
      "text/html": [
       "<div>\n",
       "<style scoped>\n",
       "    .dataframe tbody tr th:only-of-type {\n",
       "        vertical-align: middle;\n",
       "    }\n",
       "\n",
       "    .dataframe tbody tr th {\n",
       "        vertical-align: top;\n",
       "    }\n",
       "\n",
       "    .dataframe thead th {\n",
       "        text-align: right;\n",
       "    }\n",
       "</style>\n",
       "<table border=\"1\" class=\"dataframe\">\n",
       "  <thead>\n",
       "    <tr style=\"text-align: right;\">\n",
       "      <th></th>\n",
       "      <th>Price</th>\n",
       "      <th>VehicleType</th>\n",
       "      <th>Gearbox</th>\n",
       "      <th>Power</th>\n",
       "      <th>Model</th>\n",
       "      <th>Kilometer</th>\n",
       "      <th>FuelType</th>\n",
       "      <th>Brand</th>\n",
       "      <th>Repaired</th>\n",
       "      <th>PostalCode</th>\n",
       "      <th>RegistrationYear</th>\n",
       "      <th>auto_old</th>\n",
       "      <th>days_was_posted</th>\n",
       "      <th>days_was_seen</th>\n",
       "      <th>repaired_info</th>\n",
       "      <th>agregate_auto</th>\n",
       "    </tr>\n",
       "  </thead>\n",
       "  <tbody>\n",
       "    <tr>\n",
       "      <th>2</th>\n",
       "      <td>9800</td>\n",
       "      <td>suv</td>\n",
       "      <td>auto</td>\n",
       "      <td>163</td>\n",
       "      <td>grand</td>\n",
       "      <td>125000</td>\n",
       "      <td>gasoline</td>\n",
       "      <td>jeep</td>\n",
       "      <td>0</td>\n",
       "      <td>90480</td>\n",
       "      <td>2004</td>\n",
       "      <td>16873</td>\n",
       "      <td>735</td>\n",
       "      <td>757</td>\n",
       "      <td>0</td>\n",
       "      <td>jeep-grand</td>\n",
       "    </tr>\n",
       "    <tr>\n",
       "      <th>3</th>\n",
       "      <td>1500</td>\n",
       "      <td>small</td>\n",
       "      <td>manual</td>\n",
       "      <td>75</td>\n",
       "      <td>golf</td>\n",
       "      <td>150000</td>\n",
       "      <td>petrol</td>\n",
       "      <td>volkswagen</td>\n",
       "      <td>0</td>\n",
       "      <td>91074</td>\n",
       "      <td>2001</td>\n",
       "      <td>16876</td>\n",
       "      <td>738</td>\n",
       "      <td>738</td>\n",
       "      <td>1</td>\n",
       "      <td>volkswagen-golf</td>\n",
       "    </tr>\n",
       "    <tr>\n",
       "      <th>4</th>\n",
       "      <td>3600</td>\n",
       "      <td>small</td>\n",
       "      <td>manual</td>\n",
       "      <td>69</td>\n",
       "      <td>fabia</td>\n",
       "      <td>90000</td>\n",
       "      <td>gasoline</td>\n",
       "      <td>skoda</td>\n",
       "      <td>0</td>\n",
       "      <td>60437</td>\n",
       "      <td>2008</td>\n",
       "      <td>16890</td>\n",
       "      <td>752</td>\n",
       "      <td>758</td>\n",
       "      <td>1</td>\n",
       "      <td>skoda-fabia</td>\n",
       "    </tr>\n",
       "    <tr>\n",
       "      <th>5</th>\n",
       "      <td>650</td>\n",
       "      <td>sedan</td>\n",
       "      <td>manual</td>\n",
       "      <td>102</td>\n",
       "      <td>3er</td>\n",
       "      <td>150000</td>\n",
       "      <td>petrol</td>\n",
       "      <td>bmw</td>\n",
       "      <td>1</td>\n",
       "      <td>33775</td>\n",
       "      <td>1995</td>\n",
       "      <td>16894</td>\n",
       "      <td>756</td>\n",
       "      <td>758</td>\n",
       "      <td>1</td>\n",
       "      <td>bmw-3er</td>\n",
       "    </tr>\n",
       "    <tr>\n",
       "      <th>6</th>\n",
       "      <td>2200</td>\n",
       "      <td>convertible</td>\n",
       "      <td>manual</td>\n",
       "      <td>109</td>\n",
       "      <td>2_reihe</td>\n",
       "      <td>150000</td>\n",
       "      <td>petrol</td>\n",
       "      <td>peugeot</td>\n",
       "      <td>0</td>\n",
       "      <td>67112</td>\n",
       "      <td>2004</td>\n",
       "      <td>16891</td>\n",
       "      <td>753</td>\n",
       "      <td>757</td>\n",
       "      <td>1</td>\n",
       "      <td>peugeot-2_reihe</td>\n",
       "    </tr>\n",
       "  </tbody>\n",
       "</table>\n",
       "</div>"
      ],
      "text/plain": [
       "   Price  VehicleType Gearbox  Power    Model  Kilometer  FuelType  \\\n",
       "2   9800          suv    auto    163    grand     125000  gasoline   \n",
       "3   1500        small  manual     75     golf     150000    petrol   \n",
       "4   3600        small  manual     69    fabia      90000  gasoline   \n",
       "5    650        sedan  manual    102      3er     150000    petrol   \n",
       "6   2200  convertible  manual    109  2_reihe     150000    petrol   \n",
       "\n",
       "        Brand  Repaired  PostalCode  RegistrationYear  auto_old  \\\n",
       "2        jeep         0       90480              2004     16873   \n",
       "3  volkswagen         0       91074              2001     16876   \n",
       "4       skoda         0       60437              2008     16890   \n",
       "5         bmw         1       33775              1995     16894   \n",
       "6     peugeot         0       67112              2004     16891   \n",
       "\n",
       "   days_was_posted  days_was_seen  repaired_info    agregate_auto  \n",
       "2              735            757              0       jeep-grand  \n",
       "3              738            738              1  volkswagen-golf  \n",
       "4              752            758              1      skoda-fabia  \n",
       "5              756            758              1          bmw-3er  \n",
       "6              753            757              1  peugeot-2_reihe  "
      ]
     },
     "execution_count": 92,
     "metadata": {},
     "output_type": "execute_result"
    }
   ],
   "source": [
    "df.head()"
   ]
  },
  {
   "cell_type": "markdown",
   "metadata": {},
   "source": [
    "#### Вывод:\n",
    "\n",
    "- Подготовили данные к обучению\n",
    "- Закодировали категориальные данные об авто в столбце 'agregate_auto'"
   ]
  },
  {
   "cell_type": "markdown",
   "metadata": {},
   "source": [
    "▀▀▀▀▀▀▀▀▀▀▀▀▀▀▀▀▀▀▀▀▀▀▀▀▀▀▀▀▀▀▀▀▀▀▀▀▀▀▀▀▀▀▀▀▀▀▀▀▀▀▀▀▀▀▀▀▀▀▀▀▀▀▀▀▀▀▀▀▀▀\n",
    "## Обучение моделей\n",
    "▀▀▀▀▀▀▀▀▀▀▀▀▀▀▀▀▀▀▀▀▀▀▀▀▀▀▀▀▀▀▀▀▀▀▀▀▀▀▀▀▀▀▀▀▀▀▀▀▀▀▀▀▀▀▀▀▀▀▀▀▀▀▀▀▀▀▀▀▀▀"
   ]
  },
  {
   "cell_type": "markdown",
   "metadata": {},
   "source": [
    "3. Подготовьте выборки для обучения моделей.\n",
    "4. Обучите разные модели, одна из которых — LightGBM, как минимум одна — не бустинг. Для каждой модели попробуйте разные гиперпараметры."
   ]
  },
  {
   "cell_type": "markdown",
   "metadata": {},
   "source": [
    "### Случайное предсказание"
   ]
  },
  {
   "cell_type": "code",
   "execution_count": 93,
   "metadata": {
    "scrolled": true
   },
   "outputs": [
    {
     "name": "stdout",
     "output_type": "stream",
     "text": [
      "RMSE случайного предсказания по медиане = 4189.17\n",
      "RMSE случайного предсказания по средней = 3961.36\n"
     ]
    }
   ],
   "source": [
    "# Создадим для сравнения случайное предсказание по медиане\n",
    "round_pred = pd.Series(data=df['Price'].median(), index=df['Price'].index, dtype='int64')\n",
    "rmse_median = round(mean_squared_error(df['Price'], round_pred) ** 0.5, 2)\n",
    "\n",
    "print('RMSE случайного предсказания по медиане =', rmse_median)\n",
    "\n",
    "# Создадим для савнения случайное предсказание по средней\n",
    "round_pred = pd.Series(data=df['Price'].mean(), index=df['Price'].index, dtype='int64')\n",
    "rmse_mean = round(mean_squared_error(df['Price'], round_pred) ** 0.5, 2)\n",
    "\n",
    "print('RMSE случайного предсказания по средней =', rmse_mean)"
   ]
  },
  {
   "cell_type": "markdown",
   "metadata": {},
   "source": [
    "По требованию нужно получить значение <b>RSME</b> меньше <b>2500</b>"
   ]
  },
  {
   "cell_type": "markdown",
   "metadata": {},
   "source": [
    "### Подготовка выборок для обучения моделей."
   ]
  },
  {
   "cell_type": "code",
   "execution_count": 94,
   "metadata": {},
   "outputs": [],
   "source": [
    "# Запишем в переменные отдельно признаки и отдельно целевой признак\n",
    "X = df.drop('Price', axis=1) \n",
    "y = df['Price'] # целевой признак"
   ]
  },
  {
   "cell_type": "code",
   "execution_count": 95,
   "metadata": {},
   "outputs": [],
   "source": [
    "X_train, X_test, y_train, y_test = train_test_split(X, y, \n",
    "                                                    test_size=0.33, \n",
    "                                                    random_state=42)"
   ]
  },
  {
   "cell_type": "code",
   "execution_count": 96,
   "metadata": {},
   "outputs": [
    {
     "data": {
      "text/plain": [
       "Index(['VehicleType', 'Gearbox', 'Power', 'Model', 'Kilometer', 'FuelType',\n",
       "       'Brand', 'Repaired', 'PostalCode', 'RegistrationYear', 'auto_old',\n",
       "       'days_was_posted', 'days_was_seen', 'repaired_info', 'agregate_auto'],\n",
       "      dtype='object')"
      ]
     },
     "execution_count": 96,
     "metadata": {},
     "output_type": "execute_result"
    }
   ],
   "source": [
    "X_train.columns"
   ]
  },
  {
   "cell_type": "code",
   "execution_count": 97,
   "metadata": {},
   "outputs": [
    {
     "name": "stdout",
     "output_type": "stream",
     "text": [
      "Размер выборок для обучения:\n",
      " X_train : (177714, 15) \n",
      " y_train : (177714,) \n",
      "\n",
      " X_test : (87532, 15) \n",
      " y_test : (87532,)\n"
     ]
    }
   ],
   "source": [
    "print('Размер выборок для обучения:')\n",
    "print(' X_train :', X_train.shape ,'\\n',\n",
    "      'y_train :', y_train.shape,'\\n\\n',\n",
    "      \n",
    "      'X_test :', X_test.shape,'\\n',      \n",
    "      'y_test :', y_test.shape \n",
    "     )"
   ]
  },
  {
   "cell_type": "markdown",
   "metadata": {},
   "source": [
    "#### Масштабирование признаков"
   ]
  },
  {
   "cell_type": "code",
   "execution_count": 98,
   "metadata": {
    "scrolled": true
   },
   "outputs": [
    {
     "name": "stdout",
     "output_type": "stream",
     "text": [
      "['VehicleType', 'Gearbox', 'Model', 'FuelType', 'Brand']\n"
     ]
    },
    {
     "data": {
      "text/plain": [
       "['VehicleType', 'Gearbox', 'FuelType', 'Brand']"
      ]
     },
     "execution_count": 98,
     "metadata": {},
     "output_type": "execute_result"
    }
   ],
   "source": [
    "#категориальные признаки для OHE Ridge\n",
    "ohe_features_ridge = X_train.select_dtypes(include='object').columns.to_list()\n",
    "ohe_features_ridge.remove('agregate_auto')\n",
    "print(ohe_features_ridge)\n",
    "\n",
    "#категориальные признаки для OHE RandomForestRegressor\n",
    "# изменился состав строк возможно стоит оставить Brandи убрать 'agregate_auto'\n",
    "ohe_features_rf = ohe_features_ridge.copy()\n",
    "ohe_features_rf.remove('Model')\n",
    "ohe_features_rf"
   ]
  },
  {
   "cell_type": "code",
   "execution_count": 99,
   "metadata": {
    "scrolled": true
   },
   "outputs": [
    {
     "data": {
      "text/plain": [
       "['Power',\n",
       " 'Kilometer',\n",
       " 'RegistrationYear',\n",
       " 'auto_old',\n",
       " 'days_was_posted',\n",
       " 'days_was_seen']"
      ]
     },
     "execution_count": 99,
     "metadata": {},
     "output_type": "execute_result"
    }
   ],
   "source": [
    "#численные признаки\n",
    "#обратите внимание, что 'repaired' — категориальный бинарный признак.\n",
    "num_features = X_train.select_dtypes(exclude='object').columns.to_list()\n",
    "num_features.remove('Repaired') # — категориальный бинарный признак.\n",
    "num_features.remove('repaired_info') # — категориальный бинарный признак.\n",
    "num_features.remove('PostalCode') # — категориальный признак.\n",
    "num_features"
   ]
  },
  {
   "cell_type": "code",
   "execution_count": 100,
   "metadata": {},
   "outputs": [
    {
     "name": "stdout",
     "output_type": "stream",
     "text": [
      "\n",
      "Количество уникальных значений признка \"Model\" \n",
      "в обеих выборках одинаковое: False\n",
      "\n",
      "\n",
      "Уникальные значения признка \"Model\" \n",
      "в обеих выборках одинаковые: False\n",
      "\n",
      "\n",
      "Только в тренировочной выборке есть значения: {'i3', 'gl', '911', 'cayenne'}\n",
      "\n",
      "\n",
      "Только в тестовой выборке есть значения: set()\n",
      "\n"
     ]
    }
   ],
   "source": [
    "models_train = set(X_train['Model'].unique())\n",
    "models_test = set(X_test['Model'].unique())\n",
    "num_models_train = len(models_train)\n",
    "num_models_test = len(models_test)\n",
    "print(f'''\n",
    "Количество уникальных значений признка \"Model\" \n",
    "в обеих выборках одинаковое: {num_models_train == num_models_test}\n",
    "''')\n",
    "print(f'''\n",
    "Уникальные значения признка \"Model\" \n",
    "в обеих выборках одинаковые: {models_train == models_test}\n",
    "''')\n",
    "print(f'''\n",
    "Только в тренировочной выборке есть значения: {models_train - models_test}\n",
    "''')\n",
    "print(f'''\n",
    "Только в тестовой выборке есть значения: {models_test - models_train}\n",
    "''')"
   ]
  },
  {
   "cell_type": "code",
   "execution_count": 103,
   "metadata": {},
   "outputs": [],
   "source": [
    "X_train_ridge = X_train.copy()\n",
    "X_test_ridge = X_test.copy()"
   ]
  },
  {
   "cell_type": "code",
   "execution_count": 104,
   "metadata": {},
   "outputs": [],
   "source": [
    "# drop='first' удаляет первый признак из закодированных:\n",
    "# таким образом обходим dummy-ловушку\n",
    "# задаём handle_unknown='ignore':\n",
    "# игнорируется ранее невстречающиеся значения признака (при transform)\n",
    "encoder_ohe = OneHotEncoder(drop='first', sparse_output=False)\n",
    "\n",
    "# обучаем энкодер на заданных категориальных признаках тренировочной выборки\n",
    "encoder_ohe.fit(X_train_ridge[ohe_features_ridge]);"
   ]
  },
  {
   "cell_type": "code",
   "execution_count": 105,
   "metadata": {
    "scrolled": true
   },
   "outputs": [
    {
     "name": "stdout",
     "output_type": "stream",
     "text": [
      "CPU times: user 76 ms, sys: 571 µs, total: 76.6 ms\n",
      "Wall time: 74.4 ms\n"
     ]
    }
   ],
   "source": [
    "%%time\n",
    "# добавляем закодированные признаки в X_train_ohe\n",
    "# encoder_ohe.get_feature_names_out() позволяет получить названия колонок\n",
    "X_train_ridge[\n",
    "    encoder_ohe.get_feature_names_out()\n",
    "] = encoder_ohe.transform(X_train_ridge[ohe_features_ridge])"
   ]
  },
  {
   "cell_type": "code",
   "execution_count": 106,
   "metadata": {},
   "outputs": [],
   "source": [
    "# удаляем незакодированные категориальные признаки (изначальные колонки)\n",
    "X_train_ridge = X_train_ridge.drop(ohe_features_ridge, axis=1)\n",
    "X_train_ridge = X_train_ridge.drop('PostalCode', axis=1)\n",
    "X_train_ridge = X_train_ridge.drop('agregate_auto', axis=1)\n",
    "# создаём скелер\n",
    "scaler = StandardScaler()\n",
    "\n",
    "# обучаем его на численных признаках тренировочной выборки, трансформируем её же\n",
    "X_train_ridge[num_features] = scaler.fit_transform(X_train_ridge[num_features])"
   ]
  },
  {
   "cell_type": "code",
   "execution_count": 107,
   "metadata": {},
   "outputs": [
    {
     "data": {
      "text/html": [
       "<div>\n",
       "<style scoped>\n",
       "    .dataframe tbody tr th:only-of-type {\n",
       "        vertical-align: middle;\n",
       "    }\n",
       "\n",
       "    .dataframe tbody tr th {\n",
       "        vertical-align: top;\n",
       "    }\n",
       "\n",
       "    .dataframe thead th {\n",
       "        text-align: right;\n",
       "    }\n",
       "</style>\n",
       "<table border=\"1\" class=\"dataframe\">\n",
       "  <thead>\n",
       "    <tr style=\"text-align: right;\">\n",
       "      <th></th>\n",
       "      <th>Power</th>\n",
       "      <th>Kilometer</th>\n",
       "      <th>Repaired</th>\n",
       "      <th>RegistrationYear</th>\n",
       "      <th>auto_old</th>\n",
       "      <th>days_was_posted</th>\n",
       "      <th>days_was_seen</th>\n",
       "      <th>repaired_info</th>\n",
       "      <th>VehicleType_convertible</th>\n",
       "      <th>VehicleType_coupe</th>\n",
       "      <th>...</th>\n",
       "      <th>Brand_renault</th>\n",
       "      <th>Brand_saab</th>\n",
       "      <th>Brand_seat</th>\n",
       "      <th>Brand_skoda</th>\n",
       "      <th>Brand_smart</th>\n",
       "      <th>Brand_subaru</th>\n",
       "      <th>Brand_suzuki</th>\n",
       "      <th>Brand_toyota</th>\n",
       "      <th>Brand_volkswagen</th>\n",
       "      <th>Brand_volvo</th>\n",
       "    </tr>\n",
       "  </thead>\n",
       "  <tbody>\n",
       "    <tr>\n",
       "      <th>71831</th>\n",
       "      <td>-0.687363</td>\n",
       "      <td>0.560682</td>\n",
       "      <td>0</td>\n",
       "      <td>-0.259314</td>\n",
       "      <td>-1.426890</td>\n",
       "      <td>-1.426890</td>\n",
       "      <td>-1.345131</td>\n",
       "      <td>0</td>\n",
       "      <td>0.0</td>\n",
       "      <td>0.0</td>\n",
       "      <td>...</td>\n",
       "      <td>0.0</td>\n",
       "      <td>0.0</td>\n",
       "      <td>0.0</td>\n",
       "      <td>0.0</td>\n",
       "      <td>0.0</td>\n",
       "      <td>0.0</td>\n",
       "      <td>0.0</td>\n",
       "      <td>0.0</td>\n",
       "      <td>1.0</td>\n",
       "      <td>0.0</td>\n",
       "    </tr>\n",
       "    <tr>\n",
       "      <th>333901</th>\n",
       "      <td>-0.050642</td>\n",
       "      <td>0.560682</td>\n",
       "      <td>1</td>\n",
       "      <td>-1.266361</td>\n",
       "      <td>0.821867</td>\n",
       "      <td>0.821867</td>\n",
       "      <td>-0.108487</td>\n",
       "      <td>1</td>\n",
       "      <td>0.0</td>\n",
       "      <td>0.0</td>\n",
       "      <td>...</td>\n",
       "      <td>0.0</td>\n",
       "      <td>0.0</td>\n",
       "      <td>0.0</td>\n",
       "      <td>0.0</td>\n",
       "      <td>0.0</td>\n",
       "      <td>0.0</td>\n",
       "      <td>0.0</td>\n",
       "      <td>0.0</td>\n",
       "      <td>1.0</td>\n",
       "      <td>0.0</td>\n",
       "    </tr>\n",
       "    <tr>\n",
       "      <th>171842</th>\n",
       "      <td>0.722519</td>\n",
       "      <td>0.560682</td>\n",
       "      <td>1</td>\n",
       "      <td>-0.091473</td>\n",
       "      <td>1.250202</td>\n",
       "      <td>1.250202</td>\n",
       "      <td>0.790890</td>\n",
       "      <td>1</td>\n",
       "      <td>0.0</td>\n",
       "      <td>0.0</td>\n",
       "      <td>...</td>\n",
       "      <td>0.0</td>\n",
       "      <td>0.0</td>\n",
       "      <td>0.0</td>\n",
       "      <td>0.0</td>\n",
       "      <td>0.0</td>\n",
       "      <td>0.0</td>\n",
       "      <td>0.0</td>\n",
       "      <td>0.0</td>\n",
       "      <td>0.0</td>\n",
       "      <td>0.0</td>\n",
       "    </tr>\n",
       "    <tr>\n",
       "      <th>162222</th>\n",
       "      <td>0.495119</td>\n",
       "      <td>0.560682</td>\n",
       "      <td>0</td>\n",
       "      <td>0.579891</td>\n",
       "      <td>-1.641058</td>\n",
       "      <td>-1.641058</td>\n",
       "      <td>0.903312</td>\n",
       "      <td>1</td>\n",
       "      <td>0.0</td>\n",
       "      <td>0.0</td>\n",
       "      <td>...</td>\n",
       "      <td>0.0</td>\n",
       "      <td>0.0</td>\n",
       "      <td>0.0</td>\n",
       "      <td>0.0</td>\n",
       "      <td>0.0</td>\n",
       "      <td>0.0</td>\n",
       "      <td>0.0</td>\n",
       "      <td>0.0</td>\n",
       "      <td>0.0</td>\n",
       "      <td>0.0</td>\n",
       "    </tr>\n",
       "    <tr>\n",
       "      <th>133381</th>\n",
       "      <td>0.040318</td>\n",
       "      <td>0.560682</td>\n",
       "      <td>0</td>\n",
       "      <td>-0.091473</td>\n",
       "      <td>1.250202</td>\n",
       "      <td>1.250202</td>\n",
       "      <td>0.790890</td>\n",
       "      <td>1</td>\n",
       "      <td>0.0</td>\n",
       "      <td>0.0</td>\n",
       "      <td>...</td>\n",
       "      <td>0.0</td>\n",
       "      <td>0.0</td>\n",
       "      <td>0.0</td>\n",
       "      <td>0.0</td>\n",
       "      <td>0.0</td>\n",
       "      <td>0.0</td>\n",
       "      <td>0.0</td>\n",
       "      <td>0.0</td>\n",
       "      <td>0.0</td>\n",
       "      <td>0.0</td>\n",
       "    </tr>\n",
       "  </tbody>\n",
       "</table>\n",
       "<p>5 rows × 198 columns</p>\n",
       "</div>"
      ],
      "text/plain": [
       "           Power  Kilometer  Repaired  RegistrationYear  auto_old  \\\n",
       "71831  -0.687363   0.560682         0         -0.259314 -1.426890   \n",
       "333901 -0.050642   0.560682         1         -1.266361  0.821867   \n",
       "171842  0.722519   0.560682         1         -0.091473  1.250202   \n",
       "162222  0.495119   0.560682         0          0.579891 -1.641058   \n",
       "133381  0.040318   0.560682         0         -0.091473  1.250202   \n",
       "\n",
       "        days_was_posted  days_was_seen  repaired_info  \\\n",
       "71831         -1.426890      -1.345131              0   \n",
       "333901         0.821867      -0.108487              1   \n",
       "171842         1.250202       0.790890              1   \n",
       "162222        -1.641058       0.903312              1   \n",
       "133381         1.250202       0.790890              1   \n",
       "\n",
       "        VehicleType_convertible  VehicleType_coupe  ...  Brand_renault  \\\n",
       "71831                       0.0                0.0  ...            0.0   \n",
       "333901                      0.0                0.0  ...            0.0   \n",
       "171842                      0.0                0.0  ...            0.0   \n",
       "162222                      0.0                0.0  ...            0.0   \n",
       "133381                      0.0                0.0  ...            0.0   \n",
       "\n",
       "        Brand_saab  Brand_seat  Brand_skoda  Brand_smart  Brand_subaru  \\\n",
       "71831          0.0         0.0          0.0          0.0           0.0   \n",
       "333901         0.0         0.0          0.0          0.0           0.0   \n",
       "171842         0.0         0.0          0.0          0.0           0.0   \n",
       "162222         0.0         0.0          0.0          0.0           0.0   \n",
       "133381         0.0         0.0          0.0          0.0           0.0   \n",
       "\n",
       "        Brand_suzuki  Brand_toyota  Brand_volkswagen  Brand_volvo  \n",
       "71831            0.0           0.0               1.0          0.0  \n",
       "333901           0.0           0.0               1.0          0.0  \n",
       "171842           0.0           0.0               0.0          0.0  \n",
       "162222           0.0           0.0               0.0          0.0  \n",
       "133381           0.0           0.0               0.0          0.0  \n",
       "\n",
       "[5 rows x 198 columns]"
      ]
     },
     "execution_count": 107,
     "metadata": {},
     "output_type": "execute_result"
    }
   ],
   "source": [
    "# смотрим на результат\n",
    "X_train_ridge.head()"
   ]
  },
  {
   "cell_type": "code",
   "execution_count": 108,
   "metadata": {},
   "outputs": [
    {
     "name": "stderr",
     "output_type": "stream",
     "text": [
      "/opt/conda/lib/python3.9/site-packages/sklearn/preprocessing/_encoders.py:202: UserWarning: Found unknown categories in columns [2, 3, 4] during transform. These unknown categories will be encoded as all zeros\n",
      "  warnings.warn(\n"
     ]
    },
    {
     "name": "stdout",
     "output_type": "stream",
     "text": [
      "CPU times: user 13.8 s, sys: 713 ms, total: 14.5 s\n",
      "Wall time: 14.5 s\n"
     ]
    },
    {
     "data": {
      "text/html": [
       "<div>\n",
       "<style scoped>\n",
       "    .dataframe tbody tr th:only-of-type {\n",
       "        vertical-align: middle;\n",
       "    }\n",
       "\n",
       "    .dataframe tbody tr th {\n",
       "        vertical-align: top;\n",
       "    }\n",
       "\n",
       "    .dataframe thead th {\n",
       "        text-align: right;\n",
       "    }\n",
       "</style>\n",
       "<table border=\"1\" class=\"dataframe\">\n",
       "  <thead>\n",
       "    <tr style=\"text-align: right;\">\n",
       "      <th></th>\n",
       "      <th>Power</th>\n",
       "      <th>Kilometer</th>\n",
       "      <th>Repaired</th>\n",
       "      <th>RegistrationYear</th>\n",
       "      <th>auto_old</th>\n",
       "      <th>days_was_posted</th>\n",
       "      <th>days_was_seen</th>\n",
       "      <th>repaired_info</th>\n",
       "      <th>VehicleType_convertible</th>\n",
       "      <th>VehicleType_coupe</th>\n",
       "      <th>...</th>\n",
       "      <th>Brand_renault</th>\n",
       "      <th>Brand_saab</th>\n",
       "      <th>Brand_seat</th>\n",
       "      <th>Brand_skoda</th>\n",
       "      <th>Brand_smart</th>\n",
       "      <th>Brand_subaru</th>\n",
       "      <th>Brand_suzuki</th>\n",
       "      <th>Brand_toyota</th>\n",
       "      <th>Brand_volkswagen</th>\n",
       "      <th>Brand_volvo</th>\n",
       "    </tr>\n",
       "  </thead>\n",
       "  <tbody>\n",
       "    <tr>\n",
       "      <th>169924</th>\n",
       "      <td>-0.982983</td>\n",
       "      <td>0.560682</td>\n",
       "      <td>0</td>\n",
       "      <td>0.076368</td>\n",
       "      <td>1.678537</td>\n",
       "      <td>1.678537</td>\n",
       "      <td>0.790890</td>\n",
       "      <td>1</td>\n",
       "      <td>1.0</td>\n",
       "      <td>0.0</td>\n",
       "      <td>...</td>\n",
       "      <td>0.0</td>\n",
       "      <td>0.0</td>\n",
       "      <td>0.0</td>\n",
       "      <td>0.0</td>\n",
       "      <td>1.0</td>\n",
       "      <td>0.0</td>\n",
       "      <td>0.0</td>\n",
       "      <td>0.0</td>\n",
       "      <td>0.0</td>\n",
       "      <td>0.0</td>\n",
       "    </tr>\n",
       "    <tr>\n",
       "      <th>71472</th>\n",
       "      <td>-1.437783</td>\n",
       "      <td>-1.977617</td>\n",
       "      <td>0</td>\n",
       "      <td>0.915573</td>\n",
       "      <td>-0.463137</td>\n",
       "      <td>-0.463137</td>\n",
       "      <td>0.903312</td>\n",
       "      <td>0</td>\n",
       "      <td>0.0</td>\n",
       "      <td>0.0</td>\n",
       "      <td>...</td>\n",
       "      <td>0.0</td>\n",
       "      <td>0.0</td>\n",
       "      <td>0.0</td>\n",
       "      <td>0.0</td>\n",
       "      <td>0.0</td>\n",
       "      <td>0.0</td>\n",
       "      <td>0.0</td>\n",
       "      <td>0.0</td>\n",
       "      <td>0.0</td>\n",
       "      <td>0.0</td>\n",
       "    </tr>\n",
       "    <tr>\n",
       "      <th>176513</th>\n",
       "      <td>-0.982983</td>\n",
       "      <td>0.560682</td>\n",
       "      <td>0</td>\n",
       "      <td>-0.762838</td>\n",
       "      <td>-0.784388</td>\n",
       "      <td>-0.784388</td>\n",
       "      <td>-1.569976</td>\n",
       "      <td>1</td>\n",
       "      <td>0.0</td>\n",
       "      <td>0.0</td>\n",
       "      <td>...</td>\n",
       "      <td>1.0</td>\n",
       "      <td>0.0</td>\n",
       "      <td>0.0</td>\n",
       "      <td>0.0</td>\n",
       "      <td>0.0</td>\n",
       "      <td>0.0</td>\n",
       "      <td>0.0</td>\n",
       "      <td>0.0</td>\n",
       "      <td>0.0</td>\n",
       "      <td>0.0</td>\n",
       "    </tr>\n",
       "    <tr>\n",
       "      <th>221920</th>\n",
       "      <td>1.018139</td>\n",
       "      <td>0.560682</td>\n",
       "      <td>0</td>\n",
       "      <td>1.251255</td>\n",
       "      <td>1.571453</td>\n",
       "      <td>1.571453</td>\n",
       "      <td>0.903312</td>\n",
       "      <td>1</td>\n",
       "      <td>0.0</td>\n",
       "      <td>0.0</td>\n",
       "      <td>...</td>\n",
       "      <td>0.0</td>\n",
       "      <td>0.0</td>\n",
       "      <td>0.0</td>\n",
       "      <td>0.0</td>\n",
       "      <td>0.0</td>\n",
       "      <td>0.0</td>\n",
       "      <td>0.0</td>\n",
       "      <td>0.0</td>\n",
       "      <td>0.0</td>\n",
       "      <td>0.0</td>\n",
       "    </tr>\n",
       "    <tr>\n",
       "      <th>122179</th>\n",
       "      <td>0.563339</td>\n",
       "      <td>0.560682</td>\n",
       "      <td>0</td>\n",
       "      <td>0.579891</td>\n",
       "      <td>-1.426890</td>\n",
       "      <td>-1.426890</td>\n",
       "      <td>-1.682398</td>\n",
       "      <td>1</td>\n",
       "      <td>0.0</td>\n",
       "      <td>0.0</td>\n",
       "      <td>...</td>\n",
       "      <td>0.0</td>\n",
       "      <td>0.0</td>\n",
       "      <td>0.0</td>\n",
       "      <td>0.0</td>\n",
       "      <td>0.0</td>\n",
       "      <td>0.0</td>\n",
       "      <td>0.0</td>\n",
       "      <td>0.0</td>\n",
       "      <td>0.0</td>\n",
       "      <td>0.0</td>\n",
       "    </tr>\n",
       "  </tbody>\n",
       "</table>\n",
       "<p>5 rows × 198 columns</p>\n",
       "</div>"
      ],
      "text/plain": [
       "           Power  Kilometer  Repaired  RegistrationYear  auto_old  \\\n",
       "169924 -0.982983   0.560682         0          0.076368  1.678537   \n",
       "71472  -1.437783  -1.977617         0          0.915573 -0.463137   \n",
       "176513 -0.982983   0.560682         0         -0.762838 -0.784388   \n",
       "221920  1.018139   0.560682         0          1.251255  1.571453   \n",
       "122179  0.563339   0.560682         0          0.579891 -1.426890   \n",
       "\n",
       "        days_was_posted  days_was_seen  repaired_info  \\\n",
       "169924         1.678537       0.790890              1   \n",
       "71472         -0.463137       0.903312              0   \n",
       "176513        -0.784388      -1.569976              1   \n",
       "221920         1.571453       0.903312              1   \n",
       "122179        -1.426890      -1.682398              1   \n",
       "\n",
       "        VehicleType_convertible  VehicleType_coupe  ...  Brand_renault  \\\n",
       "169924                      1.0                0.0  ...            0.0   \n",
       "71472                       0.0                0.0  ...            0.0   \n",
       "176513                      0.0                0.0  ...            1.0   \n",
       "221920                      0.0                0.0  ...            0.0   \n",
       "122179                      0.0                0.0  ...            0.0   \n",
       "\n",
       "        Brand_saab  Brand_seat  Brand_skoda  Brand_smart  Brand_subaru  \\\n",
       "169924         0.0         0.0          0.0          1.0           0.0   \n",
       "71472          0.0         0.0          0.0          0.0           0.0   \n",
       "176513         0.0         0.0          0.0          0.0           0.0   \n",
       "221920         0.0         0.0          0.0          0.0           0.0   \n",
       "122179         0.0         0.0          0.0          0.0           0.0   \n",
       "\n",
       "        Brand_suzuki  Brand_toyota  Brand_volkswagen  Brand_volvo  \n",
       "169924           0.0           0.0               0.0          0.0  \n",
       "71472            0.0           0.0               0.0          0.0  \n",
       "176513           0.0           0.0               0.0          0.0  \n",
       "221920           0.0           0.0               0.0          0.0  \n",
       "122179           0.0           0.0               0.0          0.0  \n",
       "\n",
       "[5 rows x 198 columns]"
      ]
     },
     "execution_count": 108,
     "metadata": {},
     "output_type": "execute_result"
    }
   ],
   "source": [
    "%%time\n",
    "# энкодером, который обучен на ТРЕНИРОВОЧНОЙ ВЫБОРКЕ, кодируем тестовую\n",
    "X_test_ridge[\n",
    "    encoder_ohe.get_feature_names_out()\n",
    "] = encoder_ohe.transform(X_test_ridge[ohe_features_ridge])\n",
    "\n",
    "X_test_ridge = X_test_ridge.drop(ohe_features_ridge, axis=1)\n",
    "X_test_ridge = X_test_ridge.drop('PostalCode', axis=1)\n",
    "X_test_ridge = X_test_ridge.drop('agregate_auto', axis=1)\n",
    "\n",
    "# скелером, который обучен на ТРЕНИРОВОЧНОЙ ВЫБОРКЕ, масштабируем тестовую\n",
    "X_test_ridge[num_features] = scaler.transform(\n",
    "    X_test_ridge[num_features]\n",
    ")\n",
    "\n",
    "# смотрим на результат\n",
    "X_test_ridge.head()"
   ]
  },
  {
   "cell_type": "code",
   "execution_count": null,
   "metadata": {},
   "outputs": [],
   "source": [
    "# получилось одинаковое количество признаков\n",
    "X_train_ridge.shape, X_test_ridge.shape"
   ]
  },
  {
   "cell_type": "code",
   "execution_count": null,
   "metadata": {},
   "outputs": [],
   "source": [
    "# получились одинаковые признаки в тренировочной и тестовой выборках\n",
    "(X_train_ridge.columns != X_test_ridge.columns).sum()"
   ]
  },
  {
   "cell_type": "markdown",
   "metadata": {},
   "source": [
    "### Обучите разные модели, одна из которых — LightGBM, как минимум одна — не бустинг. Для каждой модели попробуйте разные гиперпараметры.\n",
    "\n",
    "Примечания:\n",
    "- Для оценки качества моделей применяйте метрику RMSE.\n",
    "- Значение метрики RMSE должно быть меньше 2500.\n",
    "- Самостоятельно освойте библиотеку LightGBM и её средствами постройте модели градиентного бустинга.\n",
    "- Время выполнения ячейки кода Jupyter Notebook можно получить специальной командой. Найдите её.\n",
    "- Модель градиентного бустинга может долго обучаться, поэтому измените у неё только два-три параметра."
   ]
  },
  {
   "cell_type": "markdown",
   "metadata": {},
   "source": [
    "#### Обучим Ridge"
   ]
  },
  {
   "cell_type": "code",
   "execution_count": 109,
   "metadata": {},
   "outputs": [
    {
     "name": "stdout",
     "output_type": "stream",
     "text": [
      "best_score: 2045.8940355617465\n",
      "best_params: {'alpha': 0.2}\n",
      "\n",
      "CPU times: user 3min 46s, sys: 2min 11s, total: 5min 58s\n",
      "Wall time: 5min 58s\n"
     ]
    }
   ],
   "source": [
    "%%time\n",
    "# random_state не перебирается, задаём его прямо в модели\n",
    "model_ridge = Ridge(random_state=RANDOM_STATE)\n",
    "\n",
    "# словарь с гиперпараметрами и значениями, которые хотим перебрать\n",
    "param_grid_ridge = {\n",
    "    'alpha': np.arange(0, 0.21, 0.01),\n",
    "}\n",
    "\n",
    "gs_ridge = GridSearchCV(\n",
    "    model_ridge, \n",
    "    param_grid=param_grid_ridge, \n",
    "    scoring='neg_root_mean_squared_error', \n",
    "    n_jobs=-1\n",
    ")\n",
    "\n",
    "start = time.time()\n",
    "gs_ridge.fit(X_train_ridge, y_train)\n",
    "t_lean = time.time() - start\n",
    "\n",
    "# лучшее значение RMSE на кросс-валидации\n",
    "print(f'best_score: {gs_ridge.best_score_ * -1}')\n",
    "\n",
    "# лучшие гиперпараметры\n",
    "print(f'best_params: {gs_ridge.best_params_}\\n')"
   ]
  },
  {
   "cell_type": "code",
   "execution_count": 110,
   "metadata": {},
   "outputs": [
    {
     "name": "stdout",
     "output_type": "stream",
     "text": [
      "CPU times: user 240 ms, sys: 251 ms, total: 491 ms\n",
      "Wall time: 493 ms\n"
     ]
    }
   ],
   "source": [
    "%%time\n",
    "start = time.time()\n",
    "model_predict = gs_ridge.predict(X_test_ridge) # Предскажем y_test\n",
    "t_predict = time.time() - start"
   ]
  },
  {
   "cell_type": "code",
   "execution_count": 134,
   "metadata": {},
   "outputs": [
    {
     "name": "stdout",
     "output_type": "stream",
     "text": [
      "Модель : Ridge\n",
      "model : Ridge(random_state=42)\n",
      "RMSE : 2045.8940355617465\n",
      "Отличие от необходимого результата : 454.11\n",
      "Время обучения : 46.522\n",
      "Время предсказания : 0.181\n"
     ]
    }
   ],
   "source": [
    "result = []\n",
    "# Запишем результаты модели\n",
    "result.append({'Модель' : 'Ridge', \n",
    "               'model' : model_ridge,\n",
    "               'RMSE' : gs_ridge.best_score_ * -1,\n",
    "               'Отличие от необходимого результата' \n",
    "               : round(RESULT - (gs_ridge.best_score_ * -1), 2),\n",
    "               'Время обучения' : round(t_lean,3), \n",
    "               'Время предсказания' : round(t_predict,3)\n",
    "             })\n",
    "# Выведем значение результата модели\n",
    "for key in result[0] : print(key, ':', result[0][key])"
   ]
  },
  {
   "cell_type": "markdown",
   "metadata": {},
   "source": [
    "#### Обучим LinearRegression"
   ]
  },
  {
   "cell_type": "code",
   "execution_count": 129,
   "metadata": {},
   "outputs": [
    {
     "name": "stdout",
     "output_type": "stream",
     "text": [
      "\n",
      "Время выполнения ячейки:\n",
      "CPU times: user 1min 52s, sys: 2min 22s, total: 4min 14s\n",
      "Wall time: 4min 15s\n"
     ]
    }
   ],
   "source": [
    "%%time\n",
    "\n",
    "model = LinearRegression() # запишем модель\n",
    "\n",
    "# Произведем оценку на правильных ответах\n",
    "rmse = cross_val_score(model, X_test_ridge, y_test,\n",
    "                       cv = 10,\n",
    "                       #V1 Заменил ->'neg_mean_squared_error'\n",
    "                       scoring = 'neg_root_mean_squared_error' \n",
    "                      )\n",
    "print('\\nВремя выполнения ячейки:')"
   ]
  },
  {
   "cell_type": "code",
   "execution_count": 130,
   "metadata": {},
   "outputs": [
    {
     "name": "stdout",
     "output_type": "stream",
     "text": [
      "RMSE линейно регресии на тестовых данных: 2086.86\n"
     ]
    }
   ],
   "source": [
    "print('RMSE линейно регресии на тестовых данных:',\n",
    "      round((rmse.mean() * -1)/(10**6), 2))"
   ]
  },
  {
   "cell_type": "markdown",
   "metadata": {},
   "source": [
    "- <b>RMSE</b> V1 линейноу регрессии показывает значение в рамках необходимоe не более 2500, обучим и замерим время и качество.\n",
    "- <b>%%time</b> -> время выполнения ячейки"
   ]
  },
  {
   "cell_type": "code",
   "execution_count": 131,
   "metadata": {},
   "outputs": [
    {
     "name": "stdout",
     "output_type": "stream",
     "text": [
      "CPU times: user 22.4 s, sys: 24.3 s, total: 46.7 s\n",
      "Wall time: 46.7 s\n"
     ]
    }
   ],
   "source": [
    "%%time\n",
    "\n",
    "# Обучение LinearRegression\n",
    "start = time.time()\n",
    "model.fit(X_train_ridge, y_train) # Обучим модель\n",
    "t_lean = time.time() - start\n",
    "\n",
    "# Предсказания LinearRegression\n",
    "start = time.time()\n",
    "model_predict = model.predict(X_test_ridge) # Предскажем y_test\n",
    "t_predict = time.time() - start"
   ]
  },
  {
   "cell_type": "code",
   "execution_count": 132,
   "metadata": {},
   "outputs": [
    {
     "name": "stdout",
     "output_type": "stream",
     "text": [
      "RMSE линейно регресии на тестовых данных: 2086.86\n"
     ]
    }
   ],
   "source": [
    "# Оценим модель по кроссвалидации\n",
    "rmse = cross_val_score(model, X_test_ridge, y_test,\n",
    "                       cv = 10, \n",
    "                       scoring = 'neg_root_mean_squared_error'\n",
    "                      )\n",
    "\n",
    "print('RMSE линейно регресии на тестовых данных:',\n",
    "      round((rmse.mean() * -1)/(10**6), 2))"
   ]
  },
  {
   "cell_type": "code",
   "execution_count": 135,
   "metadata": {},
   "outputs": [
    {
     "name": "stdout",
     "output_type": "stream",
     "text": [
      "Модель : LinearRegression\n",
      "model : LinearRegression()\n",
      "RMSE : 2086.86\n",
      "Отличие от необходимого результата : 413.14\n",
      "Время обучения : 46.522\n",
      "Время предсказания : 0.181\n"
     ]
    }
   ],
   "source": [
    "# Запишем результаты модели\n",
    "result.append({'Модель' : 'LinearRegression', \n",
    "               'model' : model,\n",
    "               'RMSE' : round((rmse.mean() * -1)/(10**6), 2),\n",
    "               'Отличие от необходимого результата' \n",
    "               : round(RESULT - (rmse.mean() * -1)/(10**6), 2),\n",
    "               'Время обучения' : round(t_lean,3), \n",
    "               'Время предсказания' : round(t_predict,3)\n",
    "             })\n",
    "# Выведем значение результата модели\n",
    "for key in result[1] : print(key, ':', result[1][key])"
   ]
  },
  {
   "cell_type": "markdown",
   "metadata": {},
   "source": [
    "Вывод:\n",
    "- LinearRegression результат хуже чем у Ridge."
   ]
  },
  {
   "cell_type": "markdown",
   "metadata": {},
   "source": [
    "#### Обучим LightGBM"
   ]
  },
  {
   "cell_type": "code",
   "execution_count": 136,
   "metadata": {},
   "outputs": [],
   "source": [
    "# Запишем основные параметры - данные\n",
    "train = lightgbm.Dataset(X_train_ridge, #V1 \n",
    "                         label = y_train, \n",
    "                         free_raw_data = False\n",
    "                        )\n",
    "\n",
    "test = lightgbm.Dataset(X_test_ridge, \n",
    "                        label = y_test\n",
    "                       )\n",
    "# зараметры поиска лучшей модели\n",
    "param_grid_lgbm = {'learning_rate': [0.1, 0.4, 0.7, 0.9],\n",
    "                   'max_depth': [10, 15, 30, 60],\n",
    "                  }\n",
    "\n",
    "lgbm = lightgbm.LGBMRegressor(n_jobs = 10)"
   ]
  },
  {
   "cell_type": "code",
   "execution_count": 137,
   "metadata": {},
   "outputs": [],
   "source": [
    "# GridSearchCV подбор лучших параметров\n",
    "grid_search_lgbm = GridSearchCV(estimator = lgbm, \n",
    "                                param_grid = param_grid_lgbm, \n",
    "                                cv = 10,\n",
    "                                n_jobs = -1, \n",
    "                                verbose = 0, \n",
    "                                scoring = 'neg_mean_squared_error',\n",
    "                               )"
   ]
  },
  {
   "cell_type": "code",
   "execution_count": 138,
   "metadata": {},
   "outputs": [
    {
     "name": "stdout",
     "output_type": "stream",
     "text": [
      "Резутат лучшей модели: 1369.1 \n",
      "\n",
      "CPU times: user 15min 1s, sys: 8min 26s, total: 23min 27s\n",
      "Wall time: 23min 31s\n"
     ]
    }
   ],
   "source": [
    "%%time\n",
    "# подберем лучшие параметры и обучим модель\n",
    "start = time.time()\n",
    "grid_search_lgbm.fit(X_train_ridge, y_train)\n",
    "t_lean = time.time() - start\n",
    "print('Резутат лучшей модели:', round((-grid_search_lgbm.best_score_) ** 0.5, 2), '\\n')"
   ]
  },
  {
   "cell_type": "code",
   "execution_count": 139,
   "metadata": {},
   "outputs": [
    {
     "name": "stdout",
     "output_type": "stream",
     "text": [
      "RMSE LightGBM gradient boosting framework: 1381.25\n",
      "\n",
      "Время обучения лучшей модели: 8.51001524925232\n",
      "\n",
      "Время выполнения ячейки:\n",
      "CPU times: user 860 ms, sys: 88.3 ms, total: 948 ms\n",
      "Wall time: 981 ms\n"
     ]
    }
   ],
   "source": [
    "%%time\n",
    "# предскажем с лучшими параметрами\n",
    "start = time.time()\n",
    "pred_test = grid_search_lgbm.best_estimator_.predict(X_test_ridge)\n",
    "t_predict = time.time() - start\n",
    "\n",
    "# Оценим модель\n",
    "rmse = mean_squared_error(y_test, pred_test) # Посчитаем RMSE для модели\n",
    "\n",
    "print('RMSE LightGBM gradient boosting framework:', round(rmse ** 0.5, 2))\n",
    "print('\\nВремя обучения лучшей модели:', grid_search_lgbm.refit_time_)\n",
    "print('\\nВремя выполнения ячейки:')"
   ]
  },
  {
   "cell_type": "code",
   "execution_count": 141,
   "metadata": {},
   "outputs": [
    {
     "name": "stdout",
     "output_type": "stream",
     "text": [
      "Модель : LightGBM\n",
      "model : GridSearchCV(cv=10, estimator=LGBMRegressor(n_jobs=10), n_jobs=-1,\n",
      "             param_grid={'learning_rate': [0.1, 0.4, 0.7, 0.9],\n",
      "                         'max_depth': [10, 15, 30, 60]},\n",
      "             scoring='neg_mean_squared_error')\n",
      "RMSE : 1381.25\n",
      "Отличие от необходимого результата : 1118.75\n",
      "Время обучения : 1411.223\n",
      "Время предсказания : 0.98\n"
     ]
    }
   ],
   "source": [
    "# Запишем результаты модели\n",
    "result.append({'Модель': 'LightGBM',\n",
    "               'model' : grid_search_lgbm,\n",
    "               'RMSE' : round(rmse ** 0.5, 2),\n",
    "               'Отличие от необходимого результата' : round(RESULT - rmse ** 0.5, 2),\n",
    "               'Время обучения' : round(t_lean,3), \n",
    "               'Время предсказания' : round(t_predict,3)\n",
    "             })\n",
    "# Выведем значение результата модели\n",
    "for key in result[2] : print(key, ':', result[2][key])"
   ]
  },
  {
   "cell_type": "markdown",
   "metadata": {},
   "source": [
    "▀▀▀▀▀▀▀▀▀▀▀▀▀▀▀▀▀▀▀▀▀▀▀▀▀▀▀▀▀▀▀▀▀▀▀▀▀▀▀▀▀▀▀▀▀▀▀▀▀▀▀▀▀▀▀▀▀▀▀▀▀▀▀▀▀▀▀▀▀▀\n",
    "## Анализ моделей\n",
    "▀▀▀▀▀▀▀▀▀▀▀▀▀▀▀▀▀▀▀▀▀▀▀▀▀▀▀▀▀▀▀▀▀▀▀▀▀▀▀▀▀▀▀▀▀▀▀▀▀▀▀▀▀▀▀▀▀▀▀▀▀▀▀▀▀▀▀▀▀▀"
   ]
  },
  {
   "cell_type": "markdown",
   "metadata": {},
   "source": [
    "5. Проанализируйте время обучения, время предсказания и качество моделей.\n",
    "6. Опираясь на критерии заказчика, выберете лучшую модель, проверьте её качество на тестовой выборке.\n",
    "\n",
    "Заказчику важны:\n",
    "\n",
    "- качество предсказания;\n",
    "- скорость предсказания;\n",
    "- время обучения."
   ]
  },
  {
   "cell_type": "code",
   "execution_count": 142,
   "metadata": {
    "scrolled": true
   },
   "outputs": [
    {
     "data": {
      "text/html": [
       "<div>\n",
       "<style scoped>\n",
       "    .dataframe tbody tr th:only-of-type {\n",
       "        vertical-align: middle;\n",
       "    }\n",
       "\n",
       "    .dataframe tbody tr th {\n",
       "        vertical-align: top;\n",
       "    }\n",
       "\n",
       "    .dataframe thead th {\n",
       "        text-align: right;\n",
       "    }\n",
       "</style>\n",
       "<table border=\"1\" class=\"dataframe\">\n",
       "  <thead>\n",
       "    <tr style=\"text-align: right;\">\n",
       "      <th></th>\n",
       "      <th>Модель</th>\n",
       "      <th>model</th>\n",
       "      <th>RMSE</th>\n",
       "      <th>Отличие от необходимого результата</th>\n",
       "      <th>Время обучения</th>\n",
       "      <th>Время предсказания</th>\n",
       "    </tr>\n",
       "  </thead>\n",
       "  <tbody>\n",
       "    <tr>\n",
       "      <th>0</th>\n",
       "      <td>Ridge</td>\n",
       "      <td>Ridge(random_state=42)</td>\n",
       "      <td>2045.894036</td>\n",
       "      <td>454.11</td>\n",
       "      <td>46.522</td>\n",
       "      <td>0.181</td>\n",
       "    </tr>\n",
       "    <tr>\n",
       "      <th>1</th>\n",
       "      <td>LinearRegression</td>\n",
       "      <td>LinearRegression()</td>\n",
       "      <td>2086.860000</td>\n",
       "      <td>413.14</td>\n",
       "      <td>46.522</td>\n",
       "      <td>0.181</td>\n",
       "    </tr>\n",
       "    <tr>\n",
       "      <th>2</th>\n",
       "      <td>LightGBM</td>\n",
       "      <td>GridSearchCV(cv=10, estimator=LGBMRegressor(n_...</td>\n",
       "      <td>1381.250000</td>\n",
       "      <td>1118.75</td>\n",
       "      <td>1411.223</td>\n",
       "      <td>0.980</td>\n",
       "    </tr>\n",
       "    <tr>\n",
       "      <th>3</th>\n",
       "      <td>LightGBM</td>\n",
       "      <td>GridSearchCV(cv=10, estimator=LGBMRegressor(n_...</td>\n",
       "      <td>1381.250000</td>\n",
       "      <td>1118.75</td>\n",
       "      <td>1411.223</td>\n",
       "      <td>0.980</td>\n",
       "    </tr>\n",
       "  </tbody>\n",
       "</table>\n",
       "</div>"
      ],
      "text/plain": [
       "             Модель                                              model  \\\n",
       "0             Ridge                             Ridge(random_state=42)   \n",
       "1  LinearRegression                                 LinearRegression()   \n",
       "2          LightGBM  GridSearchCV(cv=10, estimator=LGBMRegressor(n_...   \n",
       "3          LightGBM  GridSearchCV(cv=10, estimator=LGBMRegressor(n_...   \n",
       "\n",
       "          RMSE  Отличие от необходимого результата  Время обучения  \\\n",
       "0  2045.894036                              454.11          46.522   \n",
       "1  2086.860000                              413.14          46.522   \n",
       "2  1381.250000                             1118.75        1411.223   \n",
       "3  1381.250000                             1118.75        1411.223   \n",
       "\n",
       "   Время предсказания  \n",
       "0               0.181  \n",
       "1               0.181  \n",
       "2               0.980  \n",
       "3               0.980  "
      ]
     },
     "execution_count": 142,
     "metadata": {},
     "output_type": "execute_result"
    }
   ],
   "source": [
    "result_df = pd.DataFrame(result)\n",
    "result_df"
   ]
  },
  {
   "cell_type": "markdown",
   "metadata": {},
   "source": [
    "### Вывод:\n",
    "\n",
    "- Качество: Модель обучения LightGBM показала метрику <b>RSME = 1118.75</b> что на 1118.75 лучше необходимого.\n",
    "- Время обучения: Модель LightGBM самая требовательная по времени из расмотренных, и отличается в разы.\n",
    "- Скорость предсказания: У модели LightGBM дольше всего происходит предсказание.\n",
    "\n",
    "Примечание: за качество приходиться платить временем"
   ]
  },
  {
   "cell_type": "markdown",
   "metadata": {},
   "source": [
    "<big>Основной вывод:</big>\n",
    "\n",
    "- Качество: Модель обучения <b>LightGBM</b> показала метрику <b>RSME = 1118.75</b> что на <b>1118.75 лучше</b> необходимого.\n",
    "- Время обучения: Модель <b>LightGBM</b> самая требовательная по времени из расмотренных, и отличается в разы.\n",
    "- Скорость предсказания: У модели <b>LightGBM</b> дольше всего происходит предсказание.\n",
    "\n",
    "- Другие модели тоже справляются, резултат около 2000 хуже чем у <b>LightGBM</b>, но гораздо быстрее."
   ]
  }
 ],
 "metadata": {
  "ExecuteTimeLog": [
   {
    "duration": 2654,
    "start_time": "2023-03-09T03:56:26.289Z"
   },
   {
    "duration": 1590,
    "start_time": "2023-03-09T03:56:28.946Z"
   },
   {
    "duration": 3,
    "start_time": "2023-03-09T03:56:30.538Z"
   },
   {
    "duration": 51,
    "start_time": "2023-03-09T03:56:30.543Z"
   },
   {
    "duration": 59,
    "start_time": "2023-03-09T03:56:30.596Z"
   },
   {
    "duration": 112,
    "start_time": "2023-03-09T03:56:30.657Z"
   },
   {
    "duration": 58,
    "start_time": "2023-03-09T03:56:30.771Z"
   },
   {
    "duration": 67,
    "start_time": "2023-03-09T03:56:30.831Z"
   },
   {
    "duration": 2966,
    "start_time": "2023-03-09T03:56:30.899Z"
   },
   {
    "duration": 5,
    "start_time": "2023-03-09T03:56:33.868Z"
   },
   {
    "duration": 129,
    "start_time": "2023-03-09T03:56:33.875Z"
   },
   {
    "duration": 14,
    "start_time": "2023-03-09T03:56:34.005Z"
   },
   {
    "duration": 3,
    "start_time": "2023-03-09T03:56:34.021Z"
   },
   {
    "duration": 92,
    "start_time": "2023-03-09T03:56:34.041Z"
   },
   {
    "duration": 147,
    "start_time": "2023-03-09T03:56:34.135Z"
   },
   {
    "duration": 11,
    "start_time": "2023-03-09T03:56:34.283Z"
   },
   {
    "duration": 313,
    "start_time": "2023-03-09T03:56:34.296Z"
   },
   {
    "duration": 42,
    "start_time": "2023-03-09T03:56:34.610Z"
   },
   {
    "duration": 32,
    "start_time": "2023-03-09T03:56:34.654Z"
   },
   {
    "duration": 33,
    "start_time": "2023-03-09T03:56:34.687Z"
   },
   {
    "duration": 33,
    "start_time": "2023-03-09T03:56:34.721Z"
   },
   {
    "duration": 8,
    "start_time": "2023-03-09T03:56:34.755Z"
   },
   {
    "duration": 3,
    "start_time": "2023-03-09T03:56:34.765Z"
   },
   {
    "duration": 32,
    "start_time": "2023-03-09T03:56:34.769Z"
   },
   {
    "duration": 16,
    "start_time": "2023-03-09T03:56:34.803Z"
   },
   {
    "duration": 7,
    "start_time": "2023-03-09T03:56:34.841Z"
   },
   {
    "duration": 32,
    "start_time": "2023-03-09T03:56:34.849Z"
   },
   {
    "duration": 30,
    "start_time": "2023-03-09T03:56:34.884Z"
   },
   {
    "duration": 6,
    "start_time": "2023-03-09T03:56:34.915Z"
   },
   {
    "duration": 444,
    "start_time": "2023-03-09T03:56:34.922Z"
   },
   {
    "duration": 4,
    "start_time": "2023-03-09T03:56:35.368Z"
   },
   {
    "duration": 151,
    "start_time": "2023-03-09T03:56:35.373Z"
   },
   {
    "duration": 20,
    "start_time": "2023-03-09T03:56:35.525Z"
   },
   {
    "duration": 65,
    "start_time": "2023-03-09T03:56:35.546Z"
   },
   {
    "duration": 3,
    "start_time": "2023-03-09T03:56:35.612Z"
   },
   {
    "duration": 8,
    "start_time": "2023-03-09T03:56:35.617Z"
   },
   {
    "duration": 19,
    "start_time": "2023-03-09T03:56:35.626Z"
   },
   {
    "duration": 11,
    "start_time": "2023-03-09T03:56:35.646Z"
   },
   {
    "duration": 8,
    "start_time": "2023-03-09T03:56:35.658Z"
   },
   {
    "duration": 12,
    "start_time": "2023-03-09T03:56:35.667Z"
   },
   {
    "duration": 65,
    "start_time": "2023-03-09T03:56:35.681Z"
   },
   {
    "duration": 11,
    "start_time": "2023-03-09T03:56:35.748Z"
   },
   {
    "duration": 8,
    "start_time": "2023-03-09T03:56:35.760Z"
   },
   {
    "duration": 23,
    "start_time": "2023-03-09T03:56:35.769Z"
   },
   {
    "duration": 26,
    "start_time": "2023-03-09T03:56:35.794Z"
   },
   {
    "duration": 26,
    "start_time": "2023-03-09T03:56:35.822Z"
   },
   {
    "duration": 3,
    "start_time": "2023-03-09T03:56:35.850Z"
   },
   {
    "duration": 97,
    "start_time": "2023-03-09T03:56:35.855Z"
   },
   {
    "duration": 38,
    "start_time": "2023-03-09T03:56:35.954Z"
   },
   {
    "duration": 115,
    "start_time": "2023-03-09T03:56:35.994Z"
   },
   {
    "duration": 4,
    "start_time": "2023-03-09T03:56:36.110Z"
   },
   {
    "duration": 36,
    "start_time": "2023-03-09T03:56:36.115Z"
   },
   {
    "duration": 23,
    "start_time": "2023-03-09T03:56:36.153Z"
   },
   {
    "duration": 96,
    "start_time": "2023-03-09T03:56:36.178Z"
   },
   {
    "duration": 23,
    "start_time": "2023-03-09T03:56:36.276Z"
   },
   {
    "duration": 103,
    "start_time": "2023-03-09T03:56:36.301Z"
   },
   {
    "duration": 91,
    "start_time": "2023-03-09T03:56:36.405Z"
   },
   {
    "duration": 11,
    "start_time": "2023-03-09T03:56:36.498Z"
   },
   {
    "duration": 9,
    "start_time": "2023-03-09T03:56:36.510Z"
   },
   {
    "duration": 39,
    "start_time": "2023-03-09T03:56:36.521Z"
   },
   {
    "duration": 314,
    "start_time": "2023-03-09T03:56:36.562Z"
   },
   {
    "duration": 19,
    "start_time": "2023-03-09T03:56:36.878Z"
   },
   {
    "duration": 20,
    "start_time": "2023-03-09T03:56:36.898Z"
   },
   {
    "duration": 29,
    "start_time": "2023-03-09T03:56:36.920Z"
   },
   {
    "duration": 428,
    "start_time": "2023-03-09T03:56:36.951Z"
   },
   {
    "duration": 23,
    "start_time": "2023-03-09T03:56:37.381Z"
   },
   {
    "duration": 49,
    "start_time": "2023-03-09T03:56:37.407Z"
   },
   {
    "duration": 31,
    "start_time": "2023-03-09T03:56:37.458Z"
   },
   {
    "duration": 225,
    "start_time": "2023-03-09T03:56:37.491Z"
   },
   {
    "duration": 13,
    "start_time": "2023-03-09T03:56:37.717Z"
   },
   {
    "duration": 44,
    "start_time": "2023-03-09T03:56:37.741Z"
   },
   {
    "duration": 31,
    "start_time": "2023-03-09T03:56:37.787Z"
   },
   {
    "duration": 26,
    "start_time": "2023-03-09T03:56:37.819Z"
   },
   {
    "duration": 9,
    "start_time": "2023-03-09T03:56:37.846Z"
   },
   {
    "duration": 18,
    "start_time": "2023-03-09T03:56:37.857Z"
   },
   {
    "duration": 18,
    "start_time": "2023-03-09T03:56:37.876Z"
   },
   {
    "duration": 50,
    "start_time": "2023-03-09T03:56:37.895Z"
   },
   {
    "duration": 26,
    "start_time": "2023-03-09T03:56:37.946Z"
   },
   {
    "duration": 34,
    "start_time": "2023-03-09T03:56:37.973Z"
   },
   {
    "duration": 40,
    "start_time": "2023-03-09T03:56:38.008Z"
   },
   {
    "duration": 17,
    "start_time": "2023-03-09T03:56:38.049Z"
   },
   {
    "duration": 112,
    "start_time": "2023-03-09T03:56:38.072Z"
   },
   {
    "duration": 9,
    "start_time": "2023-03-09T03:56:38.185Z"
   },
   {
    "duration": 265,
    "start_time": "2023-03-09T03:56:38.195Z"
   },
   {
    "duration": 642,
    "start_time": "2023-03-09T03:56:38.462Z"
   },
   {
    "duration": 12,
    "start_time": "2023-03-09T03:56:39.106Z"
   },
   {
    "duration": 70,
    "start_time": "2023-03-09T03:56:39.120Z"
   },
   {
    "duration": 4,
    "start_time": "2023-03-09T03:56:39.192Z"
   },
   {
    "duration": 9,
    "start_time": "2023-03-09T03:56:39.198Z"
   },
   {
    "duration": 29,
    "start_time": "2023-03-09T03:56:39.209Z"
   },
   {
    "duration": 5,
    "start_time": "2023-03-09T03:56:39.239Z"
   },
   {
    "duration": 121,
    "start_time": "2023-03-09T03:56:39.245Z"
   },
   {
    "duration": 348,
    "start_time": "2023-03-09T03:56:39.368Z"
   },
   {
    "duration": 182,
    "start_time": "2023-03-09T03:56:39.718Z"
   },
   {
    "duration": 80,
    "start_time": "2023-03-09T03:56:39.902Z"
   },
   {
    "duration": 10,
    "start_time": "2023-03-09T03:56:39.984Z"
   },
   {
    "duration": 16,
    "start_time": "2023-03-09T03:56:39.995Z"
   },
   {
    "duration": 28,
    "start_time": "2023-03-09T03:56:40.013Z"
   },
   {
    "duration": 45,
    "start_time": "2023-03-09T03:56:40.043Z"
   },
   {
    "duration": 5,
    "start_time": "2023-03-09T03:56:40.089Z"
   },
   {
    "duration": 70,
    "start_time": "2023-03-09T03:56:40.095Z"
   },
   {
    "duration": 1684,
    "start_time": "2023-03-09T03:56:40.166Z"
   },
   {
    "duration": 288,
    "start_time": "2023-03-09T03:56:41.853Z"
   },
   {
    "duration": 99,
    "start_time": "2023-03-09T03:56:42.144Z"
   },
   {
    "duration": 4000,
    "start_time": "2023-03-09T03:56:42.244Z"
   },
   {
    "duration": 98,
    "start_time": "2023-03-09T03:56:46.246Z"
   },
   {
    "duration": 8,
    "start_time": "2023-03-09T03:56:46.346Z"
   },
   {
    "duration": 4,
    "start_time": "2023-03-09T03:56:46.355Z"
   },
   {
    "duration": 867520,
    "start_time": "2023-03-09T03:56:46.361Z"
   },
   {
    "duration": 478,
    "start_time": "2023-03-09T04:11:13.882Z"
   },
   {
    "duration": 7,
    "start_time": "2023-03-09T04:11:14.362Z"
   },
   {
    "duration": 16,
    "start_time": "2023-03-09T04:11:14.370Z"
   },
   {
    "duration": 107,
    "start_time": "2023-03-10T13:36:15.244Z"
   },
   {
    "duration": 4540,
    "start_time": "2023-03-10T14:19:05.369Z"
   },
   {
    "duration": 3,
    "start_time": "2023-03-10T14:19:09.911Z"
   },
   {
    "duration": 23,
    "start_time": "2023-03-10T14:19:09.916Z"
   },
   {
    "duration": 3,
    "start_time": "2023-03-10T14:19:09.944Z"
   },
   {
    "duration": 11,
    "start_time": "2023-03-10T14:19:09.949Z"
   },
   {
    "duration": 7,
    "start_time": "2023-03-10T14:19:09.961Z"
   },
   {
    "duration": 8,
    "start_time": "2023-03-10T14:19:09.970Z"
   },
   {
    "duration": 3072,
    "start_time": "2023-03-10T14:19:09.979Z"
   },
   {
    "duration": 7,
    "start_time": "2023-03-10T14:19:13.053Z"
   },
   {
    "duration": 1042,
    "start_time": "2023-03-10T14:19:13.062Z"
   },
   {
    "duration": 1967,
    "start_time": "2023-03-10T14:19:35.822Z"
   },
   {
    "duration": 1092,
    "start_time": "2023-03-10T14:20:24.603Z"
   },
   {
    "duration": 15,
    "start_time": "2023-03-10T14:20:54.161Z"
   },
   {
    "duration": 6,
    "start_time": "2023-03-10T14:21:14.261Z"
   },
   {
    "duration": 1703,
    "start_time": "2023-03-10T14:44:16.194Z"
   },
   {
    "duration": 2,
    "start_time": "2023-03-10T14:44:17.899Z"
   },
   {
    "duration": 17,
    "start_time": "2023-03-10T14:44:17.903Z"
   },
   {
    "duration": 10,
    "start_time": "2023-03-10T14:44:17.922Z"
   },
   {
    "duration": 17,
    "start_time": "2023-03-10T14:44:17.933Z"
   },
   {
    "duration": 13,
    "start_time": "2023-03-10T14:44:17.952Z"
   },
   {
    "duration": 17,
    "start_time": "2023-03-10T14:44:17.968Z"
   },
   {
    "duration": 1276,
    "start_time": "2023-03-10T14:44:17.988Z"
   },
   {
    "duration": 6,
    "start_time": "2023-03-10T14:44:19.266Z"
   },
   {
    "duration": 20,
    "start_time": "2023-03-10T14:44:19.274Z"
   },
   {
    "duration": 157,
    "start_time": "2023-03-10T14:44:19.296Z"
   },
   {
    "duration": 24,
    "start_time": "2023-03-10T14:44:19.455Z"
   },
   {
    "duration": 5,
    "start_time": "2023-03-10T14:44:19.483Z"
   },
   {
    "duration": 131,
    "start_time": "2023-03-10T14:44:19.490Z"
   },
   {
    "duration": 180,
    "start_time": "2023-03-10T14:44:19.623Z"
   },
   {
    "duration": 11,
    "start_time": "2023-03-10T14:44:19.805Z"
   },
   {
    "duration": 382,
    "start_time": "2023-03-10T14:44:19.818Z"
   },
   {
    "duration": 38,
    "start_time": "2023-03-10T14:44:20.202Z"
   },
   {
    "duration": 59,
    "start_time": "2023-03-10T14:44:20.242Z"
   },
   {
    "duration": 41,
    "start_time": "2023-03-10T14:44:20.303Z"
   },
   {
    "duration": 40,
    "start_time": "2023-03-10T14:44:20.346Z"
   },
   {
    "duration": 35,
    "start_time": "2023-03-10T14:44:20.389Z"
   },
   {
    "duration": 7,
    "start_time": "2023-03-10T14:44:20.425Z"
   },
   {
    "duration": 74,
    "start_time": "2023-03-10T14:44:20.434Z"
   },
   {
    "duration": 37,
    "start_time": "2023-03-10T14:44:20.510Z"
   },
   {
    "duration": 48,
    "start_time": "2023-03-10T14:44:20.549Z"
   },
   {
    "duration": 61,
    "start_time": "2023-03-10T14:44:20.599Z"
   },
   {
    "duration": 43,
    "start_time": "2023-03-10T14:44:20.664Z"
   },
   {
    "duration": 18,
    "start_time": "2023-03-10T14:44:20.709Z"
   },
   {
    "duration": 6,
    "start_time": "2023-03-10T14:45:15.673Z"
   },
   {
    "duration": 8,
    "start_time": "2023-03-10T14:45:37.702Z"
   },
   {
    "duration": 5,
    "start_time": "2023-03-10T14:46:46.032Z"
   },
   {
    "duration": 23,
    "start_time": "2023-03-10T15:58:42.059Z"
   },
   {
    "duration": 26,
    "start_time": "2023-03-10T15:58:42.084Z"
   },
   {
    "duration": 21,
    "start_time": "2023-03-10T15:58:42.112Z"
   },
   {
    "duration": 11,
    "start_time": "2023-03-10T15:58:42.135Z"
   },
   {
    "duration": 13,
    "start_time": "2023-03-10T15:58:42.149Z"
   },
   {
    "duration": 15,
    "start_time": "2023-03-10T15:58:42.164Z"
   },
   {
    "duration": 23,
    "start_time": "2023-03-10T15:58:42.181Z"
   },
   {
    "duration": 1039,
    "start_time": "2023-03-10T15:58:42.206Z"
   },
   {
    "duration": 4,
    "start_time": "2023-03-10T15:58:43.247Z"
   },
   {
    "duration": 33,
    "start_time": "2023-03-10T15:58:43.253Z"
   },
   {
    "duration": 168,
    "start_time": "2023-03-10T15:58:43.289Z"
   },
   {
    "duration": 22,
    "start_time": "2023-03-10T15:58:43.460Z"
   },
   {
    "duration": 12,
    "start_time": "2023-03-10T15:58:43.484Z"
   },
   {
    "duration": 118,
    "start_time": "2023-03-10T15:58:43.500Z"
   },
   {
    "duration": 163,
    "start_time": "2023-03-10T15:58:43.620Z"
   },
   {
    "duration": 10,
    "start_time": "2023-03-10T15:58:43.785Z"
   },
   {
    "duration": 349,
    "start_time": "2023-03-10T15:58:43.797Z"
   },
   {
    "duration": 52,
    "start_time": "2023-03-10T15:58:44.147Z"
   },
   {
    "duration": 41,
    "start_time": "2023-03-10T15:58:44.201Z"
   },
   {
    "duration": 58,
    "start_time": "2023-03-10T15:58:44.245Z"
   },
   {
    "duration": 33,
    "start_time": "2023-03-10T15:58:44.304Z"
   },
   {
    "duration": 54,
    "start_time": "2023-03-10T15:58:44.339Z"
   },
   {
    "duration": 12,
    "start_time": "2023-03-10T15:58:44.395Z"
   },
   {
    "duration": 58,
    "start_time": "2023-03-10T15:58:44.409Z"
   },
   {
    "duration": 39,
    "start_time": "2023-03-10T15:58:44.468Z"
   },
   {
    "duration": 30,
    "start_time": "2023-03-10T15:58:44.509Z"
   },
   {
    "duration": 48,
    "start_time": "2023-03-10T15:58:44.541Z"
   },
   {
    "duration": 32,
    "start_time": "2023-03-10T15:58:44.591Z"
   },
   {
    "duration": 17,
    "start_time": "2023-03-10T15:58:44.626Z"
   },
   {
    "duration": 10,
    "start_time": "2023-03-10T15:58:44.645Z"
   },
   {
    "duration": 509,
    "start_time": "2023-03-10T15:58:44.658Z"
   },
   {
    "duration": 9,
    "start_time": "2023-03-10T15:58:45.170Z"
   },
   {
    "duration": 166,
    "start_time": "2023-03-10T15:58:45.180Z"
   },
   {
    "duration": 14,
    "start_time": "2023-03-10T15:58:45.348Z"
   },
   {
    "duration": 72,
    "start_time": "2023-03-10T15:58:45.364Z"
   },
   {
    "duration": 5,
    "start_time": "2023-03-10T15:58:45.438Z"
   },
   {
    "duration": 8,
    "start_time": "2023-03-10T15:58:45.444Z"
   },
   {
    "duration": 24,
    "start_time": "2023-03-10T15:58:45.454Z"
   },
   {
    "duration": 6,
    "start_time": "2023-03-10T15:58:45.480Z"
   },
   {
    "duration": 18,
    "start_time": "2023-03-10T15:58:45.488Z"
   },
   {
    "duration": 17,
    "start_time": "2023-03-10T15:58:45.512Z"
   },
   {
    "duration": 82,
    "start_time": "2023-03-10T15:58:45.531Z"
   },
   {
    "duration": 14,
    "start_time": "2023-03-10T15:58:45.615Z"
   },
   {
    "duration": 14,
    "start_time": "2023-03-10T15:58:45.631Z"
   },
   {
    "duration": 37,
    "start_time": "2023-03-10T15:58:45.648Z"
   },
   {
    "duration": 32,
    "start_time": "2023-03-10T15:58:45.687Z"
   },
   {
    "duration": 14,
    "start_time": "2023-03-10T15:58:45.721Z"
   },
   {
    "duration": 19,
    "start_time": "2023-03-10T15:58:45.737Z"
   },
   {
    "duration": 123,
    "start_time": "2023-03-10T15:58:45.758Z"
   },
   {
    "duration": 38,
    "start_time": "2023-03-10T15:58:45.883Z"
   },
   {
    "duration": 120,
    "start_time": "2023-03-10T15:58:45.923Z"
   },
   {
    "duration": 4,
    "start_time": "2023-03-10T15:58:46.046Z"
   },
   {
    "duration": 48,
    "start_time": "2023-03-10T15:58:46.052Z"
   },
   {
    "duration": 46,
    "start_time": "2023-03-10T15:58:46.102Z"
   },
   {
    "duration": 97,
    "start_time": "2023-03-10T15:58:46.150Z"
   },
   {
    "duration": 30,
    "start_time": "2023-03-10T15:58:46.249Z"
   },
   {
    "duration": 104,
    "start_time": "2023-03-10T15:58:46.282Z"
   },
   {
    "duration": 100,
    "start_time": "2023-03-10T15:58:46.389Z"
   },
   {
    "duration": 14,
    "start_time": "2023-03-10T15:58:46.491Z"
   },
   {
    "duration": 15,
    "start_time": "2023-03-10T15:58:46.507Z"
   },
   {
    "duration": 35,
    "start_time": "2023-03-10T15:58:46.525Z"
   },
   {
    "duration": 375,
    "start_time": "2023-03-10T15:58:46.562Z"
   },
   {
    "duration": 20,
    "start_time": "2023-03-10T15:58:46.939Z"
   },
   {
    "duration": 46,
    "start_time": "2023-03-10T15:58:46.961Z"
   },
   {
    "duration": 42,
    "start_time": "2023-03-10T15:58:47.010Z"
   },
   {
    "duration": 430,
    "start_time": "2023-03-10T15:58:47.055Z"
   },
   {
    "duration": 20,
    "start_time": "2023-03-10T15:58:47.488Z"
   },
   {
    "duration": 34,
    "start_time": "2023-03-10T15:58:47.510Z"
   },
   {
    "duration": 51,
    "start_time": "2023-03-10T15:58:47.546Z"
   },
   {
    "duration": 271,
    "start_time": "2023-03-10T15:58:47.600Z"
   },
   {
    "duration": 16,
    "start_time": "2023-03-10T15:58:47.877Z"
   },
   {
    "duration": 59,
    "start_time": "2023-03-10T15:58:47.896Z"
   },
   {
    "duration": 48,
    "start_time": "2023-03-10T15:58:47.957Z"
   },
   {
    "duration": 9,
    "start_time": "2023-03-10T15:58:48.007Z"
   },
   {
    "duration": 18,
    "start_time": "2023-03-10T15:58:48.018Z"
   },
   {
    "duration": 49,
    "start_time": "2023-03-10T15:58:48.039Z"
   },
   {
    "duration": 30,
    "start_time": "2023-03-10T15:58:48.091Z"
   },
   {
    "duration": 64,
    "start_time": "2023-03-10T15:58:48.124Z"
   },
   {
    "duration": 31,
    "start_time": "2023-03-10T15:58:48.190Z"
   },
   {
    "duration": 56,
    "start_time": "2023-03-10T15:58:48.224Z"
   },
   {
    "duration": 39,
    "start_time": "2023-03-10T15:58:48.282Z"
   },
   {
    "duration": 17,
    "start_time": "2023-03-10T15:58:48.323Z"
   },
   {
    "duration": 128,
    "start_time": "2023-03-10T15:58:48.342Z"
   },
   {
    "duration": 13,
    "start_time": "2023-03-10T15:58:48.472Z"
   },
   {
    "duration": 298,
    "start_time": "2023-03-10T15:58:48.487Z"
   },
   {
    "duration": 762,
    "start_time": "2023-03-10T15:58:48.787Z"
   },
   {
    "duration": 14,
    "start_time": "2023-03-10T15:58:49.551Z"
   },
   {
    "duration": 117,
    "start_time": "2023-03-10T15:58:49.581Z"
   },
   {
    "duration": 5,
    "start_time": "2023-03-10T15:58:49.700Z"
   },
   {
    "duration": 14,
    "start_time": "2023-03-10T15:58:49.706Z"
   },
   {
    "duration": 18,
    "start_time": "2023-03-10T15:58:49.722Z"
   },
   {
    "duration": 27,
    "start_time": "2023-03-10T15:58:49.743Z"
   },
   {
    "duration": 150,
    "start_time": "2023-03-10T15:58:49.778Z"
   },
   {
    "duration": 393,
    "start_time": "2023-03-10T15:58:49.931Z"
   },
   {
    "duration": 218,
    "start_time": "2023-03-10T15:58:50.327Z"
   },
   {
    "duration": 72,
    "start_time": "2023-03-10T15:58:50.547Z"
   },
   {
    "duration": 12,
    "start_time": "2023-03-10T15:58:50.622Z"
   },
   {
    "duration": 36,
    "start_time": "2023-03-10T15:58:50.636Z"
   },
   {
    "duration": 9,
    "start_time": "2023-03-10T15:58:50.676Z"
   },
   {
    "duration": 93,
    "start_time": "2023-03-10T15:58:50.687Z"
   },
   {
    "duration": 6,
    "start_time": "2023-03-10T15:58:50.782Z"
   },
   {
    "duration": 87,
    "start_time": "2023-03-10T15:58:50.790Z"
   },
   {
    "duration": 1910,
    "start_time": "2023-03-10T15:58:50.880Z"
   },
   {
    "duration": 290,
    "start_time": "2023-03-10T15:58:52.794Z"
   },
   {
    "duration": 9,
    "start_time": "2023-03-10T15:58:58.167Z"
   },
   {
    "duration": 1942,
    "start_time": "2023-03-10T16:01:07.936Z"
   },
   {
    "duration": 1572,
    "start_time": "2023-03-10T16:02:49.111Z"
   },
   {
    "duration": 1719,
    "start_time": "2023-03-10T16:06:08.075Z"
   },
   {
    "duration": 1585,
    "start_time": "2023-03-10T16:06:46.212Z"
   },
   {
    "duration": 3,
    "start_time": "2023-03-10T16:06:47.799Z"
   },
   {
    "duration": 22,
    "start_time": "2023-03-10T16:06:47.803Z"
   },
   {
    "duration": 18,
    "start_time": "2023-03-10T16:06:47.827Z"
   },
   {
    "duration": 26,
    "start_time": "2023-03-10T16:06:47.848Z"
   },
   {
    "duration": 13,
    "start_time": "2023-03-10T16:06:47.876Z"
   },
   {
    "duration": 17,
    "start_time": "2023-03-10T16:06:47.891Z"
   },
   {
    "duration": 959,
    "start_time": "2023-03-10T16:06:47.910Z"
   },
   {
    "duration": 7,
    "start_time": "2023-03-10T16:06:48.872Z"
   },
   {
    "duration": 20,
    "start_time": "2023-03-10T16:06:48.881Z"
   },
   {
    "duration": 163,
    "start_time": "2023-03-10T16:06:48.903Z"
   },
   {
    "duration": 22,
    "start_time": "2023-03-10T16:06:49.068Z"
   },
   {
    "duration": 9,
    "start_time": "2023-03-10T16:06:49.092Z"
   },
   {
    "duration": 131,
    "start_time": "2023-03-10T16:06:49.104Z"
   },
   {
    "duration": 152,
    "start_time": "2023-03-10T16:06:49.237Z"
   },
   {
    "duration": 11,
    "start_time": "2023-03-10T16:06:49.391Z"
   },
   {
    "duration": 392,
    "start_time": "2023-03-10T16:06:49.404Z"
   },
   {
    "duration": 41,
    "start_time": "2023-03-10T16:06:49.798Z"
   },
   {
    "duration": 69,
    "start_time": "2023-03-10T16:06:49.841Z"
   },
   {
    "duration": 63,
    "start_time": "2023-03-10T16:06:49.912Z"
   },
   {
    "duration": 44,
    "start_time": "2023-03-10T16:06:49.977Z"
   },
   {
    "duration": 18,
    "start_time": "2023-03-10T16:06:50.023Z"
   },
   {
    "duration": 24,
    "start_time": "2023-03-10T16:06:50.043Z"
   },
   {
    "duration": 76,
    "start_time": "2023-03-10T16:06:50.069Z"
   },
   {
    "duration": 25,
    "start_time": "2023-03-10T16:06:50.147Z"
   },
   {
    "duration": 15,
    "start_time": "2023-03-10T16:06:50.174Z"
   },
   {
    "duration": 52,
    "start_time": "2023-03-10T16:06:50.191Z"
   },
   {
    "duration": 29,
    "start_time": "2023-03-10T16:06:50.245Z"
   },
   {
    "duration": 16,
    "start_time": "2023-03-10T16:06:50.275Z"
   },
   {
    "duration": 16,
    "start_time": "2023-03-10T16:06:50.293Z"
   },
   {
    "duration": 526,
    "start_time": "2023-03-10T16:06:50.311Z"
   },
   {
    "duration": 5,
    "start_time": "2023-03-10T16:06:50.839Z"
   },
   {
    "duration": 219,
    "start_time": "2023-03-10T16:06:50.846Z"
   },
   {
    "duration": 19,
    "start_time": "2023-03-10T16:06:51.067Z"
   },
   {
    "duration": 93,
    "start_time": "2023-03-10T16:06:51.089Z"
   },
   {
    "duration": 4,
    "start_time": "2023-03-10T16:06:51.184Z"
   },
   {
    "duration": 13,
    "start_time": "2023-03-10T16:06:51.190Z"
   },
   {
    "duration": 12,
    "start_time": "2023-03-10T16:06:51.204Z"
   },
   {
    "duration": 12,
    "start_time": "2023-03-10T16:06:51.218Z"
   },
   {
    "duration": 10,
    "start_time": "2023-03-10T16:06:51.231Z"
   },
   {
    "duration": 7,
    "start_time": "2023-03-10T16:06:51.247Z"
   },
   {
    "duration": 90,
    "start_time": "2023-03-10T16:06:51.256Z"
   },
   {
    "duration": 14,
    "start_time": "2023-03-10T16:06:51.348Z"
   },
   {
    "duration": 8,
    "start_time": "2023-03-10T16:06:51.378Z"
   },
   {
    "duration": 42,
    "start_time": "2023-03-10T16:06:51.387Z"
   },
   {
    "duration": 35,
    "start_time": "2023-03-10T16:06:51.431Z"
   },
   {
    "duration": 14,
    "start_time": "2023-03-10T16:06:51.468Z"
   },
   {
    "duration": 22,
    "start_time": "2023-03-10T16:06:51.484Z"
   },
   {
    "duration": 128,
    "start_time": "2023-03-10T16:06:51.508Z"
   },
   {
    "duration": 54,
    "start_time": "2023-03-10T16:06:51.639Z"
   },
   {
    "duration": 120,
    "start_time": "2023-03-10T16:06:51.695Z"
   },
   {
    "duration": 4,
    "start_time": "2023-03-10T16:06:51.817Z"
   },
   {
    "duration": 43,
    "start_time": "2023-03-10T16:06:51.823Z"
   },
   {
    "duration": 47,
    "start_time": "2023-03-10T16:06:51.867Z"
   },
   {
    "duration": 127,
    "start_time": "2023-03-10T16:06:51.916Z"
   },
   {
    "duration": 32,
    "start_time": "2023-03-10T16:06:52.045Z"
   },
   {
    "duration": 107,
    "start_time": "2023-03-10T16:06:52.080Z"
   },
   {
    "duration": 94,
    "start_time": "2023-03-10T16:06:52.189Z"
   },
   {
    "duration": 12,
    "start_time": "2023-03-10T16:06:52.285Z"
   },
   {
    "duration": 32,
    "start_time": "2023-03-10T16:06:52.299Z"
   },
   {
    "duration": 37,
    "start_time": "2023-03-10T16:06:52.333Z"
   },
   {
    "duration": 393,
    "start_time": "2023-03-10T16:06:52.372Z"
   },
   {
    "duration": 23,
    "start_time": "2023-03-10T16:06:52.767Z"
   },
   {
    "duration": 45,
    "start_time": "2023-03-10T16:06:52.792Z"
   },
   {
    "duration": 31,
    "start_time": "2023-03-10T16:06:52.839Z"
   },
   {
    "duration": 442,
    "start_time": "2023-03-10T16:06:52.872Z"
   },
   {
    "duration": 24,
    "start_time": "2023-03-10T16:06:53.316Z"
   },
   {
    "duration": 61,
    "start_time": "2023-03-10T16:06:53.342Z"
   },
   {
    "duration": 39,
    "start_time": "2023-03-10T16:06:53.404Z"
   },
   {
    "duration": 287,
    "start_time": "2023-03-10T16:06:53.445Z"
   },
   {
    "duration": 19,
    "start_time": "2023-03-10T16:06:53.733Z"
   },
   {
    "duration": 63,
    "start_time": "2023-03-10T16:06:53.754Z"
   },
   {
    "duration": 42,
    "start_time": "2023-03-10T16:06:53.819Z"
   },
   {
    "duration": 7,
    "start_time": "2023-03-10T16:06:53.877Z"
   },
   {
    "duration": 10,
    "start_time": "2023-03-10T16:06:53.887Z"
   },
   {
    "duration": 15,
    "start_time": "2023-03-10T16:06:53.899Z"
   },
   {
    "duration": 22,
    "start_time": "2023-03-10T16:06:53.915Z"
   },
   {
    "duration": 59,
    "start_time": "2023-03-10T16:06:53.939Z"
   },
   {
    "duration": 42,
    "start_time": "2023-03-10T16:06:54.003Z"
   },
   {
    "duration": 84,
    "start_time": "2023-03-10T16:06:54.047Z"
   },
   {
    "duration": 37,
    "start_time": "2023-03-10T16:06:54.133Z"
   },
   {
    "duration": 22,
    "start_time": "2023-03-10T16:06:54.171Z"
   },
   {
    "duration": 140,
    "start_time": "2023-03-10T16:06:54.195Z"
   },
   {
    "duration": 10,
    "start_time": "2023-03-10T16:06:54.337Z"
   },
   {
    "duration": 299,
    "start_time": "2023-03-10T16:06:54.349Z"
   },
   {
    "duration": 733,
    "start_time": "2023-03-10T16:06:54.650Z"
   },
   {
    "duration": 11,
    "start_time": "2023-03-10T16:06:55.385Z"
   },
   {
    "duration": 83,
    "start_time": "2023-03-10T16:06:55.398Z"
   },
   {
    "duration": 5,
    "start_time": "2023-03-10T16:06:55.482Z"
   },
   {
    "duration": 24,
    "start_time": "2023-03-10T16:06:55.488Z"
   },
   {
    "duration": 22,
    "start_time": "2023-03-10T16:06:55.514Z"
   },
   {
    "duration": 36,
    "start_time": "2023-03-10T16:06:55.538Z"
   },
   {
    "duration": 173,
    "start_time": "2023-03-10T16:06:55.575Z"
   },
   {
    "duration": 400,
    "start_time": "2023-03-10T16:06:55.749Z"
   },
   {
    "duration": 203,
    "start_time": "2023-03-10T16:06:56.150Z"
   },
   {
    "duration": 75,
    "start_time": "2023-03-10T16:06:56.354Z"
   },
   {
    "duration": 10,
    "start_time": "2023-03-10T16:06:56.431Z"
   },
   {
    "duration": 20,
    "start_time": "2023-03-10T16:06:56.443Z"
   },
   {
    "duration": 8,
    "start_time": "2023-03-10T16:06:56.478Z"
   },
   {
    "duration": 50,
    "start_time": "2023-03-10T16:06:56.488Z"
   },
   {
    "duration": 7,
    "start_time": "2023-03-10T16:06:56.540Z"
   },
   {
    "duration": 82,
    "start_time": "2023-03-10T16:06:56.549Z"
   },
   {
    "duration": 1751,
    "start_time": "2023-03-10T16:06:56.634Z"
   },
   {
    "duration": 210,
    "start_time": "2023-03-10T16:06:58.390Z"
   },
   {
    "duration": 1993,
    "start_time": "2023-03-10T16:06:58.603Z"
   },
   {
    "duration": 133,
    "start_time": "2023-03-10T16:07:03.935Z"
   },
   {
    "duration": 13,
    "start_time": "2023-03-10T16:08:19.306Z"
   },
   {
    "duration": 13,
    "start_time": "2023-03-10T16:08:53.930Z"
   },
   {
    "duration": 1778,
    "start_time": "2023-03-10T16:10:01.503Z"
   },
   {
    "duration": 1781,
    "start_time": "2023-03-10T16:11:24.898Z"
   },
   {
    "duration": 1714,
    "start_time": "2023-03-10T16:11:45.367Z"
   },
   {
    "duration": 1708,
    "start_time": "2023-03-10T16:12:04.378Z"
   },
   {
    "duration": 1395,
    "start_time": "2023-03-10T16:12:43.496Z"
   },
   {
    "duration": 13,
    "start_time": "2023-03-10T16:13:50.326Z"
   },
   {
    "duration": 9,
    "start_time": "2023-03-10T16:14:20.420Z"
   },
   {
    "duration": 7,
    "start_time": "2023-03-10T16:14:28.363Z"
   },
   {
    "duration": 7,
    "start_time": "2023-03-10T16:14:45.828Z"
   },
   {
    "duration": 8,
    "start_time": "2023-03-10T16:14:51.812Z"
   },
   {
    "duration": 7,
    "start_time": "2023-03-10T16:16:29.985Z"
   },
   {
    "duration": 6,
    "start_time": "2023-03-10T16:16:45.018Z"
   },
   {
    "duration": 15,
    "start_time": "2023-03-10T16:19:25.210Z"
   },
   {
    "duration": 20,
    "start_time": "2023-03-10T16:19:25.227Z"
   },
   {
    "duration": 13,
    "start_time": "2023-03-10T16:19:25.249Z"
   },
   {
    "duration": 8,
    "start_time": "2023-03-10T16:19:25.264Z"
   },
   {
    "duration": 8,
    "start_time": "2023-03-10T16:19:25.274Z"
   },
   {
    "duration": 5,
    "start_time": "2023-03-10T16:19:25.284Z"
   },
   {
    "duration": 20,
    "start_time": "2023-03-10T16:19:25.291Z"
   },
   {
    "duration": 848,
    "start_time": "2023-03-10T16:19:25.313Z"
   },
   {
    "duration": 4,
    "start_time": "2023-03-10T16:19:26.163Z"
   },
   {
    "duration": 6,
    "start_time": "2023-03-10T16:19:26.177Z"
   },
   {
    "duration": 144,
    "start_time": "2023-03-10T16:19:26.185Z"
   },
   {
    "duration": 15,
    "start_time": "2023-03-10T16:19:26.331Z"
   },
   {
    "duration": 9,
    "start_time": "2023-03-10T16:19:26.348Z"
   },
   {
    "duration": 108,
    "start_time": "2023-03-10T16:19:26.358Z"
   },
   {
    "duration": 157,
    "start_time": "2023-03-10T16:19:26.468Z"
   },
   {
    "duration": 9,
    "start_time": "2023-03-10T16:19:26.627Z"
   },
   {
    "duration": 378,
    "start_time": "2023-03-10T16:19:26.637Z"
   },
   {
    "duration": 35,
    "start_time": "2023-03-10T16:19:27.017Z"
   },
   {
    "duration": 64,
    "start_time": "2023-03-10T16:19:27.054Z"
   },
   {
    "duration": 64,
    "start_time": "2023-03-10T16:19:27.120Z"
   },
   {
    "duration": 35,
    "start_time": "2023-03-10T16:19:27.186Z"
   },
   {
    "duration": 35,
    "start_time": "2023-03-10T16:19:27.223Z"
   },
   {
    "duration": 21,
    "start_time": "2023-03-10T16:19:27.259Z"
   },
   {
    "duration": 74,
    "start_time": "2023-03-10T16:19:27.282Z"
   },
   {
    "duration": 55,
    "start_time": "2023-03-10T16:19:27.358Z"
   },
   {
    "duration": 28,
    "start_time": "2023-03-10T16:19:27.414Z"
   },
   {
    "duration": 78,
    "start_time": "2023-03-10T16:19:27.444Z"
   },
   {
    "duration": 31,
    "start_time": "2023-03-10T16:19:27.526Z"
   },
   {
    "duration": 15,
    "start_time": "2023-03-10T16:19:27.559Z"
   },
   {
    "duration": 9,
    "start_time": "2023-03-10T16:19:27.576Z"
   },
   {
    "duration": 474,
    "start_time": "2023-03-10T16:19:27.587Z"
   },
   {
    "duration": 5,
    "start_time": "2023-03-10T16:19:28.063Z"
   },
   {
    "duration": 158,
    "start_time": "2023-03-10T16:19:28.077Z"
   },
   {
    "duration": 14,
    "start_time": "2023-03-10T16:19:28.237Z"
   },
   {
    "duration": 78,
    "start_time": "2023-03-10T16:19:28.253Z"
   },
   {
    "duration": 4,
    "start_time": "2023-03-10T16:19:28.333Z"
   },
   {
    "duration": 15,
    "start_time": "2023-03-10T16:19:28.339Z"
   },
   {
    "duration": 10,
    "start_time": "2023-03-10T16:19:28.356Z"
   },
   {
    "duration": 15,
    "start_time": "2023-03-10T16:19:28.368Z"
   },
   {
    "duration": 25,
    "start_time": "2023-03-10T16:19:28.384Z"
   },
   {
    "duration": 16,
    "start_time": "2023-03-10T16:19:28.411Z"
   },
   {
    "duration": 83,
    "start_time": "2023-03-10T16:19:28.428Z"
   },
   {
    "duration": 14,
    "start_time": "2023-03-10T16:19:28.513Z"
   },
   {
    "duration": 16,
    "start_time": "2023-03-10T16:19:28.529Z"
   },
   {
    "duration": 27,
    "start_time": "2023-03-10T16:19:28.546Z"
   },
   {
    "duration": 29,
    "start_time": "2023-03-10T16:19:28.578Z"
   },
   {
    "duration": 16,
    "start_time": "2023-03-10T16:19:28.609Z"
   },
   {
    "duration": 8,
    "start_time": "2023-03-10T16:19:28.627Z"
   },
   {
    "duration": 115,
    "start_time": "2023-03-10T16:19:28.637Z"
   },
   {
    "duration": 49,
    "start_time": "2023-03-10T16:19:28.754Z"
   },
   {
    "duration": 114,
    "start_time": "2023-03-10T16:19:28.805Z"
   },
   {
    "duration": 4,
    "start_time": "2023-03-10T16:19:28.921Z"
   },
   {
    "duration": 39,
    "start_time": "2023-03-10T16:19:28.926Z"
   },
   {
    "duration": 43,
    "start_time": "2023-03-10T16:19:28.966Z"
   },
   {
    "duration": 103,
    "start_time": "2023-03-10T16:19:29.011Z"
   },
   {
    "duration": 25,
    "start_time": "2023-03-10T16:19:29.116Z"
   },
   {
    "duration": 114,
    "start_time": "2023-03-10T16:19:29.143Z"
   },
   {
    "duration": 86,
    "start_time": "2023-03-10T16:19:29.259Z"
   },
   {
    "duration": 13,
    "start_time": "2023-03-10T16:19:29.347Z"
   },
   {
    "duration": 22,
    "start_time": "2023-03-10T16:19:29.361Z"
   },
   {
    "duration": 27,
    "start_time": "2023-03-10T16:19:29.384Z"
   },
   {
    "duration": 368,
    "start_time": "2023-03-10T16:19:29.413Z"
   },
   {
    "duration": 20,
    "start_time": "2023-03-10T16:19:29.783Z"
   },
   {
    "duration": 33,
    "start_time": "2023-03-10T16:19:29.805Z"
   },
   {
    "duration": 41,
    "start_time": "2023-03-10T16:19:29.840Z"
   },
   {
    "duration": 434,
    "start_time": "2023-03-10T16:19:29.883Z"
   },
   {
    "duration": 21,
    "start_time": "2023-03-10T16:19:30.319Z"
   },
   {
    "duration": 193,
    "start_time": "2023-03-10T16:19:30.341Z"
   },
   {
    "duration": 64,
    "start_time": "2023-03-10T16:19:30.536Z"
   },
   {
    "duration": 252,
    "start_time": "2023-03-10T16:19:30.601Z"
   },
   {
    "duration": 23,
    "start_time": "2023-03-10T16:19:30.855Z"
   },
   {
    "duration": 153,
    "start_time": "2023-03-10T16:19:30.879Z"
   },
   {
    "duration": 58,
    "start_time": "2023-03-10T16:19:31.034Z"
   },
   {
    "duration": 33,
    "start_time": "2023-03-10T16:19:31.093Z"
   },
   {
    "duration": 49,
    "start_time": "2023-03-10T16:19:31.128Z"
   },
   {
    "duration": 38,
    "start_time": "2023-03-10T16:19:31.178Z"
   },
   {
    "duration": 80,
    "start_time": "2023-03-10T16:19:31.218Z"
   },
   {
    "duration": 48,
    "start_time": "2023-03-10T16:19:31.300Z"
   },
   {
    "duration": 43,
    "start_time": "2023-03-10T16:19:31.349Z"
   },
   {
    "duration": 48,
    "start_time": "2023-03-10T16:19:31.394Z"
   },
   {
    "duration": 39,
    "start_time": "2023-03-10T16:19:31.443Z"
   },
   {
    "duration": 39,
    "start_time": "2023-03-10T16:19:31.488Z"
   },
   {
    "duration": 152,
    "start_time": "2023-03-10T16:19:31.530Z"
   },
   {
    "duration": 10,
    "start_time": "2023-03-10T16:19:31.684Z"
   },
   {
    "duration": 287,
    "start_time": "2023-03-10T16:19:31.695Z"
   },
   {
    "duration": 724,
    "start_time": "2023-03-10T16:19:31.984Z"
   },
   {
    "duration": 14,
    "start_time": "2023-03-10T16:19:32.709Z"
   },
   {
    "duration": 80,
    "start_time": "2023-03-10T16:19:32.724Z"
   },
   {
    "duration": 6,
    "start_time": "2023-03-10T16:19:32.806Z"
   },
   {
    "duration": 16,
    "start_time": "2023-03-10T16:19:32.813Z"
   },
   {
    "duration": 21,
    "start_time": "2023-03-10T16:19:32.831Z"
   },
   {
    "duration": 22,
    "start_time": "2023-03-10T16:19:32.854Z"
   },
   {
    "duration": 166,
    "start_time": "2023-03-10T16:19:32.878Z"
   },
   {
    "duration": 386,
    "start_time": "2023-03-10T16:19:33.046Z"
   },
   {
    "duration": 206,
    "start_time": "2023-03-10T16:19:33.435Z"
   },
   {
    "duration": 75,
    "start_time": "2023-03-10T16:19:33.644Z"
   },
   {
    "duration": 11,
    "start_time": "2023-03-10T16:19:33.722Z"
   },
   {
    "duration": 28,
    "start_time": "2023-03-10T16:19:33.735Z"
   },
   {
    "duration": 16,
    "start_time": "2023-03-10T16:19:33.764Z"
   },
   {
    "duration": 48,
    "start_time": "2023-03-10T16:19:33.782Z"
   },
   {
    "duration": 6,
    "start_time": "2023-03-10T16:19:33.832Z"
   },
   {
    "duration": 94,
    "start_time": "2023-03-10T16:19:33.839Z"
   },
   {
    "duration": 1546,
    "start_time": "2023-03-10T16:19:33.935Z"
   },
   {
    "duration": 219,
    "start_time": "2023-03-10T16:19:35.485Z"
   },
   {
    "duration": 1783,
    "start_time": "2023-03-10T16:19:35.706Z"
   },
   {
    "duration": 90,
    "start_time": "2023-03-10T16:19:37.491Z"
   },
   {
    "duration": 4799,
    "start_time": "2023-03-10T16:19:37.584Z"
   },
   {
    "duration": 10,
    "start_time": "2023-03-10T16:19:42.477Z"
   },
   {
    "duration": 29,
    "start_time": "2023-03-10T16:19:42.489Z"
   },
   {
    "duration": 25,
    "start_time": "2023-03-10T16:19:42.520Z"
   },
   {
    "duration": 1921,
    "start_time": "2023-03-11T03:59:04.202Z"
   },
   {
    "duration": 3,
    "start_time": "2023-03-11T03:59:06.125Z"
   },
   {
    "duration": 9,
    "start_time": "2023-03-11T03:59:06.130Z"
   },
   {
    "duration": 18,
    "start_time": "2023-03-11T03:59:06.141Z"
   },
   {
    "duration": 10,
    "start_time": "2023-03-11T03:59:06.161Z"
   },
   {
    "duration": 35,
    "start_time": "2023-03-11T03:59:06.173Z"
   },
   {
    "duration": 14,
    "start_time": "2023-03-11T03:59:06.210Z"
   },
   {
    "duration": 1332,
    "start_time": "2023-03-11T03:59:06.226Z"
   },
   {
    "duration": 7,
    "start_time": "2023-03-11T03:59:07.560Z"
   },
   {
    "duration": 38,
    "start_time": "2023-03-11T03:59:07.571Z"
   },
   {
    "duration": 154,
    "start_time": "2023-03-11T03:59:07.612Z"
   },
   {
    "duration": 26,
    "start_time": "2023-03-11T03:59:07.768Z"
   },
   {
    "duration": 18,
    "start_time": "2023-03-11T03:59:07.796Z"
   },
   {
    "duration": 109,
    "start_time": "2023-03-11T03:59:07.816Z"
   },
   {
    "duration": 182,
    "start_time": "2023-03-11T03:59:07.927Z"
   },
   {
    "duration": 11,
    "start_time": "2023-03-11T03:59:08.111Z"
   },
   {
    "duration": 384,
    "start_time": "2023-03-11T03:59:08.124Z"
   },
   {
    "duration": 42,
    "start_time": "2023-03-11T03:59:08.510Z"
   },
   {
    "duration": 73,
    "start_time": "2023-03-11T03:59:08.554Z"
   },
   {
    "duration": 63,
    "start_time": "2023-03-11T03:59:08.629Z"
   },
   {
    "duration": 27,
    "start_time": "2023-03-11T03:59:08.697Z"
   },
   {
    "duration": 9,
    "start_time": "2023-03-11T03:59:08.726Z"
   },
   {
    "duration": 5,
    "start_time": "2023-03-11T03:59:08.736Z"
   },
   {
    "duration": 61,
    "start_time": "2023-03-11T03:59:08.743Z"
   },
   {
    "duration": 24,
    "start_time": "2023-03-11T03:59:08.806Z"
   },
   {
    "duration": 11,
    "start_time": "2023-03-11T03:59:08.831Z"
   },
   {
    "duration": 58,
    "start_time": "2023-03-11T03:59:08.844Z"
   },
   {
    "duration": 27,
    "start_time": "2023-03-11T03:59:08.908Z"
   },
   {
    "duration": 15,
    "start_time": "2023-03-11T03:59:08.937Z"
   },
   {
    "duration": 17,
    "start_time": "2023-03-11T03:59:08.954Z"
   },
   {
    "duration": 548,
    "start_time": "2023-03-11T03:59:08.982Z"
   },
   {
    "duration": 5,
    "start_time": "2023-03-11T03:59:09.532Z"
   },
   {
    "duration": 214,
    "start_time": "2023-03-11T03:59:09.538Z"
   },
   {
    "duration": 31,
    "start_time": "2023-03-11T03:59:09.754Z"
   },
   {
    "duration": 81,
    "start_time": "2023-03-11T03:59:09.786Z"
   },
   {
    "duration": 5,
    "start_time": "2023-03-11T03:59:09.869Z"
   },
   {
    "duration": 24,
    "start_time": "2023-03-11T03:59:09.885Z"
   },
   {
    "duration": 9,
    "start_time": "2023-03-11T03:59:09.911Z"
   },
   {
    "duration": 6,
    "start_time": "2023-03-11T03:59:09.922Z"
   },
   {
    "duration": 6,
    "start_time": "2023-03-11T03:59:09.929Z"
   },
   {
    "duration": 7,
    "start_time": "2023-03-11T03:59:09.937Z"
   },
   {
    "duration": 93,
    "start_time": "2023-03-11T03:59:09.946Z"
   },
   {
    "duration": 15,
    "start_time": "2023-03-11T03:59:10.041Z"
   },
   {
    "duration": 11,
    "start_time": "2023-03-11T03:59:24.942Z"
   },
   {
    "duration": 30,
    "start_time": "2023-03-11T03:59:51.000Z"
   },
   {
    "duration": 37,
    "start_time": "2023-03-11T03:59:58.495Z"
   },
   {
    "duration": 14,
    "start_time": "2023-03-11T03:59:59.100Z"
   },
   {
    "duration": 1538,
    "start_time": "2023-03-11T04:02:04.291Z"
   },
   {
    "duration": 2,
    "start_time": "2023-03-11T04:02:05.832Z"
   },
   {
    "duration": 13,
    "start_time": "2023-03-11T04:02:05.836Z"
   },
   {
    "duration": 4,
    "start_time": "2023-03-11T04:02:05.852Z"
   },
   {
    "duration": 16,
    "start_time": "2023-03-11T04:02:05.858Z"
   },
   {
    "duration": 39,
    "start_time": "2023-03-11T04:02:05.876Z"
   },
   {
    "duration": 10,
    "start_time": "2023-03-11T04:02:05.916Z"
   },
   {
    "duration": 991,
    "start_time": "2023-03-11T04:02:05.928Z"
   },
   {
    "duration": 6,
    "start_time": "2023-03-11T04:02:06.921Z"
   },
   {
    "duration": 12,
    "start_time": "2023-03-11T04:02:06.929Z"
   },
   {
    "duration": 191,
    "start_time": "2023-03-11T04:02:06.943Z"
   },
   {
    "duration": 15,
    "start_time": "2023-03-11T04:02:07.136Z"
   },
   {
    "duration": 34,
    "start_time": "2023-03-11T04:02:07.152Z"
   },
   {
    "duration": 204,
    "start_time": "2023-03-11T04:02:07.189Z"
   },
   {
    "duration": 161,
    "start_time": "2023-03-11T04:02:07.396Z"
   },
   {
    "duration": 20,
    "start_time": "2023-03-11T04:02:07.559Z"
   },
   {
    "duration": 369,
    "start_time": "2023-03-11T04:02:07.580Z"
   },
   {
    "duration": 58,
    "start_time": "2023-03-11T04:02:07.951Z"
   },
   {
    "duration": 37,
    "start_time": "2023-03-11T04:02:08.012Z"
   },
   {
    "duration": 61,
    "start_time": "2023-03-11T04:02:08.051Z"
   },
   {
    "duration": 26,
    "start_time": "2023-03-11T04:02:08.114Z"
   },
   {
    "duration": 10,
    "start_time": "2023-03-11T04:02:08.142Z"
   },
   {
    "duration": 40,
    "start_time": "2023-03-11T04:02:08.154Z"
   },
   {
    "duration": 40,
    "start_time": "2023-03-11T04:02:08.198Z"
   },
   {
    "duration": 23,
    "start_time": "2023-03-11T04:02:08.239Z"
   },
   {
    "duration": 39,
    "start_time": "2023-03-11T04:02:08.264Z"
   },
   {
    "duration": 42,
    "start_time": "2023-03-11T04:02:08.304Z"
   },
   {
    "duration": 29,
    "start_time": "2023-03-11T04:02:08.351Z"
   },
   {
    "duration": 34,
    "start_time": "2023-03-11T04:02:08.381Z"
   },
   {
    "duration": 6,
    "start_time": "2023-03-11T04:02:08.417Z"
   },
   {
    "duration": 539,
    "start_time": "2023-03-11T04:02:08.424Z"
   },
   {
    "duration": 18,
    "start_time": "2023-03-11T04:02:08.965Z"
   },
   {
    "duration": 231,
    "start_time": "2023-03-11T04:02:08.985Z"
   },
   {
    "duration": 14,
    "start_time": "2023-03-11T04:02:09.218Z"
   },
   {
    "duration": 86,
    "start_time": "2023-03-11T04:02:09.233Z"
   },
   {
    "duration": 6,
    "start_time": "2023-03-11T04:02:09.320Z"
   },
   {
    "duration": 10,
    "start_time": "2023-03-11T04:02:09.328Z"
   },
   {
    "duration": 8,
    "start_time": "2023-03-11T04:02:09.340Z"
   },
   {
    "duration": 6,
    "start_time": "2023-03-11T04:02:09.349Z"
   },
   {
    "duration": 32,
    "start_time": "2023-03-11T04:02:09.372Z"
   },
   {
    "duration": 7,
    "start_time": "2023-03-11T04:02:09.405Z"
   },
   {
    "duration": 81,
    "start_time": "2023-03-11T04:02:16.750Z"
   },
   {
    "duration": 13,
    "start_time": "2023-03-11T04:02:18.341Z"
   },
   {
    "duration": 7,
    "start_time": "2023-03-11T04:03:41.147Z"
   },
   {
    "duration": 598,
    "start_time": "2023-03-11T04:03:47.325Z"
   },
   {
    "duration": 13,
    "start_time": "2023-03-11T04:04:47.947Z"
   },
   {
    "duration": 25,
    "start_time": "2023-03-11T04:04:49.401Z"
   },
   {
    "duration": 37,
    "start_time": "2023-03-11T04:04:52.692Z"
   },
   {
    "duration": 16,
    "start_time": "2023-03-11T04:04:53.895Z"
   },
   {
    "duration": 7,
    "start_time": "2023-03-11T04:05:30.712Z"
   },
   {
    "duration": 6,
    "start_time": "2023-03-11T04:05:37.356Z"
   },
   {
    "duration": 14,
    "start_time": "2023-03-11T04:06:06.103Z"
   },
   {
    "duration": 11,
    "start_time": "2023-03-11T04:18:32.510Z"
   },
   {
    "duration": 1643,
    "start_time": "2023-03-11T04:21:21.896Z"
   },
   {
    "duration": 2,
    "start_time": "2023-03-11T04:21:23.541Z"
   },
   {
    "duration": 17,
    "start_time": "2023-03-11T04:21:23.545Z"
   },
   {
    "duration": 43,
    "start_time": "2023-03-11T04:21:23.564Z"
   },
   {
    "duration": 12,
    "start_time": "2023-03-11T04:21:23.609Z"
   },
   {
    "duration": 11,
    "start_time": "2023-03-11T04:21:23.624Z"
   },
   {
    "duration": 24,
    "start_time": "2023-03-11T04:21:23.638Z"
   },
   {
    "duration": 1051,
    "start_time": "2023-03-11T04:21:23.664Z"
   },
   {
    "duration": 7,
    "start_time": "2023-03-11T04:21:24.716Z"
   },
   {
    "duration": 14,
    "start_time": "2023-03-11T04:21:24.725Z"
   },
   {
    "duration": 201,
    "start_time": "2023-03-11T04:21:24.742Z"
   },
   {
    "duration": 48,
    "start_time": "2023-03-11T04:21:24.945Z"
   },
   {
    "duration": 11,
    "start_time": "2023-03-11T04:21:24.995Z"
   },
   {
    "duration": 174,
    "start_time": "2023-03-11T04:21:25.010Z"
   },
   {
    "duration": 167,
    "start_time": "2023-03-11T04:21:25.187Z"
   },
   {
    "duration": 10,
    "start_time": "2023-03-11T04:21:25.356Z"
   },
   {
    "duration": 400,
    "start_time": "2023-03-11T04:21:25.383Z"
   },
   {
    "duration": 48,
    "start_time": "2023-03-11T04:21:25.785Z"
   },
   {
    "duration": 46,
    "start_time": "2023-03-11T04:21:25.835Z"
   },
   {
    "duration": 60,
    "start_time": "2023-03-11T04:21:25.883Z"
   },
   {
    "duration": 28,
    "start_time": "2023-03-11T04:21:25.945Z"
   },
   {
    "duration": 36,
    "start_time": "2023-03-11T04:21:25.975Z"
   },
   {
    "duration": 5,
    "start_time": "2023-03-11T04:21:26.012Z"
   },
   {
    "duration": 36,
    "start_time": "2023-03-11T04:21:26.019Z"
   },
   {
    "duration": 38,
    "start_time": "2023-03-11T04:21:26.056Z"
   },
   {
    "duration": 13,
    "start_time": "2023-03-11T04:21:26.096Z"
   },
   {
    "duration": 36,
    "start_time": "2023-03-11T04:21:26.111Z"
   },
   {
    "duration": 20,
    "start_time": "2023-03-11T04:21:26.149Z"
   },
   {
    "duration": 11,
    "start_time": "2023-03-11T04:21:26.171Z"
   },
   {
    "duration": 27,
    "start_time": "2023-03-11T04:21:26.184Z"
   },
   {
    "duration": 573,
    "start_time": "2023-03-11T04:21:26.213Z"
   },
   {
    "duration": 13,
    "start_time": "2023-03-11T04:21:26.789Z"
   },
   {
    "duration": 214,
    "start_time": "2023-03-11T04:21:26.807Z"
   },
   {
    "duration": 15,
    "start_time": "2023-03-11T04:21:27.023Z"
   },
   {
    "duration": 85,
    "start_time": "2023-03-11T04:21:27.041Z"
   },
   {
    "duration": 4,
    "start_time": "2023-03-11T04:21:27.128Z"
   },
   {
    "duration": 6,
    "start_time": "2023-03-11T04:21:27.133Z"
   },
   {
    "duration": 7,
    "start_time": "2023-03-11T04:21:27.141Z"
   },
   {
    "duration": 5,
    "start_time": "2023-03-11T04:21:27.150Z"
   },
   {
    "duration": 29,
    "start_time": "2023-03-11T04:21:27.177Z"
   },
   {
    "duration": 6,
    "start_time": "2023-03-11T04:21:27.210Z"
   },
   {
    "duration": 73,
    "start_time": "2023-03-11T04:21:27.218Z"
   },
   {
    "duration": 16,
    "start_time": "2023-03-11T04:21:27.293Z"
   },
   {
    "duration": 20,
    "start_time": "2023-03-11T04:22:53.223Z"
   },
   {
    "duration": 13,
    "start_time": "2023-03-11T04:22:56.743Z"
   },
   {
    "duration": 15,
    "start_time": "2023-03-11T04:23:18.970Z"
   },
   {
    "duration": 107,
    "start_time": "2023-03-11T04:24:38.130Z"
   },
   {
    "duration": 5,
    "start_time": "2023-03-11T04:24:46.198Z"
   },
   {
    "duration": 135,
    "start_time": "2023-03-11T04:25:50.762Z"
   },
   {
    "duration": 4,
    "start_time": "2023-03-11T04:26:11.954Z"
   },
   {
    "duration": 4,
    "start_time": "2023-03-11T04:26:40.410Z"
   },
   {
    "duration": 33,
    "start_time": "2023-03-11T04:26:48.543Z"
   },
   {
    "duration": 27,
    "start_time": "2023-03-11T04:27:12.841Z"
   },
   {
    "duration": 91,
    "start_time": "2023-03-11T04:27:16.769Z"
   },
   {
    "duration": 25,
    "start_time": "2023-03-11T04:27:20.113Z"
   },
   {
    "duration": 20,
    "start_time": "2023-03-11T04:27:58.691Z"
   },
   {
    "duration": 97,
    "start_time": "2023-03-11T04:28:01.257Z"
   },
   {
    "duration": 12,
    "start_time": "2023-03-11T04:28:03.535Z"
   },
   {
    "duration": 9,
    "start_time": "2023-03-11T04:28:24.963Z"
   },
   {
    "duration": 23,
    "start_time": "2023-03-11T04:28:42.505Z"
   },
   {
    "duration": 445,
    "start_time": "2023-03-11T04:28:44.623Z"
   },
   {
    "duration": 36,
    "start_time": "2023-03-11T04:28:49.296Z"
   },
   {
    "duration": 34,
    "start_time": "2023-03-11T04:28:54.969Z"
   },
   {
    "duration": 27,
    "start_time": "2023-03-11T04:28:55.816Z"
   },
   {
    "duration": 548,
    "start_time": "2023-03-11T04:28:57.950Z"
   },
   {
    "duration": 34,
    "start_time": "2023-03-11T04:29:06.719Z"
   },
   {
    "duration": 41,
    "start_time": "2023-03-11T04:29:10.261Z"
   },
   {
    "duration": 33,
    "start_time": "2023-03-11T04:29:16.417Z"
   },
   {
    "duration": 260,
    "start_time": "2023-03-11T04:29:17.977Z"
   },
   {
    "duration": 24,
    "start_time": "2023-03-11T04:29:32.266Z"
   },
   {
    "duration": 17,
    "start_time": "2023-03-11T04:29:52.534Z"
   },
   {
    "duration": 52,
    "start_time": "2023-03-11T04:29:53.992Z"
   },
   {
    "duration": 42,
    "start_time": "2023-03-11T04:29:57.471Z"
   },
   {
    "duration": 5,
    "start_time": "2023-03-11T04:30:07.052Z"
   },
   {
    "duration": 7,
    "start_time": "2023-03-11T04:30:09.764Z"
   },
   {
    "duration": 16,
    "start_time": "2023-03-11T04:30:16.391Z"
   },
   {
    "duration": 17,
    "start_time": "2023-03-11T04:30:26.538Z"
   },
   {
    "duration": 56,
    "start_time": "2023-03-11T04:30:27.544Z"
   },
   {
    "duration": 29,
    "start_time": "2023-03-11T04:30:35.397Z"
   },
   {
    "duration": 46,
    "start_time": "2023-03-11T04:31:22.341Z"
   },
   {
    "duration": 36,
    "start_time": "2023-03-11T04:31:25.549Z"
   },
   {
    "duration": 16,
    "start_time": "2023-03-11T04:31:27.391Z"
   },
   {
    "duration": 130,
    "start_time": "2023-03-11T04:31:36.061Z"
   },
   {
    "duration": 12,
    "start_time": "2023-03-11T04:32:00.592Z"
   },
   {
    "duration": 294,
    "start_time": "2023-03-11T04:32:05.004Z"
   },
   {
    "duration": 732,
    "start_time": "2023-03-11T04:32:22.413Z"
   },
   {
    "duration": 15,
    "start_time": "2023-03-11T04:32:24.591Z"
   },
   {
    "duration": 72,
    "start_time": "2023-03-11T04:32:41.558Z"
   },
   {
    "duration": 4,
    "start_time": "2023-03-11T04:32:43.949Z"
   },
   {
    "duration": 4,
    "start_time": "2023-03-11T04:32:46.516Z"
   },
   {
    "duration": 9,
    "start_time": "2023-03-11T04:32:48.287Z"
   },
   {
    "duration": 5,
    "start_time": "2023-03-11T04:32:55.995Z"
   },
   {
    "duration": 135,
    "start_time": "2023-03-11T04:33:14.294Z"
   },
   {
    "duration": 3,
    "start_time": "2023-03-11T04:38:23.564Z"
   },
   {
    "duration": 4,
    "start_time": "2023-03-11T04:38:32.891Z"
   },
   {
    "duration": 67,
    "start_time": "2023-03-11T04:38:37.083Z"
   },
   {
    "duration": 126,
    "start_time": "2023-03-11T04:38:43.690Z"
   },
   {
    "duration": 13,
    "start_time": "2023-03-11T04:42:41.027Z"
   },
   {
    "duration": 63,
    "start_time": "2023-03-11T04:42:56.748Z"
   },
   {
    "duration": 12,
    "start_time": "2023-03-11T04:42:58.207Z"
   },
   {
    "duration": 15,
    "start_time": "2023-03-11T04:56:06.500Z"
   },
   {
    "duration": 23,
    "start_time": "2023-03-11T04:57:23.166Z"
   },
   {
    "duration": 15,
    "start_time": "2023-03-11T04:57:45.006Z"
   },
   {
    "duration": 19,
    "start_time": "2023-03-11T04:57:45.023Z"
   },
   {
    "duration": 16,
    "start_time": "2023-03-11T04:57:45.044Z"
   },
   {
    "duration": 4,
    "start_time": "2023-03-11T04:57:45.063Z"
   },
   {
    "duration": 39,
    "start_time": "2023-03-11T04:57:45.069Z"
   },
   {
    "duration": 9,
    "start_time": "2023-03-11T04:57:45.111Z"
   },
   {
    "duration": 7,
    "start_time": "2023-03-11T04:57:45.122Z"
   },
   {
    "duration": 970,
    "start_time": "2023-03-11T04:57:45.131Z"
   },
   {
    "duration": 4,
    "start_time": "2023-03-11T04:57:46.103Z"
   },
   {
    "duration": 9,
    "start_time": "2023-03-11T04:57:46.109Z"
   },
   {
    "duration": 168,
    "start_time": "2023-03-11T04:57:46.120Z"
   },
   {
    "duration": 20,
    "start_time": "2023-03-11T04:57:46.290Z"
   },
   {
    "duration": 9,
    "start_time": "2023-03-11T04:57:46.312Z"
   },
   {
    "duration": 109,
    "start_time": "2023-03-11T04:57:46.323Z"
   },
   {
    "duration": 195,
    "start_time": "2023-03-11T04:57:46.435Z"
   },
   {
    "duration": 10,
    "start_time": "2023-03-11T04:57:46.632Z"
   },
   {
    "duration": 410,
    "start_time": "2023-03-11T04:57:46.644Z"
   },
   {
    "duration": 50,
    "start_time": "2023-03-11T04:57:47.056Z"
   },
   {
    "duration": 40,
    "start_time": "2023-03-11T04:57:47.108Z"
   },
   {
    "duration": 66,
    "start_time": "2023-03-11T04:57:47.150Z"
   },
   {
    "duration": 18,
    "start_time": "2023-03-11T04:57:47.218Z"
   },
   {
    "duration": 14,
    "start_time": "2023-03-11T04:57:47.238Z"
   },
   {
    "duration": 31,
    "start_time": "2023-03-11T04:57:47.253Z"
   },
   {
    "duration": 43,
    "start_time": "2023-03-11T04:57:47.290Z"
   },
   {
    "duration": 24,
    "start_time": "2023-03-11T04:57:47.334Z"
   },
   {
    "duration": 21,
    "start_time": "2023-03-11T04:57:47.360Z"
   },
   {
    "duration": 47,
    "start_time": "2023-03-11T04:57:47.383Z"
   },
   {
    "duration": 22,
    "start_time": "2023-03-11T04:57:47.432Z"
   },
   {
    "duration": 26,
    "start_time": "2023-03-11T04:57:47.456Z"
   },
   {
    "duration": 23,
    "start_time": "2023-03-11T04:57:47.486Z"
   },
   {
    "duration": 563,
    "start_time": "2023-03-11T04:57:47.511Z"
   },
   {
    "duration": 4,
    "start_time": "2023-03-11T04:57:48.082Z"
   },
   {
    "duration": 183,
    "start_time": "2023-03-11T04:57:48.087Z"
   },
   {
    "duration": 17,
    "start_time": "2023-03-11T04:57:48.274Z"
   },
   {
    "duration": 63,
    "start_time": "2023-03-11T04:57:48.297Z"
   },
   {
    "duration": 23,
    "start_time": "2023-03-11T04:57:48.362Z"
   },
   {
    "duration": 23,
    "start_time": "2023-03-11T04:57:48.387Z"
   },
   {
    "duration": 6,
    "start_time": "2023-03-11T04:57:48.412Z"
   },
   {
    "duration": 7,
    "start_time": "2023-03-11T04:57:48.423Z"
   },
   {
    "duration": 8,
    "start_time": "2023-03-11T04:57:48.432Z"
   },
   {
    "duration": 9,
    "start_time": "2023-03-11T04:57:48.441Z"
   },
   {
    "duration": 81,
    "start_time": "2023-03-11T04:57:48.451Z"
   },
   {
    "duration": 13,
    "start_time": "2023-03-11T04:57:48.534Z"
   },
   {
    "duration": 35,
    "start_time": "2023-03-11T04:57:48.549Z"
   },
   {
    "duration": 25,
    "start_time": "2023-03-11T04:57:48.587Z"
   },
   {
    "duration": 108,
    "start_time": "2023-03-11T04:57:48.613Z"
   },
   {
    "duration": 128,
    "start_time": "2023-03-11T04:57:48.722Z"
   },
   {
    "duration": 4,
    "start_time": "2023-03-11T04:57:48.851Z"
   },
   {
    "duration": 71,
    "start_time": "2023-03-11T04:57:48.857Z"
   },
   {
    "duration": 51,
    "start_time": "2023-03-11T04:57:48.930Z"
   },
   {
    "duration": 111,
    "start_time": "2023-03-11T04:57:48.987Z"
   },
   {
    "duration": 25,
    "start_time": "2023-03-11T04:57:49.102Z"
   },
   {
    "duration": 26,
    "start_time": "2023-03-11T04:57:49.129Z"
   },
   {
    "duration": 106,
    "start_time": "2023-03-11T04:57:49.156Z"
   },
   {
    "duration": 25,
    "start_time": "2023-03-11T04:57:49.264Z"
   },
   {
    "duration": 18,
    "start_time": "2023-03-11T04:57:49.295Z"
   },
   {
    "duration": 23,
    "start_time": "2023-03-11T04:57:49.315Z"
   },
   {
    "duration": 458,
    "start_time": "2023-03-11T04:57:49.340Z"
   },
   {
    "duration": 20,
    "start_time": "2023-03-11T04:57:49.801Z"
   },
   {
    "duration": 27,
    "start_time": "2023-03-11T04:57:49.823Z"
   },
   {
    "duration": 46,
    "start_time": "2023-03-11T04:57:49.852Z"
   },
   {
    "duration": 488,
    "start_time": "2023-03-11T04:57:49.901Z"
   },
   {
    "duration": 35,
    "start_time": "2023-03-11T04:57:50.392Z"
   },
   {
    "duration": 55,
    "start_time": "2023-03-11T04:57:50.429Z"
   },
   {
    "duration": 72,
    "start_time": "2023-03-11T04:57:50.486Z"
   },
   {
    "duration": 300,
    "start_time": "2023-03-11T04:57:50.560Z"
   },
   {
    "duration": 35,
    "start_time": "2023-03-11T04:57:50.862Z"
   },
   {
    "duration": 50,
    "start_time": "2023-03-11T04:57:50.899Z"
   },
   {
    "duration": 40,
    "start_time": "2023-03-11T04:57:50.950Z"
   },
   {
    "duration": 30,
    "start_time": "2023-03-11T04:57:50.992Z"
   },
   {
    "duration": 16,
    "start_time": "2023-03-11T04:57:51.023Z"
   },
   {
    "duration": 15,
    "start_time": "2023-03-11T04:57:51.041Z"
   },
   {
    "duration": 30,
    "start_time": "2023-03-11T04:57:51.059Z"
   },
   {
    "duration": 45,
    "start_time": "2023-03-11T04:57:51.092Z"
   },
   {
    "duration": 39,
    "start_time": "2023-03-11T04:57:51.139Z"
   },
   {
    "duration": 60,
    "start_time": "2023-03-11T04:57:51.183Z"
   },
   {
    "duration": 45,
    "start_time": "2023-03-11T04:57:51.245Z"
   },
   {
    "duration": 20,
    "start_time": "2023-03-11T04:57:51.298Z"
   },
   {
    "duration": 124,
    "start_time": "2023-03-11T04:57:51.320Z"
   },
   {
    "duration": 9,
    "start_time": "2023-03-11T04:57:51.446Z"
   },
   {
    "duration": 296,
    "start_time": "2023-03-11T04:57:51.457Z"
   },
   {
    "duration": 780,
    "start_time": "2023-03-11T04:57:51.755Z"
   },
   {
    "duration": 13,
    "start_time": "2023-03-11T04:57:52.536Z"
   },
   {
    "duration": 111,
    "start_time": "2023-03-11T04:57:52.550Z"
   },
   {
    "duration": 4,
    "start_time": "2023-03-11T04:57:52.663Z"
   },
   {
    "duration": 34,
    "start_time": "2023-03-11T04:57:52.669Z"
   },
   {
    "duration": 8,
    "start_time": "2023-03-11T04:57:52.705Z"
   },
   {
    "duration": 9,
    "start_time": "2023-03-11T04:57:52.714Z"
   },
   {
    "duration": 67,
    "start_time": "2023-03-11T04:57:52.724Z"
   },
   {
    "duration": 129,
    "start_time": "2023-03-11T04:57:52.793Z"
   },
   {
    "duration": 13,
    "start_time": "2023-03-11T04:57:52.923Z"
   },
   {
    "duration": 62,
    "start_time": "2023-03-11T04:57:52.938Z"
   },
   {
    "duration": 14,
    "start_time": "2023-03-11T04:59:23.599Z"
   },
   {
    "duration": 15,
    "start_time": "2023-03-11T04:59:35.698Z"
   },
   {
    "duration": 12,
    "start_time": "2023-03-11T04:59:36.648Z"
   },
   {
    "duration": 16,
    "start_time": "2023-03-11T05:00:32.994Z"
   },
   {
    "duration": 11,
    "start_time": "2023-03-11T05:00:38.703Z"
   },
   {
    "duration": 5,
    "start_time": "2023-03-11T05:01:07.215Z"
   },
   {
    "duration": 142,
    "start_time": "2023-03-11T05:10:04.230Z"
   },
   {
    "duration": 11,
    "start_time": "2023-03-11T05:10:16.047Z"
   },
   {
    "duration": 17,
    "start_time": "2023-03-11T05:10:29.130Z"
   },
   {
    "duration": 56,
    "start_time": "2023-03-11T05:10:29.150Z"
   },
   {
    "duration": 29,
    "start_time": "2023-03-11T05:10:29.208Z"
   },
   {
    "duration": 26,
    "start_time": "2023-03-11T05:10:29.240Z"
   },
   {
    "duration": 62,
    "start_time": "2023-03-11T05:10:29.268Z"
   },
   {
    "duration": 26,
    "start_time": "2023-03-11T05:10:29.332Z"
   },
   {
    "duration": 56,
    "start_time": "2023-03-11T05:10:29.360Z"
   },
   {
    "duration": 944,
    "start_time": "2023-03-11T05:10:29.418Z"
   },
   {
    "duration": 22,
    "start_time": "2023-03-11T05:10:30.365Z"
   },
   {
    "duration": 48,
    "start_time": "2023-03-11T05:10:30.394Z"
   },
   {
    "duration": 240,
    "start_time": "2023-03-11T05:10:30.445Z"
   },
   {
    "duration": 51,
    "start_time": "2023-03-11T05:10:30.687Z"
   },
   {
    "duration": 30,
    "start_time": "2023-03-11T05:10:30.740Z"
   },
   {
    "duration": 227,
    "start_time": "2023-03-11T05:10:30.771Z"
   },
   {
    "duration": 156,
    "start_time": "2023-03-11T05:10:31.001Z"
   },
   {
    "duration": 19,
    "start_time": "2023-03-11T05:10:31.159Z"
   },
   {
    "duration": 385,
    "start_time": "2023-03-11T05:10:31.180Z"
   },
   {
    "duration": 52,
    "start_time": "2023-03-11T05:10:31.567Z"
   },
   {
    "duration": 45,
    "start_time": "2023-03-11T05:10:31.620Z"
   },
   {
    "duration": 72,
    "start_time": "2023-03-11T05:10:31.666Z"
   },
   {
    "duration": 51,
    "start_time": "2023-03-11T05:10:31.740Z"
   },
   {
    "duration": 41,
    "start_time": "2023-03-11T05:10:31.799Z"
   },
   {
    "duration": 23,
    "start_time": "2023-03-11T05:10:31.842Z"
   },
   {
    "duration": 83,
    "start_time": "2023-03-11T05:10:31.867Z"
   },
   {
    "duration": 55,
    "start_time": "2023-03-11T05:10:31.952Z"
   },
   {
    "duration": 26,
    "start_time": "2023-03-11T05:10:32.009Z"
   },
   {
    "duration": 76,
    "start_time": "2023-03-11T05:10:32.036Z"
   },
   {
    "duration": 17,
    "start_time": "2023-03-11T05:10:32.117Z"
   },
   {
    "duration": 45,
    "start_time": "2023-03-11T05:10:32.135Z"
   },
   {
    "duration": 11,
    "start_time": "2023-03-11T05:10:32.188Z"
   },
   {
    "duration": 503,
    "start_time": "2023-03-11T05:10:32.200Z"
   },
   {
    "duration": 4,
    "start_time": "2023-03-11T05:10:32.705Z"
   },
   {
    "duration": 170,
    "start_time": "2023-03-11T05:10:32.711Z"
   },
   {
    "duration": 21,
    "start_time": "2023-03-11T05:10:32.882Z"
   },
   {
    "duration": 83,
    "start_time": "2023-03-11T05:10:32.905Z"
   },
   {
    "duration": 5,
    "start_time": "2023-03-11T05:10:32.990Z"
   },
   {
    "duration": 14,
    "start_time": "2023-03-11T05:10:32.996Z"
   },
   {
    "duration": 8,
    "start_time": "2023-03-11T05:10:33.012Z"
   },
   {
    "duration": 10,
    "start_time": "2023-03-11T05:10:33.021Z"
   },
   {
    "duration": 7,
    "start_time": "2023-03-11T05:10:33.033Z"
   },
   {
    "duration": 8,
    "start_time": "2023-03-11T05:10:33.041Z"
   },
   {
    "duration": 75,
    "start_time": "2023-03-11T05:10:33.051Z"
   },
   {
    "duration": 13,
    "start_time": "2023-03-11T05:10:33.128Z"
   },
   {
    "duration": 52,
    "start_time": "2023-03-11T05:10:33.142Z"
   },
   {
    "duration": 14,
    "start_time": "2023-03-11T05:10:33.196Z"
   },
   {
    "duration": 120,
    "start_time": "2023-03-11T05:10:33.212Z"
   },
   {
    "duration": 137,
    "start_time": "2023-03-11T05:10:33.334Z"
   },
   {
    "duration": 11,
    "start_time": "2023-03-11T05:10:33.473Z"
   },
   {
    "duration": 45,
    "start_time": "2023-03-11T05:10:33.488Z"
   },
   {
    "duration": 27,
    "start_time": "2023-03-11T05:10:33.535Z"
   },
   {
    "duration": 105,
    "start_time": "2023-03-11T05:10:33.564Z"
   },
   {
    "duration": 39,
    "start_time": "2023-03-11T05:10:33.671Z"
   },
   {
    "duration": 21,
    "start_time": "2023-03-11T05:10:33.711Z"
   },
   {
    "duration": 105,
    "start_time": "2023-03-11T05:10:33.734Z"
   },
   {
    "duration": 12,
    "start_time": "2023-03-11T05:10:33.840Z"
   },
   {
    "duration": 39,
    "start_time": "2023-03-11T05:10:33.854Z"
   },
   {
    "duration": 29,
    "start_time": "2023-03-11T05:10:33.895Z"
   },
   {
    "duration": 366,
    "start_time": "2023-03-11T05:10:33.926Z"
   },
   {
    "duration": 31,
    "start_time": "2023-03-11T05:10:34.300Z"
   },
   {
    "duration": 32,
    "start_time": "2023-03-11T05:10:34.333Z"
   },
   {
    "duration": 40,
    "start_time": "2023-03-11T05:10:34.367Z"
   },
   {
    "duration": 593,
    "start_time": "2023-03-11T05:10:34.409Z"
   },
   {
    "duration": 35,
    "start_time": "2023-03-11T05:10:35.004Z"
   },
   {
    "duration": 54,
    "start_time": "2023-03-11T05:10:35.041Z"
   },
   {
    "duration": 47,
    "start_time": "2023-03-11T05:10:35.097Z"
   },
   {
    "duration": 278,
    "start_time": "2023-03-11T05:10:35.146Z"
   },
   {
    "duration": 15,
    "start_time": "2023-03-11T05:10:35.425Z"
   },
   {
    "duration": 73,
    "start_time": "2023-03-11T05:10:35.442Z"
   },
   {
    "duration": 32,
    "start_time": "2023-03-11T05:10:35.517Z"
   },
   {
    "duration": 29,
    "start_time": "2023-03-11T05:10:35.551Z"
   },
   {
    "duration": 11,
    "start_time": "2023-03-11T05:10:35.590Z"
   },
   {
    "duration": 17,
    "start_time": "2023-03-11T05:10:35.603Z"
   },
   {
    "duration": 28,
    "start_time": "2023-03-11T05:10:35.622Z"
   },
   {
    "duration": 52,
    "start_time": "2023-03-11T05:10:35.652Z"
   },
   {
    "duration": 36,
    "start_time": "2023-03-11T05:10:35.705Z"
   },
   {
    "duration": 43,
    "start_time": "2023-03-11T05:10:35.743Z"
   },
   {
    "duration": 47,
    "start_time": "2023-03-11T05:10:35.788Z"
   },
   {
    "duration": 16,
    "start_time": "2023-03-11T05:10:35.837Z"
   },
   {
    "duration": 127,
    "start_time": "2023-03-11T05:10:35.855Z"
   },
   {
    "duration": 15,
    "start_time": "2023-03-11T05:10:35.986Z"
   },
   {
    "duration": 297,
    "start_time": "2023-03-11T05:10:36.003Z"
   },
   {
    "duration": 802,
    "start_time": "2023-03-11T05:10:36.312Z"
   },
   {
    "duration": 14,
    "start_time": "2023-03-11T05:10:37.116Z"
   },
   {
    "duration": 104,
    "start_time": "2023-03-11T05:10:37.132Z"
   },
   {
    "duration": 5,
    "start_time": "2023-03-11T05:10:37.238Z"
   },
   {
    "duration": 6,
    "start_time": "2023-03-11T05:10:37.245Z"
   },
   {
    "duration": 34,
    "start_time": "2023-03-11T05:10:37.252Z"
   },
   {
    "duration": 29,
    "start_time": "2023-03-11T05:10:37.288Z"
   },
   {
    "duration": 73,
    "start_time": "2023-03-11T05:10:37.319Z"
   },
   {
    "duration": 135,
    "start_time": "2023-03-11T05:10:37.394Z"
   },
   {
    "duration": 14,
    "start_time": "2023-03-11T05:10:37.530Z"
   },
   {
    "duration": 78,
    "start_time": "2023-03-11T05:10:37.545Z"
   },
   {
    "duration": 18,
    "start_time": "2023-03-11T05:10:37.624Z"
   },
   {
    "duration": 9,
    "start_time": "2023-03-11T05:10:37.644Z"
   },
   {
    "duration": 1699,
    "start_time": "2023-03-11T08:42:11.627Z"
   },
   {
    "duration": 3,
    "start_time": "2023-03-11T08:42:13.329Z"
   },
   {
    "duration": 29,
    "start_time": "2023-03-11T08:42:13.334Z"
   },
   {
    "duration": 50,
    "start_time": "2023-03-11T08:42:13.365Z"
   },
   {
    "duration": 38,
    "start_time": "2023-03-11T08:42:13.417Z"
   },
   {
    "duration": 46,
    "start_time": "2023-03-11T08:42:13.456Z"
   },
   {
    "duration": 32,
    "start_time": "2023-03-11T08:42:13.504Z"
   },
   {
    "duration": 1106,
    "start_time": "2023-03-11T08:42:13.538Z"
   },
   {
    "duration": 6,
    "start_time": "2023-03-11T08:42:14.646Z"
   },
   {
    "duration": 38,
    "start_time": "2023-03-11T08:42:14.654Z"
   },
   {
    "duration": 224,
    "start_time": "2023-03-11T08:42:14.694Z"
   },
   {
    "duration": 16,
    "start_time": "2023-03-11T08:42:14.920Z"
   },
   {
    "duration": 6,
    "start_time": "2023-03-11T08:42:14.938Z"
   },
   {
    "duration": 157,
    "start_time": "2023-03-11T08:42:14.945Z"
   },
   {
    "duration": 159,
    "start_time": "2023-03-11T08:42:15.108Z"
   },
   {
    "duration": 29,
    "start_time": "2023-03-11T08:42:15.269Z"
   },
   {
    "duration": 387,
    "start_time": "2023-03-11T08:42:15.306Z"
   },
   {
    "duration": 44,
    "start_time": "2023-03-11T08:42:15.695Z"
   },
   {
    "duration": 45,
    "start_time": "2023-03-11T08:42:15.741Z"
   },
   {
    "duration": 71,
    "start_time": "2023-03-11T08:42:15.788Z"
   },
   {
    "duration": 57,
    "start_time": "2023-03-11T08:42:15.861Z"
   },
   {
    "duration": 18,
    "start_time": "2023-03-11T08:42:15.920Z"
   },
   {
    "duration": 15,
    "start_time": "2023-03-11T08:42:15.940Z"
   },
   {
    "duration": 54,
    "start_time": "2023-03-11T08:42:15.957Z"
   },
   {
    "duration": 19,
    "start_time": "2023-03-11T08:42:16.013Z"
   },
   {
    "duration": 15,
    "start_time": "2023-03-11T08:42:16.033Z"
   },
   {
    "duration": 68,
    "start_time": "2023-03-11T08:42:16.049Z"
   },
   {
    "duration": 20,
    "start_time": "2023-03-11T08:42:16.122Z"
   },
   {
    "duration": 8,
    "start_time": "2023-03-11T08:42:16.144Z"
   },
   {
    "duration": 19,
    "start_time": "2023-03-11T08:42:16.179Z"
   },
   {
    "duration": 614,
    "start_time": "2023-03-11T08:42:16.201Z"
   },
   {
    "duration": 5,
    "start_time": "2023-03-11T08:42:16.817Z"
   },
   {
    "duration": 270,
    "start_time": "2023-03-11T08:42:16.824Z"
   },
   {
    "duration": 15,
    "start_time": "2023-03-11T08:42:17.101Z"
   },
   {
    "duration": 112,
    "start_time": "2023-03-11T08:42:17.119Z"
   },
   {
    "duration": 5,
    "start_time": "2023-03-11T08:42:17.233Z"
   },
   {
    "duration": 10,
    "start_time": "2023-03-11T08:42:17.240Z"
   },
   {
    "duration": 43,
    "start_time": "2023-03-11T08:42:17.252Z"
   },
   {
    "duration": 6,
    "start_time": "2023-03-11T08:42:17.300Z"
   },
   {
    "duration": 9,
    "start_time": "2023-03-11T08:42:17.308Z"
   },
   {
    "duration": 10,
    "start_time": "2023-03-11T08:42:17.319Z"
   },
   {
    "duration": 81,
    "start_time": "2023-03-11T08:42:17.331Z"
   },
   {
    "duration": 14,
    "start_time": "2023-03-11T08:42:17.415Z"
   },
   {
    "duration": 22,
    "start_time": "2023-03-11T08:42:17.432Z"
   },
   {
    "duration": 30,
    "start_time": "2023-03-11T08:42:17.456Z"
   },
   {
    "duration": 131,
    "start_time": "2023-03-11T08:42:17.490Z"
   },
   {
    "duration": 126,
    "start_time": "2023-03-11T08:42:17.623Z"
   },
   {
    "duration": 4,
    "start_time": "2023-03-11T08:42:17.750Z"
   },
   {
    "duration": 56,
    "start_time": "2023-03-11T08:42:17.756Z"
   },
   {
    "duration": 28,
    "start_time": "2023-03-11T08:42:17.814Z"
   },
   {
    "duration": 110,
    "start_time": "2023-03-11T08:42:17.844Z"
   },
   {
    "duration": 50,
    "start_time": "2023-03-11T08:42:17.955Z"
   },
   {
    "duration": 34,
    "start_time": "2023-03-11T08:42:18.008Z"
   },
   {
    "duration": 200,
    "start_time": "2023-03-11T08:42:18.045Z"
   },
   {
    "duration": 13,
    "start_time": "2023-03-11T08:42:18.246Z"
   },
   {
    "duration": 26,
    "start_time": "2023-03-11T08:42:18.273Z"
   },
   {
    "duration": 33,
    "start_time": "2023-03-11T08:42:18.303Z"
   },
   {
    "duration": 396,
    "start_time": "2023-03-11T08:42:18.338Z"
   },
   {
    "duration": 22,
    "start_time": "2023-03-11T08:42:18.735Z"
   },
   {
    "duration": 52,
    "start_time": "2023-03-11T08:42:18.760Z"
   },
   {
    "duration": 22,
    "start_time": "2023-03-11T08:42:18.813Z"
   },
   {
    "duration": 522,
    "start_time": "2023-03-11T08:42:18.837Z"
   },
   {
    "duration": 53,
    "start_time": "2023-03-11T08:42:19.361Z"
   },
   {
    "duration": 36,
    "start_time": "2023-03-11T08:42:19.416Z"
   },
   {
    "duration": 52,
    "start_time": "2023-03-11T08:42:19.454Z"
   },
   {
    "duration": 316,
    "start_time": "2023-03-11T08:42:19.512Z"
   },
   {
    "duration": 17,
    "start_time": "2023-03-11T08:42:19.830Z"
   },
   {
    "duration": 69,
    "start_time": "2023-03-11T08:42:19.848Z"
   },
   {
    "duration": 35,
    "start_time": "2023-03-11T08:42:19.919Z"
   },
   {
    "duration": 38,
    "start_time": "2023-03-11T08:42:19.956Z"
   },
   {
    "duration": 19,
    "start_time": "2023-03-11T08:42:19.999Z"
   },
   {
    "duration": 18,
    "start_time": "2023-03-11T08:42:20.020Z"
   },
   {
    "duration": 20,
    "start_time": "2023-03-11T08:42:20.039Z"
   },
   {
    "duration": 54,
    "start_time": "2023-03-11T08:42:20.061Z"
   },
   {
    "duration": 32,
    "start_time": "2023-03-11T08:42:20.117Z"
   },
   {
    "duration": 59,
    "start_time": "2023-03-11T08:42:20.151Z"
   },
   {
    "duration": 36,
    "start_time": "2023-03-11T08:42:20.212Z"
   },
   {
    "duration": 45,
    "start_time": "2023-03-11T08:42:20.250Z"
   },
   {
    "duration": 150,
    "start_time": "2023-03-11T08:42:20.304Z"
   },
   {
    "duration": 27,
    "start_time": "2023-03-11T08:42:20.456Z"
   },
   {
    "duration": 375,
    "start_time": "2023-03-11T08:42:20.486Z"
   },
   {
    "duration": 853,
    "start_time": "2023-03-11T08:42:20.867Z"
   },
   {
    "duration": 13,
    "start_time": "2023-03-11T08:42:21.723Z"
   },
   {
    "duration": 100,
    "start_time": "2023-03-11T08:42:21.738Z"
   },
   {
    "duration": 5,
    "start_time": "2023-03-11T08:42:21.840Z"
   },
   {
    "duration": 59,
    "start_time": "2023-03-11T08:42:21.847Z"
   },
   {
    "duration": 23,
    "start_time": "2023-03-11T08:42:21.908Z"
   },
   {
    "duration": 10,
    "start_time": "2023-03-11T08:42:21.933Z"
   },
   {
    "duration": 95,
    "start_time": "2023-03-11T08:42:21.946Z"
   },
   {
    "duration": 161,
    "start_time": "2023-03-11T08:42:22.043Z"
   },
   {
    "duration": 13,
    "start_time": "2023-03-11T08:42:22.207Z"
   },
   {
    "duration": 84,
    "start_time": "2023-03-11T08:42:22.222Z"
   },
   {
    "duration": 32,
    "start_time": "2023-03-11T08:42:22.319Z"
   },
   {
    "duration": 12,
    "start_time": "2023-03-11T08:42:22.353Z"
   },
   {
    "duration": 168,
    "start_time": "2023-03-11T08:42:22.368Z"
   },
   {
    "duration": 5,
    "start_time": "2023-03-11T08:42:47.522Z"
   },
   {
    "duration": 4,
    "start_time": "2023-03-11T08:43:13.428Z"
   },
   {
    "duration": 14,
    "start_time": "2023-03-11T08:43:19.568Z"
   },
   {
    "duration": 16,
    "start_time": "2023-03-11T08:43:28.705Z"
   },
   {
    "duration": 8,
    "start_time": "2023-03-11T08:43:28.723Z"
   },
   {
    "duration": 6,
    "start_time": "2023-03-11T08:43:28.732Z"
   },
   {
    "duration": 4,
    "start_time": "2023-03-11T08:43:28.740Z"
   },
   {
    "duration": 11,
    "start_time": "2023-03-11T08:43:28.746Z"
   },
   {
    "duration": 7,
    "start_time": "2023-03-11T08:43:28.759Z"
   },
   {
    "duration": 21,
    "start_time": "2023-03-11T08:43:28.768Z"
   },
   {
    "duration": 1005,
    "start_time": "2023-03-11T08:43:28.791Z"
   },
   {
    "duration": 10,
    "start_time": "2023-03-11T08:43:29.798Z"
   },
   {
    "duration": 13,
    "start_time": "2023-03-11T08:43:29.811Z"
   },
   {
    "duration": 180,
    "start_time": "2023-03-11T08:43:29.826Z"
   },
   {
    "duration": 17,
    "start_time": "2023-03-11T08:43:30.008Z"
   },
   {
    "duration": 31,
    "start_time": "2023-03-11T08:43:30.028Z"
   },
   {
    "duration": 120,
    "start_time": "2023-03-11T08:43:30.061Z"
   },
   {
    "duration": 190,
    "start_time": "2023-03-11T08:43:30.183Z"
   },
   {
    "duration": 28,
    "start_time": "2023-03-11T08:43:30.375Z"
   },
   {
    "duration": 545,
    "start_time": "2023-03-11T08:43:30.406Z"
   },
   {
    "duration": 55,
    "start_time": "2023-03-11T08:43:30.953Z"
   },
   {
    "duration": 42,
    "start_time": "2023-03-11T08:43:31.010Z"
   },
   {
    "duration": 96,
    "start_time": "2023-03-11T08:43:31.054Z"
   },
   {
    "duration": 70,
    "start_time": "2023-03-11T08:43:31.152Z"
   },
   {
    "duration": 38,
    "start_time": "2023-03-11T08:43:31.224Z"
   },
   {
    "duration": 59,
    "start_time": "2023-03-11T08:43:31.264Z"
   },
   {
    "duration": 83,
    "start_time": "2023-03-11T08:43:31.325Z"
   },
   {
    "duration": 53,
    "start_time": "2023-03-11T08:43:31.410Z"
   },
   {
    "duration": 57,
    "start_time": "2023-03-11T08:43:31.465Z"
   },
   {
    "duration": 64,
    "start_time": "2023-03-11T08:43:31.524Z"
   },
   {
    "duration": 43,
    "start_time": "2023-03-11T08:43:31.597Z"
   },
   {
    "duration": 17,
    "start_time": "2023-03-11T08:43:31.641Z"
   },
   {
    "duration": 44,
    "start_time": "2023-03-11T08:43:31.660Z"
   },
   {
    "duration": 530,
    "start_time": "2023-03-11T08:43:31.706Z"
   },
   {
    "duration": 5,
    "start_time": "2023-03-11T08:43:32.238Z"
   },
   {
    "duration": 210,
    "start_time": "2023-03-11T08:43:32.245Z"
   },
   {
    "duration": 26,
    "start_time": "2023-03-11T08:43:32.457Z"
   },
   {
    "duration": 90,
    "start_time": "2023-03-11T08:43:32.496Z"
   },
   {
    "duration": 11,
    "start_time": "2023-03-11T08:43:32.598Z"
   },
   {
    "duration": 19,
    "start_time": "2023-03-11T08:43:32.611Z"
   },
   {
    "duration": 12,
    "start_time": "2023-03-11T08:43:32.632Z"
   },
   {
    "duration": 26,
    "start_time": "2023-03-11T08:43:32.645Z"
   },
   {
    "duration": 22,
    "start_time": "2023-03-11T08:43:32.673Z"
   },
   {
    "duration": 26,
    "start_time": "2023-03-11T08:43:32.697Z"
   },
   {
    "duration": 102,
    "start_time": "2023-03-11T08:43:32.725Z"
   },
   {
    "duration": 14,
    "start_time": "2023-03-11T08:43:32.829Z"
   },
   {
    "duration": 23,
    "start_time": "2023-03-11T08:43:32.845Z"
   },
   {
    "duration": 31,
    "start_time": "2023-03-11T08:43:32.870Z"
   },
   {
    "duration": 145,
    "start_time": "2023-03-11T08:43:32.904Z"
   },
   {
    "duration": 146,
    "start_time": "2023-03-11T08:43:33.051Z"
   },
   {
    "duration": 3,
    "start_time": "2023-03-11T08:43:33.206Z"
   },
   {
    "duration": 28,
    "start_time": "2023-03-11T08:43:33.211Z"
   },
   {
    "duration": 64,
    "start_time": "2023-03-11T08:43:33.240Z"
   },
   {
    "duration": 115,
    "start_time": "2023-03-11T08:43:33.306Z"
   },
   {
    "duration": 31,
    "start_time": "2023-03-11T08:43:33.423Z"
   },
   {
    "duration": 41,
    "start_time": "2023-03-11T08:43:33.456Z"
   },
   {
    "duration": 103,
    "start_time": "2023-03-11T08:43:33.507Z"
   },
   {
    "duration": 16,
    "start_time": "2023-03-11T08:43:33.612Z"
   },
   {
    "duration": 17,
    "start_time": "2023-03-11T08:43:33.630Z"
   },
   {
    "duration": 48,
    "start_time": "2023-03-11T08:43:33.650Z"
   },
   {
    "duration": 538,
    "start_time": "2023-03-11T08:43:33.700Z"
   },
   {
    "duration": 23,
    "start_time": "2023-03-11T08:43:34.241Z"
   },
   {
    "duration": 55,
    "start_time": "2023-03-11T08:43:34.266Z"
   },
   {
    "duration": 36,
    "start_time": "2023-03-11T08:43:34.324Z"
   },
   {
    "duration": 504,
    "start_time": "2023-03-11T08:43:34.362Z"
   },
   {
    "duration": 40,
    "start_time": "2023-03-11T08:43:34.873Z"
   },
   {
    "duration": 45,
    "start_time": "2023-03-11T08:43:34.915Z"
   },
   {
    "duration": 39,
    "start_time": "2023-03-11T08:43:34.962Z"
   },
   {
    "duration": 299,
    "start_time": "2023-03-11T08:43:35.003Z"
   },
   {
    "duration": 19,
    "start_time": "2023-03-11T08:43:35.306Z"
   },
   {
    "duration": 79,
    "start_time": "2023-03-11T08:43:35.326Z"
   },
   {
    "duration": 36,
    "start_time": "2023-03-11T08:43:35.407Z"
   },
   {
    "duration": 11,
    "start_time": "2023-03-11T08:43:35.445Z"
   },
   {
    "duration": 26,
    "start_time": "2023-03-11T08:43:35.458Z"
   },
   {
    "duration": 32,
    "start_time": "2023-03-11T08:43:35.486Z"
   },
   {
    "duration": 35,
    "start_time": "2023-03-11T08:43:35.520Z"
   },
   {
    "duration": 57,
    "start_time": "2023-03-11T08:43:35.557Z"
   },
   {
    "duration": 32,
    "start_time": "2023-03-11T08:43:35.616Z"
   },
   {
    "duration": 62,
    "start_time": "2023-03-11T08:43:35.650Z"
   },
   {
    "duration": 54,
    "start_time": "2023-03-11T08:43:35.714Z"
   },
   {
    "duration": 56,
    "start_time": "2023-03-11T08:43:35.770Z"
   },
   {
    "duration": 147,
    "start_time": "2023-03-11T08:43:35.828Z"
   },
   {
    "duration": 17,
    "start_time": "2023-03-11T08:43:35.977Z"
   },
   {
    "duration": 316,
    "start_time": "2023-03-11T08:43:35.996Z"
   },
   {
    "duration": 876,
    "start_time": "2023-03-11T08:43:36.318Z"
   },
   {
    "duration": 15,
    "start_time": "2023-03-11T08:43:37.201Z"
   },
   {
    "duration": 78,
    "start_time": "2023-03-11T08:43:37.217Z"
   },
   {
    "duration": 10,
    "start_time": "2023-03-11T08:43:37.298Z"
   },
   {
    "duration": 10,
    "start_time": "2023-03-11T08:43:37.310Z"
   },
   {
    "duration": 12,
    "start_time": "2023-03-11T08:43:37.322Z"
   },
   {
    "duration": 9,
    "start_time": "2023-03-11T08:43:37.336Z"
   },
   {
    "duration": 85,
    "start_time": "2023-03-11T08:43:37.347Z"
   },
   {
    "duration": 138,
    "start_time": "2023-03-11T08:43:37.434Z"
   },
   {
    "duration": 26,
    "start_time": "2023-03-11T08:43:37.582Z"
   },
   {
    "duration": 57,
    "start_time": "2023-03-11T08:43:37.610Z"
   },
   {
    "duration": 37,
    "start_time": "2023-03-11T08:43:37.669Z"
   },
   {
    "duration": 10,
    "start_time": "2023-03-11T08:43:37.709Z"
   },
   {
    "duration": 6,
    "start_time": "2023-03-11T08:44:15.247Z"
   },
   {
    "duration": 13,
    "start_time": "2023-03-11T08:44:28.142Z"
   },
   {
    "duration": 23,
    "start_time": "2023-03-11T08:45:54.310Z"
   },
   {
    "duration": 15,
    "start_time": "2023-03-11T08:48:09.601Z"
   },
   {
    "duration": 107,
    "start_time": "2023-03-11T08:48:14.764Z"
   },
   {
    "duration": 7,
    "start_time": "2023-03-11T08:48:20.428Z"
   },
   {
    "duration": 147,
    "start_time": "2023-03-11T08:48:39.554Z"
   },
   {
    "duration": 17,
    "start_time": "2023-03-11T08:50:25.250Z"
   },
   {
    "duration": 6,
    "start_time": "2023-03-11T08:51:53.320Z"
   },
   {
    "duration": 11,
    "start_time": "2023-03-11T08:55:45.557Z"
   },
   {
    "duration": 16,
    "start_time": "2023-03-11T08:57:06.921Z"
   },
   {
    "duration": 11,
    "start_time": "2023-03-11T08:57:29.804Z"
   },
   {
    "duration": 3,
    "start_time": "2023-03-11T08:57:38.333Z"
   },
   {
    "duration": 22,
    "start_time": "2023-03-11T08:57:56.898Z"
   },
   {
    "duration": 5,
    "start_time": "2023-03-11T08:58:13.091Z"
   },
   {
    "duration": 94,
    "start_time": "2023-03-11T08:59:12.870Z"
   },
   {
    "duration": 42,
    "start_time": "2023-03-11T08:59:24.544Z"
   },
   {
    "duration": 1692,
    "start_time": "2023-03-11T09:00:09.344Z"
   },
   {
    "duration": 3,
    "start_time": "2023-03-11T09:00:11.038Z"
   },
   {
    "duration": 11,
    "start_time": "2023-03-11T09:00:11.042Z"
   },
   {
    "duration": 13,
    "start_time": "2023-03-11T09:00:11.055Z"
   },
   {
    "duration": 66,
    "start_time": "2023-03-11T09:00:11.070Z"
   },
   {
    "duration": 14,
    "start_time": "2023-03-11T09:00:11.138Z"
   },
   {
    "duration": 11,
    "start_time": "2023-03-11T09:00:11.154Z"
   },
   {
    "duration": 24,
    "start_time": "2023-03-11T09:00:11.167Z"
   },
   {
    "duration": 998,
    "start_time": "2023-03-11T09:00:11.193Z"
   },
   {
    "duration": 6,
    "start_time": "2023-03-11T09:00:12.194Z"
   },
   {
    "duration": 8,
    "start_time": "2023-03-11T09:00:12.202Z"
   },
   {
    "duration": 176,
    "start_time": "2023-03-11T09:00:12.212Z"
   },
   {
    "duration": 18,
    "start_time": "2023-03-11T09:00:12.390Z"
   },
   {
    "duration": 8,
    "start_time": "2023-03-11T09:00:12.410Z"
   },
   {
    "duration": 193,
    "start_time": "2023-03-11T09:00:12.420Z"
   },
   {
    "duration": 177,
    "start_time": "2023-03-11T09:00:12.615Z"
   },
   {
    "duration": 11,
    "start_time": "2023-03-11T09:00:12.794Z"
   },
   {
    "duration": 359,
    "start_time": "2023-03-11T09:00:12.807Z"
   },
   {
    "duration": 44,
    "start_time": "2023-03-11T09:00:13.179Z"
   },
   {
    "duration": 55,
    "start_time": "2023-03-11T09:00:13.225Z"
   },
   {
    "duration": 41,
    "start_time": "2023-03-11T09:00:13.284Z"
   },
   {
    "duration": 21,
    "start_time": "2023-03-11T09:00:13.327Z"
   },
   {
    "duration": 29,
    "start_time": "2023-03-11T09:00:13.351Z"
   },
   {
    "duration": 11,
    "start_time": "2023-03-11T09:00:13.382Z"
   },
   {
    "duration": 53,
    "start_time": "2023-03-11T09:00:13.396Z"
   },
   {
    "duration": 41,
    "start_time": "2023-03-11T09:00:13.450Z"
   },
   {
    "duration": 9,
    "start_time": "2023-03-11T09:00:13.495Z"
   },
   {
    "duration": 38,
    "start_time": "2023-03-11T09:00:13.508Z"
   },
   {
    "duration": 50,
    "start_time": "2023-03-11T09:00:13.548Z"
   },
   {
    "duration": 11,
    "start_time": "2023-03-11T09:00:13.601Z"
   },
   {
    "duration": 7,
    "start_time": "2023-03-11T09:00:13.615Z"
   },
   {
    "duration": 603,
    "start_time": "2023-03-11T09:00:13.624Z"
   },
   {
    "duration": 5,
    "start_time": "2023-03-11T09:00:14.229Z"
   },
   {
    "duration": 251,
    "start_time": "2023-03-11T09:00:14.236Z"
   },
   {
    "duration": 14,
    "start_time": "2023-03-11T09:00:14.489Z"
   },
   {
    "duration": 88,
    "start_time": "2023-03-11T09:00:14.506Z"
   },
   {
    "duration": 5,
    "start_time": "2023-03-11T09:00:14.596Z"
   },
   {
    "duration": 11,
    "start_time": "2023-03-11T09:00:14.603Z"
   },
   {
    "duration": 7,
    "start_time": "2023-03-11T09:00:14.616Z"
   },
   {
    "duration": 8,
    "start_time": "2023-03-11T09:00:14.624Z"
   },
   {
    "duration": 8,
    "start_time": "2023-03-11T09:00:14.634Z"
   },
   {
    "duration": 41,
    "start_time": "2023-03-11T09:00:14.643Z"
   },
   {
    "duration": 72,
    "start_time": "2023-03-11T09:00:14.686Z"
   },
   {
    "duration": 23,
    "start_time": "2023-03-11T09:00:14.760Z"
   },
   {
    "duration": 22,
    "start_time": "2023-03-11T09:00:14.793Z"
   },
   {
    "duration": 13,
    "start_time": "2023-03-11T09:00:14.817Z"
   },
   {
    "duration": 113,
    "start_time": "2023-03-11T09:00:14.832Z"
   },
   {
    "duration": 116,
    "start_time": "2023-03-11T09:00:14.947Z"
   },
   {
    "duration": 13,
    "start_time": "2023-03-11T09:00:15.072Z"
   },
   {
    "duration": 44,
    "start_time": "2023-03-11T09:00:15.090Z"
   },
   {
    "duration": 32,
    "start_time": "2023-03-11T09:00:15.136Z"
   },
   {
    "duration": 96,
    "start_time": "2023-03-11T09:00:15.169Z"
   },
   {
    "duration": 35,
    "start_time": "2023-03-11T09:00:15.267Z"
   },
   {
    "duration": 27,
    "start_time": "2023-03-11T09:00:15.305Z"
   },
   {
    "duration": 201,
    "start_time": "2023-03-11T09:00:15.333Z"
   },
   {
    "duration": 14,
    "start_time": "2023-03-11T09:00:15.536Z"
   },
   {
    "duration": 27,
    "start_time": "2023-03-11T09:00:15.551Z"
   },
   {
    "duration": 36,
    "start_time": "2023-03-11T09:00:15.580Z"
   },
   {
    "duration": 372,
    "start_time": "2023-03-11T09:00:15.618Z"
   },
   {
    "duration": 20,
    "start_time": "2023-03-11T09:00:15.992Z"
   },
   {
    "duration": 23,
    "start_time": "2023-03-11T09:00:16.014Z"
   },
   {
    "duration": 48,
    "start_time": "2023-03-11T09:00:16.039Z"
   },
   {
    "duration": 896,
    "start_time": "2023-03-11T09:00:16.089Z"
   },
   {
    "duration": 22,
    "start_time": "2023-03-11T09:00:16.992Z"
   },
   {
    "duration": 92,
    "start_time": "2023-03-11T09:00:17.016Z"
   },
   {
    "duration": 85,
    "start_time": "2023-03-11T09:00:17.110Z"
   },
   {
    "duration": 786,
    "start_time": "2023-03-11T09:00:17.197Z"
   },
   {
    "duration": 25,
    "start_time": "2023-03-11T09:00:17.988Z"
   },
   {
    "duration": 105,
    "start_time": "2023-03-11T09:00:18.015Z"
   },
   {
    "duration": 43,
    "start_time": "2023-03-11T09:00:18.174Z"
   },
   {
    "duration": 67,
    "start_time": "2023-03-11T09:00:18.219Z"
   },
   {
    "duration": 15,
    "start_time": "2023-03-11T09:00:18.289Z"
   },
   {
    "duration": 73,
    "start_time": "2023-03-11T09:00:18.305Z"
   },
   {
    "duration": 37,
    "start_time": "2023-03-11T09:00:18.388Z"
   },
   {
    "duration": 78,
    "start_time": "2023-03-11T09:00:18.427Z"
   },
   {
    "duration": 39,
    "start_time": "2023-03-11T09:00:18.507Z"
   },
   {
    "duration": 68,
    "start_time": "2023-03-11T09:00:18.548Z"
   },
   {
    "duration": 33,
    "start_time": "2023-03-11T09:00:18.618Z"
   },
   {
    "duration": 40,
    "start_time": "2023-03-11T09:00:18.654Z"
   },
   {
    "duration": 143,
    "start_time": "2023-03-11T09:00:18.696Z"
   },
   {
    "duration": 12,
    "start_time": "2023-03-11T09:00:18.841Z"
   },
   {
    "duration": 340,
    "start_time": "2023-03-11T09:00:18.875Z"
   },
   {
    "duration": 771,
    "start_time": "2023-03-11T09:00:19.218Z"
   },
   {
    "duration": 14,
    "start_time": "2023-03-11T09:00:19.991Z"
   },
   {
    "duration": 92,
    "start_time": "2023-03-11T09:00:20.006Z"
   },
   {
    "duration": 13,
    "start_time": "2023-03-11T09:00:20.100Z"
   },
   {
    "duration": 15,
    "start_time": "2023-03-11T09:00:20.115Z"
   },
   {
    "duration": 23,
    "start_time": "2023-03-11T09:00:20.133Z"
   },
   {
    "duration": 37,
    "start_time": "2023-03-11T09:00:20.158Z"
   },
   {
    "duration": 57,
    "start_time": "2023-03-11T09:00:20.197Z"
   },
   {
    "duration": 131,
    "start_time": "2023-03-11T09:00:20.256Z"
   },
   {
    "duration": 15,
    "start_time": "2023-03-11T09:00:20.391Z"
   },
   {
    "duration": 261,
    "start_time": "2023-03-11T09:00:20.407Z"
   },
   {
    "duration": 0,
    "start_time": "2023-03-11T09:00:20.672Z"
   },
   {
    "duration": 0,
    "start_time": "2023-03-11T09:00:20.673Z"
   },
   {
    "duration": 0,
    "start_time": "2023-03-11T09:00:20.674Z"
   },
   {
    "duration": 0,
    "start_time": "2023-03-11T09:00:20.675Z"
   },
   {
    "duration": 0,
    "start_time": "2023-03-11T09:00:20.676Z"
   },
   {
    "duration": 0,
    "start_time": "2023-03-11T09:00:20.677Z"
   },
   {
    "duration": 0,
    "start_time": "2023-03-11T09:00:20.677Z"
   },
   {
    "duration": 0,
    "start_time": "2023-03-11T09:00:20.678Z"
   },
   {
    "duration": 0,
    "start_time": "2023-03-11T09:00:20.679Z"
   },
   {
    "duration": 0,
    "start_time": "2023-03-11T09:00:20.679Z"
   },
   {
    "duration": 0,
    "start_time": "2023-03-11T09:00:20.680Z"
   },
   {
    "duration": 0,
    "start_time": "2023-03-11T09:00:20.681Z"
   },
   {
    "duration": 0,
    "start_time": "2023-03-11T09:00:20.681Z"
   },
   {
    "duration": 0,
    "start_time": "2023-03-11T09:00:20.684Z"
   },
   {
    "duration": 0,
    "start_time": "2023-03-11T09:00:20.685Z"
   },
   {
    "duration": 0,
    "start_time": "2023-03-11T09:00:20.686Z"
   },
   {
    "duration": 0,
    "start_time": "2023-03-11T09:00:20.687Z"
   },
   {
    "duration": 0,
    "start_time": "2023-03-11T09:00:20.689Z"
   },
   {
    "duration": 0,
    "start_time": "2023-03-11T09:00:20.690Z"
   },
   {
    "duration": 0,
    "start_time": "2023-03-11T09:00:20.692Z"
   },
   {
    "duration": 0,
    "start_time": "2023-03-11T09:00:20.694Z"
   },
   {
    "duration": 0,
    "start_time": "2023-03-11T09:00:20.696Z"
   },
   {
    "duration": 0,
    "start_time": "2023-03-11T09:00:20.699Z"
   },
   {
    "duration": 20,
    "start_time": "2023-03-11T09:00:43.607Z"
   },
   {
    "duration": 31,
    "start_time": "2023-03-11T09:00:48.995Z"
   },
   {
    "duration": 9,
    "start_time": "2023-03-11T09:01:08.093Z"
   },
   {
    "duration": 5,
    "start_time": "2023-03-11T09:01:09.135Z"
   },
   {
    "duration": 21,
    "start_time": "2023-03-11T09:01:19.948Z"
   },
   {
    "duration": 15,
    "start_time": "2023-03-11T09:01:22.848Z"
   },
   {
    "duration": 34,
    "start_time": "2023-03-11T09:01:43.858Z"
   },
   {
    "duration": 91,
    "start_time": "2023-03-11T09:01:45.028Z"
   },
   {
    "duration": 6,
    "start_time": "2023-03-11T09:01:46.025Z"
   },
   {
    "duration": 5,
    "start_time": "2023-03-11T09:01:50.613Z"
   },
   {
    "duration": 22,
    "start_time": "2023-03-11T09:01:54.941Z"
   },
   {
    "duration": 4,
    "start_time": "2023-03-11T09:02:40.696Z"
   },
   {
    "duration": 20,
    "start_time": "2023-03-11T09:02:59.899Z"
   },
   {
    "duration": 6,
    "start_time": "2023-03-11T09:03:17.397Z"
   },
   {
    "duration": 5,
    "start_time": "2023-03-11T09:03:40.239Z"
   },
   {
    "duration": 20,
    "start_time": "2023-03-11T09:03:46.298Z"
   },
   {
    "duration": 16,
    "start_time": "2023-03-11T09:04:18.763Z"
   },
   {
    "duration": 35,
    "start_time": "2023-03-11T09:06:09.611Z"
   },
   {
    "duration": 3,
    "start_time": "2023-03-11T09:06:14.465Z"
   },
   {
    "duration": 31,
    "start_time": "2023-03-11T09:18:17.555Z"
   },
   {
    "duration": 57,
    "start_time": "2023-03-11T09:22:21.353Z"
   },
   {
    "duration": 42,
    "start_time": "2023-03-11T09:22:23.668Z"
   },
   {
    "duration": 23,
    "start_time": "2023-03-11T09:22:48.223Z"
   },
   {
    "duration": 47,
    "start_time": "2023-03-11T09:23:35.518Z"
   },
   {
    "duration": 5,
    "start_time": "2023-03-11T09:23:37.343Z"
   },
   {
    "duration": 34,
    "start_time": "2023-03-11T09:23:41.304Z"
   },
   {
    "duration": 35,
    "start_time": "2023-03-11T09:24:36.608Z"
   },
   {
    "duration": 33,
    "start_time": "2023-03-11T09:25:16.316Z"
   },
   {
    "duration": 50,
    "start_time": "2023-03-11T09:26:16.162Z"
   },
   {
    "duration": 186,
    "start_time": "2023-03-11T09:26:37.525Z"
   },
   {
    "duration": 39,
    "start_time": "2023-03-11T09:28:42.867Z"
   },
   {
    "duration": 32,
    "start_time": "2023-03-11T09:30:23.358Z"
   },
   {
    "duration": 32,
    "start_time": "2023-03-11T09:30:25.128Z"
   },
   {
    "duration": 49,
    "start_time": "2023-03-11T09:32:29.466Z"
   },
   {
    "duration": 1201,
    "start_time": "2023-03-11T09:32:50.226Z"
   },
   {
    "duration": 86,
    "start_time": "2023-03-11T09:33:49.144Z"
   },
   {
    "duration": 1039,
    "start_time": "2023-03-11T09:33:59.380Z"
   },
   {
    "duration": 0,
    "start_time": "2023-03-11T09:34:22.442Z"
   },
   {
    "duration": 75,
    "start_time": "2023-03-11T09:34:24.463Z"
   },
   {
    "duration": 28,
    "start_time": "2023-03-11T09:34:30.999Z"
   },
   {
    "duration": 10,
    "start_time": "2023-03-11T09:35:14.543Z"
   },
   {
    "duration": 11,
    "start_time": "2023-03-11T09:39:19.514Z"
   },
   {
    "duration": 26,
    "start_time": "2023-03-11T09:41:37.950Z"
   },
   {
    "duration": 15,
    "start_time": "2023-03-11T09:41:57.503Z"
   },
   {
    "duration": 14,
    "start_time": "2023-03-11T09:42:08.007Z"
   },
   {
    "duration": 14,
    "start_time": "2023-03-11T09:43:34.523Z"
   },
   {
    "duration": 999,
    "start_time": "2023-03-11T09:43:58.540Z"
   },
   {
    "duration": 158,
    "start_time": "2023-03-11T09:44:34.263Z"
   },
   {
    "duration": 17,
    "start_time": "2023-03-11T09:47:28.942Z"
   },
   {
    "duration": 5,
    "start_time": "2023-03-11T09:48:25.102Z"
   },
   {
    "duration": 15,
    "start_time": "2023-03-11T09:48:35.421Z"
   },
   {
    "duration": 24,
    "start_time": "2023-03-11T09:48:47.668Z"
   },
   {
    "duration": 2634,
    "start_time": "2023-03-11T09:49:19.860Z"
   },
   {
    "duration": 52,
    "start_time": "2023-03-11T09:49:51.028Z"
   },
   {
    "duration": 1136,
    "start_time": "2023-03-11T09:50:17.658Z"
   },
   {
    "duration": 1692,
    "start_time": "2023-03-11T09:50:46.340Z"
   },
   {
    "duration": 2,
    "start_time": "2023-03-11T09:50:48.035Z"
   },
   {
    "duration": 12,
    "start_time": "2023-03-11T09:50:48.039Z"
   },
   {
    "duration": 11,
    "start_time": "2023-03-11T09:50:48.053Z"
   },
   {
    "duration": 35,
    "start_time": "2023-03-11T09:50:48.068Z"
   },
   {
    "duration": 12,
    "start_time": "2023-03-11T09:50:48.106Z"
   },
   {
    "duration": 18,
    "start_time": "2023-03-11T09:50:48.119Z"
   },
   {
    "duration": 22,
    "start_time": "2023-03-11T09:50:48.139Z"
   },
   {
    "duration": 1539,
    "start_time": "2023-03-11T09:50:48.163Z"
   },
   {
    "duration": 8,
    "start_time": "2023-03-11T09:50:49.704Z"
   },
   {
    "duration": 13,
    "start_time": "2023-03-11T09:50:49.714Z"
   },
   {
    "duration": 206,
    "start_time": "2023-03-11T09:50:49.730Z"
   },
   {
    "duration": 16,
    "start_time": "2023-03-11T09:50:49.939Z"
   },
   {
    "duration": 15,
    "start_time": "2023-03-11T09:50:49.959Z"
   },
   {
    "duration": 123,
    "start_time": "2023-03-11T09:50:49.978Z"
   },
   {
    "duration": 176,
    "start_time": "2023-03-11T09:50:50.103Z"
   },
   {
    "duration": 13,
    "start_time": "2023-03-11T09:50:50.281Z"
   },
   {
    "duration": 500,
    "start_time": "2023-03-11T09:50:50.295Z"
   },
   {
    "duration": 46,
    "start_time": "2023-03-11T09:50:50.806Z"
   },
   {
    "duration": 62,
    "start_time": "2023-03-11T09:50:50.854Z"
   },
   {
    "duration": 58,
    "start_time": "2023-03-11T09:50:50.918Z"
   },
   {
    "duration": 38,
    "start_time": "2023-03-11T09:50:50.983Z"
   },
   {
    "duration": 22,
    "start_time": "2023-03-11T09:50:51.023Z"
   },
   {
    "duration": 16,
    "start_time": "2023-03-11T09:50:51.047Z"
   },
   {
    "duration": 61,
    "start_time": "2023-03-11T09:50:51.065Z"
   },
   {
    "duration": 27,
    "start_time": "2023-03-11T09:50:51.128Z"
   },
   {
    "duration": 26,
    "start_time": "2023-03-11T09:50:51.157Z"
   },
   {
    "duration": 49,
    "start_time": "2023-03-11T09:50:51.185Z"
   },
   {
    "duration": 21,
    "start_time": "2023-03-11T09:50:51.237Z"
   },
   {
    "duration": 17,
    "start_time": "2023-03-11T09:50:51.275Z"
   },
   {
    "duration": 24,
    "start_time": "2023-03-11T09:50:51.294Z"
   },
   {
    "duration": 674,
    "start_time": "2023-03-11T09:50:51.320Z"
   },
   {
    "duration": 5,
    "start_time": "2023-03-11T09:50:51.995Z"
   },
   {
    "duration": 252,
    "start_time": "2023-03-11T09:50:52.002Z"
   },
   {
    "duration": 25,
    "start_time": "2023-03-11T09:50:52.256Z"
   },
   {
    "duration": 126,
    "start_time": "2023-03-11T09:50:52.285Z"
   },
   {
    "duration": 4,
    "start_time": "2023-03-11T09:50:52.414Z"
   },
   {
    "duration": 40,
    "start_time": "2023-03-11T09:50:52.421Z"
   },
   {
    "duration": 53,
    "start_time": "2023-03-11T09:50:52.463Z"
   },
   {
    "duration": 9,
    "start_time": "2023-03-11T09:50:52.518Z"
   },
   {
    "duration": 5,
    "start_time": "2023-03-11T09:50:52.533Z"
   },
   {
    "duration": 26,
    "start_time": "2023-03-11T09:50:52.539Z"
   },
   {
    "duration": 82,
    "start_time": "2023-03-11T09:50:52.567Z"
   },
   {
    "duration": 14,
    "start_time": "2023-03-11T09:50:52.651Z"
   },
   {
    "duration": 28,
    "start_time": "2023-03-11T09:50:52.686Z"
   },
   {
    "duration": 17,
    "start_time": "2023-03-11T09:50:52.716Z"
   },
   {
    "duration": 121,
    "start_time": "2023-03-11T09:50:52.735Z"
   },
   {
    "duration": 158,
    "start_time": "2023-03-11T09:50:52.859Z"
   },
   {
    "duration": 4,
    "start_time": "2023-03-11T09:50:53.019Z"
   },
   {
    "duration": 70,
    "start_time": "2023-03-11T09:50:53.024Z"
   },
   {
    "duration": 37,
    "start_time": "2023-03-11T09:50:53.099Z"
   },
   {
    "duration": 105,
    "start_time": "2023-03-11T09:50:53.138Z"
   },
   {
    "duration": 37,
    "start_time": "2023-03-11T09:50:53.245Z"
   },
   {
    "duration": 32,
    "start_time": "2023-03-11T09:50:53.284Z"
   },
   {
    "duration": 194,
    "start_time": "2023-03-11T09:50:53.319Z"
   },
   {
    "duration": 13,
    "start_time": "2023-03-11T09:50:53.515Z"
   },
   {
    "duration": 16,
    "start_time": "2023-03-11T09:50:53.530Z"
   },
   {
    "duration": 52,
    "start_time": "2023-03-11T09:50:53.548Z"
   },
   {
    "duration": 396,
    "start_time": "2023-03-11T09:50:53.606Z"
   },
   {
    "duration": 31,
    "start_time": "2023-03-11T09:50:54.009Z"
   },
   {
    "duration": 23,
    "start_time": "2023-03-11T09:50:54.042Z"
   },
   {
    "duration": 41,
    "start_time": "2023-03-11T09:50:54.073Z"
   },
   {
    "duration": 522,
    "start_time": "2023-03-11T09:50:54.115Z"
   },
   {
    "duration": 20,
    "start_time": "2023-03-11T09:50:54.639Z"
   },
   {
    "duration": 61,
    "start_time": "2023-03-11T09:50:54.661Z"
   },
   {
    "duration": 58,
    "start_time": "2023-03-11T09:50:54.725Z"
   },
   {
    "duration": 274,
    "start_time": "2023-03-11T09:50:54.789Z"
   },
   {
    "duration": 32,
    "start_time": "2023-03-11T09:50:55.065Z"
   },
   {
    "duration": 67,
    "start_time": "2023-03-11T09:50:55.104Z"
   },
   {
    "duration": 49,
    "start_time": "2023-03-11T09:50:55.177Z"
   },
   {
    "duration": 10,
    "start_time": "2023-03-11T09:50:55.228Z"
   },
   {
    "duration": 9,
    "start_time": "2023-03-11T09:50:55.240Z"
   },
   {
    "duration": 50,
    "start_time": "2023-03-11T09:50:55.251Z"
   },
   {
    "duration": 26,
    "start_time": "2023-03-11T09:50:55.302Z"
   },
   {
    "duration": 33,
    "start_time": "2023-03-11T09:50:55.330Z"
   },
   {
    "duration": 44,
    "start_time": "2023-03-11T09:50:55.380Z"
   },
   {
    "duration": 34,
    "start_time": "2023-03-11T09:50:55.425Z"
   },
   {
    "duration": 51,
    "start_time": "2023-03-11T09:50:55.474Z"
   },
   {
    "duration": 20,
    "start_time": "2023-03-11T09:50:55.527Z"
   },
   {
    "duration": 140,
    "start_time": "2023-03-11T09:50:55.548Z"
   },
   {
    "duration": 15,
    "start_time": "2023-03-11T09:50:55.690Z"
   },
   {
    "duration": 317,
    "start_time": "2023-03-11T09:50:55.708Z"
   },
   {
    "duration": 866,
    "start_time": "2023-03-11T09:50:56.027Z"
   },
   {
    "duration": 16,
    "start_time": "2023-03-11T09:50:56.896Z"
   },
   {
    "duration": 89,
    "start_time": "2023-03-11T09:50:56.913Z"
   },
   {
    "duration": 9,
    "start_time": "2023-03-11T09:50:57.006Z"
   },
   {
    "duration": 7,
    "start_time": "2023-03-11T09:50:57.017Z"
   },
   {
    "duration": 10,
    "start_time": "2023-03-11T09:50:57.026Z"
   },
   {
    "duration": 10,
    "start_time": "2023-03-11T09:50:57.038Z"
   },
   {
    "duration": 79,
    "start_time": "2023-03-11T09:50:57.050Z"
   },
   {
    "duration": 137,
    "start_time": "2023-03-11T09:50:57.131Z"
   },
   {
    "duration": 38,
    "start_time": "2023-03-11T09:50:57.270Z"
   },
   {
    "duration": 57,
    "start_time": "2023-03-11T09:50:57.311Z"
   },
   {
    "duration": 29,
    "start_time": "2023-03-11T09:50:57.371Z"
   },
   {
    "duration": 26,
    "start_time": "2023-03-11T09:50:57.404Z"
   },
   {
    "duration": 11,
    "start_time": "2023-03-11T09:50:57.432Z"
   },
   {
    "duration": 26,
    "start_time": "2023-03-11T09:50:57.445Z"
   },
   {
    "duration": 23,
    "start_time": "2023-03-11T09:50:57.472Z"
   },
   {
    "duration": 131,
    "start_time": "2023-03-11T09:50:57.503Z"
   },
   {
    "duration": 5,
    "start_time": "2023-03-11T09:50:57.637Z"
   },
   {
    "duration": 2876,
    "start_time": "2023-03-11T09:51:18.894Z"
   },
   {
    "duration": 2753,
    "start_time": "2023-03-11T09:52:04.384Z"
   },
   {
    "duration": 2742,
    "start_time": "2023-03-11T09:52:27.328Z"
   },
   {
    "duration": 1776,
    "start_time": "2023-03-11T09:53:18.266Z"
   },
   {
    "duration": 3,
    "start_time": "2023-03-11T09:53:20.044Z"
   },
   {
    "duration": 27,
    "start_time": "2023-03-11T09:53:20.049Z"
   },
   {
    "duration": 16,
    "start_time": "2023-03-11T09:53:20.078Z"
   },
   {
    "duration": 7,
    "start_time": "2023-03-11T09:53:20.097Z"
   },
   {
    "duration": 16,
    "start_time": "2023-03-11T09:53:20.105Z"
   },
   {
    "duration": 13,
    "start_time": "2023-03-11T09:53:20.123Z"
   },
   {
    "duration": 17,
    "start_time": "2023-03-11T09:53:20.138Z"
   },
   {
    "duration": 1390,
    "start_time": "2023-03-11T09:53:20.157Z"
   },
   {
    "duration": 5,
    "start_time": "2023-03-11T09:53:21.551Z"
   },
   {
    "duration": 13,
    "start_time": "2023-03-11T09:53:21.558Z"
   },
   {
    "duration": 210,
    "start_time": "2023-03-11T09:53:21.573Z"
   },
   {
    "duration": 19,
    "start_time": "2023-03-11T09:53:21.786Z"
   },
   {
    "duration": 14,
    "start_time": "2023-03-11T09:53:21.807Z"
   },
   {
    "duration": 112,
    "start_time": "2023-03-11T09:53:21.822Z"
   },
   {
    "duration": 175,
    "start_time": "2023-03-11T09:53:21.936Z"
   },
   {
    "duration": 11,
    "start_time": "2023-03-11T09:53:22.113Z"
   },
   {
    "duration": 401,
    "start_time": "2023-03-11T09:53:22.126Z"
   },
   {
    "duration": 74,
    "start_time": "2023-03-11T09:53:22.529Z"
   },
   {
    "duration": 61,
    "start_time": "2023-03-11T09:53:22.604Z"
   },
   {
    "duration": 54,
    "start_time": "2023-03-11T09:53:22.667Z"
   },
   {
    "duration": 42,
    "start_time": "2023-03-11T09:53:22.723Z"
   },
   {
    "duration": 27,
    "start_time": "2023-03-11T09:53:22.767Z"
   },
   {
    "duration": 18,
    "start_time": "2023-03-11T09:53:22.796Z"
   },
   {
    "duration": 68,
    "start_time": "2023-03-11T09:53:22.816Z"
   },
   {
    "duration": 48,
    "start_time": "2023-03-11T09:53:22.886Z"
   },
   {
    "duration": 13,
    "start_time": "2023-03-11T09:53:22.937Z"
   },
   {
    "duration": 75,
    "start_time": "2023-03-11T09:53:22.957Z"
   },
   {
    "duration": 47,
    "start_time": "2023-03-11T09:53:23.036Z"
   },
   {
    "duration": 24,
    "start_time": "2023-03-11T09:53:23.089Z"
   },
   {
    "duration": 6,
    "start_time": "2023-03-11T09:53:23.115Z"
   },
   {
    "duration": 612,
    "start_time": "2023-03-11T09:53:23.123Z"
   },
   {
    "duration": 4,
    "start_time": "2023-03-11T09:53:23.737Z"
   },
   {
    "duration": 248,
    "start_time": "2023-03-11T09:53:23.743Z"
   },
   {
    "duration": 16,
    "start_time": "2023-03-11T09:53:23.993Z"
   },
   {
    "duration": 87,
    "start_time": "2023-03-11T09:53:24.011Z"
   },
   {
    "duration": 5,
    "start_time": "2023-03-11T09:53:24.100Z"
   },
   {
    "duration": 7,
    "start_time": "2023-03-11T09:53:24.107Z"
   },
   {
    "duration": 14,
    "start_time": "2023-03-11T09:53:24.116Z"
   },
   {
    "duration": 6,
    "start_time": "2023-03-11T09:53:24.132Z"
   },
   {
    "duration": 38,
    "start_time": "2023-03-11T09:53:24.140Z"
   },
   {
    "duration": 10,
    "start_time": "2023-03-11T09:53:24.181Z"
   },
   {
    "duration": 82,
    "start_time": "2023-03-11T09:53:24.194Z"
   },
   {
    "duration": 25,
    "start_time": "2023-03-11T09:53:24.278Z"
   },
   {
    "duration": 33,
    "start_time": "2023-03-11T09:53:24.306Z"
   },
   {
    "duration": 19,
    "start_time": "2023-03-11T09:53:24.343Z"
   },
   {
    "duration": 111,
    "start_time": "2023-03-11T09:53:24.377Z"
   },
   {
    "duration": 142,
    "start_time": "2023-03-11T09:53:24.491Z"
   },
   {
    "duration": 4,
    "start_time": "2023-03-11T09:53:24.634Z"
   },
   {
    "duration": 43,
    "start_time": "2023-03-11T09:53:24.639Z"
   },
   {
    "duration": 32,
    "start_time": "2023-03-11T09:53:24.692Z"
   },
   {
    "duration": 93,
    "start_time": "2023-03-11T09:53:24.726Z"
   },
   {
    "duration": 28,
    "start_time": "2023-03-11T09:53:24.822Z"
   },
   {
    "duration": 45,
    "start_time": "2023-03-11T09:53:24.852Z"
   },
   {
    "duration": 190,
    "start_time": "2023-03-11T09:53:24.900Z"
   },
   {
    "duration": 13,
    "start_time": "2023-03-11T09:53:25.092Z"
   },
   {
    "duration": 13,
    "start_time": "2023-03-11T09:53:25.106Z"
   },
   {
    "duration": 23,
    "start_time": "2023-03-11T09:53:25.121Z"
   },
   {
    "duration": 379,
    "start_time": "2023-03-11T09:53:25.146Z"
   },
   {
    "duration": 21,
    "start_time": "2023-03-11T09:53:25.527Z"
   },
   {
    "duration": 40,
    "start_time": "2023-03-11T09:53:25.550Z"
   },
   {
    "duration": 25,
    "start_time": "2023-03-11T09:53:25.592Z"
   },
   {
    "duration": 488,
    "start_time": "2023-03-11T09:53:25.619Z"
   },
   {
    "duration": 22,
    "start_time": "2023-03-11T09:53:26.108Z"
   },
   {
    "duration": 61,
    "start_time": "2023-03-11T09:53:26.131Z"
   },
   {
    "duration": 33,
    "start_time": "2023-03-11T09:53:26.194Z"
   },
   {
    "duration": 285,
    "start_time": "2023-03-11T09:53:26.228Z"
   },
   {
    "duration": 19,
    "start_time": "2023-03-11T09:53:26.515Z"
   },
   {
    "duration": 70,
    "start_time": "2023-03-11T09:53:26.535Z"
   },
   {
    "duration": 44,
    "start_time": "2023-03-11T09:53:26.608Z"
   },
   {
    "duration": 13,
    "start_time": "2023-03-11T09:53:26.674Z"
   },
   {
    "duration": 15,
    "start_time": "2023-03-11T09:53:26.688Z"
   },
   {
    "duration": 16,
    "start_time": "2023-03-11T09:53:26.704Z"
   },
   {
    "duration": 21,
    "start_time": "2023-03-11T09:53:26.721Z"
   },
   {
    "duration": 61,
    "start_time": "2023-03-11T09:53:26.744Z"
   },
   {
    "duration": 31,
    "start_time": "2023-03-11T09:53:26.807Z"
   },
   {
    "duration": 66,
    "start_time": "2023-03-11T09:53:26.840Z"
   },
   {
    "duration": 31,
    "start_time": "2023-03-11T09:53:26.908Z"
   },
   {
    "duration": 28,
    "start_time": "2023-03-11T09:53:26.941Z"
   },
   {
    "duration": 136,
    "start_time": "2023-03-11T09:53:26.970Z"
   },
   {
    "duration": 10,
    "start_time": "2023-03-11T09:53:27.108Z"
   },
   {
    "duration": 308,
    "start_time": "2023-03-11T09:53:27.123Z"
   },
   {
    "duration": 796,
    "start_time": "2023-03-11T09:53:27.433Z"
   },
   {
    "duration": 14,
    "start_time": "2023-03-11T09:53:28.231Z"
   },
   {
    "duration": 92,
    "start_time": "2023-03-11T09:53:28.247Z"
   },
   {
    "duration": 5,
    "start_time": "2023-03-11T09:53:28.341Z"
   },
   {
    "duration": 10,
    "start_time": "2023-03-11T09:53:28.347Z"
   },
   {
    "duration": 45,
    "start_time": "2023-03-11T09:53:28.358Z"
   },
   {
    "duration": 9,
    "start_time": "2023-03-11T09:53:28.405Z"
   },
   {
    "duration": 57,
    "start_time": "2023-03-11T09:53:28.415Z"
   },
   {
    "duration": 144,
    "start_time": "2023-03-11T09:53:28.474Z"
   },
   {
    "duration": 14,
    "start_time": "2023-03-11T09:53:28.620Z"
   },
   {
    "duration": 72,
    "start_time": "2023-03-11T09:53:28.636Z"
   },
   {
    "duration": 25,
    "start_time": "2023-03-11T09:53:28.710Z"
   },
   {
    "duration": 10,
    "start_time": "2023-03-11T09:53:28.737Z"
   },
   {
    "duration": 26,
    "start_time": "2023-03-11T09:53:28.749Z"
   },
   {
    "duration": 37,
    "start_time": "2023-03-11T09:53:28.778Z"
   },
   {
    "duration": 15,
    "start_time": "2023-03-11T09:53:28.817Z"
   },
   {
    "duration": 87,
    "start_time": "2023-03-11T09:53:28.834Z"
   },
   {
    "duration": 6,
    "start_time": "2023-03-11T09:53:28.924Z"
   },
   {
    "duration": 1159,
    "start_time": "2023-03-11T09:54:00.039Z"
   },
   {
    "duration": 1652,
    "start_time": "2023-03-11T09:55:36.306Z"
   },
   {
    "duration": 3,
    "start_time": "2023-03-11T09:55:37.960Z"
   },
   {
    "duration": 29,
    "start_time": "2023-03-11T09:55:37.965Z"
   },
   {
    "duration": 10,
    "start_time": "2023-03-11T09:55:37.997Z"
   },
   {
    "duration": 6,
    "start_time": "2023-03-11T09:55:38.010Z"
   },
   {
    "duration": 10,
    "start_time": "2023-03-11T09:55:38.018Z"
   },
   {
    "duration": 12,
    "start_time": "2023-03-11T09:55:38.031Z"
   },
   {
    "duration": 18,
    "start_time": "2023-03-11T09:55:38.045Z"
   },
   {
    "duration": 1394,
    "start_time": "2023-03-11T09:55:38.065Z"
   },
   {
    "duration": 6,
    "start_time": "2023-03-11T09:55:39.460Z"
   },
   {
    "duration": 24,
    "start_time": "2023-03-11T09:55:39.468Z"
   },
   {
    "duration": 177,
    "start_time": "2023-03-11T09:55:39.494Z"
   },
   {
    "duration": 28,
    "start_time": "2023-03-11T09:55:39.673Z"
   },
   {
    "duration": 5,
    "start_time": "2023-03-11T09:55:39.705Z"
   },
   {
    "duration": 178,
    "start_time": "2023-03-11T09:55:39.712Z"
   },
   {
    "duration": 159,
    "start_time": "2023-03-11T09:55:39.892Z"
   },
   {
    "duration": 31,
    "start_time": "2023-03-11T09:55:40.053Z"
   },
   {
    "duration": 374,
    "start_time": "2023-03-11T09:55:40.090Z"
   },
   {
    "duration": 46,
    "start_time": "2023-03-11T09:55:40.466Z"
   },
   {
    "duration": 73,
    "start_time": "2023-03-11T09:55:40.515Z"
   },
   {
    "duration": 53,
    "start_time": "2023-03-11T09:55:40.599Z"
   },
   {
    "duration": 34,
    "start_time": "2023-03-11T09:55:40.656Z"
   },
   {
    "duration": 36,
    "start_time": "2023-03-11T09:55:40.694Z"
   },
   {
    "duration": 17,
    "start_time": "2023-03-11T09:55:40.732Z"
   },
   {
    "duration": 61,
    "start_time": "2023-03-11T09:55:40.752Z"
   },
   {
    "duration": 20,
    "start_time": "2023-03-11T09:55:40.815Z"
   },
   {
    "duration": 27,
    "start_time": "2023-03-11T09:55:40.837Z"
   },
   {
    "duration": 47,
    "start_time": "2023-03-11T09:55:40.866Z"
   },
   {
    "duration": 25,
    "start_time": "2023-03-11T09:55:40.914Z"
   },
   {
    "duration": 12,
    "start_time": "2023-03-11T09:55:40.940Z"
   },
   {
    "duration": 27,
    "start_time": "2023-03-11T09:55:40.953Z"
   },
   {
    "duration": 549,
    "start_time": "2023-03-11T09:55:40.982Z"
   },
   {
    "duration": 5,
    "start_time": "2023-03-11T09:55:41.533Z"
   },
   {
    "duration": 247,
    "start_time": "2023-03-11T09:55:41.540Z"
   },
   {
    "duration": 15,
    "start_time": "2023-03-11T09:55:41.790Z"
   },
   {
    "duration": 86,
    "start_time": "2023-03-11T09:55:41.806Z"
   },
   {
    "duration": 5,
    "start_time": "2023-03-11T09:55:41.894Z"
   },
   {
    "duration": 11,
    "start_time": "2023-03-11T09:55:41.900Z"
   },
   {
    "duration": 10,
    "start_time": "2023-03-11T09:55:41.913Z"
   },
   {
    "duration": 6,
    "start_time": "2023-03-11T09:55:41.924Z"
   },
   {
    "duration": 5,
    "start_time": "2023-03-11T09:55:41.934Z"
   },
   {
    "duration": 39,
    "start_time": "2023-03-11T09:55:41.941Z"
   },
   {
    "duration": 79,
    "start_time": "2023-03-11T09:55:41.988Z"
   },
   {
    "duration": 22,
    "start_time": "2023-03-11T09:55:42.069Z"
   },
   {
    "duration": 23,
    "start_time": "2023-03-11T09:55:42.093Z"
   },
   {
    "duration": 13,
    "start_time": "2023-03-11T09:55:42.118Z"
   },
   {
    "duration": 133,
    "start_time": "2023-03-11T09:55:42.133Z"
   },
   {
    "duration": 144,
    "start_time": "2023-03-11T09:55:42.267Z"
   },
   {
    "duration": 3,
    "start_time": "2023-03-11T09:55:42.413Z"
   },
   {
    "duration": 60,
    "start_time": "2023-03-11T09:55:42.418Z"
   },
   {
    "duration": 35,
    "start_time": "2023-03-11T09:55:42.483Z"
   },
   {
    "duration": 96,
    "start_time": "2023-03-11T09:55:42.520Z"
   },
   {
    "duration": 27,
    "start_time": "2023-03-11T09:55:42.618Z"
   },
   {
    "duration": 40,
    "start_time": "2023-03-11T09:55:42.646Z"
   },
   {
    "duration": 178,
    "start_time": "2023-03-11T09:55:42.688Z"
   },
   {
    "duration": 24,
    "start_time": "2023-03-11T09:55:42.873Z"
   },
   {
    "duration": 14,
    "start_time": "2023-03-11T09:55:42.899Z"
   },
   {
    "duration": 24,
    "start_time": "2023-03-11T09:55:42.915Z"
   },
   {
    "duration": 392,
    "start_time": "2023-03-11T09:55:42.941Z"
   },
   {
    "duration": 21,
    "start_time": "2023-03-11T09:55:43.334Z"
   },
   {
    "duration": 59,
    "start_time": "2023-03-11T09:55:43.357Z"
   },
   {
    "duration": 31,
    "start_time": "2023-03-11T09:55:43.418Z"
   },
   {
    "duration": 519,
    "start_time": "2023-03-11T09:55:43.451Z"
   },
   {
    "duration": 26,
    "start_time": "2023-03-11T09:55:43.976Z"
   },
   {
    "duration": 35,
    "start_time": "2023-03-11T09:55:44.004Z"
   },
   {
    "duration": 51,
    "start_time": "2023-03-11T09:55:44.041Z"
   },
   {
    "duration": 292,
    "start_time": "2023-03-11T09:55:44.094Z"
   },
   {
    "duration": 24,
    "start_time": "2023-03-11T09:55:44.389Z"
   },
   {
    "duration": 59,
    "start_time": "2023-03-11T09:55:44.415Z"
   },
   {
    "duration": 36,
    "start_time": "2023-03-11T09:55:44.477Z"
   },
   {
    "duration": 9,
    "start_time": "2023-03-11T09:55:44.515Z"
   },
   {
    "duration": 8,
    "start_time": "2023-03-11T09:55:44.526Z"
   },
   {
    "duration": 41,
    "start_time": "2023-03-11T09:55:44.536Z"
   },
   {
    "duration": 26,
    "start_time": "2023-03-11T09:55:44.584Z"
   },
   {
    "duration": 35,
    "start_time": "2023-03-11T09:55:44.612Z"
   },
   {
    "duration": 50,
    "start_time": "2023-03-11T09:55:44.648Z"
   },
   {
    "duration": 33,
    "start_time": "2023-03-11T09:55:44.700Z"
   },
   {
    "duration": 51,
    "start_time": "2023-03-11T09:55:44.735Z"
   },
   {
    "duration": 21,
    "start_time": "2023-03-11T09:55:44.788Z"
   },
   {
    "duration": 121,
    "start_time": "2023-03-11T09:55:44.811Z"
   },
   {
    "duration": 9,
    "start_time": "2023-03-11T09:55:44.934Z"
   },
   {
    "duration": 308,
    "start_time": "2023-03-11T09:55:44.944Z"
   },
   {
    "duration": 772,
    "start_time": "2023-03-11T09:55:45.254Z"
   },
   {
    "duration": 12,
    "start_time": "2023-03-11T09:55:46.028Z"
   },
   {
    "duration": 89,
    "start_time": "2023-03-11T09:55:46.042Z"
   },
   {
    "duration": 3,
    "start_time": "2023-03-11T09:55:46.133Z"
   },
   {
    "duration": 8,
    "start_time": "2023-03-11T09:55:46.138Z"
   },
   {
    "duration": 26,
    "start_time": "2023-03-11T09:55:46.148Z"
   },
   {
    "duration": 8,
    "start_time": "2023-03-11T09:55:46.176Z"
   },
   {
    "duration": 102,
    "start_time": "2023-03-11T09:55:46.185Z"
   },
   {
    "duration": 129,
    "start_time": "2023-03-11T09:55:46.290Z"
   },
   {
    "duration": 19,
    "start_time": "2023-03-11T09:55:46.421Z"
   },
   {
    "duration": 76,
    "start_time": "2023-03-11T09:55:46.442Z"
   },
   {
    "duration": 24,
    "start_time": "2023-03-11T09:55:46.520Z"
   },
   {
    "duration": 30,
    "start_time": "2023-03-11T09:55:46.546Z"
   },
   {
    "duration": 31,
    "start_time": "2023-03-11T09:55:46.578Z"
   },
   {
    "duration": 18,
    "start_time": "2023-03-11T09:55:46.611Z"
   },
   {
    "duration": 20,
    "start_time": "2023-03-11T09:55:46.631Z"
   },
   {
    "duration": 94,
    "start_time": "2023-03-11T09:55:46.653Z"
   },
   {
    "duration": 6,
    "start_time": "2023-03-11T09:55:46.749Z"
   },
   {
    "duration": 64,
    "start_time": "2023-03-11T09:56:25.873Z"
   },
   {
    "duration": 1662,
    "start_time": "2023-03-11T09:56:34.857Z"
   },
   {
    "duration": 3,
    "start_time": "2023-03-11T09:56:36.521Z"
   },
   {
    "duration": 7,
    "start_time": "2023-03-11T09:56:36.526Z"
   },
   {
    "duration": 8,
    "start_time": "2023-03-11T09:56:36.536Z"
   },
   {
    "duration": 5,
    "start_time": "2023-03-11T09:56:36.547Z"
   },
   {
    "duration": 53,
    "start_time": "2023-03-11T09:56:36.554Z"
   },
   {
    "duration": 12,
    "start_time": "2023-03-11T09:56:36.609Z"
   },
   {
    "duration": 9,
    "start_time": "2023-03-11T09:56:36.623Z"
   },
   {
    "duration": 1415,
    "start_time": "2023-03-11T09:56:36.634Z"
   },
   {
    "duration": 5,
    "start_time": "2023-03-11T09:56:38.052Z"
   },
   {
    "duration": 30,
    "start_time": "2023-03-11T09:56:38.059Z"
   },
   {
    "duration": 169,
    "start_time": "2023-03-11T09:56:38.091Z"
   },
   {
    "duration": 35,
    "start_time": "2023-03-11T09:56:38.262Z"
   },
   {
    "duration": 9,
    "start_time": "2023-03-11T09:56:38.301Z"
   },
   {
    "duration": 171,
    "start_time": "2023-03-11T09:56:38.313Z"
   },
   {
    "duration": 156,
    "start_time": "2023-03-11T09:56:38.486Z"
   },
   {
    "duration": 13,
    "start_time": "2023-03-11T09:56:38.643Z"
   },
   {
    "duration": 410,
    "start_time": "2023-03-11T09:56:38.658Z"
   },
   {
    "duration": 45,
    "start_time": "2023-03-11T09:56:39.073Z"
   },
   {
    "duration": 64,
    "start_time": "2023-03-11T09:56:39.120Z"
   },
   {
    "duration": 48,
    "start_time": "2023-03-11T09:56:39.186Z"
   },
   {
    "duration": 20,
    "start_time": "2023-03-11T09:56:39.236Z"
   },
   {
    "duration": 32,
    "start_time": "2023-03-11T09:56:39.258Z"
   },
   {
    "duration": 7,
    "start_time": "2023-03-11T09:56:39.292Z"
   },
   {
    "duration": 54,
    "start_time": "2023-03-11T09:56:39.301Z"
   },
   {
    "duration": 47,
    "start_time": "2023-03-11T09:56:39.357Z"
   },
   {
    "duration": 20,
    "start_time": "2023-03-11T09:56:39.406Z"
   },
   {
    "duration": 68,
    "start_time": "2023-03-11T09:56:39.434Z"
   },
   {
    "duration": 19,
    "start_time": "2023-03-11T09:56:39.504Z"
   },
   {
    "duration": 13,
    "start_time": "2023-03-11T09:56:39.525Z"
   },
   {
    "duration": 8,
    "start_time": "2023-03-11T09:56:39.539Z"
   },
   {
    "duration": 603,
    "start_time": "2023-03-11T09:56:39.549Z"
   },
   {
    "duration": 6,
    "start_time": "2023-03-11T09:56:40.154Z"
   },
   {
    "duration": 240,
    "start_time": "2023-03-11T09:56:40.173Z"
   },
   {
    "duration": 18,
    "start_time": "2023-03-11T09:56:40.415Z"
   },
   {
    "duration": 101,
    "start_time": "2023-03-11T09:56:40.436Z"
   },
   {
    "duration": 5,
    "start_time": "2023-03-11T09:56:40.539Z"
   },
   {
    "duration": 16,
    "start_time": "2023-03-11T09:56:40.545Z"
   },
   {
    "duration": 48,
    "start_time": "2023-03-11T09:56:40.563Z"
   },
   {
    "duration": 30,
    "start_time": "2023-03-11T09:56:40.613Z"
   },
   {
    "duration": 7,
    "start_time": "2023-03-11T09:56:40.646Z"
   },
   {
    "duration": 8,
    "start_time": "2023-03-11T09:56:40.655Z"
   },
   {
    "duration": 85,
    "start_time": "2023-03-11T09:56:40.665Z"
   },
   {
    "duration": 14,
    "start_time": "2023-03-11T09:56:40.752Z"
   },
   {
    "duration": 35,
    "start_time": "2023-03-11T09:56:40.767Z"
   },
   {
    "duration": 13,
    "start_time": "2023-03-11T09:56:40.805Z"
   },
   {
    "duration": 112,
    "start_time": "2023-03-11T09:56:40.820Z"
   },
   {
    "duration": 122,
    "start_time": "2023-03-11T09:56:40.933Z"
   },
   {
    "duration": 3,
    "start_time": "2023-03-11T09:56:41.057Z"
   },
   {
    "duration": 51,
    "start_time": "2023-03-11T09:56:41.062Z"
   },
   {
    "duration": 28,
    "start_time": "2023-03-11T09:56:41.115Z"
   },
   {
    "duration": 107,
    "start_time": "2023-03-11T09:56:41.145Z"
   },
   {
    "duration": 40,
    "start_time": "2023-03-11T09:56:41.254Z"
   },
   {
    "duration": 22,
    "start_time": "2023-03-11T09:56:41.296Z"
   },
   {
    "duration": 203,
    "start_time": "2023-03-11T09:56:41.320Z"
   },
   {
    "duration": 13,
    "start_time": "2023-03-11T09:56:41.525Z"
   },
   {
    "duration": 11,
    "start_time": "2023-03-11T09:56:41.540Z"
   },
   {
    "duration": 50,
    "start_time": "2023-03-11T09:56:41.552Z"
   },
   {
    "duration": 389,
    "start_time": "2023-03-11T09:56:41.604Z"
   },
   {
    "duration": 23,
    "start_time": "2023-03-11T09:56:41.995Z"
   },
   {
    "duration": 25,
    "start_time": "2023-03-11T09:56:42.020Z"
   },
   {
    "duration": 43,
    "start_time": "2023-03-11T09:56:42.048Z"
   },
   {
    "duration": 475,
    "start_time": "2023-03-11T09:56:42.093Z"
   },
   {
    "duration": 32,
    "start_time": "2023-03-11T09:56:42.570Z"
   },
   {
    "duration": 34,
    "start_time": "2023-03-11T09:56:42.604Z"
   },
   {
    "duration": 57,
    "start_time": "2023-03-11T09:56:42.640Z"
   },
   {
    "duration": 285,
    "start_time": "2023-03-11T09:56:42.699Z"
   },
   {
    "duration": 18,
    "start_time": "2023-03-11T09:56:42.988Z"
   },
   {
    "duration": 49,
    "start_time": "2023-03-11T09:56:43.008Z"
   },
   {
    "duration": 50,
    "start_time": "2023-03-11T09:56:43.059Z"
   },
   {
    "duration": 7,
    "start_time": "2023-03-11T09:56:43.111Z"
   },
   {
    "duration": 12,
    "start_time": "2023-03-11T09:56:43.120Z"
   },
   {
    "duration": 52,
    "start_time": "2023-03-11T09:56:43.135Z"
   },
   {
    "duration": 25,
    "start_time": "2023-03-11T09:56:43.189Z"
   },
   {
    "duration": 34,
    "start_time": "2023-03-11T09:56:43.216Z"
   },
   {
    "duration": 57,
    "start_time": "2023-03-11T09:56:43.252Z"
   },
   {
    "duration": 38,
    "start_time": "2023-03-11T09:56:43.311Z"
   },
   {
    "duration": 54,
    "start_time": "2023-03-11T09:56:43.351Z"
   },
   {
    "duration": 17,
    "start_time": "2023-03-11T09:56:43.407Z"
   },
   {
    "duration": 143,
    "start_time": "2023-03-11T09:56:43.427Z"
   },
   {
    "duration": 19,
    "start_time": "2023-03-11T09:56:43.572Z"
   },
   {
    "duration": 313,
    "start_time": "2023-03-11T09:56:43.597Z"
   },
   {
    "duration": 779,
    "start_time": "2023-03-11T09:56:43.911Z"
   },
   {
    "duration": 13,
    "start_time": "2023-03-11T09:56:44.692Z"
   },
   {
    "duration": 84,
    "start_time": "2023-03-11T09:56:44.707Z"
   },
   {
    "duration": 4,
    "start_time": "2023-03-11T09:56:44.793Z"
   },
   {
    "duration": 7,
    "start_time": "2023-03-11T09:56:44.799Z"
   },
   {
    "duration": 17,
    "start_time": "2023-03-11T09:56:44.807Z"
   },
   {
    "duration": 8,
    "start_time": "2023-03-11T09:56:44.826Z"
   },
   {
    "duration": 81,
    "start_time": "2023-03-11T09:56:44.836Z"
   },
   {
    "duration": 133,
    "start_time": "2023-03-11T09:56:44.919Z"
   },
   {
    "duration": 23,
    "start_time": "2023-03-11T09:56:45.055Z"
   },
   {
    "duration": 64,
    "start_time": "2023-03-11T09:56:45.080Z"
   },
   {
    "duration": 40,
    "start_time": "2023-03-11T09:56:45.146Z"
   },
   {
    "duration": 10,
    "start_time": "2023-03-11T09:56:45.190Z"
   },
   {
    "duration": 7,
    "start_time": "2023-03-11T09:56:45.202Z"
   },
   {
    "duration": 19,
    "start_time": "2023-03-11T09:56:45.210Z"
   },
   {
    "duration": 14,
    "start_time": "2023-03-11T09:56:45.231Z"
   },
   {
    "duration": 118,
    "start_time": "2023-03-11T09:56:45.247Z"
   },
   {
    "duration": 14,
    "start_time": "2023-03-11T09:56:45.367Z"
   },
   {
    "duration": 229,
    "start_time": "2023-03-11T09:56:49.114Z"
   },
   {
    "duration": 35,
    "start_time": "2023-03-11T10:15:46.738Z"
   },
   {
    "duration": 4,
    "start_time": "2023-03-11T10:16:55.605Z"
   },
   {
    "duration": 12,
    "start_time": "2023-03-11T10:17:55.465Z"
   },
   {
    "duration": 16,
    "start_time": "2023-03-11T10:18:01.849Z"
   },
   {
    "duration": 52,
    "start_time": "2023-03-11T10:18:01.867Z"
   },
   {
    "duration": 75,
    "start_time": "2023-03-11T10:18:01.922Z"
   },
   {
    "duration": 33,
    "start_time": "2023-03-11T10:18:01.999Z"
   },
   {
    "duration": 67,
    "start_time": "2023-03-11T10:18:02.034Z"
   },
   {
    "duration": 19,
    "start_time": "2023-03-11T10:18:02.103Z"
   },
   {
    "duration": 27,
    "start_time": "2023-03-11T10:18:02.125Z"
   },
   {
    "duration": 48,
    "start_time": "2023-03-11T10:18:02.154Z"
   },
   {
    "duration": 993,
    "start_time": "2023-03-11T10:18:02.204Z"
   },
   {
    "duration": 5,
    "start_time": "2023-03-11T10:18:03.199Z"
   },
   {
    "duration": 14,
    "start_time": "2023-03-11T10:18:03.206Z"
   },
   {
    "duration": 167,
    "start_time": "2023-03-11T10:18:03.222Z"
   },
   {
    "duration": 20,
    "start_time": "2023-03-11T10:18:03.395Z"
   },
   {
    "duration": 28,
    "start_time": "2023-03-11T10:18:03.417Z"
   },
   {
    "duration": 113,
    "start_time": "2023-03-11T10:18:03.447Z"
   },
   {
    "duration": 177,
    "start_time": "2023-03-11T10:18:03.562Z"
   },
   {
    "duration": 9,
    "start_time": "2023-03-11T10:18:03.741Z"
   },
   {
    "duration": 403,
    "start_time": "2023-03-11T10:18:03.752Z"
   },
   {
    "duration": 56,
    "start_time": "2023-03-11T10:18:04.158Z"
   },
   {
    "duration": 60,
    "start_time": "2023-03-11T10:18:04.217Z"
   },
   {
    "duration": 104,
    "start_time": "2023-03-11T10:18:04.285Z"
   },
   {
    "duration": 34,
    "start_time": "2023-03-11T10:18:04.391Z"
   },
   {
    "duration": 22,
    "start_time": "2023-03-11T10:18:04.428Z"
   },
   {
    "duration": 6,
    "start_time": "2023-03-11T10:18:04.452Z"
   },
   {
    "duration": 61,
    "start_time": "2023-03-11T10:18:04.460Z"
   },
   {
    "duration": 42,
    "start_time": "2023-03-11T10:18:04.523Z"
   },
   {
    "duration": 34,
    "start_time": "2023-03-11T10:18:04.567Z"
   },
   {
    "duration": 80,
    "start_time": "2023-03-11T10:18:04.607Z"
   },
   {
    "duration": 27,
    "start_time": "2023-03-11T10:18:04.690Z"
   },
   {
    "duration": 19,
    "start_time": "2023-03-11T10:18:04.719Z"
   },
   {
    "duration": 13,
    "start_time": "2023-03-11T10:18:04.740Z"
   },
   {
    "duration": 501,
    "start_time": "2023-03-11T10:18:04.755Z"
   },
   {
    "duration": 5,
    "start_time": "2023-03-11T10:18:05.257Z"
   },
   {
    "duration": 173,
    "start_time": "2023-03-11T10:18:05.273Z"
   },
   {
    "duration": 27,
    "start_time": "2023-03-11T10:18:05.448Z"
   },
   {
    "duration": 75,
    "start_time": "2023-03-11T10:18:05.480Z"
   },
   {
    "duration": 4,
    "start_time": "2023-03-11T10:18:05.557Z"
   },
   {
    "duration": 24,
    "start_time": "2023-03-11T10:18:05.562Z"
   },
   {
    "duration": 6,
    "start_time": "2023-03-11T10:18:05.588Z"
   },
   {
    "duration": 16,
    "start_time": "2023-03-11T10:18:05.596Z"
   },
   {
    "duration": 15,
    "start_time": "2023-03-11T10:18:05.614Z"
   },
   {
    "duration": 12,
    "start_time": "2023-03-11T10:18:05.631Z"
   },
   {
    "duration": 80,
    "start_time": "2023-03-11T10:18:05.645Z"
   },
   {
    "duration": 14,
    "start_time": "2023-03-11T10:18:05.728Z"
   },
   {
    "duration": 37,
    "start_time": "2023-03-11T10:18:05.744Z"
   },
   {
    "duration": 13,
    "start_time": "2023-03-11T10:18:05.786Z"
   },
   {
    "duration": 111,
    "start_time": "2023-03-11T10:18:05.801Z"
   },
   {
    "duration": 128,
    "start_time": "2023-03-11T10:18:05.914Z"
   },
   {
    "duration": 3,
    "start_time": "2023-03-11T10:18:06.044Z"
   },
   {
    "duration": 59,
    "start_time": "2023-03-11T10:18:06.049Z"
   },
   {
    "duration": 32,
    "start_time": "2023-03-11T10:18:06.109Z"
   },
   {
    "duration": 109,
    "start_time": "2023-03-11T10:18:06.143Z"
   },
   {
    "duration": 41,
    "start_time": "2023-03-11T10:18:06.254Z"
   },
   {
    "duration": 19,
    "start_time": "2023-03-11T10:18:06.297Z"
   },
   {
    "duration": 107,
    "start_time": "2023-03-11T10:18:06.318Z"
   },
   {
    "duration": 13,
    "start_time": "2023-03-11T10:18:06.426Z"
   },
   {
    "duration": 15,
    "start_time": "2023-03-11T10:18:06.441Z"
   },
   {
    "duration": 56,
    "start_time": "2023-03-11T10:18:06.458Z"
   },
   {
    "duration": 476,
    "start_time": "2023-03-11T10:18:06.515Z"
   },
   {
    "duration": 24,
    "start_time": "2023-03-11T10:18:06.993Z"
   },
   {
    "duration": 30,
    "start_time": "2023-03-11T10:18:07.018Z"
   },
   {
    "duration": 38,
    "start_time": "2023-03-11T10:18:07.050Z"
   },
   {
    "duration": 497,
    "start_time": "2023-03-11T10:18:07.090Z"
   },
   {
    "duration": 33,
    "start_time": "2023-03-11T10:18:07.591Z"
   },
   {
    "duration": 38,
    "start_time": "2023-03-11T10:18:07.626Z"
   },
   {
    "duration": 58,
    "start_time": "2023-03-11T10:18:07.666Z"
   },
   {
    "duration": 284,
    "start_time": "2023-03-11T10:18:07.725Z"
   },
   {
    "duration": 17,
    "start_time": "2023-03-11T10:18:08.011Z"
   },
   {
    "duration": 68,
    "start_time": "2023-03-11T10:18:08.030Z"
   },
   {
    "duration": 35,
    "start_time": "2023-03-11T10:18:08.100Z"
   },
   {
    "duration": 13,
    "start_time": "2023-03-11T10:18:08.137Z"
   },
   {
    "duration": 36,
    "start_time": "2023-03-11T10:18:08.152Z"
   },
   {
    "duration": 50,
    "start_time": "2023-03-11T10:18:08.191Z"
   },
   {
    "duration": 52,
    "start_time": "2023-03-11T10:18:08.244Z"
   },
   {
    "duration": 56,
    "start_time": "2023-03-11T10:18:08.298Z"
   },
   {
    "duration": 60,
    "start_time": "2023-03-11T10:18:08.356Z"
   },
   {
    "duration": 52,
    "start_time": "2023-03-11T10:18:08.419Z"
   },
   {
    "duration": 37,
    "start_time": "2023-03-11T10:18:08.478Z"
   },
   {
    "duration": 30,
    "start_time": "2023-03-11T10:18:08.516Z"
   },
   {
    "duration": 165,
    "start_time": "2023-03-11T10:18:08.548Z"
   },
   {
    "duration": 13,
    "start_time": "2023-03-11T10:18:08.715Z"
   },
   {
    "duration": 321,
    "start_time": "2023-03-11T10:18:08.735Z"
   },
   {
    "duration": 743,
    "start_time": "2023-03-11T10:18:09.058Z"
   },
   {
    "duration": 13,
    "start_time": "2023-03-11T10:18:09.803Z"
   },
   {
    "duration": 87,
    "start_time": "2023-03-11T10:18:09.818Z"
   },
   {
    "duration": 4,
    "start_time": "2023-03-11T10:18:09.907Z"
   },
   {
    "duration": 13,
    "start_time": "2023-03-11T10:18:09.913Z"
   },
   {
    "duration": 11,
    "start_time": "2023-03-11T10:18:09.928Z"
   },
   {
    "duration": 14,
    "start_time": "2023-03-11T10:18:09.941Z"
   },
   {
    "duration": 85,
    "start_time": "2023-03-11T10:18:09.956Z"
   },
   {
    "duration": 129,
    "start_time": "2023-03-11T10:18:10.043Z"
   },
   {
    "duration": 18,
    "start_time": "2023-03-11T10:18:10.179Z"
   },
   {
    "duration": 54,
    "start_time": "2023-03-11T10:18:10.200Z"
   },
   {
    "duration": 33,
    "start_time": "2023-03-11T10:18:10.255Z"
   },
   {
    "duration": 20,
    "start_time": "2023-03-11T10:18:10.290Z"
   },
   {
    "duration": 5,
    "start_time": "2023-03-11T10:18:14.960Z"
   },
   {
    "duration": 16,
    "start_time": "2023-03-11T10:18:23.137Z"
   },
   {
    "duration": 18,
    "start_time": "2023-03-11T10:18:32.041Z"
   },
   {
    "duration": 85,
    "start_time": "2023-03-11T10:18:32.851Z"
   },
   {
    "duration": 5,
    "start_time": "2023-03-11T10:18:36.629Z"
   },
   {
    "duration": 18,
    "start_time": "2023-03-11T10:18:58.297Z"
   },
   {
    "duration": 15,
    "start_time": "2023-03-11T10:19:39.298Z"
   },
   {
    "duration": 9,
    "start_time": "2023-03-11T10:19:48.167Z"
   },
   {
    "duration": 11,
    "start_time": "2023-03-11T10:20:34.990Z"
   },
   {
    "duration": 4,
    "start_time": "2023-03-11T10:21:25.607Z"
   },
   {
    "duration": 19,
    "start_time": "2023-03-11T10:21:35.664Z"
   },
   {
    "duration": 131,
    "start_time": "2023-03-11T10:21:46.519Z"
   },
   {
    "duration": 53,
    "start_time": "2023-03-11T10:22:42.333Z"
   },
   {
    "duration": 166,
    "start_time": "2023-03-11T10:23:04.599Z"
   },
   {
    "duration": 169,
    "start_time": "2023-03-11T10:23:51.173Z"
   },
   {
    "duration": 17,
    "start_time": "2023-03-11T12:41:47.688Z"
   },
   {
    "duration": 21,
    "start_time": "2023-03-11T12:41:52.895Z"
   },
   {
    "duration": 91,
    "start_time": "2023-03-11T12:41:54.533Z"
   },
   {
    "duration": 6,
    "start_time": "2023-03-11T12:41:56.900Z"
   },
   {
    "duration": 180,
    "start_time": "2023-03-11T12:42:00.053Z"
   },
   {
    "duration": 607,
    "start_time": "2023-03-11T12:42:50.608Z"
   },
   {
    "duration": 598,
    "start_time": "2023-03-11T12:43:18.400Z"
   },
   {
    "duration": 170,
    "start_time": "2023-03-11T12:43:57.421Z"
   },
   {
    "duration": 150,
    "start_time": "2023-03-11T12:44:11.262Z"
   },
   {
    "duration": 63,
    "start_time": "2023-03-11T12:49:01.763Z"
   },
   {
    "duration": 1690,
    "start_time": "2023-03-11T12:49:14.063Z"
   },
   {
    "duration": 3,
    "start_time": "2023-03-11T12:49:15.755Z"
   },
   {
    "duration": 5,
    "start_time": "2023-03-11T12:49:15.760Z"
   },
   {
    "duration": 7,
    "start_time": "2023-03-11T12:49:15.773Z"
   },
   {
    "duration": 23,
    "start_time": "2023-03-11T12:49:15.786Z"
   },
   {
    "duration": 9,
    "start_time": "2023-03-11T12:49:15.811Z"
   },
   {
    "duration": 11,
    "start_time": "2023-03-11T12:49:15.822Z"
   },
   {
    "duration": 10,
    "start_time": "2023-03-11T12:49:15.835Z"
   },
   {
    "duration": 1039,
    "start_time": "2023-03-11T12:49:15.847Z"
   },
   {
    "duration": 8,
    "start_time": "2023-03-11T12:49:16.889Z"
   },
   {
    "duration": 13,
    "start_time": "2023-03-11T12:49:16.899Z"
   },
   {
    "duration": 178,
    "start_time": "2023-03-11T12:49:16.913Z"
   },
   {
    "duration": 17,
    "start_time": "2023-03-11T12:49:17.097Z"
   },
   {
    "duration": 4,
    "start_time": "2023-03-11T12:49:17.116Z"
   },
   {
    "duration": 125,
    "start_time": "2023-03-11T12:49:17.123Z"
   },
   {
    "duration": 178,
    "start_time": "2023-03-11T12:49:17.250Z"
   },
   {
    "duration": 10,
    "start_time": "2023-03-11T12:49:17.431Z"
   },
   {
    "duration": 397,
    "start_time": "2023-03-11T12:49:17.443Z"
   },
   {
    "duration": 62,
    "start_time": "2023-03-11T12:49:17.841Z"
   },
   {
    "duration": 39,
    "start_time": "2023-03-11T12:49:17.905Z"
   },
   {
    "duration": 65,
    "start_time": "2023-03-11T12:49:17.945Z"
   },
   {
    "duration": 18,
    "start_time": "2023-03-11T12:49:18.012Z"
   },
   {
    "duration": 10,
    "start_time": "2023-03-11T12:49:18.032Z"
   },
   {
    "duration": 5,
    "start_time": "2023-03-11T12:49:18.044Z"
   },
   {
    "duration": 71,
    "start_time": "2023-03-11T12:49:18.051Z"
   },
   {
    "duration": 20,
    "start_time": "2023-03-11T12:49:18.124Z"
   },
   {
    "duration": 36,
    "start_time": "2023-03-11T12:49:18.146Z"
   },
   {
    "duration": 37,
    "start_time": "2023-03-11T12:49:18.201Z"
   },
   {
    "duration": 22,
    "start_time": "2023-03-11T12:49:18.240Z"
   },
   {
    "duration": 14,
    "start_time": "2023-03-11T12:49:18.264Z"
   },
   {
    "duration": 16,
    "start_time": "2023-03-11T12:49:18.290Z"
   },
   {
    "duration": 629,
    "start_time": "2023-03-11T12:49:18.308Z"
   },
   {
    "duration": 5,
    "start_time": "2023-03-11T12:49:18.939Z"
   },
   {
    "duration": 262,
    "start_time": "2023-03-11T12:49:18.946Z"
   },
   {
    "duration": 14,
    "start_time": "2023-03-11T12:49:19.210Z"
   },
   {
    "duration": 95,
    "start_time": "2023-03-11T12:49:19.226Z"
   },
   {
    "duration": 5,
    "start_time": "2023-03-11T12:49:19.322Z"
   },
   {
    "duration": 13,
    "start_time": "2023-03-11T12:49:19.328Z"
   },
   {
    "duration": 10,
    "start_time": "2023-03-11T12:49:19.343Z"
   },
   {
    "duration": 28,
    "start_time": "2023-03-11T12:49:19.355Z"
   },
   {
    "duration": 6,
    "start_time": "2023-03-11T12:49:19.390Z"
   },
   {
    "duration": 8,
    "start_time": "2023-03-11T12:49:19.398Z"
   },
   {
    "duration": 97,
    "start_time": "2023-03-11T12:49:19.408Z"
   },
   {
    "duration": 13,
    "start_time": "2023-03-11T12:49:19.510Z"
   },
   {
    "duration": 26,
    "start_time": "2023-03-11T12:49:19.524Z"
   },
   {
    "duration": 23,
    "start_time": "2023-03-11T12:49:19.552Z"
   },
   {
    "duration": 121,
    "start_time": "2023-03-11T12:49:19.579Z"
   },
   {
    "duration": 118,
    "start_time": "2023-03-11T12:49:19.702Z"
   },
   {
    "duration": 3,
    "start_time": "2023-03-11T12:49:19.822Z"
   },
   {
    "duration": 101,
    "start_time": "2023-03-11T12:49:19.827Z"
   },
   {
    "duration": 32,
    "start_time": "2023-03-11T12:49:19.929Z"
   },
   {
    "duration": 91,
    "start_time": "2023-03-11T12:49:19.963Z"
   },
   {
    "duration": 42,
    "start_time": "2023-03-11T12:49:20.056Z"
   },
   {
    "duration": 33,
    "start_time": "2023-03-11T12:49:20.103Z"
   },
   {
    "duration": 183,
    "start_time": "2023-03-11T12:49:20.138Z"
   },
   {
    "duration": 13,
    "start_time": "2023-03-11T12:49:20.323Z"
   },
   {
    "duration": 20,
    "start_time": "2023-03-11T12:49:20.338Z"
   },
   {
    "duration": 40,
    "start_time": "2023-03-11T12:49:20.360Z"
   },
   {
    "duration": 428,
    "start_time": "2023-03-11T12:49:20.407Z"
   },
   {
    "duration": 21,
    "start_time": "2023-03-11T12:49:20.838Z"
   },
   {
    "duration": 36,
    "start_time": "2023-03-11T12:49:20.873Z"
   },
   {
    "duration": 21,
    "start_time": "2023-03-11T12:49:20.911Z"
   },
   {
    "duration": 486,
    "start_time": "2023-03-11T12:49:20.933Z"
   },
   {
    "duration": 19,
    "start_time": "2023-03-11T12:49:21.421Z"
   },
   {
    "duration": 54,
    "start_time": "2023-03-11T12:49:21.442Z"
   },
   {
    "duration": 37,
    "start_time": "2023-03-11T12:49:21.498Z"
   },
   {
    "duration": 299,
    "start_time": "2023-03-11T12:49:21.537Z"
   },
   {
    "duration": 15,
    "start_time": "2023-03-11T12:49:21.838Z"
   },
   {
    "duration": 73,
    "start_time": "2023-03-11T12:49:21.855Z"
   },
   {
    "duration": 47,
    "start_time": "2023-03-11T12:49:21.929Z"
   },
   {
    "duration": 14,
    "start_time": "2023-03-11T12:49:21.978Z"
   },
   {
    "duration": 16,
    "start_time": "2023-03-11T12:49:21.994Z"
   },
   {
    "duration": 17,
    "start_time": "2023-03-11T12:49:22.012Z"
   },
   {
    "duration": 23,
    "start_time": "2023-03-11T12:49:22.030Z"
   },
   {
    "duration": 58,
    "start_time": "2023-03-11T12:49:22.055Z"
   },
   {
    "duration": 30,
    "start_time": "2023-03-11T12:49:22.114Z"
   },
   {
    "duration": 55,
    "start_time": "2023-03-11T12:49:22.146Z"
   },
   {
    "duration": 30,
    "start_time": "2023-03-11T12:49:22.203Z"
   },
   {
    "duration": 18,
    "start_time": "2023-03-11T12:49:22.235Z"
   },
   {
    "duration": 143,
    "start_time": "2023-03-11T12:49:22.255Z"
   },
   {
    "duration": 11,
    "start_time": "2023-03-11T12:49:22.400Z"
   },
   {
    "duration": 324,
    "start_time": "2023-03-11T12:49:22.417Z"
   },
   {
    "duration": 804,
    "start_time": "2023-03-11T12:49:22.742Z"
   },
   {
    "duration": 13,
    "start_time": "2023-03-11T12:49:23.547Z"
   },
   {
    "duration": 95,
    "start_time": "2023-03-11T12:49:23.561Z"
   },
   {
    "duration": 27,
    "start_time": "2023-03-11T12:49:23.658Z"
   },
   {
    "duration": 22,
    "start_time": "2023-03-11T12:49:23.687Z"
   },
   {
    "duration": 14,
    "start_time": "2023-03-11T12:49:23.711Z"
   },
   {
    "duration": 13,
    "start_time": "2023-03-11T12:49:23.728Z"
   },
   {
    "duration": 70,
    "start_time": "2023-03-11T12:49:23.743Z"
   },
   {
    "duration": 135,
    "start_time": "2023-03-11T12:49:23.815Z"
   },
   {
    "duration": 13,
    "start_time": "2023-03-11T12:49:23.952Z"
   },
   {
    "duration": 63,
    "start_time": "2023-03-11T12:49:23.967Z"
   },
   {
    "duration": 26,
    "start_time": "2023-03-11T12:49:24.032Z"
   },
   {
    "duration": 20,
    "start_time": "2023-03-11T12:49:24.073Z"
   },
   {
    "duration": 17,
    "start_time": "2023-03-11T12:49:24.100Z"
   },
   {
    "duration": 16,
    "start_time": "2023-03-11T12:49:24.118Z"
   },
   {
    "duration": 14,
    "start_time": "2023-03-11T12:49:24.136Z"
   },
   {
    "duration": 89,
    "start_time": "2023-03-11T12:49:24.152Z"
   },
   {
    "duration": 6,
    "start_time": "2023-03-11T12:49:24.242Z"
   },
   {
    "duration": 20,
    "start_time": "2023-03-11T12:49:28.328Z"
   },
   {
    "duration": 105,
    "start_time": "2023-03-11T12:51:31.273Z"
   },
   {
    "duration": 1735,
    "start_time": "2023-03-11T12:52:51.324Z"
   },
   {
    "duration": 3,
    "start_time": "2023-03-11T12:52:53.061Z"
   },
   {
    "duration": 16,
    "start_time": "2023-03-11T12:52:53.065Z"
   },
   {
    "duration": 23,
    "start_time": "2023-03-11T12:52:53.087Z"
   },
   {
    "duration": 7,
    "start_time": "2023-03-11T12:52:53.117Z"
   },
   {
    "duration": 13,
    "start_time": "2023-03-11T12:52:53.126Z"
   },
   {
    "duration": 11,
    "start_time": "2023-03-11T12:52:53.141Z"
   },
   {
    "duration": 12,
    "start_time": "2023-03-11T12:52:53.154Z"
   },
   {
    "duration": 1241,
    "start_time": "2023-03-11T12:52:53.169Z"
   },
   {
    "duration": 6,
    "start_time": "2023-03-11T12:52:54.420Z"
   },
   {
    "duration": 9,
    "start_time": "2023-03-11T12:52:54.428Z"
   },
   {
    "duration": 231,
    "start_time": "2023-03-11T12:52:54.439Z"
   },
   {
    "duration": 32,
    "start_time": "2023-03-11T12:52:54.672Z"
   },
   {
    "duration": 24,
    "start_time": "2023-03-11T12:52:54.706Z"
   },
   {
    "duration": 129,
    "start_time": "2023-03-11T12:52:54.732Z"
   },
   {
    "duration": 199,
    "start_time": "2023-03-11T12:52:54.862Z"
   },
   {
    "duration": 11,
    "start_time": "2023-03-11T12:52:55.063Z"
   },
   {
    "duration": 485,
    "start_time": "2023-03-11T12:52:55.076Z"
   },
   {
    "duration": 58,
    "start_time": "2023-03-11T12:52:55.563Z"
   },
   {
    "duration": 46,
    "start_time": "2023-03-11T12:52:55.625Z"
   },
   {
    "duration": 81,
    "start_time": "2023-03-11T12:52:55.685Z"
   },
   {
    "duration": 61,
    "start_time": "2023-03-11T12:52:55.768Z"
   },
   {
    "duration": 12,
    "start_time": "2023-03-11T12:52:55.832Z"
   },
   {
    "duration": 5,
    "start_time": "2023-03-11T12:52:55.846Z"
   },
   {
    "duration": 67,
    "start_time": "2023-03-11T12:52:55.852Z"
   },
   {
    "duration": 33,
    "start_time": "2023-03-11T12:52:55.921Z"
   },
   {
    "duration": 22,
    "start_time": "2023-03-11T12:52:55.956Z"
   },
   {
    "duration": 71,
    "start_time": "2023-03-11T12:52:55.987Z"
   },
   {
    "duration": 33,
    "start_time": "2023-03-11T12:52:56.060Z"
   },
   {
    "duration": 31,
    "start_time": "2023-03-11T12:52:56.096Z"
   },
   {
    "duration": 20,
    "start_time": "2023-03-11T12:52:56.128Z"
   },
   {
    "duration": 689,
    "start_time": "2023-03-11T12:52:56.149Z"
   },
   {
    "duration": 4,
    "start_time": "2023-03-11T12:52:56.840Z"
   },
   {
    "duration": 252,
    "start_time": "2023-03-11T12:52:56.846Z"
   },
   {
    "duration": 22,
    "start_time": "2023-03-11T12:52:57.100Z"
   },
   {
    "duration": 108,
    "start_time": "2023-03-11T12:52:57.124Z"
   },
   {
    "duration": 5,
    "start_time": "2023-03-11T12:52:57.233Z"
   },
   {
    "duration": 8,
    "start_time": "2023-03-11T12:52:57.240Z"
   },
   {
    "duration": 8,
    "start_time": "2023-03-11T12:52:57.250Z"
   },
   {
    "duration": 5,
    "start_time": "2023-03-11T12:52:57.260Z"
   },
   {
    "duration": 48,
    "start_time": "2023-03-11T12:52:57.267Z"
   },
   {
    "duration": 7,
    "start_time": "2023-03-11T12:52:57.317Z"
   },
   {
    "duration": 92,
    "start_time": "2023-03-11T12:52:57.325Z"
   },
   {
    "duration": 14,
    "start_time": "2023-03-11T12:52:57.418Z"
   },
   {
    "duration": 22,
    "start_time": "2023-03-11T12:52:57.435Z"
   },
   {
    "duration": 27,
    "start_time": "2023-03-11T12:52:57.459Z"
   },
   {
    "duration": 148,
    "start_time": "2023-03-11T12:52:57.489Z"
   },
   {
    "duration": 139,
    "start_time": "2023-03-11T12:52:57.639Z"
   },
   {
    "duration": 8,
    "start_time": "2023-03-11T12:52:57.781Z"
   },
   {
    "duration": 41,
    "start_time": "2023-03-11T12:52:57.794Z"
   },
   {
    "duration": 29,
    "start_time": "2023-03-11T12:52:57.837Z"
   },
   {
    "duration": 135,
    "start_time": "2023-03-11T12:52:57.868Z"
   },
   {
    "duration": 28,
    "start_time": "2023-03-11T12:52:58.006Z"
   },
   {
    "duration": 22,
    "start_time": "2023-03-11T12:52:58.036Z"
   },
   {
    "duration": 234,
    "start_time": "2023-03-11T12:52:58.061Z"
   },
   {
    "duration": 15,
    "start_time": "2023-03-11T12:52:58.298Z"
   },
   {
    "duration": 13,
    "start_time": "2023-03-11T12:52:58.315Z"
   },
   {
    "duration": 25,
    "start_time": "2023-03-11T12:52:58.330Z"
   },
   {
    "duration": 433,
    "start_time": "2023-03-11T12:52:58.356Z"
   },
   {
    "duration": 24,
    "start_time": "2023-03-11T12:52:58.796Z"
   },
   {
    "duration": 41,
    "start_time": "2023-03-11T12:52:58.823Z"
   },
   {
    "duration": 41,
    "start_time": "2023-03-11T12:52:58.866Z"
   },
   {
    "duration": 530,
    "start_time": "2023-03-11T12:52:58.909Z"
   },
   {
    "duration": 22,
    "start_time": "2023-03-11T12:52:59.441Z"
   },
   {
    "duration": 61,
    "start_time": "2023-03-11T12:52:59.465Z"
   },
   {
    "duration": 46,
    "start_time": "2023-03-11T12:52:59.528Z"
   },
   {
    "duration": 320,
    "start_time": "2023-03-11T12:52:59.581Z"
   },
   {
    "duration": 19,
    "start_time": "2023-03-11T12:52:59.904Z"
   },
   {
    "duration": 72,
    "start_time": "2023-03-11T12:52:59.925Z"
   },
   {
    "duration": 39,
    "start_time": "2023-03-11T12:52:59.999Z"
   },
   {
    "duration": 19,
    "start_time": "2023-03-11T12:53:00.039Z"
   },
   {
    "duration": 23,
    "start_time": "2023-03-11T12:53:00.060Z"
   },
   {
    "duration": 56,
    "start_time": "2023-03-11T12:53:00.089Z"
   },
   {
    "duration": 58,
    "start_time": "2023-03-11T12:53:00.147Z"
   },
   {
    "duration": 146,
    "start_time": "2023-03-11T12:53:00.207Z"
   },
   {
    "duration": 180,
    "start_time": "2023-03-11T12:53:00.354Z"
   },
   {
    "duration": 117,
    "start_time": "2023-03-11T12:53:00.536Z"
   },
   {
    "duration": 72,
    "start_time": "2023-03-11T12:53:00.656Z"
   },
   {
    "duration": 67,
    "start_time": "2023-03-11T12:53:00.731Z"
   },
   {
    "duration": 229,
    "start_time": "2023-03-11T12:53:00.801Z"
   },
   {
    "duration": 11,
    "start_time": "2023-03-11T12:53:01.032Z"
   },
   {
    "duration": 407,
    "start_time": "2023-03-11T12:53:01.049Z"
   },
   {
    "duration": 911,
    "start_time": "2023-03-11T12:53:01.458Z"
   },
   {
    "duration": 25,
    "start_time": "2023-03-11T12:53:02.371Z"
   },
   {
    "duration": 112,
    "start_time": "2023-03-11T12:53:02.399Z"
   },
   {
    "duration": 5,
    "start_time": "2023-03-11T12:53:02.516Z"
   },
   {
    "duration": 7,
    "start_time": "2023-03-11T12:53:02.523Z"
   },
   {
    "duration": 13,
    "start_time": "2023-03-11T12:53:02.531Z"
   },
   {
    "duration": 21,
    "start_time": "2023-03-11T12:53:02.546Z"
   },
   {
    "duration": 102,
    "start_time": "2023-03-11T12:53:02.569Z"
   },
   {
    "duration": 164,
    "start_time": "2023-03-11T12:53:02.673Z"
   },
   {
    "duration": 13,
    "start_time": "2023-03-11T12:53:02.839Z"
   },
   {
    "duration": 33,
    "start_time": "2023-03-11T12:53:02.853Z"
   },
   {
    "duration": 76,
    "start_time": "2023-03-11T12:53:02.889Z"
   },
   {
    "duration": 146,
    "start_time": "2023-03-11T12:53:02.968Z"
   },
   {
    "duration": 5,
    "start_time": "2023-03-11T12:53:03.117Z"
   },
   {
    "duration": 32,
    "start_time": "2023-03-11T12:53:06.790Z"
   },
   {
    "duration": 156,
    "start_time": "2023-03-11T12:57:35.441Z"
   },
   {
    "duration": 25,
    "start_time": "2023-03-11T12:57:50.695Z"
   },
   {
    "duration": 33,
    "start_time": "2023-03-11T12:57:50.724Z"
   },
   {
    "duration": 54,
    "start_time": "2023-03-11T12:57:50.759Z"
   },
   {
    "duration": 20,
    "start_time": "2023-03-11T12:57:50.816Z"
   },
   {
    "duration": 11,
    "start_time": "2023-03-11T12:57:50.838Z"
   },
   {
    "duration": 6,
    "start_time": "2023-03-11T12:57:50.850Z"
   },
   {
    "duration": 6,
    "start_time": "2023-03-11T12:57:50.858Z"
   },
   {
    "duration": 8,
    "start_time": "2023-03-11T12:57:50.866Z"
   },
   {
    "duration": 1143,
    "start_time": "2023-03-11T12:57:50.876Z"
   },
   {
    "duration": 4,
    "start_time": "2023-03-11T12:57:52.022Z"
   },
   {
    "duration": 24,
    "start_time": "2023-03-11T12:57:52.028Z"
   },
   {
    "duration": 215,
    "start_time": "2023-03-11T12:57:52.053Z"
   },
   {
    "duration": 34,
    "start_time": "2023-03-11T12:57:52.269Z"
   },
   {
    "duration": 27,
    "start_time": "2023-03-11T12:57:52.305Z"
   },
   {
    "duration": 125,
    "start_time": "2023-03-11T12:57:52.334Z"
   },
   {
    "duration": 252,
    "start_time": "2023-03-11T12:57:52.461Z"
   },
   {
    "duration": 10,
    "start_time": "2023-03-11T12:57:52.717Z"
   },
   {
    "duration": 408,
    "start_time": "2023-03-11T12:57:52.730Z"
   },
   {
    "duration": 61,
    "start_time": "2023-03-11T12:57:53.139Z"
   },
   {
    "duration": 47,
    "start_time": "2023-03-11T12:57:53.201Z"
   },
   {
    "duration": 68,
    "start_time": "2023-03-11T12:57:53.250Z"
   },
   {
    "duration": 19,
    "start_time": "2023-03-11T12:57:53.319Z"
   },
   {
    "duration": 12,
    "start_time": "2023-03-11T12:57:53.340Z"
   },
   {
    "duration": 44,
    "start_time": "2023-03-11T12:57:53.354Z"
   },
   {
    "duration": 56,
    "start_time": "2023-03-11T12:57:53.400Z"
   },
   {
    "duration": 38,
    "start_time": "2023-03-11T12:57:53.458Z"
   },
   {
    "duration": 27,
    "start_time": "2023-03-11T12:57:53.499Z"
   },
   {
    "duration": 37,
    "start_time": "2023-03-11T12:57:53.531Z"
   },
   {
    "duration": 54,
    "start_time": "2023-03-11T12:57:53.570Z"
   },
   {
    "duration": 15,
    "start_time": "2023-03-11T12:57:53.625Z"
   },
   {
    "duration": 6,
    "start_time": "2023-03-11T12:57:53.641Z"
   },
   {
    "duration": 573,
    "start_time": "2023-03-11T12:57:53.649Z"
   },
   {
    "duration": 5,
    "start_time": "2023-03-11T12:57:54.225Z"
   },
   {
    "duration": 245,
    "start_time": "2023-03-11T12:57:54.232Z"
   },
   {
    "duration": 27,
    "start_time": "2023-03-11T12:57:54.479Z"
   },
   {
    "duration": 106,
    "start_time": "2023-03-11T12:57:54.513Z"
   },
   {
    "duration": 5,
    "start_time": "2023-03-11T12:57:54.627Z"
   },
   {
    "duration": 10,
    "start_time": "2023-03-11T12:57:54.634Z"
   },
   {
    "duration": 10,
    "start_time": "2023-03-11T12:57:54.645Z"
   },
   {
    "duration": 9,
    "start_time": "2023-03-11T12:57:54.657Z"
   },
   {
    "duration": 10,
    "start_time": "2023-03-11T12:57:54.667Z"
   },
   {
    "duration": 38,
    "start_time": "2023-03-11T12:57:54.685Z"
   },
   {
    "duration": 90,
    "start_time": "2023-03-11T12:57:54.725Z"
   },
   {
    "duration": 14,
    "start_time": "2023-03-11T12:57:54.817Z"
   },
   {
    "duration": 31,
    "start_time": "2023-03-11T12:57:54.833Z"
   },
   {
    "duration": 23,
    "start_time": "2023-03-11T12:57:54.865Z"
   },
   {
    "duration": 152,
    "start_time": "2023-03-11T12:57:54.890Z"
   },
   {
    "duration": 158,
    "start_time": "2023-03-11T12:57:55.044Z"
   },
   {
    "duration": 4,
    "start_time": "2023-03-11T12:57:55.204Z"
   },
   {
    "duration": 48,
    "start_time": "2023-03-11T12:57:55.211Z"
   },
   {
    "duration": 70,
    "start_time": "2023-03-11T12:57:55.261Z"
   },
   {
    "duration": 130,
    "start_time": "2023-03-11T12:57:55.334Z"
   },
   {
    "duration": 38,
    "start_time": "2023-03-11T12:57:55.466Z"
   },
   {
    "duration": 45,
    "start_time": "2023-03-11T12:57:55.507Z"
   },
   {
    "duration": 114,
    "start_time": "2023-03-11T12:57:55.554Z"
   },
   {
    "duration": 24,
    "start_time": "2023-03-11T12:57:55.670Z"
   },
   {
    "duration": 32,
    "start_time": "2023-03-11T12:57:55.696Z"
   },
   {
    "duration": 23,
    "start_time": "2023-03-11T12:57:55.730Z"
   },
   {
    "duration": 505,
    "start_time": "2023-03-11T12:57:55.755Z"
   },
   {
    "duration": 56,
    "start_time": "2023-03-11T12:57:56.262Z"
   },
   {
    "duration": 23,
    "start_time": "2023-03-11T12:57:56.320Z"
   },
   {
    "duration": 23,
    "start_time": "2023-03-11T12:57:56.345Z"
   },
   {
    "duration": 554,
    "start_time": "2023-03-11T12:57:56.369Z"
   },
   {
    "duration": 21,
    "start_time": "2023-03-11T12:57:56.925Z"
   },
   {
    "duration": 80,
    "start_time": "2023-03-11T12:57:56.948Z"
   },
   {
    "duration": 33,
    "start_time": "2023-03-11T12:57:57.032Z"
   },
   {
    "duration": 334,
    "start_time": "2023-03-11T12:57:57.068Z"
   },
   {
    "duration": 23,
    "start_time": "2023-03-11T12:57:57.404Z"
   },
   {
    "duration": 86,
    "start_time": "2023-03-11T12:57:57.429Z"
   },
   {
    "duration": 34,
    "start_time": "2023-03-11T12:57:57.517Z"
   },
   {
    "duration": 4,
    "start_time": "2023-03-11T12:57:57.553Z"
   },
   {
    "duration": 25,
    "start_time": "2023-03-11T12:57:57.559Z"
   },
   {
    "duration": 32,
    "start_time": "2023-03-11T12:57:57.586Z"
   },
   {
    "duration": 20,
    "start_time": "2023-03-11T12:57:57.620Z"
   },
   {
    "duration": 72,
    "start_time": "2023-03-11T12:57:57.642Z"
   },
   {
    "duration": 48,
    "start_time": "2023-03-11T12:57:57.716Z"
   },
   {
    "duration": 96,
    "start_time": "2023-03-11T12:57:57.766Z"
   },
   {
    "duration": 57,
    "start_time": "2023-03-11T12:57:57.865Z"
   },
   {
    "duration": 20,
    "start_time": "2023-03-11T12:57:57.924Z"
   },
   {
    "duration": 171,
    "start_time": "2023-03-11T12:57:57.946Z"
   },
   {
    "duration": 12,
    "start_time": "2023-03-11T12:57:58.119Z"
   },
   {
    "duration": 343,
    "start_time": "2023-03-11T12:57:58.136Z"
   },
   {
    "duration": 826,
    "start_time": "2023-03-11T12:57:58.481Z"
   },
   {
    "duration": 16,
    "start_time": "2023-03-11T12:57:59.309Z"
   },
   {
    "duration": 105,
    "start_time": "2023-03-11T12:57:59.327Z"
   },
   {
    "duration": 5,
    "start_time": "2023-03-11T12:57:59.434Z"
   },
   {
    "duration": 8,
    "start_time": "2023-03-11T12:57:59.440Z"
   },
   {
    "duration": 29,
    "start_time": "2023-03-11T12:57:59.449Z"
   },
   {
    "duration": 41,
    "start_time": "2023-03-11T12:57:59.481Z"
   },
   {
    "duration": 67,
    "start_time": "2023-03-11T12:57:59.524Z"
   },
   {
    "duration": 146,
    "start_time": "2023-03-11T12:57:59.593Z"
   },
   {
    "duration": 13,
    "start_time": "2023-03-11T12:57:59.740Z"
   },
   {
    "duration": 37,
    "start_time": "2023-03-11T12:57:59.755Z"
   },
   {
    "duration": 55,
    "start_time": "2023-03-11T12:57:59.794Z"
   },
   {
    "duration": 122,
    "start_time": "2023-03-11T12:57:59.850Z"
   },
   {
    "duration": 7,
    "start_time": "2023-03-11T12:57:59.978Z"
   },
   {
    "duration": 33,
    "start_time": "2023-03-11T12:58:03.100Z"
   },
   {
    "duration": 32,
    "start_time": "2023-03-11T12:59:26.222Z"
   },
   {
    "duration": 26,
    "start_time": "2023-03-11T12:59:54.461Z"
   },
   {
    "duration": 14,
    "start_time": "2023-03-11T13:00:29.933Z"
   },
   {
    "duration": 13,
    "start_time": "2023-03-11T13:00:40.037Z"
   },
   {
    "duration": 9,
    "start_time": "2023-03-11T13:01:22.846Z"
   },
   {
    "duration": 10,
    "start_time": "2023-03-11T13:02:53.356Z"
   },
   {
    "duration": 6,
    "start_time": "2023-03-11T13:04:13.035Z"
   },
   {
    "duration": 1723,
    "start_time": "2023-03-11T13:08:54.972Z"
   },
   {
    "duration": 10,
    "start_time": "2023-03-11T13:08:56.698Z"
   },
   {
    "duration": 14,
    "start_time": "2023-03-11T13:08:56.712Z"
   },
   {
    "duration": 17,
    "start_time": "2023-03-11T13:08:56.728Z"
   },
   {
    "duration": 31,
    "start_time": "2023-03-11T13:08:56.747Z"
   },
   {
    "duration": 33,
    "start_time": "2023-03-11T13:08:56.780Z"
   },
   {
    "duration": 8,
    "start_time": "2023-03-11T13:08:56.815Z"
   },
   {
    "duration": 9,
    "start_time": "2023-03-11T13:08:56.826Z"
   },
   {
    "duration": 1065,
    "start_time": "2023-03-11T13:08:56.837Z"
   },
   {
    "duration": 6,
    "start_time": "2023-03-11T13:08:57.905Z"
   },
   {
    "duration": 10,
    "start_time": "2023-03-11T13:08:57.912Z"
   },
   {
    "duration": 185,
    "start_time": "2023-03-11T13:08:57.924Z"
   },
   {
    "duration": 16,
    "start_time": "2023-03-11T13:08:58.111Z"
   },
   {
    "duration": 5,
    "start_time": "2023-03-11T13:08:58.129Z"
   },
   {
    "duration": 184,
    "start_time": "2023-03-11T13:08:58.135Z"
   },
   {
    "duration": 181,
    "start_time": "2023-03-11T13:08:58.321Z"
   },
   {
    "duration": 10,
    "start_time": "2023-03-11T13:08:58.504Z"
   },
   {
    "duration": 384,
    "start_time": "2023-03-11T13:08:58.516Z"
   },
   {
    "duration": 42,
    "start_time": "2023-03-11T13:08:58.908Z"
   },
   {
    "duration": 74,
    "start_time": "2023-03-11T13:08:58.952Z"
   },
   {
    "duration": 57,
    "start_time": "2023-03-11T13:08:59.028Z"
   },
   {
    "duration": 26,
    "start_time": "2023-03-11T13:08:59.087Z"
   },
   {
    "duration": 9,
    "start_time": "2023-03-11T13:08:59.115Z"
   },
   {
    "duration": 5,
    "start_time": "2023-03-11T13:08:59.126Z"
   },
   {
    "duration": 76,
    "start_time": "2023-03-11T13:08:59.133Z"
   },
   {
    "duration": 19,
    "start_time": "2023-03-11T13:08:59.211Z"
   },
   {
    "duration": 9,
    "start_time": "2023-03-11T13:08:59.232Z"
   },
   {
    "duration": 73,
    "start_time": "2023-03-11T13:08:59.245Z"
   },
   {
    "duration": 19,
    "start_time": "2023-03-11T13:08:59.320Z"
   },
   {
    "duration": 13,
    "start_time": "2023-03-11T13:08:59.340Z"
   },
   {
    "duration": 5,
    "start_time": "2023-03-11T13:08:59.355Z"
   },
   {
    "duration": 615,
    "start_time": "2023-03-11T13:08:59.379Z"
   },
   {
    "duration": 6,
    "start_time": "2023-03-11T13:08:59.995Z"
   },
   {
    "duration": 275,
    "start_time": "2023-03-11T13:09:00.003Z"
   },
   {
    "duration": 23,
    "start_time": "2023-03-11T13:09:00.280Z"
   },
   {
    "duration": 105,
    "start_time": "2023-03-11T13:09:00.305Z"
   },
   {
    "duration": 5,
    "start_time": "2023-03-11T13:09:00.412Z"
   },
   {
    "duration": 43,
    "start_time": "2023-03-11T13:09:00.418Z"
   },
   {
    "duration": 72,
    "start_time": "2023-03-11T13:09:00.464Z"
   },
   {
    "duration": 30,
    "start_time": "2023-03-11T13:09:00.538Z"
   },
   {
    "duration": 54,
    "start_time": "2023-03-11T13:09:00.570Z"
   },
   {
    "duration": 37,
    "start_time": "2023-03-11T13:09:00.627Z"
   },
   {
    "duration": 135,
    "start_time": "2023-03-11T13:09:00.666Z"
   },
   {
    "duration": 13,
    "start_time": "2023-03-11T13:09:00.803Z"
   },
   {
    "duration": 70,
    "start_time": "2023-03-11T13:09:00.818Z"
   },
   {
    "duration": 36,
    "start_time": "2023-03-11T13:09:00.890Z"
   },
   {
    "duration": 162,
    "start_time": "2023-03-11T13:09:00.928Z"
   },
   {
    "duration": 135,
    "start_time": "2023-03-11T13:09:01.097Z"
   },
   {
    "duration": 3,
    "start_time": "2023-03-11T13:09:01.240Z"
   },
   {
    "duration": 79,
    "start_time": "2023-03-11T13:09:01.245Z"
   },
   {
    "duration": 83,
    "start_time": "2023-03-11T13:09:01.326Z"
   },
   {
    "duration": 115,
    "start_time": "2023-03-11T13:09:01.411Z"
   },
   {
    "duration": 27,
    "start_time": "2023-03-11T13:09:01.528Z"
   },
   {
    "duration": 79,
    "start_time": "2023-03-11T13:09:01.557Z"
   },
   {
    "duration": 204,
    "start_time": "2023-03-11T13:09:01.638Z"
   },
   {
    "duration": 12,
    "start_time": "2023-03-11T13:09:01.844Z"
   },
   {
    "duration": 80,
    "start_time": "2023-03-11T13:09:01.858Z"
   },
   {
    "duration": 72,
    "start_time": "2023-03-11T13:09:01.939Z"
   },
   {
    "duration": 404,
    "start_time": "2023-03-11T13:09:02.013Z"
   },
   {
    "duration": 21,
    "start_time": "2023-03-11T13:09:02.419Z"
   },
   {
    "duration": 43,
    "start_time": "2023-03-11T13:09:02.442Z"
   },
   {
    "duration": 34,
    "start_time": "2023-03-11T13:09:02.487Z"
   },
   {
    "duration": 513,
    "start_time": "2023-03-11T13:09:02.522Z"
   },
   {
    "duration": 21,
    "start_time": "2023-03-11T13:09:03.037Z"
   },
   {
    "duration": 69,
    "start_time": "2023-03-11T13:09:03.060Z"
   },
   {
    "duration": 34,
    "start_time": "2023-03-11T13:09:03.131Z"
   },
   {
    "duration": 283,
    "start_time": "2023-03-11T13:09:03.167Z"
   },
   {
    "duration": 30,
    "start_time": "2023-03-11T13:09:03.453Z"
   },
   {
    "duration": 74,
    "start_time": "2023-03-11T13:09:03.487Z"
   },
   {
    "duration": 52,
    "start_time": "2023-03-11T13:09:03.563Z"
   },
   {
    "duration": 9,
    "start_time": "2023-03-11T13:09:03.617Z"
   },
   {
    "duration": 13,
    "start_time": "2023-03-11T13:09:03.628Z"
   },
   {
    "duration": 33,
    "start_time": "2023-03-11T13:09:03.643Z"
   },
   {
    "duration": 31,
    "start_time": "2023-03-11T13:09:03.679Z"
   },
   {
    "duration": 31,
    "start_time": "2023-03-11T13:09:03.712Z"
   },
   {
    "duration": 48,
    "start_time": "2023-03-11T13:09:03.745Z"
   },
   {
    "duration": 39,
    "start_time": "2023-03-11T13:09:03.798Z"
   },
   {
    "duration": 30,
    "start_time": "2023-03-11T13:09:03.839Z"
   },
   {
    "duration": 43,
    "start_time": "2023-03-11T13:09:03.873Z"
   },
   {
    "duration": 166,
    "start_time": "2023-03-11T13:09:03.918Z"
   },
   {
    "duration": 16,
    "start_time": "2023-03-11T13:09:04.096Z"
   },
   {
    "duration": 379,
    "start_time": "2023-03-11T13:09:04.118Z"
   },
   {
    "duration": 790,
    "start_time": "2023-03-11T13:09:04.499Z"
   },
   {
    "duration": 14,
    "start_time": "2023-03-11T13:09:05.295Z"
   },
   {
    "duration": 118,
    "start_time": "2023-03-11T13:09:05.311Z"
   },
   {
    "duration": 5,
    "start_time": "2023-03-11T13:09:05.431Z"
   },
   {
    "duration": 22,
    "start_time": "2023-03-11T13:09:05.438Z"
   },
   {
    "duration": 49,
    "start_time": "2023-03-11T13:09:05.462Z"
   },
   {
    "duration": 71,
    "start_time": "2023-03-11T13:09:05.513Z"
   },
   {
    "duration": 78,
    "start_time": "2023-03-11T13:09:05.591Z"
   },
   {
    "duration": 145,
    "start_time": "2023-03-11T13:09:05.671Z"
   },
   {
    "duration": 13,
    "start_time": "2023-03-11T13:09:05.818Z"
   },
   {
    "duration": 53,
    "start_time": "2023-03-11T13:09:05.833Z"
   },
   {
    "duration": 72,
    "start_time": "2023-03-11T13:09:05.888Z"
   },
   {
    "duration": 106,
    "start_time": "2023-03-11T13:09:05.962Z"
   },
   {
    "duration": 17,
    "start_time": "2023-03-11T13:09:06.070Z"
   },
   {
    "duration": 152,
    "start_time": "2023-03-11T13:09:09.607Z"
   },
   {
    "duration": 26,
    "start_time": "2023-03-11T13:09:33.664Z"
   },
   {
    "duration": 13,
    "start_time": "2023-03-11T13:17:06.698Z"
   },
   {
    "duration": 924,
    "start_time": "2023-03-11T13:17:45.542Z"
   },
   {
    "duration": 22,
    "start_time": "2023-03-11T13:17:59.435Z"
   },
   {
    "duration": 24,
    "start_time": "2023-03-11T13:18:53.419Z"
   },
   {
    "duration": 101,
    "start_time": "2023-03-11T13:19:35.714Z"
   },
   {
    "duration": 21,
    "start_time": "2023-03-11T13:23:19.079Z"
   },
   {
    "duration": 4,
    "start_time": "2023-03-11T13:23:19.126Z"
   },
   {
    "duration": 5,
    "start_time": "2023-03-11T13:23:19.132Z"
   },
   {
    "duration": 6,
    "start_time": "2023-03-11T13:23:19.139Z"
   },
   {
    "duration": 9,
    "start_time": "2023-03-11T13:23:19.147Z"
   },
   {
    "duration": 5,
    "start_time": "2023-03-11T13:23:19.183Z"
   },
   {
    "duration": 6,
    "start_time": "2023-03-11T13:23:19.190Z"
   },
   {
    "duration": 10,
    "start_time": "2023-03-11T13:23:19.198Z"
   },
   {
    "duration": 927,
    "start_time": "2023-03-11T13:23:19.210Z"
   },
   {
    "duration": 5,
    "start_time": "2023-03-11T13:23:20.139Z"
   },
   {
    "duration": 13,
    "start_time": "2023-03-11T13:23:20.145Z"
   },
   {
    "duration": 173,
    "start_time": "2023-03-11T13:23:20.160Z"
   },
   {
    "duration": 14,
    "start_time": "2023-03-11T13:23:20.335Z"
   },
   {
    "duration": 25,
    "start_time": "2023-03-11T13:23:20.351Z"
   },
   {
    "duration": 111,
    "start_time": "2023-03-11T13:23:20.383Z"
   },
   {
    "duration": 202,
    "start_time": "2023-03-11T13:23:20.499Z"
   },
   {
    "duration": 10,
    "start_time": "2023-03-11T13:23:20.703Z"
   },
   {
    "duration": 345,
    "start_time": "2023-03-11T13:23:20.715Z"
   },
   {
    "duration": 44,
    "start_time": "2023-03-11T13:23:21.062Z"
   },
   {
    "duration": 38,
    "start_time": "2023-03-11T13:23:21.108Z"
   },
   {
    "duration": 66,
    "start_time": "2023-03-11T13:23:21.147Z"
   },
   {
    "duration": 22,
    "start_time": "2023-03-11T13:23:21.214Z"
   },
   {
    "duration": 11,
    "start_time": "2023-03-11T13:23:21.239Z"
   },
   {
    "duration": 32,
    "start_time": "2023-03-11T13:23:21.252Z"
   },
   {
    "duration": 41,
    "start_time": "2023-03-11T13:23:21.286Z"
   },
   {
    "duration": 21,
    "start_time": "2023-03-11T13:23:21.329Z"
   },
   {
    "duration": 26,
    "start_time": "2023-03-11T13:23:21.352Z"
   },
   {
    "duration": 38,
    "start_time": "2023-03-11T13:23:21.388Z"
   },
   {
    "duration": 19,
    "start_time": "2023-03-11T13:23:21.428Z"
   },
   {
    "duration": 13,
    "start_time": "2023-03-11T13:23:21.449Z"
   },
   {
    "duration": 19,
    "start_time": "2023-03-11T13:23:21.464Z"
   },
   {
    "duration": 460,
    "start_time": "2023-03-11T13:23:21.485Z"
   },
   {
    "duration": 5,
    "start_time": "2023-03-11T13:23:21.946Z"
   },
   {
    "duration": 175,
    "start_time": "2023-03-11T13:23:21.955Z"
   },
   {
    "duration": 16,
    "start_time": "2023-03-11T13:23:22.132Z"
   },
   {
    "duration": 82,
    "start_time": "2023-03-11T13:23:22.149Z"
   },
   {
    "duration": 4,
    "start_time": "2023-03-11T13:23:22.233Z"
   },
   {
    "duration": 9,
    "start_time": "2023-03-11T13:23:22.239Z"
   },
   {
    "duration": 9,
    "start_time": "2023-03-11T13:23:22.250Z"
   },
   {
    "duration": 9,
    "start_time": "2023-03-11T13:23:22.275Z"
   },
   {
    "duration": 17,
    "start_time": "2023-03-11T13:23:22.286Z"
   },
   {
    "duration": 8,
    "start_time": "2023-03-11T13:23:22.305Z"
   },
   {
    "duration": 71,
    "start_time": "2023-03-11T13:23:22.315Z"
   },
   {
    "duration": 14,
    "start_time": "2023-03-11T13:23:22.388Z"
   },
   {
    "duration": 25,
    "start_time": "2023-03-11T13:23:22.404Z"
   },
   {
    "duration": 14,
    "start_time": "2023-03-11T13:23:22.431Z"
   },
   {
    "duration": 121,
    "start_time": "2023-03-11T13:23:22.446Z"
   },
   {
    "duration": 127,
    "start_time": "2023-03-11T13:23:22.568Z"
   },
   {
    "duration": 4,
    "start_time": "2023-03-11T13:23:22.697Z"
   },
   {
    "duration": 34,
    "start_time": "2023-03-11T13:23:22.703Z"
   },
   {
    "duration": 48,
    "start_time": "2023-03-11T13:23:22.738Z"
   },
   {
    "duration": 91,
    "start_time": "2023-03-11T13:23:22.788Z"
   },
   {
    "duration": 27,
    "start_time": "2023-03-11T13:23:22.886Z"
   },
   {
    "duration": 19,
    "start_time": "2023-03-11T13:23:22.915Z"
   },
   {
    "duration": 103,
    "start_time": "2023-03-11T13:23:22.936Z"
   },
   {
    "duration": 12,
    "start_time": "2023-03-11T13:23:23.041Z"
   },
   {
    "duration": 27,
    "start_time": "2023-03-11T13:23:23.055Z"
   },
   {
    "duration": 27,
    "start_time": "2023-03-11T13:23:23.083Z"
   },
   {
    "duration": 499,
    "start_time": "2023-03-11T13:23:23.112Z"
   },
   {
    "duration": 21,
    "start_time": "2023-03-11T13:23:23.613Z"
   },
   {
    "duration": 22,
    "start_time": "2023-03-11T13:23:23.636Z"
   },
   {
    "duration": 40,
    "start_time": "2023-03-11T13:23:23.660Z"
   },
   {
    "duration": 452,
    "start_time": "2023-03-11T13:23:23.702Z"
   },
   {
    "duration": 32,
    "start_time": "2023-03-11T13:23:24.156Z"
   },
   {
    "duration": 39,
    "start_time": "2023-03-11T13:23:24.190Z"
   },
   {
    "duration": 55,
    "start_time": "2023-03-11T13:23:24.231Z"
   },
   {
    "duration": 269,
    "start_time": "2023-03-11T13:23:24.290Z"
   },
   {
    "duration": 36,
    "start_time": "2023-03-11T13:23:24.562Z"
   },
   {
    "duration": 52,
    "start_time": "2023-03-11T13:23:24.601Z"
   },
   {
    "duration": 60,
    "start_time": "2023-03-11T13:23:24.655Z"
   },
   {
    "duration": 10,
    "start_time": "2023-03-11T13:23:24.717Z"
   },
   {
    "duration": 8,
    "start_time": "2023-03-11T13:23:24.729Z"
   },
   {
    "duration": 44,
    "start_time": "2023-03-11T13:23:24.739Z"
   },
   {
    "duration": 22,
    "start_time": "2023-03-11T13:23:24.785Z"
   },
   {
    "duration": 33,
    "start_time": "2023-03-11T13:23:24.809Z"
   },
   {
    "duration": 47,
    "start_time": "2023-03-11T13:23:24.844Z"
   },
   {
    "duration": 42,
    "start_time": "2023-03-11T13:23:24.893Z"
   },
   {
    "duration": 49,
    "start_time": "2023-03-11T13:23:24.937Z"
   },
   {
    "duration": 27,
    "start_time": "2023-03-11T13:23:24.988Z"
   },
   {
    "duration": 132,
    "start_time": "2023-03-11T13:23:25.018Z"
   },
   {
    "duration": 11,
    "start_time": "2023-03-11T13:23:25.151Z"
   },
   {
    "duration": 290,
    "start_time": "2023-03-11T13:23:25.173Z"
   },
   {
    "duration": 719,
    "start_time": "2023-03-11T13:23:25.465Z"
   },
   {
    "duration": 15,
    "start_time": "2023-03-11T13:23:26.191Z"
   },
   {
    "duration": 83,
    "start_time": "2023-03-11T13:23:26.207Z"
   },
   {
    "duration": 6,
    "start_time": "2023-03-11T13:23:26.292Z"
   },
   {
    "duration": 7,
    "start_time": "2023-03-11T13:23:26.301Z"
   },
   {
    "duration": 11,
    "start_time": "2023-03-11T13:23:26.314Z"
   },
   {
    "duration": 12,
    "start_time": "2023-03-11T13:23:26.327Z"
   },
   {
    "duration": 74,
    "start_time": "2023-03-11T13:23:26.340Z"
   },
   {
    "duration": 130,
    "start_time": "2023-03-11T13:23:26.416Z"
   },
   {
    "duration": 15,
    "start_time": "2023-03-11T13:23:26.548Z"
   },
   {
    "duration": 40,
    "start_time": "2023-03-11T13:23:26.564Z"
   },
   {
    "duration": 54,
    "start_time": "2023-03-11T13:23:26.606Z"
   },
   {
    "duration": 92,
    "start_time": "2023-03-11T13:23:26.662Z"
   },
   {
    "duration": 5,
    "start_time": "2023-03-11T13:23:26.756Z"
   },
   {
    "duration": 1718,
    "start_time": "2023-03-11T13:23:33.268Z"
   },
   {
    "duration": 4,
    "start_time": "2023-03-11T13:23:34.990Z"
   },
   {
    "duration": 96,
    "start_time": "2023-03-11T13:23:34.996Z"
   },
   {
    "duration": 52,
    "start_time": "2023-03-11T13:23:35.094Z"
   },
   {
    "duration": 15,
    "start_time": "2023-03-11T13:23:35.148Z"
   },
   {
    "duration": 45,
    "start_time": "2023-03-11T13:23:35.165Z"
   },
   {
    "duration": 13,
    "start_time": "2023-03-11T13:23:35.212Z"
   },
   {
    "duration": 35,
    "start_time": "2023-03-11T13:23:35.226Z"
   },
   {
    "duration": 1001,
    "start_time": "2023-03-11T13:23:35.263Z"
   },
   {
    "duration": 15,
    "start_time": "2023-03-11T13:23:36.267Z"
   },
   {
    "duration": 16,
    "start_time": "2023-03-11T13:23:36.284Z"
   },
   {
    "duration": 170,
    "start_time": "2023-03-11T13:23:36.302Z"
   },
   {
    "duration": 17,
    "start_time": "2023-03-11T13:23:36.478Z"
   },
   {
    "duration": 7,
    "start_time": "2023-03-11T13:23:36.497Z"
   },
   {
    "duration": 120,
    "start_time": "2023-03-11T13:23:36.506Z"
   },
   {
    "duration": 173,
    "start_time": "2023-03-11T13:23:36.628Z"
   },
   {
    "duration": 11,
    "start_time": "2023-03-11T13:23:36.803Z"
   },
   {
    "duration": 444,
    "start_time": "2023-03-11T13:23:36.816Z"
   },
   {
    "duration": 56,
    "start_time": "2023-03-11T13:23:37.262Z"
   },
   {
    "duration": 38,
    "start_time": "2023-03-11T13:23:37.320Z"
   },
   {
    "duration": 61,
    "start_time": "2023-03-11T13:23:37.359Z"
   },
   {
    "duration": 20,
    "start_time": "2023-03-11T13:23:37.422Z"
   },
   {
    "duration": 31,
    "start_time": "2023-03-11T13:23:37.444Z"
   },
   {
    "duration": 7,
    "start_time": "2023-03-11T13:23:37.477Z"
   },
   {
    "duration": 42,
    "start_time": "2023-03-11T13:23:37.486Z"
   },
   {
    "duration": 20,
    "start_time": "2023-03-11T13:23:37.530Z"
   },
   {
    "duration": 31,
    "start_time": "2023-03-11T13:23:37.551Z"
   },
   {
    "duration": 36,
    "start_time": "2023-03-11T13:23:37.588Z"
   },
   {
    "duration": 21,
    "start_time": "2023-03-11T13:23:37.626Z"
   },
   {
    "duration": 36,
    "start_time": "2023-03-11T13:23:37.649Z"
   },
   {
    "duration": 7,
    "start_time": "2023-03-11T13:23:37.687Z"
   },
   {
    "duration": 538,
    "start_time": "2023-03-11T13:23:37.695Z"
   },
   {
    "duration": 5,
    "start_time": "2023-03-11T13:23:38.235Z"
   },
   {
    "duration": 246,
    "start_time": "2023-03-11T13:23:38.242Z"
   },
   {
    "duration": 14,
    "start_time": "2023-03-11T13:23:38.490Z"
   },
   {
    "duration": 90,
    "start_time": "2023-03-11T13:23:38.506Z"
   },
   {
    "duration": 9,
    "start_time": "2023-03-11T13:23:38.598Z"
   },
   {
    "duration": 7,
    "start_time": "2023-03-11T13:23:38.609Z"
   },
   {
    "duration": 7,
    "start_time": "2023-03-11T13:23:38.618Z"
   },
   {
    "duration": 6,
    "start_time": "2023-03-11T13:23:38.627Z"
   },
   {
    "duration": 5,
    "start_time": "2023-03-11T13:23:38.635Z"
   },
   {
    "duration": 41,
    "start_time": "2023-03-11T13:23:38.641Z"
   },
   {
    "duration": 74,
    "start_time": "2023-03-11T13:23:38.685Z"
   },
   {
    "duration": 25,
    "start_time": "2023-03-11T13:23:38.760Z"
   },
   {
    "duration": 26,
    "start_time": "2023-03-11T13:23:38.787Z"
   },
   {
    "duration": 13,
    "start_time": "2023-03-11T13:23:38.814Z"
   },
   {
    "duration": 123,
    "start_time": "2023-03-11T13:23:38.829Z"
   },
   {
    "duration": 139,
    "start_time": "2023-03-11T13:23:38.954Z"
   },
   {
    "duration": 3,
    "start_time": "2023-03-11T13:23:39.095Z"
   },
   {
    "duration": 29,
    "start_time": "2023-03-11T13:23:39.100Z"
   },
   {
    "duration": 47,
    "start_time": "2023-03-11T13:23:39.131Z"
   },
   {
    "duration": 87,
    "start_time": "2023-03-11T13:23:39.179Z"
   },
   {
    "duration": 35,
    "start_time": "2023-03-11T13:23:39.267Z"
   },
   {
    "duration": 22,
    "start_time": "2023-03-11T13:23:39.304Z"
   },
   {
    "duration": 191,
    "start_time": "2023-03-11T13:23:39.328Z"
   },
   {
    "duration": 12,
    "start_time": "2023-03-11T13:23:39.521Z"
   },
   {
    "duration": 14,
    "start_time": "2023-03-11T13:23:39.534Z"
   },
   {
    "duration": 45,
    "start_time": "2023-03-11T13:23:39.549Z"
   },
   {
    "duration": 346,
    "start_time": "2023-03-11T13:23:39.596Z"
   },
   {
    "duration": 21,
    "start_time": "2023-03-11T13:23:39.944Z"
   },
   {
    "duration": 25,
    "start_time": "2023-03-11T13:23:39.977Z"
   },
   {
    "duration": 22,
    "start_time": "2023-03-11T13:23:40.004Z"
   },
   {
    "duration": 499,
    "start_time": "2023-03-11T13:23:40.028Z"
   },
   {
    "duration": 29,
    "start_time": "2023-03-11T13:23:40.529Z"
   },
   {
    "duration": 78,
    "start_time": "2023-03-11T13:23:40.560Z"
   },
   {
    "duration": 43,
    "start_time": "2023-03-11T13:23:40.640Z"
   },
   {
    "duration": 281,
    "start_time": "2023-03-11T13:23:40.688Z"
   },
   {
    "duration": 21,
    "start_time": "2023-03-11T13:23:40.975Z"
   },
   {
    "duration": 47,
    "start_time": "2023-03-11T13:23:40.999Z"
   },
   {
    "duration": 57,
    "start_time": "2023-03-11T13:23:41.048Z"
   },
   {
    "duration": 6,
    "start_time": "2023-03-11T13:23:41.107Z"
   },
   {
    "duration": 7,
    "start_time": "2023-03-11T13:23:41.115Z"
   },
   {
    "duration": 15,
    "start_time": "2023-03-11T13:23:41.124Z"
   },
   {
    "duration": 50,
    "start_time": "2023-03-11T13:23:41.140Z"
   },
   {
    "duration": 40,
    "start_time": "2023-03-11T13:23:41.193Z"
   },
   {
    "duration": 41,
    "start_time": "2023-03-11T13:23:41.235Z"
   },
   {
    "duration": 43,
    "start_time": "2023-03-11T13:23:41.280Z"
   },
   {
    "duration": 33,
    "start_time": "2023-03-11T13:23:41.325Z"
   },
   {
    "duration": 32,
    "start_time": "2023-03-11T13:23:41.360Z"
   },
   {
    "duration": 127,
    "start_time": "2023-03-11T13:23:41.394Z"
   },
   {
    "duration": 11,
    "start_time": "2023-03-11T13:23:41.523Z"
   },
   {
    "duration": 297,
    "start_time": "2023-03-11T13:23:41.540Z"
   },
   {
    "duration": 726,
    "start_time": "2023-03-11T13:23:41.839Z"
   },
   {
    "duration": 21,
    "start_time": "2023-03-11T13:23:42.566Z"
   },
   {
    "duration": 65,
    "start_time": "2023-03-11T13:23:42.589Z"
   },
   {
    "duration": 26,
    "start_time": "2023-03-11T13:23:42.656Z"
   },
   {
    "duration": 7,
    "start_time": "2023-03-11T13:23:42.687Z"
   },
   {
    "duration": 11,
    "start_time": "2023-03-11T13:23:42.695Z"
   },
   {
    "duration": 12,
    "start_time": "2023-03-11T13:23:42.708Z"
   },
   {
    "duration": 72,
    "start_time": "2023-03-11T13:23:42.722Z"
   },
   {
    "duration": 121,
    "start_time": "2023-03-11T13:23:42.795Z"
   },
   {
    "duration": 13,
    "start_time": "2023-03-11T13:23:42.918Z"
   },
   {
    "duration": 20,
    "start_time": "2023-03-11T13:23:42.932Z"
   },
   {
    "duration": 73,
    "start_time": "2023-03-11T13:23:42.953Z"
   },
   {
    "duration": 97,
    "start_time": "2023-03-11T13:23:43.028Z"
   },
   {
    "duration": 5,
    "start_time": "2023-03-11T13:23:43.127Z"
   },
   {
    "duration": 25,
    "start_time": "2023-03-11T13:25:29.121Z"
   },
   {
    "duration": 21,
    "start_time": "2023-03-11T13:26:01.019Z"
   },
   {
    "duration": 13,
    "start_time": "2023-03-11T13:26:48.109Z"
   },
   {
    "duration": 86,
    "start_time": "2023-03-11T13:27:59.944Z"
   },
   {
    "duration": 22,
    "start_time": "2023-03-11T13:28:27.388Z"
   },
   {
    "duration": 126,
    "start_time": "2023-03-11T13:30:10.118Z"
   },
   {
    "duration": 11,
    "start_time": "2023-03-11T13:30:32.509Z"
   },
   {
    "duration": 53,
    "start_time": "2023-03-11T13:30:57.631Z"
   },
   {
    "duration": 10,
    "start_time": "2023-03-11T13:31:05.885Z"
   },
   {
    "duration": 11,
    "start_time": "2023-03-11T13:31:29.210Z"
   },
   {
    "duration": 13,
    "start_time": "2023-03-11T13:31:52.997Z"
   },
   {
    "duration": 5,
    "start_time": "2023-03-11T13:31:59.942Z"
   },
   {
    "duration": 13,
    "start_time": "2023-03-11T13:32:43.409Z"
   },
   {
    "duration": 14,
    "start_time": "2023-03-11T13:33:08.710Z"
   },
   {
    "duration": 14,
    "start_time": "2023-03-11T13:33:16.556Z"
   },
   {
    "duration": 11,
    "start_time": "2023-03-11T13:33:21.419Z"
   },
   {
    "duration": 10,
    "start_time": "2023-03-11T13:33:40.701Z"
   },
   {
    "duration": 10,
    "start_time": "2023-03-11T13:33:54.691Z"
   },
   {
    "duration": 28,
    "start_time": "2023-03-11T13:36:44.099Z"
   },
   {
    "duration": 25,
    "start_time": "2023-03-11T13:37:01.737Z"
   },
   {
    "duration": 22,
    "start_time": "2023-03-11T13:39:59.424Z"
   },
   {
    "duration": 962,
    "start_time": "2023-03-11T13:42:10.555Z"
   },
   {
    "duration": 58,
    "start_time": "2023-03-11T13:42:51.959Z"
   },
   {
    "duration": 859,
    "start_time": "2023-03-11T13:42:56.622Z"
   },
   {
    "duration": 0,
    "start_time": "2023-03-11T13:43:01.126Z"
   },
   {
    "duration": 896,
    "start_time": "2023-03-11T13:43:03.639Z"
   },
   {
    "duration": 893,
    "start_time": "2023-03-11T13:43:49.590Z"
   },
   {
    "duration": 835,
    "start_time": "2023-03-11T13:44:35.184Z"
   },
   {
    "duration": 858,
    "start_time": "2023-03-11T13:44:44.497Z"
   },
   {
    "duration": 958,
    "start_time": "2023-03-11T13:44:49.802Z"
   },
   {
    "duration": 8197,
    "start_time": "2023-03-11T13:45:47.629Z"
   },
   {
    "duration": 909,
    "start_time": "2023-03-11T13:46:53.733Z"
   },
   {
    "duration": 847,
    "start_time": "2023-03-11T13:47:09.429Z"
   },
   {
    "duration": 1050,
    "start_time": "2023-03-11T16:21:53.965Z"
   },
   {
    "duration": 70382,
    "start_time": "2023-03-11T16:23:06.916Z"
   },
   {
    "duration": 1210,
    "start_time": "2023-03-11T16:25:27.521Z"
   },
   {
    "duration": 13,
    "start_time": "2023-03-11T16:28:29.580Z"
   },
   {
    "duration": 497,
    "start_time": "2023-03-11T16:29:12.541Z"
   },
   {
    "duration": 35660,
    "start_time": "2023-03-11T16:29:32.803Z"
   },
   {
    "duration": 6,
    "start_time": "2023-03-11T16:30:28.830Z"
   },
   {
    "duration": 11,
    "start_time": "2023-03-11T16:31:08.667Z"
   },
   {
    "duration": 33,
    "start_time": "2023-03-11T16:32:51.249Z"
   },
   {
    "duration": 24,
    "start_time": "2023-03-11T16:33:57.728Z"
   },
   {
    "duration": 14,
    "start_time": "2023-03-11T16:34:08.318Z"
   },
   {
    "duration": 7,
    "start_time": "2023-03-11T16:34:37.305Z"
   },
   {
    "duration": 66,
    "start_time": "2023-03-11T16:35:06.398Z"
   },
   {
    "duration": 3442,
    "start_time": "2023-03-11T16:35:54.004Z"
   },
   {
    "duration": 2893,
    "start_time": "2023-03-11T16:35:57.448Z"
   },
   {
    "duration": 3,
    "start_time": "2023-03-11T16:36:00.343Z"
   },
   {
    "duration": 57,
    "start_time": "2023-03-11T16:36:00.349Z"
   },
   {
    "duration": 56,
    "start_time": "2023-03-11T16:36:00.415Z"
   },
   {
    "duration": 130,
    "start_time": "2023-03-11T16:36:00.480Z"
   },
   {
    "duration": 103,
    "start_time": "2023-03-11T16:36:00.615Z"
   },
   {
    "duration": 58,
    "start_time": "2023-03-11T16:36:00.720Z"
   },
   {
    "duration": 79,
    "start_time": "2023-03-11T16:36:00.780Z"
   },
   {
    "duration": 1778,
    "start_time": "2023-03-11T16:36:00.862Z"
   },
   {
    "duration": 12,
    "start_time": "2023-03-11T16:36:02.642Z"
   },
   {
    "duration": 62,
    "start_time": "2023-03-11T16:36:02.656Z"
   },
   {
    "duration": 222,
    "start_time": "2023-03-11T16:36:02.720Z"
   },
   {
    "duration": 19,
    "start_time": "2023-03-11T16:36:02.943Z"
   },
   {
    "duration": 30,
    "start_time": "2023-03-11T16:36:02.973Z"
   },
   {
    "duration": 126,
    "start_time": "2023-03-11T16:36:03.006Z"
   },
   {
    "duration": 195,
    "start_time": "2023-03-11T16:36:03.134Z"
   },
   {
    "duration": 13,
    "start_time": "2023-03-11T16:36:03.332Z"
   },
   {
    "duration": 462,
    "start_time": "2023-03-11T16:36:03.347Z"
   },
   {
    "duration": 47,
    "start_time": "2023-03-11T16:36:03.818Z"
   },
   {
    "duration": 70,
    "start_time": "2023-03-11T16:36:03.866Z"
   },
   {
    "duration": 56,
    "start_time": "2023-03-11T16:36:03.938Z"
   },
   {
    "duration": 54,
    "start_time": "2023-03-11T16:36:03.996Z"
   },
   {
    "duration": 75,
    "start_time": "2023-03-11T16:36:04.052Z"
   },
   {
    "duration": 7,
    "start_time": "2023-03-11T16:36:04.129Z"
   },
   {
    "duration": 78,
    "start_time": "2023-03-11T16:36:04.138Z"
   },
   {
    "duration": 48,
    "start_time": "2023-03-11T16:36:04.219Z"
   },
   {
    "duration": 52,
    "start_time": "2023-03-11T16:36:04.273Z"
   },
   {
    "duration": 82,
    "start_time": "2023-03-11T16:36:04.327Z"
   },
   {
    "duration": 54,
    "start_time": "2023-03-11T16:36:04.411Z"
   },
   {
    "duration": 20,
    "start_time": "2023-03-11T16:36:04.467Z"
   },
   {
    "duration": 56,
    "start_time": "2023-03-11T16:36:04.490Z"
   },
   {
    "duration": 671,
    "start_time": "2023-03-11T16:36:04.548Z"
   },
   {
    "duration": 6,
    "start_time": "2023-03-11T16:36:05.222Z"
   },
   {
    "duration": 293,
    "start_time": "2023-03-11T16:36:05.229Z"
   },
   {
    "duration": 15,
    "start_time": "2023-03-11T16:36:05.525Z"
   },
   {
    "duration": 107,
    "start_time": "2023-03-11T16:36:05.543Z"
   },
   {
    "duration": 6,
    "start_time": "2023-03-11T16:36:05.652Z"
   },
   {
    "duration": 19,
    "start_time": "2023-03-11T16:36:05.661Z"
   },
   {
    "duration": 56,
    "start_time": "2023-03-11T16:36:05.682Z"
   },
   {
    "duration": 17,
    "start_time": "2023-03-11T16:36:05.754Z"
   },
   {
    "duration": 64,
    "start_time": "2023-03-11T16:36:05.773Z"
   },
   {
    "duration": 12,
    "start_time": "2023-03-11T16:36:05.840Z"
   },
   {
    "duration": 99,
    "start_time": "2023-03-11T16:36:05.854Z"
   },
   {
    "duration": 14,
    "start_time": "2023-03-11T16:36:05.955Z"
   },
   {
    "duration": 73,
    "start_time": "2023-03-11T16:36:05.973Z"
   },
   {
    "duration": 14,
    "start_time": "2023-03-11T16:36:06.048Z"
   },
   {
    "duration": 169,
    "start_time": "2023-03-11T16:36:06.063Z"
   },
   {
    "duration": 145,
    "start_time": "2023-03-11T16:36:06.234Z"
   },
   {
    "duration": 4,
    "start_time": "2023-03-11T16:36:06.381Z"
   },
   {
    "duration": 49,
    "start_time": "2023-03-11T16:36:06.387Z"
   },
   {
    "duration": 38,
    "start_time": "2023-03-11T16:36:06.439Z"
   },
   {
    "duration": 110,
    "start_time": "2023-03-11T16:36:06.479Z"
   },
   {
    "duration": 47,
    "start_time": "2023-03-11T16:36:06.592Z"
   },
   {
    "duration": 32,
    "start_time": "2023-03-11T16:36:06.641Z"
   },
   {
    "duration": 127,
    "start_time": "2023-03-11T16:36:06.675Z"
   },
   {
    "duration": 19,
    "start_time": "2023-03-11T16:36:06.804Z"
   },
   {
    "duration": 23,
    "start_time": "2023-03-11T16:36:06.825Z"
   },
   {
    "duration": 36,
    "start_time": "2023-03-11T16:36:06.851Z"
   },
   {
    "duration": 564,
    "start_time": "2023-03-11T16:36:06.889Z"
   },
   {
    "duration": 28,
    "start_time": "2023-03-11T16:36:07.456Z"
   },
   {
    "duration": 66,
    "start_time": "2023-03-11T16:36:07.486Z"
   },
   {
    "duration": 35,
    "start_time": "2023-03-11T16:36:07.555Z"
   },
   {
    "duration": 653,
    "start_time": "2023-03-11T16:36:07.592Z"
   },
   {
    "duration": 21,
    "start_time": "2023-03-11T16:36:08.247Z"
   },
   {
    "duration": 171,
    "start_time": "2023-03-11T16:36:08.270Z"
   },
   {
    "duration": 36,
    "start_time": "2023-03-11T16:36:08.443Z"
   },
   {
    "duration": 350,
    "start_time": "2023-03-11T16:36:08.482Z"
   },
   {
    "duration": 18,
    "start_time": "2023-03-11T16:36:08.837Z"
   },
   {
    "duration": 104,
    "start_time": "2023-03-11T16:36:08.857Z"
   },
   {
    "duration": 59,
    "start_time": "2023-03-11T16:36:08.963Z"
   },
   {
    "duration": 14,
    "start_time": "2023-03-11T16:36:09.027Z"
   },
   {
    "duration": 11,
    "start_time": "2023-03-11T16:36:09.043Z"
   },
   {
    "duration": 61,
    "start_time": "2023-03-11T16:36:09.056Z"
   },
   {
    "duration": 25,
    "start_time": "2023-03-11T16:36:09.118Z"
   },
   {
    "duration": 47,
    "start_time": "2023-03-11T16:36:09.145Z"
   },
   {
    "duration": 68,
    "start_time": "2023-03-11T16:36:09.194Z"
   },
   {
    "duration": 61,
    "start_time": "2023-03-11T16:36:09.264Z"
   },
   {
    "duration": 52,
    "start_time": "2023-03-11T16:36:09.328Z"
   },
   {
    "duration": 65,
    "start_time": "2023-03-11T16:36:09.383Z"
   },
   {
    "duration": 175,
    "start_time": "2023-03-11T16:36:09.450Z"
   },
   {
    "duration": 15,
    "start_time": "2023-03-11T16:36:09.633Z"
   },
   {
    "duration": 347,
    "start_time": "2023-03-11T16:36:09.650Z"
   },
   {
    "duration": 1040,
    "start_time": "2023-03-11T16:36:09.998Z"
   },
   {
    "duration": 14,
    "start_time": "2023-03-11T16:36:11.040Z"
   },
   {
    "duration": 102,
    "start_time": "2023-03-11T16:36:11.055Z"
   },
   {
    "duration": 4,
    "start_time": "2023-03-11T16:36:11.159Z"
   },
   {
    "duration": 9,
    "start_time": "2023-03-11T16:36:11.165Z"
   },
   {
    "duration": 57,
    "start_time": "2023-03-11T16:36:11.175Z"
   },
   {
    "duration": 9,
    "start_time": "2023-03-11T16:36:11.234Z"
   },
   {
    "duration": 87,
    "start_time": "2023-03-11T16:36:11.245Z"
   },
   {
    "duration": 148,
    "start_time": "2023-03-11T16:36:11.334Z"
   },
   {
    "duration": 22,
    "start_time": "2023-03-11T16:36:11.484Z"
   },
   {
    "duration": 21,
    "start_time": "2023-03-11T16:36:11.516Z"
   },
   {
    "duration": 71,
    "start_time": "2023-03-11T16:36:11.539Z"
   },
   {
    "duration": 108,
    "start_time": "2023-03-11T16:36:11.612Z"
   },
   {
    "duration": 5,
    "start_time": "2023-03-11T16:36:11.722Z"
   },
   {
    "duration": 49,
    "start_time": "2023-03-11T16:36:11.729Z"
   },
   {
    "duration": 40,
    "start_time": "2023-03-11T16:36:11.782Z"
   },
   {
    "duration": 36,
    "start_time": "2023-03-11T16:36:11.824Z"
   },
   {
    "duration": 25,
    "start_time": "2023-03-11T16:36:11.862Z"
   },
   {
    "duration": 75,
    "start_time": "2023-03-11T16:36:11.889Z"
   },
   {
    "duration": 1059,
    "start_time": "2023-03-11T16:36:11.967Z"
   },
   {
    "duration": 0,
    "start_time": "2023-03-11T16:36:13.028Z"
   },
   {
    "duration": 0,
    "start_time": "2023-03-11T16:36:13.030Z"
   },
   {
    "duration": 0,
    "start_time": "2023-03-11T16:36:13.032Z"
   },
   {
    "duration": 0,
    "start_time": "2023-03-11T16:36:13.033Z"
   },
   {
    "duration": 57,
    "start_time": "2023-03-11T16:40:37.301Z"
   },
   {
    "duration": 85,
    "start_time": "2023-03-11T16:40:52.806Z"
   },
   {
    "duration": 1030,
    "start_time": "2023-03-11T16:40:54.229Z"
   },
   {
    "duration": 53878,
    "start_time": "2023-03-11T16:41:24.094Z"
   },
   {
    "duration": 465,
    "start_time": "2023-03-11T16:42:20.973Z"
   },
   {
    "duration": 20,
    "start_time": "2023-03-11T16:44:30.147Z"
   },
   {
    "duration": 3975,
    "start_time": "2023-03-11T16:44:48.847Z"
   },
   {
    "duration": 34,
    "start_time": "2023-03-11T16:44:52.826Z"
   },
   {
    "duration": 11,
    "start_time": "2023-03-11T16:44:52.863Z"
   },
   {
    "duration": 31,
    "start_time": "2023-03-11T16:44:52.880Z"
   },
   {
    "duration": 19,
    "start_time": "2023-03-11T16:44:52.915Z"
   },
   {
    "duration": 13,
    "start_time": "2023-03-11T16:44:52.937Z"
   },
   {
    "duration": 53,
    "start_time": "2023-03-11T16:44:52.952Z"
   },
   {
    "duration": 10,
    "start_time": "2023-03-11T16:44:53.008Z"
   },
   {
    "duration": 24,
    "start_time": "2023-03-11T16:44:53.020Z"
   },
   {
    "duration": 1117,
    "start_time": "2023-03-11T16:44:53.046Z"
   },
   {
    "duration": 12,
    "start_time": "2023-03-11T16:44:54.165Z"
   },
   {
    "duration": 22,
    "start_time": "2023-03-11T16:44:54.182Z"
   },
   {
    "duration": 219,
    "start_time": "2023-03-11T16:44:54.206Z"
   },
   {
    "duration": 17,
    "start_time": "2023-03-11T16:44:54.640Z"
   },
   {
    "duration": 45,
    "start_time": "2023-03-11T16:44:54.659Z"
   },
   {
    "duration": 115,
    "start_time": "2023-03-11T16:44:54.707Z"
   },
   {
    "duration": 190,
    "start_time": "2023-03-11T16:44:54.824Z"
   },
   {
    "duration": 12,
    "start_time": "2023-03-11T16:44:55.016Z"
   },
   {
    "duration": 577,
    "start_time": "2023-03-11T16:44:55.031Z"
   },
   {
    "duration": 58,
    "start_time": "2023-03-11T16:44:55.614Z"
   },
   {
    "duration": 57,
    "start_time": "2023-03-11T16:44:55.674Z"
   },
   {
    "duration": 61,
    "start_time": "2023-03-11T16:44:55.732Z"
   },
   {
    "duration": 76,
    "start_time": "2023-03-11T16:44:55.798Z"
   },
   {
    "duration": 47,
    "start_time": "2023-03-11T16:44:55.875Z"
   },
   {
    "duration": 13,
    "start_time": "2023-03-11T16:44:55.925Z"
   },
   {
    "duration": 62,
    "start_time": "2023-03-11T16:44:55.940Z"
   },
   {
    "duration": 32,
    "start_time": "2023-03-11T16:44:56.005Z"
   },
   {
    "duration": 14,
    "start_time": "2023-03-11T16:44:56.039Z"
   },
   {
    "duration": 76,
    "start_time": "2023-03-11T16:44:56.056Z"
   },
   {
    "duration": 51,
    "start_time": "2023-03-11T16:44:56.134Z"
   },
   {
    "duration": 11,
    "start_time": "2023-03-11T16:44:56.191Z"
   },
   {
    "duration": 6,
    "start_time": "2023-03-11T16:44:56.205Z"
   },
   {
    "duration": 708,
    "start_time": "2023-03-11T16:44:56.213Z"
   },
   {
    "duration": 5,
    "start_time": "2023-03-11T16:44:56.923Z"
   },
   {
    "duration": 198,
    "start_time": "2023-03-11T16:44:56.930Z"
   },
   {
    "duration": 48,
    "start_time": "2023-03-11T16:44:57.130Z"
   },
   {
    "duration": 131,
    "start_time": "2023-03-11T16:44:57.183Z"
   },
   {
    "duration": 64,
    "start_time": "2023-03-11T16:44:57.317Z"
   },
   {
    "duration": 5,
    "start_time": "2023-03-11T16:44:57.385Z"
   },
   {
    "duration": 8,
    "start_time": "2023-03-11T16:44:57.392Z"
   },
   {
    "duration": 7,
    "start_time": "2023-03-11T16:44:57.407Z"
   },
   {
    "duration": 58,
    "start_time": "2023-03-11T16:44:57.416Z"
   },
   {
    "duration": 37,
    "start_time": "2023-03-11T16:44:57.481Z"
   },
   {
    "duration": 92,
    "start_time": "2023-03-11T16:44:57.521Z"
   },
   {
    "duration": 79,
    "start_time": "2023-03-11T16:44:57.616Z"
   },
   {
    "duration": 35,
    "start_time": "2023-03-11T16:44:57.697Z"
   },
   {
    "duration": 46,
    "start_time": "2023-03-11T16:44:57.735Z"
   },
   {
    "duration": 180,
    "start_time": "2023-03-11T16:44:57.786Z"
   },
   {
    "duration": 142,
    "start_time": "2023-03-11T16:44:57.972Z"
   },
   {
    "duration": 4,
    "start_time": "2023-03-11T16:44:58.117Z"
   },
   {
    "duration": 69,
    "start_time": "2023-03-11T16:44:58.124Z"
   },
   {
    "duration": 57,
    "start_time": "2023-03-11T16:44:58.197Z"
   },
   {
    "duration": 116,
    "start_time": "2023-03-11T16:44:58.258Z"
   },
   {
    "duration": 53,
    "start_time": "2023-03-11T16:44:58.383Z"
   },
   {
    "duration": 37,
    "start_time": "2023-03-11T16:44:58.439Z"
   },
   {
    "duration": 121,
    "start_time": "2023-03-11T16:44:58.481Z"
   },
   {
    "duration": 17,
    "start_time": "2023-03-11T16:44:58.605Z"
   },
   {
    "duration": 17,
    "start_time": "2023-03-11T16:44:58.624Z"
   },
   {
    "duration": 44,
    "start_time": "2023-03-11T16:44:58.643Z"
   },
   {
    "duration": 469,
    "start_time": "2023-03-11T16:44:58.689Z"
   },
   {
    "duration": 40,
    "start_time": "2023-03-11T16:44:59.161Z"
   },
   {
    "duration": 39,
    "start_time": "2023-03-11T16:44:59.203Z"
   },
   {
    "duration": 35,
    "start_time": "2023-03-11T16:44:59.245Z"
   },
   {
    "duration": 571,
    "start_time": "2023-03-11T16:44:59.285Z"
   },
   {
    "duration": 35,
    "start_time": "2023-03-11T16:44:59.858Z"
   },
   {
    "duration": 53,
    "start_time": "2023-03-11T16:44:59.895Z"
   },
   {
    "duration": 48,
    "start_time": "2023-03-11T16:44:59.950Z"
   },
   {
    "duration": 338,
    "start_time": "2023-03-11T16:45:00.002Z"
   },
   {
    "duration": 18,
    "start_time": "2023-03-11T16:45:00.342Z"
   },
   {
    "duration": 101,
    "start_time": "2023-03-11T16:45:00.362Z"
   },
   {
    "duration": 114,
    "start_time": "2023-03-11T16:45:00.466Z"
   },
   {
    "duration": 58,
    "start_time": "2023-03-11T16:45:00.585Z"
   },
   {
    "duration": 71,
    "start_time": "2023-03-11T16:45:00.645Z"
   },
   {
    "duration": 38,
    "start_time": "2023-03-11T16:45:00.720Z"
   },
   {
    "duration": 71,
    "start_time": "2023-03-11T16:45:00.761Z"
   },
   {
    "duration": 93,
    "start_time": "2023-03-11T16:45:00.834Z"
   },
   {
    "duration": 104,
    "start_time": "2023-03-11T16:45:00.930Z"
   },
   {
    "duration": 122,
    "start_time": "2023-03-11T16:45:01.036Z"
   },
   {
    "duration": 61,
    "start_time": "2023-03-11T16:45:01.160Z"
   },
   {
    "duration": 68,
    "start_time": "2023-03-11T16:45:01.223Z"
   },
   {
    "duration": 177,
    "start_time": "2023-03-11T16:45:01.294Z"
   },
   {
    "duration": 17,
    "start_time": "2023-03-11T16:45:01.472Z"
   },
   {
    "duration": 422,
    "start_time": "2023-03-11T16:45:01.491Z"
   },
   {
    "duration": 845,
    "start_time": "2023-03-11T16:45:01.915Z"
   },
   {
    "duration": 23,
    "start_time": "2023-03-11T16:45:02.762Z"
   },
   {
    "duration": 110,
    "start_time": "2023-03-11T16:45:02.788Z"
   },
   {
    "duration": 41,
    "start_time": "2023-03-11T16:45:02.901Z"
   },
   {
    "duration": 9,
    "start_time": "2023-03-11T16:45:02.944Z"
   },
   {
    "duration": 9,
    "start_time": "2023-03-11T16:45:02.955Z"
   },
   {
    "duration": 40,
    "start_time": "2023-03-11T16:45:02.966Z"
   },
   {
    "duration": 85,
    "start_time": "2023-03-11T16:45:03.009Z"
   },
   {
    "duration": 159,
    "start_time": "2023-03-11T16:45:03.099Z"
   },
   {
    "duration": 21,
    "start_time": "2023-03-11T16:45:03.260Z"
   },
   {
    "duration": 47,
    "start_time": "2023-03-11T16:45:03.283Z"
   },
   {
    "duration": 62,
    "start_time": "2023-03-11T16:45:03.333Z"
   },
   {
    "duration": 131,
    "start_time": "2023-03-11T16:45:03.397Z"
   },
   {
    "duration": 6,
    "start_time": "2023-03-11T16:45:03.531Z"
   },
   {
    "duration": 41,
    "start_time": "2023-03-11T16:45:03.539Z"
   },
   {
    "duration": 14,
    "start_time": "2023-03-11T16:45:03.583Z"
   },
   {
    "duration": 45,
    "start_time": "2023-03-11T16:45:03.599Z"
   },
   {
    "duration": 50,
    "start_time": "2023-03-11T16:45:03.645Z"
   },
   {
    "duration": 70,
    "start_time": "2023-03-11T16:45:03.698Z"
   },
   {
    "duration": 125,
    "start_time": "2023-03-11T16:45:14.798Z"
   },
   {
    "duration": 3493,
    "start_time": "2023-03-11T16:45:40.887Z"
   },
   {
    "duration": 2555,
    "start_time": "2023-03-11T16:45:44.383Z"
   },
   {
    "duration": 3,
    "start_time": "2023-03-11T16:45:46.941Z"
   },
   {
    "duration": 16,
    "start_time": "2023-03-11T16:45:46.946Z"
   },
   {
    "duration": 37,
    "start_time": "2023-03-11T16:45:46.966Z"
   },
   {
    "duration": 9,
    "start_time": "2023-03-11T16:45:47.005Z"
   },
   {
    "duration": 17,
    "start_time": "2023-03-11T16:45:47.016Z"
   },
   {
    "duration": 12,
    "start_time": "2023-03-11T16:45:47.035Z"
   },
   {
    "duration": 22,
    "start_time": "2023-03-11T16:45:47.048Z"
   },
   {
    "duration": 1745,
    "start_time": "2023-03-11T16:45:47.073Z"
   },
   {
    "duration": 8,
    "start_time": "2023-03-11T16:45:48.821Z"
   },
   {
    "duration": 15,
    "start_time": "2023-03-11T16:45:48.831Z"
   },
   {
    "duration": 287,
    "start_time": "2023-03-11T16:45:48.849Z"
   },
   {
    "duration": 38,
    "start_time": "2023-03-11T16:45:49.142Z"
   },
   {
    "duration": 13,
    "start_time": "2023-03-11T16:45:49.182Z"
   },
   {
    "duration": 147,
    "start_time": "2023-03-11T16:45:49.201Z"
   },
   {
    "duration": 224,
    "start_time": "2023-03-11T16:45:49.350Z"
   },
   {
    "duration": 17,
    "start_time": "2023-03-11T16:45:49.576Z"
   },
   {
    "duration": 407,
    "start_time": "2023-03-11T16:45:49.596Z"
   },
   {
    "duration": 58,
    "start_time": "2023-03-11T16:45:50.006Z"
   },
   {
    "duration": 70,
    "start_time": "2023-03-11T16:45:50.074Z"
   },
   {
    "duration": 76,
    "start_time": "2023-03-11T16:45:50.147Z"
   },
   {
    "duration": 26,
    "start_time": "2023-03-11T16:45:50.226Z"
   },
   {
    "duration": 51,
    "start_time": "2023-03-11T16:45:50.254Z"
   },
   {
    "duration": 7,
    "start_time": "2023-03-11T16:45:50.308Z"
   },
   {
    "duration": 81,
    "start_time": "2023-03-11T16:45:50.317Z"
   },
   {
    "duration": 106,
    "start_time": "2023-03-11T16:45:50.400Z"
   },
   {
    "duration": 32,
    "start_time": "2023-03-11T16:45:50.509Z"
   },
   {
    "duration": 111,
    "start_time": "2023-03-11T16:45:50.543Z"
   },
   {
    "duration": 67,
    "start_time": "2023-03-11T16:45:50.656Z"
   },
   {
    "duration": 30,
    "start_time": "2023-03-11T16:45:50.726Z"
   },
   {
    "duration": 13,
    "start_time": "2023-03-11T16:45:50.758Z"
   },
   {
    "duration": 835,
    "start_time": "2023-03-11T16:45:50.785Z"
   },
   {
    "duration": 6,
    "start_time": "2023-03-11T16:45:51.623Z"
   },
   {
    "duration": 349,
    "start_time": "2023-03-11T16:45:51.632Z"
   },
   {
    "duration": 29,
    "start_time": "2023-03-11T16:45:51.983Z"
   },
   {
    "duration": 94,
    "start_time": "2023-03-11T16:45:52.015Z"
   },
   {
    "duration": 9,
    "start_time": "2023-03-11T16:45:52.111Z"
   },
   {
    "duration": 12,
    "start_time": "2023-03-11T16:45:52.122Z"
   },
   {
    "duration": 13,
    "start_time": "2023-03-11T16:45:52.137Z"
   },
   {
    "duration": 16,
    "start_time": "2023-03-11T16:45:52.173Z"
   },
   {
    "duration": 10,
    "start_time": "2023-03-11T16:45:52.199Z"
   },
   {
    "duration": 13,
    "start_time": "2023-03-11T16:45:52.211Z"
   },
   {
    "duration": 87,
    "start_time": "2023-03-11T16:45:52.226Z"
   },
   {
    "duration": 21,
    "start_time": "2023-03-11T16:45:52.316Z"
   },
   {
    "duration": 34,
    "start_time": "2023-03-11T16:45:52.339Z"
   },
   {
    "duration": 26,
    "start_time": "2023-03-11T16:45:52.377Z"
   },
   {
    "duration": 178,
    "start_time": "2023-03-11T16:45:52.405Z"
   },
   {
    "duration": 163,
    "start_time": "2023-03-11T16:45:52.585Z"
   },
   {
    "duration": 4,
    "start_time": "2023-03-11T16:45:52.751Z"
   },
   {
    "duration": 54,
    "start_time": "2023-03-11T16:45:52.757Z"
   },
   {
    "duration": 49,
    "start_time": "2023-03-11T16:45:52.814Z"
   },
   {
    "duration": 139,
    "start_time": "2023-03-11T16:45:52.876Z"
   },
   {
    "duration": 42,
    "start_time": "2023-03-11T16:45:53.018Z"
   },
   {
    "duration": 40,
    "start_time": "2023-03-11T16:45:53.062Z"
   },
   {
    "duration": 119,
    "start_time": "2023-03-11T16:45:53.104Z"
   },
   {
    "duration": 19,
    "start_time": "2023-03-11T16:45:53.226Z"
   },
   {
    "duration": 29,
    "start_time": "2023-03-11T16:45:53.248Z"
   },
   {
    "duration": 28,
    "start_time": "2023-03-11T16:45:53.282Z"
   },
   {
    "duration": 518,
    "start_time": "2023-03-11T16:45:53.312Z"
   },
   {
    "duration": 23,
    "start_time": "2023-03-11T16:45:53.832Z"
   },
   {
    "duration": 44,
    "start_time": "2023-03-11T16:45:53.858Z"
   },
   {
    "duration": 27,
    "start_time": "2023-03-11T16:45:53.905Z"
   },
   {
    "duration": 676,
    "start_time": "2023-03-11T16:45:53.935Z"
   },
   {
    "duration": 23,
    "start_time": "2023-03-11T16:45:54.614Z"
   },
   {
    "duration": 57,
    "start_time": "2023-03-11T16:45:54.640Z"
   },
   {
    "duration": 42,
    "start_time": "2023-03-11T16:45:54.700Z"
   },
   {
    "duration": 316,
    "start_time": "2023-03-11T16:45:54.744Z"
   },
   {
    "duration": 34,
    "start_time": "2023-03-11T16:45:55.063Z"
   },
   {
    "duration": 64,
    "start_time": "2023-03-11T16:45:55.099Z"
   },
   {
    "duration": 54,
    "start_time": "2023-03-11T16:45:55.165Z"
   },
   {
    "duration": 19,
    "start_time": "2023-03-11T16:45:55.221Z"
   },
   {
    "duration": 17,
    "start_time": "2023-03-11T16:45:55.242Z"
   },
   {
    "duration": 38,
    "start_time": "2023-03-11T16:45:55.261Z"
   },
   {
    "duration": 28,
    "start_time": "2023-03-11T16:45:55.303Z"
   },
   {
    "duration": 74,
    "start_time": "2023-03-11T16:45:55.334Z"
   },
   {
    "duration": 50,
    "start_time": "2023-03-11T16:45:55.411Z"
   },
   {
    "duration": 73,
    "start_time": "2023-03-11T16:45:55.463Z"
   },
   {
    "duration": 49,
    "start_time": "2023-03-11T16:45:55.539Z"
   },
   {
    "duration": 48,
    "start_time": "2023-03-11T16:45:55.590Z"
   },
   {
    "duration": 206,
    "start_time": "2023-03-11T16:45:55.640Z"
   },
   {
    "duration": 17,
    "start_time": "2023-03-11T16:45:55.848Z"
   },
   {
    "duration": 451,
    "start_time": "2023-03-11T16:45:55.867Z"
   },
   {
    "duration": 836,
    "start_time": "2023-03-11T16:45:56.321Z"
   },
   {
    "duration": 34,
    "start_time": "2023-03-11T16:45:57.161Z"
   },
   {
    "duration": 78,
    "start_time": "2023-03-11T16:45:57.197Z"
   },
   {
    "duration": 12,
    "start_time": "2023-03-11T16:45:57.280Z"
   },
   {
    "duration": 8,
    "start_time": "2023-03-11T16:45:57.299Z"
   },
   {
    "duration": 14,
    "start_time": "2023-03-11T16:45:57.309Z"
   },
   {
    "duration": 13,
    "start_time": "2023-03-11T16:45:57.326Z"
   },
   {
    "duration": 82,
    "start_time": "2023-03-11T16:45:57.341Z"
   },
   {
    "duration": 138,
    "start_time": "2023-03-11T16:45:57.426Z"
   },
   {
    "duration": 24,
    "start_time": "2023-03-11T16:45:57.566Z"
   },
   {
    "duration": 27,
    "start_time": "2023-03-11T16:45:57.591Z"
   },
   {
    "duration": 82,
    "start_time": "2023-03-11T16:45:57.620Z"
   },
   {
    "duration": 109,
    "start_time": "2023-03-11T16:45:57.705Z"
   },
   {
    "duration": 7,
    "start_time": "2023-03-11T16:45:57.815Z"
   },
   {
    "duration": 34,
    "start_time": "2023-03-11T16:45:57.824Z"
   },
   {
    "duration": 66,
    "start_time": "2023-03-11T16:45:57.859Z"
   },
   {
    "duration": 36,
    "start_time": "2023-03-11T16:45:57.927Z"
   },
   {
    "duration": 31,
    "start_time": "2023-03-11T16:45:57.965Z"
   },
   {
    "duration": 57,
    "start_time": "2023-03-11T16:45:58.001Z"
   },
   {
    "duration": 58026,
    "start_time": "2023-03-11T16:46:02.892Z"
   },
   {
    "duration": 636,
    "start_time": "2023-03-11T16:47:00.921Z"
   },
   {
    "duration": 29,
    "start_time": "2023-03-11T16:47:33.073Z"
   },
   {
    "duration": 3870,
    "start_time": "2023-03-11T16:48:04.827Z"
   },
   {
    "duration": 1627,
    "start_time": "2023-03-11T16:48:08.700Z"
   },
   {
    "duration": 4,
    "start_time": "2023-03-11T16:48:10.328Z"
   },
   {
    "duration": 8,
    "start_time": "2023-03-11T16:48:10.333Z"
   },
   {
    "duration": 7,
    "start_time": "2023-03-11T16:48:10.343Z"
   },
   {
    "duration": 46,
    "start_time": "2023-03-11T16:48:10.352Z"
   },
   {
    "duration": 27,
    "start_time": "2023-03-11T16:48:10.400Z"
   },
   {
    "duration": 27,
    "start_time": "2023-03-11T16:48:10.429Z"
   },
   {
    "duration": 17,
    "start_time": "2023-03-11T16:48:10.458Z"
   },
   {
    "duration": 1258,
    "start_time": "2023-03-11T16:48:10.478Z"
   },
   {
    "duration": 7,
    "start_time": "2023-03-11T16:48:11.739Z"
   },
   {
    "duration": 21,
    "start_time": "2023-03-11T16:48:11.748Z"
   },
   {
    "duration": 308,
    "start_time": "2023-03-11T16:48:11.780Z"
   },
   {
    "duration": 19,
    "start_time": "2023-03-11T16:48:12.097Z"
   },
   {
    "duration": 12,
    "start_time": "2023-03-11T16:48:12.118Z"
   },
   {
    "duration": 129,
    "start_time": "2023-03-11T16:48:12.132Z"
   },
   {
    "duration": 268,
    "start_time": "2023-03-11T16:48:12.262Z"
   },
   {
    "duration": 13,
    "start_time": "2023-03-11T16:48:12.532Z"
   },
   {
    "duration": 458,
    "start_time": "2023-03-11T16:48:12.548Z"
   },
   {
    "duration": 55,
    "start_time": "2023-03-11T16:48:13.009Z"
   },
   {
    "duration": 60,
    "start_time": "2023-03-11T16:48:13.066Z"
   },
   {
    "duration": 63,
    "start_time": "2023-03-11T16:48:13.128Z"
   },
   {
    "duration": 32,
    "start_time": "2023-03-11T16:48:13.197Z"
   },
   {
    "duration": 26,
    "start_time": "2023-03-11T16:48:13.232Z"
   },
   {
    "duration": 5,
    "start_time": "2023-03-11T16:48:13.260Z"
   },
   {
    "duration": 65,
    "start_time": "2023-03-11T16:48:13.267Z"
   },
   {
    "duration": 24,
    "start_time": "2023-03-11T16:48:13.335Z"
   },
   {
    "duration": 14,
    "start_time": "2023-03-11T16:48:13.361Z"
   },
   {
    "duration": 54,
    "start_time": "2023-03-11T16:48:13.380Z"
   },
   {
    "duration": 25,
    "start_time": "2023-03-11T16:48:13.436Z"
   },
   {
    "duration": 15,
    "start_time": "2023-03-11T16:48:13.463Z"
   },
   {
    "duration": 26,
    "start_time": "2023-03-11T16:48:13.481Z"
   },
   {
    "duration": 595,
    "start_time": "2023-03-11T16:48:13.509Z"
   },
   {
    "duration": 6,
    "start_time": "2023-03-11T16:48:14.106Z"
   },
   {
    "duration": 347,
    "start_time": "2023-03-11T16:48:14.113Z"
   },
   {
    "duration": 27,
    "start_time": "2023-03-11T16:48:14.462Z"
   },
   {
    "duration": 119,
    "start_time": "2023-03-11T16:48:14.492Z"
   },
   {
    "duration": 6,
    "start_time": "2023-03-11T16:48:14.615Z"
   },
   {
    "duration": 8,
    "start_time": "2023-03-11T16:48:14.624Z"
   },
   {
    "duration": 9,
    "start_time": "2023-03-11T16:48:14.634Z"
   },
   {
    "duration": 8,
    "start_time": "2023-03-11T16:48:14.649Z"
   },
   {
    "duration": 13,
    "start_time": "2023-03-11T16:48:14.672Z"
   },
   {
    "duration": 30,
    "start_time": "2023-03-11T16:48:14.688Z"
   },
   {
    "duration": 88,
    "start_time": "2023-03-11T16:48:14.720Z"
   },
   {
    "duration": 15,
    "start_time": "2023-03-11T16:48:14.810Z"
   },
   {
    "duration": 31,
    "start_time": "2023-03-11T16:48:14.827Z"
   },
   {
    "duration": 30,
    "start_time": "2023-03-11T16:48:14.860Z"
   },
   {
    "duration": 155,
    "start_time": "2023-03-11T16:48:14.892Z"
   },
   {
    "duration": 197,
    "start_time": "2023-03-11T16:48:15.049Z"
   },
   {
    "duration": 4,
    "start_time": "2023-03-11T16:48:15.248Z"
   },
   {
    "duration": 58,
    "start_time": "2023-03-11T16:48:15.255Z"
   },
   {
    "duration": 32,
    "start_time": "2023-03-11T16:48:15.314Z"
   },
   {
    "duration": 149,
    "start_time": "2023-03-11T16:48:15.348Z"
   },
   {
    "duration": 42,
    "start_time": "2023-03-11T16:48:15.500Z"
   },
   {
    "duration": 53,
    "start_time": "2023-03-11T16:48:15.544Z"
   },
   {
    "duration": 125,
    "start_time": "2023-03-11T16:48:15.602Z"
   },
   {
    "duration": 17,
    "start_time": "2023-03-11T16:48:15.730Z"
   },
   {
    "duration": 36,
    "start_time": "2023-03-11T16:48:15.750Z"
   },
   {
    "duration": 26,
    "start_time": "2023-03-11T16:48:15.794Z"
   },
   {
    "duration": 551,
    "start_time": "2023-03-11T16:48:15.821Z"
   },
   {
    "duration": 43,
    "start_time": "2023-03-11T16:48:16.381Z"
   },
   {
    "duration": 31,
    "start_time": "2023-03-11T16:48:16.426Z"
   },
   {
    "duration": 32,
    "start_time": "2023-03-11T16:48:16.459Z"
   },
   {
    "duration": 576,
    "start_time": "2023-03-11T16:48:16.495Z"
   },
   {
    "duration": 30,
    "start_time": "2023-03-11T16:48:17.075Z"
   },
   {
    "duration": 60,
    "start_time": "2023-03-11T16:48:17.107Z"
   },
   {
    "duration": 61,
    "start_time": "2023-03-11T16:48:17.169Z"
   },
   {
    "duration": 289,
    "start_time": "2023-03-11T16:48:17.233Z"
   },
   {
    "duration": 17,
    "start_time": "2023-03-11T16:48:17.524Z"
   },
   {
    "duration": 94,
    "start_time": "2023-03-11T16:48:17.543Z"
   },
   {
    "duration": 69,
    "start_time": "2023-03-11T16:48:17.639Z"
   },
   {
    "duration": 6,
    "start_time": "2023-03-11T16:48:17.711Z"
   },
   {
    "duration": 12,
    "start_time": "2023-03-11T16:48:17.719Z"
   },
   {
    "duration": 48,
    "start_time": "2023-03-11T16:48:17.733Z"
   },
   {
    "duration": 39,
    "start_time": "2023-03-11T16:48:17.785Z"
   },
   {
    "duration": 68,
    "start_time": "2023-03-11T16:48:17.826Z"
   },
   {
    "duration": 58,
    "start_time": "2023-03-11T16:48:17.897Z"
   },
   {
    "duration": 83,
    "start_time": "2023-03-11T16:48:17.958Z"
   },
   {
    "duration": 39,
    "start_time": "2023-03-11T16:48:18.044Z"
   },
   {
    "duration": 28,
    "start_time": "2023-03-11T16:48:18.086Z"
   },
   {
    "duration": 144,
    "start_time": "2023-03-11T16:48:18.116Z"
   },
   {
    "duration": 27,
    "start_time": "2023-03-11T16:48:18.262Z"
   },
   {
    "duration": 450,
    "start_time": "2023-03-11T16:48:18.292Z"
   },
   {
    "duration": 837,
    "start_time": "2023-03-11T16:48:18.745Z"
   },
   {
    "duration": 17,
    "start_time": "2023-03-11T16:48:19.595Z"
   },
   {
    "duration": 89,
    "start_time": "2023-03-11T16:48:19.614Z"
   },
   {
    "duration": 10,
    "start_time": "2023-03-11T16:48:19.706Z"
   },
   {
    "duration": 15,
    "start_time": "2023-03-11T16:48:19.718Z"
   },
   {
    "duration": 15,
    "start_time": "2023-03-11T16:48:19.735Z"
   },
   {
    "duration": 38,
    "start_time": "2023-03-11T16:48:19.752Z"
   },
   {
    "duration": 66,
    "start_time": "2023-03-11T16:48:19.792Z"
   },
   {
    "duration": 140,
    "start_time": "2023-03-11T16:48:19.860Z"
   },
   {
    "duration": 16,
    "start_time": "2023-03-11T16:48:20.002Z"
   },
   {
    "duration": 28,
    "start_time": "2023-03-11T16:48:20.020Z"
   },
   {
    "duration": 88,
    "start_time": "2023-03-11T16:48:20.050Z"
   },
   {
    "duration": 160,
    "start_time": "2023-03-11T16:48:20.140Z"
   },
   {
    "duration": 14,
    "start_time": "2023-03-11T16:48:20.303Z"
   },
   {
    "duration": 43,
    "start_time": "2023-03-11T16:48:20.320Z"
   },
   {
    "duration": 62,
    "start_time": "2023-03-11T16:48:20.367Z"
   },
   {
    "duration": 44,
    "start_time": "2023-03-11T16:48:20.432Z"
   },
   {
    "duration": 68,
    "start_time": "2023-03-11T16:48:20.478Z"
   },
   {
    "duration": 114,
    "start_time": "2023-03-11T16:48:20.549Z"
   },
   {
    "duration": 58621,
    "start_time": "2023-03-11T16:48:20.666Z"
   },
   {
    "duration": 427,
    "start_time": "2023-03-11T16:49:19.289Z"
   },
   {
    "duration": 172,
    "start_time": "2023-03-11T16:50:30.292Z"
   },
   {
    "duration": 19,
    "start_time": "2023-03-11T16:51:06.195Z"
   },
   {
    "duration": 60,
    "start_time": "2023-03-11T16:52:32.238Z"
   },
   {
    "duration": 34,
    "start_time": "2023-03-11T16:52:45.851Z"
   },
   {
    "duration": 65,
    "start_time": "2023-03-11T16:52:56.345Z"
   },
   {
    "duration": 424,
    "start_time": "2023-03-11T16:53:23.566Z"
   },
   {
    "duration": 5,
    "start_time": "2023-03-11T16:57:08.718Z"
   },
   {
    "duration": 151,
    "start_time": "2023-03-11T16:57:40.120Z"
   },
   {
    "duration": 16,
    "start_time": "2023-03-11T16:58:34.654Z"
   },
   {
    "duration": 3717,
    "start_time": "2023-03-11T16:59:03.223Z"
   },
   {
    "duration": 1710,
    "start_time": "2023-03-11T16:59:06.945Z"
   },
   {
    "duration": 3,
    "start_time": "2023-03-11T16:59:08.658Z"
   },
   {
    "duration": 16,
    "start_time": "2023-03-11T16:59:08.664Z"
   },
   {
    "duration": 36,
    "start_time": "2023-03-11T16:59:08.688Z"
   },
   {
    "duration": 6,
    "start_time": "2023-03-11T16:59:08.726Z"
   },
   {
    "duration": 7,
    "start_time": "2023-03-11T16:59:08.734Z"
   },
   {
    "duration": 10,
    "start_time": "2023-03-11T16:59:08.744Z"
   },
   {
    "duration": 12,
    "start_time": "2023-03-11T16:59:08.756Z"
   },
   {
    "duration": 1184,
    "start_time": "2023-03-11T16:59:08.770Z"
   },
   {
    "duration": 6,
    "start_time": "2023-03-11T16:59:09.959Z"
   },
   {
    "duration": 51,
    "start_time": "2023-03-11T16:59:09.975Z"
   },
   {
    "duration": 207,
    "start_time": "2023-03-11T16:59:10.028Z"
   },
   {
    "duration": 18,
    "start_time": "2023-03-11T16:59:10.239Z"
   },
   {
    "duration": 24,
    "start_time": "2023-03-11T16:59:10.258Z"
   },
   {
    "duration": 182,
    "start_time": "2023-03-11T16:59:10.284Z"
   },
   {
    "duration": 281,
    "start_time": "2023-03-11T16:59:10.469Z"
   },
   {
    "duration": 14,
    "start_time": "2023-03-11T16:59:10.753Z"
   },
   {
    "duration": 457,
    "start_time": "2023-03-11T16:59:10.784Z"
   },
   {
    "duration": 70,
    "start_time": "2023-03-11T16:59:11.244Z"
   },
   {
    "duration": 49,
    "start_time": "2023-03-11T16:59:11.316Z"
   },
   {
    "duration": 74,
    "start_time": "2023-03-11T16:59:11.372Z"
   },
   {
    "duration": 54,
    "start_time": "2023-03-11T16:59:11.448Z"
   },
   {
    "duration": 27,
    "start_time": "2023-03-11T16:59:11.506Z"
   },
   {
    "duration": 6,
    "start_time": "2023-03-11T16:59:11.536Z"
   },
   {
    "duration": 52,
    "start_time": "2023-03-11T16:59:11.544Z"
   },
   {
    "duration": 53,
    "start_time": "2023-03-11T16:59:11.598Z"
   },
   {
    "duration": 12,
    "start_time": "2023-03-11T16:59:11.653Z"
   },
   {
    "duration": 83,
    "start_time": "2023-03-11T16:59:11.667Z"
   },
   {
    "duration": 49,
    "start_time": "2023-03-11T16:59:11.752Z"
   },
   {
    "duration": 23,
    "start_time": "2023-03-11T16:59:11.808Z"
   },
   {
    "duration": 6,
    "start_time": "2023-03-11T16:59:11.833Z"
   },
   {
    "duration": 630,
    "start_time": "2023-03-11T16:59:11.841Z"
   },
   {
    "duration": 7,
    "start_time": "2023-03-11T16:59:12.479Z"
   },
   {
    "duration": 229,
    "start_time": "2023-03-11T16:59:12.488Z"
   },
   {
    "duration": 16,
    "start_time": "2023-03-11T16:59:12.719Z"
   },
   {
    "duration": 92,
    "start_time": "2023-03-11T16:59:12.737Z"
   },
   {
    "duration": 5,
    "start_time": "2023-03-11T16:59:12.831Z"
   },
   {
    "duration": 7,
    "start_time": "2023-03-11T16:59:12.838Z"
   },
   {
    "duration": 6,
    "start_time": "2023-03-11T16:59:12.847Z"
   },
   {
    "duration": 12,
    "start_time": "2023-03-11T16:59:12.874Z"
   },
   {
    "duration": 31,
    "start_time": "2023-03-11T16:59:12.888Z"
   },
   {
    "duration": 9,
    "start_time": "2023-03-11T16:59:12.921Z"
   },
   {
    "duration": 105,
    "start_time": "2023-03-11T16:59:12.932Z"
   },
   {
    "duration": 14,
    "start_time": "2023-03-11T16:59:13.038Z"
   },
   {
    "duration": 44,
    "start_time": "2023-03-11T16:59:13.054Z"
   },
   {
    "duration": 19,
    "start_time": "2023-03-11T16:59:13.100Z"
   },
   {
    "duration": 122,
    "start_time": "2023-03-11T16:59:13.120Z"
   },
   {
    "duration": 162,
    "start_time": "2023-03-11T16:59:13.244Z"
   },
   {
    "duration": 4,
    "start_time": "2023-03-11T16:59:13.407Z"
   },
   {
    "duration": 31,
    "start_time": "2023-03-11T16:59:13.413Z"
   },
   {
    "duration": 44,
    "start_time": "2023-03-11T16:59:13.446Z"
   },
   {
    "duration": 120,
    "start_time": "2023-03-11T16:59:13.492Z"
   },
   {
    "duration": 29,
    "start_time": "2023-03-11T16:59:13.614Z"
   },
   {
    "duration": 37,
    "start_time": "2023-03-11T16:59:13.645Z"
   },
   {
    "duration": 130,
    "start_time": "2023-03-11T16:59:13.684Z"
   },
   {
    "duration": 13,
    "start_time": "2023-03-11T16:59:13.817Z"
   },
   {
    "duration": 13,
    "start_time": "2023-03-11T16:59:13.831Z"
   },
   {
    "duration": 58,
    "start_time": "2023-03-11T16:59:13.847Z"
   },
   {
    "duration": 576,
    "start_time": "2023-03-11T16:59:13.910Z"
   },
   {
    "duration": 36,
    "start_time": "2023-03-11T16:59:14.490Z"
   },
   {
    "duration": 30,
    "start_time": "2023-03-11T16:59:14.528Z"
   },
   {
    "duration": 74,
    "start_time": "2023-03-11T16:59:14.561Z"
   },
   {
    "duration": 528,
    "start_time": "2023-03-11T16:59:14.637Z"
   },
   {
    "duration": 43,
    "start_time": "2023-03-11T16:59:15.167Z"
   },
   {
    "duration": 53,
    "start_time": "2023-03-11T16:59:15.214Z"
   },
   {
    "duration": 50,
    "start_time": "2023-03-11T16:59:15.269Z"
   },
   {
    "duration": 362,
    "start_time": "2023-03-11T16:59:15.321Z"
   },
   {
    "duration": 29,
    "start_time": "2023-03-11T16:59:15.684Z"
   },
   {
    "duration": 66,
    "start_time": "2023-03-11T16:59:15.714Z"
   },
   {
    "duration": 50,
    "start_time": "2023-03-11T16:59:15.782Z"
   },
   {
    "duration": 7,
    "start_time": "2023-03-11T16:59:15.834Z"
   },
   {
    "duration": 14,
    "start_time": "2023-03-11T16:59:15.843Z"
   },
   {
    "duration": 34,
    "start_time": "2023-03-11T16:59:15.875Z"
   },
   {
    "duration": 25,
    "start_time": "2023-03-11T16:59:15.912Z"
   },
   {
    "duration": 46,
    "start_time": "2023-03-11T16:59:15.940Z"
   },
   {
    "duration": 51,
    "start_time": "2023-03-11T16:59:15.992Z"
   },
   {
    "duration": 43,
    "start_time": "2023-03-11T16:59:16.045Z"
   },
   {
    "duration": 40,
    "start_time": "2023-03-11T16:59:16.098Z"
   },
   {
    "duration": 20,
    "start_time": "2023-03-11T16:59:16.140Z"
   },
   {
    "duration": 160,
    "start_time": "2023-03-11T16:59:16.163Z"
   },
   {
    "duration": 11,
    "start_time": "2023-03-11T16:59:16.326Z"
   },
   {
    "duration": 370,
    "start_time": "2023-03-11T16:59:16.339Z"
   },
   {
    "duration": 884,
    "start_time": "2023-03-11T16:59:16.712Z"
   },
   {
    "duration": 19,
    "start_time": "2023-03-11T16:59:17.598Z"
   },
   {
    "duration": 91,
    "start_time": "2023-03-11T16:59:17.619Z"
   },
   {
    "duration": 10,
    "start_time": "2023-03-11T16:59:17.713Z"
   },
   {
    "duration": 9,
    "start_time": "2023-03-11T16:59:17.725Z"
   },
   {
    "duration": 17,
    "start_time": "2023-03-11T16:59:17.736Z"
   },
   {
    "duration": 11,
    "start_time": "2023-03-11T16:59:17.755Z"
   },
   {
    "duration": 103,
    "start_time": "2023-03-11T16:59:17.769Z"
   },
   {
    "duration": 156,
    "start_time": "2023-03-11T16:59:17.874Z"
   },
   {
    "duration": 13,
    "start_time": "2023-03-11T16:59:18.032Z"
   },
   {
    "duration": 44,
    "start_time": "2023-03-11T16:59:18.047Z"
   },
   {
    "duration": 65,
    "start_time": "2023-03-11T16:59:18.093Z"
   },
   {
    "duration": 161,
    "start_time": "2023-03-11T16:59:18.160Z"
   },
   {
    "duration": 7,
    "start_time": "2023-03-11T16:59:18.324Z"
   },
   {
    "duration": 34,
    "start_time": "2023-03-11T16:59:18.334Z"
   },
   {
    "duration": 72,
    "start_time": "2023-03-11T16:59:18.369Z"
   },
   {
    "duration": 50,
    "start_time": "2023-03-11T16:59:18.443Z"
   },
   {
    "duration": 47,
    "start_time": "2023-03-11T16:59:18.502Z"
   },
   {
    "duration": 88,
    "start_time": "2023-03-11T16:59:18.552Z"
   },
   {
    "duration": 59314,
    "start_time": "2023-03-11T16:59:18.643Z"
   },
   {
    "duration": 790,
    "start_time": "2023-03-11T17:00:21.530Z"
   },
   {
    "duration": 30,
    "start_time": "2023-03-11T17:00:25.202Z"
   },
   {
    "duration": 31887,
    "start_time": "2023-03-11T17:00:34.699Z"
   },
   {
    "duration": 272,
    "start_time": "2023-03-11T17:02:00.493Z"
   },
   {
    "duration": 3312,
    "start_time": "2023-03-11T17:02:21.206Z"
   },
   {
    "duration": 1515,
    "start_time": "2023-03-11T17:02:24.521Z"
   },
   {
    "duration": 4,
    "start_time": "2023-03-11T17:02:26.038Z"
   },
   {
    "duration": 17,
    "start_time": "2023-03-11T17:02:26.043Z"
   },
   {
    "duration": 14,
    "start_time": "2023-03-11T17:02:26.062Z"
   },
   {
    "duration": 34,
    "start_time": "2023-03-11T17:02:26.083Z"
   },
   {
    "duration": 9,
    "start_time": "2023-03-11T17:02:26.119Z"
   },
   {
    "duration": 10,
    "start_time": "2023-03-11T17:02:26.130Z"
   },
   {
    "duration": 27,
    "start_time": "2023-03-11T17:02:26.142Z"
   },
   {
    "duration": 1244,
    "start_time": "2023-03-11T17:02:26.172Z"
   },
   {
    "duration": 6,
    "start_time": "2023-03-11T17:02:27.418Z"
   },
   {
    "duration": 11,
    "start_time": "2023-03-11T17:02:27.426Z"
   },
   {
    "duration": 285,
    "start_time": "2023-03-11T17:02:27.439Z"
   },
   {
    "duration": 21,
    "start_time": "2023-03-11T17:02:27.728Z"
   },
   {
    "duration": 5,
    "start_time": "2023-03-11T17:02:27.752Z"
   },
   {
    "duration": 200,
    "start_time": "2023-03-11T17:02:27.759Z"
   },
   {
    "duration": 203,
    "start_time": "2023-03-11T17:02:27.960Z"
   },
   {
    "duration": 29,
    "start_time": "2023-03-11T17:02:28.166Z"
   },
   {
    "duration": 421,
    "start_time": "2023-03-11T17:02:28.197Z"
   },
   {
    "duration": 41,
    "start_time": "2023-03-11T17:02:28.621Z"
   },
   {
    "duration": 58,
    "start_time": "2023-03-11T17:02:28.678Z"
   },
   {
    "duration": 62,
    "start_time": "2023-03-11T17:02:28.738Z"
   },
   {
    "duration": 22,
    "start_time": "2023-03-11T17:02:28.815Z"
   },
   {
    "duration": 15,
    "start_time": "2023-03-11T17:02:28.839Z"
   },
   {
    "duration": 7,
    "start_time": "2023-03-11T17:02:28.856Z"
   },
   {
    "duration": 83,
    "start_time": "2023-03-11T17:02:28.878Z"
   },
   {
    "duration": 47,
    "start_time": "2023-03-11T17:02:28.964Z"
   },
   {
    "duration": 16,
    "start_time": "2023-03-11T17:02:29.016Z"
   },
   {
    "duration": 89,
    "start_time": "2023-03-11T17:02:29.035Z"
   },
   {
    "duration": 21,
    "start_time": "2023-03-11T17:02:29.128Z"
   },
   {
    "duration": 8,
    "start_time": "2023-03-11T17:02:29.152Z"
   },
   {
    "duration": 23,
    "start_time": "2023-03-11T17:02:29.162Z"
   },
   {
    "duration": 692,
    "start_time": "2023-03-11T17:02:29.187Z"
   },
   {
    "duration": 13,
    "start_time": "2023-03-11T17:02:29.881Z"
   },
   {
    "duration": 309,
    "start_time": "2023-03-11T17:02:29.896Z"
   },
   {
    "duration": 16,
    "start_time": "2023-03-11T17:02:30.210Z"
   },
   {
    "duration": 101,
    "start_time": "2023-03-11T17:02:30.228Z"
   },
   {
    "duration": 26,
    "start_time": "2023-03-11T17:02:30.332Z"
   },
   {
    "duration": 84,
    "start_time": "2023-03-11T17:02:30.368Z"
   },
   {
    "duration": 45,
    "start_time": "2023-03-11T17:02:30.455Z"
   },
   {
    "duration": 51,
    "start_time": "2023-03-11T17:02:30.514Z"
   },
   {
    "duration": 75,
    "start_time": "2023-03-11T17:02:30.567Z"
   },
   {
    "duration": 110,
    "start_time": "2023-03-11T17:02:30.645Z"
   },
   {
    "duration": 138,
    "start_time": "2023-03-11T17:02:30.757Z"
   },
   {
    "duration": 31,
    "start_time": "2023-03-11T17:02:30.897Z"
   },
   {
    "duration": 97,
    "start_time": "2023-03-11T17:02:30.930Z"
   },
   {
    "duration": 39,
    "start_time": "2023-03-11T17:02:31.029Z"
   },
   {
    "duration": 272,
    "start_time": "2023-03-11T17:02:31.070Z"
   },
   {
    "duration": 165,
    "start_time": "2023-03-11T17:02:31.344Z"
   },
   {
    "duration": 6,
    "start_time": "2023-03-11T17:02:31.511Z"
   },
   {
    "duration": 68,
    "start_time": "2023-03-11T17:02:31.519Z"
   },
   {
    "duration": 108,
    "start_time": "2023-03-11T17:02:31.589Z"
   },
   {
    "duration": 176,
    "start_time": "2023-03-11T17:02:31.699Z"
   },
   {
    "duration": 45,
    "start_time": "2023-03-11T17:02:31.882Z"
   },
   {
    "duration": 39,
    "start_time": "2023-03-11T17:02:31.929Z"
   },
   {
    "duration": 128,
    "start_time": "2023-03-11T17:02:31.971Z"
   },
   {
    "duration": 20,
    "start_time": "2023-03-11T17:02:32.109Z"
   },
   {
    "duration": 25,
    "start_time": "2023-03-11T17:02:32.131Z"
   },
   {
    "duration": 44,
    "start_time": "2023-03-11T17:02:32.159Z"
   },
   {
    "duration": 543,
    "start_time": "2023-03-11T17:02:32.205Z"
   },
   {
    "duration": 32,
    "start_time": "2023-03-11T17:02:32.749Z"
   },
   {
    "duration": 47,
    "start_time": "2023-03-11T17:02:32.788Z"
   },
   {
    "duration": 23,
    "start_time": "2023-03-11T17:02:32.838Z"
   },
   {
    "duration": 638,
    "start_time": "2023-03-11T17:02:32.863Z"
   },
   {
    "duration": 30,
    "start_time": "2023-03-11T17:02:33.507Z"
   },
   {
    "duration": 70,
    "start_time": "2023-03-11T17:02:33.540Z"
   },
   {
    "duration": 54,
    "start_time": "2023-03-11T17:02:33.612Z"
   },
   {
    "duration": 346,
    "start_time": "2023-03-11T17:02:33.668Z"
   },
   {
    "duration": 16,
    "start_time": "2023-03-11T17:02:34.016Z"
   },
   {
    "duration": 82,
    "start_time": "2023-03-11T17:02:34.033Z"
   },
   {
    "duration": 41,
    "start_time": "2023-03-11T17:02:34.117Z"
   },
   {
    "duration": 52,
    "start_time": "2023-03-11T17:02:34.179Z"
   },
   {
    "duration": 36,
    "start_time": "2023-03-11T17:02:34.233Z"
   },
   {
    "duration": 47,
    "start_time": "2023-03-11T17:02:34.272Z"
   },
   {
    "duration": 49,
    "start_time": "2023-03-11T17:02:34.321Z"
   },
   {
    "duration": 108,
    "start_time": "2023-03-11T17:02:34.373Z"
   },
   {
    "duration": 122,
    "start_time": "2023-03-11T17:02:34.486Z"
   },
   {
    "duration": 68,
    "start_time": "2023-03-11T17:02:34.616Z"
   },
   {
    "duration": 43,
    "start_time": "2023-03-11T17:02:34.686Z"
   },
   {
    "duration": 18,
    "start_time": "2023-03-11T17:02:34.732Z"
   },
   {
    "duration": 203,
    "start_time": "2023-03-11T17:02:34.753Z"
   },
   {
    "duration": 28,
    "start_time": "2023-03-11T17:02:34.958Z"
   },
   {
    "duration": 412,
    "start_time": "2023-03-11T17:02:34.988Z"
   },
   {
    "duration": 967,
    "start_time": "2023-03-11T17:02:35.402Z"
   },
   {
    "duration": 22,
    "start_time": "2023-03-11T17:02:36.372Z"
   },
   {
    "duration": 108,
    "start_time": "2023-03-11T17:02:36.400Z"
   },
   {
    "duration": 14,
    "start_time": "2023-03-11T17:02:36.511Z"
   },
   {
    "duration": 8,
    "start_time": "2023-03-11T17:02:36.528Z"
   },
   {
    "duration": 15,
    "start_time": "2023-03-11T17:02:36.538Z"
   },
   {
    "duration": 26,
    "start_time": "2023-03-11T17:02:36.556Z"
   },
   {
    "duration": 157,
    "start_time": "2023-03-11T17:02:36.584Z"
   },
   {
    "duration": 187,
    "start_time": "2023-03-11T17:02:36.745Z"
   },
   {
    "duration": 23,
    "start_time": "2023-03-11T17:02:36.934Z"
   },
   {
    "duration": 39,
    "start_time": "2023-03-11T17:02:36.960Z"
   },
   {
    "duration": 96,
    "start_time": "2023-03-11T17:02:37.008Z"
   },
   {
    "duration": 122,
    "start_time": "2023-03-11T17:02:37.106Z"
   },
   {
    "duration": 10,
    "start_time": "2023-03-11T17:02:37.230Z"
   },
   {
    "duration": 56,
    "start_time": "2023-03-11T17:02:37.242Z"
   },
   {
    "duration": 37,
    "start_time": "2023-03-11T17:02:37.305Z"
   },
   {
    "duration": 42,
    "start_time": "2023-03-11T17:02:37.344Z"
   },
   {
    "duration": 54,
    "start_time": "2023-03-11T17:02:37.391Z"
   },
   {
    "duration": 72,
    "start_time": "2023-03-11T17:02:37.448Z"
   },
   {
    "duration": 60507,
    "start_time": "2023-03-11T17:02:37.524Z"
   },
   {
    "duration": 821,
    "start_time": "2023-03-11T17:03:38.033Z"
   },
   {
    "duration": 35,
    "start_time": "2023-03-11T17:03:38.856Z"
   },
   {
    "duration": 33420,
    "start_time": "2023-03-11T17:03:38.893Z"
   },
   {
    "duration": 5,
    "start_time": "2023-03-11T17:04:12.315Z"
   },
   {
    "duration": 22,
    "start_time": "2023-03-11T17:04:12.322Z"
   },
   {
    "duration": 18,
    "start_time": "2023-03-11T17:04:44.512Z"
   },
   {
    "duration": 65,
    "start_time": "2023-03-11T17:05:32.004Z"
   },
   {
    "duration": 3675,
    "start_time": "2023-03-11T17:05:57.459Z"
   },
   {
    "duration": 1698,
    "start_time": "2023-03-11T17:06:01.138Z"
   },
   {
    "duration": 4,
    "start_time": "2023-03-11T17:06:02.838Z"
   },
   {
    "duration": 14,
    "start_time": "2023-03-11T17:06:02.846Z"
   },
   {
    "duration": 58,
    "start_time": "2023-03-11T17:06:02.862Z"
   },
   {
    "duration": 34,
    "start_time": "2023-03-11T17:06:02.922Z"
   },
   {
    "duration": 53,
    "start_time": "2023-03-11T17:06:02.958Z"
   },
   {
    "duration": 16,
    "start_time": "2023-03-11T17:06:03.013Z"
   },
   {
    "duration": 13,
    "start_time": "2023-03-11T17:06:03.031Z"
   },
   {
    "duration": 1162,
    "start_time": "2023-03-11T17:06:03.047Z"
   },
   {
    "duration": 13,
    "start_time": "2023-03-11T17:06:04.211Z"
   },
   {
    "duration": 24,
    "start_time": "2023-03-11T17:06:04.227Z"
   },
   {
    "duration": 294,
    "start_time": "2023-03-11T17:06:04.254Z"
   },
   {
    "duration": 44,
    "start_time": "2023-03-11T17:06:04.551Z"
   },
   {
    "duration": 44,
    "start_time": "2023-03-11T17:06:04.597Z"
   },
   {
    "duration": 122,
    "start_time": "2023-03-11T17:06:04.643Z"
   },
   {
    "duration": 218,
    "start_time": "2023-03-11T17:06:04.768Z"
   },
   {
    "duration": 20,
    "start_time": "2023-03-11T17:06:04.995Z"
   },
   {
    "duration": 428,
    "start_time": "2023-03-11T17:06:05.018Z"
   },
   {
    "duration": 65,
    "start_time": "2023-03-11T17:06:05.448Z"
   },
   {
    "duration": 39,
    "start_time": "2023-03-11T17:06:05.515Z"
   },
   {
    "duration": 64,
    "start_time": "2023-03-11T17:06:05.556Z"
   },
   {
    "duration": 20,
    "start_time": "2023-03-11T17:06:05.622Z"
   },
   {
    "duration": 39,
    "start_time": "2023-03-11T17:06:05.644Z"
   },
   {
    "duration": 19,
    "start_time": "2023-03-11T17:06:05.689Z"
   },
   {
    "duration": 35,
    "start_time": "2023-03-11T17:06:05.711Z"
   },
   {
    "duration": 23,
    "start_time": "2023-03-11T17:06:05.748Z"
   },
   {
    "duration": 40,
    "start_time": "2023-03-11T17:06:05.777Z"
   },
   {
    "duration": 39,
    "start_time": "2023-03-11T17:06:05.820Z"
   },
   {
    "duration": 39,
    "start_time": "2023-03-11T17:06:05.861Z"
   },
   {
    "duration": 20,
    "start_time": "2023-03-11T17:06:05.902Z"
   },
   {
    "duration": 8,
    "start_time": "2023-03-11T17:06:05.924Z"
   },
   {
    "duration": 613,
    "start_time": "2023-03-11T17:06:05.933Z"
   },
   {
    "duration": 5,
    "start_time": "2023-03-11T17:06:06.548Z"
   },
   {
    "duration": 298,
    "start_time": "2023-03-11T17:06:06.555Z"
   },
   {
    "duration": 17,
    "start_time": "2023-03-11T17:06:06.854Z"
   },
   {
    "duration": 108,
    "start_time": "2023-03-11T17:06:06.882Z"
   },
   {
    "duration": 8,
    "start_time": "2023-03-11T17:06:06.992Z"
   },
   {
    "duration": 18,
    "start_time": "2023-03-11T17:06:07.002Z"
   },
   {
    "duration": 8,
    "start_time": "2023-03-11T17:06:07.022Z"
   },
   {
    "duration": 6,
    "start_time": "2023-03-11T17:06:07.032Z"
   },
   {
    "duration": 6,
    "start_time": "2023-03-11T17:06:07.040Z"
   },
   {
    "duration": 8,
    "start_time": "2023-03-11T17:06:07.048Z"
   },
   {
    "duration": 95,
    "start_time": "2023-03-11T17:06:07.058Z"
   },
   {
    "duration": 23,
    "start_time": "2023-03-11T17:06:07.154Z"
   },
   {
    "duration": 42,
    "start_time": "2023-03-11T17:06:07.181Z"
   },
   {
    "duration": 14,
    "start_time": "2023-03-11T17:06:07.225Z"
   },
   {
    "duration": 119,
    "start_time": "2023-03-11T17:06:07.241Z"
   },
   {
    "duration": 149,
    "start_time": "2023-03-11T17:06:07.362Z"
   },
   {
    "duration": 3,
    "start_time": "2023-03-11T17:06:07.513Z"
   },
   {
    "duration": 33,
    "start_time": "2023-03-11T17:06:07.518Z"
   },
   {
    "duration": 60,
    "start_time": "2023-03-11T17:06:07.552Z"
   },
   {
    "duration": 97,
    "start_time": "2023-03-11T17:06:07.613Z"
   },
   {
    "duration": 32,
    "start_time": "2023-03-11T17:06:07.712Z"
   },
   {
    "duration": 42,
    "start_time": "2023-03-11T17:06:07.746Z"
   },
   {
    "duration": 120,
    "start_time": "2023-03-11T17:06:07.796Z"
   },
   {
    "duration": 13,
    "start_time": "2023-03-11T17:06:07.918Z"
   },
   {
    "duration": 11,
    "start_time": "2023-03-11T17:06:07.933Z"
   },
   {
    "duration": 51,
    "start_time": "2023-03-11T17:06:07.946Z"
   },
   {
    "duration": 508,
    "start_time": "2023-03-11T17:06:07.999Z"
   },
   {
    "duration": 22,
    "start_time": "2023-03-11T17:06:08.510Z"
   },
   {
    "duration": 23,
    "start_time": "2023-03-11T17:06:08.535Z"
   },
   {
    "duration": 50,
    "start_time": "2023-03-11T17:06:08.560Z"
   },
   {
    "duration": 513,
    "start_time": "2023-03-11T17:06:08.613Z"
   },
   {
    "duration": 23,
    "start_time": "2023-03-11T17:06:09.128Z"
   },
   {
    "duration": 68,
    "start_time": "2023-03-11T17:06:09.152Z"
   },
   {
    "duration": 32,
    "start_time": "2023-03-11T17:06:09.223Z"
   },
   {
    "duration": 290,
    "start_time": "2023-03-11T17:06:09.257Z"
   },
   {
    "duration": 34,
    "start_time": "2023-03-11T17:06:09.549Z"
   },
   {
    "duration": 55,
    "start_time": "2023-03-11T17:06:09.590Z"
   },
   {
    "duration": 42,
    "start_time": "2023-03-11T17:06:09.647Z"
   },
   {
    "duration": 18,
    "start_time": "2023-03-11T17:06:09.695Z"
   },
   {
    "duration": 10,
    "start_time": "2023-03-11T17:06:09.715Z"
   },
   {
    "duration": 16,
    "start_time": "2023-03-11T17:06:09.727Z"
   },
   {
    "duration": 29,
    "start_time": "2023-03-11T17:06:09.745Z"
   },
   {
    "duration": 51,
    "start_time": "2023-03-11T17:06:09.784Z"
   },
   {
    "duration": 31,
    "start_time": "2023-03-11T17:06:09.838Z"
   },
   {
    "duration": 76,
    "start_time": "2023-03-11T17:06:09.871Z"
   },
   {
    "duration": 45,
    "start_time": "2023-03-11T17:06:09.949Z"
   },
   {
    "duration": 30,
    "start_time": "2023-03-11T17:06:09.996Z"
   },
   {
    "duration": 138,
    "start_time": "2023-03-11T17:06:10.028Z"
   },
   {
    "duration": 19,
    "start_time": "2023-03-11T17:06:10.183Z"
   },
   {
    "duration": 358,
    "start_time": "2023-03-11T17:06:10.208Z"
   },
   {
    "duration": 893,
    "start_time": "2023-03-11T17:06:10.572Z"
   },
   {
    "duration": 31,
    "start_time": "2023-03-11T17:06:11.466Z"
   },
   {
    "duration": 92,
    "start_time": "2023-03-11T17:06:11.498Z"
   },
   {
    "duration": 10,
    "start_time": "2023-03-11T17:06:11.598Z"
   },
   {
    "duration": 10,
    "start_time": "2023-03-11T17:06:11.610Z"
   },
   {
    "duration": 14,
    "start_time": "2023-03-11T17:06:11.622Z"
   },
   {
    "duration": 9,
    "start_time": "2023-03-11T17:06:11.638Z"
   },
   {
    "duration": 77,
    "start_time": "2023-03-11T17:06:11.649Z"
   },
   {
    "duration": 141,
    "start_time": "2023-03-11T17:06:11.728Z"
   },
   {
    "duration": 28,
    "start_time": "2023-03-11T17:06:11.871Z"
   },
   {
    "duration": 32,
    "start_time": "2023-03-11T17:06:11.902Z"
   },
   {
    "duration": 68,
    "start_time": "2023-03-11T17:06:11.936Z"
   },
   {
    "duration": 104,
    "start_time": "2023-03-11T17:06:12.006Z"
   },
   {
    "duration": 6,
    "start_time": "2023-03-11T17:06:12.112Z"
   },
   {
    "duration": 25,
    "start_time": "2023-03-11T17:06:12.120Z"
   },
   {
    "duration": 41,
    "start_time": "2023-03-11T17:06:12.147Z"
   },
   {
    "duration": 39,
    "start_time": "2023-03-11T17:06:12.189Z"
   },
   {
    "duration": 24,
    "start_time": "2023-03-11T17:06:12.230Z"
   },
   {
    "duration": 65,
    "start_time": "2023-03-11T17:06:12.256Z"
   },
   {
    "duration": 57896,
    "start_time": "2023-03-11T17:06:12.323Z"
   },
   {
    "duration": 826,
    "start_time": "2023-03-11T17:07:10.221Z"
   },
   {
    "duration": 45,
    "start_time": "2023-03-11T17:07:11.049Z"
   },
   {
    "duration": 31981,
    "start_time": "2023-03-11T17:07:11.096Z"
   },
   {
    "duration": 15,
    "start_time": "2023-03-11T17:07:43.086Z"
   },
   {
    "duration": 11,
    "start_time": "2023-03-11T17:07:43.103Z"
   },
   {
    "duration": 1109661,
    "start_time": "2023-03-11T17:07:43.116Z"
   },
   {
    "duration": 944,
    "start_time": "2023-03-11T17:26:12.779Z"
   },
   {
    "duration": 20,
    "start_time": "2023-03-11T17:28:34.633Z"
   },
   {
    "duration": 445920,
    "start_time": "2023-03-11T17:30:17.961Z"
   },
   {
    "duration": 57,
    "start_time": "2023-03-11T17:39:20.188Z"
   },
   {
    "duration": 71,
    "start_time": "2023-03-11T17:39:39.300Z"
   },
   {
    "duration": 141,
    "start_time": "2023-03-11T17:40:31.101Z"
   },
   {
    "duration": 71,
    "start_time": "2023-03-11T17:41:47.595Z"
   },
   {
    "duration": 124,
    "start_time": "2023-03-11T17:44:18.835Z"
   },
   {
    "duration": 97,
    "start_time": "2023-03-11T17:44:51.666Z"
   },
   {
    "duration": 75,
    "start_time": "2023-03-11T17:46:07.195Z"
   },
   {
    "duration": 62,
    "start_time": "2023-03-11T17:49:08.307Z"
   },
   {
    "duration": 83,
    "start_time": "2023-03-11T17:49:36.293Z"
   },
   {
    "duration": 84,
    "start_time": "2023-03-11T17:51:43.307Z"
   },
   {
    "duration": 96,
    "start_time": "2023-03-11T17:52:12.866Z"
   },
   {
    "duration": 14,
    "start_time": "2023-03-11T17:56:06.031Z"
   },
   {
    "duration": 24,
    "start_time": "2023-03-11T17:58:10.394Z"
   },
   {
    "duration": 24,
    "start_time": "2023-03-11T17:58:59.370Z"
   },
   {
    "duration": 3,
    "start_time": "2023-03-11T17:59:23.640Z"
   },
   {
    "duration": 3,
    "start_time": "2023-03-11T17:59:33.662Z"
   },
   {
    "duration": 15,
    "start_time": "2023-03-11T17:59:39.031Z"
   },
   {
    "duration": 9,
    "start_time": "2023-03-11T18:00:12.770Z"
   },
   {
    "duration": 28,
    "start_time": "2023-03-11T18:00:14.714Z"
   },
   {
    "duration": 5,
    "start_time": "2023-03-11T18:00:48.847Z"
   },
   {
    "duration": 4,
    "start_time": "2023-03-11T18:00:49.666Z"
   },
   {
    "duration": 28,
    "start_time": "2023-03-11T18:00:51.013Z"
   },
   {
    "duration": 8970,
    "start_time": "2023-03-12T03:12:38.453Z"
   },
   {
    "duration": 1678,
    "start_time": "2023-03-12T03:12:47.426Z"
   },
   {
    "duration": 4,
    "start_time": "2023-03-12T03:12:49.106Z"
   },
   {
    "duration": 20,
    "start_time": "2023-03-12T03:12:49.112Z"
   },
   {
    "duration": 9,
    "start_time": "2023-03-12T03:12:49.134Z"
   },
   {
    "duration": 9,
    "start_time": "2023-03-12T03:12:49.145Z"
   },
   {
    "duration": 12,
    "start_time": "2023-03-12T03:12:49.156Z"
   },
   {
    "duration": 35,
    "start_time": "2023-03-12T03:12:49.170Z"
   },
   {
    "duration": 14,
    "start_time": "2023-03-12T03:12:49.207Z"
   },
   {
    "duration": 1346,
    "start_time": "2023-03-12T03:12:49.224Z"
   },
   {
    "duration": 18,
    "start_time": "2023-03-12T03:12:50.572Z"
   },
   {
    "duration": 31,
    "start_time": "2023-03-12T03:12:50.593Z"
   },
   {
    "duration": 226,
    "start_time": "2023-03-12T03:12:50.627Z"
   },
   {
    "duration": 31,
    "start_time": "2023-03-12T03:12:50.854Z"
   },
   {
    "duration": 23,
    "start_time": "2023-03-12T03:12:50.886Z"
   },
   {
    "duration": 114,
    "start_time": "2023-03-12T03:12:50.911Z"
   },
   {
    "duration": 173,
    "start_time": "2023-03-12T03:12:51.027Z"
   },
   {
    "duration": 14,
    "start_time": "2023-03-12T03:12:51.201Z"
   },
   {
    "duration": 400,
    "start_time": "2023-03-12T03:12:51.217Z"
   },
   {
    "duration": 58,
    "start_time": "2023-03-12T03:12:51.621Z"
   },
   {
    "duration": 45,
    "start_time": "2023-03-12T03:12:51.682Z"
   },
   {
    "duration": 57,
    "start_time": "2023-03-12T03:12:51.729Z"
   },
   {
    "duration": 30,
    "start_time": "2023-03-12T03:12:51.787Z"
   },
   {
    "duration": 10,
    "start_time": "2023-03-12T03:12:51.819Z"
   },
   {
    "duration": 4,
    "start_time": "2023-03-12T03:12:51.831Z"
   },
   {
    "duration": 62,
    "start_time": "2023-03-12T03:12:51.837Z"
   },
   {
    "duration": 21,
    "start_time": "2023-03-12T03:12:51.901Z"
   },
   {
    "duration": 7,
    "start_time": "2023-03-12T03:12:51.927Z"
   },
   {
    "duration": 70,
    "start_time": "2023-03-12T03:12:51.936Z"
   },
   {
    "duration": 25,
    "start_time": "2023-03-12T03:12:52.008Z"
   },
   {
    "duration": 7,
    "start_time": "2023-03-12T03:12:52.035Z"
   },
   {
    "duration": 42,
    "start_time": "2023-03-12T03:12:52.044Z"
   },
   {
    "duration": 575,
    "start_time": "2023-03-12T03:12:52.089Z"
   },
   {
    "duration": 14,
    "start_time": "2023-03-12T03:12:52.666Z"
   },
   {
    "duration": 250,
    "start_time": "2023-03-12T03:12:52.685Z"
   },
   {
    "duration": 15,
    "start_time": "2023-03-12T03:12:52.937Z"
   },
   {
    "duration": 98,
    "start_time": "2023-03-12T03:12:52.953Z"
   },
   {
    "duration": 6,
    "start_time": "2023-03-12T03:12:53.053Z"
   },
   {
    "duration": 11,
    "start_time": "2023-03-12T03:12:53.079Z"
   },
   {
    "duration": 12,
    "start_time": "2023-03-12T03:12:53.093Z"
   },
   {
    "duration": 10,
    "start_time": "2023-03-12T03:12:53.107Z"
   },
   {
    "duration": 11,
    "start_time": "2023-03-12T03:12:53.119Z"
   },
   {
    "duration": 23,
    "start_time": "2023-03-12T03:12:53.131Z"
   },
   {
    "duration": 72,
    "start_time": "2023-03-12T03:12:53.155Z"
   },
   {
    "duration": 13,
    "start_time": "2023-03-12T03:12:53.229Z"
   },
   {
    "duration": 39,
    "start_time": "2023-03-12T03:12:53.244Z"
   },
   {
    "duration": 18,
    "start_time": "2023-03-12T03:12:53.286Z"
   },
   {
    "duration": 147,
    "start_time": "2023-03-12T03:12:53.306Z"
   },
   {
    "duration": 119,
    "start_time": "2023-03-12T03:12:53.455Z"
   },
   {
    "duration": 8,
    "start_time": "2023-03-12T03:12:53.583Z"
   },
   {
    "duration": 43,
    "start_time": "2023-03-12T03:12:53.593Z"
   },
   {
    "duration": 28,
    "start_time": "2023-03-12T03:12:53.637Z"
   },
   {
    "duration": 88,
    "start_time": "2023-03-12T03:12:53.675Z"
   },
   {
    "duration": 38,
    "start_time": "2023-03-12T03:12:53.773Z"
   },
   {
    "duration": 21,
    "start_time": "2023-03-12T03:12:53.814Z"
   },
   {
    "duration": 119,
    "start_time": "2023-03-12T03:12:53.837Z"
   },
   {
    "duration": 33,
    "start_time": "2023-03-12T03:12:53.958Z"
   },
   {
    "duration": 11,
    "start_time": "2023-03-12T03:12:53.993Z"
   },
   {
    "duration": 25,
    "start_time": "2023-03-12T03:12:54.006Z"
   },
   {
    "duration": 510,
    "start_time": "2023-03-12T03:12:54.033Z"
   },
   {
    "duration": 21,
    "start_time": "2023-03-12T03:12:54.545Z"
   },
   {
    "duration": 60,
    "start_time": "2023-03-12T03:12:54.575Z"
   },
   {
    "duration": 32,
    "start_time": "2023-03-12T03:12:54.637Z"
   },
   {
    "duration": 552,
    "start_time": "2023-03-12T03:12:54.671Z"
   },
   {
    "duration": 21,
    "start_time": "2023-03-12T03:12:55.224Z"
   },
   {
    "duration": 68,
    "start_time": "2023-03-12T03:12:55.247Z"
   },
   {
    "duration": 36,
    "start_time": "2023-03-12T03:12:55.318Z"
   },
   {
    "duration": 275,
    "start_time": "2023-03-12T03:12:55.356Z"
   },
   {
    "duration": 15,
    "start_time": "2023-03-12T03:12:55.633Z"
   },
   {
    "duration": 77,
    "start_time": "2023-03-12T03:12:55.650Z"
   },
   {
    "duration": 34,
    "start_time": "2023-03-12T03:12:55.729Z"
   },
   {
    "duration": 22,
    "start_time": "2023-03-12T03:12:55.778Z"
   },
   {
    "duration": 16,
    "start_time": "2023-03-12T03:12:55.803Z"
   },
   {
    "duration": 16,
    "start_time": "2023-03-12T03:12:55.821Z"
   },
   {
    "duration": 19,
    "start_time": "2023-03-12T03:12:55.839Z"
   },
   {
    "duration": 52,
    "start_time": "2023-03-12T03:12:55.860Z"
   },
   {
    "duration": 37,
    "start_time": "2023-03-12T03:12:55.915Z"
   },
   {
    "duration": 69,
    "start_time": "2023-03-12T03:12:55.954Z"
   },
   {
    "duration": 31,
    "start_time": "2023-03-12T03:12:56.025Z"
   },
   {
    "duration": 42,
    "start_time": "2023-03-12T03:12:56.058Z"
   },
   {
    "duration": 146,
    "start_time": "2023-03-12T03:12:56.102Z"
   },
   {
    "duration": 21,
    "start_time": "2023-03-12T03:12:56.257Z"
   },
   {
    "duration": 389,
    "start_time": "2023-03-12T03:12:56.280Z"
   },
   {
    "duration": 921,
    "start_time": "2023-03-12T03:12:56.672Z"
   },
   {
    "duration": 19,
    "start_time": "2023-03-12T03:12:57.598Z"
   },
   {
    "duration": 85,
    "start_time": "2023-03-12T03:12:57.619Z"
   },
   {
    "duration": 7,
    "start_time": "2023-03-12T03:12:57.707Z"
   },
   {
    "duration": 30,
    "start_time": "2023-03-12T03:12:57.717Z"
   },
   {
    "duration": 14,
    "start_time": "2023-03-12T03:12:57.749Z"
   },
   {
    "duration": 46,
    "start_time": "2023-03-12T03:12:57.764Z"
   },
   {
    "duration": 61,
    "start_time": "2023-03-12T03:12:57.812Z"
   },
   {
    "duration": 164,
    "start_time": "2023-03-12T03:12:57.875Z"
   },
   {
    "duration": 12,
    "start_time": "2023-03-12T03:12:58.041Z"
   },
   {
    "duration": 42,
    "start_time": "2023-03-12T03:12:58.054Z"
   },
   {
    "duration": 99,
    "start_time": "2023-03-12T03:12:58.104Z"
   },
   {
    "duration": 109,
    "start_time": "2023-03-12T03:12:58.206Z"
   },
   {
    "duration": 7,
    "start_time": "2023-03-12T03:12:58.318Z"
   },
   {
    "duration": 40,
    "start_time": "2023-03-12T03:12:58.327Z"
   },
   {
    "duration": 33,
    "start_time": "2023-03-12T03:12:58.380Z"
   },
   {
    "duration": 30,
    "start_time": "2023-03-12T03:12:58.416Z"
   },
   {
    "duration": 24,
    "start_time": "2023-03-12T03:12:58.448Z"
   },
   {
    "duration": 72,
    "start_time": "2023-03-12T03:12:58.478Z"
   },
   {
    "duration": 57742,
    "start_time": "2023-03-12T03:12:58.552Z"
   },
   {
    "duration": 771,
    "start_time": "2023-03-12T03:13:56.300Z"
   },
   {
    "duration": 35,
    "start_time": "2023-03-12T03:13:57.073Z"
   },
   {
    "duration": 30676,
    "start_time": "2023-03-12T03:13:57.110Z"
   },
   {
    "duration": 7,
    "start_time": "2023-03-12T03:14:27.791Z"
   },
   {
    "duration": 20,
    "start_time": "2023-03-12T03:14:27.800Z"
   },
   {
    "duration": 207,
    "start_time": "2023-03-12T03:22:42.185Z"
   },
   {
    "duration": 72,
    "start_time": "2023-03-12T03:22:43.391Z"
   },
   {
    "duration": 29,
    "start_time": "2023-03-12T03:24:35.084Z"
   },
   {
    "duration": 38,
    "start_time": "2023-03-12T03:25:37.766Z"
   },
   {
    "duration": 601974,
    "start_time": "2023-03-12T03:26:27.398Z"
   },
   {
    "duration": 123,
    "start_time": "2023-03-12T03:36:29.391Z"
   },
   {
    "duration": 11,
    "start_time": "2023-03-12T03:36:29.516Z"
   },
   {
    "duration": 79,
    "start_time": "2023-03-12T03:39:35.866Z"
   },
   {
    "duration": 333,
    "start_time": "2023-03-12T03:40:55.470Z"
   },
   {
    "duration": 16,
    "start_time": "2023-03-12T03:41:57.718Z"
   },
   {
    "duration": 13,
    "start_time": "2023-03-12T03:43:02.912Z"
   },
   {
    "duration": 49,
    "start_time": "2023-03-12T03:43:41.789Z"
   },
   {
    "duration": 8,
    "start_time": "2023-03-12T03:43:50.935Z"
   },
   {
    "duration": 172362,
    "start_time": "2023-03-12T03:44:21.313Z"
   },
   {
    "duration": 4,
    "start_time": "2023-03-12T03:48:56.509Z"
   },
   {
    "duration": 12,
    "start_time": "2023-03-12T03:53:20.038Z"
   },
   {
    "duration": 393,
    "start_time": "2023-03-12T03:53:52.143Z"
   },
   {
    "duration": 11,
    "start_time": "2023-03-12T03:54:16.383Z"
   },
   {
    "duration": 4,
    "start_time": "2023-03-12T03:54:37.210Z"
   },
   {
    "duration": 4,
    "start_time": "2023-03-12T03:55:15.071Z"
   },
   {
    "duration": 7,
    "start_time": "2023-03-12T03:55:20.477Z"
   },
   {
    "duration": 5,
    "start_time": "2023-03-12T03:55:28.767Z"
   },
   {
    "duration": 5,
    "start_time": "2023-03-12T03:55:40.784Z"
   },
   {
    "duration": 3,
    "start_time": "2023-03-12T03:55:45.593Z"
   },
   {
    "duration": 4,
    "start_time": "2023-03-12T03:55:50.020Z"
   },
   {
    "duration": 5,
    "start_time": "2023-03-12T03:56:10.550Z"
   },
   {
    "duration": 3,
    "start_time": "2023-03-12T03:56:18.189Z"
   },
   {
    "duration": 4,
    "start_time": "2023-03-12T03:56:23.554Z"
   },
   {
    "duration": 4,
    "start_time": "2023-03-12T03:56:33.993Z"
   },
   {
    "duration": 64,
    "start_time": "2023-03-12T03:56:56.966Z"
   },
   {
    "duration": 4,
    "start_time": "2023-03-12T03:57:05.800Z"
   },
   {
    "duration": 5,
    "start_time": "2023-03-12T03:59:20.404Z"
   },
   {
    "duration": 26379,
    "start_time": "2023-03-12T04:04:35.594Z"
   },
   {
    "duration": 81317,
    "start_time": "2023-03-12T04:05:29.656Z"
   },
   {
    "duration": 81229,
    "start_time": "2023-03-12T04:08:25.844Z"
   },
   {
    "duration": 6,
    "start_time": "2023-03-12T04:10:49.051Z"
   },
   {
    "duration": 7,
    "start_time": "2023-03-12T04:11:45.726Z"
   },
   {
    "duration": 5,
    "start_time": "2023-03-12T04:18:04.986Z"
   },
   {
    "duration": 4,
    "start_time": "2023-03-12T04:19:03.723Z"
   },
   {
    "duration": 1386362,
    "start_time": "2023-03-12T04:19:35.048Z"
   },
   {
    "duration": 988,
    "start_time": "2023-03-12T04:42:41.412Z"
   },
   {
    "duration": 14,
    "start_time": "2023-03-12T04:42:42.403Z"
   },
   {
    "duration": 7,
    "start_time": "2023-03-12T05:02:32.586Z"
   },
   {
    "duration": 21,
    "start_time": "2023-03-12T05:02:58.476Z"
   },
   {
    "duration": 16,
    "start_time": "2023-03-12T05:03:12.683Z"
   },
   {
    "duration": 2915,
    "start_time": "2023-03-12T05:05:28.281Z"
   },
   {
    "duration": 1295,
    "start_time": "2023-03-12T05:05:31.199Z"
   },
   {
    "duration": 4,
    "start_time": "2023-03-12T05:05:32.496Z"
   },
   {
    "duration": 8,
    "start_time": "2023-03-12T05:05:32.503Z"
   },
   {
    "duration": 9,
    "start_time": "2023-03-12T05:05:32.513Z"
   },
   {
    "duration": 6,
    "start_time": "2023-03-12T05:05:32.524Z"
   },
   {
    "duration": 9,
    "start_time": "2023-03-12T05:05:32.531Z"
   },
   {
    "duration": 8,
    "start_time": "2023-03-12T05:05:32.541Z"
   },
   {
    "duration": 32,
    "start_time": "2023-03-12T05:05:32.550Z"
   },
   {
    "duration": 918,
    "start_time": "2023-03-12T05:05:32.585Z"
   },
   {
    "duration": 6,
    "start_time": "2023-03-12T05:05:33.505Z"
   },
   {
    "duration": 10,
    "start_time": "2023-03-12T05:05:33.512Z"
   },
   {
    "duration": 158,
    "start_time": "2023-03-12T05:05:33.524Z"
   },
   {
    "duration": 15,
    "start_time": "2023-03-12T05:05:33.683Z"
   },
   {
    "duration": 4,
    "start_time": "2023-03-12T05:05:33.700Z"
   },
   {
    "duration": 139,
    "start_time": "2023-03-12T05:05:33.706Z"
   },
   {
    "duration": 154,
    "start_time": "2023-03-12T05:05:33.846Z"
   },
   {
    "duration": 10,
    "start_time": "2023-03-12T05:05:34.002Z"
   },
   {
    "duration": 400,
    "start_time": "2023-03-12T05:05:34.014Z"
   },
   {
    "duration": 39,
    "start_time": "2023-03-12T05:05:34.416Z"
   },
   {
    "duration": 40,
    "start_time": "2023-03-12T05:05:34.473Z"
   },
   {
    "duration": 37,
    "start_time": "2023-03-12T05:05:34.514Z"
   },
   {
    "duration": 39,
    "start_time": "2023-03-12T05:05:34.553Z"
   },
   {
    "duration": 12,
    "start_time": "2023-03-12T05:05:34.594Z"
   },
   {
    "duration": 4,
    "start_time": "2023-03-12T05:05:34.608Z"
   },
   {
    "duration": 37,
    "start_time": "2023-03-12T05:05:34.614Z"
   },
   {
    "duration": 19,
    "start_time": "2023-03-12T05:05:34.672Z"
   },
   {
    "duration": 9,
    "start_time": "2023-03-12T05:05:34.696Z"
   },
   {
    "duration": 38,
    "start_time": "2023-03-12T05:05:34.707Z"
   },
   {
    "duration": 40,
    "start_time": "2023-03-12T05:05:34.747Z"
   },
   {
    "duration": 12,
    "start_time": "2023-03-12T05:05:34.789Z"
   },
   {
    "duration": 17,
    "start_time": "2023-03-12T05:05:34.803Z"
   },
   {
    "duration": 527,
    "start_time": "2023-03-12T05:05:34.822Z"
   },
   {
    "duration": 5,
    "start_time": "2023-03-12T05:05:35.351Z"
   },
   {
    "duration": 228,
    "start_time": "2023-03-12T05:05:35.358Z"
   },
   {
    "duration": 15,
    "start_time": "2023-03-12T05:05:35.588Z"
   },
   {
    "duration": 87,
    "start_time": "2023-03-12T05:05:35.606Z"
   },
   {
    "duration": 5,
    "start_time": "2023-03-12T05:05:35.695Z"
   },
   {
    "duration": 13,
    "start_time": "2023-03-12T05:05:35.702Z"
   },
   {
    "duration": 9,
    "start_time": "2023-03-12T05:05:35.717Z"
   },
   {
    "duration": 9,
    "start_time": "2023-03-12T05:05:35.729Z"
   },
   {
    "duration": 9,
    "start_time": "2023-03-12T05:05:35.740Z"
   },
   {
    "duration": 7,
    "start_time": "2023-03-12T05:05:35.773Z"
   },
   {
    "duration": 96,
    "start_time": "2023-03-12T05:05:35.782Z"
   },
   {
    "duration": 17,
    "start_time": "2023-03-12T05:05:35.880Z"
   },
   {
    "duration": 34,
    "start_time": "2023-03-12T05:05:35.898Z"
   },
   {
    "duration": 15,
    "start_time": "2023-03-12T05:05:35.934Z"
   },
   {
    "duration": 151,
    "start_time": "2023-03-12T05:05:35.951Z"
   },
   {
    "duration": 115,
    "start_time": "2023-03-12T05:05:36.104Z"
   },
   {
    "duration": 4,
    "start_time": "2023-03-12T05:05:36.220Z"
   },
   {
    "duration": 39,
    "start_time": "2023-03-12T05:05:36.226Z"
   },
   {
    "duration": 27,
    "start_time": "2023-03-12T05:05:36.272Z"
   },
   {
    "duration": 91,
    "start_time": "2023-03-12T05:05:36.301Z"
   },
   {
    "duration": 42,
    "start_time": "2023-03-12T05:05:36.394Z"
   },
   {
    "duration": 41,
    "start_time": "2023-03-12T05:05:36.438Z"
   },
   {
    "duration": 119,
    "start_time": "2023-03-12T05:05:36.481Z"
   },
   {
    "duration": 13,
    "start_time": "2023-03-12T05:05:36.602Z"
   },
   {
    "duration": 19,
    "start_time": "2023-03-12T05:05:36.617Z"
   },
   {
    "duration": 43,
    "start_time": "2023-03-12T05:05:36.637Z"
   },
   {
    "duration": 424,
    "start_time": "2023-03-12T05:05:36.681Z"
   },
   {
    "duration": 20,
    "start_time": "2023-03-12T05:05:37.108Z"
   },
   {
    "duration": 23,
    "start_time": "2023-03-12T05:05:37.129Z"
   },
   {
    "duration": 33,
    "start_time": "2023-03-12T05:05:37.154Z"
   },
   {
    "duration": 455,
    "start_time": "2023-03-12T05:05:37.189Z"
   },
   {
    "duration": 27,
    "start_time": "2023-03-12T05:05:37.646Z"
   },
   {
    "duration": 34,
    "start_time": "2023-03-12T05:05:37.675Z"
   },
   {
    "duration": 32,
    "start_time": "2023-03-12T05:05:37.710Z"
   },
   {
    "duration": 265,
    "start_time": "2023-03-12T05:05:37.744Z"
   },
   {
    "duration": 16,
    "start_time": "2023-03-12T05:05:38.011Z"
   },
   {
    "duration": 82,
    "start_time": "2023-03-12T05:05:38.029Z"
   },
   {
    "duration": 42,
    "start_time": "2023-03-12T05:05:38.114Z"
   },
   {
    "duration": 18,
    "start_time": "2023-03-12T05:05:38.158Z"
   },
   {
    "duration": 13,
    "start_time": "2023-03-12T05:05:38.178Z"
   },
   {
    "duration": 14,
    "start_time": "2023-03-12T05:05:38.193Z"
   },
   {
    "duration": 17,
    "start_time": "2023-03-12T05:05:38.209Z"
   },
   {
    "duration": 58,
    "start_time": "2023-03-12T05:05:38.228Z"
   },
   {
    "duration": 31,
    "start_time": "2023-03-12T05:05:38.287Z"
   },
   {
    "duration": 54,
    "start_time": "2023-03-12T05:05:38.320Z"
   },
   {
    "duration": 30,
    "start_time": "2023-03-12T05:05:38.376Z"
   },
   {
    "duration": 17,
    "start_time": "2023-03-12T05:05:38.408Z"
   },
   {
    "duration": 128,
    "start_time": "2023-03-12T05:05:38.426Z"
   },
   {
    "duration": 16,
    "start_time": "2023-03-12T05:05:38.562Z"
   },
   {
    "duration": 293,
    "start_time": "2023-03-12T05:05:38.580Z"
   },
   {
    "duration": 713,
    "start_time": "2023-03-12T05:05:38.874Z"
   },
   {
    "duration": 13,
    "start_time": "2023-03-12T05:05:39.589Z"
   },
   {
    "duration": 82,
    "start_time": "2023-03-12T05:05:39.604Z"
   },
   {
    "duration": 6,
    "start_time": "2023-03-12T05:05:39.688Z"
   },
   {
    "duration": 6,
    "start_time": "2023-03-12T05:05:39.696Z"
   },
   {
    "duration": 12,
    "start_time": "2023-03-12T05:05:39.704Z"
   },
   {
    "duration": 11,
    "start_time": "2023-03-12T05:05:39.717Z"
   },
   {
    "duration": 83,
    "start_time": "2023-03-12T05:05:39.730Z"
   },
   {
    "duration": 125,
    "start_time": "2023-03-12T05:05:39.815Z"
   },
   {
    "duration": 13,
    "start_time": "2023-03-12T05:05:39.942Z"
   },
   {
    "duration": 29,
    "start_time": "2023-03-12T05:05:39.957Z"
   },
   {
    "duration": 57,
    "start_time": "2023-03-12T05:05:39.988Z"
   },
   {
    "duration": 109,
    "start_time": "2023-03-12T05:05:40.047Z"
   },
   {
    "duration": 16,
    "start_time": "2023-03-12T05:05:40.158Z"
   },
   {
    "duration": 39,
    "start_time": "2023-03-12T05:05:40.176Z"
   },
   {
    "duration": 12,
    "start_time": "2023-03-12T05:05:40.217Z"
   },
   {
    "duration": 24,
    "start_time": "2023-03-12T05:05:40.231Z"
   },
   {
    "duration": 23,
    "start_time": "2023-03-12T05:05:40.273Z"
   },
   {
    "duration": 44,
    "start_time": "2023-03-12T05:05:40.298Z"
   },
   {
    "duration": 51771,
    "start_time": "2023-03-12T05:05:40.343Z"
   },
   {
    "duration": 790,
    "start_time": "2023-03-12T05:06:32.116Z"
   },
   {
    "duration": 26,
    "start_time": "2023-03-12T05:06:32.908Z"
   },
   {
    "duration": 28867,
    "start_time": "2023-03-12T05:06:32.935Z"
   },
   {
    "duration": 4,
    "start_time": "2023-03-12T05:07:01.804Z"
   },
   {
    "duration": 44,
    "start_time": "2023-03-12T05:07:01.810Z"
   },
   {
    "duration": 359025,
    "start_time": "2023-03-12T05:07:01.856Z"
   },
   {
    "duration": 499,
    "start_time": "2023-03-12T05:13:00.884Z"
   },
   {
    "duration": 100,
    "start_time": "2023-03-12T05:13:01.475Z"
   },
   {
    "duration": 85325,
    "start_time": "2023-03-12T05:13:01.576Z"
   },
   {
    "duration": 7,
    "start_time": "2023-03-12T05:14:26.974Z"
   },
   {
    "duration": 19304,
    "start_time": "2023-03-12T05:14:27.073Z"
   },
   {
    "duration": 86516,
    "start_time": "2023-03-12T05:14:46.379Z"
   },
   {
    "duration": 7,
    "start_time": "2023-03-12T05:16:12.975Z"
   },
   {
    "duration": 9,
    "start_time": "2023-03-12T05:16:13.073Z"
   },
   {
    "duration": 7,
    "start_time": "2023-03-12T05:16:13.083Z"
   },
   {
    "duration": 1399800,
    "start_time": "2023-03-12T05:16:13.092Z"
   },
   {
    "duration": 1000,
    "start_time": "2023-03-12T05:39:32.895Z"
   },
   {
    "duration": 187,
    "start_time": "2023-03-12T05:39:33.897Z"
   },
   {
    "duration": 0,
    "start_time": "2023-03-12T05:39:34.088Z"
   },
   {
    "duration": 8,
    "start_time": "2023-03-12T06:06:41.296Z"
   },
   {
    "duration": 15,
    "start_time": "2023-03-12T06:07:09.554Z"
   },
   {
    "duration": 10,
    "start_time": "2023-03-12T06:09:55.677Z"
   },
   {
    "duration": 17,
    "start_time": "2023-03-12T06:10:02.205Z"
   },
   {
    "duration": 8,
    "start_time": "2023-03-12T06:10:40.066Z"
   },
   {
    "duration": 5,
    "start_time": "2023-03-12T06:10:43.707Z"
   },
   {
    "duration": 14,
    "start_time": "2023-03-12T06:10:48.893Z"
   },
   {
    "duration": 255446,
    "start_time": "2023-03-12T06:11:23.731Z"
   },
   {
    "duration": 6,
    "start_time": "2023-03-12T06:15:39.182Z"
   },
   {
    "duration": 46795,
    "start_time": "2023-03-12T06:15:39.191Z"
   },
   {
    "duration": 248886,
    "start_time": "2023-03-12T06:16:25.988Z"
   },
   {
    "duration": 97,
    "start_time": "2023-03-12T06:20:34.878Z"
   },
   {
    "duration": 10,
    "start_time": "2023-03-12T06:21:20.099Z"
   },
   {
    "duration": 16,
    "start_time": "2023-03-12T06:21:30.668Z"
   },
   {
    "duration": 4,
    "start_time": "2023-03-12T06:21:43.350Z"
   },
   {
    "duration": 4,
    "start_time": "2023-03-12T06:21:46.467Z"
   },
   {
    "duration": 1411228,
    "start_time": "2023-03-12T06:21:49.574Z"
   },
   {
    "duration": 986,
    "start_time": "2023-03-12T06:45:20.804Z"
   },
   {
    "duration": 7,
    "start_time": "2023-03-12T06:45:21.802Z"
   },
   {
    "duration": 71,
    "start_time": "2023-03-12T06:45:21.810Z"
   },
   {
    "duration": 11,
    "start_time": "2023-03-12T06:50:54.519Z"
   },
   {
    "duration": 4,
    "start_time": "2023-03-12T06:51:06.719Z"
   },
   {
    "duration": 13,
    "start_time": "2023-03-12T06:51:15.993Z"
   },
   {
    "duration": 12,
    "start_time": "2023-03-12T06:52:42.970Z"
   },
   {
    "duration": 14,
    "start_time": "2023-03-12T06:53:51.421Z"
   },
   {
    "duration": 5,
    "start_time": "2023-03-12T06:54:19.531Z"
   },
   {
    "duration": 20,
    "start_time": "2023-03-12T06:57:59.302Z"
   },
   {
    "duration": 849,
    "start_time": "2023-03-12T06:58:05.674Z"
   },
   {
    "duration": 19,
    "start_time": "2023-03-12T06:58:12.854Z"
   },
   {
    "duration": 1309,
    "start_time": "2023-03-12T06:58:26.913Z"
   },
   {
    "duration": 19,
    "start_time": "2023-03-12T06:58:32.627Z"
   },
   {
    "duration": 14,
    "start_time": "2023-03-12T06:58:44.421Z"
   },
   {
    "duration": 62,
    "start_time": "2023-03-12T06:58:49.540Z"
   },
   {
    "duration": 13,
    "start_time": "2023-03-12T06:58:55.213Z"
   },
   {
    "duration": 721,
    "start_time": "2023-03-12T06:59:05.576Z"
   },
   {
    "duration": 25,
    "start_time": "2023-03-12T06:59:10.504Z"
   },
   {
    "duration": 698,
    "start_time": "2023-03-12T06:59:19.579Z"
   },
   {
    "duration": 5,
    "start_time": "2023-03-12T06:59:54.473Z"
   },
   {
    "duration": 49,
    "start_time": "2023-03-12T07:00:52.109Z"
   },
   {
    "duration": 4,
    "start_time": "2023-03-12T07:01:00.919Z"
   },
   {
    "duration": 48,
    "start_time": "2023-03-12T07:01:24.055Z"
   },
   {
    "duration": 5,
    "start_time": "2023-03-12T07:04:18.034Z"
   },
   {
    "duration": 4,
    "start_time": "2023-03-12T07:04:23.509Z"
   },
   {
    "duration": 4,
    "start_time": "2023-03-12T07:04:25.628Z"
   },
   {
    "duration": 11,
    "start_time": "2023-03-12T07:04:40.806Z"
   },
   {
    "duration": 17,
    "start_time": "2023-03-12T07:05:29.995Z"
   },
   {
    "duration": 22,
    "start_time": "2023-03-12T07:09:01.712Z"
   },
   {
    "duration": 5,
    "start_time": "2023-03-12T07:09:40.541Z"
   },
   {
    "duration": 20,
    "start_time": "2023-03-12T07:09:43.357Z"
   },
   {
    "duration": 4,
    "start_time": "2023-03-12T07:09:53.200Z"
   },
   {
    "duration": 10,
    "start_time": "2023-03-12T07:13:41.029Z"
   },
   {
    "duration": 5,
    "start_time": "2023-03-12T07:16:23.619Z"
   },
   {
    "duration": 11,
    "start_time": "2023-03-12T07:16:29.498Z"
   },
   {
    "duration": 12,
    "start_time": "2023-03-12T07:19:01.816Z"
   },
   {
    "duration": 14,
    "start_time": "2023-03-12T07:19:22.536Z"
   },
   {
    "duration": 17,
    "start_time": "2023-03-12T07:19:34.103Z"
   },
   {
    "duration": 2899,
    "start_time": "2023-03-12T16:50:02.657Z"
   },
   {
    "duration": 2164,
    "start_time": "2023-03-12T16:50:05.559Z"
   },
   {
    "duration": 3,
    "start_time": "2023-03-12T16:50:07.724Z"
   },
   {
    "duration": 12,
    "start_time": "2023-03-12T16:50:07.729Z"
   },
   {
    "duration": 11,
    "start_time": "2023-03-12T16:50:07.743Z"
   },
   {
    "duration": 6,
    "start_time": "2023-03-12T16:50:07.757Z"
   },
   {
    "duration": 30,
    "start_time": "2023-03-12T16:50:07.765Z"
   },
   {
    "duration": 6,
    "start_time": "2023-03-12T16:50:07.797Z"
   },
   {
    "duration": 1250,
    "start_time": "2023-03-12T16:50:07.805Z"
   },
   {
    "duration": 6,
    "start_time": "2023-03-12T16:50:09.056Z"
   },
   {
    "duration": 167,
    "start_time": "2023-03-12T16:50:09.074Z"
   },
   {
    "duration": 33,
    "start_time": "2023-03-12T16:50:09.244Z"
   },
   {
    "duration": 6,
    "start_time": "2023-03-12T16:50:09.279Z"
   },
   {
    "duration": 168,
    "start_time": "2023-03-12T16:50:09.288Z"
   },
   {
    "duration": 157,
    "start_time": "2023-03-12T16:50:09.458Z"
   },
   {
    "duration": 10,
    "start_time": "2023-03-12T16:50:09.617Z"
   },
   {
    "duration": 369,
    "start_time": "2023-03-12T16:50:09.629Z"
   },
   {
    "duration": 45,
    "start_time": "2023-03-12T16:50:09.999Z"
   },
   {
    "duration": 45,
    "start_time": "2023-03-12T16:50:10.066Z"
   },
   {
    "duration": 35,
    "start_time": "2023-03-12T16:50:10.112Z"
   },
   {
    "duration": 38,
    "start_time": "2023-03-12T16:50:10.149Z"
   },
   {
    "duration": 10,
    "start_time": "2023-03-12T16:50:10.189Z"
   },
   {
    "duration": 5,
    "start_time": "2023-03-12T16:50:10.200Z"
   },
   {
    "duration": 35,
    "start_time": "2023-03-12T16:50:10.207Z"
   },
   {
    "duration": 26,
    "start_time": "2023-03-12T16:50:10.263Z"
   },
   {
    "duration": 9,
    "start_time": "2023-03-12T16:50:10.291Z"
   },
   {
    "duration": 43,
    "start_time": "2023-03-12T16:50:10.302Z"
   },
   {
    "duration": 22,
    "start_time": "2023-03-12T16:50:10.367Z"
   },
   {
    "duration": 10,
    "start_time": "2023-03-12T16:50:10.391Z"
   },
   {
    "duration": 9,
    "start_time": "2023-03-12T16:50:10.403Z"
   },
   {
    "duration": 507,
    "start_time": "2023-03-12T16:50:10.413Z"
   },
   {
    "duration": 4,
    "start_time": "2023-03-12T16:50:10.922Z"
   },
   {
    "duration": 209,
    "start_time": "2023-03-12T16:50:10.927Z"
   },
   {
    "duration": 13,
    "start_time": "2023-03-12T16:50:11.138Z"
   },
   {
    "duration": 87,
    "start_time": "2023-03-12T16:50:11.153Z"
   },
   {
    "duration": 4,
    "start_time": "2023-03-12T16:50:11.242Z"
   },
   {
    "duration": 16,
    "start_time": "2023-03-12T16:50:11.248Z"
   },
   {
    "duration": 18,
    "start_time": "2023-03-12T16:50:11.267Z"
   },
   {
    "duration": 8,
    "start_time": "2023-03-12T16:50:11.288Z"
   },
   {
    "duration": 6,
    "start_time": "2023-03-12T16:50:11.298Z"
   },
   {
    "duration": 8,
    "start_time": "2023-03-12T16:50:11.310Z"
   },
   {
    "duration": 96,
    "start_time": "2023-03-12T16:50:11.320Z"
   },
   {
    "duration": 15,
    "start_time": "2023-03-12T16:50:11.418Z"
   },
   {
    "duration": 42,
    "start_time": "2023-03-12T16:50:11.435Z"
   },
   {
    "duration": 17,
    "start_time": "2023-03-12T16:50:11.480Z"
   },
   {
    "duration": 120,
    "start_time": "2023-03-12T16:50:11.500Z"
   },
   {
    "duration": 123,
    "start_time": "2023-03-12T16:50:11.622Z"
   },
   {
    "duration": 4,
    "start_time": "2023-03-12T16:50:11.747Z"
   },
   {
    "duration": 38,
    "start_time": "2023-03-12T16:50:11.753Z"
   },
   {
    "duration": 26,
    "start_time": "2023-03-12T16:50:11.793Z"
   },
   {
    "duration": 120,
    "start_time": "2023-03-12T16:50:11.820Z"
   },
   {
    "duration": 33,
    "start_time": "2023-03-12T16:50:11.942Z"
   },
   {
    "duration": 21,
    "start_time": "2023-03-12T16:50:11.976Z"
   },
   {
    "duration": 105,
    "start_time": "2023-03-12T16:50:11.999Z"
   },
   {
    "duration": 13,
    "start_time": "2023-03-12T16:50:12.105Z"
   },
   {
    "duration": 12,
    "start_time": "2023-03-12T16:50:12.120Z"
   },
   {
    "duration": 46,
    "start_time": "2023-03-12T16:50:12.133Z"
   },
   {
    "duration": 420,
    "start_time": "2023-03-12T16:50:12.181Z"
   },
   {
    "duration": 23,
    "start_time": "2023-03-12T16:50:12.603Z"
   },
   {
    "duration": 26,
    "start_time": "2023-03-12T16:50:12.628Z"
   },
   {
    "duration": 30,
    "start_time": "2023-03-12T16:50:12.664Z"
   },
   {
    "duration": 445,
    "start_time": "2023-03-12T16:50:12.695Z"
   },
   {
    "duration": 32,
    "start_time": "2023-03-12T16:50:13.142Z"
   },
   {
    "duration": 49,
    "start_time": "2023-03-12T16:50:13.176Z"
   },
   {
    "duration": 48,
    "start_time": "2023-03-12T16:50:13.227Z"
   },
   {
    "duration": 251,
    "start_time": "2023-03-12T16:50:13.277Z"
   },
   {
    "duration": 16,
    "start_time": "2023-03-12T16:50:13.530Z"
   },
   {
    "duration": 66,
    "start_time": "2023-03-12T16:50:13.548Z"
   },
   {
    "duration": 32,
    "start_time": "2023-03-12T16:50:13.615Z"
   },
   {
    "duration": 34,
    "start_time": "2023-03-12T16:50:13.648Z"
   },
   {
    "duration": 9,
    "start_time": "2023-03-12T16:50:13.684Z"
   },
   {
    "duration": 15,
    "start_time": "2023-03-12T16:50:13.695Z"
   },
   {
    "duration": 19,
    "start_time": "2023-03-12T16:50:13.712Z"
   },
   {
    "duration": 58,
    "start_time": "2023-03-12T16:50:13.733Z"
   },
   {
    "duration": 30,
    "start_time": "2023-03-12T16:50:13.793Z"
   },
   {
    "duration": 56,
    "start_time": "2023-03-12T16:50:13.825Z"
   },
   {
    "duration": 31,
    "start_time": "2023-03-12T16:50:13.883Z"
   },
   {
    "duration": 19,
    "start_time": "2023-03-12T16:50:13.916Z"
   },
   {
    "duration": 143,
    "start_time": "2023-03-12T16:50:13.937Z"
   },
   {
    "duration": 10,
    "start_time": "2023-03-12T16:50:14.082Z"
   },
   {
    "duration": 303,
    "start_time": "2023-03-12T16:50:14.094Z"
   },
   {
    "duration": 754,
    "start_time": "2023-03-12T16:50:14.399Z"
   },
   {
    "duration": 14,
    "start_time": "2023-03-12T16:50:15.154Z"
   },
   {
    "duration": 79,
    "start_time": "2023-03-12T16:50:15.171Z"
   },
   {
    "duration": 32,
    "start_time": "2023-03-12T16:50:15.252Z"
   },
   {
    "duration": 14,
    "start_time": "2023-03-12T16:50:15.285Z"
   },
   {
    "duration": 15,
    "start_time": "2023-03-12T16:50:15.301Z"
   },
   {
    "duration": 12,
    "start_time": "2023-03-12T16:50:15.318Z"
   },
   {
    "duration": 64,
    "start_time": "2023-03-12T16:50:15.331Z"
   },
   {
    "duration": 117,
    "start_time": "2023-03-12T16:50:15.396Z"
   },
   {
    "duration": 13,
    "start_time": "2023-03-12T16:50:15.515Z"
   },
   {
    "duration": 22,
    "start_time": "2023-03-12T16:50:15.530Z"
   },
   {
    "duration": 54,
    "start_time": "2023-03-12T16:50:15.564Z"
   },
   {
    "duration": 105,
    "start_time": "2023-03-12T16:50:15.620Z"
   },
   {
    "duration": 126,
    "start_time": "2023-03-12T16:50:15.727Z"
   },
   {
    "duration": 0,
    "start_time": "2023-03-12T16:50:15.854Z"
   },
   {
    "duration": 0,
    "start_time": "2023-03-12T16:50:15.856Z"
   },
   {
    "duration": 0,
    "start_time": "2023-03-12T16:50:15.857Z"
   },
   {
    "duration": 0,
    "start_time": "2023-03-12T16:50:15.858Z"
   },
   {
    "duration": 0,
    "start_time": "2023-03-12T16:50:15.859Z"
   },
   {
    "duration": 0,
    "start_time": "2023-03-12T16:50:15.860Z"
   },
   {
    "duration": 0,
    "start_time": "2023-03-12T16:50:15.861Z"
   },
   {
    "duration": 0,
    "start_time": "2023-03-12T16:50:15.865Z"
   },
   {
    "duration": 0,
    "start_time": "2023-03-12T16:50:15.866Z"
   },
   {
    "duration": 0,
    "start_time": "2023-03-12T16:50:15.867Z"
   },
   {
    "duration": 0,
    "start_time": "2023-03-12T16:50:15.867Z"
   },
   {
    "duration": 0,
    "start_time": "2023-03-12T16:50:15.868Z"
   },
   {
    "duration": 0,
    "start_time": "2023-03-12T16:50:15.869Z"
   },
   {
    "duration": 4,
    "start_time": "2023-03-12T16:50:39.244Z"
   },
   {
    "duration": 5,
    "start_time": "2023-03-12T16:50:39.985Z"
   },
   {
    "duration": 23,
    "start_time": "2023-03-12T16:50:42.483Z"
   },
   {
    "duration": 11,
    "start_time": "2023-03-12T16:50:43.186Z"
   },
   {
    "duration": 22,
    "start_time": "2023-03-12T16:50:43.799Z"
   },
   {
    "duration": 24,
    "start_time": "2023-03-12T16:50:44.755Z"
   },
   {
    "duration": 59,
    "start_time": "2023-03-12T16:50:44.953Z"
   },
   {
    "duration": 129,
    "start_time": "2023-03-12T16:50:55.486Z"
   },
   {
    "duration": 2781,
    "start_time": "2023-03-12T16:51:14.105Z"
   },
   {
    "duration": 1964,
    "start_time": "2023-03-12T16:51:16.889Z"
   },
   {
    "duration": 3,
    "start_time": "2023-03-12T16:51:18.854Z"
   },
   {
    "duration": 13,
    "start_time": "2023-03-12T16:51:18.858Z"
   },
   {
    "duration": 14,
    "start_time": "2023-03-12T16:51:18.873Z"
   },
   {
    "duration": 14,
    "start_time": "2023-03-12T16:51:18.889Z"
   },
   {
    "duration": 12,
    "start_time": "2023-03-12T16:51:18.905Z"
   },
   {
    "duration": 9,
    "start_time": "2023-03-12T16:51:18.919Z"
   },
   {
    "duration": 1130,
    "start_time": "2023-03-12T16:51:18.930Z"
   },
   {
    "duration": 6,
    "start_time": "2023-03-12T16:51:20.062Z"
   },
   {
    "duration": 155,
    "start_time": "2023-03-12T16:51:20.070Z"
   },
   {
    "duration": 17,
    "start_time": "2023-03-12T16:51:20.228Z"
   },
   {
    "duration": 19,
    "start_time": "2023-03-12T16:51:20.247Z"
   },
   {
    "duration": 116,
    "start_time": "2023-03-12T16:51:20.269Z"
   },
   {
    "duration": 153,
    "start_time": "2023-03-12T16:51:20.387Z"
   },
   {
    "duration": 10,
    "start_time": "2023-03-12T16:51:20.543Z"
   },
   {
    "duration": 328,
    "start_time": "2023-03-12T16:51:20.564Z"
   },
   {
    "duration": 38,
    "start_time": "2023-03-12T16:51:20.894Z"
   },
   {
    "duration": 53,
    "start_time": "2023-03-12T16:51:20.934Z"
   },
   {
    "duration": 40,
    "start_time": "2023-03-12T16:51:20.988Z"
   },
   {
    "duration": 39,
    "start_time": "2023-03-12T16:51:21.030Z"
   },
   {
    "duration": 8,
    "start_time": "2023-03-12T16:51:21.071Z"
   },
   {
    "duration": 5,
    "start_time": "2023-03-12T16:51:21.081Z"
   },
   {
    "duration": 45,
    "start_time": "2023-03-12T16:51:21.088Z"
   },
   {
    "duration": 44,
    "start_time": "2023-03-12T16:51:21.135Z"
   },
   {
    "duration": 10,
    "start_time": "2023-03-12T16:51:21.181Z"
   },
   {
    "duration": 36,
    "start_time": "2023-03-12T16:51:21.193Z"
   },
   {
    "duration": 46,
    "start_time": "2023-03-12T16:51:21.230Z"
   },
   {
    "duration": 16,
    "start_time": "2023-03-12T16:51:21.278Z"
   },
   {
    "duration": 10,
    "start_time": "2023-03-12T16:51:21.296Z"
   },
   {
    "duration": 548,
    "start_time": "2023-03-12T16:51:21.308Z"
   },
   {
    "duration": 7,
    "start_time": "2023-03-12T16:51:21.859Z"
   },
   {
    "duration": 235,
    "start_time": "2023-03-12T16:51:21.869Z"
   },
   {
    "duration": 16,
    "start_time": "2023-03-12T16:51:22.106Z"
   },
   {
    "duration": 87,
    "start_time": "2023-03-12T16:51:22.124Z"
   },
   {
    "duration": 4,
    "start_time": "2023-03-12T16:51:22.213Z"
   },
   {
    "duration": 8,
    "start_time": "2023-03-12T16:51:22.219Z"
   },
   {
    "duration": 8,
    "start_time": "2023-03-12T16:51:22.229Z"
   },
   {
    "duration": 27,
    "start_time": "2023-03-12T16:51:22.239Z"
   },
   {
    "duration": 5,
    "start_time": "2023-03-12T16:51:22.268Z"
   },
   {
    "duration": 12,
    "start_time": "2023-03-12T16:51:22.278Z"
   },
   {
    "duration": 80,
    "start_time": "2023-03-12T16:51:22.293Z"
   },
   {
    "duration": 13,
    "start_time": "2023-03-12T16:51:22.375Z"
   },
   {
    "duration": 23,
    "start_time": "2023-03-12T16:51:22.390Z"
   },
   {
    "duration": 14,
    "start_time": "2023-03-12T16:51:22.415Z"
   },
   {
    "duration": 126,
    "start_time": "2023-03-12T16:51:22.431Z"
   },
   {
    "duration": 127,
    "start_time": "2023-03-12T16:51:22.559Z"
   },
   {
    "duration": 4,
    "start_time": "2023-03-12T16:51:22.688Z"
   },
   {
    "duration": 32,
    "start_time": "2023-03-12T16:51:22.694Z"
   },
   {
    "duration": 39,
    "start_time": "2023-03-12T16:51:22.727Z"
   },
   {
    "duration": 99,
    "start_time": "2023-03-12T16:51:22.768Z"
   },
   {
    "duration": 27,
    "start_time": "2023-03-12T16:51:22.869Z"
   },
   {
    "duration": 19,
    "start_time": "2023-03-12T16:51:22.898Z"
   },
   {
    "duration": 108,
    "start_time": "2023-03-12T16:51:22.919Z"
   },
   {
    "duration": 11,
    "start_time": "2023-03-12T16:51:23.029Z"
   },
   {
    "duration": 23,
    "start_time": "2023-03-12T16:51:23.041Z"
   },
   {
    "duration": 22,
    "start_time": "2023-03-12T16:51:23.066Z"
   },
   {
    "duration": 425,
    "start_time": "2023-03-12T16:51:23.089Z"
   },
   {
    "duration": 20,
    "start_time": "2023-03-12T16:51:23.516Z"
   },
   {
    "duration": 32,
    "start_time": "2023-03-12T16:51:23.537Z"
   },
   {
    "duration": 21,
    "start_time": "2023-03-12T16:51:23.571Z"
   },
   {
    "duration": 421,
    "start_time": "2023-03-12T16:51:23.595Z"
   },
   {
    "duration": 19,
    "start_time": "2023-03-12T16:51:24.018Z"
   },
   {
    "duration": 46,
    "start_time": "2023-03-12T16:51:24.039Z"
   },
   {
    "duration": 30,
    "start_time": "2023-03-12T16:51:24.087Z"
   },
   {
    "duration": 288,
    "start_time": "2023-03-12T16:51:24.119Z"
   },
   {
    "duration": 18,
    "start_time": "2023-03-12T16:51:24.408Z"
   },
   {
    "duration": 75,
    "start_time": "2023-03-12T16:51:24.429Z"
   },
   {
    "duration": 37,
    "start_time": "2023-03-12T16:51:24.507Z"
   },
   {
    "duration": 7,
    "start_time": "2023-03-12T16:51:24.563Z"
   },
   {
    "duration": 15,
    "start_time": "2023-03-12T16:51:24.572Z"
   },
   {
    "duration": 31,
    "start_time": "2023-03-12T16:51:24.588Z"
   },
   {
    "duration": 30,
    "start_time": "2023-03-12T16:51:24.621Z"
   },
   {
    "duration": 49,
    "start_time": "2023-03-12T16:51:24.654Z"
   },
   {
    "duration": 43,
    "start_time": "2023-03-12T16:51:24.705Z"
   },
   {
    "duration": 49,
    "start_time": "2023-03-12T16:51:24.750Z"
   },
   {
    "duration": 28,
    "start_time": "2023-03-12T16:51:24.800Z"
   },
   {
    "duration": 17,
    "start_time": "2023-03-12T16:51:24.830Z"
   },
   {
    "duration": 121,
    "start_time": "2023-03-12T16:51:24.849Z"
   },
   {
    "duration": 10,
    "start_time": "2023-03-12T16:51:24.972Z"
   },
   {
    "duration": 313,
    "start_time": "2023-03-12T16:51:24.984Z"
   },
   {
    "duration": 655,
    "start_time": "2023-03-12T16:51:25.299Z"
   },
   {
    "duration": 21,
    "start_time": "2023-03-12T16:51:25.956Z"
   },
   {
    "duration": 115,
    "start_time": "2023-03-12T16:51:25.978Z"
   },
   {
    "duration": 4,
    "start_time": "2023-03-12T16:51:26.095Z"
   },
   {
    "duration": 9,
    "start_time": "2023-03-12T16:51:26.101Z"
   },
   {
    "duration": 11,
    "start_time": "2023-03-12T16:51:26.112Z"
   },
   {
    "duration": 6,
    "start_time": "2023-03-12T16:51:26.125Z"
   },
   {
    "duration": 76,
    "start_time": "2023-03-12T16:51:26.132Z"
   },
   {
    "duration": 122,
    "start_time": "2023-03-12T16:51:26.210Z"
   },
   {
    "duration": 14,
    "start_time": "2023-03-12T16:51:26.334Z"
   },
   {
    "duration": 35,
    "start_time": "2023-03-12T16:51:26.350Z"
   },
   {
    "duration": 55,
    "start_time": "2023-03-12T16:51:26.387Z"
   },
   {
    "duration": 106,
    "start_time": "2023-03-12T16:51:26.444Z"
   },
   {
    "duration": 4,
    "start_time": "2023-03-12T16:51:26.552Z"
   },
   {
    "duration": 5,
    "start_time": "2023-03-12T16:51:26.564Z"
   },
   {
    "duration": 25,
    "start_time": "2023-03-12T16:51:26.570Z"
   },
   {
    "duration": 14,
    "start_time": "2023-03-12T16:51:26.598Z"
   },
   {
    "duration": 50,
    "start_time": "2023-03-12T16:51:26.614Z"
   },
   {
    "duration": 22,
    "start_time": "2023-03-12T16:51:26.666Z"
   },
   {
    "duration": 57,
    "start_time": "2023-03-12T16:51:26.689Z"
   },
   {
    "duration": 53,
    "start_time": "2023-03-12T16:51:51.602Z"
   },
   {
    "duration": 2730,
    "start_time": "2023-03-12T16:51:56.105Z"
   },
   {
    "duration": 3090,
    "start_time": "2023-03-12T16:51:58.838Z"
   },
   {
    "duration": 2,
    "start_time": "2023-03-12T16:52:01.930Z"
   },
   {
    "duration": 11,
    "start_time": "2023-03-12T16:52:01.934Z"
   },
   {
    "duration": 19,
    "start_time": "2023-03-12T16:52:01.947Z"
   },
   {
    "duration": 17,
    "start_time": "2023-03-12T16:52:01.967Z"
   },
   {
    "duration": 30,
    "start_time": "2023-03-12T16:52:01.986Z"
   },
   {
    "duration": 23,
    "start_time": "2023-03-12T16:52:02.018Z"
   },
   {
    "duration": 1137,
    "start_time": "2023-03-12T16:52:02.043Z"
   },
   {
    "duration": 6,
    "start_time": "2023-03-12T16:52:03.182Z"
   },
   {
    "duration": 146,
    "start_time": "2023-03-12T16:52:03.190Z"
   },
   {
    "duration": 17,
    "start_time": "2023-03-12T16:52:03.338Z"
   },
   {
    "duration": 4,
    "start_time": "2023-03-12T16:52:03.363Z"
   },
   {
    "duration": 112,
    "start_time": "2023-03-12T16:52:03.369Z"
   },
   {
    "duration": 155,
    "start_time": "2023-03-12T16:52:03.483Z"
   },
   {
    "duration": 11,
    "start_time": "2023-03-12T16:52:03.640Z"
   },
   {
    "duration": 338,
    "start_time": "2023-03-12T16:52:03.652Z"
   },
   {
    "duration": 44,
    "start_time": "2023-03-12T16:52:03.992Z"
   },
   {
    "duration": 55,
    "start_time": "2023-03-12T16:52:04.039Z"
   },
   {
    "duration": 38,
    "start_time": "2023-03-12T16:52:04.095Z"
   },
   {
    "duration": 40,
    "start_time": "2023-03-12T16:52:04.135Z"
   },
   {
    "duration": 10,
    "start_time": "2023-03-12T16:52:04.177Z"
   },
   {
    "duration": 6,
    "start_time": "2023-03-12T16:52:04.189Z"
   },
   {
    "duration": 72,
    "start_time": "2023-03-12T16:52:04.197Z"
   },
   {
    "duration": 34,
    "start_time": "2023-03-12T16:52:04.271Z"
   },
   {
    "duration": 13,
    "start_time": "2023-03-12T16:52:04.306Z"
   },
   {
    "duration": 62,
    "start_time": "2023-03-12T16:52:04.321Z"
   },
   {
    "duration": 19,
    "start_time": "2023-03-12T16:52:04.388Z"
   },
   {
    "duration": 17,
    "start_time": "2023-03-12T16:52:04.409Z"
   },
   {
    "duration": 9,
    "start_time": "2023-03-12T16:52:04.429Z"
   },
   {
    "duration": 553,
    "start_time": "2023-03-12T16:52:04.440Z"
   },
   {
    "duration": 4,
    "start_time": "2023-03-12T16:52:04.995Z"
   },
   {
    "duration": 209,
    "start_time": "2023-03-12T16:52:05.001Z"
   },
   {
    "duration": 15,
    "start_time": "2023-03-12T16:52:05.212Z"
   },
   {
    "duration": 87,
    "start_time": "2023-03-12T16:52:05.229Z"
   },
   {
    "duration": 4,
    "start_time": "2023-03-12T16:52:05.318Z"
   },
   {
    "duration": 6,
    "start_time": "2023-03-12T16:52:05.323Z"
   },
   {
    "duration": 6,
    "start_time": "2023-03-12T16:52:05.331Z"
   },
   {
    "duration": 25,
    "start_time": "2023-03-12T16:52:05.339Z"
   },
   {
    "duration": 4,
    "start_time": "2023-03-12T16:52:05.366Z"
   },
   {
    "duration": 11,
    "start_time": "2023-03-12T16:52:05.371Z"
   },
   {
    "duration": 81,
    "start_time": "2023-03-12T16:52:05.383Z"
   },
   {
    "duration": 13,
    "start_time": "2023-03-12T16:52:05.466Z"
   },
   {
    "duration": 29,
    "start_time": "2023-03-12T16:52:05.480Z"
   },
   {
    "duration": 12,
    "start_time": "2023-03-12T16:52:05.511Z"
   },
   {
    "duration": 115,
    "start_time": "2023-03-12T16:52:05.525Z"
   },
   {
    "duration": 113,
    "start_time": "2023-03-12T16:52:05.642Z"
   },
   {
    "duration": 4,
    "start_time": "2023-03-12T16:52:05.763Z"
   },
   {
    "duration": 53,
    "start_time": "2023-03-12T16:52:05.770Z"
   },
   {
    "duration": 45,
    "start_time": "2023-03-12T16:52:05.825Z"
   },
   {
    "duration": 89,
    "start_time": "2023-03-12T16:52:05.872Z"
   },
   {
    "duration": 30,
    "start_time": "2023-03-12T16:52:05.963Z"
   },
   {
    "duration": 19,
    "start_time": "2023-03-12T16:52:05.994Z"
   },
   {
    "duration": 102,
    "start_time": "2023-03-12T16:52:06.014Z"
   },
   {
    "duration": 11,
    "start_time": "2023-03-12T16:52:06.118Z"
   },
   {
    "duration": 12,
    "start_time": "2023-03-12T16:52:06.130Z"
   },
   {
    "duration": 35,
    "start_time": "2023-03-12T16:52:06.144Z"
   },
   {
    "duration": 395,
    "start_time": "2023-03-12T16:52:06.181Z"
   },
   {
    "duration": 20,
    "start_time": "2023-03-12T16:52:06.578Z"
   },
   {
    "duration": 20,
    "start_time": "2023-03-12T16:52:06.600Z"
   },
   {
    "duration": 42,
    "start_time": "2023-03-12T16:52:06.622Z"
   },
   {
    "duration": 421,
    "start_time": "2023-03-12T16:52:06.667Z"
   },
   {
    "duration": 18,
    "start_time": "2023-03-12T16:52:07.089Z"
   },
   {
    "duration": 34,
    "start_time": "2023-03-12T16:52:07.109Z"
   },
   {
    "duration": 42,
    "start_time": "2023-03-12T16:52:07.144Z"
   },
   {
    "duration": 261,
    "start_time": "2023-03-12T16:52:07.188Z"
   },
   {
    "duration": 20,
    "start_time": "2023-03-12T16:52:07.450Z"
   },
   {
    "duration": 47,
    "start_time": "2023-03-12T16:52:07.471Z"
   },
   {
    "duration": 44,
    "start_time": "2023-03-12T16:52:07.520Z"
   },
   {
    "duration": 5,
    "start_time": "2023-03-12T16:52:07.566Z"
   },
   {
    "duration": 11,
    "start_time": "2023-03-12T16:52:07.572Z"
   },
   {
    "duration": 15,
    "start_time": "2023-03-12T16:52:07.584Z"
   },
   {
    "duration": 17,
    "start_time": "2023-03-12T16:52:07.601Z"
   },
   {
    "duration": 69,
    "start_time": "2023-03-12T16:52:07.620Z"
   },
   {
    "duration": 31,
    "start_time": "2023-03-12T16:52:07.690Z"
   },
   {
    "duration": 42,
    "start_time": "2023-03-12T16:52:07.722Z"
   },
   {
    "duration": 27,
    "start_time": "2023-03-12T16:52:07.766Z"
   },
   {
    "duration": 18,
    "start_time": "2023-03-12T16:52:07.795Z"
   },
   {
    "duration": 113,
    "start_time": "2023-03-12T16:52:07.814Z"
   },
   {
    "duration": 9,
    "start_time": "2023-03-12T16:52:07.929Z"
   },
   {
    "duration": 281,
    "start_time": "2023-03-12T16:52:07.939Z"
   },
   {
    "duration": 629,
    "start_time": "2023-03-12T16:52:08.226Z"
   },
   {
    "duration": 17,
    "start_time": "2023-03-12T16:52:08.857Z"
   },
   {
    "duration": 67,
    "start_time": "2023-03-12T16:52:08.876Z"
   },
   {
    "duration": 5,
    "start_time": "2023-03-12T16:52:08.945Z"
   },
   {
    "duration": 5,
    "start_time": "2023-03-12T16:52:08.965Z"
   },
   {
    "duration": 10,
    "start_time": "2023-03-12T16:52:08.972Z"
   },
   {
    "duration": 7,
    "start_time": "2023-03-12T16:52:08.984Z"
   },
   {
    "duration": 54,
    "start_time": "2023-03-12T16:52:08.992Z"
   },
   {
    "duration": 113,
    "start_time": "2023-03-12T16:52:09.065Z"
   },
   {
    "duration": 12,
    "start_time": "2023-03-12T16:52:09.179Z"
   },
   {
    "duration": 32,
    "start_time": "2023-03-12T16:52:09.193Z"
   },
   {
    "duration": 68,
    "start_time": "2023-03-12T16:52:09.227Z"
   },
   {
    "duration": 93,
    "start_time": "2023-03-12T16:52:09.298Z"
   },
   {
    "duration": 5,
    "start_time": "2023-03-12T16:52:09.394Z"
   },
   {
    "duration": 24,
    "start_time": "2023-03-12T16:52:09.401Z"
   },
   {
    "duration": 28,
    "start_time": "2023-03-12T16:52:09.427Z"
   },
   {
    "duration": 15,
    "start_time": "2023-03-12T16:52:09.457Z"
   },
   {
    "duration": 45,
    "start_time": "2023-03-12T16:52:09.474Z"
   },
   {
    "duration": 21,
    "start_time": "2023-03-12T16:52:09.521Z"
   },
   {
    "duration": 44,
    "start_time": "2023-03-12T16:52:09.544Z"
   },
   {
    "duration": 17,
    "start_time": "2023-03-12T16:52:38.500Z"
   },
   {
    "duration": 7,
    "start_time": "2023-03-12T16:52:39.670Z"
   },
   {
    "duration": 78,
    "start_time": "2023-03-12T16:52:41.101Z"
   },
   {
    "duration": 17,
    "start_time": "2023-03-12T16:52:45.195Z"
   },
   {
    "duration": 26,
    "start_time": "2023-03-12T16:52:46.051Z"
   },
   {
    "duration": 14557,
    "start_time": "2023-03-12T16:52:46.998Z"
   }
  ],
  "kernelspec": {
   "display_name": "Python 3 (ipykernel)",
   "language": "python",
   "name": "python3"
  },
  "language_info": {
   "codemirror_mode": {
    "name": "ipython",
    "version": 3
   },
   "file_extension": ".py",
   "mimetype": "text/x-python",
   "name": "python",
   "nbconvert_exporter": "python",
   "pygments_lexer": "ipython3",
   "version": "3.9.5"
  },
  "toc": {
   "base_numbering": 1,
   "nav_menu": {},
   "number_sections": true,
   "sideBar": true,
   "skip_h1_title": true,
   "title_cell": "Table of Contents",
   "title_sidebar": "Contents",
   "toc_cell": false,
   "toc_position": {
    "height": "calc(100% - 180px)",
    "left": "10px",
    "top": "150px",
    "width": "269.594px"
   },
   "toc_section_display": true,
   "toc_window_display": true
  }
 },
 "nbformat": 4,
 "nbformat_minor": 2
}
